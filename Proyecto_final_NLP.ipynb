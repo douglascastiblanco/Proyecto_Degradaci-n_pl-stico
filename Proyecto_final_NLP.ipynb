{
  "cells": [
    {
      "cell_type": "markdown",
      "id": "3ee26a2f",
      "metadata": {
        "id": "3ee26a2f"
      },
      "source": [
        "# Proyecto final NLP: Clasificación de proteínas que degradan plástico.\n",
        "\n"
      ]
    },
    {
      "cell_type": "code",
      "source": [
        "#cargar el drive para el uso de los archivos de datos y utils\n",
        "from google.colab import drive\n",
        "drive.mount('/content/drive')"
      ],
      "metadata": {
        "colab": {
          "base_uri": "https://localhost:8080/"
        },
        "id": "tsoy32c_WVY0",
        "outputId": "7f7c1f41-09ad-4c25-a4fa-00c3516702cc"
      },
      "id": "tsoy32c_WVY0",
      "execution_count": 24,
      "outputs": [
        {
          "output_type": "stream",
          "name": "stdout",
          "text": [
            "Mounted at /content/drive\n"
          ]
        }
      ]
    },
    {
      "cell_type": "code",
      "source": [
        "#importar el archivo utils\n",
        "!cp \"/content/drive/MyDrive/Colab_Notebooks/Taller2_NPL/utils2.py\" ."
      ],
      "metadata": {
        "id": "XEYgplmrW0Dn"
      },
      "id": "XEYgplmrW0Dn",
      "execution_count": 25,
      "outputs": []
    },
    {
      "cell_type": "code",
      "execution_count": 26,
      "id": "3572cdbc",
      "metadata": {
        "colab": {
          "base_uri": "https://localhost:8080/"
        },
        "id": "3572cdbc",
        "outputId": "2abdf148-d0f4-4199-f026-cef56e688789"
      },
      "outputs": [
        {
          "output_type": "stream",
          "name": "stderr",
          "text": [
            "[nltk_data] Downloading package punkt to /root/nltk_data...\n",
            "[nltk_data]   Unzipping tokenizers/punkt.zip.\n"
          ]
        },
        {
          "output_type": "execute_result",
          "data": {
            "text/plain": [
              "True"
            ]
          },
          "metadata": {},
          "execution_count": 26
        }
      ],
      "source": [
        "# Import Python libraries and helper functions (in utils2) \n",
        "import nltk\n",
        "import pandas as pd\n",
        "from nltk.tokenize import word_tokenize\n",
        "import numpy as np\n",
        "from collections import Counter\n",
        "from utils2 import sigmoid, get_batches, compute_pca, get_dict\n",
        "from matplotlib import pyplot as plt\n",
        "\n",
        "nltk.download('punkt')"
      ]
    },
    {
      "cell_type": "code",
      "execution_count": 27,
      "id": "801b27e0",
      "metadata": {
        "id": "801b27e0"
      },
      "outputs": [],
      "source": [
        "# Download sentence tokenizer\n",
        "nltk.data.path.append('.')"
      ]
    },
    {
      "cell_type": "code",
      "source": [
        "secuencias = pd.read_csv('/content/drive/MyDrive/Colab_Notebooks/Taller2_NPL/secuencias.csv')\n",
        "secuencias = secuencias['sequence']"
      ],
      "metadata": {
        "id": "pB8HEqpl_tLA"
      },
      "id": "pB8HEqpl_tLA",
      "execution_count": 28,
      "outputs": []
    },
    {
      "cell_type": "code",
      "source": [
        "secuencias"
      ],
      "metadata": {
        "colab": {
          "base_uri": "https://localhost:8080/"
        },
        "id": "KmsZ4oJ7ALhp",
        "outputId": "e942bd7a-ba81-4f7d-c6bf-a8b49ddadd84"
      },
      "id": "KmsZ4oJ7ALhp",
      "execution_count": 29,
      "outputs": [
        {
          "output_type": "execute_result",
          "data": {
            "text/plain": [
              "0       MKHPYGYRWHWLYALVVTLMTALATFSAHAAVTAGPGAWSSQQTWA...\n",
              "1       MPLRTLLCGLLLAVCLGQHALAASRCSERPRTLLRPAEVSCSYQST...\n",
              "2       MRNTLKAAFKLGVISAALLAPFATQAATAGPGAWSSQQTWAADSVN...\n",
              "3       MLAKQIKKANSRSTLLRKSLLFAAPIILAVSSSSVYALTQVSNFGT...\n",
              "4       MMSSQTTQSSKFSLFLKRGLLLAAAPLLAMSASSALAATQVTGFGS...\n",
              "                              ...                        \n",
              "999     MKTTTPLVHVASVEKGRSYEDFQKVYNAIALKLREDDEYDNYIGYG...\n",
              "1000    LVHVASVEKGRSYEDFQKVYNAIALKLREDDEYDNYIGYGPVLVRL...\n",
              "1001    LVHVASVEKGRSYEDFQKVYNAIALKLREDDEYDNYIGYGPVLVRL...\n",
              "1002    MKTLVHVASVEKGRSYEDFQKVYNAIALKLREDDEYDNYIGYGPVL...\n",
              "1003    MKTLVHVASVEKGRSYEDFQKVYNAIALKLREDDEYDNYIGYGPVL...\n",
              "Name: sequence, Length: 1004, dtype: object"
            ]
          },
          "metadata": {},
          "execution_count": 29
        }
      ]
    },
    {
      "cell_type": "code",
      "source": [
        "#Cada letra en la secuencia va a representar un token\n",
        "data = []\n",
        "for secuencia in range(0,len(secuencias)):\n",
        "  for lon in range(0,len(secuencias[secuencia])):\n",
        "    data.append(secuencias[secuencia][lon])\n",
        "\n",
        "print(\"Number of tokens:\", len(data),'\\n', data[:15])\n"
      ],
      "metadata": {
        "colab": {
          "base_uri": "https://localhost:8080/"
        },
        "id": "jLBFcDcOAuMO",
        "outputId": "0adaff11-07a5-4937-9a8b-d7a5e4290bce"
      },
      "id": "jLBFcDcOAuMO",
      "execution_count": 30,
      "outputs": [
        {
          "output_type": "stream",
          "name": "stdout",
          "text": [
            "Number of tokens: 319499 \n",
            " ['M', 'K', 'H', 'P', 'Y', 'G', 'Y', 'R', 'W', 'H', 'W', 'L', 'Y', 'A', 'L']\n"
          ]
        }
      ]
    },
    {
      "cell_type": "code",
      "source": [
        "data[:20]"
      ],
      "metadata": {
        "colab": {
          "base_uri": "https://localhost:8080/"
        },
        "id": "WsdqyCsUBUZw",
        "outputId": "f45fe6c9-927e-4baa-f896-b9e28d137561"
      },
      "id": "WsdqyCsUBUZw",
      "execution_count": 31,
      "outputs": [
        {
          "output_type": "execute_result",
          "data": {
            "text/plain": [
              "['M',\n",
              " 'K',\n",
              " 'H',\n",
              " 'P',\n",
              " 'Y',\n",
              " 'G',\n",
              " 'Y',\n",
              " 'R',\n",
              " 'W',\n",
              " 'H',\n",
              " 'W',\n",
              " 'L',\n",
              " 'Y',\n",
              " 'A',\n",
              " 'L',\n",
              " 'V',\n",
              " 'V',\n",
              " 'T',\n",
              " 'L',\n",
              " 'M']"
            ]
          },
          "metadata": {},
          "execution_count": 31
        }
      ]
    },
    {
      "cell_type": "code",
      "execution_count": 32,
      "id": "c59e6add",
      "metadata": {
        "colab": {
          "base_uri": "https://localhost:8080/"
        },
        "id": "c59e6add",
        "outputId": "58fcd5ea-e4d3-4958-8fce-d635279707ae"
      },
      "outputs": [
        {
          "output_type": "stream",
          "name": "stdout",
          "text": [
            "Size of vocabulary:  22\n",
            "Most frequent tokens:  [('A', 30840), ('G', 30333), ('L', 26566), ('V', 20341), ('S', 19118), ('E', 18015), ('K', 17574), ('T', 17530), ('D', 17502), ('I', 15717), ('R', 15650), ('P', 14579), ('N', 13119), ('F', 11537), ('Q', 11155), ('Y', 9961), ('C', 8397), ('H', 7385), ('M', 6593), ('W', 4080)]\n"
          ]
        }
      ],
      "source": [
        "# Compute the frequency distribution of the words in the dataset (vocabulary)\n",
        "fdist = nltk.FreqDist(word for word in data)\n",
        "print(\"Size of vocabulary: \",len(fdist) )\n",
        "print(\"Most frequent tokens: \",fdist.most_common(20) ) # print the 20 most frequent words and their freq."
      ]
    },
    {
      "cell_type": "code",
      "source": [
        "fdist"
      ],
      "metadata": {
        "colab": {
          "base_uri": "https://localhost:8080/"
        },
        "id": "K4kGfYd4EpUw",
        "outputId": "ab3097ec-af72-4c8d-8637-7593dd8ce1a4"
      },
      "id": "K4kGfYd4EpUw",
      "execution_count": 33,
      "outputs": [
        {
          "output_type": "execute_result",
          "data": {
            "text/plain": [
              "FreqDist({'A': 30840, 'G': 30333, 'L': 26566, 'V': 20341, 'S': 19118, 'E': 18015, 'K': 17574, 'T': 17530, 'D': 17502, 'I': 15717, ...})"
            ]
          },
          "metadata": {},
          "execution_count": 33
        }
      ]
    },
    {
      "cell_type": "markdown",
      "id": "282967a1",
      "metadata": {
        "id": "282967a1"
      },
      "source": [
        "#### Mapping words to indices and indices to words\n",
        "We provide a helper function to create a dictionary that maps words to indices and indices to words."
      ]
    },
    {
      "cell_type": "code",
      "execution_count": 34,
      "id": "af8cbd50",
      "metadata": {
        "colab": {
          "base_uri": "https://localhost:8080/"
        },
        "id": "af8cbd50",
        "outputId": "9596fa4c-65f3-40a3-f6a4-46281f0e50f0"
      },
      "outputs": [
        {
          "output_type": "stream",
          "name": "stdout",
          "text": [
            "Size of vocabulary:  22\n"
          ]
        }
      ],
      "source": [
        "# get_dict creates two dictionaries, converting words to indices and viceversa.\n",
        "word2Ind, Ind2word = get_dict(data)\n",
        "V = len(word2Ind)\n",
        "print(\"Size of vocabulary: \", V)"
      ]
    },
    {
      "cell_type": "code",
      "source": [
        "# get_dict creates two dictionaries, converting words to indices and viceversa.\n",
        "word2Ind, Ind2word = get_dict(data)\n",
        "V = len(word2Ind)\n",
        "print(\"Size of vocabulary: \", V)"
      ],
      "metadata": {
        "colab": {
          "base_uri": "https://localhost:8080/"
        },
        "id": "Iu_W5c9eGbXS",
        "outputId": "1e678d92-7a1e-4b7c-d3ef-bac02c17fc84"
      },
      "id": "Iu_W5c9eGbXS",
      "execution_count": 35,
      "outputs": [
        {
          "output_type": "stream",
          "name": "stdout",
          "text": [
            "Size of vocabulary:  22\n"
          ]
        }
      ]
    },
    {
      "cell_type": "code",
      "source": [
        "word2Ind"
      ],
      "metadata": {
        "colab": {
          "base_uri": "https://localhost:8080/"
        },
        "id": "YQvvm2XFGw5M",
        "outputId": "bb659c58-d923-4f6a-e04d-10ec4ddc759c"
      },
      "id": "YQvvm2XFGw5M",
      "execution_count": 36,
      "outputs": [
        {
          "output_type": "execute_result",
          "data": {
            "text/plain": [
              "{'A': 0,\n",
              " 'C': 1,\n",
              " 'D': 2,\n",
              " 'E': 3,\n",
              " 'F': 4,\n",
              " 'G': 5,\n",
              " 'H': 6,\n",
              " 'I': 7,\n",
              " 'K': 8,\n",
              " 'L': 9,\n",
              " 'M': 10,\n",
              " 'N': 11,\n",
              " 'P': 12,\n",
              " 'Q': 13,\n",
              " 'R': 14,\n",
              " 'S': 15,\n",
              " 'T': 16,\n",
              " 'U': 17,\n",
              " 'V': 18,\n",
              " 'W': 19,\n",
              " 'X': 20,\n",
              " 'Y': 21}"
            ]
          },
          "metadata": {},
          "execution_count": 36
        }
      ]
    },
    {
      "cell_type": "code",
      "source": [
        "Ind2word"
      ],
      "metadata": {
        "colab": {
          "base_uri": "https://localhost:8080/"
        },
        "id": "zFsq4L7kG1x1",
        "outputId": "e6470445-b2ff-4800-fcf7-bac9b54456c9"
      },
      "id": "zFsq4L7kG1x1",
      "execution_count": 37,
      "outputs": [
        {
          "output_type": "execute_result",
          "data": {
            "text/plain": [
              "{0: 'A',\n",
              " 1: 'C',\n",
              " 2: 'D',\n",
              " 3: 'E',\n",
              " 4: 'F',\n",
              " 5: 'G',\n",
              " 6: 'H',\n",
              " 7: 'I',\n",
              " 8: 'K',\n",
              " 9: 'L',\n",
              " 10: 'M',\n",
              " 11: 'N',\n",
              " 12: 'P',\n",
              " 13: 'Q',\n",
              " 14: 'R',\n",
              " 15: 'S',\n",
              " 16: 'T',\n",
              " 17: 'U',\n",
              " 18: 'V',\n",
              " 19: 'W',\n",
              " 20: 'X',\n",
              " 21: 'Y'}"
            ]
          },
          "metadata": {},
          "execution_count": 37
        }
      ]
    },
    {
      "cell_type": "markdown",
      "source": [
        "*ENTRENAR MODELO DE EMBEDINGS*"
      ],
      "metadata": {
        "id": "Vl27NYEZl1Uy"
      },
      "id": "Vl27NYEZl1Uy"
    },
    {
      "cell_type": "code",
      "execution_count": 38,
      "id": "ca38166a",
      "metadata": {
        "id": "ca38166a"
      },
      "outputs": [],
      "source": [
        "def initialize_model(N,V, random_seed=1):\n",
        "    '''\n",
        "    Inputs: \n",
        "        N:  dimension of hidden vector \n",
        "        V:  dimension of vocabulary\n",
        "        random_seed: random seed for consistent results in the unit tests\n",
        "     Outputs: \n",
        "        W1, W2, b1, b2: initialized weights and biases\n",
        "    '''\n",
        "    \n",
        "    ### START CODE HERE (Replace instances of 'None' with your code) ###\n",
        "    np.random.seed(random_seed)\n",
        "    # W1 has shape (N,V)\n",
        "    W1 = np.random.uniform(0,1,(N,V))\n",
        "    \n",
        "    # W2 has shape (V,N)\n",
        "    W2 = np.random.uniform(0,1,(V,N))\n",
        "    \n",
        "    # b1 has shape (N,1)\n",
        "    b1 = np.random.uniform(0,1,(N,1))\n",
        "    \n",
        "    # b2 has shape (V,1)\n",
        "    b2 = np.random.uniform(0,1,(V,1))\n",
        "    \n",
        "    ### END CODE HERE ###\n",
        "    return W1, W2, b1, b2"
      ]
    },
    {
      "cell_type": "code",
      "execution_count": 40,
      "id": "feae8d64",
      "metadata": {
        "id": "feae8d64"
      },
      "outputs": [],
      "source": [
        "def softmax(z):\n",
        "    '''\n",
        "    Inputs: \n",
        "        z: output scores from the hidden layer\n",
        "    Outputs: \n",
        "        yhat: prediction (estimate of y)\n",
        "    '''\n",
        "    ### START CODE HERE (Replace instances of 'None' with your own code) ###\n",
        "    # Calculate yhat (softmax)    \n",
        "    yhat = np.exp(z)/np.sum(np.exp(z),axis=0)\n",
        "    ### END CODE HERE ###\n",
        "    return yhat"
      ]
    },
    {
      "cell_type": "code",
      "execution_count": 42,
      "id": "b56f0ca8",
      "metadata": {
        "id": "b56f0ca8"
      },
      "outputs": [],
      "source": [
        "def forward_prop(x, W1, W2, b1, b2):\n",
        "    '''\n",
        "    Inputs: \n",
        "        x:  average one hot vector for the context \n",
        "        W1, W2, b1, b2:  matrices and biases to be learned\n",
        "     Outputs: \n",
        "        z:  output score vector\n",
        "    '''\n",
        "    \n",
        "    ### START CODE HERE (Replace instances of 'None' with your own code) ###\n",
        "    # Calculate h\n",
        "    h = np.dot(W1,x)+b1\n",
        "  \n",
        "    # Apply the relu on h, \n",
        "    # store the relu in h\n",
        "    h = np.maximum(0,h)\n",
        "\n",
        "    # Calculate z\n",
        "    z = np.dot(W2,h)+b2\n",
        "\n",
        "    ### END CODE HERE ###\n",
        "\n",
        "    return z, h"
      ]
    },
    {
      "cell_type": "code",
      "execution_count": 44,
      "id": "08b2e9cc",
      "metadata": {
        "id": "08b2e9cc"
      },
      "outputs": [],
      "source": [
        "# compute_cost: cross-entropy cost function\n",
        "def compute_cost(y, yhat, batch_size):\n",
        "\n",
        "    # cost function \n",
        "    logprobs = np.multiply(np.log(yhat),y)  + np.multiply(np.log(1 - yhat), 1 - y)\n",
        "    cost = - 1/batch_size * np.sum(logprobs)\n",
        "    cost = np.squeeze(cost)\n",
        "    return cost"
      ]
    },
    {
      "cell_type": "code",
      "source": [
        "tmp_x"
      ],
      "metadata": {
        "colab": {
          "base_uri": "https://localhost:8080/"
        },
        "id": "0c1RsRvVQ6JH",
        "outputId": "797dc406-0747-4526-ec66-6e984b176834"
      },
      "id": "0c1RsRvVQ6JH",
      "execution_count": 46,
      "outputs": [
        {
          "output_type": "execute_result",
          "data": {
            "text/plain": [
              "array([[0.  , 0.  , 0.  , 0.  ],\n",
              "       [0.  , 0.  , 0.  , 0.  ],\n",
              "       [0.  , 0.  , 0.  , 0.  ],\n",
              "       [0.  , 0.  , 0.  , 0.  ],\n",
              "       [0.  , 0.  , 0.  , 0.  ],\n",
              "       [0.  , 0.  , 0.  , 0.  ],\n",
              "       [0.  , 0.  , 0.  , 0.  ],\n",
              "       [0.  , 0.  , 0.  , 0.  ],\n",
              "       [0.25, 0.25, 0.25, 0.25],\n",
              "       [0.  , 0.  , 0.  , 0.  ],\n",
              "       [0.25, 0.25, 0.25, 0.25],\n",
              "       [0.  , 0.  , 0.  , 0.  ],\n",
              "       [0.25, 0.25, 0.25, 0.25],\n",
              "       [0.  , 0.  , 0.  , 0.  ],\n",
              "       [0.  , 0.  , 0.  , 0.  ],\n",
              "       [0.  , 0.  , 0.  , 0.  ],\n",
              "       [0.  , 0.  , 0.  , 0.  ],\n",
              "       [0.  , 0.  , 0.  , 0.  ],\n",
              "       [0.  , 0.  , 0.  , 0.  ],\n",
              "       [0.  , 0.  , 0.  , 0.  ],\n",
              "       [0.  , 0.  , 0.  , 0.  ],\n",
              "       [0.25, 0.25, 0.25, 0.25]])"
            ]
          },
          "metadata": {},
          "execution_count": 46
        }
      ]
    },
    {
      "cell_type": "code",
      "source": [
        "tmp_y"
      ],
      "metadata": {
        "colab": {
          "base_uri": "https://localhost:8080/"
        },
        "id": "Fh60yBK6Q7NG",
        "outputId": "5a67e5a7-e757-4bf8-e4c6-f8b70bea14f8"
      },
      "id": "Fh60yBK6Q7NG",
      "execution_count": 47,
      "outputs": [
        {
          "output_type": "execute_result",
          "data": {
            "text/plain": [
              "array([[0., 0., 0., 0.],\n",
              "       [0., 0., 0., 0.],\n",
              "       [0., 0., 0., 0.],\n",
              "       [0., 0., 0., 0.],\n",
              "       [0., 0., 0., 0.],\n",
              "       [0., 0., 0., 0.],\n",
              "       [1., 1., 1., 1.],\n",
              "       [0., 0., 0., 0.],\n",
              "       [0., 0., 0., 0.],\n",
              "       [0., 0., 0., 0.],\n",
              "       [0., 0., 0., 0.],\n",
              "       [0., 0., 0., 0.],\n",
              "       [0., 0., 0., 0.],\n",
              "       [0., 0., 0., 0.],\n",
              "       [0., 0., 0., 0.],\n",
              "       [0., 0., 0., 0.],\n",
              "       [0., 0., 0., 0.],\n",
              "       [0., 0., 0., 0.],\n",
              "       [0., 0., 0., 0.],\n",
              "       [0., 0., 0., 0.],\n",
              "       [0., 0., 0., 0.],\n",
              "       [0., 0., 0., 0.]])"
            ]
          },
          "metadata": {},
          "execution_count": 47
        }
      ]
    },
    {
      "cell_type": "code",
      "source": [
        "tmp_x.shape"
      ],
      "metadata": {
        "colab": {
          "base_uri": "https://localhost:8080/"
        },
        "id": "A4fhzwizQ7Zs",
        "outputId": "eebb9bf2-679e-4124-a9fb-a5bf47f8334b"
      },
      "id": "A4fhzwizQ7Zs",
      "execution_count": 48,
      "outputs": [
        {
          "output_type": "execute_result",
          "data": {
            "text/plain": [
              "(22, 4)"
            ]
          },
          "metadata": {},
          "execution_count": 48
        }
      ]
    },
    {
      "cell_type": "code",
      "source": [
        "tmp_y.shape"
      ],
      "metadata": {
        "colab": {
          "base_uri": "https://localhost:8080/"
        },
        "id": "-Bgx5sWyQ7i9",
        "outputId": "f905df2f-5bc3-4d4a-c98e-c84a05a7f22b"
      },
      "id": "-Bgx5sWyQ7i9",
      "execution_count": 49,
      "outputs": [
        {
          "output_type": "execute_result",
          "data": {
            "text/plain": [
              "(22, 4)"
            ]
          },
          "metadata": {},
          "execution_count": 49
        }
      ]
    },
    {
      "cell_type": "code",
      "execution_count": 50,
      "id": "364fcf49",
      "metadata": {
        "id": "364fcf49"
      },
      "outputs": [],
      "source": [
        "def back_prop(x, yhat, y, h, W1, W2, b1, b2, batch_size):\n",
        "    '''\n",
        "    Inputs: \n",
        "        x:  average one hot vector for the context \n",
        "        yhat: prediction (estimate of y)\n",
        "        y:  target vector\n",
        "        h:  hidden vector (see eq. 1)\n",
        "        W1, W2, b1, b2:  matrices and biases  \n",
        "        batch_size: batch size \n",
        "     Outputs: \n",
        "        grad_W1, grad_W2, grad_b1, grad_b2:  gradients of matrices and biases   \n",
        "    '''\n",
        "    ### START CODE HERE (Replace instanes of 'None' with your code) ###\n",
        "    # Compute l1 as W2^T (Yhat - Y)\n",
        "    # and re-use it whenever you see W2^T (Yhat - Y) used to compute a gradient\n",
        "    l1 = np.dot(W2.T,yhat-y)\n",
        "\n",
        "    # Apply relu to l1\n",
        "    l1 = np.maximum(0,l1)\n",
        "\n",
        "    # compute the gradient for W1\n",
        "    grad_W1 =np.dot(l1,x.T)/batch_size\n",
        "\n",
        "    # Compute gradient of W2\n",
        "    grad_W2 = np.dot(yhat-y,h.T)/batch_size\n",
        "    \n",
        "    # compute gradient for b1\n",
        "    grad_b1 = np.sum(l1, axis=1, keepdims=True) / batch_size\n",
        "\n",
        "    # compute gradient for b2\n",
        "    grad_b2 = np.sum(yhat - y, axis=1, keepdims=True) / batch_size\n",
        "    ### END CODE HERE ####\n",
        "    \n",
        "    return grad_W1, grad_W2, grad_b1, grad_b2\n"
      ]
    },
    {
      "cell_type": "code",
      "execution_count": 52,
      "id": "812f5647",
      "metadata": {
        "id": "812f5647"
      },
      "outputs": [],
      "source": [
        "def gradient_descent(data, word2Ind, N, V, num_iters, C,alpha=0.03, \n",
        "                     random_seed=282, initialize_model=initialize_model, \n",
        "                     get_batches=get_batches, forward_prop=forward_prop, \n",
        "                     softmax=softmax, compute_cost=compute_cost, \n",
        "                     back_prop=back_prop):\n",
        "    \n",
        "    '''\n",
        "    This is the gradient_descent function\n",
        "    \n",
        "      Inputs: \n",
        "        data:      text\n",
        "        word2Ind:  words to Indices\n",
        "        N:         dimension of hidden vector  \n",
        "        V:         dimension of vocabulary \n",
        "        num_iters: number of iterations  \n",
        "        random_seed: random seed to initialize the model's matrices and vectors\n",
        "        initialize_model: your implementation of the function to initialize the model\n",
        "        get_batches: function to get the data in batches\n",
        "        forward_prop: your implementation of the function to perform forward propagation\n",
        "        softmax: your implementation of the softmax function\n",
        "        compute_cost: cost function (Cross entropy)\n",
        "        back_prop: your implementation of the function to perform backward propagation\n",
        "     Outputs: \n",
        "        W1, W2, b1, b2:  updated matrices and biases after num_iters iterations\n",
        "\n",
        "    '''\n",
        "    W1, W2, b1, b2 = initialize_model(N,V, random_seed=random_seed) #W1=(N,V) and W2=(V,N)\n",
        "\n",
        "    batch_size = 128\n",
        "#    batch_size = 512\n",
        "    iters = 0\n",
        "    #C = 2\n",
        "    C = C\n",
        "    \n",
        "    for x, y in get_batches(data, word2Ind, V, C, batch_size):\n",
        "        ### START CODE HERE (Replace instances of 'None' with your own code) ###                \n",
        "        # get z and h\n",
        "        z, h = forward_prop(x, W1, W2, b1, b2)\n",
        "                \n",
        "        # get yhat\n",
        "        yhat = softmax(z)\n",
        "        \n",
        "        # get cost\n",
        "        cost = compute_cost(y, yhat, batch_size)\n",
        "        if ( (iters+1) % 10 == 0):\n",
        "            print(f\"iters: {iters + 1} cost: {cost:.6f}\")\n",
        "            \n",
        "        # get gradients\n",
        "        grad_W1, grad_W2, grad_b1, grad_b2 = back_prop(x, yhat, y, h, W1, W2, b1, b2, batch_size)\n",
        "        \n",
        "        # update weights and biases\n",
        "        W1 = W1 - alpha * grad_W1\n",
        "        W2 = W2 - alpha * grad_W2\n",
        "        b1 = b1 - alpha * grad_b1\n",
        "        b2 = b2 - alpha * grad_b2\n",
        "\n",
        "        ### END CODE HERE ###\n",
        "        iters +=1 \n",
        "        if iters == num_iters: \n",
        "            break\n",
        "        if iters % 100 == 0:\n",
        "            alpha *= 0.66\n",
        "            \n",
        "    return W1, W2, b1, b2"
      ]
    },
    {
      "cell_type": "markdown",
      "source": [
        "**USO DEL MODELO CBOW PARA CONSEGUIR EMBEDINGS**"
      ],
      "metadata": {
        "id": "sIvJ59s-3V22"
      },
      "id": "sIvJ59s-3V22"
    },
    {
      "cell_type": "code",
      "execution_count": 53,
      "id": "eca64f2f",
      "metadata": {
        "colab": {
          "base_uri": "https://localhost:8080/"
        },
        "id": "eca64f2f",
        "outputId": "ab496a58-b70d-4e62-e89f-8bcd771129ee"
      },
      "outputs": [
        {
          "output_type": "stream",
          "name": "stdout",
          "text": [
            "Call gradient_descent\n",
            "iters: 10 cost: 7.913822\n",
            "iters: 20 cost: 5.228170\n",
            "iters: 30 cost: 2.491564\n",
            "iters: 40 cost: 3.810765\n",
            "iters: 50 cost: 4.552711\n",
            "iters: 60 cost: 3.958087\n",
            "iters: 70 cost: 3.375270\n",
            "iters: 80 cost: 5.405472\n",
            "iters: 90 cost: 3.647667\n",
            "iters: 100 cost: 4.300811\n",
            "iters: 110 cost: 2.675050\n",
            "iters: 120 cost: 3.345144\n",
            "iters: 130 cost: 4.471210\n",
            "iters: 140 cost: 4.384159\n",
            "iters: 150 cost: 3.213109\n",
            "iters: 160 cost: 3.388808\n",
            "iters: 170 cost: 3.494055\n",
            "iters: 180 cost: 4.372938\n",
            "iters: 190 cost: 3.931979\n",
            "iters: 200 cost: 5.276837\n",
            "iters: 210 cost: 3.713729\n",
            "iters: 220 cost: 4.574048\n",
            "iters: 230 cost: 3.785508\n",
            "iters: 240 cost: 3.748007\n",
            "iters: 250 cost: 3.817119\n"
          ]
        }
      ],
      "source": [
        "# test your function\n",
        "# UNIT TEST COMMENT: Each time this cell is run the cost for each iteration changes slightly (the change is less dramatic after some iterations)\n",
        "C = 4\n",
        "N = 50\n",
        "word2Ind, Ind2word = get_dict(data)\n",
        "V = len(word2Ind)\n",
        "num_iters = 250\n",
        "print(\"Call gradient_descent\")\n",
        "W1, W2, b1, b2 = gradient_descent(data, word2Ind, N, V, num_iters,C)"
      ]
    },
    {
      "cell_type": "markdown",
      "id": "a990cb89",
      "metadata": {
        "id": "a990cb89"
      },
      "source": [
        "## Visualización de word embedings\n",
        "\n",
        " "
      ]
    },
    {
      "cell_type": "code",
      "execution_count": 54,
      "id": "b975d35b",
      "metadata": {
        "id": "b975d35b"
      },
      "outputs": [],
      "source": [
        "# visualizing the word vectors here\n",
        "from matplotlib import pyplot\n",
        "%config InlineBackend.figure_format = 'svg'\n",
        "words = ['A', 'C', 'D', 'E', 'F','G','H',\n",
        "         'I','K','L','M','N','P','Q','R','S','T','U','V','W','X','Y']\n",
        "\n",
        "embs = (W1.T + W2)/2.0\n",
        " \n",
        "# given a list of words and the embeddings, it returns a matrix with all the embeddings\n",
        "idx = [word2Ind[word] for word in words]\n",
        "X = embs[idx, :]\n",
        "#print(X.shape, idx)  # X.shape:  Number of words of dimension N each "
      ]
    },
    {
      "cell_type": "markdown",
      "source": [
        "**VISUALIZAR LOS AMINOACIDOS**"
      ],
      "metadata": {
        "id": "sbBsmuR63pi4"
      },
      "id": "sbBsmuR63pi4"
    },
    {
      "cell_type": "code",
      "execution_count": 55,
      "id": "9af780ff",
      "metadata": {
        "id": "9af780ff",
        "colab": {
          "base_uri": "https://localhost:8080/",
          "height": 353
        },
        "outputId": "1e661945-93ff-4125-d827-cf5837d0fc80"
      },
      "outputs": [
        {
          "output_type": "display_data",
          "data": {
            "text/plain": [
              "<Figure size 432x288 with 1 Axes>"
            ],
            "image/svg+xml": "<?xml version=\"1.0\" encoding=\"utf-8\" standalone=\"no\"?>\n<!DOCTYPE svg PUBLIC \"-//W3C//DTD SVG 1.1//EN\"\n  \"http://www.w3.org/Graphics/SVG/1.1/DTD/svg11.dtd\">\n<!-- Created with matplotlib (https://matplotlib.org/) -->\n<svg height=\"248.518125pt\" version=\"1.1\" viewBox=\"0 0 386.845312 248.518125\" width=\"386.845312pt\" xmlns=\"http://www.w3.org/2000/svg\" xmlns:xlink=\"http://www.w3.org/1999/xlink\">\n <defs>\n  <style type=\"text/css\">\n*{stroke-linecap:butt;stroke-linejoin:round;}\n  </style>\n </defs>\n <g id=\"figure_1\">\n  <g id=\"patch_1\">\n   <path d=\"M 0 248.518125 \nL 386.845312 248.518125 \nL 386.845312 0 \nL 0 0 \nz\n\" style=\"fill:none;\"/>\n  </g>\n  <g id=\"axes_1\">\n   <g id=\"patch_2\">\n    <path d=\"M 44.845313 224.64 \nL 379.645313 224.64 \nL 379.645313 7.2 \nL 44.845313 7.2 \nz\n\" style=\"fill:#ffffff;\"/>\n   </g>\n   <g id=\"PathCollection_1\">\n    <defs>\n     <path d=\"M 0 3 \nC 0.795609 3 1.55874 2.683901 2.12132 2.12132 \nC 2.683901 1.55874 3 0.795609 3 0 \nC 3 -0.795609 2.683901 -1.55874 2.12132 -2.12132 \nC 1.55874 -2.683901 0.795609 -3 0 -3 \nC -0.795609 -3 -1.55874 -2.683901 -2.12132 -2.12132 \nC -2.683901 -1.55874 -3 -0.795609 -3 0 \nC -3 0.795609 -2.683901 1.55874 -2.12132 2.12132 \nC -1.55874 2.683901 -0.795609 3 0 3 \nz\n\" id=\"me1ebfff47a\" style=\"stroke:#1f77b4;\"/>\n    </defs>\n    <g clip-path=\"url(#p48264b54fd)\">\n     <use style=\"fill:#1f77b4;stroke:#1f77b4;\" x=\"277.273536\" xlink:href=\"#me1ebfff47a\" y=\"57.306849\"/>\n     <use style=\"fill:#1f77b4;stroke:#1f77b4;\" x=\"163.164897\" xlink:href=\"#me1ebfff47a\" y=\"65.91973\"/>\n     <use style=\"fill:#1f77b4;stroke:#1f77b4;\" x=\"168.728595\" xlink:href=\"#me1ebfff47a\" y=\"152.014125\"/>\n     <use style=\"fill:#1f77b4;stroke:#1f77b4;\" x=\"109.998189\" xlink:href=\"#me1ebfff47a\" y=\"17.083636\"/>\n     <use style=\"fill:#1f77b4;stroke:#1f77b4;\" x=\"364.427131\" xlink:href=\"#me1ebfff47a\" y=\"164.667008\"/>\n     <use style=\"fill:#1f77b4;stroke:#1f77b4;\" x=\"129.807669\" xlink:href=\"#me1ebfff47a\" y=\"135.373829\"/>\n     <use style=\"fill:#1f77b4;stroke:#1f77b4;\" x=\"183.583584\" xlink:href=\"#me1ebfff47a\" y=\"117.013666\"/>\n     <use style=\"fill:#1f77b4;stroke:#1f77b4;\" x=\"219.863884\" xlink:href=\"#me1ebfff47a\" y=\"126.393997\"/>\n     <use style=\"fill:#1f77b4;stroke:#1f77b4;\" x=\"212.386373\" xlink:href=\"#me1ebfff47a\" y=\"214.756364\"/>\n     <use style=\"fill:#1f77b4;stroke:#1f77b4;\" x=\"249.783487\" xlink:href=\"#me1ebfff47a\" y=\"95.105261\"/>\n     <use style=\"fill:#1f77b4;stroke:#1f77b4;\" x=\"269.920843\" xlink:href=\"#me1ebfff47a\" y=\"109.42143\"/>\n     <use style=\"fill:#1f77b4;stroke:#1f77b4;\" x=\"300.852196\" xlink:href=\"#me1ebfff47a\" y=\"141.98234\"/>\n     <use style=\"fill:#1f77b4;stroke:#1f77b4;\" x=\"174.645504\" xlink:href=\"#me1ebfff47a\" y=\"147.470211\"/>\n     <use style=\"fill:#1f77b4;stroke:#1f77b4;\" x=\"280.88863\" xlink:href=\"#me1ebfff47a\" y=\"127.337563\"/>\n     <use style=\"fill:#1f77b4;stroke:#1f77b4;\" x=\"244.027733\" xlink:href=\"#me1ebfff47a\" y=\"189.735088\"/>\n     <use style=\"fill:#1f77b4;stroke:#1f77b4;\" x=\"141.290046\" xlink:href=\"#me1ebfff47a\" y=\"135.063147\"/>\n     <use style=\"fill:#1f77b4;stroke:#1f77b4;\" x=\"160.650246\" xlink:href=\"#me1ebfff47a\" y=\"76.19974\"/>\n     <use style=\"fill:#1f77b4;stroke:#1f77b4;\" x=\"177.080622\" xlink:href=\"#me1ebfff47a\" y=\"204.376296\"/>\n     <use style=\"fill:#1f77b4;stroke:#1f77b4;\" x=\"287.901683\" xlink:href=\"#me1ebfff47a\" y=\"96.170072\"/>\n     <use style=\"fill:#1f77b4;stroke:#1f77b4;\" x=\"120.831864\" xlink:href=\"#me1ebfff47a\" y=\"177.353502\"/>\n     <use style=\"fill:#1f77b4;stroke:#1f77b4;\" x=\"267.274092\" xlink:href=\"#me1ebfff47a\" y=\"153.136936\"/>\n     <use style=\"fill:#1f77b4;stroke:#1f77b4;\" x=\"60.063494\" xlink:href=\"#me1ebfff47a\" y=\"183.456842\"/>\n    </g>\n   </g>\n   <g id=\"matplotlib.axis_1\">\n    <g id=\"xtick_1\">\n     <g id=\"line2d_1\">\n      <defs>\n       <path d=\"M 0 0 \nL 0 3.5 \n\" id=\"m553652d1bd\" style=\"stroke:#000000;stroke-width:0.8;\"/>\n      </defs>\n      <g>\n       <use style=\"stroke:#000000;stroke-width:0.8;\" x=\"53.519525\" xlink:href=\"#m553652d1bd\" y=\"224.64\"/>\n      </g>\n     </g>\n     <g id=\"text_1\">\n      <!-- −1.00 -->\n      <defs>\n       <path d=\"M 10.59375 35.5 \nL 73.1875 35.5 \nL 73.1875 27.203125 \nL 10.59375 27.203125 \nz\n\" id=\"DejaVuSans-8722\"/>\n       <path d=\"M 12.40625 8.296875 \nL 28.515625 8.296875 \nL 28.515625 63.921875 \nL 10.984375 60.40625 \nL 10.984375 69.390625 \nL 28.421875 72.90625 \nL 38.28125 72.90625 \nL 38.28125 8.296875 \nL 54.390625 8.296875 \nL 54.390625 0 \nL 12.40625 0 \nz\n\" id=\"DejaVuSans-49\"/>\n       <path d=\"M 10.6875 12.40625 \nL 21 12.40625 \nL 21 0 \nL 10.6875 0 \nz\n\" id=\"DejaVuSans-46\"/>\n       <path d=\"M 31.78125 66.40625 \nQ 24.171875 66.40625 20.328125 58.90625 \nQ 16.5 51.421875 16.5 36.375 \nQ 16.5 21.390625 20.328125 13.890625 \nQ 24.171875 6.390625 31.78125 6.390625 \nQ 39.453125 6.390625 43.28125 13.890625 \nQ 47.125 21.390625 47.125 36.375 \nQ 47.125 51.421875 43.28125 58.90625 \nQ 39.453125 66.40625 31.78125 66.40625 \nz\nM 31.78125 74.21875 \nQ 44.046875 74.21875 50.515625 64.515625 \nQ 56.984375 54.828125 56.984375 36.375 \nQ 56.984375 17.96875 50.515625 8.265625 \nQ 44.046875 -1.421875 31.78125 -1.421875 \nQ 19.53125 -1.421875 13.0625 8.265625 \nQ 6.59375 17.96875 6.59375 36.375 \nQ 6.59375 54.828125 13.0625 64.515625 \nQ 19.53125 74.21875 31.78125 74.21875 \nz\n\" id=\"DejaVuSans-48\"/>\n      </defs>\n      <g transform=\"translate(38.196869 239.238437)scale(0.1 -0.1)\">\n       <use xlink:href=\"#DejaVuSans-8722\"/>\n       <use x=\"83.789062\" xlink:href=\"#DejaVuSans-49\"/>\n       <use x=\"147.412109\" xlink:href=\"#DejaVuSans-46\"/>\n       <use x=\"179.199219\" xlink:href=\"#DejaVuSans-48\"/>\n       <use x=\"242.822266\" xlink:href=\"#DejaVuSans-48\"/>\n      </g>\n     </g>\n    </g>\n    <g id=\"xtick_2\">\n     <g id=\"line2d_2\">\n      <g>\n       <use style=\"stroke:#000000;stroke-width:0.8;\" x=\"92.008329\" xlink:href=\"#m553652d1bd\" y=\"224.64\"/>\n      </g>\n     </g>\n     <g id=\"text_2\">\n      <!-- −0.75 -->\n      <defs>\n       <path d=\"M 8.203125 72.90625 \nL 55.078125 72.90625 \nL 55.078125 68.703125 \nL 28.609375 0 \nL 18.3125 0 \nL 43.21875 64.59375 \nL 8.203125 64.59375 \nz\n\" id=\"DejaVuSans-55\"/>\n       <path d=\"M 10.796875 72.90625 \nL 49.515625 72.90625 \nL 49.515625 64.59375 \nL 19.828125 64.59375 \nL 19.828125 46.734375 \nQ 21.96875 47.46875 24.109375 47.828125 \nQ 26.265625 48.1875 28.421875 48.1875 \nQ 40.625 48.1875 47.75 41.5 \nQ 54.890625 34.8125 54.890625 23.390625 \nQ 54.890625 11.625 47.5625 5.09375 \nQ 40.234375 -1.421875 26.90625 -1.421875 \nQ 22.3125 -1.421875 17.546875 -0.640625 \nQ 12.796875 0.140625 7.71875 1.703125 \nL 7.71875 11.625 \nQ 12.109375 9.234375 16.796875 8.0625 \nQ 21.484375 6.890625 26.703125 6.890625 \nQ 35.15625 6.890625 40.078125 11.328125 \nQ 45.015625 15.765625 45.015625 23.390625 \nQ 45.015625 31 40.078125 35.4375 \nQ 35.15625 39.890625 26.703125 39.890625 \nQ 22.75 39.890625 18.8125 39.015625 \nQ 14.890625 38.140625 10.796875 36.28125 \nz\n\" id=\"DejaVuSans-53\"/>\n      </defs>\n      <g transform=\"translate(76.685673 239.238437)scale(0.1 -0.1)\">\n       <use xlink:href=\"#DejaVuSans-8722\"/>\n       <use x=\"83.789062\" xlink:href=\"#DejaVuSans-48\"/>\n       <use x=\"147.412109\" xlink:href=\"#DejaVuSans-46\"/>\n       <use x=\"179.199219\" xlink:href=\"#DejaVuSans-55\"/>\n       <use x=\"242.822266\" xlink:href=\"#DejaVuSans-53\"/>\n      </g>\n     </g>\n    </g>\n    <g id=\"xtick_3\">\n     <g id=\"line2d_3\">\n      <g>\n       <use style=\"stroke:#000000;stroke-width:0.8;\" x=\"130.497133\" xlink:href=\"#m553652d1bd\" y=\"224.64\"/>\n      </g>\n     </g>\n     <g id=\"text_3\">\n      <!-- −0.50 -->\n      <g transform=\"translate(115.174477 239.238437)scale(0.1 -0.1)\">\n       <use xlink:href=\"#DejaVuSans-8722\"/>\n       <use x=\"83.789062\" xlink:href=\"#DejaVuSans-48\"/>\n       <use x=\"147.412109\" xlink:href=\"#DejaVuSans-46\"/>\n       <use x=\"179.199219\" xlink:href=\"#DejaVuSans-53\"/>\n       <use x=\"242.822266\" xlink:href=\"#DejaVuSans-48\"/>\n      </g>\n     </g>\n    </g>\n    <g id=\"xtick_4\">\n     <g id=\"line2d_4\">\n      <g>\n       <use style=\"stroke:#000000;stroke-width:0.8;\" x=\"168.985937\" xlink:href=\"#m553652d1bd\" y=\"224.64\"/>\n      </g>\n     </g>\n     <g id=\"text_4\">\n      <!-- −0.25 -->\n      <defs>\n       <path d=\"M 19.1875 8.296875 \nL 53.609375 8.296875 \nL 53.609375 0 \nL 7.328125 0 \nL 7.328125 8.296875 \nQ 12.9375 14.109375 22.625 23.890625 \nQ 32.328125 33.6875 34.8125 36.53125 \nQ 39.546875 41.84375 41.421875 45.53125 \nQ 43.3125 49.21875 43.3125 52.78125 \nQ 43.3125 58.59375 39.234375 62.25 \nQ 35.15625 65.921875 28.609375 65.921875 \nQ 23.96875 65.921875 18.8125 64.3125 \nQ 13.671875 62.703125 7.8125 59.421875 \nL 7.8125 69.390625 \nQ 13.765625 71.78125 18.9375 73 \nQ 24.125 74.21875 28.421875 74.21875 \nQ 39.75 74.21875 46.484375 68.546875 \nQ 53.21875 62.890625 53.21875 53.421875 \nQ 53.21875 48.921875 51.53125 44.890625 \nQ 49.859375 40.875 45.40625 35.40625 \nQ 44.1875 33.984375 37.640625 27.21875 \nQ 31.109375 20.453125 19.1875 8.296875 \nz\n\" id=\"DejaVuSans-50\"/>\n      </defs>\n      <g transform=\"translate(153.663281 239.238437)scale(0.1 -0.1)\">\n       <use xlink:href=\"#DejaVuSans-8722\"/>\n       <use x=\"83.789062\" xlink:href=\"#DejaVuSans-48\"/>\n       <use x=\"147.412109\" xlink:href=\"#DejaVuSans-46\"/>\n       <use x=\"179.199219\" xlink:href=\"#DejaVuSans-50\"/>\n       <use x=\"242.822266\" xlink:href=\"#DejaVuSans-53\"/>\n      </g>\n     </g>\n    </g>\n    <g id=\"xtick_5\">\n     <g id=\"line2d_5\">\n      <g>\n       <use style=\"stroke:#000000;stroke-width:0.8;\" x=\"207.474741\" xlink:href=\"#m553652d1bd\" y=\"224.64\"/>\n      </g>\n     </g>\n     <g id=\"text_5\">\n      <!-- 0.00 -->\n      <g transform=\"translate(196.341928 239.238437)scale(0.1 -0.1)\">\n       <use xlink:href=\"#DejaVuSans-48\"/>\n       <use x=\"63.623047\" xlink:href=\"#DejaVuSans-46\"/>\n       <use x=\"95.410156\" xlink:href=\"#DejaVuSans-48\"/>\n       <use x=\"159.033203\" xlink:href=\"#DejaVuSans-48\"/>\n      </g>\n     </g>\n    </g>\n    <g id=\"xtick_6\">\n     <g id=\"line2d_6\">\n      <g>\n       <use style=\"stroke:#000000;stroke-width:0.8;\" x=\"245.963545\" xlink:href=\"#m553652d1bd\" y=\"224.64\"/>\n      </g>\n     </g>\n     <g id=\"text_6\">\n      <!-- 0.25 -->\n      <g transform=\"translate(234.830732 239.238437)scale(0.1 -0.1)\">\n       <use xlink:href=\"#DejaVuSans-48\"/>\n       <use x=\"63.623047\" xlink:href=\"#DejaVuSans-46\"/>\n       <use x=\"95.410156\" xlink:href=\"#DejaVuSans-50\"/>\n       <use x=\"159.033203\" xlink:href=\"#DejaVuSans-53\"/>\n      </g>\n     </g>\n    </g>\n    <g id=\"xtick_7\">\n     <g id=\"line2d_7\">\n      <g>\n       <use style=\"stroke:#000000;stroke-width:0.8;\" x=\"284.452349\" xlink:href=\"#m553652d1bd\" y=\"224.64\"/>\n      </g>\n     </g>\n     <g id=\"text_7\">\n      <!-- 0.50 -->\n      <g transform=\"translate(273.319536 239.238437)scale(0.1 -0.1)\">\n       <use xlink:href=\"#DejaVuSans-48\"/>\n       <use x=\"63.623047\" xlink:href=\"#DejaVuSans-46\"/>\n       <use x=\"95.410156\" xlink:href=\"#DejaVuSans-53\"/>\n       <use x=\"159.033203\" xlink:href=\"#DejaVuSans-48\"/>\n      </g>\n     </g>\n    </g>\n    <g id=\"xtick_8\">\n     <g id=\"line2d_8\">\n      <g>\n       <use style=\"stroke:#000000;stroke-width:0.8;\" x=\"322.941152\" xlink:href=\"#m553652d1bd\" y=\"224.64\"/>\n      </g>\n     </g>\n     <g id=\"text_8\">\n      <!-- 0.75 -->\n      <g transform=\"translate(311.80834 239.238437)scale(0.1 -0.1)\">\n       <use xlink:href=\"#DejaVuSans-48\"/>\n       <use x=\"63.623047\" xlink:href=\"#DejaVuSans-46\"/>\n       <use x=\"95.410156\" xlink:href=\"#DejaVuSans-55\"/>\n       <use x=\"159.033203\" xlink:href=\"#DejaVuSans-53\"/>\n      </g>\n     </g>\n    </g>\n    <g id=\"xtick_9\">\n     <g id=\"line2d_9\">\n      <g>\n       <use style=\"stroke:#000000;stroke-width:0.8;\" x=\"361.429956\" xlink:href=\"#m553652d1bd\" y=\"224.64\"/>\n      </g>\n     </g>\n     <g id=\"text_9\">\n      <!-- 1.00 -->\n      <g transform=\"translate(350.297144 239.238437)scale(0.1 -0.1)\">\n       <use xlink:href=\"#DejaVuSans-49\"/>\n       <use x=\"63.623047\" xlink:href=\"#DejaVuSans-46\"/>\n       <use x=\"95.410156\" xlink:href=\"#DejaVuSans-48\"/>\n       <use x=\"159.033203\" xlink:href=\"#DejaVuSans-48\"/>\n      </g>\n     </g>\n    </g>\n   </g>\n   <g id=\"matplotlib.axis_2\">\n    <g id=\"ytick_1\">\n     <g id=\"line2d_10\">\n      <defs>\n       <path d=\"M 0 0 \nL -3.5 0 \n\" id=\"m931ed0d3dd\" style=\"stroke:#000000;stroke-width:0.8;\"/>\n      </defs>\n      <g>\n       <use style=\"stroke:#000000;stroke-width:0.8;\" x=\"44.845313\" xlink:href=\"#m931ed0d3dd\" y=\"215.611323\"/>\n      </g>\n     </g>\n     <g id=\"text_10\">\n      <!-- −0.75 -->\n      <g transform=\"translate(7.2 219.410541)scale(0.1 -0.1)\">\n       <use xlink:href=\"#DejaVuSans-8722\"/>\n       <use x=\"83.789062\" xlink:href=\"#DejaVuSans-48\"/>\n       <use x=\"147.412109\" xlink:href=\"#DejaVuSans-46\"/>\n       <use x=\"179.199219\" xlink:href=\"#DejaVuSans-55\"/>\n       <use x=\"242.822266\" xlink:href=\"#DejaVuSans-53\"/>\n      </g>\n     </g>\n    </g>\n    <g id=\"ytick_2\">\n     <g id=\"line2d_11\">\n      <g>\n       <use style=\"stroke:#000000;stroke-width:0.8;\" x=\"44.845313\" xlink:href=\"#m931ed0d3dd\" y=\"187.488422\"/>\n      </g>\n     </g>\n     <g id=\"text_11\">\n      <!-- −0.50 -->\n      <g transform=\"translate(7.2 191.28764)scale(0.1 -0.1)\">\n       <use xlink:href=\"#DejaVuSans-8722\"/>\n       <use x=\"83.789062\" xlink:href=\"#DejaVuSans-48\"/>\n       <use x=\"147.412109\" xlink:href=\"#DejaVuSans-46\"/>\n       <use x=\"179.199219\" xlink:href=\"#DejaVuSans-53\"/>\n       <use x=\"242.822266\" xlink:href=\"#DejaVuSans-48\"/>\n      </g>\n     </g>\n    </g>\n    <g id=\"ytick_3\">\n     <g id=\"line2d_12\">\n      <g>\n       <use style=\"stroke:#000000;stroke-width:0.8;\" x=\"44.845313\" xlink:href=\"#m931ed0d3dd\" y=\"159.365521\"/>\n      </g>\n     </g>\n     <g id=\"text_12\">\n      <!-- −0.25 -->\n      <g transform=\"translate(7.2 163.164739)scale(0.1 -0.1)\">\n       <use xlink:href=\"#DejaVuSans-8722\"/>\n       <use x=\"83.789062\" xlink:href=\"#DejaVuSans-48\"/>\n       <use x=\"147.412109\" xlink:href=\"#DejaVuSans-46\"/>\n       <use x=\"179.199219\" xlink:href=\"#DejaVuSans-50\"/>\n       <use x=\"242.822266\" xlink:href=\"#DejaVuSans-53\"/>\n      </g>\n     </g>\n    </g>\n    <g id=\"ytick_4\">\n     <g id=\"line2d_13\">\n      <g>\n       <use style=\"stroke:#000000;stroke-width:0.8;\" x=\"44.845313\" xlink:href=\"#m931ed0d3dd\" y=\"131.24262\"/>\n      </g>\n     </g>\n     <g id=\"text_13\">\n      <!-- 0.00 -->\n      <g transform=\"translate(15.579688 135.041838)scale(0.1 -0.1)\">\n       <use xlink:href=\"#DejaVuSans-48\"/>\n       <use x=\"63.623047\" xlink:href=\"#DejaVuSans-46\"/>\n       <use x=\"95.410156\" xlink:href=\"#DejaVuSans-48\"/>\n       <use x=\"159.033203\" xlink:href=\"#DejaVuSans-48\"/>\n      </g>\n     </g>\n    </g>\n    <g id=\"ytick_5\">\n     <g id=\"line2d_14\">\n      <g>\n       <use style=\"stroke:#000000;stroke-width:0.8;\" x=\"44.845313\" xlink:href=\"#m931ed0d3dd\" y=\"103.119719\"/>\n      </g>\n     </g>\n     <g id=\"text_14\">\n      <!-- 0.25 -->\n      <g transform=\"translate(15.579688 106.918937)scale(0.1 -0.1)\">\n       <use xlink:href=\"#DejaVuSans-48\"/>\n       <use x=\"63.623047\" xlink:href=\"#DejaVuSans-46\"/>\n       <use x=\"95.410156\" xlink:href=\"#DejaVuSans-50\"/>\n       <use x=\"159.033203\" xlink:href=\"#DejaVuSans-53\"/>\n      </g>\n     </g>\n    </g>\n    <g id=\"ytick_6\">\n     <g id=\"line2d_15\">\n      <g>\n       <use style=\"stroke:#000000;stroke-width:0.8;\" x=\"44.845313\" xlink:href=\"#m931ed0d3dd\" y=\"74.996818\"/>\n      </g>\n     </g>\n     <g id=\"text_15\">\n      <!-- 0.50 -->\n      <g transform=\"translate(15.579688 78.796036)scale(0.1 -0.1)\">\n       <use xlink:href=\"#DejaVuSans-48\"/>\n       <use x=\"63.623047\" xlink:href=\"#DejaVuSans-46\"/>\n       <use x=\"95.410156\" xlink:href=\"#DejaVuSans-53\"/>\n       <use x=\"159.033203\" xlink:href=\"#DejaVuSans-48\"/>\n      </g>\n     </g>\n    </g>\n    <g id=\"ytick_7\">\n     <g id=\"line2d_16\">\n      <g>\n       <use style=\"stroke:#000000;stroke-width:0.8;\" x=\"44.845313\" xlink:href=\"#m931ed0d3dd\" y=\"46.873917\"/>\n      </g>\n     </g>\n     <g id=\"text_16\">\n      <!-- 0.75 -->\n      <g transform=\"translate(15.579688 50.673135)scale(0.1 -0.1)\">\n       <use xlink:href=\"#DejaVuSans-48\"/>\n       <use x=\"63.623047\" xlink:href=\"#DejaVuSans-46\"/>\n       <use x=\"95.410156\" xlink:href=\"#DejaVuSans-55\"/>\n       <use x=\"159.033203\" xlink:href=\"#DejaVuSans-53\"/>\n      </g>\n     </g>\n    </g>\n    <g id=\"ytick_8\">\n     <g id=\"line2d_17\">\n      <g>\n       <use style=\"stroke:#000000;stroke-width:0.8;\" x=\"44.845313\" xlink:href=\"#m931ed0d3dd\" y=\"18.751015\"/>\n      </g>\n     </g>\n     <g id=\"text_17\">\n      <!-- 1.00 -->\n      <g transform=\"translate(15.579688 22.550234)scale(0.1 -0.1)\">\n       <use xlink:href=\"#DejaVuSans-49\"/>\n       <use x=\"63.623047\" xlink:href=\"#DejaVuSans-46\"/>\n       <use x=\"95.410156\" xlink:href=\"#DejaVuSans-48\"/>\n       <use x=\"159.033203\" xlink:href=\"#DejaVuSans-48\"/>\n      </g>\n     </g>\n    </g>\n   </g>\n   <g id=\"patch_3\">\n    <path d=\"M 44.845313 224.64 \nL 44.845313 7.2 \n\" style=\"fill:none;stroke:#000000;stroke-linecap:square;stroke-linejoin:miter;stroke-width:0.8;\"/>\n   </g>\n   <g id=\"patch_4\">\n    <path d=\"M 379.645313 224.64 \nL 379.645313 7.2 \n\" style=\"fill:none;stroke:#000000;stroke-linecap:square;stroke-linejoin:miter;stroke-width:0.8;\"/>\n   </g>\n   <g id=\"patch_5\">\n    <path d=\"M 44.845313 224.64 \nL 379.645313 224.64 \n\" style=\"fill:none;stroke:#000000;stroke-linecap:square;stroke-linejoin:miter;stroke-width:0.8;\"/>\n   </g>\n   <g id=\"patch_6\">\n    <path d=\"M 44.845313 7.2 \nL 379.645313 7.2 \n\" style=\"fill:none;stroke:#000000;stroke-linecap:square;stroke-linejoin:miter;stroke-width:0.8;\"/>\n   </g>\n   <g id=\"text_18\">\n    <!-- A -->\n    <defs>\n     <path d=\"M 34.1875 63.1875 \nL 20.796875 26.90625 \nL 47.609375 26.90625 \nz\nM 28.609375 72.90625 \nL 39.796875 72.90625 \nL 67.578125 0 \nL 57.328125 0 \nL 50.6875 18.703125 \nL 17.828125 18.703125 \nL 11.1875 0 \nL 0.78125 0 \nz\n\" id=\"DejaVuSans-65\"/>\n    </defs>\n    <g transform=\"translate(277.273536 57.306849)scale(0.1 -0.1)\">\n     <use xlink:href=\"#DejaVuSans-65\"/>\n    </g>\n   </g>\n   <g id=\"text_19\">\n    <!-- C -->\n    <defs>\n     <path d=\"M 64.40625 67.28125 \nL 64.40625 56.890625 \nQ 59.421875 61.53125 53.78125 63.8125 \nQ 48.140625 66.109375 41.796875 66.109375 \nQ 29.296875 66.109375 22.65625 58.46875 \nQ 16.015625 50.828125 16.015625 36.375 \nQ 16.015625 21.96875 22.65625 14.328125 \nQ 29.296875 6.6875 41.796875 6.6875 \nQ 48.140625 6.6875 53.78125 8.984375 \nQ 59.421875 11.28125 64.40625 15.921875 \nL 64.40625 5.609375 \nQ 59.234375 2.09375 53.4375 0.328125 \nQ 47.65625 -1.421875 41.21875 -1.421875 \nQ 24.65625 -1.421875 15.125 8.703125 \nQ 5.609375 18.84375 5.609375 36.375 \nQ 5.609375 53.953125 15.125 64.078125 \nQ 24.65625 74.21875 41.21875 74.21875 \nQ 47.75 74.21875 53.53125 72.484375 \nQ 59.328125 70.75 64.40625 67.28125 \nz\n\" id=\"DejaVuSans-67\"/>\n    </defs>\n    <g transform=\"translate(163.164897 65.91973)scale(0.1 -0.1)\">\n     <use xlink:href=\"#DejaVuSans-67\"/>\n    </g>\n   </g>\n   <g id=\"text_20\">\n    <!-- D -->\n    <defs>\n     <path d=\"M 19.671875 64.796875 \nL 19.671875 8.109375 \nL 31.59375 8.109375 \nQ 46.6875 8.109375 53.6875 14.9375 \nQ 60.6875 21.78125 60.6875 36.53125 \nQ 60.6875 51.171875 53.6875 57.984375 \nQ 46.6875 64.796875 31.59375 64.796875 \nz\nM 9.8125 72.90625 \nL 30.078125 72.90625 \nQ 51.265625 72.90625 61.171875 64.09375 \nQ 71.09375 55.28125 71.09375 36.53125 \nQ 71.09375 17.671875 61.125 8.828125 \nQ 51.171875 0 30.078125 0 \nL 9.8125 0 \nz\n\" id=\"DejaVuSans-68\"/>\n    </defs>\n    <g transform=\"translate(168.728595 152.014125)scale(0.1 -0.1)\">\n     <use xlink:href=\"#DejaVuSans-68\"/>\n    </g>\n   </g>\n   <g id=\"text_21\">\n    <!-- E -->\n    <defs>\n     <path d=\"M 9.8125 72.90625 \nL 55.90625 72.90625 \nL 55.90625 64.59375 \nL 19.671875 64.59375 \nL 19.671875 43.015625 \nL 54.390625 43.015625 \nL 54.390625 34.71875 \nL 19.671875 34.71875 \nL 19.671875 8.296875 \nL 56.78125 8.296875 \nL 56.78125 0 \nL 9.8125 0 \nz\n\" id=\"DejaVuSans-69\"/>\n    </defs>\n    <g transform=\"translate(109.998189 17.083636)scale(0.1 -0.1)\">\n     <use xlink:href=\"#DejaVuSans-69\"/>\n    </g>\n   </g>\n   <g id=\"text_22\">\n    <!-- F -->\n    <defs>\n     <path d=\"M 9.8125 72.90625 \nL 51.703125 72.90625 \nL 51.703125 64.59375 \nL 19.671875 64.59375 \nL 19.671875 43.109375 \nL 48.578125 43.109375 \nL 48.578125 34.8125 \nL 19.671875 34.8125 \nL 19.671875 0 \nL 9.8125 0 \nz\n\" id=\"DejaVuSans-70\"/>\n    </defs>\n    <g transform=\"translate(364.427131 164.667008)scale(0.1 -0.1)\">\n     <use xlink:href=\"#DejaVuSans-70\"/>\n    </g>\n   </g>\n   <g id=\"text_23\">\n    <!-- G -->\n    <defs>\n     <path d=\"M 59.515625 10.40625 \nL 59.515625 29.984375 \nL 43.40625 29.984375 \nL 43.40625 38.09375 \nL 69.28125 38.09375 \nL 69.28125 6.78125 \nQ 63.578125 2.734375 56.6875 0.65625 \nQ 49.8125 -1.421875 42 -1.421875 \nQ 24.90625 -1.421875 15.25 8.5625 \nQ 5.609375 18.5625 5.609375 36.375 \nQ 5.609375 54.25 15.25 64.234375 \nQ 24.90625 74.21875 42 74.21875 \nQ 49.125 74.21875 55.546875 72.453125 \nQ 61.96875 70.703125 67.390625 67.28125 \nL 67.390625 56.78125 \nQ 61.921875 61.421875 55.765625 63.765625 \nQ 49.609375 66.109375 42.828125 66.109375 \nQ 29.4375 66.109375 22.71875 58.640625 \nQ 16.015625 51.171875 16.015625 36.375 \nQ 16.015625 21.625 22.71875 14.15625 \nQ 29.4375 6.6875 42.828125 6.6875 \nQ 48.046875 6.6875 52.140625 7.59375 \nQ 56.25 8.5 59.515625 10.40625 \nz\n\" id=\"DejaVuSans-71\"/>\n    </defs>\n    <g transform=\"translate(129.807669 135.373829)scale(0.1 -0.1)\">\n     <use xlink:href=\"#DejaVuSans-71\"/>\n    </g>\n   </g>\n   <g id=\"text_24\">\n    <!-- H -->\n    <defs>\n     <path d=\"M 9.8125 72.90625 \nL 19.671875 72.90625 \nL 19.671875 43.015625 \nL 55.515625 43.015625 \nL 55.515625 72.90625 \nL 65.375 72.90625 \nL 65.375 0 \nL 55.515625 0 \nL 55.515625 34.71875 \nL 19.671875 34.71875 \nL 19.671875 0 \nL 9.8125 0 \nz\n\" id=\"DejaVuSans-72\"/>\n    </defs>\n    <g transform=\"translate(183.583584 117.013666)scale(0.1 -0.1)\">\n     <use xlink:href=\"#DejaVuSans-72\"/>\n    </g>\n   </g>\n   <g id=\"text_25\">\n    <!-- I -->\n    <defs>\n     <path d=\"M 9.8125 72.90625 \nL 19.671875 72.90625 \nL 19.671875 0 \nL 9.8125 0 \nz\n\" id=\"DejaVuSans-73\"/>\n    </defs>\n    <g transform=\"translate(219.863884 126.393997)scale(0.1 -0.1)\">\n     <use xlink:href=\"#DejaVuSans-73\"/>\n    </g>\n   </g>\n   <g id=\"text_26\">\n    <!-- K -->\n    <defs>\n     <path d=\"M 9.8125 72.90625 \nL 19.671875 72.90625 \nL 19.671875 42.09375 \nL 52.390625 72.90625 \nL 65.09375 72.90625 \nL 28.90625 38.921875 \nL 67.671875 0 \nL 54.6875 0 \nL 19.671875 35.109375 \nL 19.671875 0 \nL 9.8125 0 \nz\n\" id=\"DejaVuSans-75\"/>\n    </defs>\n    <g transform=\"translate(212.386373 214.756364)scale(0.1 -0.1)\">\n     <use xlink:href=\"#DejaVuSans-75\"/>\n    </g>\n   </g>\n   <g id=\"text_27\">\n    <!-- L -->\n    <defs>\n     <path d=\"M 9.8125 72.90625 \nL 19.671875 72.90625 \nL 19.671875 8.296875 \nL 55.171875 8.296875 \nL 55.171875 0 \nL 9.8125 0 \nz\n\" id=\"DejaVuSans-76\"/>\n    </defs>\n    <g transform=\"translate(249.783487 95.105261)scale(0.1 -0.1)\">\n     <use xlink:href=\"#DejaVuSans-76\"/>\n    </g>\n   </g>\n   <g id=\"text_28\">\n    <!-- M -->\n    <defs>\n     <path d=\"M 9.8125 72.90625 \nL 24.515625 72.90625 \nL 43.109375 23.296875 \nL 61.8125 72.90625 \nL 76.515625 72.90625 \nL 76.515625 0 \nL 66.890625 0 \nL 66.890625 64.015625 \nL 48.09375 14.015625 \nL 38.1875 14.015625 \nL 19.390625 64.015625 \nL 19.390625 0 \nL 9.8125 0 \nz\n\" id=\"DejaVuSans-77\"/>\n    </defs>\n    <g transform=\"translate(269.920843 109.42143)scale(0.1 -0.1)\">\n     <use xlink:href=\"#DejaVuSans-77\"/>\n    </g>\n   </g>\n   <g id=\"text_29\">\n    <!-- N -->\n    <defs>\n     <path d=\"M 9.8125 72.90625 \nL 23.09375 72.90625 \nL 55.421875 11.921875 \nL 55.421875 72.90625 \nL 64.984375 72.90625 \nL 64.984375 0 \nL 51.703125 0 \nL 19.390625 60.984375 \nL 19.390625 0 \nL 9.8125 0 \nz\n\" id=\"DejaVuSans-78\"/>\n    </defs>\n    <g transform=\"translate(300.852196 141.98234)scale(0.1 -0.1)\">\n     <use xlink:href=\"#DejaVuSans-78\"/>\n    </g>\n   </g>\n   <g id=\"text_30\">\n    <!-- P -->\n    <defs>\n     <path d=\"M 19.671875 64.796875 \nL 19.671875 37.40625 \nL 32.078125 37.40625 \nQ 38.96875 37.40625 42.71875 40.96875 \nQ 46.484375 44.53125 46.484375 51.125 \nQ 46.484375 57.671875 42.71875 61.234375 \nQ 38.96875 64.796875 32.078125 64.796875 \nz\nM 9.8125 72.90625 \nL 32.078125 72.90625 \nQ 44.34375 72.90625 50.609375 67.359375 \nQ 56.890625 61.8125 56.890625 51.125 \nQ 56.890625 40.328125 50.609375 34.8125 \nQ 44.34375 29.296875 32.078125 29.296875 \nL 19.671875 29.296875 \nL 19.671875 0 \nL 9.8125 0 \nz\n\" id=\"DejaVuSans-80\"/>\n    </defs>\n    <g transform=\"translate(174.645504 147.470211)scale(0.1 -0.1)\">\n     <use xlink:href=\"#DejaVuSans-80\"/>\n    </g>\n   </g>\n   <g id=\"text_31\">\n    <!-- Q -->\n    <defs>\n     <path d=\"M 39.40625 66.21875 \nQ 28.65625 66.21875 22.328125 58.203125 \nQ 16.015625 50.203125 16.015625 36.375 \nQ 16.015625 22.609375 22.328125 14.59375 \nQ 28.65625 6.59375 39.40625 6.59375 \nQ 50.140625 6.59375 56.421875 14.59375 \nQ 62.703125 22.609375 62.703125 36.375 \nQ 62.703125 50.203125 56.421875 58.203125 \nQ 50.140625 66.21875 39.40625 66.21875 \nz\nM 53.21875 1.3125 \nL 66.21875 -12.890625 \nL 54.296875 -12.890625 \nL 43.5 -1.21875 \nQ 41.890625 -1.3125 41.03125 -1.359375 \nQ 40.1875 -1.421875 39.40625 -1.421875 \nQ 24.03125 -1.421875 14.8125 8.859375 \nQ 5.609375 19.140625 5.609375 36.375 \nQ 5.609375 53.65625 14.8125 63.9375 \nQ 24.03125 74.21875 39.40625 74.21875 \nQ 54.734375 74.21875 63.90625 63.9375 \nQ 73.09375 53.65625 73.09375 36.375 \nQ 73.09375 23.6875 67.984375 14.640625 \nQ 62.890625 5.609375 53.21875 1.3125 \nz\n\" id=\"DejaVuSans-81\"/>\n    </defs>\n    <g transform=\"translate(280.88863 127.337563)scale(0.1 -0.1)\">\n     <use xlink:href=\"#DejaVuSans-81\"/>\n    </g>\n   </g>\n   <g id=\"text_32\">\n    <!-- R -->\n    <defs>\n     <path d=\"M 44.390625 34.1875 \nQ 47.5625 33.109375 50.5625 29.59375 \nQ 53.5625 26.078125 56.59375 19.921875 \nL 66.609375 0 \nL 56 0 \nL 46.6875 18.703125 \nQ 43.0625 26.03125 39.671875 28.421875 \nQ 36.28125 30.8125 30.421875 30.8125 \nL 19.671875 30.8125 \nL 19.671875 0 \nL 9.8125 0 \nL 9.8125 72.90625 \nL 32.078125 72.90625 \nQ 44.578125 72.90625 50.734375 67.671875 \nQ 56.890625 62.453125 56.890625 51.90625 \nQ 56.890625 45.015625 53.6875 40.46875 \nQ 50.484375 35.9375 44.390625 34.1875 \nz\nM 19.671875 64.796875 \nL 19.671875 38.921875 \nL 32.078125 38.921875 \nQ 39.203125 38.921875 42.84375 42.21875 \nQ 46.484375 45.515625 46.484375 51.90625 \nQ 46.484375 58.296875 42.84375 61.546875 \nQ 39.203125 64.796875 32.078125 64.796875 \nz\n\" id=\"DejaVuSans-82\"/>\n    </defs>\n    <g transform=\"translate(244.027733 189.735088)scale(0.1 -0.1)\">\n     <use xlink:href=\"#DejaVuSans-82\"/>\n    </g>\n   </g>\n   <g id=\"text_33\">\n    <!-- S -->\n    <defs>\n     <path d=\"M 53.515625 70.515625 \nL 53.515625 60.890625 \nQ 47.90625 63.578125 42.921875 64.890625 \nQ 37.9375 66.21875 33.296875 66.21875 \nQ 25.25 66.21875 20.875 63.09375 \nQ 16.5 59.96875 16.5 54.203125 \nQ 16.5 49.359375 19.40625 46.890625 \nQ 22.3125 44.4375 30.421875 42.921875 \nL 36.375 41.703125 \nQ 47.40625 39.59375 52.65625 34.296875 \nQ 57.90625 29 57.90625 20.125 \nQ 57.90625 9.515625 50.796875 4.046875 \nQ 43.703125 -1.421875 29.984375 -1.421875 \nQ 24.8125 -1.421875 18.96875 -0.25 \nQ 13.140625 0.921875 6.890625 3.21875 \nL 6.890625 13.375 \nQ 12.890625 10.015625 18.65625 8.296875 \nQ 24.421875 6.59375 29.984375 6.59375 \nQ 38.421875 6.59375 43.015625 9.90625 \nQ 47.609375 13.234375 47.609375 19.390625 \nQ 47.609375 24.75 44.3125 27.78125 \nQ 41.015625 30.8125 33.5 32.328125 \nL 27.484375 33.5 \nQ 16.453125 35.6875 11.515625 40.375 \nQ 6.59375 45.0625 6.59375 53.421875 \nQ 6.59375 63.09375 13.40625 68.65625 \nQ 20.21875 74.21875 32.171875 74.21875 \nQ 37.3125 74.21875 42.625 73.28125 \nQ 47.953125 72.359375 53.515625 70.515625 \nz\n\" id=\"DejaVuSans-83\"/>\n    </defs>\n    <g transform=\"translate(141.290046 135.063147)scale(0.1 -0.1)\">\n     <use xlink:href=\"#DejaVuSans-83\"/>\n    </g>\n   </g>\n   <g id=\"text_34\">\n    <!-- T -->\n    <defs>\n     <path d=\"M -0.296875 72.90625 \nL 61.375 72.90625 \nL 61.375 64.59375 \nL 35.5 64.59375 \nL 35.5 0 \nL 25.59375 0 \nL 25.59375 64.59375 \nL -0.296875 64.59375 \nz\n\" id=\"DejaVuSans-84\"/>\n    </defs>\n    <g transform=\"translate(160.650246 76.19974)scale(0.1 -0.1)\">\n     <use xlink:href=\"#DejaVuSans-84\"/>\n    </g>\n   </g>\n   <g id=\"text_35\">\n    <!-- U -->\n    <defs>\n     <path d=\"M 8.6875 72.90625 \nL 18.609375 72.90625 \nL 18.609375 28.609375 \nQ 18.609375 16.890625 22.84375 11.734375 \nQ 27.09375 6.59375 36.625 6.59375 \nQ 46.09375 6.59375 50.34375 11.734375 \nQ 54.59375 16.890625 54.59375 28.609375 \nL 54.59375 72.90625 \nL 64.5 72.90625 \nL 64.5 27.390625 \nQ 64.5 13.140625 57.4375 5.859375 \nQ 50.390625 -1.421875 36.625 -1.421875 \nQ 22.796875 -1.421875 15.734375 5.859375 \nQ 8.6875 13.140625 8.6875 27.390625 \nz\n\" id=\"DejaVuSans-85\"/>\n    </defs>\n    <g transform=\"translate(177.080622 204.376296)scale(0.1 -0.1)\">\n     <use xlink:href=\"#DejaVuSans-85\"/>\n    </g>\n   </g>\n   <g id=\"text_36\">\n    <!-- V -->\n    <defs>\n     <path d=\"M 28.609375 0 \nL 0.78125 72.90625 \nL 11.078125 72.90625 \nL 34.1875 11.53125 \nL 57.328125 72.90625 \nL 67.578125 72.90625 \nL 39.796875 0 \nz\n\" id=\"DejaVuSans-86\"/>\n    </defs>\n    <g transform=\"translate(287.901683 96.170072)scale(0.1 -0.1)\">\n     <use xlink:href=\"#DejaVuSans-86\"/>\n    </g>\n   </g>\n   <g id=\"text_37\">\n    <!-- W -->\n    <defs>\n     <path d=\"M 3.328125 72.90625 \nL 13.28125 72.90625 \nL 28.609375 11.28125 \nL 43.890625 72.90625 \nL 54.984375 72.90625 \nL 70.3125 11.28125 \nL 85.59375 72.90625 \nL 95.609375 72.90625 \nL 77.296875 0 \nL 64.890625 0 \nL 49.515625 63.28125 \nL 33.984375 0 \nL 21.578125 0 \nz\n\" id=\"DejaVuSans-87\"/>\n    </defs>\n    <g transform=\"translate(120.831864 177.353502)scale(0.1 -0.1)\">\n     <use xlink:href=\"#DejaVuSans-87\"/>\n    </g>\n   </g>\n   <g id=\"text_38\">\n    <!-- X -->\n    <defs>\n     <path d=\"M 6.296875 72.90625 \nL 16.890625 72.90625 \nL 35.015625 45.796875 \nL 53.21875 72.90625 \nL 63.8125 72.90625 \nL 40.375 37.890625 \nL 65.375 0 \nL 54.78125 0 \nL 34.28125 31 \nL 13.625 0 \nL 2.984375 0 \nL 29 38.921875 \nz\n\" id=\"DejaVuSans-88\"/>\n    </defs>\n    <g transform=\"translate(267.274092 153.136936)scale(0.1 -0.1)\">\n     <use xlink:href=\"#DejaVuSans-88\"/>\n    </g>\n   </g>\n   <g id=\"text_39\">\n    <!-- Y -->\n    <defs>\n     <path d=\"M -0.203125 72.90625 \nL 10.40625 72.90625 \nL 30.609375 42.921875 \nL 50.6875 72.90625 \nL 61.28125 72.90625 \nL 35.5 34.71875 \nL 35.5 0 \nL 25.59375 0 \nL 25.59375 34.71875 \nz\n\" id=\"DejaVuSans-89\"/>\n    </defs>\n    <g transform=\"translate(60.063494 183.456842)scale(0.1 -0.1)\">\n     <use xlink:href=\"#DejaVuSans-89\"/>\n    </g>\n   </g>\n  </g>\n </g>\n <defs>\n  <clipPath id=\"p48264b54fd\">\n   <rect height=\"217.44\" width=\"334.8\" x=\"44.845313\" y=\"7.2\"/>\n  </clipPath>\n </defs>\n</svg>\n"
          },
          "metadata": {
            "needs_background": "light"
          }
        }
      ],
      "source": [
        "result= compute_pca(X, 2)\n",
        "pyplot.scatter(result[:, 0], result[:, 1])\n",
        "for i, word in enumerate(words):\n",
        "    pyplot.annotate(word, xy=(result[i, 0], result[i, 1]))\n",
        "pyplot.show()"
      ]
    },
    {
      "cell_type": "code",
      "execution_count": 56,
      "id": "0b17f56c",
      "metadata": {
        "id": "0b17f56c",
        "colab": {
          "base_uri": "https://localhost:8080/",
          "height": 353
        },
        "outputId": "a78915f2-9d5a-472e-ed9f-d1111db20a03"
      },
      "outputs": [
        {
          "output_type": "display_data",
          "data": {
            "text/plain": [
              "<Figure size 432x288 with 1 Axes>"
            ],
            "image/svg+xml": "<?xml version=\"1.0\" encoding=\"utf-8\" standalone=\"no\"?>\n<!DOCTYPE svg PUBLIC \"-//W3C//DTD SVG 1.1//EN\"\n  \"http://www.w3.org/Graphics/SVG/1.1/DTD/svg11.dtd\">\n<!-- Created with matplotlib (https://matplotlib.org/) -->\n<svg height=\"248.518125pt\" version=\"1.1\" viewBox=\"0 0 389.008082 248.518125\" width=\"389.008082pt\" xmlns=\"http://www.w3.org/2000/svg\" xmlns:xlink=\"http://www.w3.org/1999/xlink\">\n <defs>\n  <style type=\"text/css\">\n*{stroke-linecap:butt;stroke-linejoin:round;}\n  </style>\n </defs>\n <g id=\"figure_1\">\n  <g id=\"patch_1\">\n   <path d=\"M 0 248.518125 \nL 389.008082 248.518125 \nL 389.008082 0 \nL 0 0 \nz\n\" style=\"fill:none;\"/>\n  </g>\n  <g id=\"axes_1\">\n   <g id=\"patch_2\">\n    <path d=\"M 44.845313 224.64 \nL 379.645313 224.64 \nL 379.645313 7.2 \nL 44.845313 7.2 \nz\n\" style=\"fill:#ffffff;\"/>\n   </g>\n   <g id=\"PathCollection_1\">\n    <defs>\n     <path d=\"M 0 3 \nC 0.795609 3 1.55874 2.683901 2.12132 2.12132 \nC 2.683901 1.55874 3 0.795609 3 0 \nC 3 -0.795609 2.683901 -1.55874 2.12132 -2.12132 \nC 1.55874 -2.683901 0.795609 -3 0 -3 \nC -0.795609 -3 -1.55874 -2.683901 -2.12132 -2.12132 \nC -2.683901 -1.55874 -3 -0.795609 -3 0 \nC -3 0.795609 -2.683901 1.55874 -2.12132 2.12132 \nC -1.55874 2.683901 -0.795609 3 0 3 \nz\n\" id=\"ma52b13d974\" style=\"stroke:#1f77b4;\"/>\n    </defs>\n    <g clip-path=\"url(#p2a858702c6)\">\n     <use style=\"fill:#1f77b4;stroke:#1f77b4;\" x=\"101.735178\" xlink:href=\"#ma52b13d974\" y=\"57.306849\"/>\n     <use style=\"fill:#1f77b4;stroke:#1f77b4;\" x=\"245.325566\" xlink:href=\"#ma52b13d974\" y=\"65.91973\"/>\n     <use style=\"fill:#1f77b4;stroke:#1f77b4;\" x=\"155.712641\" xlink:href=\"#ma52b13d974\" y=\"152.014125\"/>\n     <use style=\"fill:#1f77b4;stroke:#1f77b4;\" x=\"189.53695\" xlink:href=\"#ma52b13d974\" y=\"17.083636\"/>\n     <use style=\"fill:#1f77b4;stroke:#1f77b4;\" x=\"302.307978\" xlink:href=\"#ma52b13d974\" y=\"164.667008\"/>\n     <use style=\"fill:#1f77b4;stroke:#1f77b4;\" x=\"214.602541\" xlink:href=\"#ma52b13d974\" y=\"135.373829\"/>\n     <use style=\"fill:#1f77b4;stroke:#1f77b4;\" x=\"88.637274\" xlink:href=\"#ma52b13d974\" y=\"117.013666\"/>\n     <use style=\"fill:#1f77b4;stroke:#1f77b4;\" x=\"155.268154\" xlink:href=\"#ma52b13d974\" y=\"126.393997\"/>\n     <use style=\"fill:#1f77b4;stroke:#1f77b4;\" x=\"77.115639\" xlink:href=\"#ma52b13d974\" y=\"214.756364\"/>\n     <use style=\"fill:#1f77b4;stroke:#1f77b4;\" x=\"250.413663\" xlink:href=\"#ma52b13d974\" y=\"95.105261\"/>\n     <use style=\"fill:#1f77b4;stroke:#1f77b4;\" x=\"364.427131\" xlink:href=\"#ma52b13d974\" y=\"109.42143\"/>\n     <use style=\"fill:#1f77b4;stroke:#1f77b4;\" x=\"203.20719\" xlink:href=\"#ma52b13d974\" y=\"141.98234\"/>\n     <use style=\"fill:#1f77b4;stroke:#1f77b4;\" x=\"288.459278\" xlink:href=\"#ma52b13d974\" y=\"147.470211\"/>\n     <use style=\"fill:#1f77b4;stroke:#1f77b4;\" x=\"161.76246\" xlink:href=\"#ma52b13d974\" y=\"127.337563\"/>\n     <use style=\"fill:#1f77b4;stroke:#1f77b4;\" x=\"249.318215\" xlink:href=\"#ma52b13d974\" y=\"189.735088\"/>\n     <use style=\"fill:#1f77b4;stroke:#1f77b4;\" x=\"152.75928\" xlink:href=\"#ma52b13d974\" y=\"135.063147\"/>\n     <use style=\"fill:#1f77b4;stroke:#1f77b4;\" x=\"327.191004\" xlink:href=\"#ma52b13d974\" y=\"76.19974\"/>\n     <use style=\"fill:#1f77b4;stroke:#1f77b4;\" x=\"337.549889\" xlink:href=\"#ma52b13d974\" y=\"204.376296\"/>\n     <use style=\"fill:#1f77b4;stroke:#1f77b4;\" x=\"60.063494\" xlink:href=\"#ma52b13d974\" y=\"96.170072\"/>\n     <use style=\"fill:#1f77b4;stroke:#1f77b4;\" x=\"102.633158\" xlink:href=\"#ma52b13d974\" y=\"177.353502\"/>\n     <use style=\"fill:#1f77b4;stroke:#1f77b4;\" x=\"77.708792\" xlink:href=\"#ma52b13d974\" y=\"153.136936\"/>\n     <use style=\"fill:#1f77b4;stroke:#1f77b4;\" x=\"213.197536\" xlink:href=\"#ma52b13d974\" y=\"183.456842\"/>\n    </g>\n   </g>\n   <g id=\"matplotlib.axis_1\">\n    <g id=\"xtick_1\">\n     <g id=\"line2d_1\">\n      <defs>\n       <path d=\"M 0 0 \nL 0 3.5 \n\" id=\"mc43864f655\" style=\"stroke:#000000;stroke-width:0.8;\"/>\n      </defs>\n      <g>\n       <use style=\"stroke:#000000;stroke-width:0.8;\" x=\"63.1591\" xlink:href=\"#mc43864f655\" y=\"224.64\"/>\n      </g>\n     </g>\n     <g id=\"text_1\">\n      <!-- −0.6 -->\n      <defs>\n       <path d=\"M 10.59375 35.5 \nL 73.1875 35.5 \nL 73.1875 27.203125 \nL 10.59375 27.203125 \nz\n\" id=\"DejaVuSans-8722\"/>\n       <path d=\"M 31.78125 66.40625 \nQ 24.171875 66.40625 20.328125 58.90625 \nQ 16.5 51.421875 16.5 36.375 \nQ 16.5 21.390625 20.328125 13.890625 \nQ 24.171875 6.390625 31.78125 6.390625 \nQ 39.453125 6.390625 43.28125 13.890625 \nQ 47.125 21.390625 47.125 36.375 \nQ 47.125 51.421875 43.28125 58.90625 \nQ 39.453125 66.40625 31.78125 66.40625 \nz\nM 31.78125 74.21875 \nQ 44.046875 74.21875 50.515625 64.515625 \nQ 56.984375 54.828125 56.984375 36.375 \nQ 56.984375 17.96875 50.515625 8.265625 \nQ 44.046875 -1.421875 31.78125 -1.421875 \nQ 19.53125 -1.421875 13.0625 8.265625 \nQ 6.59375 17.96875 6.59375 36.375 \nQ 6.59375 54.828125 13.0625 64.515625 \nQ 19.53125 74.21875 31.78125 74.21875 \nz\n\" id=\"DejaVuSans-48\"/>\n       <path d=\"M 10.6875 12.40625 \nL 21 12.40625 \nL 21 0 \nL 10.6875 0 \nz\n\" id=\"DejaVuSans-46\"/>\n       <path d=\"M 33.015625 40.375 \nQ 26.375 40.375 22.484375 35.828125 \nQ 18.609375 31.296875 18.609375 23.390625 \nQ 18.609375 15.53125 22.484375 10.953125 \nQ 26.375 6.390625 33.015625 6.390625 \nQ 39.65625 6.390625 43.53125 10.953125 \nQ 47.40625 15.53125 47.40625 23.390625 \nQ 47.40625 31.296875 43.53125 35.828125 \nQ 39.65625 40.375 33.015625 40.375 \nz\nM 52.59375 71.296875 \nL 52.59375 62.3125 \nQ 48.875 64.0625 45.09375 64.984375 \nQ 41.3125 65.921875 37.59375 65.921875 \nQ 27.828125 65.921875 22.671875 59.328125 \nQ 17.53125 52.734375 16.796875 39.40625 \nQ 19.671875 43.65625 24.015625 45.921875 \nQ 28.375 48.1875 33.59375 48.1875 \nQ 44.578125 48.1875 50.953125 41.515625 \nQ 57.328125 34.859375 57.328125 23.390625 \nQ 57.328125 12.15625 50.6875 5.359375 \nQ 44.046875 -1.421875 33.015625 -1.421875 \nQ 20.359375 -1.421875 13.671875 8.265625 \nQ 6.984375 17.96875 6.984375 36.375 \nQ 6.984375 53.65625 15.1875 63.9375 \nQ 23.390625 74.21875 37.203125 74.21875 \nQ 40.921875 74.21875 44.703125 73.484375 \nQ 48.484375 72.75 52.59375 71.296875 \nz\n\" id=\"DejaVuSans-54\"/>\n      </defs>\n      <g transform=\"translate(51.017694 239.238437)scale(0.1 -0.1)\">\n       <use xlink:href=\"#DejaVuSans-8722\"/>\n       <use x=\"83.789062\" xlink:href=\"#DejaVuSans-48\"/>\n       <use x=\"147.412109\" xlink:href=\"#DejaVuSans-46\"/>\n       <use x=\"179.199219\" xlink:href=\"#DejaVuSans-54\"/>\n      </g>\n     </g>\n    </g>\n    <g id=\"xtick_2\">\n     <g id=\"line2d_2\">\n      <g>\n       <use style=\"stroke:#000000;stroke-width:0.8;\" x=\"107.544446\" xlink:href=\"#mc43864f655\" y=\"224.64\"/>\n      </g>\n     </g>\n     <g id=\"text_2\">\n      <!-- −0.4 -->\n      <defs>\n       <path d=\"M 37.796875 64.3125 \nL 12.890625 25.390625 \nL 37.796875 25.390625 \nz\nM 35.203125 72.90625 \nL 47.609375 72.90625 \nL 47.609375 25.390625 \nL 58.015625 25.390625 \nL 58.015625 17.1875 \nL 47.609375 17.1875 \nL 47.609375 0 \nL 37.796875 0 \nL 37.796875 17.1875 \nL 4.890625 17.1875 \nL 4.890625 26.703125 \nz\n\" id=\"DejaVuSans-52\"/>\n      </defs>\n      <g transform=\"translate(95.403039 239.238437)scale(0.1 -0.1)\">\n       <use xlink:href=\"#DejaVuSans-8722\"/>\n       <use x=\"83.789062\" xlink:href=\"#DejaVuSans-48\"/>\n       <use x=\"147.412109\" xlink:href=\"#DejaVuSans-46\"/>\n       <use x=\"179.199219\" xlink:href=\"#DejaVuSans-52\"/>\n      </g>\n     </g>\n    </g>\n    <g id=\"xtick_3\">\n     <g id=\"line2d_3\">\n      <g>\n       <use style=\"stroke:#000000;stroke-width:0.8;\" x=\"151.929791\" xlink:href=\"#mc43864f655\" y=\"224.64\"/>\n      </g>\n     </g>\n     <g id=\"text_3\">\n      <!-- −0.2 -->\n      <defs>\n       <path d=\"M 19.1875 8.296875 \nL 53.609375 8.296875 \nL 53.609375 0 \nL 7.328125 0 \nL 7.328125 8.296875 \nQ 12.9375 14.109375 22.625 23.890625 \nQ 32.328125 33.6875 34.8125 36.53125 \nQ 39.546875 41.84375 41.421875 45.53125 \nQ 43.3125 49.21875 43.3125 52.78125 \nQ 43.3125 58.59375 39.234375 62.25 \nQ 35.15625 65.921875 28.609375 65.921875 \nQ 23.96875 65.921875 18.8125 64.3125 \nQ 13.671875 62.703125 7.8125 59.421875 \nL 7.8125 69.390625 \nQ 13.765625 71.78125 18.9375 73 \nQ 24.125 74.21875 28.421875 74.21875 \nQ 39.75 74.21875 46.484375 68.546875 \nQ 53.21875 62.890625 53.21875 53.421875 \nQ 53.21875 48.921875 51.53125 44.890625 \nQ 49.859375 40.875 45.40625 35.40625 \nQ 44.1875 33.984375 37.640625 27.21875 \nQ 31.109375 20.453125 19.1875 8.296875 \nz\n\" id=\"DejaVuSans-50\"/>\n      </defs>\n      <g transform=\"translate(139.788385 239.238437)scale(0.1 -0.1)\">\n       <use xlink:href=\"#DejaVuSans-8722\"/>\n       <use x=\"83.789062\" xlink:href=\"#DejaVuSans-48\"/>\n       <use x=\"147.412109\" xlink:href=\"#DejaVuSans-46\"/>\n       <use x=\"179.199219\" xlink:href=\"#DejaVuSans-50\"/>\n      </g>\n     </g>\n    </g>\n    <g id=\"xtick_4\">\n     <g id=\"line2d_4\">\n      <g>\n       <use style=\"stroke:#000000;stroke-width:0.8;\" x=\"196.315137\" xlink:href=\"#mc43864f655\" y=\"224.64\"/>\n      </g>\n     </g>\n     <g id=\"text_4\">\n      <!-- 0.0 -->\n      <g transform=\"translate(188.363574 239.238437)scale(0.1 -0.1)\">\n       <use xlink:href=\"#DejaVuSans-48\"/>\n       <use x=\"63.623047\" xlink:href=\"#DejaVuSans-46\"/>\n       <use x=\"95.410156\" xlink:href=\"#DejaVuSans-48\"/>\n      </g>\n     </g>\n    </g>\n    <g id=\"xtick_5\">\n     <g id=\"line2d_5\">\n      <g>\n       <use style=\"stroke:#000000;stroke-width:0.8;\" x=\"240.700483\" xlink:href=\"#mc43864f655\" y=\"224.64\"/>\n      </g>\n     </g>\n     <g id=\"text_5\">\n      <!-- 0.2 -->\n      <g transform=\"translate(232.74892 239.238437)scale(0.1 -0.1)\">\n       <use xlink:href=\"#DejaVuSans-48\"/>\n       <use x=\"63.623047\" xlink:href=\"#DejaVuSans-46\"/>\n       <use x=\"95.410156\" xlink:href=\"#DejaVuSans-50\"/>\n      </g>\n     </g>\n    </g>\n    <g id=\"xtick_6\">\n     <g id=\"line2d_6\">\n      <g>\n       <use style=\"stroke:#000000;stroke-width:0.8;\" x=\"285.085828\" xlink:href=\"#mc43864f655\" y=\"224.64\"/>\n      </g>\n     </g>\n     <g id=\"text_6\">\n      <!-- 0.4 -->\n      <g transform=\"translate(277.134266 239.238437)scale(0.1 -0.1)\">\n       <use xlink:href=\"#DejaVuSans-48\"/>\n       <use x=\"63.623047\" xlink:href=\"#DejaVuSans-46\"/>\n       <use x=\"95.410156\" xlink:href=\"#DejaVuSans-52\"/>\n      </g>\n     </g>\n    </g>\n    <g id=\"xtick_7\">\n     <g id=\"line2d_7\">\n      <g>\n       <use style=\"stroke:#000000;stroke-width:0.8;\" x=\"329.471174\" xlink:href=\"#mc43864f655\" y=\"224.64\"/>\n      </g>\n     </g>\n     <g id=\"text_7\">\n      <!-- 0.6 -->\n      <g transform=\"translate(321.519611 239.238437)scale(0.1 -0.1)\">\n       <use xlink:href=\"#DejaVuSans-48\"/>\n       <use x=\"63.623047\" xlink:href=\"#DejaVuSans-46\"/>\n       <use x=\"95.410156\" xlink:href=\"#DejaVuSans-54\"/>\n      </g>\n     </g>\n    </g>\n    <g id=\"xtick_8\">\n     <g id=\"line2d_8\">\n      <g>\n       <use style=\"stroke:#000000;stroke-width:0.8;\" x=\"373.85652\" xlink:href=\"#mc43864f655\" y=\"224.64\"/>\n      </g>\n     </g>\n     <g id=\"text_8\">\n      <!-- 0.8 -->\n      <defs>\n       <path d=\"M 31.78125 34.625 \nQ 24.75 34.625 20.71875 30.859375 \nQ 16.703125 27.09375 16.703125 20.515625 \nQ 16.703125 13.921875 20.71875 10.15625 \nQ 24.75 6.390625 31.78125 6.390625 \nQ 38.8125 6.390625 42.859375 10.171875 \nQ 46.921875 13.96875 46.921875 20.515625 \nQ 46.921875 27.09375 42.890625 30.859375 \nQ 38.875 34.625 31.78125 34.625 \nz\nM 21.921875 38.8125 \nQ 15.578125 40.375 12.03125 44.71875 \nQ 8.5 49.078125 8.5 55.328125 \nQ 8.5 64.0625 14.71875 69.140625 \nQ 20.953125 74.21875 31.78125 74.21875 \nQ 42.671875 74.21875 48.875 69.140625 \nQ 55.078125 64.0625 55.078125 55.328125 \nQ 55.078125 49.078125 51.53125 44.71875 \nQ 48 40.375 41.703125 38.8125 \nQ 48.828125 37.15625 52.796875 32.3125 \nQ 56.78125 27.484375 56.78125 20.515625 \nQ 56.78125 9.90625 50.3125 4.234375 \nQ 43.84375 -1.421875 31.78125 -1.421875 \nQ 19.734375 -1.421875 13.25 4.234375 \nQ 6.78125 9.90625 6.78125 20.515625 \nQ 6.78125 27.484375 10.78125 32.3125 \nQ 14.796875 37.15625 21.921875 38.8125 \nz\nM 18.3125 54.390625 \nQ 18.3125 48.734375 21.84375 45.5625 \nQ 25.390625 42.390625 31.78125 42.390625 \nQ 38.140625 42.390625 41.71875 45.5625 \nQ 45.3125 48.734375 45.3125 54.390625 \nQ 45.3125 60.0625 41.71875 63.234375 \nQ 38.140625 66.40625 31.78125 66.40625 \nQ 25.390625 66.40625 21.84375 63.234375 \nQ 18.3125 60.0625 18.3125 54.390625 \nz\n\" id=\"DejaVuSans-56\"/>\n      </defs>\n      <g transform=\"translate(365.904957 239.238437)scale(0.1 -0.1)\">\n       <use xlink:href=\"#DejaVuSans-48\"/>\n       <use x=\"63.623047\" xlink:href=\"#DejaVuSans-46\"/>\n       <use x=\"95.410156\" xlink:href=\"#DejaVuSans-56\"/>\n      </g>\n     </g>\n    </g>\n   </g>\n   <g id=\"matplotlib.axis_2\">\n    <g id=\"ytick_1\">\n     <g id=\"line2d_9\">\n      <defs>\n       <path d=\"M 0 0 \nL -3.5 0 \n\" id=\"mdd616cb8c9\" style=\"stroke:#000000;stroke-width:0.8;\"/>\n      </defs>\n      <g>\n       <use style=\"stroke:#000000;stroke-width:0.8;\" x=\"44.845313\" xlink:href=\"#mdd616cb8c9\" y=\"215.611323\"/>\n      </g>\n     </g>\n     <g id=\"text_9\">\n      <!-- −0.75 -->\n      <defs>\n       <path d=\"M 8.203125 72.90625 \nL 55.078125 72.90625 \nL 55.078125 68.703125 \nL 28.609375 0 \nL 18.3125 0 \nL 43.21875 64.59375 \nL 8.203125 64.59375 \nz\n\" id=\"DejaVuSans-55\"/>\n       <path d=\"M 10.796875 72.90625 \nL 49.515625 72.90625 \nL 49.515625 64.59375 \nL 19.828125 64.59375 \nL 19.828125 46.734375 \nQ 21.96875 47.46875 24.109375 47.828125 \nQ 26.265625 48.1875 28.421875 48.1875 \nQ 40.625 48.1875 47.75 41.5 \nQ 54.890625 34.8125 54.890625 23.390625 \nQ 54.890625 11.625 47.5625 5.09375 \nQ 40.234375 -1.421875 26.90625 -1.421875 \nQ 22.3125 -1.421875 17.546875 -0.640625 \nQ 12.796875 0.140625 7.71875 1.703125 \nL 7.71875 11.625 \nQ 12.109375 9.234375 16.796875 8.0625 \nQ 21.484375 6.890625 26.703125 6.890625 \nQ 35.15625 6.890625 40.078125 11.328125 \nQ 45.015625 15.765625 45.015625 23.390625 \nQ 45.015625 31 40.078125 35.4375 \nQ 35.15625 39.890625 26.703125 39.890625 \nQ 22.75 39.890625 18.8125 39.015625 \nQ 14.890625 38.140625 10.796875 36.28125 \nz\n\" id=\"DejaVuSans-53\"/>\n      </defs>\n      <g transform=\"translate(7.2 219.410541)scale(0.1 -0.1)\">\n       <use xlink:href=\"#DejaVuSans-8722\"/>\n       <use x=\"83.789062\" xlink:href=\"#DejaVuSans-48\"/>\n       <use x=\"147.412109\" xlink:href=\"#DejaVuSans-46\"/>\n       <use x=\"179.199219\" xlink:href=\"#DejaVuSans-55\"/>\n       <use x=\"242.822266\" xlink:href=\"#DejaVuSans-53\"/>\n      </g>\n     </g>\n    </g>\n    <g id=\"ytick_2\">\n     <g id=\"line2d_10\">\n      <g>\n       <use style=\"stroke:#000000;stroke-width:0.8;\" x=\"44.845313\" xlink:href=\"#mdd616cb8c9\" y=\"187.488422\"/>\n      </g>\n     </g>\n     <g id=\"text_10\">\n      <!-- −0.50 -->\n      <g transform=\"translate(7.2 191.28764)scale(0.1 -0.1)\">\n       <use xlink:href=\"#DejaVuSans-8722\"/>\n       <use x=\"83.789062\" xlink:href=\"#DejaVuSans-48\"/>\n       <use x=\"147.412109\" xlink:href=\"#DejaVuSans-46\"/>\n       <use x=\"179.199219\" xlink:href=\"#DejaVuSans-53\"/>\n       <use x=\"242.822266\" xlink:href=\"#DejaVuSans-48\"/>\n      </g>\n     </g>\n    </g>\n    <g id=\"ytick_3\">\n     <g id=\"line2d_11\">\n      <g>\n       <use style=\"stroke:#000000;stroke-width:0.8;\" x=\"44.845313\" xlink:href=\"#mdd616cb8c9\" y=\"159.365521\"/>\n      </g>\n     </g>\n     <g id=\"text_11\">\n      <!-- −0.25 -->\n      <g transform=\"translate(7.2 163.164739)scale(0.1 -0.1)\">\n       <use xlink:href=\"#DejaVuSans-8722\"/>\n       <use x=\"83.789062\" xlink:href=\"#DejaVuSans-48\"/>\n       <use x=\"147.412109\" xlink:href=\"#DejaVuSans-46\"/>\n       <use x=\"179.199219\" xlink:href=\"#DejaVuSans-50\"/>\n       <use x=\"242.822266\" xlink:href=\"#DejaVuSans-53\"/>\n      </g>\n     </g>\n    </g>\n    <g id=\"ytick_4\">\n     <g id=\"line2d_12\">\n      <g>\n       <use style=\"stroke:#000000;stroke-width:0.8;\" x=\"44.845313\" xlink:href=\"#mdd616cb8c9\" y=\"131.24262\"/>\n      </g>\n     </g>\n     <g id=\"text_12\">\n      <!-- 0.00 -->\n      <g transform=\"translate(15.579688 135.041838)scale(0.1 -0.1)\">\n       <use xlink:href=\"#DejaVuSans-48\"/>\n       <use x=\"63.623047\" xlink:href=\"#DejaVuSans-46\"/>\n       <use x=\"95.410156\" xlink:href=\"#DejaVuSans-48\"/>\n       <use x=\"159.033203\" xlink:href=\"#DejaVuSans-48\"/>\n      </g>\n     </g>\n    </g>\n    <g id=\"ytick_5\">\n     <g id=\"line2d_13\">\n      <g>\n       <use style=\"stroke:#000000;stroke-width:0.8;\" x=\"44.845313\" xlink:href=\"#mdd616cb8c9\" y=\"103.119719\"/>\n      </g>\n     </g>\n     <g id=\"text_13\">\n      <!-- 0.25 -->\n      <g transform=\"translate(15.579688 106.918937)scale(0.1 -0.1)\">\n       <use xlink:href=\"#DejaVuSans-48\"/>\n       <use x=\"63.623047\" xlink:href=\"#DejaVuSans-46\"/>\n       <use x=\"95.410156\" xlink:href=\"#DejaVuSans-50\"/>\n       <use x=\"159.033203\" xlink:href=\"#DejaVuSans-53\"/>\n      </g>\n     </g>\n    </g>\n    <g id=\"ytick_6\">\n     <g id=\"line2d_14\">\n      <g>\n       <use style=\"stroke:#000000;stroke-width:0.8;\" x=\"44.845313\" xlink:href=\"#mdd616cb8c9\" y=\"74.996818\"/>\n      </g>\n     </g>\n     <g id=\"text_14\">\n      <!-- 0.50 -->\n      <g transform=\"translate(15.579688 78.796036)scale(0.1 -0.1)\">\n       <use xlink:href=\"#DejaVuSans-48\"/>\n       <use x=\"63.623047\" xlink:href=\"#DejaVuSans-46\"/>\n       <use x=\"95.410156\" xlink:href=\"#DejaVuSans-53\"/>\n       <use x=\"159.033203\" xlink:href=\"#DejaVuSans-48\"/>\n      </g>\n     </g>\n    </g>\n    <g id=\"ytick_7\">\n     <g id=\"line2d_15\">\n      <g>\n       <use style=\"stroke:#000000;stroke-width:0.8;\" x=\"44.845313\" xlink:href=\"#mdd616cb8c9\" y=\"46.873917\"/>\n      </g>\n     </g>\n     <g id=\"text_15\">\n      <!-- 0.75 -->\n      <g transform=\"translate(15.579688 50.673135)scale(0.1 -0.1)\">\n       <use xlink:href=\"#DejaVuSans-48\"/>\n       <use x=\"63.623047\" xlink:href=\"#DejaVuSans-46\"/>\n       <use x=\"95.410156\" xlink:href=\"#DejaVuSans-55\"/>\n       <use x=\"159.033203\" xlink:href=\"#DejaVuSans-53\"/>\n      </g>\n     </g>\n    </g>\n    <g id=\"ytick_8\">\n     <g id=\"line2d_16\">\n      <g>\n       <use style=\"stroke:#000000;stroke-width:0.8;\" x=\"44.845313\" xlink:href=\"#mdd616cb8c9\" y=\"18.751015\"/>\n      </g>\n     </g>\n     <g id=\"text_16\">\n      <!-- 1.00 -->\n      <defs>\n       <path d=\"M 12.40625 8.296875 \nL 28.515625 8.296875 \nL 28.515625 63.921875 \nL 10.984375 60.40625 \nL 10.984375 69.390625 \nL 28.421875 72.90625 \nL 38.28125 72.90625 \nL 38.28125 8.296875 \nL 54.390625 8.296875 \nL 54.390625 0 \nL 12.40625 0 \nz\n\" id=\"DejaVuSans-49\"/>\n      </defs>\n      <g transform=\"translate(15.579688 22.550234)scale(0.1 -0.1)\">\n       <use xlink:href=\"#DejaVuSans-49\"/>\n       <use x=\"63.623047\" xlink:href=\"#DejaVuSans-46\"/>\n       <use x=\"95.410156\" xlink:href=\"#DejaVuSans-48\"/>\n       <use x=\"159.033203\" xlink:href=\"#DejaVuSans-48\"/>\n      </g>\n     </g>\n    </g>\n   </g>\n   <g id=\"patch_3\">\n    <path d=\"M 44.845313 224.64 \nL 44.845313 7.2 \n\" style=\"fill:none;stroke:#000000;stroke-linecap:square;stroke-linejoin:miter;stroke-width:0.8;\"/>\n   </g>\n   <g id=\"patch_4\">\n    <path d=\"M 379.645313 224.64 \nL 379.645313 7.2 \n\" style=\"fill:none;stroke:#000000;stroke-linecap:square;stroke-linejoin:miter;stroke-width:0.8;\"/>\n   </g>\n   <g id=\"patch_5\">\n    <path d=\"M 44.845313 224.64 \nL 379.645313 224.64 \n\" style=\"fill:none;stroke:#000000;stroke-linecap:square;stroke-linejoin:miter;stroke-width:0.8;\"/>\n   </g>\n   <g id=\"patch_6\">\n    <path d=\"M 44.845313 7.2 \nL 379.645313 7.2 \n\" style=\"fill:none;stroke:#000000;stroke-linecap:square;stroke-linejoin:miter;stroke-width:0.8;\"/>\n   </g>\n   <g id=\"text_17\">\n    <!-- A -->\n    <defs>\n     <path d=\"M 34.1875 63.1875 \nL 20.796875 26.90625 \nL 47.609375 26.90625 \nz\nM 28.609375 72.90625 \nL 39.796875 72.90625 \nL 67.578125 0 \nL 57.328125 0 \nL 50.6875 18.703125 \nL 17.828125 18.703125 \nL 11.1875 0 \nL 0.78125 0 \nz\n\" id=\"DejaVuSans-65\"/>\n    </defs>\n    <g transform=\"translate(101.735178 57.306849)scale(0.1 -0.1)\">\n     <use xlink:href=\"#DejaVuSans-65\"/>\n    </g>\n   </g>\n   <g id=\"text_18\">\n    <!-- C -->\n    <defs>\n     <path d=\"M 64.40625 67.28125 \nL 64.40625 56.890625 \nQ 59.421875 61.53125 53.78125 63.8125 \nQ 48.140625 66.109375 41.796875 66.109375 \nQ 29.296875 66.109375 22.65625 58.46875 \nQ 16.015625 50.828125 16.015625 36.375 \nQ 16.015625 21.96875 22.65625 14.328125 \nQ 29.296875 6.6875 41.796875 6.6875 \nQ 48.140625 6.6875 53.78125 8.984375 \nQ 59.421875 11.28125 64.40625 15.921875 \nL 64.40625 5.609375 \nQ 59.234375 2.09375 53.4375 0.328125 \nQ 47.65625 -1.421875 41.21875 -1.421875 \nQ 24.65625 -1.421875 15.125 8.703125 \nQ 5.609375 18.84375 5.609375 36.375 \nQ 5.609375 53.953125 15.125 64.078125 \nQ 24.65625 74.21875 41.21875 74.21875 \nQ 47.75 74.21875 53.53125 72.484375 \nQ 59.328125 70.75 64.40625 67.28125 \nz\n\" id=\"DejaVuSans-67\"/>\n    </defs>\n    <g transform=\"translate(245.325566 65.91973)scale(0.1 -0.1)\">\n     <use xlink:href=\"#DejaVuSans-67\"/>\n    </g>\n   </g>\n   <g id=\"text_19\">\n    <!-- D -->\n    <defs>\n     <path d=\"M 19.671875 64.796875 \nL 19.671875 8.109375 \nL 31.59375 8.109375 \nQ 46.6875 8.109375 53.6875 14.9375 \nQ 60.6875 21.78125 60.6875 36.53125 \nQ 60.6875 51.171875 53.6875 57.984375 \nQ 46.6875 64.796875 31.59375 64.796875 \nz\nM 9.8125 72.90625 \nL 30.078125 72.90625 \nQ 51.265625 72.90625 61.171875 64.09375 \nQ 71.09375 55.28125 71.09375 36.53125 \nQ 71.09375 17.671875 61.125 8.828125 \nQ 51.171875 0 30.078125 0 \nL 9.8125 0 \nz\n\" id=\"DejaVuSans-68\"/>\n    </defs>\n    <g transform=\"translate(155.712641 152.014125)scale(0.1 -0.1)\">\n     <use xlink:href=\"#DejaVuSans-68\"/>\n    </g>\n   </g>\n   <g id=\"text_20\">\n    <!-- E -->\n    <defs>\n     <path d=\"M 9.8125 72.90625 \nL 55.90625 72.90625 \nL 55.90625 64.59375 \nL 19.671875 64.59375 \nL 19.671875 43.015625 \nL 54.390625 43.015625 \nL 54.390625 34.71875 \nL 19.671875 34.71875 \nL 19.671875 8.296875 \nL 56.78125 8.296875 \nL 56.78125 0 \nL 9.8125 0 \nz\n\" id=\"DejaVuSans-69\"/>\n    </defs>\n    <g transform=\"translate(189.53695 17.083636)scale(0.1 -0.1)\">\n     <use xlink:href=\"#DejaVuSans-69\"/>\n    </g>\n   </g>\n   <g id=\"text_21\">\n    <!-- F -->\n    <defs>\n     <path d=\"M 9.8125 72.90625 \nL 51.703125 72.90625 \nL 51.703125 64.59375 \nL 19.671875 64.59375 \nL 19.671875 43.109375 \nL 48.578125 43.109375 \nL 48.578125 34.8125 \nL 19.671875 34.8125 \nL 19.671875 0 \nL 9.8125 0 \nz\n\" id=\"DejaVuSans-70\"/>\n    </defs>\n    <g transform=\"translate(302.307978 164.667008)scale(0.1 -0.1)\">\n     <use xlink:href=\"#DejaVuSans-70\"/>\n    </g>\n   </g>\n   <g id=\"text_22\">\n    <!-- G -->\n    <defs>\n     <path d=\"M 59.515625 10.40625 \nL 59.515625 29.984375 \nL 43.40625 29.984375 \nL 43.40625 38.09375 \nL 69.28125 38.09375 \nL 69.28125 6.78125 \nQ 63.578125 2.734375 56.6875 0.65625 \nQ 49.8125 -1.421875 42 -1.421875 \nQ 24.90625 -1.421875 15.25 8.5625 \nQ 5.609375 18.5625 5.609375 36.375 \nQ 5.609375 54.25 15.25 64.234375 \nQ 24.90625 74.21875 42 74.21875 \nQ 49.125 74.21875 55.546875 72.453125 \nQ 61.96875 70.703125 67.390625 67.28125 \nL 67.390625 56.78125 \nQ 61.921875 61.421875 55.765625 63.765625 \nQ 49.609375 66.109375 42.828125 66.109375 \nQ 29.4375 66.109375 22.71875 58.640625 \nQ 16.015625 51.171875 16.015625 36.375 \nQ 16.015625 21.625 22.71875 14.15625 \nQ 29.4375 6.6875 42.828125 6.6875 \nQ 48.046875 6.6875 52.140625 7.59375 \nQ 56.25 8.5 59.515625 10.40625 \nz\n\" id=\"DejaVuSans-71\"/>\n    </defs>\n    <g transform=\"translate(214.602541 135.373829)scale(0.1 -0.1)\">\n     <use xlink:href=\"#DejaVuSans-71\"/>\n    </g>\n   </g>\n   <g id=\"text_23\">\n    <!-- H -->\n    <defs>\n     <path d=\"M 9.8125 72.90625 \nL 19.671875 72.90625 \nL 19.671875 43.015625 \nL 55.515625 43.015625 \nL 55.515625 72.90625 \nL 65.375 72.90625 \nL 65.375 0 \nL 55.515625 0 \nL 55.515625 34.71875 \nL 19.671875 34.71875 \nL 19.671875 0 \nL 9.8125 0 \nz\n\" id=\"DejaVuSans-72\"/>\n    </defs>\n    <g transform=\"translate(88.637274 117.013666)scale(0.1 -0.1)\">\n     <use xlink:href=\"#DejaVuSans-72\"/>\n    </g>\n   </g>\n   <g id=\"text_24\">\n    <!-- I -->\n    <defs>\n     <path d=\"M 9.8125 72.90625 \nL 19.671875 72.90625 \nL 19.671875 0 \nL 9.8125 0 \nz\n\" id=\"DejaVuSans-73\"/>\n    </defs>\n    <g transform=\"translate(155.268154 126.393997)scale(0.1 -0.1)\">\n     <use xlink:href=\"#DejaVuSans-73\"/>\n    </g>\n   </g>\n   <g id=\"text_25\">\n    <!-- K -->\n    <defs>\n     <path d=\"M 9.8125 72.90625 \nL 19.671875 72.90625 \nL 19.671875 42.09375 \nL 52.390625 72.90625 \nL 65.09375 72.90625 \nL 28.90625 38.921875 \nL 67.671875 0 \nL 54.6875 0 \nL 19.671875 35.109375 \nL 19.671875 0 \nL 9.8125 0 \nz\n\" id=\"DejaVuSans-75\"/>\n    </defs>\n    <g transform=\"translate(77.115639 214.756364)scale(0.1 -0.1)\">\n     <use xlink:href=\"#DejaVuSans-75\"/>\n    </g>\n   </g>\n   <g id=\"text_26\">\n    <!-- L -->\n    <defs>\n     <path d=\"M 9.8125 72.90625 \nL 19.671875 72.90625 \nL 19.671875 8.296875 \nL 55.171875 8.296875 \nL 55.171875 0 \nL 9.8125 0 \nz\n\" id=\"DejaVuSans-76\"/>\n    </defs>\n    <g transform=\"translate(250.413663 95.105261)scale(0.1 -0.1)\">\n     <use xlink:href=\"#DejaVuSans-76\"/>\n    </g>\n   </g>\n   <g id=\"text_27\">\n    <!-- M -->\n    <defs>\n     <path d=\"M 9.8125 72.90625 \nL 24.515625 72.90625 \nL 43.109375 23.296875 \nL 61.8125 72.90625 \nL 76.515625 72.90625 \nL 76.515625 0 \nL 66.890625 0 \nL 66.890625 64.015625 \nL 48.09375 14.015625 \nL 38.1875 14.015625 \nL 19.390625 64.015625 \nL 19.390625 0 \nL 9.8125 0 \nz\n\" id=\"DejaVuSans-77\"/>\n    </defs>\n    <g transform=\"translate(364.427131 109.42143)scale(0.1 -0.1)\">\n     <use xlink:href=\"#DejaVuSans-77\"/>\n    </g>\n   </g>\n   <g id=\"text_28\">\n    <!-- N -->\n    <defs>\n     <path d=\"M 9.8125 72.90625 \nL 23.09375 72.90625 \nL 55.421875 11.921875 \nL 55.421875 72.90625 \nL 64.984375 72.90625 \nL 64.984375 0 \nL 51.703125 0 \nL 19.390625 60.984375 \nL 19.390625 0 \nL 9.8125 0 \nz\n\" id=\"DejaVuSans-78\"/>\n    </defs>\n    <g transform=\"translate(203.20719 141.98234)scale(0.1 -0.1)\">\n     <use xlink:href=\"#DejaVuSans-78\"/>\n    </g>\n   </g>\n   <g id=\"text_29\">\n    <!-- P -->\n    <defs>\n     <path d=\"M 19.671875 64.796875 \nL 19.671875 37.40625 \nL 32.078125 37.40625 \nQ 38.96875 37.40625 42.71875 40.96875 \nQ 46.484375 44.53125 46.484375 51.125 \nQ 46.484375 57.671875 42.71875 61.234375 \nQ 38.96875 64.796875 32.078125 64.796875 \nz\nM 9.8125 72.90625 \nL 32.078125 72.90625 \nQ 44.34375 72.90625 50.609375 67.359375 \nQ 56.890625 61.8125 56.890625 51.125 \nQ 56.890625 40.328125 50.609375 34.8125 \nQ 44.34375 29.296875 32.078125 29.296875 \nL 19.671875 29.296875 \nL 19.671875 0 \nL 9.8125 0 \nz\n\" id=\"DejaVuSans-80\"/>\n    </defs>\n    <g transform=\"translate(288.459278 147.470211)scale(0.1 -0.1)\">\n     <use xlink:href=\"#DejaVuSans-80\"/>\n    </g>\n   </g>\n   <g id=\"text_30\">\n    <!-- Q -->\n    <defs>\n     <path d=\"M 39.40625 66.21875 \nQ 28.65625 66.21875 22.328125 58.203125 \nQ 16.015625 50.203125 16.015625 36.375 \nQ 16.015625 22.609375 22.328125 14.59375 \nQ 28.65625 6.59375 39.40625 6.59375 \nQ 50.140625 6.59375 56.421875 14.59375 \nQ 62.703125 22.609375 62.703125 36.375 \nQ 62.703125 50.203125 56.421875 58.203125 \nQ 50.140625 66.21875 39.40625 66.21875 \nz\nM 53.21875 1.3125 \nL 66.21875 -12.890625 \nL 54.296875 -12.890625 \nL 43.5 -1.21875 \nQ 41.890625 -1.3125 41.03125 -1.359375 \nQ 40.1875 -1.421875 39.40625 -1.421875 \nQ 24.03125 -1.421875 14.8125 8.859375 \nQ 5.609375 19.140625 5.609375 36.375 \nQ 5.609375 53.65625 14.8125 63.9375 \nQ 24.03125 74.21875 39.40625 74.21875 \nQ 54.734375 74.21875 63.90625 63.9375 \nQ 73.09375 53.65625 73.09375 36.375 \nQ 73.09375 23.6875 67.984375 14.640625 \nQ 62.890625 5.609375 53.21875 1.3125 \nz\n\" id=\"DejaVuSans-81\"/>\n    </defs>\n    <g transform=\"translate(161.76246 127.337563)scale(0.1 -0.1)\">\n     <use xlink:href=\"#DejaVuSans-81\"/>\n    </g>\n   </g>\n   <g id=\"text_31\">\n    <!-- R -->\n    <defs>\n     <path d=\"M 44.390625 34.1875 \nQ 47.5625 33.109375 50.5625 29.59375 \nQ 53.5625 26.078125 56.59375 19.921875 \nL 66.609375 0 \nL 56 0 \nL 46.6875 18.703125 \nQ 43.0625 26.03125 39.671875 28.421875 \nQ 36.28125 30.8125 30.421875 30.8125 \nL 19.671875 30.8125 \nL 19.671875 0 \nL 9.8125 0 \nL 9.8125 72.90625 \nL 32.078125 72.90625 \nQ 44.578125 72.90625 50.734375 67.671875 \nQ 56.890625 62.453125 56.890625 51.90625 \nQ 56.890625 45.015625 53.6875 40.46875 \nQ 50.484375 35.9375 44.390625 34.1875 \nz\nM 19.671875 64.796875 \nL 19.671875 38.921875 \nL 32.078125 38.921875 \nQ 39.203125 38.921875 42.84375 42.21875 \nQ 46.484375 45.515625 46.484375 51.90625 \nQ 46.484375 58.296875 42.84375 61.546875 \nQ 39.203125 64.796875 32.078125 64.796875 \nz\n\" id=\"DejaVuSans-82\"/>\n    </defs>\n    <g transform=\"translate(249.318215 189.735088)scale(0.1 -0.1)\">\n     <use xlink:href=\"#DejaVuSans-82\"/>\n    </g>\n   </g>\n   <g id=\"text_32\">\n    <!-- S -->\n    <defs>\n     <path d=\"M 53.515625 70.515625 \nL 53.515625 60.890625 \nQ 47.90625 63.578125 42.921875 64.890625 \nQ 37.9375 66.21875 33.296875 66.21875 \nQ 25.25 66.21875 20.875 63.09375 \nQ 16.5 59.96875 16.5 54.203125 \nQ 16.5 49.359375 19.40625 46.890625 \nQ 22.3125 44.4375 30.421875 42.921875 \nL 36.375 41.703125 \nQ 47.40625 39.59375 52.65625 34.296875 \nQ 57.90625 29 57.90625 20.125 \nQ 57.90625 9.515625 50.796875 4.046875 \nQ 43.703125 -1.421875 29.984375 -1.421875 \nQ 24.8125 -1.421875 18.96875 -0.25 \nQ 13.140625 0.921875 6.890625 3.21875 \nL 6.890625 13.375 \nQ 12.890625 10.015625 18.65625 8.296875 \nQ 24.421875 6.59375 29.984375 6.59375 \nQ 38.421875 6.59375 43.015625 9.90625 \nQ 47.609375 13.234375 47.609375 19.390625 \nQ 47.609375 24.75 44.3125 27.78125 \nQ 41.015625 30.8125 33.5 32.328125 \nL 27.484375 33.5 \nQ 16.453125 35.6875 11.515625 40.375 \nQ 6.59375 45.0625 6.59375 53.421875 \nQ 6.59375 63.09375 13.40625 68.65625 \nQ 20.21875 74.21875 32.171875 74.21875 \nQ 37.3125 74.21875 42.625 73.28125 \nQ 47.953125 72.359375 53.515625 70.515625 \nz\n\" id=\"DejaVuSans-83\"/>\n    </defs>\n    <g transform=\"translate(152.75928 135.063147)scale(0.1 -0.1)\">\n     <use xlink:href=\"#DejaVuSans-83\"/>\n    </g>\n   </g>\n   <g id=\"text_33\">\n    <!-- T -->\n    <defs>\n     <path d=\"M -0.296875 72.90625 \nL 61.375 72.90625 \nL 61.375 64.59375 \nL 35.5 64.59375 \nL 35.5 0 \nL 25.59375 0 \nL 25.59375 64.59375 \nL -0.296875 64.59375 \nz\n\" id=\"DejaVuSans-84\"/>\n    </defs>\n    <g transform=\"translate(327.191004 76.19974)scale(0.1 -0.1)\">\n     <use xlink:href=\"#DejaVuSans-84\"/>\n    </g>\n   </g>\n   <g id=\"text_34\">\n    <!-- U -->\n    <defs>\n     <path d=\"M 8.6875 72.90625 \nL 18.609375 72.90625 \nL 18.609375 28.609375 \nQ 18.609375 16.890625 22.84375 11.734375 \nQ 27.09375 6.59375 36.625 6.59375 \nQ 46.09375 6.59375 50.34375 11.734375 \nQ 54.59375 16.890625 54.59375 28.609375 \nL 54.59375 72.90625 \nL 64.5 72.90625 \nL 64.5 27.390625 \nQ 64.5 13.140625 57.4375 5.859375 \nQ 50.390625 -1.421875 36.625 -1.421875 \nQ 22.796875 -1.421875 15.734375 5.859375 \nQ 8.6875 13.140625 8.6875 27.390625 \nz\n\" id=\"DejaVuSans-85\"/>\n    </defs>\n    <g transform=\"translate(337.549889 204.376296)scale(0.1 -0.1)\">\n     <use xlink:href=\"#DejaVuSans-85\"/>\n    </g>\n   </g>\n   <g id=\"text_35\">\n    <!-- V -->\n    <defs>\n     <path d=\"M 28.609375 0 \nL 0.78125 72.90625 \nL 11.078125 72.90625 \nL 34.1875 11.53125 \nL 57.328125 72.90625 \nL 67.578125 72.90625 \nL 39.796875 0 \nz\n\" id=\"DejaVuSans-86\"/>\n    </defs>\n    <g transform=\"translate(60.063494 96.170072)scale(0.1 -0.1)\">\n     <use xlink:href=\"#DejaVuSans-86\"/>\n    </g>\n   </g>\n   <g id=\"text_36\">\n    <!-- W -->\n    <defs>\n     <path d=\"M 3.328125 72.90625 \nL 13.28125 72.90625 \nL 28.609375 11.28125 \nL 43.890625 72.90625 \nL 54.984375 72.90625 \nL 70.3125 11.28125 \nL 85.59375 72.90625 \nL 95.609375 72.90625 \nL 77.296875 0 \nL 64.890625 0 \nL 49.515625 63.28125 \nL 33.984375 0 \nL 21.578125 0 \nz\n\" id=\"DejaVuSans-87\"/>\n    </defs>\n    <g transform=\"translate(102.633158 177.353502)scale(0.1 -0.1)\">\n     <use xlink:href=\"#DejaVuSans-87\"/>\n    </g>\n   </g>\n   <g id=\"text_37\">\n    <!-- X -->\n    <defs>\n     <path d=\"M 6.296875 72.90625 \nL 16.890625 72.90625 \nL 35.015625 45.796875 \nL 53.21875 72.90625 \nL 63.8125 72.90625 \nL 40.375 37.890625 \nL 65.375 0 \nL 54.78125 0 \nL 34.28125 31 \nL 13.625 0 \nL 2.984375 0 \nL 29 38.921875 \nz\n\" id=\"DejaVuSans-88\"/>\n    </defs>\n    <g transform=\"translate(77.708792 153.136936)scale(0.1 -0.1)\">\n     <use xlink:href=\"#DejaVuSans-88\"/>\n    </g>\n   </g>\n   <g id=\"text_38\">\n    <!-- Y -->\n    <defs>\n     <path d=\"M -0.203125 72.90625 \nL 10.40625 72.90625 \nL 30.609375 42.921875 \nL 50.6875 72.90625 \nL 61.28125 72.90625 \nL 35.5 34.71875 \nL 35.5 0 \nL 25.59375 0 \nL 25.59375 34.71875 \nz\n\" id=\"DejaVuSans-89\"/>\n    </defs>\n    <g transform=\"translate(213.197536 183.456842)scale(0.1 -0.1)\">\n     <use xlink:href=\"#DejaVuSans-89\"/>\n    </g>\n   </g>\n  </g>\n </g>\n <defs>\n  <clipPath id=\"p2a858702c6\">\n   <rect height=\"217.44\" width=\"334.8\" x=\"44.845313\" y=\"7.2\"/>\n  </clipPath>\n </defs>\n</svg>\n"
          },
          "metadata": {
            "needs_background": "light"
          }
        }
      ],
      "source": [
        "result= compute_pca(X, 4)\n",
        "pyplot.scatter(result[:, 3], result[:, 1])\n",
        "for i, word in enumerate(words):\n",
        "    pyplot.annotate(word, xy=(result[i, 3], result[i, 1]))\n",
        "pyplot.show()"
      ]
    },
    {
      "cell_type": "markdown",
      "source": [
        "**VISUALIZAR LAS PROTEINAS**"
      ],
      "metadata": {
        "id": "VLMI3YGR3u0D"
      },
      "id": "VLMI3YGR3u0D"
    },
    {
      "cell_type": "code",
      "source": [
        "data_trans = []  \n",
        "\n",
        "for secuencia in range(0,len(secuencias)):\n",
        "\n",
        "  idx = []\n",
        "\n",
        "  for lon in range(0,len(secuencias[secuencia])):\n",
        "    amino = secuencias[secuencia][lon]\n",
        "    idx.append(word2Ind[amino])\n",
        "\n",
        "  #data_trans.append(embs[idx, :].sum(axis=0))\n",
        "  data_trans.append(embs[idx, :].mean(axis=0))"
      ],
      "metadata": {
        "id": "MVbfrIwfbVun"
      },
      "id": "MVbfrIwfbVun",
      "execution_count": 57,
      "outputs": []
    },
    {
      "cell_type": "code",
      "source": [
        "data_trans = np.reshape(data_trans,(1004,50))"
      ],
      "metadata": {
        "id": "fEojdUaybVxY"
      },
      "id": "fEojdUaybVxY",
      "execution_count": 58,
      "outputs": []
    },
    {
      "cell_type": "code",
      "source": [
        "data_trans"
      ],
      "metadata": {
        "colab": {
          "base_uri": "https://localhost:8080/"
        },
        "id": "NXxCDlBEbVz1",
        "outputId": "f00c2d97-054c-4fca-ffe8-9849010c9450"
      },
      "id": "NXxCDlBEbVz1",
      "execution_count": 59,
      "outputs": [
        {
          "output_type": "execute_result",
          "data": {
            "text/plain": [
              "array([[0.48714944, 0.57103666, 0.42963335, ..., 0.48775106, 0.41870548,\n",
              "        0.45275124],\n",
              "       [0.49848192, 0.50787207, 0.40778115, ..., 0.49988254, 0.42721535,\n",
              "        0.48613905],\n",
              "       [0.48930707, 0.57973457, 0.43508574, ..., 0.49044924, 0.41948576,\n",
              "        0.45662149],\n",
              "       ...,\n",
              "       [0.46628888, 0.53399438, 0.45740359, ..., 0.49822707, 0.46716815,\n",
              "        0.5103343 ],\n",
              "       [0.46539921, 0.53638406, 0.46110925, ..., 0.49919276, 0.46744946,\n",
              "        0.50916221],\n",
              "       [0.46539921, 0.53638406, 0.46110925, ..., 0.49919276, 0.46744946,\n",
              "        0.50916221]])"
            ]
          },
          "metadata": {},
          "execution_count": 59
        }
      ]
    },
    {
      "cell_type": "code",
      "source": [
        "marca = pd.read_csv('/content/drive/MyDrive/Colab_Notebooks/Taller2_NPL/ids.csv',sep=';')"
      ],
      "metadata": {
        "id": "X-SMkpqCdwa3"
      },
      "id": "X-SMkpqCdwa3",
      "execution_count": 60,
      "outputs": []
    },
    {
      "cell_type": "code",
      "source": [
        "marca"
      ],
      "metadata": {
        "colab": {
          "base_uri": "https://localhost:8080/",
          "height": 424
        },
        "id": "WN7ljwrSd7A3",
        "outputId": "6f43af2d-d745-4f7f-cab3-5d821486949d"
      },
      "id": "WN7ljwrSd7A3",
      "execution_count": 61,
      "outputs": [
        {
          "output_type": "execute_result",
          "data": {
            "text/plain": [
              "       id  Respuesta Familia\n",
              "0      1H          1       H\n",
              "1      1H          1       H\n",
              "2      1H          1       H\n",
              "3      1H          1       H\n",
              "4      1H          1       H\n",
              "...   ...        ...     ...\n",
              "999   0Ox          0      Ox\n",
              "1000  0Ox          0      Ox\n",
              "1001  0Ox          0      Ox\n",
              "1002  0Ox          0      Ox\n",
              "1003  0Ox          0      Ox\n",
              "\n",
              "[1004 rows x 3 columns]"
            ],
            "text/html": [
              "\n",
              "  <div id=\"df-89e81463-e09f-4243-9267-00b22af7c33e\">\n",
              "    <div class=\"colab-df-container\">\n",
              "      <div>\n",
              "<style scoped>\n",
              "    .dataframe tbody tr th:only-of-type {\n",
              "        vertical-align: middle;\n",
              "    }\n",
              "\n",
              "    .dataframe tbody tr th {\n",
              "        vertical-align: top;\n",
              "    }\n",
              "\n",
              "    .dataframe thead th {\n",
              "        text-align: right;\n",
              "    }\n",
              "</style>\n",
              "<table border=\"1\" class=\"dataframe\">\n",
              "  <thead>\n",
              "    <tr style=\"text-align: right;\">\n",
              "      <th></th>\n",
              "      <th>id</th>\n",
              "      <th>Respuesta</th>\n",
              "      <th>Familia</th>\n",
              "    </tr>\n",
              "  </thead>\n",
              "  <tbody>\n",
              "    <tr>\n",
              "      <th>0</th>\n",
              "      <td>1H</td>\n",
              "      <td>1</td>\n",
              "      <td>H</td>\n",
              "    </tr>\n",
              "    <tr>\n",
              "      <th>1</th>\n",
              "      <td>1H</td>\n",
              "      <td>1</td>\n",
              "      <td>H</td>\n",
              "    </tr>\n",
              "    <tr>\n",
              "      <th>2</th>\n",
              "      <td>1H</td>\n",
              "      <td>1</td>\n",
              "      <td>H</td>\n",
              "    </tr>\n",
              "    <tr>\n",
              "      <th>3</th>\n",
              "      <td>1H</td>\n",
              "      <td>1</td>\n",
              "      <td>H</td>\n",
              "    </tr>\n",
              "    <tr>\n",
              "      <th>4</th>\n",
              "      <td>1H</td>\n",
              "      <td>1</td>\n",
              "      <td>H</td>\n",
              "    </tr>\n",
              "    <tr>\n",
              "      <th>...</th>\n",
              "      <td>...</td>\n",
              "      <td>...</td>\n",
              "      <td>...</td>\n",
              "    </tr>\n",
              "    <tr>\n",
              "      <th>999</th>\n",
              "      <td>0Ox</td>\n",
              "      <td>0</td>\n",
              "      <td>Ox</td>\n",
              "    </tr>\n",
              "    <tr>\n",
              "      <th>1000</th>\n",
              "      <td>0Ox</td>\n",
              "      <td>0</td>\n",
              "      <td>Ox</td>\n",
              "    </tr>\n",
              "    <tr>\n",
              "      <th>1001</th>\n",
              "      <td>0Ox</td>\n",
              "      <td>0</td>\n",
              "      <td>Ox</td>\n",
              "    </tr>\n",
              "    <tr>\n",
              "      <th>1002</th>\n",
              "      <td>0Ox</td>\n",
              "      <td>0</td>\n",
              "      <td>Ox</td>\n",
              "    </tr>\n",
              "    <tr>\n",
              "      <th>1003</th>\n",
              "      <td>0Ox</td>\n",
              "      <td>0</td>\n",
              "      <td>Ox</td>\n",
              "    </tr>\n",
              "  </tbody>\n",
              "</table>\n",
              "<p>1004 rows × 3 columns</p>\n",
              "</div>\n",
              "      <button class=\"colab-df-convert\" onclick=\"convertToInteractive('df-89e81463-e09f-4243-9267-00b22af7c33e')\"\n",
              "              title=\"Convert this dataframe to an interactive table.\"\n",
              "              style=\"display:none;\">\n",
              "        \n",
              "  <svg xmlns=\"http://www.w3.org/2000/svg\" height=\"24px\"viewBox=\"0 0 24 24\"\n",
              "       width=\"24px\">\n",
              "    <path d=\"M0 0h24v24H0V0z\" fill=\"none\"/>\n",
              "    <path d=\"M18.56 5.44l.94 2.06.94-2.06 2.06-.94-2.06-.94-.94-2.06-.94 2.06-2.06.94zm-11 1L8.5 8.5l.94-2.06 2.06-.94-2.06-.94L8.5 2.5l-.94 2.06-2.06.94zm10 10l.94 2.06.94-2.06 2.06-.94-2.06-.94-.94-2.06-.94 2.06-2.06.94z\"/><path d=\"M17.41 7.96l-1.37-1.37c-.4-.4-.92-.59-1.43-.59-.52 0-1.04.2-1.43.59L10.3 9.45l-7.72 7.72c-.78.78-.78 2.05 0 2.83L4 21.41c.39.39.9.59 1.41.59.51 0 1.02-.2 1.41-.59l7.78-7.78 2.81-2.81c.8-.78.8-2.07 0-2.86zM5.41 20L4 18.59l7.72-7.72 1.47 1.35L5.41 20z\"/>\n",
              "  </svg>\n",
              "      </button>\n",
              "      \n",
              "  <style>\n",
              "    .colab-df-container {\n",
              "      display:flex;\n",
              "      flex-wrap:wrap;\n",
              "      gap: 12px;\n",
              "    }\n",
              "\n",
              "    .colab-df-convert {\n",
              "      background-color: #E8F0FE;\n",
              "      border: none;\n",
              "      border-radius: 50%;\n",
              "      cursor: pointer;\n",
              "      display: none;\n",
              "      fill: #1967D2;\n",
              "      height: 32px;\n",
              "      padding: 0 0 0 0;\n",
              "      width: 32px;\n",
              "    }\n",
              "\n",
              "    .colab-df-convert:hover {\n",
              "      background-color: #E2EBFA;\n",
              "      box-shadow: 0px 1px 2px rgba(60, 64, 67, 0.3), 0px 1px 3px 1px rgba(60, 64, 67, 0.15);\n",
              "      fill: #174EA6;\n",
              "    }\n",
              "\n",
              "    [theme=dark] .colab-df-convert {\n",
              "      background-color: #3B4455;\n",
              "      fill: #D2E3FC;\n",
              "    }\n",
              "\n",
              "    [theme=dark] .colab-df-convert:hover {\n",
              "      background-color: #434B5C;\n",
              "      box-shadow: 0px 1px 3px 1px rgba(0, 0, 0, 0.15);\n",
              "      filter: drop-shadow(0px 1px 2px rgba(0, 0, 0, 0.3));\n",
              "      fill: #FFFFFF;\n",
              "    }\n",
              "  </style>\n",
              "\n",
              "      <script>\n",
              "        const buttonEl =\n",
              "          document.querySelector('#df-89e81463-e09f-4243-9267-00b22af7c33e button.colab-df-convert');\n",
              "        buttonEl.style.display =\n",
              "          google.colab.kernel.accessAllowed ? 'block' : 'none';\n",
              "\n",
              "        async function convertToInteractive(key) {\n",
              "          const element = document.querySelector('#df-89e81463-e09f-4243-9267-00b22af7c33e');\n",
              "          const dataTable =\n",
              "            await google.colab.kernel.invokeFunction('convertToInteractive',\n",
              "                                                     [key], {});\n",
              "          if (!dataTable) return;\n",
              "\n",
              "          const docLinkHtml = 'Like what you see? Visit the ' +\n",
              "            '<a target=\"_blank\" href=https://colab.research.google.com/notebooks/data_table.ipynb>data table notebook</a>'\n",
              "            + ' to learn more about interactive tables.';\n",
              "          element.innerHTML = '';\n",
              "          dataTable['output_type'] = 'display_data';\n",
              "          await google.colab.output.renderOutput(dataTable, element);\n",
              "          const docLink = document.createElement('div');\n",
              "          docLink.innerHTML = docLinkHtml;\n",
              "          element.appendChild(docLink);\n",
              "        }\n",
              "      </script>\n",
              "    </div>\n",
              "  </div>\n",
              "  "
            ]
          },
          "metadata": {},
          "execution_count": 61
        }
      ]
    },
    {
      "cell_type": "code",
      "source": [
        "grupo = np.array(marca.Familia)"
      ],
      "metadata": {
        "id": "tfmmQonHeINN"
      },
      "id": "tfmmQonHeINN",
      "execution_count": 62,
      "outputs": []
    },
    {
      "cell_type": "code",
      "source": [
        "grupo"
      ],
      "metadata": {
        "colab": {
          "base_uri": "https://localhost:8080/"
        },
        "id": "LyFiVe8heQxU",
        "outputId": "0e6bc9f1-16db-4328-f57f-c639fef42fb9"
      },
      "id": "LyFiVe8heQxU",
      "execution_count": 63,
      "outputs": [
        {
          "output_type": "execute_result",
          "data": {
            "text/plain": [
              "array(['H', 'H', 'H', ..., 'Ox', 'Ox', 'Ox'], dtype=object)"
            ]
          },
          "metadata": {},
          "execution_count": 63
        }
      ]
    },
    {
      "cell_type": "code",
      "source": [
        "result= compute_pca(data_trans, 2)\n",
        "pyplot.scatter(result[:, 0], result[:, 1])\n",
        "#for i, word in enumerate(words):\n",
        "#    pyplot.annotate(word, xy=(result[i, 0], result[i, 1]))\n",
        "pyplot.show()"
      ],
      "metadata": {
        "colab": {
          "base_uri": "https://localhost:8080/",
          "height": 353
        },
        "id": "5Zw_iYCkbV3o",
        "outputId": "0c410026-a2db-4d00-b3ce-7df0e6d1f819"
      },
      "id": "5Zw_iYCkbV3o",
      "execution_count": 64,
      "outputs": [
        {
          "output_type": "display_data",
          "data": {
            "text/plain": [
              "<Figure size 432x288 with 1 Axes>"
            ],
            "image/svg+xml": "<?xml version=\"1.0\" encoding=\"utf-8\" standalone=\"no\"?>\n<!DOCTYPE svg PUBLIC \"-//W3C//DTD SVG 1.1//EN\"\n  \"http://www.w3.org/Graphics/SVG/1.1/DTD/svg11.dtd\">\n<!-- Created with matplotlib (https://matplotlib.org/) -->\n<svg height=\"248.518125pt\" version=\"1.1\" viewBox=\"0 0 387.603455 248.518125\" width=\"387.603455pt\" xmlns=\"http://www.w3.org/2000/svg\" xmlns:xlink=\"http://www.w3.org/1999/xlink\">\n <defs>\n  <style type=\"text/css\">\n*{stroke-linecap:butt;stroke-linejoin:round;}\n  </style>\n </defs>\n <g id=\"figure_1\">\n  <g id=\"patch_1\">\n   <path d=\"M 0 248.518125 \nL 387.603455 248.518125 \nL 387.603455 0 \nL 0 0 \nz\n\" style=\"fill:none;\"/>\n  </g>\n  <g id=\"axes_1\">\n   <g id=\"patch_2\">\n    <path d=\"M 44.845313 224.64 \nL 379.645313 224.64 \nL 379.645313 7.2 \nL 44.845313 7.2 \nz\n\" style=\"fill:#ffffff;\"/>\n   </g>\n   <g id=\"PathCollection_1\">\n    <defs>\n     <path d=\"M 0 3 \nC 0.795609 3 1.55874 2.683901 2.12132 2.12132 \nC 2.683901 1.55874 3 0.795609 3 0 \nC 3 -0.795609 2.683901 -1.55874 2.12132 -2.12132 \nC 1.55874 -2.683901 0.795609 -3 0 -3 \nC -0.795609 -3 -1.55874 -2.683901 -2.12132 -2.12132 \nC -2.683901 -1.55874 -3 -0.795609 -3 0 \nC -3 0.795609 -2.683901 1.55874 -2.12132 2.12132 \nC -1.55874 2.683901 -0.795609 3 0 3 \nz\n\" id=\"m702ad1c9cd\" style=\"stroke:#1f77b4;\"/>\n    </defs>\n    <g clip-path=\"url(#p7e702d6f7c)\">\n     <use style=\"fill:#1f77b4;stroke:#1f77b4;\" x=\"235.248621\" xlink:href=\"#m702ad1c9cd\" y=\"151.404967\"/>\n     <use style=\"fill:#1f77b4;stroke:#1f77b4;\" x=\"246.865973\" xlink:href=\"#m702ad1c9cd\" y=\"149.126092\"/>\n     <use style=\"fill:#1f77b4;stroke:#1f77b4;\" x=\"231.732491\" xlink:href=\"#m702ad1c9cd\" y=\"152.505738\"/>\n     <use style=\"fill:#1f77b4;stroke:#1f77b4;\" x=\"241.785931\" xlink:href=\"#m702ad1c9cd\" y=\"149.963436\"/>\n     <use style=\"fill:#1f77b4;stroke:#1f77b4;\" x=\"238.199636\" xlink:href=\"#m702ad1c9cd\" y=\"151.563066\"/>\n     <use style=\"fill:#1f77b4;stroke:#1f77b4;\" x=\"251.059678\" xlink:href=\"#m702ad1c9cd\" y=\"152.862211\"/>\n     <use style=\"fill:#1f77b4;stroke:#1f77b4;\" x=\"240.065473\" xlink:href=\"#m702ad1c9cd\" y=\"152.523675\"/>\n     <use style=\"fill:#1f77b4;stroke:#1f77b4;\" x=\"233.985579\" xlink:href=\"#m702ad1c9cd\" y=\"150.369487\"/>\n     <use style=\"fill:#1f77b4;stroke:#1f77b4;\" x=\"236.078579\" xlink:href=\"#m702ad1c9cd\" y=\"150.412689\"/>\n     <use style=\"fill:#1f77b4;stroke:#1f77b4;\" x=\"248.183636\" xlink:href=\"#m702ad1c9cd\" y=\"147.607765\"/>\n     <use style=\"fill:#1f77b4;stroke:#1f77b4;\" x=\"231.57257\" xlink:href=\"#m702ad1c9cd\" y=\"154.08902\"/>\n     <use style=\"fill:#1f77b4;stroke:#1f77b4;\" x=\"234.839485\" xlink:href=\"#m702ad1c9cd\" y=\"150.200439\"/>\n     <use style=\"fill:#1f77b4;stroke:#1f77b4;\" x=\"246.375459\" xlink:href=\"#m702ad1c9cd\" y=\"152.751936\"/>\n     <use style=\"fill:#1f77b4;stroke:#1f77b4;\" x=\"239.055289\" xlink:href=\"#m702ad1c9cd\" y=\"151.28321\"/>\n     <use style=\"fill:#1f77b4;stroke:#1f77b4;\" x=\"231.57257\" xlink:href=\"#m702ad1c9cd\" y=\"154.08902\"/>\n     <use style=\"fill:#1f77b4;stroke:#1f77b4;\" x=\"255.757611\" xlink:href=\"#m702ad1c9cd\" y=\"144.46451\"/>\n     <use style=\"fill:#1f77b4;stroke:#1f77b4;\" x=\"238.22146\" xlink:href=\"#m702ad1c9cd\" y=\"151.95937\"/>\n     <use style=\"fill:#1f77b4;stroke:#1f77b4;\" x=\"243.720926\" xlink:href=\"#m702ad1c9cd\" y=\"150.073361\"/>\n     <use style=\"fill:#1f77b4;stroke:#1f77b4;\" x=\"231.887232\" xlink:href=\"#m702ad1c9cd\" y=\"151.891491\"/>\n     <use style=\"fill:#1f77b4;stroke:#1f77b4;\" x=\"255.757611\" xlink:href=\"#m702ad1c9cd\" y=\"144.46451\"/>\n     <use style=\"fill:#1f77b4;stroke:#1f77b4;\" x=\"248.79321\" xlink:href=\"#m702ad1c9cd\" y=\"148.080172\"/>\n     <use style=\"fill:#1f77b4;stroke:#1f77b4;\" x=\"249.61218\" xlink:href=\"#m702ad1c9cd\" y=\"144.986081\"/>\n     <use style=\"fill:#1f77b4;stroke:#1f77b4;\" x=\"259.670081\" xlink:href=\"#m702ad1c9cd\" y=\"153.497852\"/>\n     <use style=\"fill:#1f77b4;stroke:#1f77b4;\" x=\"238.971376\" xlink:href=\"#m702ad1c9cd\" y=\"151.889422\"/>\n     <use style=\"fill:#1f77b4;stroke:#1f77b4;\" x=\"246.154422\" xlink:href=\"#m702ad1c9cd\" y=\"149.706682\"/>\n     <use style=\"fill:#1f77b4;stroke:#1f77b4;\" x=\"264.571329\" xlink:href=\"#m702ad1c9cd\" y=\"150.141427\"/>\n     <use style=\"fill:#1f77b4;stroke:#1f77b4;\" x=\"249.042498\" xlink:href=\"#m702ad1c9cd\" y=\"146.121325\"/>\n     <use style=\"fill:#1f77b4;stroke:#1f77b4;\" x=\"238.165469\" xlink:href=\"#m702ad1c9cd\" y=\"150.928286\"/>\n     <use style=\"fill:#1f77b4;stroke:#1f77b4;\" x=\"238.165469\" xlink:href=\"#m702ad1c9cd\" y=\"150.928286\"/>\n     <use style=\"fill:#1f77b4;stroke:#1f77b4;\" x=\"238.165469\" xlink:href=\"#m702ad1c9cd\" y=\"150.928286\"/>\n     <use style=\"fill:#1f77b4;stroke:#1f77b4;\" x=\"260.370838\" xlink:href=\"#m702ad1c9cd\" y=\"145.038732\"/>\n     <use style=\"fill:#1f77b4;stroke:#1f77b4;\" x=\"257.050877\" xlink:href=\"#m702ad1c9cd\" y=\"147.164409\"/>\n     <use style=\"fill:#1f77b4;stroke:#1f77b4;\" x=\"253.986945\" xlink:href=\"#m702ad1c9cd\" y=\"152.439353\"/>\n     <use style=\"fill:#1f77b4;stroke:#1f77b4;\" x=\"250.710219\" xlink:href=\"#m702ad1c9cd\" y=\"149.350195\"/>\n     <use style=\"fill:#1f77b4;stroke:#1f77b4;\" x=\"235.261818\" xlink:href=\"#m702ad1c9cd\" y=\"152.477941\"/>\n     <use style=\"fill:#1f77b4;stroke:#1f77b4;\" x=\"260.784837\" xlink:href=\"#m702ad1c9cd\" y=\"151.852872\"/>\n     <use style=\"fill:#1f77b4;stroke:#1f77b4;\" x=\"255.5593\" xlink:href=\"#m702ad1c9cd\" y=\"144.439889\"/>\n     <use style=\"fill:#1f77b4;stroke:#1f77b4;\" x=\"239.332421\" xlink:href=\"#m702ad1c9cd\" y=\"149.109711\"/>\n     <use style=\"fill:#1f77b4;stroke:#1f77b4;\" x=\"242.336559\" xlink:href=\"#m702ad1c9cd\" y=\"149.046027\"/>\n     <use style=\"fill:#1f77b4;stroke:#1f77b4;\" x=\"243.568596\" xlink:href=\"#m702ad1c9cd\" y=\"148.994991\"/>\n     <use style=\"fill:#1f77b4;stroke:#1f77b4;\" x=\"249.61218\" xlink:href=\"#m702ad1c9cd\" y=\"144.986081\"/>\n     <use style=\"fill:#1f77b4;stroke:#1f77b4;\" x=\"265.39431\" xlink:href=\"#m702ad1c9cd\" y=\"145.147288\"/>\n     <use style=\"fill:#1f77b4;stroke:#1f77b4;\" x=\"248.938888\" xlink:href=\"#m702ad1c9cd\" y=\"144.363509\"/>\n     <use style=\"fill:#1f77b4;stroke:#1f77b4;\" x=\"269.445316\" xlink:href=\"#m702ad1c9cd\" y=\"141.565439\"/>\n     <use style=\"fill:#1f77b4;stroke:#1f77b4;\" x=\"269.419968\" xlink:href=\"#m702ad1c9cd\" y=\"141.907323\"/>\n     <use style=\"fill:#1f77b4;stroke:#1f77b4;\" x=\"242.104988\" xlink:href=\"#m702ad1c9cd\" y=\"155.198781\"/>\n     <use style=\"fill:#1f77b4;stroke:#1f77b4;\" x=\"235.132449\" xlink:href=\"#m702ad1c9cd\" y=\"152.520725\"/>\n     <use style=\"fill:#1f77b4;stroke:#1f77b4;\" x=\"247.071843\" xlink:href=\"#m702ad1c9cd\" y=\"154.246193\"/>\n     <use style=\"fill:#1f77b4;stroke:#1f77b4;\" x=\"244.677964\" xlink:href=\"#m702ad1c9cd\" y=\"153.808186\"/>\n     <use style=\"fill:#1f77b4;stroke:#1f77b4;\" x=\"233.859403\" xlink:href=\"#m702ad1c9cd\" y=\"155.115385\"/>\n     <use style=\"fill:#1f77b4;stroke:#1f77b4;\" x=\"254.325884\" xlink:href=\"#m702ad1c9cd\" y=\"149.588394\"/>\n     <use style=\"fill:#1f77b4;stroke:#1f77b4;\" x=\"252.535431\" xlink:href=\"#m702ad1c9cd\" y=\"149.200156\"/>\n     <use style=\"fill:#1f77b4;stroke:#1f77b4;\" x=\"253.944573\" xlink:href=\"#m702ad1c9cd\" y=\"150.461892\"/>\n     <use style=\"fill:#1f77b4;stroke:#1f77b4;\" x=\"227.517658\" xlink:href=\"#m702ad1c9cd\" y=\"148.668385\"/>\n     <use style=\"fill:#1f77b4;stroke:#1f77b4;\" x=\"252.185365\" xlink:href=\"#m702ad1c9cd\" y=\"149.249429\"/>\n     <use style=\"fill:#1f77b4;stroke:#1f77b4;\" x=\"258.244608\" xlink:href=\"#m702ad1c9cd\" y=\"147.728205\"/>\n     <use style=\"fill:#1f77b4;stroke:#1f77b4;\" x=\"243.881036\" xlink:href=\"#m702ad1c9cd\" y=\"149.997686\"/>\n     <use style=\"fill:#1f77b4;stroke:#1f77b4;\" x=\"233.116372\" xlink:href=\"#m702ad1c9cd\" y=\"153.067339\"/>\n     <use style=\"fill:#1f77b4;stroke:#1f77b4;\" x=\"247.261456\" xlink:href=\"#m702ad1c9cd\" y=\"145.790372\"/>\n     <use style=\"fill:#1f77b4;stroke:#1f77b4;\" x=\"239.053435\" xlink:href=\"#m702ad1c9cd\" y=\"150.963168\"/>\n     <use style=\"fill:#1f77b4;stroke:#1f77b4;\" x=\"240.69866\" xlink:href=\"#m702ad1c9cd\" y=\"151.064755\"/>\n     <use style=\"fill:#1f77b4;stroke:#1f77b4;\" x=\"242.816174\" xlink:href=\"#m702ad1c9cd\" y=\"151.918097\"/>\n     <use style=\"fill:#1f77b4;stroke:#1f77b4;\" x=\"278.265397\" xlink:href=\"#m702ad1c9cd\" y=\"145.273878\"/>\n     <use style=\"fill:#1f77b4;stroke:#1f77b4;\" x=\"239.258465\" xlink:href=\"#m702ad1c9cd\" y=\"150.727232\"/>\n     <use style=\"fill:#1f77b4;stroke:#1f77b4;\" x=\"246.58546\" xlink:href=\"#m702ad1c9cd\" y=\"149.527881\"/>\n     <use style=\"fill:#1f77b4;stroke:#1f77b4;\" x=\"231.430446\" xlink:href=\"#m702ad1c9cd\" y=\"150.108699\"/>\n     <use style=\"fill:#1f77b4;stroke:#1f77b4;\" x=\"246.58546\" xlink:href=\"#m702ad1c9cd\" y=\"149.527881\"/>\n     <use style=\"fill:#1f77b4;stroke:#1f77b4;\" x=\"266.448351\" xlink:href=\"#m702ad1c9cd\" y=\"143.705005\"/>\n     <use style=\"fill:#1f77b4;stroke:#1f77b4;\" x=\"271.903118\" xlink:href=\"#m702ad1c9cd\" y=\"143.017388\"/>\n     <use style=\"fill:#1f77b4;stroke:#1f77b4;\" x=\"253.127676\" xlink:href=\"#m702ad1c9cd\" y=\"145.689066\"/>\n     <use style=\"fill:#1f77b4;stroke:#1f77b4;\" x=\"261.066637\" xlink:href=\"#m702ad1c9cd\" y=\"145.924776\"/>\n     <use style=\"fill:#1f77b4;stroke:#1f77b4;\" x=\"256.106778\" xlink:href=\"#m702ad1c9cd\" y=\"144.253153\"/>\n     <use style=\"fill:#1f77b4;stroke:#1f77b4;\" x=\"259.046\" xlink:href=\"#m702ad1c9cd\" y=\"146.34781\"/>\n     <use style=\"fill:#1f77b4;stroke:#1f77b4;\" x=\"252.257704\" xlink:href=\"#m702ad1c9cd\" y=\"154.087027\"/>\n     <use style=\"fill:#1f77b4;stroke:#1f77b4;\" x=\"235.656179\" xlink:href=\"#m702ad1c9cd\" y=\"151.052709\"/>\n     <use style=\"fill:#1f77b4;stroke:#1f77b4;\" x=\"238.26966\" xlink:href=\"#m702ad1c9cd\" y=\"152.034889\"/>\n     <use style=\"fill:#1f77b4;stroke:#1f77b4;\" x=\"239.482846\" xlink:href=\"#m702ad1c9cd\" y=\"150.931031\"/>\n     <use style=\"fill:#1f77b4;stroke:#1f77b4;\" x=\"249.664359\" xlink:href=\"#m702ad1c9cd\" y=\"150.304118\"/>\n     <use style=\"fill:#1f77b4;stroke:#1f77b4;\" x=\"266.184601\" xlink:href=\"#m702ad1c9cd\" y=\"152.667439\"/>\n     <use style=\"fill:#1f77b4;stroke:#1f77b4;\" x=\"234.38432\" xlink:href=\"#m702ad1c9cd\" y=\"150.690453\"/>\n     <use style=\"fill:#1f77b4;stroke:#1f77b4;\" x=\"252.196777\" xlink:href=\"#m702ad1c9cd\" y=\"148.940623\"/>\n     <use style=\"fill:#1f77b4;stroke:#1f77b4;\" x=\"255.777825\" xlink:href=\"#m702ad1c9cd\" y=\"148.701705\"/>\n     <use style=\"fill:#1f77b4;stroke:#1f77b4;\" x=\"235.408756\" xlink:href=\"#m702ad1c9cd\" y=\"148.302995\"/>\n     <use style=\"fill:#1f77b4;stroke:#1f77b4;\" x=\"258.805746\" xlink:href=\"#m702ad1c9cd\" y=\"152.661871\"/>\n     <use style=\"fill:#1f77b4;stroke:#1f77b4;\" x=\"257.929223\" xlink:href=\"#m702ad1c9cd\" y=\"145.483531\"/>\n     <use style=\"fill:#1f77b4;stroke:#1f77b4;\" x=\"262.757317\" xlink:href=\"#m702ad1c9cd\" y=\"145.701554\"/>\n     <use style=\"fill:#1f77b4;stroke:#1f77b4;\" x=\"252.257704\" xlink:href=\"#m702ad1c9cd\" y=\"154.087027\"/>\n     <use style=\"fill:#1f77b4;stroke:#1f77b4;\" x=\"256.803907\" xlink:href=\"#m702ad1c9cd\" y=\"148.298087\"/>\n     <use style=\"fill:#1f77b4;stroke:#1f77b4;\" x=\"244.977549\" xlink:href=\"#m702ad1c9cd\" y=\"148.915019\"/>\n     <use style=\"fill:#1f77b4;stroke:#1f77b4;\" x=\"254.226871\" xlink:href=\"#m702ad1c9cd\" y=\"153.79762\"/>\n     <use style=\"fill:#1f77b4;stroke:#1f77b4;\" x=\"239.258465\" xlink:href=\"#m702ad1c9cd\" y=\"150.727232\"/>\n     <use style=\"fill:#1f77b4;stroke:#1f77b4;\" x=\"249.554387\" xlink:href=\"#m702ad1c9cd\" y=\"151.413562\"/>\n     <use style=\"fill:#1f77b4;stroke:#1f77b4;\" x=\"252.258515\" xlink:href=\"#m702ad1c9cd\" y=\"150.191891\"/>\n     <use style=\"fill:#1f77b4;stroke:#1f77b4;\" x=\"238.843797\" xlink:href=\"#m702ad1c9cd\" y=\"148.840082\"/>\n     <use style=\"fill:#1f77b4;stroke:#1f77b4;\" x=\"258.353855\" xlink:href=\"#m702ad1c9cd\" y=\"145.373184\"/>\n     <use style=\"fill:#1f77b4;stroke:#1f77b4;\" x=\"259.837507\" xlink:href=\"#m702ad1c9cd\" y=\"147.469263\"/>\n     <use style=\"fill:#1f77b4;stroke:#1f77b4;\" x=\"254.771643\" xlink:href=\"#m702ad1c9cd\" y=\"150.184158\"/>\n     <use style=\"fill:#1f77b4;stroke:#1f77b4;\" x=\"253.266035\" xlink:href=\"#m702ad1c9cd\" y=\"150.009241\"/>\n     <use style=\"fill:#1f77b4;stroke:#1f77b4;\" x=\"253.982425\" xlink:href=\"#m702ad1c9cd\" y=\"149.61681\"/>\n     <use style=\"fill:#1f77b4;stroke:#1f77b4;\" x=\"254.226871\" xlink:href=\"#m702ad1c9cd\" y=\"153.79762\"/>\n     <use style=\"fill:#1f77b4;stroke:#1f77b4;\" x=\"252.436208\" xlink:href=\"#m702ad1c9cd\" y=\"152.825206\"/>\n     <use style=\"fill:#1f77b4;stroke:#1f77b4;\" x=\"271.539855\" xlink:href=\"#m702ad1c9cd\" y=\"148.228933\"/>\n     <use style=\"fill:#1f77b4;stroke:#1f77b4;\" x=\"259.595961\" xlink:href=\"#m702ad1c9cd\" y=\"150.953703\"/>\n     <use style=\"fill:#1f77b4;stroke:#1f77b4;\" x=\"246.444754\" xlink:href=\"#m702ad1c9cd\" y=\"150.356675\"/>\n     <use style=\"fill:#1f77b4;stroke:#1f77b4;\" x=\"252.575817\" xlink:href=\"#m702ad1c9cd\" y=\"148.42797\"/>\n     <use style=\"fill:#1f77b4;stroke:#1f77b4;\" x=\"247.651878\" xlink:href=\"#m702ad1c9cd\" y=\"148.444137\"/>\n     <use style=\"fill:#1f77b4;stroke:#1f77b4;\" x=\"247.940627\" xlink:href=\"#m702ad1c9cd\" y=\"147.869744\"/>\n     <use style=\"fill:#1f77b4;stroke:#1f77b4;\" x=\"253.163706\" xlink:href=\"#m702ad1c9cd\" y=\"147.845835\"/>\n     <use style=\"fill:#1f77b4;stroke:#1f77b4;\" x=\"253.949734\" xlink:href=\"#m702ad1c9cd\" y=\"148.839981\"/>\n     <use style=\"fill:#1f77b4;stroke:#1f77b4;\" x=\"237.292882\" xlink:href=\"#m702ad1c9cd\" y=\"144.458267\"/>\n     <use style=\"fill:#1f77b4;stroke:#1f77b4;\" x=\"232.7995\" xlink:href=\"#m702ad1c9cd\" y=\"147.307662\"/>\n     <use style=\"fill:#1f77b4;stroke:#1f77b4;\" x=\"232.698743\" xlink:href=\"#m702ad1c9cd\" y=\"152.313345\"/>\n     <use style=\"fill:#1f77b4;stroke:#1f77b4;\" x=\"250.301035\" xlink:href=\"#m702ad1c9cd\" y=\"155.357602\"/>\n     <use style=\"fill:#1f77b4;stroke:#1f77b4;\" x=\"255.038775\" xlink:href=\"#m702ad1c9cd\" y=\"155.10536\"/>\n     <use style=\"fill:#1f77b4;stroke:#1f77b4;\" x=\"250.079366\" xlink:href=\"#m702ad1c9cd\" y=\"153.877568\"/>\n     <use style=\"fill:#1f77b4;stroke:#1f77b4;\" x=\"250.629218\" xlink:href=\"#m702ad1c9cd\" y=\"152.563532\"/>\n     <use style=\"fill:#1f77b4;stroke:#1f77b4;\" x=\"250.079366\" xlink:href=\"#m702ad1c9cd\" y=\"153.877568\"/>\n     <use style=\"fill:#1f77b4;stroke:#1f77b4;\" x=\"247.909912\" xlink:href=\"#m702ad1c9cd\" y=\"152.06335\"/>\n     <use style=\"fill:#1f77b4;stroke:#1f77b4;\" x=\"250.079366\" xlink:href=\"#m702ad1c9cd\" y=\"153.877568\"/>\n     <use style=\"fill:#1f77b4;stroke:#1f77b4;\" x=\"254.204574\" xlink:href=\"#m702ad1c9cd\" y=\"150.375522\"/>\n     <use style=\"fill:#1f77b4;stroke:#1f77b4;\" x=\"252.80081\" xlink:href=\"#m702ad1c9cd\" y=\"149.118602\"/>\n     <use style=\"fill:#1f77b4;stroke:#1f77b4;\" x=\"256.244788\" xlink:href=\"#m702ad1c9cd\" y=\"151.715294\"/>\n     <use style=\"fill:#1f77b4;stroke:#1f77b4;\" x=\"244.986761\" xlink:href=\"#m702ad1c9cd\" y=\"155.177128\"/>\n     <use style=\"fill:#1f77b4;stroke:#1f77b4;\" x=\"251.959799\" xlink:href=\"#m702ad1c9cd\" y=\"152.023398\"/>\n     <use style=\"fill:#1f77b4;stroke:#1f77b4;\" x=\"253.038325\" xlink:href=\"#m702ad1c9cd\" y=\"151.261433\"/>\n     <use style=\"fill:#1f77b4;stroke:#1f77b4;\" x=\"258.129513\" xlink:href=\"#m702ad1c9cd\" y=\"150.003748\"/>\n     <use style=\"fill:#1f77b4;stroke:#1f77b4;\" x=\"258.159895\" xlink:href=\"#m702ad1c9cd\" y=\"151.705665\"/>\n     <use style=\"fill:#1f77b4;stroke:#1f77b4;\" x=\"251.667234\" xlink:href=\"#m702ad1c9cd\" y=\"151.596459\"/>\n     <use style=\"fill:#1f77b4;stroke:#1f77b4;\" x=\"254.224083\" xlink:href=\"#m702ad1c9cd\" y=\"149.73444\"/>\n     <use style=\"fill:#1f77b4;stroke:#1f77b4;\" x=\"255.692264\" xlink:href=\"#m702ad1c9cd\" y=\"149.641424\"/>\n     <use style=\"fill:#1f77b4;stroke:#1f77b4;\" x=\"255.804957\" xlink:href=\"#m702ad1c9cd\" y=\"149.685548\"/>\n     <use style=\"fill:#1f77b4;stroke:#1f77b4;\" x=\"259.124565\" xlink:href=\"#m702ad1c9cd\" y=\"152.071651\"/>\n     <use style=\"fill:#1f77b4;stroke:#1f77b4;\" x=\"260.224636\" xlink:href=\"#m702ad1c9cd\" y=\"152.206145\"/>\n     <use style=\"fill:#1f77b4;stroke:#1f77b4;\" x=\"261.334824\" xlink:href=\"#m702ad1c9cd\" y=\"151.333536\"/>\n     <use style=\"fill:#1f77b4;stroke:#1f77b4;\" x=\"254.569498\" xlink:href=\"#m702ad1c9cd\" y=\"151.417085\"/>\n     <use style=\"fill:#1f77b4;stroke:#1f77b4;\" x=\"231.431493\" xlink:href=\"#m702ad1c9cd\" y=\"149.147635\"/>\n     <use style=\"fill:#1f77b4;stroke:#1f77b4;\" x=\"234.288762\" xlink:href=\"#m702ad1c9cd\" y=\"144.153062\"/>\n     <use style=\"fill:#1f77b4;stroke:#1f77b4;\" x=\"255.267105\" xlink:href=\"#m702ad1c9cd\" y=\"148.256225\"/>\n     <use style=\"fill:#1f77b4;stroke:#1f77b4;\" x=\"252.341265\" xlink:href=\"#m702ad1c9cd\" y=\"150.651277\"/>\n     <use style=\"fill:#1f77b4;stroke:#1f77b4;\" x=\"255.037941\" xlink:href=\"#m702ad1c9cd\" y=\"155.43705\"/>\n     <use style=\"fill:#1f77b4;stroke:#1f77b4;\" x=\"247.675498\" xlink:href=\"#m702ad1c9cd\" y=\"150.11509\"/>\n     <use style=\"fill:#1f77b4;stroke:#1f77b4;\" x=\"249.016615\" xlink:href=\"#m702ad1c9cd\" y=\"148.746378\"/>\n     <use style=\"fill:#1f77b4;stroke:#1f77b4;\" x=\"248.601214\" xlink:href=\"#m702ad1c9cd\" y=\"147.972636\"/>\n     <use style=\"fill:#1f77b4;stroke:#1f77b4;\" x=\"254.765744\" xlink:href=\"#m702ad1c9cd\" y=\"146.805182\"/>\n     <use style=\"fill:#1f77b4;stroke:#1f77b4;\" x=\"239.716649\" xlink:href=\"#m702ad1c9cd\" y=\"149.03541\"/>\n     <use style=\"fill:#1f77b4;stroke:#1f77b4;\" x=\"250.038337\" xlink:href=\"#m702ad1c9cd\" y=\"152.105007\"/>\n     <use style=\"fill:#1f77b4;stroke:#1f77b4;\" x=\"235.166773\" xlink:href=\"#m702ad1c9cd\" y=\"147.693687\"/>\n     <use style=\"fill:#1f77b4;stroke:#1f77b4;\" x=\"231.33811\" xlink:href=\"#m702ad1c9cd\" y=\"153.319661\"/>\n     <use style=\"fill:#1f77b4;stroke:#1f77b4;\" x=\"242.851657\" xlink:href=\"#m702ad1c9cd\" y=\"151.084247\"/>\n     <use style=\"fill:#1f77b4;stroke:#1f77b4;\" x=\"243.523252\" xlink:href=\"#m702ad1c9cd\" y=\"153.233104\"/>\n     <use style=\"fill:#1f77b4;stroke:#1f77b4;\" x=\"243.069878\" xlink:href=\"#m702ad1c9cd\" y=\"153.158335\"/>\n     <use style=\"fill:#1f77b4;stroke:#1f77b4;\" x=\"259.042964\" xlink:href=\"#m702ad1c9cd\" y=\"152.856513\"/>\n     <use style=\"fill:#1f77b4;stroke:#1f77b4;\" x=\"255.128454\" xlink:href=\"#m702ad1c9cd\" y=\"151.106324\"/>\n     <use style=\"fill:#1f77b4;stroke:#1f77b4;\" x=\"263.421438\" xlink:href=\"#m702ad1c9cd\" y=\"150.084253\"/>\n     <use style=\"fill:#1f77b4;stroke:#1f77b4;\" x=\"246.809058\" xlink:href=\"#m702ad1c9cd\" y=\"150.116351\"/>\n     <use style=\"fill:#1f77b4;stroke:#1f77b4;\" x=\"255.059273\" xlink:href=\"#m702ad1c9cd\" y=\"147.411081\"/>\n     <use style=\"fill:#1f77b4;stroke:#1f77b4;\" x=\"242.24227\" xlink:href=\"#m702ad1c9cd\" y=\"148.549058\"/>\n     <use style=\"fill:#1f77b4;stroke:#1f77b4;\" x=\"262.678046\" xlink:href=\"#m702ad1c9cd\" y=\"149.967699\"/>\n     <use style=\"fill:#1f77b4;stroke:#1f77b4;\" x=\"259.161441\" xlink:href=\"#m702ad1c9cd\" y=\"149.192409\"/>\n     <use style=\"fill:#1f77b4;stroke:#1f77b4;\" x=\"242.760718\" xlink:href=\"#m702ad1c9cd\" y=\"150.264896\"/>\n     <use style=\"fill:#1f77b4;stroke:#1f77b4;\" x=\"237.402444\" xlink:href=\"#m702ad1c9cd\" y=\"151.621105\"/>\n     <use style=\"fill:#1f77b4;stroke:#1f77b4;\" x=\"246.605099\" xlink:href=\"#m702ad1c9cd\" y=\"150.043394\"/>\n     <use style=\"fill:#1f77b4;stroke:#1f77b4;\" x=\"245.025665\" xlink:href=\"#m702ad1c9cd\" y=\"149.104861\"/>\n     <use style=\"fill:#1f77b4;stroke:#1f77b4;\" x=\"233.309805\" xlink:href=\"#m702ad1c9cd\" y=\"151.155786\"/>\n     <use style=\"fill:#1f77b4;stroke:#1f77b4;\" x=\"240.525197\" xlink:href=\"#m702ad1c9cd\" y=\"154.6867\"/>\n     <use style=\"fill:#1f77b4;stroke:#1f77b4;\" x=\"248.2363\" xlink:href=\"#m702ad1c9cd\" y=\"148.973713\"/>\n     <use style=\"fill:#1f77b4;stroke:#1f77b4;\" x=\"241.445354\" xlink:href=\"#m702ad1c9cd\" y=\"150.131502\"/>\n     <use style=\"fill:#1f77b4;stroke:#1f77b4;\" x=\"243.738062\" xlink:href=\"#m702ad1c9cd\" y=\"151.169641\"/>\n     <use style=\"fill:#1f77b4;stroke:#1f77b4;\" x=\"242.336602\" xlink:href=\"#m702ad1c9cd\" y=\"149.063188\"/>\n     <use style=\"fill:#1f77b4;stroke:#1f77b4;\" x=\"240.68297\" xlink:href=\"#m702ad1c9cd\" y=\"148.812634\"/>\n     <use style=\"fill:#1f77b4;stroke:#1f77b4;\" x=\"240.096359\" xlink:href=\"#m702ad1c9cd\" y=\"149.292268\"/>\n     <use style=\"fill:#1f77b4;stroke:#1f77b4;\" x=\"230.455395\" xlink:href=\"#m702ad1c9cd\" y=\"154.322241\"/>\n     <use style=\"fill:#1f77b4;stroke:#1f77b4;\" x=\"252.436102\" xlink:href=\"#m702ad1c9cd\" y=\"151.003031\"/>\n     <use style=\"fill:#1f77b4;stroke:#1f77b4;\" x=\"242.930304\" xlink:href=\"#m702ad1c9cd\" y=\"143.634742\"/>\n     <use style=\"fill:#1f77b4;stroke:#1f77b4;\" x=\"253.967354\" xlink:href=\"#m702ad1c9cd\" y=\"146.111206\"/>\n     <use style=\"fill:#1f77b4;stroke:#1f77b4;\" x=\"257.450592\" xlink:href=\"#m702ad1c9cd\" y=\"152.523461\"/>\n     <use style=\"fill:#1f77b4;stroke:#1f77b4;\" x=\"260.471226\" xlink:href=\"#m702ad1c9cd\" y=\"144.899401\"/>\n     <use style=\"fill:#1f77b4;stroke:#1f77b4;\" x=\"243.609404\" xlink:href=\"#m702ad1c9cd\" y=\"155.481306\"/>\n     <use style=\"fill:#1f77b4;stroke:#1f77b4;\" x=\"274.030218\" xlink:href=\"#m702ad1c9cd\" y=\"143.158614\"/>\n     <use style=\"fill:#1f77b4;stroke:#1f77b4;\" x=\"269.815394\" xlink:href=\"#m702ad1c9cd\" y=\"147.217532\"/>\n     <use style=\"fill:#1f77b4;stroke:#1f77b4;\" x=\"248.057302\" xlink:href=\"#m702ad1c9cd\" y=\"154.41705\"/>\n     <use style=\"fill:#1f77b4;stroke:#1f77b4;\" x=\"245.860779\" xlink:href=\"#m702ad1c9cd\" y=\"150.726722\"/>\n     <use style=\"fill:#1f77b4;stroke:#1f77b4;\" x=\"256.833993\" xlink:href=\"#m702ad1c9cd\" y=\"153.814478\"/>\n     <use style=\"fill:#1f77b4;stroke:#1f77b4;\" x=\"247.247016\" xlink:href=\"#m702ad1c9cd\" y=\"149.55241\"/>\n     <use style=\"fill:#1f77b4;stroke:#1f77b4;\" x=\"249.770942\" xlink:href=\"#m702ad1c9cd\" y=\"157.82703\"/>\n     <use style=\"fill:#1f77b4;stroke:#1f77b4;\" x=\"245.598439\" xlink:href=\"#m702ad1c9cd\" y=\"144.097227\"/>\n     <use style=\"fill:#1f77b4;stroke:#1f77b4;\" x=\"260.747377\" xlink:href=\"#m702ad1c9cd\" y=\"150.76294\"/>\n     <use style=\"fill:#1f77b4;stroke:#1f77b4;\" x=\"265.051103\" xlink:href=\"#m702ad1c9cd\" y=\"146.857149\"/>\n     <use style=\"fill:#1f77b4;stroke:#1f77b4;\" x=\"279.364783\" xlink:href=\"#m702ad1c9cd\" y=\"146.527196\"/>\n     <use style=\"fill:#1f77b4;stroke:#1f77b4;\" x=\"257.021954\" xlink:href=\"#m702ad1c9cd\" y=\"147.072483\"/>\n     <use style=\"fill:#1f77b4;stroke:#1f77b4;\" x=\"270.58012\" xlink:href=\"#m702ad1c9cd\" y=\"144.774558\"/>\n     <use style=\"fill:#1f77b4;stroke:#1f77b4;\" x=\"267.128144\" xlink:href=\"#m702ad1c9cd\" y=\"148.309922\"/>\n     <use style=\"fill:#1f77b4;stroke:#1f77b4;\" x=\"263.187432\" xlink:href=\"#m702ad1c9cd\" y=\"149.399846\"/>\n     <use style=\"fill:#1f77b4;stroke:#1f77b4;\" x=\"272.123995\" xlink:href=\"#m702ad1c9cd\" y=\"148.417932\"/>\n     <use style=\"fill:#1f77b4;stroke:#1f77b4;\" x=\"289.016289\" xlink:href=\"#m702ad1c9cd\" y=\"150.938821\"/>\n     <use style=\"fill:#1f77b4;stroke:#1f77b4;\" x=\"280.294755\" xlink:href=\"#m702ad1c9cd\" y=\"146.872514\"/>\n     <use style=\"fill:#1f77b4;stroke:#1f77b4;\" x=\"277.455839\" xlink:href=\"#m702ad1c9cd\" y=\"151.776571\"/>\n     <use style=\"fill:#1f77b4;stroke:#1f77b4;\" x=\"262.862615\" xlink:href=\"#m702ad1c9cd\" y=\"149.435244\"/>\n     <use style=\"fill:#1f77b4;stroke:#1f77b4;\" x=\"262.577677\" xlink:href=\"#m702ad1c9cd\" y=\"150.478807\"/>\n     <use style=\"fill:#1f77b4;stroke:#1f77b4;\" x=\"266.893317\" xlink:href=\"#m702ad1c9cd\" y=\"150.851315\"/>\n     <use style=\"fill:#1f77b4;stroke:#1f77b4;\" x=\"284.133862\" xlink:href=\"#m702ad1c9cd\" y=\"151.040381\"/>\n     <use style=\"fill:#1f77b4;stroke:#1f77b4;\" x=\"284.206322\" xlink:href=\"#m702ad1c9cd\" y=\"150.136266\"/>\n     <use style=\"fill:#1f77b4;stroke:#1f77b4;\" x=\"277.406191\" xlink:href=\"#m702ad1c9cd\" y=\"152.086834\"/>\n     <use style=\"fill:#1f77b4;stroke:#1f77b4;\" x=\"270.057779\" xlink:href=\"#m702ad1c9cd\" y=\"151.174382\"/>\n     <use style=\"fill:#1f77b4;stroke:#1f77b4;\" x=\"284.145219\" xlink:href=\"#m702ad1c9cd\" y=\"148.019192\"/>\n     <use style=\"fill:#1f77b4;stroke:#1f77b4;\" x=\"292.556027\" xlink:href=\"#m702ad1c9cd\" y=\"149.918302\"/>\n     <use style=\"fill:#1f77b4;stroke:#1f77b4;\" x=\"259.277224\" xlink:href=\"#m702ad1c9cd\" y=\"149.852284\"/>\n     <use style=\"fill:#1f77b4;stroke:#1f77b4;\" x=\"272.872903\" xlink:href=\"#m702ad1c9cd\" y=\"149.52643\"/>\n     <use style=\"fill:#1f77b4;stroke:#1f77b4;\" x=\"249.852076\" xlink:href=\"#m702ad1c9cd\" y=\"151.552715\"/>\n     <use style=\"fill:#1f77b4;stroke:#1f77b4;\" x=\"258.216581\" xlink:href=\"#m702ad1c9cd\" y=\"148.190652\"/>\n     <use style=\"fill:#1f77b4;stroke:#1f77b4;\" x=\"266.855386\" xlink:href=\"#m702ad1c9cd\" y=\"146.920298\"/>\n     <use style=\"fill:#1f77b4;stroke:#1f77b4;\" x=\"256.799912\" xlink:href=\"#m702ad1c9cd\" y=\"146.864913\"/>\n     <use style=\"fill:#1f77b4;stroke:#1f77b4;\" x=\"257.36278\" xlink:href=\"#m702ad1c9cd\" y=\"150.033173\"/>\n     <use style=\"fill:#1f77b4;stroke:#1f77b4;\" x=\"266.497013\" xlink:href=\"#m702ad1c9cd\" y=\"145.814541\"/>\n     <use style=\"fill:#1f77b4;stroke:#1f77b4;\" x=\"271.978468\" xlink:href=\"#m702ad1c9cd\" y=\"145.977415\"/>\n     <use style=\"fill:#1f77b4;stroke:#1f77b4;\" x=\"273.416781\" xlink:href=\"#m702ad1c9cd\" y=\"150.30893\"/>\n     <use style=\"fill:#1f77b4;stroke:#1f77b4;\" x=\"264.251286\" xlink:href=\"#m702ad1c9cd\" y=\"145.134302\"/>\n     <use style=\"fill:#1f77b4;stroke:#1f77b4;\" x=\"271.363307\" xlink:href=\"#m702ad1c9cd\" y=\"150.951577\"/>\n     <use style=\"fill:#1f77b4;stroke:#1f77b4;\" x=\"273.211488\" xlink:href=\"#m702ad1c9cd\" y=\"146.561605\"/>\n     <use style=\"fill:#1f77b4;stroke:#1f77b4;\" x=\"281.278574\" xlink:href=\"#m702ad1c9cd\" y=\"147.0909\"/>\n     <use style=\"fill:#1f77b4;stroke:#1f77b4;\" x=\"271.204567\" xlink:href=\"#m702ad1c9cd\" y=\"144.956733\"/>\n     <use style=\"fill:#1f77b4;stroke:#1f77b4;\" x=\"267.029461\" xlink:href=\"#m702ad1c9cd\" y=\"145.511765\"/>\n     <use style=\"fill:#1f77b4;stroke:#1f77b4;\" x=\"274.883251\" xlink:href=\"#m702ad1c9cd\" y=\"142.953681\"/>\n     <use style=\"fill:#1f77b4;stroke:#1f77b4;\" x=\"270.037474\" xlink:href=\"#m702ad1c9cd\" y=\"144.917954\"/>\n     <use style=\"fill:#1f77b4;stroke:#1f77b4;\" x=\"261.824973\" xlink:href=\"#m702ad1c9cd\" y=\"150.143997\"/>\n     <use style=\"fill:#1f77b4;stroke:#1f77b4;\" x=\"264.518626\" xlink:href=\"#m702ad1c9cd\" y=\"149.835267\"/>\n     <use style=\"fill:#1f77b4;stroke:#1f77b4;\" x=\"100.352633\" xlink:href=\"#m702ad1c9cd\" y=\"214.756364\"/>\n     <use style=\"fill:#1f77b4;stroke:#1f77b4;\" x=\"271.980002\" xlink:href=\"#m702ad1c9cd\" y=\"148.308107\"/>\n     <use style=\"fill:#1f77b4;stroke:#1f77b4;\" x=\"321.704752\" xlink:href=\"#m702ad1c9cd\" y=\"131.973593\"/>\n     <use style=\"fill:#1f77b4;stroke:#1f77b4;\" x=\"293.910812\" xlink:href=\"#m702ad1c9cd\" y=\"146.829319\"/>\n     <use style=\"fill:#1f77b4;stroke:#1f77b4;\" x=\"282.901905\" xlink:href=\"#m702ad1c9cd\" y=\"147.991362\"/>\n     <use style=\"fill:#1f77b4;stroke:#1f77b4;\" x=\"249.202092\" xlink:href=\"#m702ad1c9cd\" y=\"140.951184\"/>\n     <use style=\"fill:#1f77b4;stroke:#1f77b4;\" x=\"277.471076\" xlink:href=\"#m702ad1c9cd\" y=\"143.411317\"/>\n     <use style=\"fill:#1f77b4;stroke:#1f77b4;\" x=\"248.230634\" xlink:href=\"#m702ad1c9cd\" y=\"153.417202\"/>\n     <use style=\"fill:#1f77b4;stroke:#1f77b4;\" x=\"251.39614\" xlink:href=\"#m702ad1c9cd\" y=\"145.044109\"/>\n     <use style=\"fill:#1f77b4;stroke:#1f77b4;\" x=\"272.166287\" xlink:href=\"#m702ad1c9cd\" y=\"140.044068\"/>\n     <use style=\"fill:#1f77b4;stroke:#1f77b4;\" x=\"262.349054\" xlink:href=\"#m702ad1c9cd\" y=\"149.736648\"/>\n     <use style=\"fill:#1f77b4;stroke:#1f77b4;\" x=\"262.003722\" xlink:href=\"#m702ad1c9cd\" y=\"145.063351\"/>\n     <use style=\"fill:#1f77b4;stroke:#1f77b4;\" x=\"280.686738\" xlink:href=\"#m702ad1c9cd\" y=\"141.542986\"/>\n     <use style=\"fill:#1f77b4;stroke:#1f77b4;\" x=\"274.479305\" xlink:href=\"#m702ad1c9cd\" y=\"147.323536\"/>\n     <use style=\"fill:#1f77b4;stroke:#1f77b4;\" x=\"278.610876\" xlink:href=\"#m702ad1c9cd\" y=\"142.680593\"/>\n     <use style=\"fill:#1f77b4;stroke:#1f77b4;\" x=\"257.566651\" xlink:href=\"#m702ad1c9cd\" y=\"145.757255\"/>\n     <use style=\"fill:#1f77b4;stroke:#1f77b4;\" x=\"265.461177\" xlink:href=\"#m702ad1c9cd\" y=\"146.903\"/>\n     <use style=\"fill:#1f77b4;stroke:#1f77b4;\" x=\"277.547339\" xlink:href=\"#m702ad1c9cd\" y=\"143.116666\"/>\n     <use style=\"fill:#1f77b4;stroke:#1f77b4;\" x=\"274.892135\" xlink:href=\"#m702ad1c9cd\" y=\"137.540342\"/>\n     <use style=\"fill:#1f77b4;stroke:#1f77b4;\" x=\"264.4212\" xlink:href=\"#m702ad1c9cd\" y=\"145.856458\"/>\n     <use style=\"fill:#1f77b4;stroke:#1f77b4;\" x=\"82.464152\" xlink:href=\"#m702ad1c9cd\" y=\"131.029768\"/>\n     <use style=\"fill:#1f77b4;stroke:#1f77b4;\" x=\"268.990498\" xlink:href=\"#m702ad1c9cd\" y=\"147.592393\"/>\n     <use style=\"fill:#1f77b4;stroke:#1f77b4;\" x=\"282.96637\" xlink:href=\"#m702ad1c9cd\" y=\"140.534924\"/>\n     <use style=\"fill:#1f77b4;stroke:#1f77b4;\" x=\"273.551182\" xlink:href=\"#m702ad1c9cd\" y=\"141.18028\"/>\n     <use style=\"fill:#1f77b4;stroke:#1f77b4;\" x=\"276.097268\" xlink:href=\"#m702ad1c9cd\" y=\"141.003512\"/>\n     <use style=\"fill:#1f77b4;stroke:#1f77b4;\" x=\"275.345579\" xlink:href=\"#m702ad1c9cd\" y=\"141.190112\"/>\n     <use style=\"fill:#1f77b4;stroke:#1f77b4;\" x=\"295.124203\" xlink:href=\"#m702ad1c9cd\" y=\"139.543951\"/>\n     <use style=\"fill:#1f77b4;stroke:#1f77b4;\" x=\"267.603943\" xlink:href=\"#m702ad1c9cd\" y=\"146.057509\"/>\n     <use style=\"fill:#1f77b4;stroke:#1f77b4;\" x=\"279.221566\" xlink:href=\"#m702ad1c9cd\" y=\"140.619445\"/>\n     <use style=\"fill:#1f77b4;stroke:#1f77b4;\" x=\"270.55044\" xlink:href=\"#m702ad1c9cd\" y=\"145.313456\"/>\n     <use style=\"fill:#1f77b4;stroke:#1f77b4;\" x=\"282.986569\" xlink:href=\"#m702ad1c9cd\" y=\"143.246407\"/>\n     <use style=\"fill:#1f77b4;stroke:#1f77b4;\" x=\"278.249621\" xlink:href=\"#m702ad1c9cd\" y=\"146.317408\"/>\n     <use style=\"fill:#1f77b4;stroke:#1f77b4;\" x=\"279.91071\" xlink:href=\"#m702ad1c9cd\" y=\"145.251849\"/>\n     <use style=\"fill:#1f77b4;stroke:#1f77b4;\" x=\"281.299882\" xlink:href=\"#m702ad1c9cd\" y=\"140.190956\"/>\n     <use style=\"fill:#1f77b4;stroke:#1f77b4;\" x=\"255.824645\" xlink:href=\"#m702ad1c9cd\" y=\"156.26859\"/>\n     <use style=\"fill:#1f77b4;stroke:#1f77b4;\" x=\"269.621038\" xlink:href=\"#m702ad1c9cd\" y=\"143.496183\"/>\n     <use style=\"fill:#1f77b4;stroke:#1f77b4;\" x=\"260.232866\" xlink:href=\"#m702ad1c9cd\" y=\"142.347053\"/>\n     <use style=\"fill:#1f77b4;stroke:#1f77b4;\" x=\"261.790492\" xlink:href=\"#m702ad1c9cd\" y=\"147.39195\"/>\n     <use style=\"fill:#1f77b4;stroke:#1f77b4;\" x=\"266.219122\" xlink:href=\"#m702ad1c9cd\" y=\"145.091859\"/>\n     <use style=\"fill:#1f77b4;stroke:#1f77b4;\" x=\"292.201234\" xlink:href=\"#m702ad1c9cd\" y=\"146.837283\"/>\n     <use style=\"fill:#1f77b4;stroke:#1f77b4;\" x=\"277.768418\" xlink:href=\"#m702ad1c9cd\" y=\"140.362335\"/>\n     <use style=\"fill:#1f77b4;stroke:#1f77b4;\" x=\"265.41137\" xlink:href=\"#m702ad1c9cd\" y=\"132.881178\"/>\n     <use style=\"fill:#1f77b4;stroke:#1f77b4;\" x=\"279.116305\" xlink:href=\"#m702ad1c9cd\" y=\"147.218037\"/>\n     <use style=\"fill:#1f77b4;stroke:#1f77b4;\" x=\"265.730299\" xlink:href=\"#m702ad1c9cd\" y=\"146.375922\"/>\n     <use style=\"fill:#1f77b4;stroke:#1f77b4;\" x=\"266.690582\" xlink:href=\"#m702ad1c9cd\" y=\"148.347471\"/>\n     <use style=\"fill:#1f77b4;stroke:#1f77b4;\" x=\"283.860628\" xlink:href=\"#m702ad1c9cd\" y=\"146.060091\"/>\n     <use style=\"fill:#1f77b4;stroke:#1f77b4;\" x=\"269.932036\" xlink:href=\"#m702ad1c9cd\" y=\"144.322285\"/>\n     <use style=\"fill:#1f77b4;stroke:#1f77b4;\" x=\"274.699358\" xlink:href=\"#m702ad1c9cd\" y=\"151.961355\"/>\n     <use style=\"fill:#1f77b4;stroke:#1f77b4;\" x=\"274.349206\" xlink:href=\"#m702ad1c9cd\" y=\"149.709706\"/>\n     <use style=\"fill:#1f77b4;stroke:#1f77b4;\" x=\"273.402704\" xlink:href=\"#m702ad1c9cd\" y=\"146.357876\"/>\n     <use style=\"fill:#1f77b4;stroke:#1f77b4;\" x=\"267.663792\" xlink:href=\"#m702ad1c9cd\" y=\"147.466\"/>\n     <use style=\"fill:#1f77b4;stroke:#1f77b4;\" x=\"93.022708\" xlink:href=\"#m702ad1c9cd\" y=\"128.747208\"/>\n     <use style=\"fill:#1f77b4;stroke:#1f77b4;\" x=\"84.497204\" xlink:href=\"#m702ad1c9cd\" y=\"146.349441\"/>\n     <use style=\"fill:#1f77b4;stroke:#1f77b4;\" x=\"294.421407\" xlink:href=\"#m702ad1c9cd\" y=\"140.67574\"/>\n     <use style=\"fill:#1f77b4;stroke:#1f77b4;\" x=\"249.209287\" xlink:href=\"#m702ad1c9cd\" y=\"154.17467\"/>\n     <use style=\"fill:#1f77b4;stroke:#1f77b4;\" x=\"237.877391\" xlink:href=\"#m702ad1c9cd\" y=\"151.099331\"/>\n     <use style=\"fill:#1f77b4;stroke:#1f77b4;\" x=\"214.844694\" xlink:href=\"#m702ad1c9cd\" y=\"149.011045\"/>\n     <use style=\"fill:#1f77b4;stroke:#1f77b4;\" x=\"262.646646\" xlink:href=\"#m702ad1c9cd\" y=\"148.565662\"/>\n     <use style=\"fill:#1f77b4;stroke:#1f77b4;\" x=\"262.606643\" xlink:href=\"#m702ad1c9cd\" y=\"148.546474\"/>\n     <use style=\"fill:#1f77b4;stroke:#1f77b4;\" x=\"107.172132\" xlink:href=\"#m702ad1c9cd\" y=\"140.293444\"/>\n     <use style=\"fill:#1f77b4;stroke:#1f77b4;\" x=\"283.565942\" xlink:href=\"#m702ad1c9cd\" y=\"146.267936\"/>\n     <use style=\"fill:#1f77b4;stroke:#1f77b4;\" x=\"65.023587\" xlink:href=\"#m702ad1c9cd\" y=\"150.792669\"/>\n     <use style=\"fill:#1f77b4;stroke:#1f77b4;\" x=\"99.243814\" xlink:href=\"#m702ad1c9cd\" y=\"137.123855\"/>\n     <use style=\"fill:#1f77b4;stroke:#1f77b4;\" x=\"106.062567\" xlink:href=\"#m702ad1c9cd\" y=\"139.305195\"/>\n     <use style=\"fill:#1f77b4;stroke:#1f77b4;\" x=\"60.063494\" xlink:href=\"#m702ad1c9cd\" y=\"155.536925\"/>\n     <use style=\"fill:#1f77b4;stroke:#1f77b4;\" x=\"101.131597\" xlink:href=\"#m702ad1c9cd\" y=\"143.107187\"/>\n     <use style=\"fill:#1f77b4;stroke:#1f77b4;\" x=\"71.68098\" xlink:href=\"#m702ad1c9cd\" y=\"156.722164\"/>\n     <use style=\"fill:#1f77b4;stroke:#1f77b4;\" x=\"101.131597\" xlink:href=\"#m702ad1c9cd\" y=\"143.107187\"/>\n     <use style=\"fill:#1f77b4;stroke:#1f77b4;\" x=\"61.037739\" xlink:href=\"#m702ad1c9cd\" y=\"142.130127\"/>\n     <use style=\"fill:#1f77b4;stroke:#1f77b4;\" x=\"85.597679\" xlink:href=\"#m702ad1c9cd\" y=\"129.2717\"/>\n     <use style=\"fill:#1f77b4;stroke:#1f77b4;\" x=\"106.865542\" xlink:href=\"#m702ad1c9cd\" y=\"143.035536\"/>\n     <use style=\"fill:#1f77b4;stroke:#1f77b4;\" x=\"75.983921\" xlink:href=\"#m702ad1c9cd\" y=\"146.280114\"/>\n     <use style=\"fill:#1f77b4;stroke:#1f77b4;\" x=\"81.791089\" xlink:href=\"#m702ad1c9cd\" y=\"147.259372\"/>\n     <use style=\"fill:#1f77b4;stroke:#1f77b4;\" x=\"72.950847\" xlink:href=\"#m702ad1c9cd\" y=\"136.972888\"/>\n     <use style=\"fill:#1f77b4;stroke:#1f77b4;\" x=\"79.121118\" xlink:href=\"#m702ad1c9cd\" y=\"149.605781\"/>\n     <use style=\"fill:#1f77b4;stroke:#1f77b4;\" x=\"76.279544\" xlink:href=\"#m702ad1c9cd\" y=\"139.937635\"/>\n     <use style=\"fill:#1f77b4;stroke:#1f77b4;\" x=\"106.509365\" xlink:href=\"#m702ad1c9cd\" y=\"142.121281\"/>\n     <use style=\"fill:#1f77b4;stroke:#1f77b4;\" x=\"69.81365\" xlink:href=\"#m702ad1c9cd\" y=\"133.64722\"/>\n     <use style=\"fill:#1f77b4;stroke:#1f77b4;\" x=\"77.140934\" xlink:href=\"#m702ad1c9cd\" y=\"137.153073\"/>\n     <use style=\"fill:#1f77b4;stroke:#1f77b4;\" x=\"81.239636\" xlink:href=\"#m702ad1c9cd\" y=\"135.19338\"/>\n     <use style=\"fill:#1f77b4;stroke:#1f77b4;\" x=\"84.08121\" xlink:href=\"#m702ad1c9cd\" y=\"144.861526\"/>\n     <use style=\"fill:#1f77b4;stroke:#1f77b4;\" x=\"84.442738\" xlink:href=\"#m702ad1c9cd\" y=\"156.9018\"/>\n     <use style=\"fill:#1f77b4;stroke:#1f77b4;\" x=\"99.994978\" xlink:href=\"#m702ad1c9cd\" y=\"158.748451\"/>\n     <use style=\"fill:#1f77b4;stroke:#1f77b4;\" x=\"111.269983\" xlink:href=\"#m702ad1c9cd\" y=\"143.121474\"/>\n     <use style=\"fill:#1f77b4;stroke:#1f77b4;\" x=\"79.969768\" xlink:href=\"#m702ad1c9cd\" y=\"154.942656\"/>\n     <use style=\"fill:#1f77b4;stroke:#1f77b4;\" x=\"83.106966\" xlink:href=\"#m702ad1c9cd\" y=\"158.268323\"/>\n     <use style=\"fill:#1f77b4;stroke:#1f77b4;\" x=\"77.128194\" xlink:href=\"#m702ad1c9cd\" y=\"145.27451\"/>\n     <use style=\"fill:#1f77b4;stroke:#1f77b4;\" x=\"81.791089\" xlink:href=\"#m702ad1c9cd\" y=\"147.259372\"/>\n     <use style=\"fill:#1f77b4;stroke:#1f77b4;\" x=\"62.73504\" xlink:href=\"#m702ad1c9cd\" y=\"152.803877\"/>\n     <use style=\"fill:#1f77b4;stroke:#1f77b4;\" x=\"106.471539\" xlink:href=\"#m702ad1c9cd\" y=\"138.414369\"/>\n     <use style=\"fill:#1f77b4;stroke:#1f77b4;\" x=\"102.46972\" xlink:href=\"#m702ad1c9cd\" y=\"147.615949\"/>\n     <use style=\"fill:#1f77b4;stroke:#1f77b4;\" x=\"88.849803\" xlink:href=\"#m702ad1c9cd\" y=\"140.478191\"/>\n     <use style=\"fill:#1f77b4;stroke:#1f77b4;\" x=\"74.024131\" xlink:href=\"#m702ad1c9cd\" y=\"140.341629\"/>\n     <use style=\"fill:#1f77b4;stroke:#1f77b4;\" x=\"241.978593\" xlink:href=\"#m702ad1c9cd\" y=\"138.926491\"/>\n     <use style=\"fill:#1f77b4;stroke:#1f77b4;\" x=\"249.649931\" xlink:href=\"#m702ad1c9cd\" y=\"144.832593\"/>\n     <use style=\"fill:#1f77b4;stroke:#1f77b4;\" x=\"248.087317\" xlink:href=\"#m702ad1c9cd\" y=\"144.114682\"/>\n     <use style=\"fill:#1f77b4;stroke:#1f77b4;\" x=\"333.340193\" xlink:href=\"#m702ad1c9cd\" y=\"17.083636\"/>\n     <use style=\"fill:#1f77b4;stroke:#1f77b4;\" x=\"240.180332\" xlink:href=\"#m702ad1c9cd\" y=\"140.778597\"/>\n     <use style=\"fill:#1f77b4;stroke:#1f77b4;\" x=\"248.342434\" xlink:href=\"#m702ad1c9cd\" y=\"144.169811\"/>\n     <use style=\"fill:#1f77b4;stroke:#1f77b4;\" x=\"236.63841\" xlink:href=\"#m702ad1c9cd\" y=\"145.12827\"/>\n     <use style=\"fill:#1f77b4;stroke:#1f77b4;\" x=\"230.320552\" xlink:href=\"#m702ad1c9cd\" y=\"161.774413\"/>\n     <use style=\"fill:#1f77b4;stroke:#1f77b4;\" x=\"258.471603\" xlink:href=\"#m702ad1c9cd\" y=\"146.843251\"/>\n     <use style=\"fill:#1f77b4;stroke:#1f77b4;\" x=\"286.401921\" xlink:href=\"#m702ad1c9cd\" y=\"157.759155\"/>\n     <use style=\"fill:#1f77b4;stroke:#1f77b4;\" x=\"210.473177\" xlink:href=\"#m702ad1c9cd\" y=\"149.986557\"/>\n     <use style=\"fill:#1f77b4;stroke:#1f77b4;\" x=\"274.1339\" xlink:href=\"#m702ad1c9cd\" y=\"142.919173\"/>\n     <use style=\"fill:#1f77b4;stroke:#1f77b4;\" x=\"257.235275\" xlink:href=\"#m702ad1c9cd\" y=\"145.984262\"/>\n     <use style=\"fill:#1f77b4;stroke:#1f77b4;\" x=\"257.358395\" xlink:href=\"#m702ad1c9cd\" y=\"145.992736\"/>\n     <use style=\"fill:#1f77b4;stroke:#1f77b4;\" x=\"253.658663\" xlink:href=\"#m702ad1c9cd\" y=\"151.168507\"/>\n     <use style=\"fill:#1f77b4;stroke:#1f77b4;\" x=\"215.458307\" xlink:href=\"#m702ad1c9cd\" y=\"148.961761\"/>\n     <use style=\"fill:#1f77b4;stroke:#1f77b4;\" x=\"263.255699\" xlink:href=\"#m702ad1c9cd\" y=\"144.622576\"/>\n     <use style=\"fill:#1f77b4;stroke:#1f77b4;\" x=\"256.482006\" xlink:href=\"#m702ad1c9cd\" y=\"142.993455\"/>\n     <use style=\"fill:#1f77b4;stroke:#1f77b4;\" x=\"275.293824\" xlink:href=\"#m702ad1c9cd\" y=\"141.319693\"/>\n     <use style=\"fill:#1f77b4;stroke:#1f77b4;\" x=\"279.894032\" xlink:href=\"#m702ad1c9cd\" y=\"141.465262\"/>\n     <use style=\"fill:#1f77b4;stroke:#1f77b4;\" x=\"301.936037\" xlink:href=\"#m702ad1c9cd\" y=\"140.582831\"/>\n     <use style=\"fill:#1f77b4;stroke:#1f77b4;\" x=\"304.953412\" xlink:href=\"#m702ad1c9cd\" y=\"146.13935\"/>\n     <use style=\"fill:#1f77b4;stroke:#1f77b4;\" x=\"307.288894\" xlink:href=\"#m702ad1c9cd\" y=\"133.894098\"/>\n     <use style=\"fill:#1f77b4;stroke:#1f77b4;\" x=\"263.196914\" xlink:href=\"#m702ad1c9cd\" y=\"141.367132\"/>\n     <use style=\"fill:#1f77b4;stroke:#1f77b4;\" x=\"111.365199\" xlink:href=\"#m702ad1c9cd\" y=\"155.120731\"/>\n     <use style=\"fill:#1f77b4;stroke:#1f77b4;\" x=\"88.527927\" xlink:href=\"#m702ad1c9cd\" y=\"127.759254\"/>\n     <use style=\"fill:#1f77b4;stroke:#1f77b4;\" x=\"269.387323\" xlink:href=\"#m702ad1c9cd\" y=\"138.204363\"/>\n     <use style=\"fill:#1f77b4;stroke:#1f77b4;\" x=\"272.714635\" xlink:href=\"#m702ad1c9cd\" y=\"141.51816\"/>\n     <use style=\"fill:#1f77b4;stroke:#1f77b4;\" x=\"270.315357\" xlink:href=\"#m702ad1c9cd\" y=\"148.787625\"/>\n     <use style=\"fill:#1f77b4;stroke:#1f77b4;\" x=\"278.61073\" xlink:href=\"#m702ad1c9cd\" y=\"144.863303\"/>\n     <use style=\"fill:#1f77b4;stroke:#1f77b4;\" x=\"270.213531\" xlink:href=\"#m702ad1c9cd\" y=\"143.631103\"/>\n     <use style=\"fill:#1f77b4;stroke:#1f77b4;\" x=\"90.587222\" xlink:href=\"#m702ad1c9cd\" y=\"118.24273\"/>\n     <use style=\"fill:#1f77b4;stroke:#1f77b4;\" x=\"333.340193\" xlink:href=\"#m702ad1c9cd\" y=\"17.083636\"/>\n     <use style=\"fill:#1f77b4;stroke:#1f77b4;\" x=\"259.176319\" xlink:href=\"#m702ad1c9cd\" y=\"144.64597\"/>\n     <use style=\"fill:#1f77b4;stroke:#1f77b4;\" x=\"270.821155\" xlink:href=\"#m702ad1c9cd\" y=\"144.705796\"/>\n     <use style=\"fill:#1f77b4;stroke:#1f77b4;\" x=\"252.146482\" xlink:href=\"#m702ad1c9cd\" y=\"140.131646\"/>\n     <use style=\"fill:#1f77b4;stroke:#1f77b4;\" x=\"261.498751\" xlink:href=\"#m702ad1c9cd\" y=\"141.600547\"/>\n     <use style=\"fill:#1f77b4;stroke:#1f77b4;\" x=\"247.728695\" xlink:href=\"#m702ad1c9cd\" y=\"146.888406\"/>\n     <use style=\"fill:#1f77b4;stroke:#1f77b4;\" x=\"261.076191\" xlink:href=\"#m702ad1c9cd\" y=\"152.348645\"/>\n     <use style=\"fill:#1f77b4;stroke:#1f77b4;\" x=\"272.85639\" xlink:href=\"#m702ad1c9cd\" y=\"139.3892\"/>\n     <use style=\"fill:#1f77b4;stroke:#1f77b4;\" x=\"278.352194\" xlink:href=\"#m702ad1c9cd\" y=\"145.916349\"/>\n     <use style=\"fill:#1f77b4;stroke:#1f77b4;\" x=\"270.342432\" xlink:href=\"#m702ad1c9cd\" y=\"142.943129\"/>\n     <use style=\"fill:#1f77b4;stroke:#1f77b4;\" x=\"270.157375\" xlink:href=\"#m702ad1c9cd\" y=\"151.644004\"/>\n     <use style=\"fill:#1f77b4;stroke:#1f77b4;\" x=\"291.016231\" xlink:href=\"#m702ad1c9cd\" y=\"146.641844\"/>\n     <use style=\"fill:#1f77b4;stroke:#1f77b4;\" x=\"298.18287\" xlink:href=\"#m702ad1c9cd\" y=\"140.86869\"/>\n     <use style=\"fill:#1f77b4;stroke:#1f77b4;\" x=\"94.205035\" xlink:href=\"#m702ad1c9cd\" y=\"131.182508\"/>\n     <use style=\"fill:#1f77b4;stroke:#1f77b4;\" x=\"269.294864\" xlink:href=\"#m702ad1c9cd\" y=\"138.650322\"/>\n     <use style=\"fill:#1f77b4;stroke:#1f77b4;\" x=\"279.189262\" xlink:href=\"#m702ad1c9cd\" y=\"147.382373\"/>\n     <use style=\"fill:#1f77b4;stroke:#1f77b4;\" x=\"259.962158\" xlink:href=\"#m702ad1c9cd\" y=\"151.901719\"/>\n     <use style=\"fill:#1f77b4;stroke:#1f77b4;\" x=\"281.741395\" xlink:href=\"#m702ad1c9cd\" y=\"147.980269\"/>\n     <use style=\"fill:#1f77b4;stroke:#1f77b4;\" x=\"93.682012\" xlink:href=\"#m702ad1c9cd\" y=\"129.128066\"/>\n     <use style=\"fill:#1f77b4;stroke:#1f77b4;\" x=\"298.969829\" xlink:href=\"#m702ad1c9cd\" y=\"151.268881\"/>\n     <use style=\"fill:#1f77b4;stroke:#1f77b4;\" x=\"262.83409\" xlink:href=\"#m702ad1c9cd\" y=\"144.961268\"/>\n     <use style=\"fill:#1f77b4;stroke:#1f77b4;\" x=\"267.855637\" xlink:href=\"#m702ad1c9cd\" y=\"143.43128\"/>\n     <use style=\"fill:#1f77b4;stroke:#1f77b4;\" x=\"257.447846\" xlink:href=\"#m702ad1c9cd\" y=\"145.061646\"/>\n     <use style=\"fill:#1f77b4;stroke:#1f77b4;\" x=\"281.166722\" xlink:href=\"#m702ad1c9cd\" y=\"144.555582\"/>\n     <use style=\"fill:#1f77b4;stroke:#1f77b4;\" x=\"269.638979\" xlink:href=\"#m702ad1c9cd\" y=\"145.600709\"/>\n     <use style=\"fill:#1f77b4;stroke:#1f77b4;\" x=\"270.763369\" xlink:href=\"#m702ad1c9cd\" y=\"144.548333\"/>\n     <use style=\"fill:#1f77b4;stroke:#1f77b4;\" x=\"247.106832\" xlink:href=\"#m702ad1c9cd\" y=\"145.444073\"/>\n     <use style=\"fill:#1f77b4;stroke:#1f77b4;\" x=\"284.395208\" xlink:href=\"#m702ad1c9cd\" y=\"149.424262\"/>\n     <use style=\"fill:#1f77b4;stroke:#1f77b4;\" x=\"248.082671\" xlink:href=\"#m702ad1c9cd\" y=\"150.475425\"/>\n     <use style=\"fill:#1f77b4;stroke:#1f77b4;\" x=\"274.330499\" xlink:href=\"#m702ad1c9cd\" y=\"142.09077\"/>\n     <use style=\"fill:#1f77b4;stroke:#1f77b4;\" x=\"272.780773\" xlink:href=\"#m702ad1c9cd\" y=\"140.334884\"/>\n     <use style=\"fill:#1f77b4;stroke:#1f77b4;\" x=\"275.01998\" xlink:href=\"#m702ad1c9cd\" y=\"141.453659\"/>\n     <use style=\"fill:#1f77b4;stroke:#1f77b4;\" x=\"277.939065\" xlink:href=\"#m702ad1c9cd\" y=\"143.176894\"/>\n     <use style=\"fill:#1f77b4;stroke:#1f77b4;\" x=\"282.440731\" xlink:href=\"#m702ad1c9cd\" y=\"146.785912\"/>\n     <use style=\"fill:#1f77b4;stroke:#1f77b4;\" x=\"296.647603\" xlink:href=\"#m702ad1c9cd\" y=\"145.531219\"/>\n     <use style=\"fill:#1f77b4;stroke:#1f77b4;\" x=\"262.059974\" xlink:href=\"#m702ad1c9cd\" y=\"141.631725\"/>\n     <use style=\"fill:#1f77b4;stroke:#1f77b4;\" x=\"287.280782\" xlink:href=\"#m702ad1c9cd\" y=\"142.508811\"/>\n     <use style=\"fill:#1f77b4;stroke:#1f77b4;\" x=\"270.594164\" xlink:href=\"#m702ad1c9cd\" y=\"156.61596\"/>\n     <use style=\"fill:#1f77b4;stroke:#1f77b4;\" x=\"275.27997\" xlink:href=\"#m702ad1c9cd\" y=\"146.443895\"/>\n     <use style=\"fill:#1f77b4;stroke:#1f77b4;\" x=\"269.043191\" xlink:href=\"#m702ad1c9cd\" y=\"149.101238\"/>\n     <use style=\"fill:#1f77b4;stroke:#1f77b4;\" x=\"267.71708\" xlink:href=\"#m702ad1c9cd\" y=\"148.324256\"/>\n     <use style=\"fill:#1f77b4;stroke:#1f77b4;\" x=\"257.916908\" xlink:href=\"#m702ad1c9cd\" y=\"146.196757\"/>\n     <use style=\"fill:#1f77b4;stroke:#1f77b4;\" x=\"264.107831\" xlink:href=\"#m702ad1c9cd\" y=\"150.371255\"/>\n     <use style=\"fill:#1f77b4;stroke:#1f77b4;\" x=\"256.37033\" xlink:href=\"#m702ad1c9cd\" y=\"144.051934\"/>\n     <use style=\"fill:#1f77b4;stroke:#1f77b4;\" x=\"257.702646\" xlink:href=\"#m702ad1c9cd\" y=\"150.143825\"/>\n     <use style=\"fill:#1f77b4;stroke:#1f77b4;\" x=\"267.248081\" xlink:href=\"#m702ad1c9cd\" y=\"142.495433\"/>\n     <use style=\"fill:#1f77b4;stroke:#1f77b4;\" x=\"259.941464\" xlink:href=\"#m702ad1c9cd\" y=\"151.354123\"/>\n     <use style=\"fill:#1f77b4;stroke:#1f77b4;\" x=\"255.476253\" xlink:href=\"#m702ad1c9cd\" y=\"152.046342\"/>\n     <use style=\"fill:#1f77b4;stroke:#1f77b4;\" x=\"254.482873\" xlink:href=\"#m702ad1c9cd\" y=\"150.828428\"/>\n     <use style=\"fill:#1f77b4;stroke:#1f77b4;\" x=\"249.359422\" xlink:href=\"#m702ad1c9cd\" y=\"152.174804\"/>\n     <use style=\"fill:#1f77b4;stroke:#1f77b4;\" x=\"253.814412\" xlink:href=\"#m702ad1c9cd\" y=\"147.684379\"/>\n     <use style=\"fill:#1f77b4;stroke:#1f77b4;\" x=\"265.046023\" xlink:href=\"#m702ad1c9cd\" y=\"150.25437\"/>\n     <use style=\"fill:#1f77b4;stroke:#1f77b4;\" x=\"251.776344\" xlink:href=\"#m702ad1c9cd\" y=\"146.074249\"/>\n     <use style=\"fill:#1f77b4;stroke:#1f77b4;\" x=\"248.179489\" xlink:href=\"#m702ad1c9cd\" y=\"148.121768\"/>\n     <use style=\"fill:#1f77b4;stroke:#1f77b4;\" x=\"248.088624\" xlink:href=\"#m702ad1c9cd\" y=\"151.226403\"/>\n     <use style=\"fill:#1f77b4;stroke:#1f77b4;\" x=\"216.59766\" xlink:href=\"#m702ad1c9cd\" y=\"150.228335\"/>\n     <use style=\"fill:#1f77b4;stroke:#1f77b4;\" x=\"261.200059\" xlink:href=\"#m702ad1c9cd\" y=\"151.77181\"/>\n     <use style=\"fill:#1f77b4;stroke:#1f77b4;\" x=\"261.298412\" xlink:href=\"#m702ad1c9cd\" y=\"150.852487\"/>\n     <use style=\"fill:#1f77b4;stroke:#1f77b4;\" x=\"249.234249\" xlink:href=\"#m702ad1c9cd\" y=\"148.444156\"/>\n     <use style=\"fill:#1f77b4;stroke:#1f77b4;\" x=\"254.848927\" xlink:href=\"#m702ad1c9cd\" y=\"145.578996\"/>\n     <use style=\"fill:#1f77b4;stroke:#1f77b4;\" x=\"254.672988\" xlink:href=\"#m702ad1c9cd\" y=\"157.844027\"/>\n     <use style=\"fill:#1f77b4;stroke:#1f77b4;\" x=\"86.945525\" xlink:href=\"#m702ad1c9cd\" y=\"125.340361\"/>\n     <use style=\"fill:#1f77b4;stroke:#1f77b4;\" x=\"333.340193\" xlink:href=\"#m702ad1c9cd\" y=\"17.083636\"/>\n     <use style=\"fill:#1f77b4;stroke:#1f77b4;\" x=\"267.98659\" xlink:href=\"#m702ad1c9cd\" y=\"151.308628\"/>\n     <use style=\"fill:#1f77b4;stroke:#1f77b4;\" x=\"269.938025\" xlink:href=\"#m702ad1c9cd\" y=\"145.670394\"/>\n     <use style=\"fill:#1f77b4;stroke:#1f77b4;\" x=\"260.230854\" xlink:href=\"#m702ad1c9cd\" y=\"139.034125\"/>\n     <use style=\"fill:#1f77b4;stroke:#1f77b4;\" x=\"275.220065\" xlink:href=\"#m702ad1c9cd\" y=\"150.432827\"/>\n     <use style=\"fill:#1f77b4;stroke:#1f77b4;\" x=\"79.826722\" xlink:href=\"#m702ad1c9cd\" y=\"119.782436\"/>\n     <use style=\"fill:#1f77b4;stroke:#1f77b4;\" x=\"282.541979\" xlink:href=\"#m702ad1c9cd\" y=\"142.403916\"/>\n     <use style=\"fill:#1f77b4;stroke:#1f77b4;\" x=\"265.24792\" xlink:href=\"#m702ad1c9cd\" y=\"145.630769\"/>\n     <use style=\"fill:#1f77b4;stroke:#1f77b4;\" x=\"269.115283\" xlink:href=\"#m702ad1c9cd\" y=\"146.733122\"/>\n     <use style=\"fill:#1f77b4;stroke:#1f77b4;\" x=\"282.620546\" xlink:href=\"#m702ad1c9cd\" y=\"143.052414\"/>\n     <use style=\"fill:#1f77b4;stroke:#1f77b4;\" x=\"269.287372\" xlink:href=\"#m702ad1c9cd\" y=\"143.969771\"/>\n     <use style=\"fill:#1f77b4;stroke:#1f77b4;\" x=\"285.358629\" xlink:href=\"#m702ad1c9cd\" y=\"143.464564\"/>\n     <use style=\"fill:#1f77b4;stroke:#1f77b4;\" x=\"279.44136\" xlink:href=\"#m702ad1c9cd\" y=\"140.577069\"/>\n     <use style=\"fill:#1f77b4;stroke:#1f77b4;\" x=\"266.501926\" xlink:href=\"#m702ad1c9cd\" y=\"147.636638\"/>\n     <use style=\"fill:#1f77b4;stroke:#1f77b4;\" x=\"295.914653\" xlink:href=\"#m702ad1c9cd\" y=\"146.856498\"/>\n     <use style=\"fill:#1f77b4;stroke:#1f77b4;\" x=\"281.891235\" xlink:href=\"#m702ad1c9cd\" y=\"144.064859\"/>\n     <use style=\"fill:#1f77b4;stroke:#1f77b4;\" x=\"280.700245\" xlink:href=\"#m702ad1c9cd\" y=\"146.043307\"/>\n     <use style=\"fill:#1f77b4;stroke:#1f77b4;\" x=\"261.470514\" xlink:href=\"#m702ad1c9cd\" y=\"139.094426\"/>\n     <use style=\"fill:#1f77b4;stroke:#1f77b4;\" x=\"304.831769\" xlink:href=\"#m702ad1c9cd\" y=\"136.979031\"/>\n     <use style=\"fill:#1f77b4;stroke:#1f77b4;\" x=\"270.459346\" xlink:href=\"#m702ad1c9cd\" y=\"154.304769\"/>\n     <use style=\"fill:#1f77b4;stroke:#1f77b4;\" x=\"267.201722\" xlink:href=\"#m702ad1c9cd\" y=\"139.307538\"/>\n     <use style=\"fill:#1f77b4;stroke:#1f77b4;\" x=\"264.544225\" xlink:href=\"#m702ad1c9cd\" y=\"150.879975\"/>\n     <use style=\"fill:#1f77b4;stroke:#1f77b4;\" x=\"277.041629\" xlink:href=\"#m702ad1c9cd\" y=\"142.226602\"/>\n     <use style=\"fill:#1f77b4;stroke:#1f77b4;\" x=\"270.149119\" xlink:href=\"#m702ad1c9cd\" y=\"144.125178\"/>\n     <use style=\"fill:#1f77b4;stroke:#1f77b4;\" x=\"277.726525\" xlink:href=\"#m702ad1c9cd\" y=\"144.554457\"/>\n     <use style=\"fill:#1f77b4;stroke:#1f77b4;\" x=\"285.273484\" xlink:href=\"#m702ad1c9cd\" y=\"138.560536\"/>\n     <use style=\"fill:#1f77b4;stroke:#1f77b4;\" x=\"284.266501\" xlink:href=\"#m702ad1c9cd\" y=\"145.313677\"/>\n     <use style=\"fill:#1f77b4;stroke:#1f77b4;\" x=\"265.823338\" xlink:href=\"#m702ad1c9cd\" y=\"141.869733\"/>\n     <use style=\"fill:#1f77b4;stroke:#1f77b4;\" x=\"276.794726\" xlink:href=\"#m702ad1c9cd\" y=\"148.823448\"/>\n     <use style=\"fill:#1f77b4;stroke:#1f77b4;\" x=\"297.444258\" xlink:href=\"#m702ad1c9cd\" y=\"149.513508\"/>\n     <use style=\"fill:#1f77b4;stroke:#1f77b4;\" x=\"91.725972\" xlink:href=\"#m702ad1c9cd\" y=\"123.344949\"/>\n     <use style=\"fill:#1f77b4;stroke:#1f77b4;\" x=\"92.217427\" xlink:href=\"#m702ad1c9cd\" y=\"126.976828\"/>\n     <use style=\"fill:#1f77b4;stroke:#1f77b4;\" x=\"260.553932\" xlink:href=\"#m702ad1c9cd\" y=\"157.467963\"/>\n     <use style=\"fill:#1f77b4;stroke:#1f77b4;\" x=\"286.465443\" xlink:href=\"#m702ad1c9cd\" y=\"145.523864\"/>\n     <use style=\"fill:#1f77b4;stroke:#1f77b4;\" x=\"257.425617\" xlink:href=\"#m702ad1c9cd\" y=\"140.551575\"/>\n     <use style=\"fill:#1f77b4;stroke:#1f77b4;\" x=\"268.23716\" xlink:href=\"#m702ad1c9cd\" y=\"146.505245\"/>\n     <use style=\"fill:#1f77b4;stroke:#1f77b4;\" x=\"264.617458\" xlink:href=\"#m702ad1c9cd\" y=\"146.039655\"/>\n     <use style=\"fill:#1f77b4;stroke:#1f77b4;\" x=\"272.216922\" xlink:href=\"#m702ad1c9cd\" y=\"140.319091\"/>\n     <use style=\"fill:#1f77b4;stroke:#1f77b4;\" x=\"258.160921\" xlink:href=\"#m702ad1c9cd\" y=\"143.10266\"/>\n     <use style=\"fill:#1f77b4;stroke:#1f77b4;\" x=\"306.946809\" xlink:href=\"#m702ad1c9cd\" y=\"147.948659\"/>\n     <use style=\"fill:#1f77b4;stroke:#1f77b4;\" x=\"275.382148\" xlink:href=\"#m702ad1c9cd\" y=\"148.335559\"/>\n     <use style=\"fill:#1f77b4;stroke:#1f77b4;\" x=\"258.351434\" xlink:href=\"#m702ad1c9cd\" y=\"143.527607\"/>\n     <use style=\"fill:#1f77b4;stroke:#1f77b4;\" x=\"280.714887\" xlink:href=\"#m702ad1c9cd\" y=\"142.995132\"/>\n     <use style=\"fill:#1f77b4;stroke:#1f77b4;\" x=\"284.762638\" xlink:href=\"#m702ad1c9cd\" y=\"148.314286\"/>\n     <use style=\"fill:#1f77b4;stroke:#1f77b4;\" x=\"282.297311\" xlink:href=\"#m702ad1c9cd\" y=\"143.65867\"/>\n     <use style=\"fill:#1f77b4;stroke:#1f77b4;\" x=\"306.489643\" xlink:href=\"#m702ad1c9cd\" y=\"140.433079\"/>\n     <use style=\"fill:#1f77b4;stroke:#1f77b4;\" x=\"259.832937\" xlink:href=\"#m702ad1c9cd\" y=\"147.530678\"/>\n     <use style=\"fill:#1f77b4;stroke:#1f77b4;\" x=\"300.982198\" xlink:href=\"#m702ad1c9cd\" y=\"142.914907\"/>\n     <use style=\"fill:#1f77b4;stroke:#1f77b4;\" x=\"274.284442\" xlink:href=\"#m702ad1c9cd\" y=\"136.057548\"/>\n     <use style=\"fill:#1f77b4;stroke:#1f77b4;\" x=\"262.648102\" xlink:href=\"#m702ad1c9cd\" y=\"149.650142\"/>\n     <use style=\"fill:#1f77b4;stroke:#1f77b4;\" x=\"247.563012\" xlink:href=\"#m702ad1c9cd\" y=\"147.821856\"/>\n     <use style=\"fill:#1f77b4;stroke:#1f77b4;\" x=\"276.411685\" xlink:href=\"#m702ad1c9cd\" y=\"142.005883\"/>\n     <use style=\"fill:#1f77b4;stroke:#1f77b4;\" x=\"272.169995\" xlink:href=\"#m702ad1c9cd\" y=\"144.472218\"/>\n     <use style=\"fill:#1f77b4;stroke:#1f77b4;\" x=\"272.383739\" xlink:href=\"#m702ad1c9cd\" y=\"144.388586\"/>\n     <use style=\"fill:#1f77b4;stroke:#1f77b4;\" x=\"270.148374\" xlink:href=\"#m702ad1c9cd\" y=\"143.709411\"/>\n     <use style=\"fill:#1f77b4;stroke:#1f77b4;\" x=\"259.566271\" xlink:href=\"#m702ad1c9cd\" y=\"151.119439\"/>\n     <use style=\"fill:#1f77b4;stroke:#1f77b4;\" x=\"313.327129\" xlink:href=\"#m702ad1c9cd\" y=\"135.203048\"/>\n     <use style=\"fill:#1f77b4;stroke:#1f77b4;\" x=\"258.506641\" xlink:href=\"#m702ad1c9cd\" y=\"144.787412\"/>\n     <use style=\"fill:#1f77b4;stroke:#1f77b4;\" x=\"259.912954\" xlink:href=\"#m702ad1c9cd\" y=\"144.644187\"/>\n     <use style=\"fill:#1f77b4;stroke:#1f77b4;\" x=\"364.427131\" xlink:href=\"#m702ad1c9cd\" y=\"87.245294\"/>\n     <use style=\"fill:#1f77b4;stroke:#1f77b4;\" x=\"259.520486\" xlink:href=\"#m702ad1c9cd\" y=\"144.769016\"/>\n     <use style=\"fill:#1f77b4;stroke:#1f77b4;\" x=\"274.217762\" xlink:href=\"#m702ad1c9cd\" y=\"143.520673\"/>\n     <use style=\"fill:#1f77b4;stroke:#1f77b4;\" x=\"281.912903\" xlink:href=\"#m702ad1c9cd\" y=\"154.492278\"/>\n     <use style=\"fill:#1f77b4;stroke:#1f77b4;\" x=\"283.507326\" xlink:href=\"#m702ad1c9cd\" y=\"146.448539\"/>\n     <use style=\"fill:#1f77b4;stroke:#1f77b4;\" x=\"266.337941\" xlink:href=\"#m702ad1c9cd\" y=\"147.967699\"/>\n     <use style=\"fill:#1f77b4;stroke:#1f77b4;\" x=\"256.406082\" xlink:href=\"#m702ad1c9cd\" y=\"147.692805\"/>\n     <use style=\"fill:#1f77b4;stroke:#1f77b4;\" x=\"259.804535\" xlink:href=\"#m702ad1c9cd\" y=\"147.254661\"/>\n     <use style=\"fill:#1f77b4;stroke:#1f77b4;\" x=\"262.919862\" xlink:href=\"#m702ad1c9cd\" y=\"146.05354\"/>\n     <use style=\"fill:#1f77b4;stroke:#1f77b4;\" x=\"251.655058\" xlink:href=\"#m702ad1c9cd\" y=\"146.009544\"/>\n     <use style=\"fill:#1f77b4;stroke:#1f77b4;\" x=\"269.083778\" xlink:href=\"#m702ad1c9cd\" y=\"155.947795\"/>\n     <use style=\"fill:#1f77b4;stroke:#1f77b4;\" x=\"269.887769\" xlink:href=\"#m702ad1c9cd\" y=\"148.082237\"/>\n     <use style=\"fill:#1f77b4;stroke:#1f77b4;\" x=\"232.491655\" xlink:href=\"#m702ad1c9cd\" y=\"147.281123\"/>\n     <use style=\"fill:#1f77b4;stroke:#1f77b4;\" x=\"166.24363\" xlink:href=\"#m702ad1c9cd\" y=\"160.120965\"/>\n     <use style=\"fill:#1f77b4;stroke:#1f77b4;\" x=\"261.867289\" xlink:href=\"#m702ad1c9cd\" y=\"146.556578\"/>\n     <use style=\"fill:#1f77b4;stroke:#1f77b4;\" x=\"276.561661\" xlink:href=\"#m702ad1c9cd\" y=\"146.346367\"/>\n     <use style=\"fill:#1f77b4;stroke:#1f77b4;\" x=\"256.298434\" xlink:href=\"#m702ad1c9cd\" y=\"151.766046\"/>\n     <use style=\"fill:#1f77b4;stroke:#1f77b4;\" x=\"263.630551\" xlink:href=\"#m702ad1c9cd\" y=\"146.196344\"/>\n     <use style=\"fill:#1f77b4;stroke:#1f77b4;\" x=\"248.291344\" xlink:href=\"#m702ad1c9cd\" y=\"150.462399\"/>\n     <use style=\"fill:#1f77b4;stroke:#1f77b4;\" x=\"258.435081\" xlink:href=\"#m702ad1c9cd\" y=\"151.86527\"/>\n     <use style=\"fill:#1f77b4;stroke:#1f77b4;\" x=\"96.208629\" xlink:href=\"#m702ad1c9cd\" y=\"129.707959\"/>\n     <use style=\"fill:#1f77b4;stroke:#1f77b4;\" x=\"235.897809\" xlink:href=\"#m702ad1c9cd\" y=\"143.499515\"/>\n     <use style=\"fill:#1f77b4;stroke:#1f77b4;\" x=\"248.722902\" xlink:href=\"#m702ad1c9cd\" y=\"150.32635\"/>\n     <use style=\"fill:#1f77b4;stroke:#1f77b4;\" x=\"258.907031\" xlink:href=\"#m702ad1c9cd\" y=\"151.743392\"/>\n     <use style=\"fill:#1f77b4;stroke:#1f77b4;\" x=\"256.43069\" xlink:href=\"#m702ad1c9cd\" y=\"151.622881\"/>\n     <use style=\"fill:#1f77b4;stroke:#1f77b4;\" x=\"251.753145\" xlink:href=\"#m702ad1c9cd\" y=\"153.38211\"/>\n     <use style=\"fill:#1f77b4;stroke:#1f77b4;\" x=\"263.619499\" xlink:href=\"#m702ad1c9cd\" y=\"146.370958\"/>\n     <use style=\"fill:#1f77b4;stroke:#1f77b4;\" x=\"255.491722\" xlink:href=\"#m702ad1c9cd\" y=\"146.937364\"/>\n     <use style=\"fill:#1f77b4;stroke:#1f77b4;\" x=\"279.245277\" xlink:href=\"#m702ad1c9cd\" y=\"145.906125\"/>\n     <use style=\"fill:#1f77b4;stroke:#1f77b4;\" x=\"287.07504\" xlink:href=\"#m702ad1c9cd\" y=\"149.0011\"/>\n     <use style=\"fill:#1f77b4;stroke:#1f77b4;\" x=\"274.393566\" xlink:href=\"#m702ad1c9cd\" y=\"151.504135\"/>\n     <use style=\"fill:#1f77b4;stroke:#1f77b4;\" x=\"272.299555\" xlink:href=\"#m702ad1c9cd\" y=\"148.115762\"/>\n     <use style=\"fill:#1f77b4;stroke:#1f77b4;\" x=\"282.970055\" xlink:href=\"#m702ad1c9cd\" y=\"150.786823\"/>\n     <use style=\"fill:#1f77b4;stroke:#1f77b4;\" x=\"281.410717\" xlink:href=\"#m702ad1c9cd\" y=\"150.290877\"/>\n     <use style=\"fill:#1f77b4;stroke:#1f77b4;\" x=\"271.194545\" xlink:href=\"#m702ad1c9cd\" y=\"148.118247\"/>\n     <use style=\"fill:#1f77b4;stroke:#1f77b4;\" x=\"273.223948\" xlink:href=\"#m702ad1c9cd\" y=\"146.898756\"/>\n     <use style=\"fill:#1f77b4;stroke:#1f77b4;\" x=\"287.159229\" xlink:href=\"#m702ad1c9cd\" y=\"149.027369\"/>\n     <use style=\"fill:#1f77b4;stroke:#1f77b4;\" x=\"276.648467\" xlink:href=\"#m702ad1c9cd\" y=\"147.086869\"/>\n     <use style=\"fill:#1f77b4;stroke:#1f77b4;\" x=\"99.693187\" xlink:href=\"#m702ad1c9cd\" y=\"147.009546\"/>\n     <use style=\"fill:#1f77b4;stroke:#1f77b4;\" x=\"77.992669\" xlink:href=\"#m702ad1c9cd\" y=\"165.4193\"/>\n     <use style=\"fill:#1f77b4;stroke:#1f77b4;\" x=\"277.170039\" xlink:href=\"#m702ad1c9cd\" y=\"145.883414\"/>\n     <use style=\"fill:#1f77b4;stroke:#1f77b4;\" x=\"274.347618\" xlink:href=\"#m702ad1c9cd\" y=\"142.998198\"/>\n     <use style=\"fill:#1f77b4;stroke:#1f77b4;\" x=\"257.418952\" xlink:href=\"#m702ad1c9cd\" y=\"145.784151\"/>\n     <use style=\"fill:#1f77b4;stroke:#1f77b4;\" x=\"255.922811\" xlink:href=\"#m702ad1c9cd\" y=\"145.387633\"/>\n     <use style=\"fill:#1f77b4;stroke:#1f77b4;\" x=\"278.787545\" xlink:href=\"#m702ad1c9cd\" y=\"147.087534\"/>\n     <use style=\"fill:#1f77b4;stroke:#1f77b4;\" x=\"269.011621\" xlink:href=\"#m702ad1c9cd\" y=\"144.788963\"/>\n     <use style=\"fill:#1f77b4;stroke:#1f77b4;\" x=\"270.550526\" xlink:href=\"#m702ad1c9cd\" y=\"150.339607\"/>\n     <use style=\"fill:#1f77b4;stroke:#1f77b4;\" x=\"278.583984\" xlink:href=\"#m702ad1c9cd\" y=\"147.859413\"/>\n     <use style=\"fill:#1f77b4;stroke:#1f77b4;\" x=\"280.542649\" xlink:href=\"#m702ad1c9cd\" y=\"148.505123\"/>\n     <use style=\"fill:#1f77b4;stroke:#1f77b4;\" x=\"78.897702\" xlink:href=\"#m702ad1c9cd\" y=\"150.026854\"/>\n     <use style=\"fill:#1f77b4;stroke:#1f77b4;\" x=\"79.456242\" xlink:href=\"#m702ad1c9cd\" y=\"148.974171\"/>\n     <use style=\"fill:#1f77b4;stroke:#1f77b4;\" x=\"271.250478\" xlink:href=\"#m702ad1c9cd\" y=\"149.055012\"/>\n     <use style=\"fill:#1f77b4;stroke:#1f77b4;\" x=\"276.19034\" xlink:href=\"#m702ad1c9cd\" y=\"151.195879\"/>\n     <use style=\"fill:#1f77b4;stroke:#1f77b4;\" x=\"274.738368\" xlink:href=\"#m702ad1c9cd\" y=\"147.697697\"/>\n     <use style=\"fill:#1f77b4;stroke:#1f77b4;\" x=\"279.922395\" xlink:href=\"#m702ad1c9cd\" y=\"146.612773\"/>\n     <use style=\"fill:#1f77b4;stroke:#1f77b4;\" x=\"254.79642\" xlink:href=\"#m702ad1c9cd\" y=\"144.151284\"/>\n     <use style=\"fill:#1f77b4;stroke:#1f77b4;\" x=\"253.632452\" xlink:href=\"#m702ad1c9cd\" y=\"147.39339\"/>\n     <use style=\"fill:#1f77b4;stroke:#1f77b4;\" x=\"273.708825\" xlink:href=\"#m702ad1c9cd\" y=\"147.376061\"/>\n     <use style=\"fill:#1f77b4;stroke:#1f77b4;\" x=\"238.989988\" xlink:href=\"#m702ad1c9cd\" y=\"153.26031\"/>\n     <use style=\"fill:#1f77b4;stroke:#1f77b4;\" x=\"238.389305\" xlink:href=\"#m702ad1c9cd\" y=\"153.924386\"/>\n     <use style=\"fill:#1f77b4;stroke:#1f77b4;\" x=\"237.983186\" xlink:href=\"#m702ad1c9cd\" y=\"154.049577\"/>\n     <use style=\"fill:#1f77b4;stroke:#1f77b4;\" x=\"263.838571\" xlink:href=\"#m702ad1c9cd\" y=\"154.310347\"/>\n     <use style=\"fill:#1f77b4;stroke:#1f77b4;\" x=\"257.884377\" xlink:href=\"#m702ad1c9cd\" y=\"147.199532\"/>\n     <use style=\"fill:#1f77b4;stroke:#1f77b4;\" x=\"259.997197\" xlink:href=\"#m702ad1c9cd\" y=\"143.767256\"/>\n     <use style=\"fill:#1f77b4;stroke:#1f77b4;\" x=\"266.530152\" xlink:href=\"#m702ad1c9cd\" y=\"150.033597\"/>\n     <use style=\"fill:#1f77b4;stroke:#1f77b4;\" x=\"262.48414\" xlink:href=\"#m702ad1c9cd\" y=\"148.721143\"/>\n     <use style=\"fill:#1f77b4;stroke:#1f77b4;\" x=\"283.217603\" xlink:href=\"#m702ad1c9cd\" y=\"144.337391\"/>\n     <use style=\"fill:#1f77b4;stroke:#1f77b4;\" x=\"259.547526\" xlink:href=\"#m702ad1c9cd\" y=\"142.625055\"/>\n     <use style=\"fill:#1f77b4;stroke:#1f77b4;\" x=\"262.934117\" xlink:href=\"#m702ad1c9cd\" y=\"146.839483\"/>\n     <use style=\"fill:#1f77b4;stroke:#1f77b4;\" x=\"275.224419\" xlink:href=\"#m702ad1c9cd\" y=\"146.438657\"/>\n     <use style=\"fill:#1f77b4;stroke:#1f77b4;\" x=\"263.737424\" xlink:href=\"#m702ad1c9cd\" y=\"143.991521\"/>\n     <use style=\"fill:#1f77b4;stroke:#1f77b4;\" x=\"248.347417\" xlink:href=\"#m702ad1c9cd\" y=\"148.391753\"/>\n     <use style=\"fill:#1f77b4;stroke:#1f77b4;\" x=\"259.154754\" xlink:href=\"#m702ad1c9cd\" y=\"149.547582\"/>\n     <use style=\"fill:#1f77b4;stroke:#1f77b4;\" x=\"258.615629\" xlink:href=\"#m702ad1c9cd\" y=\"149.61803\"/>\n     <use style=\"fill:#1f77b4;stroke:#1f77b4;\" x=\"258.711539\" xlink:href=\"#m702ad1c9cd\" y=\"148.811307\"/>\n     <use style=\"fill:#1f77b4;stroke:#1f77b4;\" x=\"260.404829\" xlink:href=\"#m702ad1c9cd\" y=\"149.4304\"/>\n     <use style=\"fill:#1f77b4;stroke:#1f77b4;\" x=\"258.497406\" xlink:href=\"#m702ad1c9cd\" y=\"149.62142\"/>\n     <use style=\"fill:#1f77b4;stroke:#1f77b4;\" x=\"259.776537\" xlink:href=\"#m702ad1c9cd\" y=\"149.46314\"/>\n     <use style=\"fill:#1f77b4;stroke:#1f77b4;\" x=\"262.907514\" xlink:href=\"#m702ad1c9cd\" y=\"145.983973\"/>\n     <use style=\"fill:#1f77b4;stroke:#1f77b4;\" x=\"93.044225\" xlink:href=\"#m702ad1c9cd\" y=\"128.861157\"/>\n     <use style=\"fill:#1f77b4;stroke:#1f77b4;\" x=\"273.710283\" xlink:href=\"#m702ad1c9cd\" y=\"142.944189\"/>\n     <use style=\"fill:#1f77b4;stroke:#1f77b4;\" x=\"282.046292\" xlink:href=\"#m702ad1c9cd\" y=\"145.659929\"/>\n     <use style=\"fill:#1f77b4;stroke:#1f77b4;\" x=\"266.746105\" xlink:href=\"#m702ad1c9cd\" y=\"148.967862\"/>\n     <use style=\"fill:#1f77b4;stroke:#1f77b4;\" x=\"275.868652\" xlink:href=\"#m702ad1c9cd\" y=\"144.730112\"/>\n     <use style=\"fill:#1f77b4;stroke:#1f77b4;\" x=\"264.846725\" xlink:href=\"#m702ad1c9cd\" y=\"144.903331\"/>\n     <use style=\"fill:#1f77b4;stroke:#1f77b4;\" x=\"251.331591\" xlink:href=\"#m702ad1c9cd\" y=\"146.267438\"/>\n     <use style=\"fill:#1f77b4;stroke:#1f77b4;\" x=\"263.791841\" xlink:href=\"#m702ad1c9cd\" y=\"144.713257\"/>\n     <use style=\"fill:#1f77b4;stroke:#1f77b4;\" x=\"287.504673\" xlink:href=\"#m702ad1c9cd\" y=\"146.514292\"/>\n     <use style=\"fill:#1f77b4;stroke:#1f77b4;\" x=\"245.656784\" xlink:href=\"#m702ad1c9cd\" y=\"149.547736\"/>\n     <use style=\"fill:#1f77b4;stroke:#1f77b4;\" x=\"250.430664\" xlink:href=\"#m702ad1c9cd\" y=\"147.577829\"/>\n     <use style=\"fill:#1f77b4;stroke:#1f77b4;\" x=\"271.834458\" xlink:href=\"#m702ad1c9cd\" y=\"146.211247\"/>\n     <use style=\"fill:#1f77b4;stroke:#1f77b4;\" x=\"234.345243\" xlink:href=\"#m702ad1c9cd\" y=\"152.038084\"/>\n     <use style=\"fill:#1f77b4;stroke:#1f77b4;\" x=\"273.565022\" xlink:href=\"#m702ad1c9cd\" y=\"144.945464\"/>\n     <use style=\"fill:#1f77b4;stroke:#1f77b4;\" x=\"273.565022\" xlink:href=\"#m702ad1c9cd\" y=\"144.945464\"/>\n     <use style=\"fill:#1f77b4;stroke:#1f77b4;\" x=\"273.565022\" xlink:href=\"#m702ad1c9cd\" y=\"144.945464\"/>\n     <use style=\"fill:#1f77b4;stroke:#1f77b4;\" x=\"246.06055\" xlink:href=\"#m702ad1c9cd\" y=\"149.13588\"/>\n     <use style=\"fill:#1f77b4;stroke:#1f77b4;\" x=\"250.39636\" xlink:href=\"#m702ad1c9cd\" y=\"143.85719\"/>\n     <use style=\"fill:#1f77b4;stroke:#1f77b4;\" x=\"247.921881\" xlink:href=\"#m702ad1c9cd\" y=\"151.420557\"/>\n     <use style=\"fill:#1f77b4;stroke:#1f77b4;\" x=\"248.141517\" xlink:href=\"#m702ad1c9cd\" y=\"146.68599\"/>\n     <use style=\"fill:#1f77b4;stroke:#1f77b4;\" x=\"259.546075\" xlink:href=\"#m702ad1c9cd\" y=\"148.778089\"/>\n     <use style=\"fill:#1f77b4;stroke:#1f77b4;\" x=\"248.186627\" xlink:href=\"#m702ad1c9cd\" y=\"151.460173\"/>\n     <use style=\"fill:#1f77b4;stroke:#1f77b4;\" x=\"258.444793\" xlink:href=\"#m702ad1c9cd\" y=\"152.794456\"/>\n     <use style=\"fill:#1f77b4;stroke:#1f77b4;\" x=\"280.523518\" xlink:href=\"#m702ad1c9cd\" y=\"145.895779\"/>\n     <use style=\"fill:#1f77b4;stroke:#1f77b4;\" x=\"245.904468\" xlink:href=\"#m702ad1c9cd\" y=\"149.289243\"/>\n     <use style=\"fill:#1f77b4;stroke:#1f77b4;\" x=\"246.552544\" xlink:href=\"#m702ad1c9cd\" y=\"148.011266\"/>\n     <use style=\"fill:#1f77b4;stroke:#1f77b4;\" x=\"83.503825\" xlink:href=\"#m702ad1c9cd\" y=\"137.644858\"/>\n     <use style=\"fill:#1f77b4;stroke:#1f77b4;\" x=\"266.828886\" xlink:href=\"#m702ad1c9cd\" y=\"149.928696\"/>\n     <use style=\"fill:#1f77b4;stroke:#1f77b4;\" x=\"266.828886\" xlink:href=\"#m702ad1c9cd\" y=\"149.928696\"/>\n     <use style=\"fill:#1f77b4;stroke:#1f77b4;\" x=\"280.469677\" xlink:href=\"#m702ad1c9cd\" y=\"145.863492\"/>\n     <use style=\"fill:#1f77b4;stroke:#1f77b4;\" x=\"251.874754\" xlink:href=\"#m702ad1c9cd\" y=\"146.082175\"/>\n     <use style=\"fill:#1f77b4;stroke:#1f77b4;\" x=\"274.358503\" xlink:href=\"#m702ad1c9cd\" y=\"140.303259\"/>\n     <use style=\"fill:#1f77b4;stroke:#1f77b4;\" x=\"233.988105\" xlink:href=\"#m702ad1c9cd\" y=\"146.085801\"/>\n     <use style=\"fill:#1f77b4;stroke:#1f77b4;\" x=\"260.360712\" xlink:href=\"#m702ad1c9cd\" y=\"145.373406\"/>\n     <use style=\"fill:#1f77b4;stroke:#1f77b4;\" x=\"265.0733\" xlink:href=\"#m702ad1c9cd\" y=\"147.301789\"/>\n     <use style=\"fill:#1f77b4;stroke:#1f77b4;\" x=\"251.874754\" xlink:href=\"#m702ad1c9cd\" y=\"146.082175\"/>\n     <use style=\"fill:#1f77b4;stroke:#1f77b4;\" x=\"265.0733\" xlink:href=\"#m702ad1c9cd\" y=\"147.301789\"/>\n     <use style=\"fill:#1f77b4;stroke:#1f77b4;\" x=\"265.0733\" xlink:href=\"#m702ad1c9cd\" y=\"147.301789\"/>\n     <use style=\"fill:#1f77b4;stroke:#1f77b4;\" x=\"265.0733\" xlink:href=\"#m702ad1c9cd\" y=\"147.301789\"/>\n     <use style=\"fill:#1f77b4;stroke:#1f77b4;\" x=\"265.0733\" xlink:href=\"#m702ad1c9cd\" y=\"147.301789\"/>\n     <use style=\"fill:#1f77b4;stroke:#1f77b4;\" x=\"265.0733\" xlink:href=\"#m702ad1c9cd\" y=\"147.301789\"/>\n     <use style=\"fill:#1f77b4;stroke:#1f77b4;\" x=\"265.0733\" xlink:href=\"#m702ad1c9cd\" y=\"147.301789\"/>\n     <use style=\"fill:#1f77b4;stroke:#1f77b4;\" x=\"251.874754\" xlink:href=\"#m702ad1c9cd\" y=\"146.082175\"/>\n     <use style=\"fill:#1f77b4;stroke:#1f77b4;\" x=\"251.874754\" xlink:href=\"#m702ad1c9cd\" y=\"146.082175\"/>\n     <use style=\"fill:#1f77b4;stroke:#1f77b4;\" x=\"251.874754\" xlink:href=\"#m702ad1c9cd\" y=\"146.082175\"/>\n     <use style=\"fill:#1f77b4;stroke:#1f77b4;\" x=\"257.254884\" xlink:href=\"#m702ad1c9cd\" y=\"152.081616\"/>\n     <use style=\"fill:#1f77b4;stroke:#1f77b4;\" x=\"267.745078\" xlink:href=\"#m702ad1c9cd\" y=\"146.824538\"/>\n     <use style=\"fill:#1f77b4;stroke:#1f77b4;\" x=\"265.012309\" xlink:href=\"#m702ad1c9cd\" y=\"145.076404\"/>\n     <use style=\"fill:#1f77b4;stroke:#1f77b4;\" x=\"265.012309\" xlink:href=\"#m702ad1c9cd\" y=\"145.076404\"/>\n     <use style=\"fill:#1f77b4;stroke:#1f77b4;\" x=\"263.940666\" xlink:href=\"#m702ad1c9cd\" y=\"150.4068\"/>\n     <use style=\"fill:#1f77b4;stroke:#1f77b4;\" x=\"261.832153\" xlink:href=\"#m702ad1c9cd\" y=\"151.013671\"/>\n     <use style=\"fill:#1f77b4;stroke:#1f77b4;\" x=\"260.751832\" xlink:href=\"#m702ad1c9cd\" y=\"151.762383\"/>\n     <use style=\"fill:#1f77b4;stroke:#1f77b4;\" x=\"268.70428\" xlink:href=\"#m702ad1c9cd\" y=\"148.863572\"/>\n     <use style=\"fill:#1f77b4;stroke:#1f77b4;\" x=\"268.70428\" xlink:href=\"#m702ad1c9cd\" y=\"148.863572\"/>\n     <use style=\"fill:#1f77b4;stroke:#1f77b4;\" x=\"251.588218\" xlink:href=\"#m702ad1c9cd\" y=\"151.808743\"/>\n     <use style=\"fill:#1f77b4;stroke:#1f77b4;\" x=\"251.588218\" xlink:href=\"#m702ad1c9cd\" y=\"151.808743\"/>\n     <use style=\"fill:#1f77b4;stroke:#1f77b4;\" x=\"123.367289\" xlink:href=\"#m702ad1c9cd\" y=\"162.505796\"/>\n     <use style=\"fill:#1f77b4;stroke:#1f77b4;\" x=\"280.481789\" xlink:href=\"#m702ad1c9cd\" y=\"145.235637\"/>\n     <use style=\"fill:#1f77b4;stroke:#1f77b4;\" x=\"158.49962\" xlink:href=\"#m702ad1c9cd\" y=\"152.688676\"/>\n     <use style=\"fill:#1f77b4;stroke:#1f77b4;\" x=\"136.163042\" xlink:href=\"#m702ad1c9cd\" y=\"156.289415\"/>\n     <use style=\"fill:#1f77b4;stroke:#1f77b4;\" x=\"256.716374\" xlink:href=\"#m702ad1c9cd\" y=\"148.108334\"/>\n     <use style=\"fill:#1f77b4;stroke:#1f77b4;\" x=\"258.521823\" xlink:href=\"#m702ad1c9cd\" y=\"138.773055\"/>\n     <use style=\"fill:#1f77b4;stroke:#1f77b4;\" x=\"264.752613\" xlink:href=\"#m702ad1c9cd\" y=\"146.573128\"/>\n     <use style=\"fill:#1f77b4;stroke:#1f77b4;\" x=\"263.724268\" xlink:href=\"#m702ad1c9cd\" y=\"148.846206\"/>\n     <use style=\"fill:#1f77b4;stroke:#1f77b4;\" x=\"249.797528\" xlink:href=\"#m702ad1c9cd\" y=\"144.847341\"/>\n     <use style=\"fill:#1f77b4;stroke:#1f77b4;\" x=\"273.960291\" xlink:href=\"#m702ad1c9cd\" y=\"144.933806\"/>\n     <use style=\"fill:#1f77b4;stroke:#1f77b4;\" x=\"273.399607\" xlink:href=\"#m702ad1c9cd\" y=\"145.124524\"/>\n     <use style=\"fill:#1f77b4;stroke:#1f77b4;\" x=\"273.960291\" xlink:href=\"#m702ad1c9cd\" y=\"144.933806\"/>\n     <use style=\"fill:#1f77b4;stroke:#1f77b4;\" x=\"273.399607\" xlink:href=\"#m702ad1c9cd\" y=\"145.124524\"/>\n     <use style=\"fill:#1f77b4;stroke:#1f77b4;\" x=\"273.491702\" xlink:href=\"#m702ad1c9cd\" y=\"144.910297\"/>\n     <use style=\"fill:#1f77b4;stroke:#1f77b4;\" x=\"262.660036\" xlink:href=\"#m702ad1c9cd\" y=\"141.135604\"/>\n     <use style=\"fill:#1f77b4;stroke:#1f77b4;\" x=\"254.618436\" xlink:href=\"#m702ad1c9cd\" y=\"143.645865\"/>\n     <use style=\"fill:#1f77b4;stroke:#1f77b4;\" x=\"279.38678\" xlink:href=\"#m702ad1c9cd\" y=\"146.12627\"/>\n     <use style=\"fill:#1f77b4;stroke:#1f77b4;\" x=\"272.841929\" xlink:href=\"#m702ad1c9cd\" y=\"145.153584\"/>\n     <use style=\"fill:#1f77b4;stroke:#1f77b4;\" x=\"273.491702\" xlink:href=\"#m702ad1c9cd\" y=\"144.910297\"/>\n     <use style=\"fill:#1f77b4;stroke:#1f77b4;\" x=\"272.841929\" xlink:href=\"#m702ad1c9cd\" y=\"145.153584\"/>\n     <use style=\"fill:#1f77b4;stroke:#1f77b4;\" x=\"273.591438\" xlink:href=\"#m702ad1c9cd\" y=\"144.97925\"/>\n     <use style=\"fill:#1f77b4;stroke:#1f77b4;\" x=\"273.591438\" xlink:href=\"#m702ad1c9cd\" y=\"144.97925\"/>\n     <use style=\"fill:#1f77b4;stroke:#1f77b4;\" x=\"273.591438\" xlink:href=\"#m702ad1c9cd\" y=\"144.97925\"/>\n     <use style=\"fill:#1f77b4;stroke:#1f77b4;\" x=\"273.591438\" xlink:href=\"#m702ad1c9cd\" y=\"144.97925\"/>\n     <use style=\"fill:#1f77b4;stroke:#1f77b4;\" x=\"252.177682\" xlink:href=\"#m702ad1c9cd\" y=\"151.564596\"/>\n     <use style=\"fill:#1f77b4;stroke:#1f77b4;\" x=\"265.413047\" xlink:href=\"#m702ad1c9cd\" y=\"146.426702\"/>\n     <use style=\"fill:#1f77b4;stroke:#1f77b4;\" x=\"276.211034\" xlink:href=\"#m702ad1c9cd\" y=\"146.231128\"/>\n     <use style=\"fill:#1f77b4;stroke:#1f77b4;\" x=\"276.211034\" xlink:href=\"#m702ad1c9cd\" y=\"146.231128\"/>\n     <use style=\"fill:#1f77b4;stroke:#1f77b4;\" x=\"276.211034\" xlink:href=\"#m702ad1c9cd\" y=\"146.231128\"/>\n     <use style=\"fill:#1f77b4;stroke:#1f77b4;\" x=\"273.943542\" xlink:href=\"#m702ad1c9cd\" y=\"150.553383\"/>\n     <use style=\"fill:#1f77b4;stroke:#1f77b4;\" x=\"273.943542\" xlink:href=\"#m702ad1c9cd\" y=\"150.553383\"/>\n     <use style=\"fill:#1f77b4;stroke:#1f77b4;\" x=\"248.123508\" xlink:href=\"#m702ad1c9cd\" y=\"146.727411\"/>\n     <use style=\"fill:#1f77b4;stroke:#1f77b4;\" x=\"262.810218\" xlink:href=\"#m702ad1c9cd\" y=\"144.867659\"/>\n     <use style=\"fill:#1f77b4;stroke:#1f77b4;\" x=\"262.582684\" xlink:href=\"#m702ad1c9cd\" y=\"145.169918\"/>\n     <use style=\"fill:#1f77b4;stroke:#1f77b4;\" x=\"280.947691\" xlink:href=\"#m702ad1c9cd\" y=\"147.586861\"/>\n     <use style=\"fill:#1f77b4;stroke:#1f77b4;\" x=\"268.296794\" xlink:href=\"#m702ad1c9cd\" y=\"147.658795\"/>\n     <use style=\"fill:#1f77b4;stroke:#1f77b4;\" x=\"249.815957\" xlink:href=\"#m702ad1c9cd\" y=\"144.391459\"/>\n     <use style=\"fill:#1f77b4;stroke:#1f77b4;\" x=\"249.815957\" xlink:href=\"#m702ad1c9cd\" y=\"144.391459\"/>\n     <use style=\"fill:#1f77b4;stroke:#1f77b4;\" x=\"249.815957\" xlink:href=\"#m702ad1c9cd\" y=\"144.391459\"/>\n     <use style=\"fill:#1f77b4;stroke:#1f77b4;\" x=\"249.815957\" xlink:href=\"#m702ad1c9cd\" y=\"144.391459\"/>\n     <use style=\"fill:#1f77b4;stroke:#1f77b4;\" x=\"256.892357\" xlink:href=\"#m702ad1c9cd\" y=\"146.175974\"/>\n     <use style=\"fill:#1f77b4;stroke:#1f77b4;\" x=\"260.877535\" xlink:href=\"#m702ad1c9cd\" y=\"144.282242\"/>\n     <use style=\"fill:#1f77b4;stroke:#1f77b4;\" x=\"260.367034\" xlink:href=\"#m702ad1c9cd\" y=\"144.31384\"/>\n     <use style=\"fill:#1f77b4;stroke:#1f77b4;\" x=\"247.788016\" xlink:href=\"#m702ad1c9cd\" y=\"146.696417\"/>\n     <use style=\"fill:#1f77b4;stroke:#1f77b4;\" x=\"258.521823\" xlink:href=\"#m702ad1c9cd\" y=\"138.773055\"/>\n     <use style=\"fill:#1f77b4;stroke:#1f77b4;\" x=\"250.84997\" xlink:href=\"#m702ad1c9cd\" y=\"153.421437\"/>\n     <use style=\"fill:#1f77b4;stroke:#1f77b4;\" x=\"249.224596\" xlink:href=\"#m702ad1c9cd\" y=\"153.906706\"/>\n     <use style=\"fill:#1f77b4;stroke:#1f77b4;\" x=\"246.055725\" xlink:href=\"#m702ad1c9cd\" y=\"149.017749\"/>\n     <use style=\"fill:#1f77b4;stroke:#1f77b4;\" x=\"261.830819\" xlink:href=\"#m702ad1c9cd\" y=\"153.397567\"/>\n     <use style=\"fill:#1f77b4;stroke:#1f77b4;\" x=\"261.830819\" xlink:href=\"#m702ad1c9cd\" y=\"153.397567\"/>\n     <use style=\"fill:#1f77b4;stroke:#1f77b4;\" x=\"261.830819\" xlink:href=\"#m702ad1c9cd\" y=\"153.397567\"/>\n     <use style=\"fill:#1f77b4;stroke:#1f77b4;\" x=\"261.830819\" xlink:href=\"#m702ad1c9cd\" y=\"153.397567\"/>\n     <use style=\"fill:#1f77b4;stroke:#1f77b4;\" x=\"246.743185\" xlink:href=\"#m702ad1c9cd\" y=\"143.169865\"/>\n     <use style=\"fill:#1f77b4;stroke:#1f77b4;\" x=\"250.41576\" xlink:href=\"#m702ad1c9cd\" y=\"154.124752\"/>\n     <use style=\"fill:#1f77b4;stroke:#1f77b4;\" x=\"246.937398\" xlink:href=\"#m702ad1c9cd\" y=\"143.263018\"/>\n     <use style=\"fill:#1f77b4;stroke:#1f77b4;\" x=\"247.994095\" xlink:href=\"#m702ad1c9cd\" y=\"143.270138\"/>\n     <use style=\"fill:#1f77b4;stroke:#1f77b4;\" x=\"251.882686\" xlink:href=\"#m702ad1c9cd\" y=\"153.489245\"/>\n     <use style=\"fill:#1f77b4;stroke:#1f77b4;\" x=\"253.193639\" xlink:href=\"#m702ad1c9cd\" y=\"153.594332\"/>\n     <use style=\"fill:#1f77b4;stroke:#1f77b4;\" x=\"284.774013\" xlink:href=\"#m702ad1c9cd\" y=\"143.238871\"/>\n     <use style=\"fill:#1f77b4;stroke:#1f77b4;\" x=\"269.518198\" xlink:href=\"#m702ad1c9cd\" y=\"146.754508\"/>\n     <use style=\"fill:#1f77b4;stroke:#1f77b4;\" x=\"246.937398\" xlink:href=\"#m702ad1c9cd\" y=\"143.263018\"/>\n     <use style=\"fill:#1f77b4;stroke:#1f77b4;\" x=\"269.358783\" xlink:href=\"#m702ad1c9cd\" y=\"144.933217\"/>\n     <use style=\"fill:#1f77b4;stroke:#1f77b4;\" x=\"258.807781\" xlink:href=\"#m702ad1c9cd\" y=\"147.126625\"/>\n     <use style=\"fill:#1f77b4;stroke:#1f77b4;\" x=\"259.414816\" xlink:href=\"#m702ad1c9cd\" y=\"150.103971\"/>\n     <use style=\"fill:#1f77b4;stroke:#1f77b4;\" x=\"259.791446\" xlink:href=\"#m702ad1c9cd\" y=\"146.620474\"/>\n     <use style=\"fill:#1f77b4;stroke:#1f77b4;\" x=\"252.097527\" xlink:href=\"#m702ad1c9cd\" y=\"152.262365\"/>\n     <use style=\"fill:#1f77b4;stroke:#1f77b4;\" x=\"248.123508\" xlink:href=\"#m702ad1c9cd\" y=\"146.727411\"/>\n     <use style=\"fill:#1f77b4;stroke:#1f77b4;\" x=\"251.729738\" xlink:href=\"#m702ad1c9cd\" y=\"146.610906\"/>\n     <use style=\"fill:#1f77b4;stroke:#1f77b4;\" x=\"251.729738\" xlink:href=\"#m702ad1c9cd\" y=\"146.610906\"/>\n     <use style=\"fill:#1f77b4;stroke:#1f77b4;\" x=\"251.729738\" xlink:href=\"#m702ad1c9cd\" y=\"146.610906\"/>\n     <use style=\"fill:#1f77b4;stroke:#1f77b4;\" x=\"251.729738\" xlink:href=\"#m702ad1c9cd\" y=\"146.610906\"/>\n     <use style=\"fill:#1f77b4;stroke:#1f77b4;\" x=\"251.729738\" xlink:href=\"#m702ad1c9cd\" y=\"146.610906\"/>\n     <use style=\"fill:#1f77b4;stroke:#1f77b4;\" x=\"251.729738\" xlink:href=\"#m702ad1c9cd\" y=\"146.610906\"/>\n     <use style=\"fill:#1f77b4;stroke:#1f77b4;\" x=\"251.729738\" xlink:href=\"#m702ad1c9cd\" y=\"146.610906\"/>\n     <use style=\"fill:#1f77b4;stroke:#1f77b4;\" x=\"251.729738\" xlink:href=\"#m702ad1c9cd\" y=\"146.610906\"/>\n     <use style=\"fill:#1f77b4;stroke:#1f77b4;\" x=\"251.729738\" xlink:href=\"#m702ad1c9cd\" y=\"146.610906\"/>\n     <use style=\"fill:#1f77b4;stroke:#1f77b4;\" x=\"251.729738\" xlink:href=\"#m702ad1c9cd\" y=\"146.610906\"/>\n     <use style=\"fill:#1f77b4;stroke:#1f77b4;\" x=\"251.729738\" xlink:href=\"#m702ad1c9cd\" y=\"146.610906\"/>\n     <use style=\"fill:#1f77b4;stroke:#1f77b4;\" x=\"251.729738\" xlink:href=\"#m702ad1c9cd\" y=\"146.610906\"/>\n     <use style=\"fill:#1f77b4;stroke:#1f77b4;\" x=\"250.747433\" xlink:href=\"#m702ad1c9cd\" y=\"146.662094\"/>\n     <use style=\"fill:#1f77b4;stroke:#1f77b4;\" x=\"267.623475\" xlink:href=\"#m702ad1c9cd\" y=\"147.972989\"/>\n     <use style=\"fill:#1f77b4;stroke:#1f77b4;\" x=\"268.112197\" xlink:href=\"#m702ad1c9cd\" y=\"148.401068\"/>\n     <use style=\"fill:#1f77b4;stroke:#1f77b4;\" x=\"254.679024\" xlink:href=\"#m702ad1c9cd\" y=\"148.253828\"/>\n     <use style=\"fill:#1f77b4;stroke:#1f77b4;\" x=\"281.038543\" xlink:href=\"#m702ad1c9cd\" y=\"138.299198\"/>\n     <use style=\"fill:#1f77b4;stroke:#1f77b4;\" x=\"257.39402\" xlink:href=\"#m702ad1c9cd\" y=\"147.213422\"/>\n     <use style=\"fill:#1f77b4;stroke:#1f77b4;\" x=\"243.182844\" xlink:href=\"#m702ad1c9cd\" y=\"149.070264\"/>\n     <use style=\"fill:#1f77b4;stroke:#1f77b4;\" x=\"281.038543\" xlink:href=\"#m702ad1c9cd\" y=\"138.299198\"/>\n     <use style=\"fill:#1f77b4;stroke:#1f77b4;\" x=\"203.36922\" xlink:href=\"#m702ad1c9cd\" y=\"172.246773\"/>\n     <use style=\"fill:#1f77b4;stroke:#1f77b4;\" x=\"277.57748\" xlink:href=\"#m702ad1c9cd\" y=\"146.649315\"/>\n     <use style=\"fill:#1f77b4;stroke:#1f77b4;\" x=\"257.138717\" xlink:href=\"#m702ad1c9cd\" y=\"148.142189\"/>\n     <use style=\"fill:#1f77b4;stroke:#1f77b4;\" x=\"257.138717\" xlink:href=\"#m702ad1c9cd\" y=\"148.142189\"/>\n     <use style=\"fill:#1f77b4;stroke:#1f77b4;\" x=\"256.084899\" xlink:href=\"#m702ad1c9cd\" y=\"147.016341\"/>\n     <use style=\"fill:#1f77b4;stroke:#1f77b4;\" x=\"265.731872\" xlink:href=\"#m702ad1c9cd\" y=\"146.947715\"/>\n     <use style=\"fill:#1f77b4;stroke:#1f77b4;\" x=\"258.191362\" xlink:href=\"#m702ad1c9cd\" y=\"144.625907\"/>\n     <use style=\"fill:#1f77b4;stroke:#1f77b4;\" x=\"243.182844\" xlink:href=\"#m702ad1c9cd\" y=\"149.070264\"/>\n     <use style=\"fill:#1f77b4;stroke:#1f77b4;\" x=\"268.265821\" xlink:href=\"#m702ad1c9cd\" y=\"146.749427\"/>\n     <use style=\"fill:#1f77b4;stroke:#1f77b4;\" x=\"276.845643\" xlink:href=\"#m702ad1c9cd\" y=\"145.408957\"/>\n     <use style=\"fill:#1f77b4;stroke:#1f77b4;\" x=\"252.257468\" xlink:href=\"#m702ad1c9cd\" y=\"147.654875\"/>\n     <use style=\"fill:#1f77b4;stroke:#1f77b4;\" x=\"251.531612\" xlink:href=\"#m702ad1c9cd\" y=\"147.977507\"/>\n     <use style=\"fill:#1f77b4;stroke:#1f77b4;\" x=\"278.856813\" xlink:href=\"#m702ad1c9cd\" y=\"147.488232\"/>\n     <use style=\"fill:#1f77b4;stroke:#1f77b4;\" x=\"258.259785\" xlink:href=\"#m702ad1c9cd\" y=\"140.258909\"/>\n     <use style=\"fill:#1f77b4;stroke:#1f77b4;\" x=\"269.656952\" xlink:href=\"#m702ad1c9cd\" y=\"149.776001\"/>\n     <use style=\"fill:#1f77b4;stroke:#1f77b4;\" x=\"246.061164\" xlink:href=\"#m702ad1c9cd\" y=\"148.163511\"/>\n     <use style=\"fill:#1f77b4;stroke:#1f77b4;\" x=\"246.061164\" xlink:href=\"#m702ad1c9cd\" y=\"148.163511\"/>\n     <use style=\"fill:#1f77b4;stroke:#1f77b4;\" x=\"246.061164\" xlink:href=\"#m702ad1c9cd\" y=\"148.163511\"/>\n     <use style=\"fill:#1f77b4;stroke:#1f77b4;\" x=\"266.619789\" xlink:href=\"#m702ad1c9cd\" y=\"140.678868\"/>\n     <use style=\"fill:#1f77b4;stroke:#1f77b4;\" x=\"246.84668\" xlink:href=\"#m702ad1c9cd\" y=\"148.096817\"/>\n     <use style=\"fill:#1f77b4;stroke:#1f77b4;\" x=\"246.84668\" xlink:href=\"#m702ad1c9cd\" y=\"148.096817\"/>\n     <use style=\"fill:#1f77b4;stroke:#1f77b4;\" x=\"262.478527\" xlink:href=\"#m702ad1c9cd\" y=\"150.260478\"/>\n     <use style=\"fill:#1f77b4;stroke:#1f77b4;\" x=\"251.111259\" xlink:href=\"#m702ad1c9cd\" y=\"138.991704\"/>\n     <use style=\"fill:#1f77b4;stroke:#1f77b4;\" x=\"274.953017\" xlink:href=\"#m702ad1c9cd\" y=\"146.163478\"/>\n     <use style=\"fill:#1f77b4;stroke:#1f77b4;\" x=\"269.004596\" xlink:href=\"#m702ad1c9cd\" y=\"139.643386\"/>\n     <use style=\"fill:#1f77b4;stroke:#1f77b4;\" x=\"282.862433\" xlink:href=\"#m702ad1c9cd\" y=\"144.539718\"/>\n     <use style=\"fill:#1f77b4;stroke:#1f77b4;\" x=\"277.636913\" xlink:href=\"#m702ad1c9cd\" y=\"147.957007\"/>\n     <use style=\"fill:#1f77b4;stroke:#1f77b4;\" x=\"280.947691\" xlink:href=\"#m702ad1c9cd\" y=\"147.586861\"/>\n     <use style=\"fill:#1f77b4;stroke:#1f77b4;\" x=\"259.518196\" xlink:href=\"#m702ad1c9cd\" y=\"146.467439\"/>\n     <use style=\"fill:#1f77b4;stroke:#1f77b4;\" x=\"275.348749\" xlink:href=\"#m702ad1c9cd\" y=\"147.254093\"/>\n     <use style=\"fill:#1f77b4;stroke:#1f77b4;\" x=\"259.518196\" xlink:href=\"#m702ad1c9cd\" y=\"146.467439\"/>\n     <use style=\"fill:#1f77b4;stroke:#1f77b4;\" x=\"266.134209\" xlink:href=\"#m702ad1c9cd\" y=\"149.756102\"/>\n     <use style=\"fill:#1f77b4;stroke:#1f77b4;\" x=\"258.521823\" xlink:href=\"#m702ad1c9cd\" y=\"138.773055\"/>\n     <use style=\"fill:#1f77b4;stroke:#1f77b4;\" x=\"268.116452\" xlink:href=\"#m702ad1c9cd\" y=\"148.749311\"/>\n     <use style=\"fill:#1f77b4;stroke:#1f77b4;\" x=\"268.802687\" xlink:href=\"#m702ad1c9cd\" y=\"148.091063\"/>\n     <use style=\"fill:#1f77b4;stroke:#1f77b4;\" x=\"280.191043\" xlink:href=\"#m702ad1c9cd\" y=\"146.291179\"/>\n     <use style=\"fill:#1f77b4;stroke:#1f77b4;\" x=\"262.308083\" xlink:href=\"#m702ad1c9cd\" y=\"143.245301\"/>\n     <use style=\"fill:#1f77b4;stroke:#1f77b4;\" x=\"253.02508\" xlink:href=\"#m702ad1c9cd\" y=\"148.100043\"/>\n     <use style=\"fill:#1f77b4;stroke:#1f77b4;\" x=\"257.930945\" xlink:href=\"#m702ad1c9cd\" y=\"147.011085\"/>\n     <use style=\"fill:#1f77b4;stroke:#1f77b4;\" x=\"241.425995\" xlink:href=\"#m702ad1c9cd\" y=\"149.478311\"/>\n     <use style=\"fill:#1f77b4;stroke:#1f77b4;\" x=\"264.799505\" xlink:href=\"#m702ad1c9cd\" y=\"145.072975\"/>\n     <use style=\"fill:#1f77b4;stroke:#1f77b4;\" x=\"265.666\" xlink:href=\"#m702ad1c9cd\" y=\"145.953804\"/>\n     <use style=\"fill:#1f77b4;stroke:#1f77b4;\" x=\"273.943542\" xlink:href=\"#m702ad1c9cd\" y=\"150.553383\"/>\n     <use style=\"fill:#1f77b4;stroke:#1f77b4;\" x=\"273.943542\" xlink:href=\"#m702ad1c9cd\" y=\"150.553383\"/>\n     <use style=\"fill:#1f77b4;stroke:#1f77b4;\" x=\"281.342503\" xlink:href=\"#m702ad1c9cd\" y=\"145.92075\"/>\n     <use style=\"fill:#1f77b4;stroke:#1f77b4;\" x=\"281.342503\" xlink:href=\"#m702ad1c9cd\" y=\"145.92075\"/>\n     <use style=\"fill:#1f77b4;stroke:#1f77b4;\" x=\"281.342503\" xlink:href=\"#m702ad1c9cd\" y=\"145.92075\"/>\n     <use style=\"fill:#1f77b4;stroke:#1f77b4;\" x=\"281.342503\" xlink:href=\"#m702ad1c9cd\" y=\"145.92075\"/>\n     <use style=\"fill:#1f77b4;stroke:#1f77b4;\" x=\"291.169854\" xlink:href=\"#m702ad1c9cd\" y=\"140.697799\"/>\n     <use style=\"fill:#1f77b4;stroke:#1f77b4;\" x=\"262.310843\" xlink:href=\"#m702ad1c9cd\" y=\"147.090709\"/>\n     <use style=\"fill:#1f77b4;stroke:#1f77b4;\" x=\"265.667276\" xlink:href=\"#m702ad1c9cd\" y=\"150.819866\"/>\n     <use style=\"fill:#1f77b4;stroke:#1f77b4;\" x=\"257.416263\" xlink:href=\"#m702ad1c9cd\" y=\"147.616094\"/>\n     <use style=\"fill:#1f77b4;stroke:#1f77b4;\" x=\"264.732205\" xlink:href=\"#m702ad1c9cd\" y=\"147.354686\"/>\n     <use style=\"fill:#1f77b4;stroke:#1f77b4;\" x=\"263.830803\" xlink:href=\"#m702ad1c9cd\" y=\"146.009945\"/>\n     <use style=\"fill:#1f77b4;stroke:#1f77b4;\" x=\"267.698885\" xlink:href=\"#m702ad1c9cd\" y=\"143.244034\"/>\n     <use style=\"fill:#1f77b4;stroke:#1f77b4;\" x=\"82.806117\" xlink:href=\"#m702ad1c9cd\" y=\"117.206337\"/>\n     <use style=\"fill:#1f77b4;stroke:#1f77b4;\" x=\"267.299041\" xlink:href=\"#m702ad1c9cd\" y=\"143.359531\"/>\n     <use style=\"fill:#1f77b4;stroke:#1f77b4;\" x=\"256.572087\" xlink:href=\"#m702ad1c9cd\" y=\"146.51181\"/>\n     <use style=\"fill:#1f77b4;stroke:#1f77b4;\" x=\"266.810531\" xlink:href=\"#m702ad1c9cd\" y=\"146.412944\"/>\n     <use style=\"fill:#1f77b4;stroke:#1f77b4;\" x=\"266.810531\" xlink:href=\"#m702ad1c9cd\" y=\"146.412944\"/>\n     <use style=\"fill:#1f77b4;stroke:#1f77b4;\" x=\"273.485509\" xlink:href=\"#m702ad1c9cd\" y=\"147.141622\"/>\n     <use style=\"fill:#1f77b4;stroke:#1f77b4;\" x=\"265.878025\" xlink:href=\"#m702ad1c9cd\" y=\"142.210144\"/>\n     <use style=\"fill:#1f77b4;stroke:#1f77b4;\" x=\"258.521823\" xlink:href=\"#m702ad1c9cd\" y=\"138.773055\"/>\n     <use style=\"fill:#1f77b4;stroke:#1f77b4;\" x=\"257.593941\" xlink:href=\"#m702ad1c9cd\" y=\"100.093989\"/>\n     <use style=\"fill:#1f77b4;stroke:#1f77b4;\" x=\"89.073704\" xlink:href=\"#m702ad1c9cd\" y=\"119.79929\"/>\n     <use style=\"fill:#1f77b4;stroke:#1f77b4;\" x=\"255.940761\" xlink:href=\"#m702ad1c9cd\" y=\"145.49819\"/>\n     <use style=\"fill:#1f77b4;stroke:#1f77b4;\" x=\"268.53301\" xlink:href=\"#m702ad1c9cd\" y=\"137.945571\"/>\n     <use style=\"fill:#1f77b4;stroke:#1f77b4;\" x=\"273.943542\" xlink:href=\"#m702ad1c9cd\" y=\"150.553383\"/>\n     <use style=\"fill:#1f77b4;stroke:#1f77b4;\" x=\"259.32136\" xlink:href=\"#m702ad1c9cd\" y=\"147.417144\"/>\n     <use style=\"fill:#1f77b4;stroke:#1f77b4;\" x=\"269.312271\" xlink:href=\"#m702ad1c9cd\" y=\"146.117462\"/>\n     <use style=\"fill:#1f77b4;stroke:#1f77b4;\" x=\"262.549561\" xlink:href=\"#m702ad1c9cd\" y=\"147.847078\"/>\n     <use style=\"fill:#1f77b4;stroke:#1f77b4;\" x=\"263.550276\" xlink:href=\"#m702ad1c9cd\" y=\"148.079976\"/>\n     <use style=\"fill:#1f77b4;stroke:#1f77b4;\" x=\"263.761053\" xlink:href=\"#m702ad1c9cd\" y=\"147.363651\"/>\n     <use style=\"fill:#1f77b4;stroke:#1f77b4;\" x=\"284.448915\" xlink:href=\"#m702ad1c9cd\" y=\"144.575128\"/>\n     <use style=\"fill:#1f77b4;stroke:#1f77b4;\" x=\"284.448915\" xlink:href=\"#m702ad1c9cd\" y=\"144.575128\"/>\n     <use style=\"fill:#1f77b4;stroke:#1f77b4;\" x=\"248.672953\" xlink:href=\"#m702ad1c9cd\" y=\"150.739483\"/>\n     <use style=\"fill:#1f77b4;stroke:#1f77b4;\" x=\"96.262035\" xlink:href=\"#m702ad1c9cd\" y=\"117.955679\"/>\n     <use style=\"fill:#1f77b4;stroke:#1f77b4;\" x=\"256.279216\" xlink:href=\"#m702ad1c9cd\" y=\"148.643031\"/>\n     <use style=\"fill:#1f77b4;stroke:#1f77b4;\" x=\"248.801789\" xlink:href=\"#m702ad1c9cd\" y=\"153.045597\"/>\n     <use style=\"fill:#1f77b4;stroke:#1f77b4;\" x=\"271.932958\" xlink:href=\"#m702ad1c9cd\" y=\"147.180075\"/>\n     <use style=\"fill:#1f77b4;stroke:#1f77b4;\" x=\"269.746194\" xlink:href=\"#m702ad1c9cd\" y=\"142.906182\"/>\n     <use style=\"fill:#1f77b4;stroke:#1f77b4;\" x=\"265.550193\" xlink:href=\"#m702ad1c9cd\" y=\"144.771503\"/>\n     <use style=\"fill:#1f77b4;stroke:#1f77b4;\" x=\"231.392145\" xlink:href=\"#m702ad1c9cd\" y=\"149.111426\"/>\n     <use style=\"fill:#1f77b4;stroke:#1f77b4;\" x=\"267.39527\" xlink:href=\"#m702ad1c9cd\" y=\"145.010638\"/>\n     <use style=\"fill:#1f77b4;stroke:#1f77b4;\" x=\"92.367179\" xlink:href=\"#m702ad1c9cd\" y=\"130.305152\"/>\n     <use style=\"fill:#1f77b4;stroke:#1f77b4;\" x=\"269.549328\" xlink:href=\"#m702ad1c9cd\" y=\"146.631251\"/>\n     <use style=\"fill:#1f77b4;stroke:#1f77b4;\" x=\"257.580412\" xlink:href=\"#m702ad1c9cd\" y=\"152.65882\"/>\n     <use style=\"fill:#1f77b4;stroke:#1f77b4;\" x=\"267.332911\" xlink:href=\"#m702ad1c9cd\" y=\"146.556682\"/>\n     <use style=\"fill:#1f77b4;stroke:#1f77b4;\" x=\"267.575\" xlink:href=\"#m702ad1c9cd\" y=\"149.765348\"/>\n     <use style=\"fill:#1f77b4;stroke:#1f77b4;\" x=\"267.575\" xlink:href=\"#m702ad1c9cd\" y=\"149.765348\"/>\n     <use style=\"fill:#1f77b4;stroke:#1f77b4;\" x=\"278.781379\" xlink:href=\"#m702ad1c9cd\" y=\"144.974031\"/>\n     <use style=\"fill:#1f77b4;stroke:#1f77b4;\" x=\"264.229612\" xlink:href=\"#m702ad1c9cd\" y=\"154.396669\"/>\n     <use style=\"fill:#1f77b4;stroke:#1f77b4;\" x=\"279.944448\" xlink:href=\"#m702ad1c9cd\" y=\"144.816473\"/>\n     <use style=\"fill:#1f77b4;stroke:#1f77b4;\" x=\"250.95093\" xlink:href=\"#m702ad1c9cd\" y=\"152.344425\"/>\n     <use style=\"fill:#1f77b4;stroke:#1f77b4;\" x=\"243.750712\" xlink:href=\"#m702ad1c9cd\" y=\"146.350771\"/>\n     <use style=\"fill:#1f77b4;stroke:#1f77b4;\" x=\"278.585646\" xlink:href=\"#m702ad1c9cd\" y=\"147.338973\"/>\n     <use style=\"fill:#1f77b4;stroke:#1f77b4;\" x=\"250.855998\" xlink:href=\"#m702ad1c9cd\" y=\"152.298891\"/>\n     <use style=\"fill:#1f77b4;stroke:#1f77b4;\" x=\"243.993547\" xlink:href=\"#m702ad1c9cd\" y=\"146.354543\"/>\n     <use style=\"fill:#1f77b4;stroke:#1f77b4;\" x=\"250.855998\" xlink:href=\"#m702ad1c9cd\" y=\"152.298891\"/>\n     <use style=\"fill:#1f77b4;stroke:#1f77b4;\" x=\"243.993547\" xlink:href=\"#m702ad1c9cd\" y=\"146.354543\"/>\n     <use style=\"fill:#1f77b4;stroke:#1f77b4;\" x=\"248.603402\" xlink:href=\"#m702ad1c9cd\" y=\"149.744659\"/>\n     <use style=\"fill:#1f77b4;stroke:#1f77b4;\" x=\"265.732894\" xlink:href=\"#m702ad1c9cd\" y=\"155.735587\"/>\n     <use style=\"fill:#1f77b4;stroke:#1f77b4;\" x=\"262.54568\" xlink:href=\"#m702ad1c9cd\" y=\"154.938889\"/>\n     <use style=\"fill:#1f77b4;stroke:#1f77b4;\" x=\"250.95093\" xlink:href=\"#m702ad1c9cd\" y=\"152.344425\"/>\n     <use style=\"fill:#1f77b4;stroke:#1f77b4;\" x=\"243.779327\" xlink:href=\"#m702ad1c9cd\" y=\"146.311238\"/>\n     <use style=\"fill:#1f77b4;stroke:#1f77b4;\" x=\"278.184194\" xlink:href=\"#m702ad1c9cd\" y=\"144.942419\"/>\n     <use style=\"fill:#1f77b4;stroke:#1f77b4;\" x=\"247.243053\" xlink:href=\"#m702ad1c9cd\" y=\"145.729947\"/>\n     <use style=\"fill:#1f77b4;stroke:#1f77b4;\" x=\"263.049029\" xlink:href=\"#m702ad1c9cd\" y=\"143.605919\"/>\n     <use style=\"fill:#1f77b4;stroke:#1f77b4;\" x=\"266.274809\" xlink:href=\"#m702ad1c9cd\" y=\"147.660045\"/>\n     <use style=\"fill:#1f77b4;stroke:#1f77b4;\" x=\"259.411887\" xlink:href=\"#m702ad1c9cd\" y=\"144.696062\"/>\n     <use style=\"fill:#1f77b4;stroke:#1f77b4;\" x=\"249.731908\" xlink:href=\"#m702ad1c9cd\" y=\"149.99864\"/>\n     <use style=\"fill:#1f77b4;stroke:#1f77b4;\" x=\"264.229612\" xlink:href=\"#m702ad1c9cd\" y=\"154.396669\"/>\n     <use style=\"fill:#1f77b4;stroke:#1f77b4;\" x=\"264.229612\" xlink:href=\"#m702ad1c9cd\" y=\"154.396669\"/>\n     <use style=\"fill:#1f77b4;stroke:#1f77b4;\" x=\"264.229612\" xlink:href=\"#m702ad1c9cd\" y=\"154.396669\"/>\n     <use style=\"fill:#1f77b4;stroke:#1f77b4;\" x=\"243.952822\" xlink:href=\"#m702ad1c9cd\" y=\"151.104066\"/>\n     <use style=\"fill:#1f77b4;stroke:#1f77b4;\" x=\"247.45562\" xlink:href=\"#m702ad1c9cd\" y=\"144.397607\"/>\n     <use style=\"fill:#1f77b4;stroke:#1f77b4;\" x=\"257.807066\" xlink:href=\"#m702ad1c9cd\" y=\"146.64993\"/>\n     <use style=\"fill:#1f77b4;stroke:#1f77b4;\" x=\"261.248748\" xlink:href=\"#m702ad1c9cd\" y=\"144.830563\"/>\n     <use style=\"fill:#1f77b4;stroke:#1f77b4;\" x=\"264.22833\" xlink:href=\"#m702ad1c9cd\" y=\"147.332539\"/>\n     <use style=\"fill:#1f77b4;stroke:#1f77b4;\" x=\"257.880288\" xlink:href=\"#m702ad1c9cd\" y=\"149.032761\"/>\n     <use style=\"fill:#1f77b4;stroke:#1f77b4;\" x=\"249.373807\" xlink:href=\"#m702ad1c9cd\" y=\"149.795083\"/>\n     <use style=\"fill:#1f77b4;stroke:#1f77b4;\" x=\"279.944448\" xlink:href=\"#m702ad1c9cd\" y=\"144.816473\"/>\n     <use style=\"fill:#1f77b4;stroke:#1f77b4;\" x=\"265.56102\" xlink:href=\"#m702ad1c9cd\" y=\"143.685639\"/>\n     <use style=\"fill:#1f77b4;stroke:#1f77b4;\" x=\"259.593794\" xlink:href=\"#m702ad1c9cd\" y=\"144.690696\"/>\n     <use style=\"fill:#1f77b4;stroke:#1f77b4;\" x=\"259.593794\" xlink:href=\"#m702ad1c9cd\" y=\"144.690696\"/>\n     <use style=\"fill:#1f77b4;stroke:#1f77b4;\" x=\"258.004862\" xlink:href=\"#m702ad1c9cd\" y=\"148.767701\"/>\n     <use style=\"fill:#1f77b4;stroke:#1f77b4;\" x=\"282.479447\" xlink:href=\"#m702ad1c9cd\" y=\"148.970279\"/>\n     <use style=\"fill:#1f77b4;stroke:#1f77b4;\" x=\"256.300094\" xlink:href=\"#m702ad1c9cd\" y=\"150.771735\"/>\n     <use style=\"fill:#1f77b4;stroke:#1f77b4;\" x=\"258.478574\" xlink:href=\"#m702ad1c9cd\" y=\"147.122161\"/>\n     <use style=\"fill:#1f77b4;stroke:#1f77b4;\" x=\"264.229612\" xlink:href=\"#m702ad1c9cd\" y=\"154.396669\"/>\n     <use style=\"fill:#1f77b4;stroke:#1f77b4;\" x=\"247.243053\" xlink:href=\"#m702ad1c9cd\" y=\"145.729947\"/>\n     <use style=\"fill:#1f77b4;stroke:#1f77b4;\" x=\"263.049029\" xlink:href=\"#m702ad1c9cd\" y=\"143.605919\"/>\n     <use style=\"fill:#1f77b4;stroke:#1f77b4;\" x=\"272.052671\" xlink:href=\"#m702ad1c9cd\" y=\"152.819541\"/>\n     <use style=\"fill:#1f77b4;stroke:#1f77b4;\" x=\"279.944448\" xlink:href=\"#m702ad1c9cd\" y=\"144.816473\"/>\n     <use style=\"fill:#1f77b4;stroke:#1f77b4;\" x=\"255.113332\" xlink:href=\"#m702ad1c9cd\" y=\"147.705887\"/>\n     <use style=\"fill:#1f77b4;stroke:#1f77b4;\" x=\"262.590322\" xlink:href=\"#m702ad1c9cd\" y=\"139.554872\"/>\n     <use style=\"fill:#1f77b4;stroke:#1f77b4;\" x=\"248.500813\" xlink:href=\"#m702ad1c9cd\" y=\"148.869786\"/>\n     <use style=\"fill:#1f77b4;stroke:#1f77b4;\" x=\"261.88966\" xlink:href=\"#m702ad1c9cd\" y=\"146.472772\"/>\n     <use style=\"fill:#1f77b4;stroke:#1f77b4;\" x=\"240.537603\" xlink:href=\"#m702ad1c9cd\" y=\"149.996346\"/>\n     <use style=\"fill:#1f77b4;stroke:#1f77b4;\" x=\"254.938396\" xlink:href=\"#m702ad1c9cd\" y=\"149.293859\"/>\n     <use style=\"fill:#1f77b4;stroke:#1f77b4;\" x=\"258.668481\" xlink:href=\"#m702ad1c9cd\" y=\"147.217333\"/>\n     <use style=\"fill:#1f77b4;stroke:#1f77b4;\" x=\"279.189055\" xlink:href=\"#m702ad1c9cd\" y=\"150.638018\"/>\n     <use style=\"fill:#1f77b4;stroke:#1f77b4;\" x=\"252.247152\" xlink:href=\"#m702ad1c9cd\" y=\"143.877459\"/>\n     <use style=\"fill:#1f77b4;stroke:#1f77b4;\" x=\"265.142487\" xlink:href=\"#m702ad1c9cd\" y=\"146.105681\"/>\n     <use style=\"fill:#1f77b4;stroke:#1f77b4;\" x=\"272.069922\" xlink:href=\"#m702ad1c9cd\" y=\"145.380044\"/>\n     <use style=\"fill:#1f77b4;stroke:#1f77b4;\" x=\"259.640861\" xlink:href=\"#m702ad1c9cd\" y=\"144.431005\"/>\n     <use style=\"fill:#1f77b4;stroke:#1f77b4;\" x=\"259.594022\" xlink:href=\"#m702ad1c9cd\" y=\"144.425499\"/>\n     <use style=\"fill:#1f77b4;stroke:#1f77b4;\" x=\"259.958528\" xlink:href=\"#m702ad1c9cd\" y=\"144.446079\"/>\n     <use style=\"fill:#1f77b4;stroke:#1f77b4;\" x=\"145.533883\" xlink:href=\"#m702ad1c9cd\" y=\"93.846349\"/>\n     <use style=\"fill:#1f77b4;stroke:#1f77b4;\" x=\"249.310856\" xlink:href=\"#m702ad1c9cd\" y=\"147.48802\"/>\n     <use style=\"fill:#1f77b4;stroke:#1f77b4;\" x=\"254.369402\" xlink:href=\"#m702ad1c9cd\" y=\"150.362423\"/>\n     <use style=\"fill:#1f77b4;stroke:#1f77b4;\" x=\"251.463832\" xlink:href=\"#m702ad1c9cd\" y=\"147.784213\"/>\n     <use style=\"fill:#1f77b4;stroke:#1f77b4;\" x=\"252.163502\" xlink:href=\"#m702ad1c9cd\" y=\"149.726323\"/>\n     <use style=\"fill:#1f77b4;stroke:#1f77b4;\" x=\"255.770107\" xlink:href=\"#m702ad1c9cd\" y=\"147.11613\"/>\n     <use style=\"fill:#1f77b4;stroke:#1f77b4;\" x=\"255.770107\" xlink:href=\"#m702ad1c9cd\" y=\"147.11613\"/>\n     <use style=\"fill:#1f77b4;stroke:#1f77b4;\" x=\"260.78714\" xlink:href=\"#m702ad1c9cd\" y=\"161.583682\"/>\n     <use style=\"fill:#1f77b4;stroke:#1f77b4;\" x=\"264.367929\" xlink:href=\"#m702ad1c9cd\" y=\"150.014135\"/>\n     <use style=\"fill:#1f77b4;stroke:#1f77b4;\" x=\"259.411887\" xlink:href=\"#m702ad1c9cd\" y=\"144.696062\"/>\n     <use style=\"fill:#1f77b4;stroke:#1f77b4;\" x=\"249.434896\" xlink:href=\"#m702ad1c9cd\" y=\"151.876457\"/>\n     <use style=\"fill:#1f77b4;stroke:#1f77b4;\" x=\"248.784298\" xlink:href=\"#m702ad1c9cd\" y=\"151.947853\"/>\n     <use style=\"fill:#1f77b4;stroke:#1f77b4;\" x=\"266.597039\" xlink:href=\"#m702ad1c9cd\" y=\"153.128366\"/>\n     <use style=\"fill:#1f77b4;stroke:#1f77b4;\" x=\"254.270013\" xlink:href=\"#m702ad1c9cd\" y=\"150.029412\"/>\n     <use style=\"fill:#1f77b4;stroke:#1f77b4;\" x=\"270.499219\" xlink:href=\"#m702ad1c9cd\" y=\"144.128189\"/>\n     <use style=\"fill:#1f77b4;stroke:#1f77b4;\" x=\"79.758133\" xlink:href=\"#m702ad1c9cd\" y=\"140.405272\"/>\n     <use style=\"fill:#1f77b4;stroke:#1f77b4;\" x=\"70.265435\" xlink:href=\"#m702ad1c9cd\" y=\"129.09233\"/>\n     <use style=\"fill:#1f77b4;stroke:#1f77b4;\" x=\"252.730226\" xlink:href=\"#m702ad1c9cd\" y=\"150.593388\"/>\n     <use style=\"fill:#1f77b4;stroke:#1f77b4;\" x=\"243.125686\" xlink:href=\"#m702ad1c9cd\" y=\"152.184347\"/>\n     <use style=\"fill:#1f77b4;stroke:#1f77b4;\" x=\"279.856622\" xlink:href=\"#m702ad1c9cd\" y=\"144.890379\"/>\n     <use style=\"fill:#1f77b4;stroke:#1f77b4;\" x=\"279.58464\" xlink:href=\"#m702ad1c9cd\" y=\"144.848217\"/>\n     <use style=\"fill:#1f77b4;stroke:#1f77b4;\" x=\"279.58464\" xlink:href=\"#m702ad1c9cd\" y=\"144.848217\"/>\n     <use style=\"fill:#1f77b4;stroke:#1f77b4;\" x=\"279.58464\" xlink:href=\"#m702ad1c9cd\" y=\"144.848217\"/>\n     <use style=\"fill:#1f77b4;stroke:#1f77b4;\" x=\"279.58464\" xlink:href=\"#m702ad1c9cd\" y=\"144.848217\"/>\n     <use style=\"fill:#1f77b4;stroke:#1f77b4;\" x=\"279.215539\" xlink:href=\"#m702ad1c9cd\" y=\"145.159605\"/>\n     <use style=\"fill:#1f77b4;stroke:#1f77b4;\" x=\"271.484732\" xlink:href=\"#m702ad1c9cd\" y=\"146.388991\"/>\n     <use style=\"fill:#1f77b4;stroke:#1f77b4;\" x=\"264.229612\" xlink:href=\"#m702ad1c9cd\" y=\"154.396669\"/>\n     <use style=\"fill:#1f77b4;stroke:#1f77b4;\" x=\"279.215539\" xlink:href=\"#m702ad1c9cd\" y=\"145.159605\"/>\n     <use style=\"fill:#1f77b4;stroke:#1f77b4;\" x=\"279.215539\" xlink:href=\"#m702ad1c9cd\" y=\"145.159605\"/>\n     <use style=\"fill:#1f77b4;stroke:#1f77b4;\" x=\"279.215539\" xlink:href=\"#m702ad1c9cd\" y=\"145.159605\"/>\n     <use style=\"fill:#1f77b4;stroke:#1f77b4;\" x=\"247.686669\" xlink:href=\"#m702ad1c9cd\" y=\"150.543483\"/>\n     <use style=\"fill:#1f77b4;stroke:#1f77b4;\" x=\"249.982962\" xlink:href=\"#m702ad1c9cd\" y=\"151.488002\"/>\n     <use style=\"fill:#1f77b4;stroke:#1f77b4;\" x=\"250.689261\" xlink:href=\"#m702ad1c9cd\" y=\"151.13974\"/>\n     <use style=\"fill:#1f77b4;stroke:#1f77b4;\" x=\"250.689261\" xlink:href=\"#m702ad1c9cd\" y=\"151.13974\"/>\n     <use style=\"fill:#1f77b4;stroke:#1f77b4;\" x=\"250.00259\" xlink:href=\"#m702ad1c9cd\" y=\"151.513107\"/>\n     <use style=\"fill:#1f77b4;stroke:#1f77b4;\" x=\"230.223243\" xlink:href=\"#m702ad1c9cd\" y=\"147.519493\"/>\n     <use style=\"fill:#1f77b4;stroke:#1f77b4;\" x=\"230.223243\" xlink:href=\"#m702ad1c9cd\" y=\"147.519493\"/>\n     <use style=\"fill:#1f77b4;stroke:#1f77b4;\" x=\"250.95093\" xlink:href=\"#m702ad1c9cd\" y=\"152.344425\"/>\n     <use style=\"fill:#1f77b4;stroke:#1f77b4;\" x=\"244.89581\" xlink:href=\"#m702ad1c9cd\" y=\"146.409123\"/>\n     <use style=\"fill:#1f77b4;stroke:#1f77b4;\" x=\"256.230091\" xlink:href=\"#m702ad1c9cd\" y=\"150.827844\"/>\n     <use style=\"fill:#1f77b4;stroke:#1f77b4;\" x=\"265.527743\" xlink:href=\"#m702ad1c9cd\" y=\"148.061555\"/>\n     <use style=\"fill:#1f77b4;stroke:#1f77b4;\" x=\"243.888681\" xlink:href=\"#m702ad1c9cd\" y=\"152.005839\"/>\n     <use style=\"fill:#1f77b4;stroke:#1f77b4;\" x=\"265.527743\" xlink:href=\"#m702ad1c9cd\" y=\"148.061555\"/>\n     <use style=\"fill:#1f77b4;stroke:#1f77b4;\" x=\"265.527743\" xlink:href=\"#m702ad1c9cd\" y=\"148.061555\"/>\n     <use style=\"fill:#1f77b4;stroke:#1f77b4;\" x=\"265.527743\" xlink:href=\"#m702ad1c9cd\" y=\"148.061555\"/>\n     <use style=\"fill:#1f77b4;stroke:#1f77b4;\" x=\"253.975821\" xlink:href=\"#m702ad1c9cd\" y=\"150.134582\"/>\n     <use style=\"fill:#1f77b4;stroke:#1f77b4;\" x=\"246.187935\" xlink:href=\"#m702ad1c9cd\" y=\"151.285491\"/>\n     <use style=\"fill:#1f77b4;stroke:#1f77b4;\" x=\"265.527743\" xlink:href=\"#m702ad1c9cd\" y=\"148.061555\"/>\n     <use style=\"fill:#1f77b4;stroke:#1f77b4;\" x=\"265.527743\" xlink:href=\"#m702ad1c9cd\" y=\"148.061555\"/>\n     <use style=\"fill:#1f77b4;stroke:#1f77b4;\" x=\"265.527743\" xlink:href=\"#m702ad1c9cd\" y=\"148.061555\"/>\n     <use style=\"fill:#1f77b4;stroke:#1f77b4;\" x=\"265.527743\" xlink:href=\"#m702ad1c9cd\" y=\"148.061555\"/>\n     <use style=\"fill:#1f77b4;stroke:#1f77b4;\" x=\"247.342422\" xlink:href=\"#m702ad1c9cd\" y=\"147.011234\"/>\n     <use style=\"fill:#1f77b4;stroke:#1f77b4;\" x=\"248.238609\" xlink:href=\"#m702ad1c9cd\" y=\"147.809435\"/>\n     <use style=\"fill:#1f77b4;stroke:#1f77b4;\" x=\"250.746935\" xlink:href=\"#m702ad1c9cd\" y=\"147.654183\"/>\n     <use style=\"fill:#1f77b4;stroke:#1f77b4;\" x=\"279.016992\" xlink:href=\"#m702ad1c9cd\" y=\"145.131797\"/>\n     <use style=\"fill:#1f77b4;stroke:#1f77b4;\" x=\"279.016992\" xlink:href=\"#m702ad1c9cd\" y=\"145.131797\"/>\n     <use style=\"fill:#1f77b4;stroke:#1f77b4;\" x=\"248.367226\" xlink:href=\"#m702ad1c9cd\" y=\"150.649681\"/>\n     <use style=\"fill:#1f77b4;stroke:#1f77b4;\" x=\"251.289045\" xlink:href=\"#m702ad1c9cd\" y=\"151.607205\"/>\n     <use style=\"fill:#1f77b4;stroke:#1f77b4;\" x=\"273.131198\" xlink:href=\"#m702ad1c9cd\" y=\"143.444676\"/>\n     <use style=\"fill:#1f77b4;stroke:#1f77b4;\" x=\"272.635311\" xlink:href=\"#m702ad1c9cd\" y=\"143.416267\"/>\n     <use style=\"fill:#1f77b4;stroke:#1f77b4;\" x=\"267.828873\" xlink:href=\"#m702ad1c9cd\" y=\"146.393317\"/>\n     <use style=\"fill:#1f77b4;stroke:#1f77b4;\" x=\"271.513063\" xlink:href=\"#m702ad1c9cd\" y=\"144.966101\"/>\n     <use style=\"fill:#1f77b4;stroke:#1f77b4;\" x=\"262.733431\" xlink:href=\"#m702ad1c9cd\" y=\"147.0664\"/>\n     <use style=\"fill:#1f77b4;stroke:#1f77b4;\" x=\"250.684626\" xlink:href=\"#m702ad1c9cd\" y=\"148.066147\"/>\n     <use style=\"fill:#1f77b4;stroke:#1f77b4;\" x=\"268.245654\" xlink:href=\"#m702ad1c9cd\" y=\"149.75366\"/>\n     <use style=\"fill:#1f77b4;stroke:#1f77b4;\" x=\"257.160846\" xlink:href=\"#m702ad1c9cd\" y=\"147.519287\"/>\n     <use style=\"fill:#1f77b4;stroke:#1f77b4;\" x=\"262.826262\" xlink:href=\"#m702ad1c9cd\" y=\"147.298444\"/>\n     <use style=\"fill:#1f77b4;stroke:#1f77b4;\" x=\"256.574871\" xlink:href=\"#m702ad1c9cd\" y=\"146.714451\"/>\n     <use style=\"fill:#1f77b4;stroke:#1f77b4;\" x=\"259.647726\" xlink:href=\"#m702ad1c9cd\" y=\"146.573523\"/>\n     <use style=\"fill:#1f77b4;stroke:#1f77b4;\" x=\"259.647726\" xlink:href=\"#m702ad1c9cd\" y=\"146.573523\"/>\n     <use style=\"fill:#1f77b4;stroke:#1f77b4;\" x=\"267.679738\" xlink:href=\"#m702ad1c9cd\" y=\"149.123511\"/>\n     <use style=\"fill:#1f77b4;stroke:#1f77b4;\" x=\"247.688589\" xlink:href=\"#m702ad1c9cd\" y=\"151.967392\"/>\n     <use style=\"fill:#1f77b4;stroke:#1f77b4;\" x=\"251.849776\" xlink:href=\"#m702ad1c9cd\" y=\"151.091749\"/>\n     <use style=\"fill:#1f77b4;stroke:#1f77b4;\" x=\"255.239496\" xlink:href=\"#m702ad1c9cd\" y=\"149.335453\"/>\n     <use style=\"fill:#1f77b4;stroke:#1f77b4;\" x=\"269.374953\" xlink:href=\"#m702ad1c9cd\" y=\"145.415049\"/>\n     <use style=\"fill:#1f77b4;stroke:#1f77b4;\" x=\"266.379615\" xlink:href=\"#m702ad1c9cd\" y=\"142.839569\"/>\n     <use style=\"fill:#1f77b4;stroke:#1f77b4;\" x=\"256.145735\" xlink:href=\"#m702ad1c9cd\" y=\"147.16854\"/>\n     <use style=\"fill:#1f77b4;stroke:#1f77b4;\" x=\"247.688589\" xlink:href=\"#m702ad1c9cd\" y=\"151.967392\"/>\n     <use style=\"fill:#1f77b4;stroke:#1f77b4;\" x=\"271.980048\" xlink:href=\"#m702ad1c9cd\" y=\"143.324899\"/>\n     <use style=\"fill:#1f77b4;stroke:#1f77b4;\" x=\"251.23152\" xlink:href=\"#m702ad1c9cd\" y=\"147.607141\"/>\n     <use style=\"fill:#1f77b4;stroke:#1f77b4;\" x=\"272.941661\" xlink:href=\"#m702ad1c9cd\" y=\"148.055825\"/>\n     <use style=\"fill:#1f77b4;stroke:#1f77b4;\" x=\"272.066585\" xlink:href=\"#m702ad1c9cd\" y=\"143.366406\"/>\n     <use style=\"fill:#1f77b4;stroke:#1f77b4;\" x=\"272.066585\" xlink:href=\"#m702ad1c9cd\" y=\"143.366406\"/>\n     <use style=\"fill:#1f77b4;stroke:#1f77b4;\" x=\"267.885181\" xlink:href=\"#m702ad1c9cd\" y=\"147.949876\"/>\n     <use style=\"fill:#1f77b4;stroke:#1f77b4;\" x=\"260.803062\" xlink:href=\"#m702ad1c9cd\" y=\"146.481421\"/>\n     <use style=\"fill:#1f77b4;stroke:#1f77b4;\" x=\"260.803062\" xlink:href=\"#m702ad1c9cd\" y=\"146.481421\"/>\n     <use style=\"fill:#1f77b4;stroke:#1f77b4;\" x=\"260.803062\" xlink:href=\"#m702ad1c9cd\" y=\"146.481421\"/>\n     <use style=\"fill:#1f77b4;stroke:#1f77b4;\" x=\"260.803062\" xlink:href=\"#m702ad1c9cd\" y=\"146.481421\"/>\n     <use style=\"fill:#1f77b4;stroke:#1f77b4;\" x=\"271.817631\" xlink:href=\"#m702ad1c9cd\" y=\"147.84355\"/>\n     <use style=\"fill:#1f77b4;stroke:#1f77b4;\" x=\"256.546889\" xlink:href=\"#m702ad1c9cd\" y=\"147.9806\"/>\n     <use style=\"fill:#1f77b4;stroke:#1f77b4;\" x=\"262.065688\" xlink:href=\"#m702ad1c9cd\" y=\"149.891966\"/>\n     <use style=\"fill:#1f77b4;stroke:#1f77b4;\" x=\"272.066585\" xlink:href=\"#m702ad1c9cd\" y=\"143.366406\"/>\n     <use style=\"fill:#1f77b4;stroke:#1f77b4;\" x=\"272.066585\" xlink:href=\"#m702ad1c9cd\" y=\"143.366406\"/>\n     <use style=\"fill:#1f77b4;stroke:#1f77b4;\" x=\"272.066585\" xlink:href=\"#m702ad1c9cd\" y=\"143.366406\"/>\n     <use style=\"fill:#1f77b4;stroke:#1f77b4;\" x=\"272.066585\" xlink:href=\"#m702ad1c9cd\" y=\"143.366406\"/>\n     <use style=\"fill:#1f77b4;stroke:#1f77b4;\" x=\"272.066585\" xlink:href=\"#m702ad1c9cd\" y=\"143.366406\"/>\n     <use style=\"fill:#1f77b4;stroke:#1f77b4;\" x=\"272.066585\" xlink:href=\"#m702ad1c9cd\" y=\"143.366406\"/>\n     <use style=\"fill:#1f77b4;stroke:#1f77b4;\" x=\"272.066585\" xlink:href=\"#m702ad1c9cd\" y=\"143.366406\"/>\n     <use style=\"fill:#1f77b4;stroke:#1f77b4;\" x=\"272.066585\" xlink:href=\"#m702ad1c9cd\" y=\"143.366406\"/>\n     <use style=\"fill:#1f77b4;stroke:#1f77b4;\" x=\"272.066585\" xlink:href=\"#m702ad1c9cd\" y=\"143.366406\"/>\n     <use style=\"fill:#1f77b4;stroke:#1f77b4;\" x=\"272.066585\" xlink:href=\"#m702ad1c9cd\" y=\"143.366406\"/>\n     <use style=\"fill:#1f77b4;stroke:#1f77b4;\" x=\"272.066585\" xlink:href=\"#m702ad1c9cd\" y=\"143.366406\"/>\n     <use style=\"fill:#1f77b4;stroke:#1f77b4;\" x=\"272.066585\" xlink:href=\"#m702ad1c9cd\" y=\"143.366406\"/>\n     <use style=\"fill:#1f77b4;stroke:#1f77b4;\" x=\"272.066585\" xlink:href=\"#m702ad1c9cd\" y=\"143.366406\"/>\n     <use style=\"fill:#1f77b4;stroke:#1f77b4;\" x=\"272.066585\" xlink:href=\"#m702ad1c9cd\" y=\"143.366406\"/>\n     <use style=\"fill:#1f77b4;stroke:#1f77b4;\" x=\"272.066585\" xlink:href=\"#m702ad1c9cd\" y=\"143.366406\"/>\n     <use style=\"fill:#1f77b4;stroke:#1f77b4;\" x=\"265.479921\" xlink:href=\"#m702ad1c9cd\" y=\"149.229126\"/>\n     <use style=\"fill:#1f77b4;stroke:#1f77b4;\" x=\"260.803062\" xlink:href=\"#m702ad1c9cd\" y=\"146.481421\"/>\n     <use style=\"fill:#1f77b4;stroke:#1f77b4;\" x=\"272.741482\" xlink:href=\"#m702ad1c9cd\" y=\"147.747491\"/>\n     <use style=\"fill:#1f77b4;stroke:#1f77b4;\" x=\"250.444686\" xlink:href=\"#m702ad1c9cd\" y=\"146.986869\"/>\n     <use style=\"fill:#1f77b4;stroke:#1f77b4;\" x=\"269.622432\" xlink:href=\"#m702ad1c9cd\" y=\"146.598422\"/>\n     <use style=\"fill:#1f77b4;stroke:#1f77b4;\" x=\"271.924261\" xlink:href=\"#m702ad1c9cd\" y=\"143.463681\"/>\n     <use style=\"fill:#1f77b4;stroke:#1f77b4;\" x=\"246.366386\" xlink:href=\"#m702ad1c9cd\" y=\"149.41481\"/>\n     <use style=\"fill:#1f77b4;stroke:#1f77b4;\" x=\"260.184804\" xlink:href=\"#m702ad1c9cd\" y=\"146.299089\"/>\n     <use style=\"fill:#1f77b4;stroke:#1f77b4;\" x=\"271.99262\" xlink:href=\"#m702ad1c9cd\" y=\"147.344081\"/>\n     <use style=\"fill:#1f77b4;stroke:#1f77b4;\" x=\"258.21066\" xlink:href=\"#m702ad1c9cd\" y=\"152.884893\"/>\n     <use style=\"fill:#1f77b4;stroke:#1f77b4;\" x=\"233.818641\" xlink:href=\"#m702ad1c9cd\" y=\"154.468371\"/>\n     <use style=\"fill:#1f77b4;stroke:#1f77b4;\" x=\"234.01198\" xlink:href=\"#m702ad1c9cd\" y=\"154.318119\"/>\n     <use style=\"fill:#1f77b4;stroke:#1f77b4;\" x=\"258.988884\" xlink:href=\"#m702ad1c9cd\" y=\"147.474202\"/>\n     <use style=\"fill:#1f77b4;stroke:#1f77b4;\" x=\"262.696765\" xlink:href=\"#m702ad1c9cd\" y=\"145.543344\"/>\n     <use style=\"fill:#1f77b4;stroke:#1f77b4;\" x=\"262.673791\" xlink:href=\"#m702ad1c9cd\" y=\"145.513961\"/>\n     <use style=\"fill:#1f77b4;stroke:#1f77b4;\" x=\"262.170467\" xlink:href=\"#m702ad1c9cd\" y=\"147.746777\"/>\n     <use style=\"fill:#1f77b4;stroke:#1f77b4;\" x=\"267.621939\" xlink:href=\"#m702ad1c9cd\" y=\"144.397964\"/>\n     <use style=\"fill:#1f77b4;stroke:#1f77b4;\" x=\"267.787906\" xlink:href=\"#m702ad1c9cd\" y=\"144.330328\"/>\n     <use style=\"fill:#1f77b4;stroke:#1f77b4;\" x=\"234.310035\" xlink:href=\"#m702ad1c9cd\" y=\"154.509001\"/>\n     <use style=\"fill:#1f77b4;stroke:#1f77b4;\" x=\"233.507325\" xlink:href=\"#m702ad1c9cd\" y=\"154.290184\"/>\n     <use style=\"fill:#1f77b4;stroke:#1f77b4;\" x=\"263.182386\" xlink:href=\"#m702ad1c9cd\" y=\"145.666599\"/>\n     <use style=\"fill:#1f77b4;stroke:#1f77b4;\" x=\"257.217842\" xlink:href=\"#m702ad1c9cd\" y=\"142.335224\"/>\n     <use style=\"fill:#1f77b4;stroke:#1f77b4;\" x=\"266.832039\" xlink:href=\"#m702ad1c9cd\" y=\"149.241952\"/>\n     <use style=\"fill:#1f77b4;stroke:#1f77b4;\" x=\"261.737429\" xlink:href=\"#m702ad1c9cd\" y=\"147.061435\"/>\n     <use style=\"fill:#1f77b4;stroke:#1f77b4;\" x=\"251.251806\" xlink:href=\"#m702ad1c9cd\" y=\"141.799139\"/>\n     <use style=\"fill:#1f77b4;stroke:#1f77b4;\" x=\"251.220227\" xlink:href=\"#m702ad1c9cd\" y=\"147.984062\"/>\n     <use style=\"fill:#1f77b4;stroke:#1f77b4;\" x=\"251.220227\" xlink:href=\"#m702ad1c9cd\" y=\"147.984062\"/>\n     <use style=\"fill:#1f77b4;stroke:#1f77b4;\" x=\"251.220227\" xlink:href=\"#m702ad1c9cd\" y=\"147.984062\"/>\n     <use style=\"fill:#1f77b4;stroke:#1f77b4;\" x=\"251.220227\" xlink:href=\"#m702ad1c9cd\" y=\"147.984062\"/>\n     <use style=\"fill:#1f77b4;stroke:#1f77b4;\" x=\"251.15004\" xlink:href=\"#m702ad1c9cd\" y=\"150.264178\"/>\n     <use style=\"fill:#1f77b4;stroke:#1f77b4;\" x=\"233.02383\" xlink:href=\"#m702ad1c9cd\" y=\"154.580929\"/>\n     <use style=\"fill:#1f77b4;stroke:#1f77b4;\" x=\"233.671583\" xlink:href=\"#m702ad1c9cd\" y=\"154.586832\"/>\n     <use style=\"fill:#1f77b4;stroke:#1f77b4;\" x=\"233.758664\" xlink:href=\"#m702ad1c9cd\" y=\"154.535447\"/>\n     <use style=\"fill:#1f77b4;stroke:#1f77b4;\" x=\"233.952547\" xlink:href=\"#m702ad1c9cd\" y=\"154.384772\"/>\n     <use style=\"fill:#1f77b4;stroke:#1f77b4;\" x=\"249.888146\" xlink:href=\"#m702ad1c9cd\" y=\"152.623703\"/>\n     <use style=\"fill:#1f77b4;stroke:#1f77b4;\" x=\"263.535128\" xlink:href=\"#m702ad1c9cd\" y=\"145.600701\"/>\n     <use style=\"fill:#1f77b4;stroke:#1f77b4;\" x=\"263.535128\" xlink:href=\"#m702ad1c9cd\" y=\"145.600701\"/>\n     <use style=\"fill:#1f77b4;stroke:#1f77b4;\" x=\"250.058872\" xlink:href=\"#m702ad1c9cd\" y=\"150.190446\"/>\n     <use style=\"fill:#1f77b4;stroke:#1f77b4;\" x=\"258.724935\" xlink:href=\"#m702ad1c9cd\" y=\"148.462532\"/>\n     <use style=\"fill:#1f77b4;stroke:#1f77b4;\" x=\"273.818477\" xlink:href=\"#m702ad1c9cd\" y=\"145.906943\"/>\n     <use style=\"fill:#1f77b4;stroke:#1f77b4;\" x=\"272.827916\" xlink:href=\"#m702ad1c9cd\" y=\"147.69438\"/>\n     <use style=\"fill:#1f77b4;stroke:#1f77b4;\" x=\"252.747379\" xlink:href=\"#m702ad1c9cd\" y=\"139.611341\"/>\n     <use style=\"fill:#1f77b4;stroke:#1f77b4;\" x=\"251.46583\" xlink:href=\"#m702ad1c9cd\" y=\"139.678122\"/>\n     <use style=\"fill:#1f77b4;stroke:#1f77b4;\" x=\"251.892941\" xlink:href=\"#m702ad1c9cd\" y=\"146.105437\"/>\n     <use style=\"fill:#1f77b4;stroke:#1f77b4;\" x=\"248.874097\" xlink:href=\"#m702ad1c9cd\" y=\"146.522086\"/>\n     <use style=\"fill:#1f77b4;stroke:#1f77b4;\" x=\"263.667951\" xlink:href=\"#m702ad1c9cd\" y=\"145.071704\"/>\n     <use style=\"fill:#1f77b4;stroke:#1f77b4;\" x=\"251.831604\" xlink:href=\"#m702ad1c9cd\" y=\"146.14163\"/>\n     <use style=\"fill:#1f77b4;stroke:#1f77b4;\" x=\"245.685255\" xlink:href=\"#m702ad1c9cd\" y=\"147.713414\"/>\n     <use style=\"fill:#1f77b4;stroke:#1f77b4;\" x=\"246.630286\" xlink:href=\"#m702ad1c9cd\" y=\"147.727919\"/>\n     <use style=\"fill:#1f77b4;stroke:#1f77b4;\" x=\"271.709553\" xlink:href=\"#m702ad1c9cd\" y=\"143.808191\"/>\n     <use style=\"fill:#1f77b4;stroke:#1f77b4;\" x=\"271.05799\" xlink:href=\"#m702ad1c9cd\" y=\"143.842144\"/>\n     <use style=\"fill:#1f77b4;stroke:#1f77b4;\" x=\"270.864727\" xlink:href=\"#m702ad1c9cd\" y=\"144.051348\"/>\n     <use style=\"fill:#1f77b4;stroke:#1f77b4;\" x=\"271.598837\" xlink:href=\"#m702ad1c9cd\" y=\"143.274535\"/>\n     <use style=\"fill:#1f77b4;stroke:#1f77b4;\" x=\"271.598837\" xlink:href=\"#m702ad1c9cd\" y=\"143.274535\"/>\n     <use style=\"fill:#1f77b4;stroke:#1f77b4;\" x=\"271.454431\" xlink:href=\"#m702ad1c9cd\" y=\"143.254562\"/>\n     <use style=\"fill:#1f77b4;stroke:#1f77b4;\" x=\"271.454431\" xlink:href=\"#m702ad1c9cd\" y=\"143.254562\"/>\n    </g>\n   </g>\n   <g id=\"matplotlib.axis_1\">\n    <g id=\"xtick_1\">\n     <g id=\"line2d_1\">\n      <defs>\n       <path d=\"M 0 0 \nL 0 3.5 \n\" id=\"m049f3aa0f1\" style=\"stroke:#000000;stroke-width:0.8;\"/>\n      </defs>\n      <g>\n       <use style=\"stroke:#000000;stroke-width:0.8;\" x=\"67.742529\" xlink:href=\"#m049f3aa0f1\" y=\"224.64\"/>\n      </g>\n     </g>\n     <g id=\"text_1\">\n      <!-- −0.6 -->\n      <defs>\n       <path d=\"M 10.59375 35.5 \nL 73.1875 35.5 \nL 73.1875 27.203125 \nL 10.59375 27.203125 \nz\n\" id=\"DejaVuSans-8722\"/>\n       <path d=\"M 31.78125 66.40625 \nQ 24.171875 66.40625 20.328125 58.90625 \nQ 16.5 51.421875 16.5 36.375 \nQ 16.5 21.390625 20.328125 13.890625 \nQ 24.171875 6.390625 31.78125 6.390625 \nQ 39.453125 6.390625 43.28125 13.890625 \nQ 47.125 21.390625 47.125 36.375 \nQ 47.125 51.421875 43.28125 58.90625 \nQ 39.453125 66.40625 31.78125 66.40625 \nz\nM 31.78125 74.21875 \nQ 44.046875 74.21875 50.515625 64.515625 \nQ 56.984375 54.828125 56.984375 36.375 \nQ 56.984375 17.96875 50.515625 8.265625 \nQ 44.046875 -1.421875 31.78125 -1.421875 \nQ 19.53125 -1.421875 13.0625 8.265625 \nQ 6.59375 17.96875 6.59375 36.375 \nQ 6.59375 54.828125 13.0625 64.515625 \nQ 19.53125 74.21875 31.78125 74.21875 \nz\n\" id=\"DejaVuSans-48\"/>\n       <path d=\"M 10.6875 12.40625 \nL 21 12.40625 \nL 21 0 \nL 10.6875 0 \nz\n\" id=\"DejaVuSans-46\"/>\n       <path d=\"M 33.015625 40.375 \nQ 26.375 40.375 22.484375 35.828125 \nQ 18.609375 31.296875 18.609375 23.390625 \nQ 18.609375 15.53125 22.484375 10.953125 \nQ 26.375 6.390625 33.015625 6.390625 \nQ 39.65625 6.390625 43.53125 10.953125 \nQ 47.40625 15.53125 47.40625 23.390625 \nQ 47.40625 31.296875 43.53125 35.828125 \nQ 39.65625 40.375 33.015625 40.375 \nz\nM 52.59375 71.296875 \nL 52.59375 62.3125 \nQ 48.875 64.0625 45.09375 64.984375 \nQ 41.3125 65.921875 37.59375 65.921875 \nQ 27.828125 65.921875 22.671875 59.328125 \nQ 17.53125 52.734375 16.796875 39.40625 \nQ 19.671875 43.65625 24.015625 45.921875 \nQ 28.375 48.1875 33.59375 48.1875 \nQ 44.578125 48.1875 50.953125 41.515625 \nQ 57.328125 34.859375 57.328125 23.390625 \nQ 57.328125 12.15625 50.6875 5.359375 \nQ 44.046875 -1.421875 33.015625 -1.421875 \nQ 20.359375 -1.421875 13.671875 8.265625 \nQ 6.984375 17.96875 6.984375 36.375 \nQ 6.984375 53.65625 15.1875 63.9375 \nQ 23.390625 74.21875 37.203125 74.21875 \nQ 40.921875 74.21875 44.703125 73.484375 \nQ 48.484375 72.75 52.59375 71.296875 \nz\n\" id=\"DejaVuSans-54\"/>\n      </defs>\n      <g transform=\"translate(55.601123 239.238437)scale(0.1 -0.1)\">\n       <use xlink:href=\"#DejaVuSans-8722\"/>\n       <use x=\"83.789062\" xlink:href=\"#DejaVuSans-48\"/>\n       <use x=\"147.412109\" xlink:href=\"#DejaVuSans-46\"/>\n       <use x=\"179.199219\" xlink:href=\"#DejaVuSans-54\"/>\n      </g>\n     </g>\n    </g>\n    <g id=\"xtick_2\">\n     <g id=\"line2d_2\">\n      <g>\n       <use style=\"stroke:#000000;stroke-width:0.8;\" x=\"128.684402\" xlink:href=\"#m049f3aa0f1\" y=\"224.64\"/>\n      </g>\n     </g>\n     <g id=\"text_2\">\n      <!-- −0.4 -->\n      <defs>\n       <path d=\"M 37.796875 64.3125 \nL 12.890625 25.390625 \nL 37.796875 25.390625 \nz\nM 35.203125 72.90625 \nL 47.609375 72.90625 \nL 47.609375 25.390625 \nL 58.015625 25.390625 \nL 58.015625 17.1875 \nL 47.609375 17.1875 \nL 47.609375 0 \nL 37.796875 0 \nL 37.796875 17.1875 \nL 4.890625 17.1875 \nL 4.890625 26.703125 \nz\n\" id=\"DejaVuSans-52\"/>\n      </defs>\n      <g transform=\"translate(116.542996 239.238437)scale(0.1 -0.1)\">\n       <use xlink:href=\"#DejaVuSans-8722\"/>\n       <use x=\"83.789062\" xlink:href=\"#DejaVuSans-48\"/>\n       <use x=\"147.412109\" xlink:href=\"#DejaVuSans-46\"/>\n       <use x=\"179.199219\" xlink:href=\"#DejaVuSans-52\"/>\n      </g>\n     </g>\n    </g>\n    <g id=\"xtick_3\">\n     <g id=\"line2d_3\">\n      <g>\n       <use style=\"stroke:#000000;stroke-width:0.8;\" x=\"189.626275\" xlink:href=\"#m049f3aa0f1\" y=\"224.64\"/>\n      </g>\n     </g>\n     <g id=\"text_3\">\n      <!-- −0.2 -->\n      <defs>\n       <path d=\"M 19.1875 8.296875 \nL 53.609375 8.296875 \nL 53.609375 0 \nL 7.328125 0 \nL 7.328125 8.296875 \nQ 12.9375 14.109375 22.625 23.890625 \nQ 32.328125 33.6875 34.8125 36.53125 \nQ 39.546875 41.84375 41.421875 45.53125 \nQ 43.3125 49.21875 43.3125 52.78125 \nQ 43.3125 58.59375 39.234375 62.25 \nQ 35.15625 65.921875 28.609375 65.921875 \nQ 23.96875 65.921875 18.8125 64.3125 \nQ 13.671875 62.703125 7.8125 59.421875 \nL 7.8125 69.390625 \nQ 13.765625 71.78125 18.9375 73 \nQ 24.125 74.21875 28.421875 74.21875 \nQ 39.75 74.21875 46.484375 68.546875 \nQ 53.21875 62.890625 53.21875 53.421875 \nQ 53.21875 48.921875 51.53125 44.890625 \nQ 49.859375 40.875 45.40625 35.40625 \nQ 44.1875 33.984375 37.640625 27.21875 \nQ 31.109375 20.453125 19.1875 8.296875 \nz\n\" id=\"DejaVuSans-50\"/>\n      </defs>\n      <g transform=\"translate(177.484868 239.238437)scale(0.1 -0.1)\">\n       <use xlink:href=\"#DejaVuSans-8722\"/>\n       <use x=\"83.789062\" xlink:href=\"#DejaVuSans-48\"/>\n       <use x=\"147.412109\" xlink:href=\"#DejaVuSans-46\"/>\n       <use x=\"179.199219\" xlink:href=\"#DejaVuSans-50\"/>\n      </g>\n     </g>\n    </g>\n    <g id=\"xtick_4\">\n     <g id=\"line2d_4\">\n      <g>\n       <use style=\"stroke:#000000;stroke-width:0.8;\" x=\"250.568147\" xlink:href=\"#m049f3aa0f1\" y=\"224.64\"/>\n      </g>\n     </g>\n     <g id=\"text_4\">\n      <!-- 0.0 -->\n      <g transform=\"translate(242.616585 239.238437)scale(0.1 -0.1)\">\n       <use xlink:href=\"#DejaVuSans-48\"/>\n       <use x=\"63.623047\" xlink:href=\"#DejaVuSans-46\"/>\n       <use x=\"95.410156\" xlink:href=\"#DejaVuSans-48\"/>\n      </g>\n     </g>\n    </g>\n    <g id=\"xtick_5\">\n     <g id=\"line2d_5\">\n      <g>\n       <use style=\"stroke:#000000;stroke-width:0.8;\" x=\"311.51002\" xlink:href=\"#m049f3aa0f1\" y=\"224.64\"/>\n      </g>\n     </g>\n     <g id=\"text_5\">\n      <!-- 0.2 -->\n      <g transform=\"translate(303.558457 239.238437)scale(0.1 -0.1)\">\n       <use xlink:href=\"#DejaVuSans-48\"/>\n       <use x=\"63.623047\" xlink:href=\"#DejaVuSans-46\"/>\n       <use x=\"95.410156\" xlink:href=\"#DejaVuSans-50\"/>\n      </g>\n     </g>\n    </g>\n    <g id=\"xtick_6\">\n     <g id=\"line2d_6\">\n      <g>\n       <use style=\"stroke:#000000;stroke-width:0.8;\" x=\"372.451893\" xlink:href=\"#m049f3aa0f1\" y=\"224.64\"/>\n      </g>\n     </g>\n     <g id=\"text_6\">\n      <!-- 0.4 -->\n      <g transform=\"translate(364.50033 239.238437)scale(0.1 -0.1)\">\n       <use xlink:href=\"#DejaVuSans-48\"/>\n       <use x=\"63.623047\" xlink:href=\"#DejaVuSans-46\"/>\n       <use x=\"95.410156\" xlink:href=\"#DejaVuSans-52\"/>\n      </g>\n     </g>\n    </g>\n   </g>\n   <g id=\"matplotlib.axis_2\">\n    <g id=\"ytick_1\">\n     <g id=\"line2d_7\">\n      <defs>\n       <path d=\"M 0 0 \nL -3.5 0 \n\" id=\"m6ec17d1e63\" style=\"stroke:#000000;stroke-width:0.8;\"/>\n      </defs>\n      <g>\n       <use style=\"stroke:#000000;stroke-width:0.8;\" x=\"44.845313\" xlink:href=\"#m6ec17d1e63\" y=\"199.70432\"/>\n      </g>\n     </g>\n     <g id=\"text_7\">\n      <!-- −0.50 -->\n      <defs>\n       <path d=\"M 10.796875 72.90625 \nL 49.515625 72.90625 \nL 49.515625 64.59375 \nL 19.828125 64.59375 \nL 19.828125 46.734375 \nQ 21.96875 47.46875 24.109375 47.828125 \nQ 26.265625 48.1875 28.421875 48.1875 \nQ 40.625 48.1875 47.75 41.5 \nQ 54.890625 34.8125 54.890625 23.390625 \nQ 54.890625 11.625 47.5625 5.09375 \nQ 40.234375 -1.421875 26.90625 -1.421875 \nQ 22.3125 -1.421875 17.546875 -0.640625 \nQ 12.796875 0.140625 7.71875 1.703125 \nL 7.71875 11.625 \nQ 12.109375 9.234375 16.796875 8.0625 \nQ 21.484375 6.890625 26.703125 6.890625 \nQ 35.15625 6.890625 40.078125 11.328125 \nQ 45.015625 15.765625 45.015625 23.390625 \nQ 45.015625 31 40.078125 35.4375 \nQ 35.15625 39.890625 26.703125 39.890625 \nQ 22.75 39.890625 18.8125 39.015625 \nQ 14.890625 38.140625 10.796875 36.28125 \nz\n\" id=\"DejaVuSans-53\"/>\n      </defs>\n      <g transform=\"translate(7.2 203.503538)scale(0.1 -0.1)\">\n       <use xlink:href=\"#DejaVuSans-8722\"/>\n       <use x=\"83.789062\" xlink:href=\"#DejaVuSans-48\"/>\n       <use x=\"147.412109\" xlink:href=\"#DejaVuSans-46\"/>\n       <use x=\"179.199219\" xlink:href=\"#DejaVuSans-53\"/>\n       <use x=\"242.822266\" xlink:href=\"#DejaVuSans-48\"/>\n      </g>\n     </g>\n    </g>\n    <g id=\"ytick_2\">\n     <g id=\"line2d_8\">\n      <g>\n       <use style=\"stroke:#000000;stroke-width:0.8;\" x=\"44.845313\" xlink:href=\"#m6ec17d1e63\" y=\"173.172805\"/>\n      </g>\n     </g>\n     <g id=\"text_8\">\n      <!-- −0.25 -->\n      <g transform=\"translate(7.2 176.972024)scale(0.1 -0.1)\">\n       <use xlink:href=\"#DejaVuSans-8722\"/>\n       <use x=\"83.789062\" xlink:href=\"#DejaVuSans-48\"/>\n       <use x=\"147.412109\" xlink:href=\"#DejaVuSans-46\"/>\n       <use x=\"179.199219\" xlink:href=\"#DejaVuSans-50\"/>\n       <use x=\"242.822266\" xlink:href=\"#DejaVuSans-53\"/>\n      </g>\n     </g>\n    </g>\n    <g id=\"ytick_3\">\n     <g id=\"line2d_9\">\n      <g>\n       <use style=\"stroke:#000000;stroke-width:0.8;\" x=\"44.845313\" xlink:href=\"#m6ec17d1e63\" y=\"146.64129\"/>\n      </g>\n     </g>\n     <g id=\"text_9\">\n      <!-- 0.00 -->\n      <g transform=\"translate(15.579688 150.440509)scale(0.1 -0.1)\">\n       <use xlink:href=\"#DejaVuSans-48\"/>\n       <use x=\"63.623047\" xlink:href=\"#DejaVuSans-46\"/>\n       <use x=\"95.410156\" xlink:href=\"#DejaVuSans-48\"/>\n       <use x=\"159.033203\" xlink:href=\"#DejaVuSans-48\"/>\n      </g>\n     </g>\n    </g>\n    <g id=\"ytick_4\">\n     <g id=\"line2d_10\">\n      <g>\n       <use style=\"stroke:#000000;stroke-width:0.8;\" x=\"44.845313\" xlink:href=\"#m6ec17d1e63\" y=\"120.109775\"/>\n      </g>\n     </g>\n     <g id=\"text_10\">\n      <!-- 0.25 -->\n      <g transform=\"translate(15.579688 123.908994)scale(0.1 -0.1)\">\n       <use xlink:href=\"#DejaVuSans-48\"/>\n       <use x=\"63.623047\" xlink:href=\"#DejaVuSans-46\"/>\n       <use x=\"95.410156\" xlink:href=\"#DejaVuSans-50\"/>\n       <use x=\"159.033203\" xlink:href=\"#DejaVuSans-53\"/>\n      </g>\n     </g>\n    </g>\n    <g id=\"ytick_5\">\n     <g id=\"line2d_11\">\n      <g>\n       <use style=\"stroke:#000000;stroke-width:0.8;\" x=\"44.845313\" xlink:href=\"#m6ec17d1e63\" y=\"93.57826\"/>\n      </g>\n     </g>\n     <g id=\"text_11\">\n      <!-- 0.50 -->\n      <g transform=\"translate(15.579688 97.377479)scale(0.1 -0.1)\">\n       <use xlink:href=\"#DejaVuSans-48\"/>\n       <use x=\"63.623047\" xlink:href=\"#DejaVuSans-46\"/>\n       <use x=\"95.410156\" xlink:href=\"#DejaVuSans-53\"/>\n       <use x=\"159.033203\" xlink:href=\"#DejaVuSans-48\"/>\n      </g>\n     </g>\n    </g>\n    <g id=\"ytick_6\">\n     <g id=\"line2d_12\">\n      <g>\n       <use style=\"stroke:#000000;stroke-width:0.8;\" x=\"44.845313\" xlink:href=\"#m6ec17d1e63\" y=\"67.046745\"/>\n      </g>\n     </g>\n     <g id=\"text_12\">\n      <!-- 0.75 -->\n      <defs>\n       <path d=\"M 8.203125 72.90625 \nL 55.078125 72.90625 \nL 55.078125 68.703125 \nL 28.609375 0 \nL 18.3125 0 \nL 43.21875 64.59375 \nL 8.203125 64.59375 \nz\n\" id=\"DejaVuSans-55\"/>\n      </defs>\n      <g transform=\"translate(15.579688 70.845964)scale(0.1 -0.1)\">\n       <use xlink:href=\"#DejaVuSans-48\"/>\n       <use x=\"63.623047\" xlink:href=\"#DejaVuSans-46\"/>\n       <use x=\"95.410156\" xlink:href=\"#DejaVuSans-55\"/>\n       <use x=\"159.033203\" xlink:href=\"#DejaVuSans-53\"/>\n      </g>\n     </g>\n    </g>\n    <g id=\"ytick_7\">\n     <g id=\"line2d_13\">\n      <g>\n       <use style=\"stroke:#000000;stroke-width:0.8;\" x=\"44.845313\" xlink:href=\"#m6ec17d1e63\" y=\"40.515231\"/>\n      </g>\n     </g>\n     <g id=\"text_13\">\n      <!-- 1.00 -->\n      <defs>\n       <path d=\"M 12.40625 8.296875 \nL 28.515625 8.296875 \nL 28.515625 63.921875 \nL 10.984375 60.40625 \nL 10.984375 69.390625 \nL 28.421875 72.90625 \nL 38.28125 72.90625 \nL 38.28125 8.296875 \nL 54.390625 8.296875 \nL 54.390625 0 \nL 12.40625 0 \nz\n\" id=\"DejaVuSans-49\"/>\n      </defs>\n      <g transform=\"translate(15.579688 44.314449)scale(0.1 -0.1)\">\n       <use xlink:href=\"#DejaVuSans-49\"/>\n       <use x=\"63.623047\" xlink:href=\"#DejaVuSans-46\"/>\n       <use x=\"95.410156\" xlink:href=\"#DejaVuSans-48\"/>\n       <use x=\"159.033203\" xlink:href=\"#DejaVuSans-48\"/>\n      </g>\n     </g>\n    </g>\n    <g id=\"ytick_8\">\n     <g id=\"line2d_14\">\n      <g>\n       <use style=\"stroke:#000000;stroke-width:0.8;\" x=\"44.845313\" xlink:href=\"#m6ec17d1e63\" y=\"13.983716\"/>\n      </g>\n     </g>\n     <g id=\"text_14\">\n      <!-- 1.25 -->\n      <g transform=\"translate(15.579688 17.782935)scale(0.1 -0.1)\">\n       <use xlink:href=\"#DejaVuSans-49\"/>\n       <use x=\"63.623047\" xlink:href=\"#DejaVuSans-46\"/>\n       <use x=\"95.410156\" xlink:href=\"#DejaVuSans-50\"/>\n       <use x=\"159.033203\" xlink:href=\"#DejaVuSans-53\"/>\n      </g>\n     </g>\n    </g>\n   </g>\n   <g id=\"patch_3\">\n    <path d=\"M 44.845313 224.64 \nL 44.845313 7.2 \n\" style=\"fill:none;stroke:#000000;stroke-linecap:square;stroke-linejoin:miter;stroke-width:0.8;\"/>\n   </g>\n   <g id=\"patch_4\">\n    <path d=\"M 379.645313 224.64 \nL 379.645313 7.2 \n\" style=\"fill:none;stroke:#000000;stroke-linecap:square;stroke-linejoin:miter;stroke-width:0.8;\"/>\n   </g>\n   <g id=\"patch_5\">\n    <path d=\"M 44.845312 224.64 \nL 379.645313 224.64 \n\" style=\"fill:none;stroke:#000000;stroke-linecap:square;stroke-linejoin:miter;stroke-width:0.8;\"/>\n   </g>\n   <g id=\"patch_6\">\n    <path d=\"M 44.845312 7.2 \nL 379.645313 7.2 \n\" style=\"fill:none;stroke:#000000;stroke-linecap:square;stroke-linejoin:miter;stroke-width:0.8;\"/>\n   </g>\n  </g>\n </g>\n <defs>\n  <clipPath id=\"p7e702d6f7c\">\n   <rect height=\"217.44\" width=\"334.8\" x=\"44.845313\" y=\"7.2\"/>\n  </clipPath>\n </defs>\n</svg>\n"
          },
          "metadata": {
            "needs_background": "light"
          }
        }
      ]
    },
    {
      "cell_type": "code",
      "source": [
        "scatter_x = result[:, 0]\n",
        "scatter_y = result[:, 1]\n",
        "group = grupo\n",
        "cdict = {'H':'red', 'I':'blue', 'L':'pink', 'Ox':'green'}\n",
        "\n",
        "fig, ax = plt.subplots()\n",
        "for g in np.unique(group):\n",
        "    ix = np.where(group == g)\n",
        "    ax.scatter(scatter_x[ix], scatter_y[ix], c = cdict[g], label = g, s = 20)\n",
        "ax.legend()\n",
        "plt.show()"
      ],
      "metadata": {
        "colab": {
          "base_uri": "https://localhost:8080/",
          "height": 353
        },
        "id": "ax7XTshke_IV",
        "outputId": "b4df6ce2-ac03-4653-a187-c4724920c2cb"
      },
      "id": "ax7XTshke_IV",
      "execution_count": 65,
      "outputs": [
        {
          "output_type": "display_data",
          "data": {
            "text/plain": [
              "<Figure size 432x288 with 1 Axes>"
            ],
            "image/svg+xml": "<?xml version=\"1.0\" encoding=\"utf-8\" standalone=\"no\"?>\n<!DOCTYPE svg PUBLIC \"-//W3C//DTD SVG 1.1//EN\"\n  \"http://www.w3.org/Graphics/SVG/1.1/DTD/svg11.dtd\">\n<!-- Created with matplotlib (https://matplotlib.org/) -->\n<svg height=\"248.518125pt\" version=\"1.1\" viewBox=\"0 0 387.603455 248.518125\" width=\"387.603455pt\" xmlns=\"http://www.w3.org/2000/svg\" xmlns:xlink=\"http://www.w3.org/1999/xlink\">\n <defs>\n  <style type=\"text/css\">\n*{stroke-linecap:butt;stroke-linejoin:round;}\n  </style>\n </defs>\n <g id=\"figure_1\">\n  <g id=\"patch_1\">\n   <path d=\"M 0 248.518125 \nL 387.603455 248.518125 \nL 387.603455 0 \nL 0 0 \nz\n\" style=\"fill:none;\"/>\n  </g>\n  <g id=\"axes_1\">\n   <g id=\"patch_2\">\n    <path d=\"M 44.845313 224.64 \nL 379.645313 224.64 \nL 379.645313 7.2 \nL 44.845313 7.2 \nz\n\" style=\"fill:#ffffff;\"/>\n   </g>\n   <g id=\"PathCollection_1\">\n    <defs>\n     <path d=\"M 0 2.236068 \nC 0.593012 2.236068 1.161816 2.000462 1.581139 1.581139 \nC 2.000462 1.161816 2.236068 0.593012 2.236068 0 \nC 2.236068 -0.593012 2.000462 -1.161816 1.581139 -1.581139 \nC 1.161816 -2.000462 0.593012 -2.236068 0 -2.236068 \nC -0.593012 -2.236068 -1.161816 -2.000462 -1.581139 -1.581139 \nC -2.000462 -1.161816 -2.236068 -0.593012 -2.236068 0 \nC -2.236068 0.593012 -2.000462 1.161816 -1.581139 1.581139 \nC -1.161816 2.000462 -0.593012 2.236068 0 2.236068 \nz\n\" id=\"med85b3220d\" style=\"stroke:#ff0000;\"/>\n    </defs>\n    <g clip-path=\"url(#p5fbb0474f4)\">\n     <use style=\"fill:#ff0000;stroke:#ff0000;\" x=\"235.248621\" xlink:href=\"#med85b3220d\" y=\"151.404967\"/>\n     <use style=\"fill:#ff0000;stroke:#ff0000;\" x=\"246.865973\" xlink:href=\"#med85b3220d\" y=\"149.126092\"/>\n     <use style=\"fill:#ff0000;stroke:#ff0000;\" x=\"231.732491\" xlink:href=\"#med85b3220d\" y=\"152.505738\"/>\n     <use style=\"fill:#ff0000;stroke:#ff0000;\" x=\"241.785931\" xlink:href=\"#med85b3220d\" y=\"149.963436\"/>\n     <use style=\"fill:#ff0000;stroke:#ff0000;\" x=\"238.199636\" xlink:href=\"#med85b3220d\" y=\"151.563066\"/>\n     <use style=\"fill:#ff0000;stroke:#ff0000;\" x=\"251.059678\" xlink:href=\"#med85b3220d\" y=\"152.862211\"/>\n     <use style=\"fill:#ff0000;stroke:#ff0000;\" x=\"240.065473\" xlink:href=\"#med85b3220d\" y=\"152.523675\"/>\n     <use style=\"fill:#ff0000;stroke:#ff0000;\" x=\"233.985579\" xlink:href=\"#med85b3220d\" y=\"150.369487\"/>\n     <use style=\"fill:#ff0000;stroke:#ff0000;\" x=\"236.078579\" xlink:href=\"#med85b3220d\" y=\"150.412689\"/>\n     <use style=\"fill:#ff0000;stroke:#ff0000;\" x=\"248.183636\" xlink:href=\"#med85b3220d\" y=\"147.607765\"/>\n     <use style=\"fill:#ff0000;stroke:#ff0000;\" x=\"231.57257\" xlink:href=\"#med85b3220d\" y=\"154.08902\"/>\n     <use style=\"fill:#ff0000;stroke:#ff0000;\" x=\"234.839485\" xlink:href=\"#med85b3220d\" y=\"150.200439\"/>\n     <use style=\"fill:#ff0000;stroke:#ff0000;\" x=\"246.375459\" xlink:href=\"#med85b3220d\" y=\"152.751936\"/>\n     <use style=\"fill:#ff0000;stroke:#ff0000;\" x=\"239.055289\" xlink:href=\"#med85b3220d\" y=\"151.28321\"/>\n     <use style=\"fill:#ff0000;stroke:#ff0000;\" x=\"231.57257\" xlink:href=\"#med85b3220d\" y=\"154.08902\"/>\n     <use style=\"fill:#ff0000;stroke:#ff0000;\" x=\"255.757611\" xlink:href=\"#med85b3220d\" y=\"144.46451\"/>\n     <use style=\"fill:#ff0000;stroke:#ff0000;\" x=\"238.22146\" xlink:href=\"#med85b3220d\" y=\"151.95937\"/>\n     <use style=\"fill:#ff0000;stroke:#ff0000;\" x=\"243.720926\" xlink:href=\"#med85b3220d\" y=\"150.073361\"/>\n     <use style=\"fill:#ff0000;stroke:#ff0000;\" x=\"231.887232\" xlink:href=\"#med85b3220d\" y=\"151.891491\"/>\n     <use style=\"fill:#ff0000;stroke:#ff0000;\" x=\"255.757611\" xlink:href=\"#med85b3220d\" y=\"144.46451\"/>\n     <use style=\"fill:#ff0000;stroke:#ff0000;\" x=\"248.79321\" xlink:href=\"#med85b3220d\" y=\"148.080172\"/>\n     <use style=\"fill:#ff0000;stroke:#ff0000;\" x=\"249.61218\" xlink:href=\"#med85b3220d\" y=\"144.986081\"/>\n     <use style=\"fill:#ff0000;stroke:#ff0000;\" x=\"259.670081\" xlink:href=\"#med85b3220d\" y=\"153.497852\"/>\n     <use style=\"fill:#ff0000;stroke:#ff0000;\" x=\"238.971376\" xlink:href=\"#med85b3220d\" y=\"151.889422\"/>\n     <use style=\"fill:#ff0000;stroke:#ff0000;\" x=\"246.154422\" xlink:href=\"#med85b3220d\" y=\"149.706682\"/>\n     <use style=\"fill:#ff0000;stroke:#ff0000;\" x=\"264.571329\" xlink:href=\"#med85b3220d\" y=\"150.141427\"/>\n     <use style=\"fill:#ff0000;stroke:#ff0000;\" x=\"249.042498\" xlink:href=\"#med85b3220d\" y=\"146.121325\"/>\n     <use style=\"fill:#ff0000;stroke:#ff0000;\" x=\"238.165469\" xlink:href=\"#med85b3220d\" y=\"150.928286\"/>\n     <use style=\"fill:#ff0000;stroke:#ff0000;\" x=\"238.165469\" xlink:href=\"#med85b3220d\" y=\"150.928286\"/>\n     <use style=\"fill:#ff0000;stroke:#ff0000;\" x=\"238.165469\" xlink:href=\"#med85b3220d\" y=\"150.928286\"/>\n     <use style=\"fill:#ff0000;stroke:#ff0000;\" x=\"260.370838\" xlink:href=\"#med85b3220d\" y=\"145.038732\"/>\n     <use style=\"fill:#ff0000;stroke:#ff0000;\" x=\"257.050877\" xlink:href=\"#med85b3220d\" y=\"147.164409\"/>\n     <use style=\"fill:#ff0000;stroke:#ff0000;\" x=\"253.986945\" xlink:href=\"#med85b3220d\" y=\"152.439353\"/>\n     <use style=\"fill:#ff0000;stroke:#ff0000;\" x=\"250.710219\" xlink:href=\"#med85b3220d\" y=\"149.350195\"/>\n     <use style=\"fill:#ff0000;stroke:#ff0000;\" x=\"235.261818\" xlink:href=\"#med85b3220d\" y=\"152.477941\"/>\n     <use style=\"fill:#ff0000;stroke:#ff0000;\" x=\"260.784837\" xlink:href=\"#med85b3220d\" y=\"151.852872\"/>\n     <use style=\"fill:#ff0000;stroke:#ff0000;\" x=\"255.5593\" xlink:href=\"#med85b3220d\" y=\"144.439889\"/>\n     <use style=\"fill:#ff0000;stroke:#ff0000;\" x=\"239.332421\" xlink:href=\"#med85b3220d\" y=\"149.109711\"/>\n     <use style=\"fill:#ff0000;stroke:#ff0000;\" x=\"242.336559\" xlink:href=\"#med85b3220d\" y=\"149.046027\"/>\n     <use style=\"fill:#ff0000;stroke:#ff0000;\" x=\"243.568596\" xlink:href=\"#med85b3220d\" y=\"148.994991\"/>\n     <use style=\"fill:#ff0000;stroke:#ff0000;\" x=\"249.61218\" xlink:href=\"#med85b3220d\" y=\"144.986081\"/>\n     <use style=\"fill:#ff0000;stroke:#ff0000;\" x=\"265.39431\" xlink:href=\"#med85b3220d\" y=\"145.147288\"/>\n     <use style=\"fill:#ff0000;stroke:#ff0000;\" x=\"248.938888\" xlink:href=\"#med85b3220d\" y=\"144.363509\"/>\n     <use style=\"fill:#ff0000;stroke:#ff0000;\" x=\"269.445316\" xlink:href=\"#med85b3220d\" y=\"141.565439\"/>\n     <use style=\"fill:#ff0000;stroke:#ff0000;\" x=\"269.419968\" xlink:href=\"#med85b3220d\" y=\"141.907323\"/>\n     <use style=\"fill:#ff0000;stroke:#ff0000;\" x=\"242.104988\" xlink:href=\"#med85b3220d\" y=\"155.198781\"/>\n     <use style=\"fill:#ff0000;stroke:#ff0000;\" x=\"235.132449\" xlink:href=\"#med85b3220d\" y=\"152.520725\"/>\n     <use style=\"fill:#ff0000;stroke:#ff0000;\" x=\"247.071843\" xlink:href=\"#med85b3220d\" y=\"154.246193\"/>\n     <use style=\"fill:#ff0000;stroke:#ff0000;\" x=\"244.677964\" xlink:href=\"#med85b3220d\" y=\"153.808186\"/>\n     <use style=\"fill:#ff0000;stroke:#ff0000;\" x=\"233.859403\" xlink:href=\"#med85b3220d\" y=\"155.115385\"/>\n     <use style=\"fill:#ff0000;stroke:#ff0000;\" x=\"254.325884\" xlink:href=\"#med85b3220d\" y=\"149.588394\"/>\n     <use style=\"fill:#ff0000;stroke:#ff0000;\" x=\"252.535431\" xlink:href=\"#med85b3220d\" y=\"149.200156\"/>\n     <use style=\"fill:#ff0000;stroke:#ff0000;\" x=\"253.944573\" xlink:href=\"#med85b3220d\" y=\"150.461892\"/>\n     <use style=\"fill:#ff0000;stroke:#ff0000;\" x=\"227.517658\" xlink:href=\"#med85b3220d\" y=\"148.668385\"/>\n     <use style=\"fill:#ff0000;stroke:#ff0000;\" x=\"252.185365\" xlink:href=\"#med85b3220d\" y=\"149.249429\"/>\n     <use style=\"fill:#ff0000;stroke:#ff0000;\" x=\"258.244608\" xlink:href=\"#med85b3220d\" y=\"147.728205\"/>\n     <use style=\"fill:#ff0000;stroke:#ff0000;\" x=\"243.881036\" xlink:href=\"#med85b3220d\" y=\"149.997686\"/>\n     <use style=\"fill:#ff0000;stroke:#ff0000;\" x=\"233.116372\" xlink:href=\"#med85b3220d\" y=\"153.067339\"/>\n     <use style=\"fill:#ff0000;stroke:#ff0000;\" x=\"247.261456\" xlink:href=\"#med85b3220d\" y=\"145.790372\"/>\n     <use style=\"fill:#ff0000;stroke:#ff0000;\" x=\"239.053435\" xlink:href=\"#med85b3220d\" y=\"150.963168\"/>\n     <use style=\"fill:#ff0000;stroke:#ff0000;\" x=\"240.69866\" xlink:href=\"#med85b3220d\" y=\"151.064755\"/>\n     <use style=\"fill:#ff0000;stroke:#ff0000;\" x=\"242.816174\" xlink:href=\"#med85b3220d\" y=\"151.918097\"/>\n     <use style=\"fill:#ff0000;stroke:#ff0000;\" x=\"278.265397\" xlink:href=\"#med85b3220d\" y=\"145.273878\"/>\n     <use style=\"fill:#ff0000;stroke:#ff0000;\" x=\"239.258465\" xlink:href=\"#med85b3220d\" y=\"150.727232\"/>\n     <use style=\"fill:#ff0000;stroke:#ff0000;\" x=\"246.58546\" xlink:href=\"#med85b3220d\" y=\"149.527881\"/>\n     <use style=\"fill:#ff0000;stroke:#ff0000;\" x=\"231.430446\" xlink:href=\"#med85b3220d\" y=\"150.108699\"/>\n     <use style=\"fill:#ff0000;stroke:#ff0000;\" x=\"246.58546\" xlink:href=\"#med85b3220d\" y=\"149.527881\"/>\n     <use style=\"fill:#ff0000;stroke:#ff0000;\" x=\"266.448351\" xlink:href=\"#med85b3220d\" y=\"143.705005\"/>\n     <use style=\"fill:#ff0000;stroke:#ff0000;\" x=\"271.903118\" xlink:href=\"#med85b3220d\" y=\"143.017388\"/>\n     <use style=\"fill:#ff0000;stroke:#ff0000;\" x=\"253.127676\" xlink:href=\"#med85b3220d\" y=\"145.689066\"/>\n     <use style=\"fill:#ff0000;stroke:#ff0000;\" x=\"261.066637\" xlink:href=\"#med85b3220d\" y=\"145.924776\"/>\n     <use style=\"fill:#ff0000;stroke:#ff0000;\" x=\"256.106778\" xlink:href=\"#med85b3220d\" y=\"144.253153\"/>\n     <use style=\"fill:#ff0000;stroke:#ff0000;\" x=\"259.046\" xlink:href=\"#med85b3220d\" y=\"146.34781\"/>\n     <use style=\"fill:#ff0000;stroke:#ff0000;\" x=\"252.257704\" xlink:href=\"#med85b3220d\" y=\"154.087027\"/>\n     <use style=\"fill:#ff0000;stroke:#ff0000;\" x=\"235.656179\" xlink:href=\"#med85b3220d\" y=\"151.052709\"/>\n     <use style=\"fill:#ff0000;stroke:#ff0000;\" x=\"238.26966\" xlink:href=\"#med85b3220d\" y=\"152.034889\"/>\n     <use style=\"fill:#ff0000;stroke:#ff0000;\" x=\"239.482846\" xlink:href=\"#med85b3220d\" y=\"150.931031\"/>\n     <use style=\"fill:#ff0000;stroke:#ff0000;\" x=\"249.664359\" xlink:href=\"#med85b3220d\" y=\"150.304118\"/>\n     <use style=\"fill:#ff0000;stroke:#ff0000;\" x=\"266.184601\" xlink:href=\"#med85b3220d\" y=\"152.667439\"/>\n     <use style=\"fill:#ff0000;stroke:#ff0000;\" x=\"234.38432\" xlink:href=\"#med85b3220d\" y=\"150.690453\"/>\n     <use style=\"fill:#ff0000;stroke:#ff0000;\" x=\"252.196777\" xlink:href=\"#med85b3220d\" y=\"148.940623\"/>\n     <use style=\"fill:#ff0000;stroke:#ff0000;\" x=\"255.777825\" xlink:href=\"#med85b3220d\" y=\"148.701705\"/>\n     <use style=\"fill:#ff0000;stroke:#ff0000;\" x=\"235.408756\" xlink:href=\"#med85b3220d\" y=\"148.302995\"/>\n     <use style=\"fill:#ff0000;stroke:#ff0000;\" x=\"258.805746\" xlink:href=\"#med85b3220d\" y=\"152.661871\"/>\n     <use style=\"fill:#ff0000;stroke:#ff0000;\" x=\"257.929223\" xlink:href=\"#med85b3220d\" y=\"145.483531\"/>\n     <use style=\"fill:#ff0000;stroke:#ff0000;\" x=\"262.757317\" xlink:href=\"#med85b3220d\" y=\"145.701554\"/>\n     <use style=\"fill:#ff0000;stroke:#ff0000;\" x=\"252.257704\" xlink:href=\"#med85b3220d\" y=\"154.087027\"/>\n     <use style=\"fill:#ff0000;stroke:#ff0000;\" x=\"256.803907\" xlink:href=\"#med85b3220d\" y=\"148.298087\"/>\n     <use style=\"fill:#ff0000;stroke:#ff0000;\" x=\"244.977549\" xlink:href=\"#med85b3220d\" y=\"148.915019\"/>\n     <use style=\"fill:#ff0000;stroke:#ff0000;\" x=\"254.226871\" xlink:href=\"#med85b3220d\" y=\"153.79762\"/>\n     <use style=\"fill:#ff0000;stroke:#ff0000;\" x=\"239.258465\" xlink:href=\"#med85b3220d\" y=\"150.727232\"/>\n     <use style=\"fill:#ff0000;stroke:#ff0000;\" x=\"249.554387\" xlink:href=\"#med85b3220d\" y=\"151.413562\"/>\n     <use style=\"fill:#ff0000;stroke:#ff0000;\" x=\"252.258515\" xlink:href=\"#med85b3220d\" y=\"150.191891\"/>\n     <use style=\"fill:#ff0000;stroke:#ff0000;\" x=\"238.843797\" xlink:href=\"#med85b3220d\" y=\"148.840082\"/>\n     <use style=\"fill:#ff0000;stroke:#ff0000;\" x=\"258.353855\" xlink:href=\"#med85b3220d\" y=\"145.373184\"/>\n     <use style=\"fill:#ff0000;stroke:#ff0000;\" x=\"259.837507\" xlink:href=\"#med85b3220d\" y=\"147.469263\"/>\n     <use style=\"fill:#ff0000;stroke:#ff0000;\" x=\"254.771643\" xlink:href=\"#med85b3220d\" y=\"150.184158\"/>\n     <use style=\"fill:#ff0000;stroke:#ff0000;\" x=\"253.266035\" xlink:href=\"#med85b3220d\" y=\"150.009241\"/>\n     <use style=\"fill:#ff0000;stroke:#ff0000;\" x=\"253.982425\" xlink:href=\"#med85b3220d\" y=\"149.61681\"/>\n     <use style=\"fill:#ff0000;stroke:#ff0000;\" x=\"254.226871\" xlink:href=\"#med85b3220d\" y=\"153.79762\"/>\n     <use style=\"fill:#ff0000;stroke:#ff0000;\" x=\"252.436208\" xlink:href=\"#med85b3220d\" y=\"152.825206\"/>\n     <use style=\"fill:#ff0000;stroke:#ff0000;\" x=\"271.539855\" xlink:href=\"#med85b3220d\" y=\"148.228933\"/>\n     <use style=\"fill:#ff0000;stroke:#ff0000;\" x=\"259.595961\" xlink:href=\"#med85b3220d\" y=\"150.953703\"/>\n     <use style=\"fill:#ff0000;stroke:#ff0000;\" x=\"246.444754\" xlink:href=\"#med85b3220d\" y=\"150.356675\"/>\n     <use style=\"fill:#ff0000;stroke:#ff0000;\" x=\"252.575817\" xlink:href=\"#med85b3220d\" y=\"148.42797\"/>\n     <use style=\"fill:#ff0000;stroke:#ff0000;\" x=\"247.651878\" xlink:href=\"#med85b3220d\" y=\"148.444137\"/>\n     <use style=\"fill:#ff0000;stroke:#ff0000;\" x=\"247.940627\" xlink:href=\"#med85b3220d\" y=\"147.869744\"/>\n     <use style=\"fill:#ff0000;stroke:#ff0000;\" x=\"253.163706\" xlink:href=\"#med85b3220d\" y=\"147.845835\"/>\n     <use style=\"fill:#ff0000;stroke:#ff0000;\" x=\"253.949734\" xlink:href=\"#med85b3220d\" y=\"148.839981\"/>\n     <use style=\"fill:#ff0000;stroke:#ff0000;\" x=\"237.292882\" xlink:href=\"#med85b3220d\" y=\"144.458267\"/>\n     <use style=\"fill:#ff0000;stroke:#ff0000;\" x=\"232.7995\" xlink:href=\"#med85b3220d\" y=\"147.307662\"/>\n     <use style=\"fill:#ff0000;stroke:#ff0000;\" x=\"232.698743\" xlink:href=\"#med85b3220d\" y=\"152.313345\"/>\n     <use style=\"fill:#ff0000;stroke:#ff0000;\" x=\"250.301035\" xlink:href=\"#med85b3220d\" y=\"155.357602\"/>\n     <use style=\"fill:#ff0000;stroke:#ff0000;\" x=\"255.038775\" xlink:href=\"#med85b3220d\" y=\"155.10536\"/>\n     <use style=\"fill:#ff0000;stroke:#ff0000;\" x=\"250.079366\" xlink:href=\"#med85b3220d\" y=\"153.877568\"/>\n     <use style=\"fill:#ff0000;stroke:#ff0000;\" x=\"250.629218\" xlink:href=\"#med85b3220d\" y=\"152.563532\"/>\n     <use style=\"fill:#ff0000;stroke:#ff0000;\" x=\"250.079366\" xlink:href=\"#med85b3220d\" y=\"153.877568\"/>\n     <use style=\"fill:#ff0000;stroke:#ff0000;\" x=\"247.909912\" xlink:href=\"#med85b3220d\" y=\"152.06335\"/>\n     <use style=\"fill:#ff0000;stroke:#ff0000;\" x=\"250.079366\" xlink:href=\"#med85b3220d\" y=\"153.877568\"/>\n     <use style=\"fill:#ff0000;stroke:#ff0000;\" x=\"254.204574\" xlink:href=\"#med85b3220d\" y=\"150.375522\"/>\n     <use style=\"fill:#ff0000;stroke:#ff0000;\" x=\"252.80081\" xlink:href=\"#med85b3220d\" y=\"149.118602\"/>\n     <use style=\"fill:#ff0000;stroke:#ff0000;\" x=\"256.244788\" xlink:href=\"#med85b3220d\" y=\"151.715294\"/>\n     <use style=\"fill:#ff0000;stroke:#ff0000;\" x=\"244.986761\" xlink:href=\"#med85b3220d\" y=\"155.177128\"/>\n     <use style=\"fill:#ff0000;stroke:#ff0000;\" x=\"251.959799\" xlink:href=\"#med85b3220d\" y=\"152.023398\"/>\n     <use style=\"fill:#ff0000;stroke:#ff0000;\" x=\"253.038325\" xlink:href=\"#med85b3220d\" y=\"151.261433\"/>\n     <use style=\"fill:#ff0000;stroke:#ff0000;\" x=\"258.129513\" xlink:href=\"#med85b3220d\" y=\"150.003748\"/>\n     <use style=\"fill:#ff0000;stroke:#ff0000;\" x=\"258.159895\" xlink:href=\"#med85b3220d\" y=\"151.705665\"/>\n     <use style=\"fill:#ff0000;stroke:#ff0000;\" x=\"251.667234\" xlink:href=\"#med85b3220d\" y=\"151.596459\"/>\n     <use style=\"fill:#ff0000;stroke:#ff0000;\" x=\"254.224083\" xlink:href=\"#med85b3220d\" y=\"149.73444\"/>\n     <use style=\"fill:#ff0000;stroke:#ff0000;\" x=\"255.692264\" xlink:href=\"#med85b3220d\" y=\"149.641424\"/>\n     <use style=\"fill:#ff0000;stroke:#ff0000;\" x=\"255.804957\" xlink:href=\"#med85b3220d\" y=\"149.685548\"/>\n     <use style=\"fill:#ff0000;stroke:#ff0000;\" x=\"259.124565\" xlink:href=\"#med85b3220d\" y=\"152.071651\"/>\n     <use style=\"fill:#ff0000;stroke:#ff0000;\" x=\"260.224636\" xlink:href=\"#med85b3220d\" y=\"152.206145\"/>\n     <use style=\"fill:#ff0000;stroke:#ff0000;\" x=\"261.334824\" xlink:href=\"#med85b3220d\" y=\"151.333536\"/>\n     <use style=\"fill:#ff0000;stroke:#ff0000;\" x=\"254.569498\" xlink:href=\"#med85b3220d\" y=\"151.417085\"/>\n     <use style=\"fill:#ff0000;stroke:#ff0000;\" x=\"231.431493\" xlink:href=\"#med85b3220d\" y=\"149.147635\"/>\n     <use style=\"fill:#ff0000;stroke:#ff0000;\" x=\"234.288762\" xlink:href=\"#med85b3220d\" y=\"144.153062\"/>\n     <use style=\"fill:#ff0000;stroke:#ff0000;\" x=\"255.267105\" xlink:href=\"#med85b3220d\" y=\"148.256225\"/>\n     <use style=\"fill:#ff0000;stroke:#ff0000;\" x=\"252.341265\" xlink:href=\"#med85b3220d\" y=\"150.651277\"/>\n     <use style=\"fill:#ff0000;stroke:#ff0000;\" x=\"255.037941\" xlink:href=\"#med85b3220d\" y=\"155.43705\"/>\n     <use style=\"fill:#ff0000;stroke:#ff0000;\" x=\"247.675498\" xlink:href=\"#med85b3220d\" y=\"150.11509\"/>\n     <use style=\"fill:#ff0000;stroke:#ff0000;\" x=\"249.016615\" xlink:href=\"#med85b3220d\" y=\"148.746378\"/>\n     <use style=\"fill:#ff0000;stroke:#ff0000;\" x=\"248.601214\" xlink:href=\"#med85b3220d\" y=\"147.972636\"/>\n     <use style=\"fill:#ff0000;stroke:#ff0000;\" x=\"254.765744\" xlink:href=\"#med85b3220d\" y=\"146.805182\"/>\n     <use style=\"fill:#ff0000;stroke:#ff0000;\" x=\"239.716649\" xlink:href=\"#med85b3220d\" y=\"149.03541\"/>\n     <use style=\"fill:#ff0000;stroke:#ff0000;\" x=\"250.038337\" xlink:href=\"#med85b3220d\" y=\"152.105007\"/>\n     <use style=\"fill:#ff0000;stroke:#ff0000;\" x=\"235.166773\" xlink:href=\"#med85b3220d\" y=\"147.693687\"/>\n     <use style=\"fill:#ff0000;stroke:#ff0000;\" x=\"231.33811\" xlink:href=\"#med85b3220d\" y=\"153.319661\"/>\n     <use style=\"fill:#ff0000;stroke:#ff0000;\" x=\"242.851657\" xlink:href=\"#med85b3220d\" y=\"151.084247\"/>\n     <use style=\"fill:#ff0000;stroke:#ff0000;\" x=\"243.523252\" xlink:href=\"#med85b3220d\" y=\"153.233104\"/>\n     <use style=\"fill:#ff0000;stroke:#ff0000;\" x=\"243.069878\" xlink:href=\"#med85b3220d\" y=\"153.158335\"/>\n     <use style=\"fill:#ff0000;stroke:#ff0000;\" x=\"259.042964\" xlink:href=\"#med85b3220d\" y=\"152.856513\"/>\n     <use style=\"fill:#ff0000;stroke:#ff0000;\" x=\"255.128454\" xlink:href=\"#med85b3220d\" y=\"151.106324\"/>\n     <use style=\"fill:#ff0000;stroke:#ff0000;\" x=\"263.421438\" xlink:href=\"#med85b3220d\" y=\"150.084253\"/>\n     <use style=\"fill:#ff0000;stroke:#ff0000;\" x=\"246.809058\" xlink:href=\"#med85b3220d\" y=\"150.116351\"/>\n     <use style=\"fill:#ff0000;stroke:#ff0000;\" x=\"255.059273\" xlink:href=\"#med85b3220d\" y=\"147.411081\"/>\n     <use style=\"fill:#ff0000;stroke:#ff0000;\" x=\"242.24227\" xlink:href=\"#med85b3220d\" y=\"148.549058\"/>\n     <use style=\"fill:#ff0000;stroke:#ff0000;\" x=\"262.678046\" xlink:href=\"#med85b3220d\" y=\"149.967699\"/>\n     <use style=\"fill:#ff0000;stroke:#ff0000;\" x=\"259.161441\" xlink:href=\"#med85b3220d\" y=\"149.192409\"/>\n     <use style=\"fill:#ff0000;stroke:#ff0000;\" x=\"242.760718\" xlink:href=\"#med85b3220d\" y=\"150.264896\"/>\n     <use style=\"fill:#ff0000;stroke:#ff0000;\" x=\"237.402444\" xlink:href=\"#med85b3220d\" y=\"151.621105\"/>\n     <use style=\"fill:#ff0000;stroke:#ff0000;\" x=\"246.605099\" xlink:href=\"#med85b3220d\" y=\"150.043394\"/>\n     <use style=\"fill:#ff0000;stroke:#ff0000;\" x=\"245.025665\" xlink:href=\"#med85b3220d\" y=\"149.104861\"/>\n     <use style=\"fill:#ff0000;stroke:#ff0000;\" x=\"233.309805\" xlink:href=\"#med85b3220d\" y=\"151.155786\"/>\n     <use style=\"fill:#ff0000;stroke:#ff0000;\" x=\"240.525197\" xlink:href=\"#med85b3220d\" y=\"154.6867\"/>\n     <use style=\"fill:#ff0000;stroke:#ff0000;\" x=\"248.2363\" xlink:href=\"#med85b3220d\" y=\"148.973713\"/>\n     <use style=\"fill:#ff0000;stroke:#ff0000;\" x=\"241.445354\" xlink:href=\"#med85b3220d\" y=\"150.131502\"/>\n     <use style=\"fill:#ff0000;stroke:#ff0000;\" x=\"243.738062\" xlink:href=\"#med85b3220d\" y=\"151.169641\"/>\n     <use style=\"fill:#ff0000;stroke:#ff0000;\" x=\"242.336602\" xlink:href=\"#med85b3220d\" y=\"149.063188\"/>\n     <use style=\"fill:#ff0000;stroke:#ff0000;\" x=\"240.68297\" xlink:href=\"#med85b3220d\" y=\"148.812634\"/>\n     <use style=\"fill:#ff0000;stroke:#ff0000;\" x=\"240.096359\" xlink:href=\"#med85b3220d\" y=\"149.292268\"/>\n     <use style=\"fill:#ff0000;stroke:#ff0000;\" x=\"230.455395\" xlink:href=\"#med85b3220d\" y=\"154.322241\"/>\n     <use style=\"fill:#ff0000;stroke:#ff0000;\" x=\"252.436102\" xlink:href=\"#med85b3220d\" y=\"151.003031\"/>\n     <use style=\"fill:#ff0000;stroke:#ff0000;\" x=\"242.930304\" xlink:href=\"#med85b3220d\" y=\"143.634742\"/>\n     <use style=\"fill:#ff0000;stroke:#ff0000;\" x=\"253.967354\" xlink:href=\"#med85b3220d\" y=\"146.111206\"/>\n     <use style=\"fill:#ff0000;stroke:#ff0000;\" x=\"257.450592\" xlink:href=\"#med85b3220d\" y=\"152.523461\"/>\n     <use style=\"fill:#ff0000;stroke:#ff0000;\" x=\"260.471226\" xlink:href=\"#med85b3220d\" y=\"144.899401\"/>\n     <use style=\"fill:#ff0000;stroke:#ff0000;\" x=\"243.609404\" xlink:href=\"#med85b3220d\" y=\"155.481306\"/>\n     <use style=\"fill:#ff0000;stroke:#ff0000;\" x=\"274.030218\" xlink:href=\"#med85b3220d\" y=\"143.158614\"/>\n     <use style=\"fill:#ff0000;stroke:#ff0000;\" x=\"269.815394\" xlink:href=\"#med85b3220d\" y=\"147.217532\"/>\n     <use style=\"fill:#ff0000;stroke:#ff0000;\" x=\"248.057302\" xlink:href=\"#med85b3220d\" y=\"154.41705\"/>\n     <use style=\"fill:#ff0000;stroke:#ff0000;\" x=\"245.860779\" xlink:href=\"#med85b3220d\" y=\"150.726722\"/>\n     <use style=\"fill:#ff0000;stroke:#ff0000;\" x=\"256.833993\" xlink:href=\"#med85b3220d\" y=\"153.814478\"/>\n     <use style=\"fill:#ff0000;stroke:#ff0000;\" x=\"247.247016\" xlink:href=\"#med85b3220d\" y=\"149.55241\"/>\n     <use style=\"fill:#ff0000;stroke:#ff0000;\" x=\"249.770942\" xlink:href=\"#med85b3220d\" y=\"157.82703\"/>\n     <use style=\"fill:#ff0000;stroke:#ff0000;\" x=\"245.598439\" xlink:href=\"#med85b3220d\" y=\"144.097227\"/>\n     <use style=\"fill:#ff0000;stroke:#ff0000;\" x=\"260.747377\" xlink:href=\"#med85b3220d\" y=\"150.76294\"/>\n     <use style=\"fill:#ff0000;stroke:#ff0000;\" x=\"265.051103\" xlink:href=\"#med85b3220d\" y=\"146.857149\"/>\n     <use style=\"fill:#ff0000;stroke:#ff0000;\" x=\"279.364783\" xlink:href=\"#med85b3220d\" y=\"146.527196\"/>\n     <use style=\"fill:#ff0000;stroke:#ff0000;\" x=\"257.021954\" xlink:href=\"#med85b3220d\" y=\"147.072483\"/>\n     <use style=\"fill:#ff0000;stroke:#ff0000;\" x=\"270.58012\" xlink:href=\"#med85b3220d\" y=\"144.774558\"/>\n     <use style=\"fill:#ff0000;stroke:#ff0000;\" x=\"267.128144\" xlink:href=\"#med85b3220d\" y=\"148.309922\"/>\n     <use style=\"fill:#ff0000;stroke:#ff0000;\" x=\"263.187432\" xlink:href=\"#med85b3220d\" y=\"149.399846\"/>\n     <use style=\"fill:#ff0000;stroke:#ff0000;\" x=\"272.123995\" xlink:href=\"#med85b3220d\" y=\"148.417932\"/>\n     <use style=\"fill:#ff0000;stroke:#ff0000;\" x=\"289.016289\" xlink:href=\"#med85b3220d\" y=\"150.938821\"/>\n     <use style=\"fill:#ff0000;stroke:#ff0000;\" x=\"280.294755\" xlink:href=\"#med85b3220d\" y=\"146.872514\"/>\n     <use style=\"fill:#ff0000;stroke:#ff0000;\" x=\"277.455839\" xlink:href=\"#med85b3220d\" y=\"151.776571\"/>\n     <use style=\"fill:#ff0000;stroke:#ff0000;\" x=\"262.862615\" xlink:href=\"#med85b3220d\" y=\"149.435244\"/>\n     <use style=\"fill:#ff0000;stroke:#ff0000;\" x=\"262.577677\" xlink:href=\"#med85b3220d\" y=\"150.478807\"/>\n     <use style=\"fill:#ff0000;stroke:#ff0000;\" x=\"266.893317\" xlink:href=\"#med85b3220d\" y=\"150.851315\"/>\n     <use style=\"fill:#ff0000;stroke:#ff0000;\" x=\"284.133862\" xlink:href=\"#med85b3220d\" y=\"151.040381\"/>\n     <use style=\"fill:#ff0000;stroke:#ff0000;\" x=\"284.206322\" xlink:href=\"#med85b3220d\" y=\"150.136266\"/>\n     <use style=\"fill:#ff0000;stroke:#ff0000;\" x=\"277.406191\" xlink:href=\"#med85b3220d\" y=\"152.086834\"/>\n     <use style=\"fill:#ff0000;stroke:#ff0000;\" x=\"270.057779\" xlink:href=\"#med85b3220d\" y=\"151.174382\"/>\n     <use style=\"fill:#ff0000;stroke:#ff0000;\" x=\"284.145219\" xlink:href=\"#med85b3220d\" y=\"148.019192\"/>\n     <use style=\"fill:#ff0000;stroke:#ff0000;\" x=\"292.556027\" xlink:href=\"#med85b3220d\" y=\"149.918302\"/>\n     <use style=\"fill:#ff0000;stroke:#ff0000;\" x=\"259.277224\" xlink:href=\"#med85b3220d\" y=\"149.852284\"/>\n     <use style=\"fill:#ff0000;stroke:#ff0000;\" x=\"272.872903\" xlink:href=\"#med85b3220d\" y=\"149.52643\"/>\n     <use style=\"fill:#ff0000;stroke:#ff0000;\" x=\"249.852076\" xlink:href=\"#med85b3220d\" y=\"151.552715\"/>\n     <use style=\"fill:#ff0000;stroke:#ff0000;\" x=\"258.216581\" xlink:href=\"#med85b3220d\" y=\"148.190652\"/>\n     <use style=\"fill:#ff0000;stroke:#ff0000;\" x=\"266.855386\" xlink:href=\"#med85b3220d\" y=\"146.920298\"/>\n     <use style=\"fill:#ff0000;stroke:#ff0000;\" x=\"256.799912\" xlink:href=\"#med85b3220d\" y=\"146.864913\"/>\n     <use style=\"fill:#ff0000;stroke:#ff0000;\" x=\"257.36278\" xlink:href=\"#med85b3220d\" y=\"150.033173\"/>\n     <use style=\"fill:#ff0000;stroke:#ff0000;\" x=\"266.497013\" xlink:href=\"#med85b3220d\" y=\"145.814541\"/>\n     <use style=\"fill:#ff0000;stroke:#ff0000;\" x=\"271.978468\" xlink:href=\"#med85b3220d\" y=\"145.977415\"/>\n     <use style=\"fill:#ff0000;stroke:#ff0000;\" x=\"273.416781\" xlink:href=\"#med85b3220d\" y=\"150.30893\"/>\n     <use style=\"fill:#ff0000;stroke:#ff0000;\" x=\"264.251286\" xlink:href=\"#med85b3220d\" y=\"145.134302\"/>\n     <use style=\"fill:#ff0000;stroke:#ff0000;\" x=\"271.363307\" xlink:href=\"#med85b3220d\" y=\"150.951577\"/>\n     <use style=\"fill:#ff0000;stroke:#ff0000;\" x=\"273.211488\" xlink:href=\"#med85b3220d\" y=\"146.561605\"/>\n     <use style=\"fill:#ff0000;stroke:#ff0000;\" x=\"281.278574\" xlink:href=\"#med85b3220d\" y=\"147.0909\"/>\n     <use style=\"fill:#ff0000;stroke:#ff0000;\" x=\"271.204567\" xlink:href=\"#med85b3220d\" y=\"144.956733\"/>\n     <use style=\"fill:#ff0000;stroke:#ff0000;\" x=\"267.029461\" xlink:href=\"#med85b3220d\" y=\"145.511765\"/>\n     <use style=\"fill:#ff0000;stroke:#ff0000;\" x=\"274.883251\" xlink:href=\"#med85b3220d\" y=\"142.953681\"/>\n     <use style=\"fill:#ff0000;stroke:#ff0000;\" x=\"270.037474\" xlink:href=\"#med85b3220d\" y=\"144.917954\"/>\n     <use style=\"fill:#ff0000;stroke:#ff0000;\" x=\"261.824973\" xlink:href=\"#med85b3220d\" y=\"150.143997\"/>\n     <use style=\"fill:#ff0000;stroke:#ff0000;\" x=\"264.518626\" xlink:href=\"#med85b3220d\" y=\"149.835267\"/>\n     <use style=\"fill:#ff0000;stroke:#ff0000;\" x=\"100.352633\" xlink:href=\"#med85b3220d\" y=\"214.756364\"/>\n     <use style=\"fill:#ff0000;stroke:#ff0000;\" x=\"271.980002\" xlink:href=\"#med85b3220d\" y=\"148.308107\"/>\n     <use style=\"fill:#ff0000;stroke:#ff0000;\" x=\"321.704752\" xlink:href=\"#med85b3220d\" y=\"131.973593\"/>\n     <use style=\"fill:#ff0000;stroke:#ff0000;\" x=\"293.910812\" xlink:href=\"#med85b3220d\" y=\"146.829319\"/>\n     <use style=\"fill:#ff0000;stroke:#ff0000;\" x=\"282.901905\" xlink:href=\"#med85b3220d\" y=\"147.991362\"/>\n     <use style=\"fill:#ff0000;stroke:#ff0000;\" x=\"249.202092\" xlink:href=\"#med85b3220d\" y=\"140.951184\"/>\n     <use style=\"fill:#ff0000;stroke:#ff0000;\" x=\"277.471076\" xlink:href=\"#med85b3220d\" y=\"143.411317\"/>\n     <use style=\"fill:#ff0000;stroke:#ff0000;\" x=\"248.230634\" xlink:href=\"#med85b3220d\" y=\"153.417202\"/>\n     <use style=\"fill:#ff0000;stroke:#ff0000;\" x=\"251.39614\" xlink:href=\"#med85b3220d\" y=\"145.044109\"/>\n     <use style=\"fill:#ff0000;stroke:#ff0000;\" x=\"272.166287\" xlink:href=\"#med85b3220d\" y=\"140.044068\"/>\n     <use style=\"fill:#ff0000;stroke:#ff0000;\" x=\"262.349054\" xlink:href=\"#med85b3220d\" y=\"149.736648\"/>\n     <use style=\"fill:#ff0000;stroke:#ff0000;\" x=\"262.003722\" xlink:href=\"#med85b3220d\" y=\"145.063351\"/>\n     <use style=\"fill:#ff0000;stroke:#ff0000;\" x=\"280.686738\" xlink:href=\"#med85b3220d\" y=\"141.542986\"/>\n     <use style=\"fill:#ff0000;stroke:#ff0000;\" x=\"274.479305\" xlink:href=\"#med85b3220d\" y=\"147.323536\"/>\n     <use style=\"fill:#ff0000;stroke:#ff0000;\" x=\"278.610876\" xlink:href=\"#med85b3220d\" y=\"142.680593\"/>\n     <use style=\"fill:#ff0000;stroke:#ff0000;\" x=\"257.566651\" xlink:href=\"#med85b3220d\" y=\"145.757255\"/>\n     <use style=\"fill:#ff0000;stroke:#ff0000;\" x=\"265.461177\" xlink:href=\"#med85b3220d\" y=\"146.903\"/>\n     <use style=\"fill:#ff0000;stroke:#ff0000;\" x=\"277.547339\" xlink:href=\"#med85b3220d\" y=\"143.116666\"/>\n     <use style=\"fill:#ff0000;stroke:#ff0000;\" x=\"274.892135\" xlink:href=\"#med85b3220d\" y=\"137.540342\"/>\n     <use style=\"fill:#ff0000;stroke:#ff0000;\" x=\"264.4212\" xlink:href=\"#med85b3220d\" y=\"145.856458\"/>\n     <use style=\"fill:#ff0000;stroke:#ff0000;\" x=\"82.464152\" xlink:href=\"#med85b3220d\" y=\"131.029768\"/>\n     <use style=\"fill:#ff0000;stroke:#ff0000;\" x=\"268.990498\" xlink:href=\"#med85b3220d\" y=\"147.592393\"/>\n     <use style=\"fill:#ff0000;stroke:#ff0000;\" x=\"282.96637\" xlink:href=\"#med85b3220d\" y=\"140.534924\"/>\n     <use style=\"fill:#ff0000;stroke:#ff0000;\" x=\"273.551182\" xlink:href=\"#med85b3220d\" y=\"141.18028\"/>\n     <use style=\"fill:#ff0000;stroke:#ff0000;\" x=\"276.097268\" xlink:href=\"#med85b3220d\" y=\"141.003512\"/>\n     <use style=\"fill:#ff0000;stroke:#ff0000;\" x=\"275.345579\" xlink:href=\"#med85b3220d\" y=\"141.190112\"/>\n     <use style=\"fill:#ff0000;stroke:#ff0000;\" x=\"295.124203\" xlink:href=\"#med85b3220d\" y=\"139.543951\"/>\n     <use style=\"fill:#ff0000;stroke:#ff0000;\" x=\"267.603943\" xlink:href=\"#med85b3220d\" y=\"146.057509\"/>\n     <use style=\"fill:#ff0000;stroke:#ff0000;\" x=\"279.221566\" xlink:href=\"#med85b3220d\" y=\"140.619445\"/>\n     <use style=\"fill:#ff0000;stroke:#ff0000;\" x=\"270.55044\" xlink:href=\"#med85b3220d\" y=\"145.313456\"/>\n     <use style=\"fill:#ff0000;stroke:#ff0000;\" x=\"282.986569\" xlink:href=\"#med85b3220d\" y=\"143.246407\"/>\n     <use style=\"fill:#ff0000;stroke:#ff0000;\" x=\"278.249621\" xlink:href=\"#med85b3220d\" y=\"146.317408\"/>\n     <use style=\"fill:#ff0000;stroke:#ff0000;\" x=\"279.91071\" xlink:href=\"#med85b3220d\" y=\"145.251849\"/>\n     <use style=\"fill:#ff0000;stroke:#ff0000;\" x=\"281.299882\" xlink:href=\"#med85b3220d\" y=\"140.190956\"/>\n     <use style=\"fill:#ff0000;stroke:#ff0000;\" x=\"255.824645\" xlink:href=\"#med85b3220d\" y=\"156.26859\"/>\n     <use style=\"fill:#ff0000;stroke:#ff0000;\" x=\"269.621038\" xlink:href=\"#med85b3220d\" y=\"143.496183\"/>\n     <use style=\"fill:#ff0000;stroke:#ff0000;\" x=\"260.232866\" xlink:href=\"#med85b3220d\" y=\"142.347053\"/>\n     <use style=\"fill:#ff0000;stroke:#ff0000;\" x=\"261.790492\" xlink:href=\"#med85b3220d\" y=\"147.39195\"/>\n     <use style=\"fill:#ff0000;stroke:#ff0000;\" x=\"266.219122\" xlink:href=\"#med85b3220d\" y=\"145.091859\"/>\n     <use style=\"fill:#ff0000;stroke:#ff0000;\" x=\"292.201234\" xlink:href=\"#med85b3220d\" y=\"146.837283\"/>\n     <use style=\"fill:#ff0000;stroke:#ff0000;\" x=\"277.768418\" xlink:href=\"#med85b3220d\" y=\"140.362335\"/>\n     <use style=\"fill:#ff0000;stroke:#ff0000;\" x=\"265.41137\" xlink:href=\"#med85b3220d\" y=\"132.881178\"/>\n     <use style=\"fill:#ff0000;stroke:#ff0000;\" x=\"279.116305\" xlink:href=\"#med85b3220d\" y=\"147.218037\"/>\n     <use style=\"fill:#ff0000;stroke:#ff0000;\" x=\"265.730299\" xlink:href=\"#med85b3220d\" y=\"146.375922\"/>\n     <use style=\"fill:#ff0000;stroke:#ff0000;\" x=\"266.690582\" xlink:href=\"#med85b3220d\" y=\"148.347471\"/>\n     <use style=\"fill:#ff0000;stroke:#ff0000;\" x=\"283.860628\" xlink:href=\"#med85b3220d\" y=\"146.060091\"/>\n     <use style=\"fill:#ff0000;stroke:#ff0000;\" x=\"269.932036\" xlink:href=\"#med85b3220d\" y=\"144.322285\"/>\n     <use style=\"fill:#ff0000;stroke:#ff0000;\" x=\"274.699358\" xlink:href=\"#med85b3220d\" y=\"151.961355\"/>\n     <use style=\"fill:#ff0000;stroke:#ff0000;\" x=\"274.349206\" xlink:href=\"#med85b3220d\" y=\"149.709706\"/>\n     <use style=\"fill:#ff0000;stroke:#ff0000;\" x=\"273.402704\" xlink:href=\"#med85b3220d\" y=\"146.357876\"/>\n     <use style=\"fill:#ff0000;stroke:#ff0000;\" x=\"267.663792\" xlink:href=\"#med85b3220d\" y=\"147.466\"/>\n     <use style=\"fill:#ff0000;stroke:#ff0000;\" x=\"93.022708\" xlink:href=\"#med85b3220d\" y=\"128.747208\"/>\n     <use style=\"fill:#ff0000;stroke:#ff0000;\" x=\"84.497204\" xlink:href=\"#med85b3220d\" y=\"146.349441\"/>\n     <use style=\"fill:#ff0000;stroke:#ff0000;\" x=\"294.421407\" xlink:href=\"#med85b3220d\" y=\"140.67574\"/>\n     <use style=\"fill:#ff0000;stroke:#ff0000;\" x=\"249.209287\" xlink:href=\"#med85b3220d\" y=\"154.17467\"/>\n     <use style=\"fill:#ff0000;stroke:#ff0000;\" x=\"237.877391\" xlink:href=\"#med85b3220d\" y=\"151.099331\"/>\n     <use style=\"fill:#ff0000;stroke:#ff0000;\" x=\"214.844694\" xlink:href=\"#med85b3220d\" y=\"149.011045\"/>\n     <use style=\"fill:#ff0000;stroke:#ff0000;\" x=\"262.646646\" xlink:href=\"#med85b3220d\" y=\"148.565662\"/>\n     <use style=\"fill:#ff0000;stroke:#ff0000;\" x=\"262.606643\" xlink:href=\"#med85b3220d\" y=\"148.546474\"/>\n     <use style=\"fill:#ff0000;stroke:#ff0000;\" x=\"107.172132\" xlink:href=\"#med85b3220d\" y=\"140.293444\"/>\n     <use style=\"fill:#ff0000;stroke:#ff0000;\" x=\"283.565942\" xlink:href=\"#med85b3220d\" y=\"146.267936\"/>\n     <use style=\"fill:#ff0000;stroke:#ff0000;\" x=\"65.023587\" xlink:href=\"#med85b3220d\" y=\"150.792669\"/>\n     <use style=\"fill:#ff0000;stroke:#ff0000;\" x=\"99.243814\" xlink:href=\"#med85b3220d\" y=\"137.123855\"/>\n     <use style=\"fill:#ff0000;stroke:#ff0000;\" x=\"106.062567\" xlink:href=\"#med85b3220d\" y=\"139.305195\"/>\n     <use style=\"fill:#ff0000;stroke:#ff0000;\" x=\"60.063494\" xlink:href=\"#med85b3220d\" y=\"155.536925\"/>\n     <use style=\"fill:#ff0000;stroke:#ff0000;\" x=\"101.131597\" xlink:href=\"#med85b3220d\" y=\"143.107187\"/>\n     <use style=\"fill:#ff0000;stroke:#ff0000;\" x=\"71.68098\" xlink:href=\"#med85b3220d\" y=\"156.722164\"/>\n     <use style=\"fill:#ff0000;stroke:#ff0000;\" x=\"101.131597\" xlink:href=\"#med85b3220d\" y=\"143.107187\"/>\n     <use style=\"fill:#ff0000;stroke:#ff0000;\" x=\"61.037739\" xlink:href=\"#med85b3220d\" y=\"142.130127\"/>\n     <use style=\"fill:#ff0000;stroke:#ff0000;\" x=\"85.597679\" xlink:href=\"#med85b3220d\" y=\"129.2717\"/>\n     <use style=\"fill:#ff0000;stroke:#ff0000;\" x=\"106.865542\" xlink:href=\"#med85b3220d\" y=\"143.035536\"/>\n     <use style=\"fill:#ff0000;stroke:#ff0000;\" x=\"75.983921\" xlink:href=\"#med85b3220d\" y=\"146.280114\"/>\n     <use style=\"fill:#ff0000;stroke:#ff0000;\" x=\"81.791089\" xlink:href=\"#med85b3220d\" y=\"147.259372\"/>\n     <use style=\"fill:#ff0000;stroke:#ff0000;\" x=\"72.950847\" xlink:href=\"#med85b3220d\" y=\"136.972888\"/>\n     <use style=\"fill:#ff0000;stroke:#ff0000;\" x=\"79.121118\" xlink:href=\"#med85b3220d\" y=\"149.605781\"/>\n     <use style=\"fill:#ff0000;stroke:#ff0000;\" x=\"76.279544\" xlink:href=\"#med85b3220d\" y=\"139.937635\"/>\n     <use style=\"fill:#ff0000;stroke:#ff0000;\" x=\"106.509365\" xlink:href=\"#med85b3220d\" y=\"142.121281\"/>\n     <use style=\"fill:#ff0000;stroke:#ff0000;\" x=\"69.81365\" xlink:href=\"#med85b3220d\" y=\"133.64722\"/>\n     <use style=\"fill:#ff0000;stroke:#ff0000;\" x=\"77.140934\" xlink:href=\"#med85b3220d\" y=\"137.153073\"/>\n     <use style=\"fill:#ff0000;stroke:#ff0000;\" x=\"81.239636\" xlink:href=\"#med85b3220d\" y=\"135.19338\"/>\n     <use style=\"fill:#ff0000;stroke:#ff0000;\" x=\"84.08121\" xlink:href=\"#med85b3220d\" y=\"144.861526\"/>\n     <use style=\"fill:#ff0000;stroke:#ff0000;\" x=\"84.442738\" xlink:href=\"#med85b3220d\" y=\"156.9018\"/>\n     <use style=\"fill:#ff0000;stroke:#ff0000;\" x=\"99.994978\" xlink:href=\"#med85b3220d\" y=\"158.748451\"/>\n     <use style=\"fill:#ff0000;stroke:#ff0000;\" x=\"111.269983\" xlink:href=\"#med85b3220d\" y=\"143.121474\"/>\n     <use style=\"fill:#ff0000;stroke:#ff0000;\" x=\"79.969768\" xlink:href=\"#med85b3220d\" y=\"154.942656\"/>\n     <use style=\"fill:#ff0000;stroke:#ff0000;\" x=\"83.106966\" xlink:href=\"#med85b3220d\" y=\"158.268323\"/>\n     <use style=\"fill:#ff0000;stroke:#ff0000;\" x=\"77.128194\" xlink:href=\"#med85b3220d\" y=\"145.27451\"/>\n     <use style=\"fill:#ff0000;stroke:#ff0000;\" x=\"81.791089\" xlink:href=\"#med85b3220d\" y=\"147.259372\"/>\n     <use style=\"fill:#ff0000;stroke:#ff0000;\" x=\"62.73504\" xlink:href=\"#med85b3220d\" y=\"152.803877\"/>\n     <use style=\"fill:#ff0000;stroke:#ff0000;\" x=\"106.471539\" xlink:href=\"#med85b3220d\" y=\"138.414369\"/>\n     <use style=\"fill:#ff0000;stroke:#ff0000;\" x=\"102.46972\" xlink:href=\"#med85b3220d\" y=\"147.615949\"/>\n     <use style=\"fill:#ff0000;stroke:#ff0000;\" x=\"88.849803\" xlink:href=\"#med85b3220d\" y=\"140.478191\"/>\n     <use style=\"fill:#ff0000;stroke:#ff0000;\" x=\"74.024131\" xlink:href=\"#med85b3220d\" y=\"140.341629\"/>\n     <use style=\"fill:#ff0000;stroke:#ff0000;\" x=\"241.978593\" xlink:href=\"#med85b3220d\" y=\"138.926491\"/>\n     <use style=\"fill:#ff0000;stroke:#ff0000;\" x=\"249.649931\" xlink:href=\"#med85b3220d\" y=\"144.832593\"/>\n     <use style=\"fill:#ff0000;stroke:#ff0000;\" x=\"248.087317\" xlink:href=\"#med85b3220d\" y=\"144.114682\"/>\n     <use style=\"fill:#ff0000;stroke:#ff0000;\" x=\"333.340193\" xlink:href=\"#med85b3220d\" y=\"17.083636\"/>\n     <use style=\"fill:#ff0000;stroke:#ff0000;\" x=\"240.180332\" xlink:href=\"#med85b3220d\" y=\"140.778597\"/>\n     <use style=\"fill:#ff0000;stroke:#ff0000;\" x=\"248.342434\" xlink:href=\"#med85b3220d\" y=\"144.169811\"/>\n     <use style=\"fill:#ff0000;stroke:#ff0000;\" x=\"236.63841\" xlink:href=\"#med85b3220d\" y=\"145.12827\"/>\n     <use style=\"fill:#ff0000;stroke:#ff0000;\" x=\"230.320552\" xlink:href=\"#med85b3220d\" y=\"161.774413\"/>\n     <use style=\"fill:#ff0000;stroke:#ff0000;\" x=\"258.471603\" xlink:href=\"#med85b3220d\" y=\"146.843251\"/>\n     <use style=\"fill:#ff0000;stroke:#ff0000;\" x=\"286.401921\" xlink:href=\"#med85b3220d\" y=\"157.759155\"/>\n     <use style=\"fill:#ff0000;stroke:#ff0000;\" x=\"210.473177\" xlink:href=\"#med85b3220d\" y=\"149.986557\"/>\n     <use style=\"fill:#ff0000;stroke:#ff0000;\" x=\"274.1339\" xlink:href=\"#med85b3220d\" y=\"142.919173\"/>\n     <use style=\"fill:#ff0000;stroke:#ff0000;\" x=\"257.235275\" xlink:href=\"#med85b3220d\" y=\"145.984262\"/>\n     <use style=\"fill:#ff0000;stroke:#ff0000;\" x=\"257.358395\" xlink:href=\"#med85b3220d\" y=\"145.992736\"/>\n     <use style=\"fill:#ff0000;stroke:#ff0000;\" x=\"253.658663\" xlink:href=\"#med85b3220d\" y=\"151.168507\"/>\n     <use style=\"fill:#ff0000;stroke:#ff0000;\" x=\"215.458307\" xlink:href=\"#med85b3220d\" y=\"148.961761\"/>\n     <use style=\"fill:#ff0000;stroke:#ff0000;\" x=\"263.255699\" xlink:href=\"#med85b3220d\" y=\"144.622576\"/>\n     <use style=\"fill:#ff0000;stroke:#ff0000;\" x=\"256.482006\" xlink:href=\"#med85b3220d\" y=\"142.993455\"/>\n     <use style=\"fill:#ff0000;stroke:#ff0000;\" x=\"275.293824\" xlink:href=\"#med85b3220d\" y=\"141.319693\"/>\n     <use style=\"fill:#ff0000;stroke:#ff0000;\" x=\"279.894032\" xlink:href=\"#med85b3220d\" y=\"141.465262\"/>\n     <use style=\"fill:#ff0000;stroke:#ff0000;\" x=\"301.936037\" xlink:href=\"#med85b3220d\" y=\"140.582831\"/>\n     <use style=\"fill:#ff0000;stroke:#ff0000;\" x=\"304.953412\" xlink:href=\"#med85b3220d\" y=\"146.13935\"/>\n     <use style=\"fill:#ff0000;stroke:#ff0000;\" x=\"307.288894\" xlink:href=\"#med85b3220d\" y=\"133.894098\"/>\n     <use style=\"fill:#ff0000;stroke:#ff0000;\" x=\"263.196914\" xlink:href=\"#med85b3220d\" y=\"141.367132\"/>\n     <use style=\"fill:#ff0000;stroke:#ff0000;\" x=\"111.365199\" xlink:href=\"#med85b3220d\" y=\"155.120731\"/>\n     <use style=\"fill:#ff0000;stroke:#ff0000;\" x=\"88.527927\" xlink:href=\"#med85b3220d\" y=\"127.759254\"/>\n     <use style=\"fill:#ff0000;stroke:#ff0000;\" x=\"269.387323\" xlink:href=\"#med85b3220d\" y=\"138.204363\"/>\n     <use style=\"fill:#ff0000;stroke:#ff0000;\" x=\"272.714635\" xlink:href=\"#med85b3220d\" y=\"141.51816\"/>\n     <use style=\"fill:#ff0000;stroke:#ff0000;\" x=\"270.315357\" xlink:href=\"#med85b3220d\" y=\"148.787625\"/>\n     <use style=\"fill:#ff0000;stroke:#ff0000;\" x=\"278.61073\" xlink:href=\"#med85b3220d\" y=\"144.863303\"/>\n     <use style=\"fill:#ff0000;stroke:#ff0000;\" x=\"270.213531\" xlink:href=\"#med85b3220d\" y=\"143.631103\"/>\n     <use style=\"fill:#ff0000;stroke:#ff0000;\" x=\"90.587222\" xlink:href=\"#med85b3220d\" y=\"118.24273\"/>\n     <use style=\"fill:#ff0000;stroke:#ff0000;\" x=\"333.340193\" xlink:href=\"#med85b3220d\" y=\"17.083636\"/>\n     <use style=\"fill:#ff0000;stroke:#ff0000;\" x=\"259.176319\" xlink:href=\"#med85b3220d\" y=\"144.64597\"/>\n     <use style=\"fill:#ff0000;stroke:#ff0000;\" x=\"270.821155\" xlink:href=\"#med85b3220d\" y=\"144.705796\"/>\n     <use style=\"fill:#ff0000;stroke:#ff0000;\" x=\"252.146482\" xlink:href=\"#med85b3220d\" y=\"140.131646\"/>\n     <use style=\"fill:#ff0000;stroke:#ff0000;\" x=\"261.498751\" xlink:href=\"#med85b3220d\" y=\"141.600547\"/>\n     <use style=\"fill:#ff0000;stroke:#ff0000;\" x=\"247.728695\" xlink:href=\"#med85b3220d\" y=\"146.888406\"/>\n     <use style=\"fill:#ff0000;stroke:#ff0000;\" x=\"261.076191\" xlink:href=\"#med85b3220d\" y=\"152.348645\"/>\n     <use style=\"fill:#ff0000;stroke:#ff0000;\" x=\"272.85639\" xlink:href=\"#med85b3220d\" y=\"139.3892\"/>\n     <use style=\"fill:#ff0000;stroke:#ff0000;\" x=\"278.352194\" xlink:href=\"#med85b3220d\" y=\"145.916349\"/>\n     <use style=\"fill:#ff0000;stroke:#ff0000;\" x=\"270.342432\" xlink:href=\"#med85b3220d\" y=\"142.943129\"/>\n     <use style=\"fill:#ff0000;stroke:#ff0000;\" x=\"270.157375\" xlink:href=\"#med85b3220d\" y=\"151.644004\"/>\n     <use style=\"fill:#ff0000;stroke:#ff0000;\" x=\"291.016231\" xlink:href=\"#med85b3220d\" y=\"146.641844\"/>\n     <use style=\"fill:#ff0000;stroke:#ff0000;\" x=\"298.18287\" xlink:href=\"#med85b3220d\" y=\"140.86869\"/>\n     <use style=\"fill:#ff0000;stroke:#ff0000;\" x=\"94.205035\" xlink:href=\"#med85b3220d\" y=\"131.182508\"/>\n     <use style=\"fill:#ff0000;stroke:#ff0000;\" x=\"269.294864\" xlink:href=\"#med85b3220d\" y=\"138.650322\"/>\n     <use style=\"fill:#ff0000;stroke:#ff0000;\" x=\"279.189262\" xlink:href=\"#med85b3220d\" y=\"147.382373\"/>\n     <use style=\"fill:#ff0000;stroke:#ff0000;\" x=\"259.962158\" xlink:href=\"#med85b3220d\" y=\"151.901719\"/>\n     <use style=\"fill:#ff0000;stroke:#ff0000;\" x=\"281.741395\" xlink:href=\"#med85b3220d\" y=\"147.980269\"/>\n     <use style=\"fill:#ff0000;stroke:#ff0000;\" x=\"93.682012\" xlink:href=\"#med85b3220d\" y=\"129.128066\"/>\n     <use style=\"fill:#ff0000;stroke:#ff0000;\" x=\"298.969829\" xlink:href=\"#med85b3220d\" y=\"151.268881\"/>\n     <use style=\"fill:#ff0000;stroke:#ff0000;\" x=\"262.83409\" xlink:href=\"#med85b3220d\" y=\"144.961268\"/>\n     <use style=\"fill:#ff0000;stroke:#ff0000;\" x=\"267.855637\" xlink:href=\"#med85b3220d\" y=\"143.43128\"/>\n     <use style=\"fill:#ff0000;stroke:#ff0000;\" x=\"257.447846\" xlink:href=\"#med85b3220d\" y=\"145.061646\"/>\n     <use style=\"fill:#ff0000;stroke:#ff0000;\" x=\"281.166722\" xlink:href=\"#med85b3220d\" y=\"144.555582\"/>\n     <use style=\"fill:#ff0000;stroke:#ff0000;\" x=\"269.638979\" xlink:href=\"#med85b3220d\" y=\"145.600709\"/>\n     <use style=\"fill:#ff0000;stroke:#ff0000;\" x=\"270.763369\" xlink:href=\"#med85b3220d\" y=\"144.548333\"/>\n     <use style=\"fill:#ff0000;stroke:#ff0000;\" x=\"247.106832\" xlink:href=\"#med85b3220d\" y=\"145.444073\"/>\n     <use style=\"fill:#ff0000;stroke:#ff0000;\" x=\"284.395208\" xlink:href=\"#med85b3220d\" y=\"149.424262\"/>\n     <use style=\"fill:#ff0000;stroke:#ff0000;\" x=\"248.082671\" xlink:href=\"#med85b3220d\" y=\"150.475425\"/>\n     <use style=\"fill:#ff0000;stroke:#ff0000;\" x=\"274.330499\" xlink:href=\"#med85b3220d\" y=\"142.09077\"/>\n     <use style=\"fill:#ff0000;stroke:#ff0000;\" x=\"272.780773\" xlink:href=\"#med85b3220d\" y=\"140.334884\"/>\n     <use style=\"fill:#ff0000;stroke:#ff0000;\" x=\"275.01998\" xlink:href=\"#med85b3220d\" y=\"141.453659\"/>\n     <use style=\"fill:#ff0000;stroke:#ff0000;\" x=\"277.939065\" xlink:href=\"#med85b3220d\" y=\"143.176894\"/>\n     <use style=\"fill:#ff0000;stroke:#ff0000;\" x=\"282.440731\" xlink:href=\"#med85b3220d\" y=\"146.785912\"/>\n     <use style=\"fill:#ff0000;stroke:#ff0000;\" x=\"296.647603\" xlink:href=\"#med85b3220d\" y=\"145.531219\"/>\n     <use style=\"fill:#ff0000;stroke:#ff0000;\" x=\"262.059974\" xlink:href=\"#med85b3220d\" y=\"141.631725\"/>\n     <use style=\"fill:#ff0000;stroke:#ff0000;\" x=\"287.280782\" xlink:href=\"#med85b3220d\" y=\"142.508811\"/>\n     <use style=\"fill:#ff0000;stroke:#ff0000;\" x=\"270.594164\" xlink:href=\"#med85b3220d\" y=\"156.61596\"/>\n     <use style=\"fill:#ff0000;stroke:#ff0000;\" x=\"275.27997\" xlink:href=\"#med85b3220d\" y=\"146.443895\"/>\n     <use style=\"fill:#ff0000;stroke:#ff0000;\" x=\"269.043191\" xlink:href=\"#med85b3220d\" y=\"149.101238\"/>\n     <use style=\"fill:#ff0000;stroke:#ff0000;\" x=\"267.71708\" xlink:href=\"#med85b3220d\" y=\"148.324256\"/>\n     <use style=\"fill:#ff0000;stroke:#ff0000;\" x=\"257.916908\" xlink:href=\"#med85b3220d\" y=\"146.196757\"/>\n     <use style=\"fill:#ff0000;stroke:#ff0000;\" x=\"264.107831\" xlink:href=\"#med85b3220d\" y=\"150.371255\"/>\n     <use style=\"fill:#ff0000;stroke:#ff0000;\" x=\"256.37033\" xlink:href=\"#med85b3220d\" y=\"144.051934\"/>\n     <use style=\"fill:#ff0000;stroke:#ff0000;\" x=\"257.702646\" xlink:href=\"#med85b3220d\" y=\"150.143825\"/>\n     <use style=\"fill:#ff0000;stroke:#ff0000;\" x=\"267.248081\" xlink:href=\"#med85b3220d\" y=\"142.495433\"/>\n     <use style=\"fill:#ff0000;stroke:#ff0000;\" x=\"259.941464\" xlink:href=\"#med85b3220d\" y=\"151.354123\"/>\n     <use style=\"fill:#ff0000;stroke:#ff0000;\" x=\"255.476253\" xlink:href=\"#med85b3220d\" y=\"152.046342\"/>\n     <use style=\"fill:#ff0000;stroke:#ff0000;\" x=\"254.482873\" xlink:href=\"#med85b3220d\" y=\"150.828428\"/>\n     <use style=\"fill:#ff0000;stroke:#ff0000;\" x=\"249.359422\" xlink:href=\"#med85b3220d\" y=\"152.174804\"/>\n     <use style=\"fill:#ff0000;stroke:#ff0000;\" x=\"253.814412\" xlink:href=\"#med85b3220d\" y=\"147.684379\"/>\n     <use style=\"fill:#ff0000;stroke:#ff0000;\" x=\"265.046023\" xlink:href=\"#med85b3220d\" y=\"150.25437\"/>\n     <use style=\"fill:#ff0000;stroke:#ff0000;\" x=\"251.776344\" xlink:href=\"#med85b3220d\" y=\"146.074249\"/>\n     <use style=\"fill:#ff0000;stroke:#ff0000;\" x=\"248.179489\" xlink:href=\"#med85b3220d\" y=\"148.121768\"/>\n     <use style=\"fill:#ff0000;stroke:#ff0000;\" x=\"248.088624\" xlink:href=\"#med85b3220d\" y=\"151.226403\"/>\n     <use style=\"fill:#ff0000;stroke:#ff0000;\" x=\"216.59766\" xlink:href=\"#med85b3220d\" y=\"150.228335\"/>\n     <use style=\"fill:#ff0000;stroke:#ff0000;\" x=\"261.200059\" xlink:href=\"#med85b3220d\" y=\"151.77181\"/>\n     <use style=\"fill:#ff0000;stroke:#ff0000;\" x=\"261.298412\" xlink:href=\"#med85b3220d\" y=\"150.852487\"/>\n     <use style=\"fill:#ff0000;stroke:#ff0000;\" x=\"249.234249\" xlink:href=\"#med85b3220d\" y=\"148.444156\"/>\n     <use style=\"fill:#ff0000;stroke:#ff0000;\" x=\"254.848927\" xlink:href=\"#med85b3220d\" y=\"145.578996\"/>\n     <use style=\"fill:#ff0000;stroke:#ff0000;\" x=\"254.672988\" xlink:href=\"#med85b3220d\" y=\"157.844027\"/>\n     <use style=\"fill:#ff0000;stroke:#ff0000;\" x=\"86.945525\" xlink:href=\"#med85b3220d\" y=\"125.340361\"/>\n     <use style=\"fill:#ff0000;stroke:#ff0000;\" x=\"333.340193\" xlink:href=\"#med85b3220d\" y=\"17.083636\"/>\n     <use style=\"fill:#ff0000;stroke:#ff0000;\" x=\"267.98659\" xlink:href=\"#med85b3220d\" y=\"151.308628\"/>\n     <use style=\"fill:#ff0000;stroke:#ff0000;\" x=\"269.938025\" xlink:href=\"#med85b3220d\" y=\"145.670394\"/>\n     <use style=\"fill:#ff0000;stroke:#ff0000;\" x=\"260.230854\" xlink:href=\"#med85b3220d\" y=\"139.034125\"/>\n     <use style=\"fill:#ff0000;stroke:#ff0000;\" x=\"275.220065\" xlink:href=\"#med85b3220d\" y=\"150.432827\"/>\n     <use style=\"fill:#ff0000;stroke:#ff0000;\" x=\"79.826722\" xlink:href=\"#med85b3220d\" y=\"119.782436\"/>\n     <use style=\"fill:#ff0000;stroke:#ff0000;\" x=\"282.541979\" xlink:href=\"#med85b3220d\" y=\"142.403916\"/>\n     <use style=\"fill:#ff0000;stroke:#ff0000;\" x=\"265.24792\" xlink:href=\"#med85b3220d\" y=\"145.630769\"/>\n     <use style=\"fill:#ff0000;stroke:#ff0000;\" x=\"269.115283\" xlink:href=\"#med85b3220d\" y=\"146.733122\"/>\n     <use style=\"fill:#ff0000;stroke:#ff0000;\" x=\"282.620546\" xlink:href=\"#med85b3220d\" y=\"143.052414\"/>\n     <use style=\"fill:#ff0000;stroke:#ff0000;\" x=\"269.287372\" xlink:href=\"#med85b3220d\" y=\"143.969771\"/>\n     <use style=\"fill:#ff0000;stroke:#ff0000;\" x=\"285.358629\" xlink:href=\"#med85b3220d\" y=\"143.464564\"/>\n     <use style=\"fill:#ff0000;stroke:#ff0000;\" x=\"279.44136\" xlink:href=\"#med85b3220d\" y=\"140.577069\"/>\n     <use style=\"fill:#ff0000;stroke:#ff0000;\" x=\"266.501926\" xlink:href=\"#med85b3220d\" y=\"147.636638\"/>\n     <use style=\"fill:#ff0000;stroke:#ff0000;\" x=\"295.914653\" xlink:href=\"#med85b3220d\" y=\"146.856498\"/>\n     <use style=\"fill:#ff0000;stroke:#ff0000;\" x=\"281.891235\" xlink:href=\"#med85b3220d\" y=\"144.064859\"/>\n     <use style=\"fill:#ff0000;stroke:#ff0000;\" x=\"280.700245\" xlink:href=\"#med85b3220d\" y=\"146.043307\"/>\n     <use style=\"fill:#ff0000;stroke:#ff0000;\" x=\"261.470514\" xlink:href=\"#med85b3220d\" y=\"139.094426\"/>\n     <use style=\"fill:#ff0000;stroke:#ff0000;\" x=\"304.831769\" xlink:href=\"#med85b3220d\" y=\"136.979031\"/>\n     <use style=\"fill:#ff0000;stroke:#ff0000;\" x=\"270.459346\" xlink:href=\"#med85b3220d\" y=\"154.304769\"/>\n     <use style=\"fill:#ff0000;stroke:#ff0000;\" x=\"267.201722\" xlink:href=\"#med85b3220d\" y=\"139.307538\"/>\n     <use style=\"fill:#ff0000;stroke:#ff0000;\" x=\"264.544225\" xlink:href=\"#med85b3220d\" y=\"150.879975\"/>\n     <use style=\"fill:#ff0000;stroke:#ff0000;\" x=\"277.041629\" xlink:href=\"#med85b3220d\" y=\"142.226602\"/>\n     <use style=\"fill:#ff0000;stroke:#ff0000;\" x=\"270.149119\" xlink:href=\"#med85b3220d\" y=\"144.125178\"/>\n     <use style=\"fill:#ff0000;stroke:#ff0000;\" x=\"277.726525\" xlink:href=\"#med85b3220d\" y=\"144.554457\"/>\n     <use style=\"fill:#ff0000;stroke:#ff0000;\" x=\"285.273484\" xlink:href=\"#med85b3220d\" y=\"138.560536\"/>\n     <use style=\"fill:#ff0000;stroke:#ff0000;\" x=\"284.266501\" xlink:href=\"#med85b3220d\" y=\"145.313677\"/>\n     <use style=\"fill:#ff0000;stroke:#ff0000;\" x=\"265.823338\" xlink:href=\"#med85b3220d\" y=\"141.869733\"/>\n     <use style=\"fill:#ff0000;stroke:#ff0000;\" x=\"276.794726\" xlink:href=\"#med85b3220d\" y=\"148.823448\"/>\n     <use style=\"fill:#ff0000;stroke:#ff0000;\" x=\"297.444258\" xlink:href=\"#med85b3220d\" y=\"149.513508\"/>\n     <use style=\"fill:#ff0000;stroke:#ff0000;\" x=\"91.725972\" xlink:href=\"#med85b3220d\" y=\"123.344949\"/>\n     <use style=\"fill:#ff0000;stroke:#ff0000;\" x=\"92.217427\" xlink:href=\"#med85b3220d\" y=\"126.976828\"/>\n     <use style=\"fill:#ff0000;stroke:#ff0000;\" x=\"260.553932\" xlink:href=\"#med85b3220d\" y=\"157.467963\"/>\n     <use style=\"fill:#ff0000;stroke:#ff0000;\" x=\"286.465443\" xlink:href=\"#med85b3220d\" y=\"145.523864\"/>\n     <use style=\"fill:#ff0000;stroke:#ff0000;\" x=\"257.425617\" xlink:href=\"#med85b3220d\" y=\"140.551575\"/>\n     <use style=\"fill:#ff0000;stroke:#ff0000;\" x=\"268.23716\" xlink:href=\"#med85b3220d\" y=\"146.505245\"/>\n     <use style=\"fill:#ff0000;stroke:#ff0000;\" x=\"264.617458\" xlink:href=\"#med85b3220d\" y=\"146.039655\"/>\n     <use style=\"fill:#ff0000;stroke:#ff0000;\" x=\"272.216922\" xlink:href=\"#med85b3220d\" y=\"140.319091\"/>\n     <use style=\"fill:#ff0000;stroke:#ff0000;\" x=\"258.160921\" xlink:href=\"#med85b3220d\" y=\"143.10266\"/>\n     <use style=\"fill:#ff0000;stroke:#ff0000;\" x=\"306.946809\" xlink:href=\"#med85b3220d\" y=\"147.948659\"/>\n     <use style=\"fill:#ff0000;stroke:#ff0000;\" x=\"275.382148\" xlink:href=\"#med85b3220d\" y=\"148.335559\"/>\n     <use style=\"fill:#ff0000;stroke:#ff0000;\" x=\"258.351434\" xlink:href=\"#med85b3220d\" y=\"143.527607\"/>\n     <use style=\"fill:#ff0000;stroke:#ff0000;\" x=\"280.714887\" xlink:href=\"#med85b3220d\" y=\"142.995132\"/>\n     <use style=\"fill:#ff0000;stroke:#ff0000;\" x=\"284.762638\" xlink:href=\"#med85b3220d\" y=\"148.314286\"/>\n     <use style=\"fill:#ff0000;stroke:#ff0000;\" x=\"282.297311\" xlink:href=\"#med85b3220d\" y=\"143.65867\"/>\n     <use style=\"fill:#ff0000;stroke:#ff0000;\" x=\"306.489643\" xlink:href=\"#med85b3220d\" y=\"140.433079\"/>\n     <use style=\"fill:#ff0000;stroke:#ff0000;\" x=\"259.832937\" xlink:href=\"#med85b3220d\" y=\"147.530678\"/>\n     <use style=\"fill:#ff0000;stroke:#ff0000;\" x=\"300.982198\" xlink:href=\"#med85b3220d\" y=\"142.914907\"/>\n     <use style=\"fill:#ff0000;stroke:#ff0000;\" x=\"274.284442\" xlink:href=\"#med85b3220d\" y=\"136.057548\"/>\n     <use style=\"fill:#ff0000;stroke:#ff0000;\" x=\"262.648102\" xlink:href=\"#med85b3220d\" y=\"149.650142\"/>\n     <use style=\"fill:#ff0000;stroke:#ff0000;\" x=\"247.563012\" xlink:href=\"#med85b3220d\" y=\"147.821856\"/>\n     <use style=\"fill:#ff0000;stroke:#ff0000;\" x=\"276.411685\" xlink:href=\"#med85b3220d\" y=\"142.005883\"/>\n     <use style=\"fill:#ff0000;stroke:#ff0000;\" x=\"272.169995\" xlink:href=\"#med85b3220d\" y=\"144.472218\"/>\n     <use style=\"fill:#ff0000;stroke:#ff0000;\" x=\"272.383739\" xlink:href=\"#med85b3220d\" y=\"144.388586\"/>\n     <use style=\"fill:#ff0000;stroke:#ff0000;\" x=\"270.148374\" xlink:href=\"#med85b3220d\" y=\"143.709411\"/>\n     <use style=\"fill:#ff0000;stroke:#ff0000;\" x=\"259.566271\" xlink:href=\"#med85b3220d\" y=\"151.119439\"/>\n     <use style=\"fill:#ff0000;stroke:#ff0000;\" x=\"313.327129\" xlink:href=\"#med85b3220d\" y=\"135.203048\"/>\n     <use style=\"fill:#ff0000;stroke:#ff0000;\" x=\"258.506641\" xlink:href=\"#med85b3220d\" y=\"144.787412\"/>\n     <use style=\"fill:#ff0000;stroke:#ff0000;\" x=\"259.912954\" xlink:href=\"#med85b3220d\" y=\"144.644187\"/>\n     <use style=\"fill:#ff0000;stroke:#ff0000;\" x=\"364.427131\" xlink:href=\"#med85b3220d\" y=\"87.245294\"/>\n     <use style=\"fill:#ff0000;stroke:#ff0000;\" x=\"259.520486\" xlink:href=\"#med85b3220d\" y=\"144.769016\"/>\n     <use style=\"fill:#ff0000;stroke:#ff0000;\" x=\"274.217762\" xlink:href=\"#med85b3220d\" y=\"143.520673\"/>\n     <use style=\"fill:#ff0000;stroke:#ff0000;\" x=\"281.912903\" xlink:href=\"#med85b3220d\" y=\"154.492278\"/>\n     <use style=\"fill:#ff0000;stroke:#ff0000;\" x=\"283.507326\" xlink:href=\"#med85b3220d\" y=\"146.448539\"/>\n     <use style=\"fill:#ff0000;stroke:#ff0000;\" x=\"266.337941\" xlink:href=\"#med85b3220d\" y=\"147.967699\"/>\n     <use style=\"fill:#ff0000;stroke:#ff0000;\" x=\"256.406082\" xlink:href=\"#med85b3220d\" y=\"147.692805\"/>\n     <use style=\"fill:#ff0000;stroke:#ff0000;\" x=\"259.804535\" xlink:href=\"#med85b3220d\" y=\"147.254661\"/>\n     <use style=\"fill:#ff0000;stroke:#ff0000;\" x=\"262.919862\" xlink:href=\"#med85b3220d\" y=\"146.05354\"/>\n     <use style=\"fill:#ff0000;stroke:#ff0000;\" x=\"251.655058\" xlink:href=\"#med85b3220d\" y=\"146.009544\"/>\n     <use style=\"fill:#ff0000;stroke:#ff0000;\" x=\"269.083778\" xlink:href=\"#med85b3220d\" y=\"155.947795\"/>\n     <use style=\"fill:#ff0000;stroke:#ff0000;\" x=\"269.887769\" xlink:href=\"#med85b3220d\" y=\"148.082237\"/>\n     <use style=\"fill:#ff0000;stroke:#ff0000;\" x=\"232.491655\" xlink:href=\"#med85b3220d\" y=\"147.281123\"/>\n     <use style=\"fill:#ff0000;stroke:#ff0000;\" x=\"166.24363\" xlink:href=\"#med85b3220d\" y=\"160.120965\"/>\n     <use style=\"fill:#ff0000;stroke:#ff0000;\" x=\"261.867289\" xlink:href=\"#med85b3220d\" y=\"146.556578\"/>\n     <use style=\"fill:#ff0000;stroke:#ff0000;\" x=\"276.561661\" xlink:href=\"#med85b3220d\" y=\"146.346367\"/>\n     <use style=\"fill:#ff0000;stroke:#ff0000;\" x=\"256.298434\" xlink:href=\"#med85b3220d\" y=\"151.766046\"/>\n     <use style=\"fill:#ff0000;stroke:#ff0000;\" x=\"263.630551\" xlink:href=\"#med85b3220d\" y=\"146.196344\"/>\n     <use style=\"fill:#ff0000;stroke:#ff0000;\" x=\"248.291344\" xlink:href=\"#med85b3220d\" y=\"150.462399\"/>\n     <use style=\"fill:#ff0000;stroke:#ff0000;\" x=\"258.435081\" xlink:href=\"#med85b3220d\" y=\"151.86527\"/>\n     <use style=\"fill:#ff0000;stroke:#ff0000;\" x=\"96.208629\" xlink:href=\"#med85b3220d\" y=\"129.707959\"/>\n     <use style=\"fill:#ff0000;stroke:#ff0000;\" x=\"235.897809\" xlink:href=\"#med85b3220d\" y=\"143.499515\"/>\n     <use style=\"fill:#ff0000;stroke:#ff0000;\" x=\"248.722902\" xlink:href=\"#med85b3220d\" y=\"150.32635\"/>\n     <use style=\"fill:#ff0000;stroke:#ff0000;\" x=\"258.907031\" xlink:href=\"#med85b3220d\" y=\"151.743392\"/>\n     <use style=\"fill:#ff0000;stroke:#ff0000;\" x=\"256.43069\" xlink:href=\"#med85b3220d\" y=\"151.622881\"/>\n     <use style=\"fill:#ff0000;stroke:#ff0000;\" x=\"251.753145\" xlink:href=\"#med85b3220d\" y=\"153.38211\"/>\n     <use style=\"fill:#ff0000;stroke:#ff0000;\" x=\"263.619499\" xlink:href=\"#med85b3220d\" y=\"146.370958\"/>\n     <use style=\"fill:#ff0000;stroke:#ff0000;\" x=\"255.491722\" xlink:href=\"#med85b3220d\" y=\"146.937364\"/>\n     <use style=\"fill:#ff0000;stroke:#ff0000;\" x=\"279.245277\" xlink:href=\"#med85b3220d\" y=\"145.906125\"/>\n     <use style=\"fill:#ff0000;stroke:#ff0000;\" x=\"287.07504\" xlink:href=\"#med85b3220d\" y=\"149.0011\"/>\n     <use style=\"fill:#ff0000;stroke:#ff0000;\" x=\"274.393566\" xlink:href=\"#med85b3220d\" y=\"151.504135\"/>\n     <use style=\"fill:#ff0000;stroke:#ff0000;\" x=\"272.299555\" xlink:href=\"#med85b3220d\" y=\"148.115762\"/>\n     <use style=\"fill:#ff0000;stroke:#ff0000;\" x=\"282.970055\" xlink:href=\"#med85b3220d\" y=\"150.786823\"/>\n     <use style=\"fill:#ff0000;stroke:#ff0000;\" x=\"281.410717\" xlink:href=\"#med85b3220d\" y=\"150.290877\"/>\n     <use style=\"fill:#ff0000;stroke:#ff0000;\" x=\"271.194545\" xlink:href=\"#med85b3220d\" y=\"148.118247\"/>\n     <use style=\"fill:#ff0000;stroke:#ff0000;\" x=\"273.223948\" xlink:href=\"#med85b3220d\" y=\"146.898756\"/>\n     <use style=\"fill:#ff0000;stroke:#ff0000;\" x=\"287.159229\" xlink:href=\"#med85b3220d\" y=\"149.027369\"/>\n     <use style=\"fill:#ff0000;stroke:#ff0000;\" x=\"276.648467\" xlink:href=\"#med85b3220d\" y=\"147.086869\"/>\n     <use style=\"fill:#ff0000;stroke:#ff0000;\" x=\"99.693187\" xlink:href=\"#med85b3220d\" y=\"147.009546\"/>\n     <use style=\"fill:#ff0000;stroke:#ff0000;\" x=\"77.992669\" xlink:href=\"#med85b3220d\" y=\"165.4193\"/>\n     <use style=\"fill:#ff0000;stroke:#ff0000;\" x=\"277.170039\" xlink:href=\"#med85b3220d\" y=\"145.883414\"/>\n     <use style=\"fill:#ff0000;stroke:#ff0000;\" x=\"274.347618\" xlink:href=\"#med85b3220d\" y=\"142.998198\"/>\n     <use style=\"fill:#ff0000;stroke:#ff0000;\" x=\"257.418952\" xlink:href=\"#med85b3220d\" y=\"145.784151\"/>\n     <use style=\"fill:#ff0000;stroke:#ff0000;\" x=\"255.922811\" xlink:href=\"#med85b3220d\" y=\"145.387633\"/>\n     <use style=\"fill:#ff0000;stroke:#ff0000;\" x=\"278.787545\" xlink:href=\"#med85b3220d\" y=\"147.087534\"/>\n     <use style=\"fill:#ff0000;stroke:#ff0000;\" x=\"269.011621\" xlink:href=\"#med85b3220d\" y=\"144.788963\"/>\n     <use style=\"fill:#ff0000;stroke:#ff0000;\" x=\"270.550526\" xlink:href=\"#med85b3220d\" y=\"150.339607\"/>\n     <use style=\"fill:#ff0000;stroke:#ff0000;\" x=\"278.583984\" xlink:href=\"#med85b3220d\" y=\"147.859413\"/>\n     <use style=\"fill:#ff0000;stroke:#ff0000;\" x=\"280.542649\" xlink:href=\"#med85b3220d\" y=\"148.505123\"/>\n     <use style=\"fill:#ff0000;stroke:#ff0000;\" x=\"78.897702\" xlink:href=\"#med85b3220d\" y=\"150.026854\"/>\n     <use style=\"fill:#ff0000;stroke:#ff0000;\" x=\"79.456242\" xlink:href=\"#med85b3220d\" y=\"148.974171\"/>\n     <use style=\"fill:#ff0000;stroke:#ff0000;\" x=\"271.250478\" xlink:href=\"#med85b3220d\" y=\"149.055012\"/>\n     <use style=\"fill:#ff0000;stroke:#ff0000;\" x=\"276.19034\" xlink:href=\"#med85b3220d\" y=\"151.195879\"/>\n     <use style=\"fill:#ff0000;stroke:#ff0000;\" x=\"274.738368\" xlink:href=\"#med85b3220d\" y=\"147.697697\"/>\n     <use style=\"fill:#ff0000;stroke:#ff0000;\" x=\"279.922395\" xlink:href=\"#med85b3220d\" y=\"146.612773\"/>\n     <use style=\"fill:#ff0000;stroke:#ff0000;\" x=\"254.79642\" xlink:href=\"#med85b3220d\" y=\"144.151284\"/>\n     <use style=\"fill:#ff0000;stroke:#ff0000;\" x=\"253.632452\" xlink:href=\"#med85b3220d\" y=\"147.39339\"/>\n     <use style=\"fill:#ff0000;stroke:#ff0000;\" x=\"273.708825\" xlink:href=\"#med85b3220d\" y=\"147.376061\"/>\n     <use style=\"fill:#ff0000;stroke:#ff0000;\" x=\"238.989988\" xlink:href=\"#med85b3220d\" y=\"153.26031\"/>\n     <use style=\"fill:#ff0000;stroke:#ff0000;\" x=\"238.389305\" xlink:href=\"#med85b3220d\" y=\"153.924386\"/>\n     <use style=\"fill:#ff0000;stroke:#ff0000;\" x=\"237.983186\" xlink:href=\"#med85b3220d\" y=\"154.049577\"/>\n     <use style=\"fill:#ff0000;stroke:#ff0000;\" x=\"263.838571\" xlink:href=\"#med85b3220d\" y=\"154.310347\"/>\n     <use style=\"fill:#ff0000;stroke:#ff0000;\" x=\"257.884377\" xlink:href=\"#med85b3220d\" y=\"147.199532\"/>\n     <use style=\"fill:#ff0000;stroke:#ff0000;\" x=\"259.997197\" xlink:href=\"#med85b3220d\" y=\"143.767256\"/>\n     <use style=\"fill:#ff0000;stroke:#ff0000;\" x=\"266.530152\" xlink:href=\"#med85b3220d\" y=\"150.033597\"/>\n     <use style=\"fill:#ff0000;stroke:#ff0000;\" x=\"262.48414\" xlink:href=\"#med85b3220d\" y=\"148.721143\"/>\n     <use style=\"fill:#ff0000;stroke:#ff0000;\" x=\"283.217603\" xlink:href=\"#med85b3220d\" y=\"144.337391\"/>\n     <use style=\"fill:#ff0000;stroke:#ff0000;\" x=\"259.547526\" xlink:href=\"#med85b3220d\" y=\"142.625055\"/>\n     <use style=\"fill:#ff0000;stroke:#ff0000;\" x=\"262.934117\" xlink:href=\"#med85b3220d\" y=\"146.839483\"/>\n     <use style=\"fill:#ff0000;stroke:#ff0000;\" x=\"275.224419\" xlink:href=\"#med85b3220d\" y=\"146.438657\"/>\n     <use style=\"fill:#ff0000;stroke:#ff0000;\" x=\"263.737424\" xlink:href=\"#med85b3220d\" y=\"143.991521\"/>\n     <use style=\"fill:#ff0000;stroke:#ff0000;\" x=\"248.347417\" xlink:href=\"#med85b3220d\" y=\"148.391753\"/>\n     <use style=\"fill:#ff0000;stroke:#ff0000;\" x=\"259.154754\" xlink:href=\"#med85b3220d\" y=\"149.547582\"/>\n     <use style=\"fill:#ff0000;stroke:#ff0000;\" x=\"258.615629\" xlink:href=\"#med85b3220d\" y=\"149.61803\"/>\n     <use style=\"fill:#ff0000;stroke:#ff0000;\" x=\"258.711539\" xlink:href=\"#med85b3220d\" y=\"148.811307\"/>\n     <use style=\"fill:#ff0000;stroke:#ff0000;\" x=\"260.404829\" xlink:href=\"#med85b3220d\" y=\"149.4304\"/>\n     <use style=\"fill:#ff0000;stroke:#ff0000;\" x=\"258.497406\" xlink:href=\"#med85b3220d\" y=\"149.62142\"/>\n     <use style=\"fill:#ff0000;stroke:#ff0000;\" x=\"259.776537\" xlink:href=\"#med85b3220d\" y=\"149.46314\"/>\n     <use style=\"fill:#ff0000;stroke:#ff0000;\" x=\"262.907514\" xlink:href=\"#med85b3220d\" y=\"145.983973\"/>\n     <use style=\"fill:#ff0000;stroke:#ff0000;\" x=\"93.044225\" xlink:href=\"#med85b3220d\" y=\"128.861157\"/>\n     <use style=\"fill:#ff0000;stroke:#ff0000;\" x=\"273.710283\" xlink:href=\"#med85b3220d\" y=\"142.944189\"/>\n     <use style=\"fill:#ff0000;stroke:#ff0000;\" x=\"282.046292\" xlink:href=\"#med85b3220d\" y=\"145.659929\"/>\n     <use style=\"fill:#ff0000;stroke:#ff0000;\" x=\"266.746105\" xlink:href=\"#med85b3220d\" y=\"148.967862\"/>\n     <use style=\"fill:#ff0000;stroke:#ff0000;\" x=\"275.868652\" xlink:href=\"#med85b3220d\" y=\"144.730112\"/>\n     <use style=\"fill:#ff0000;stroke:#ff0000;\" x=\"264.846725\" xlink:href=\"#med85b3220d\" y=\"144.903331\"/>\n     <use style=\"fill:#ff0000;stroke:#ff0000;\" x=\"251.331591\" xlink:href=\"#med85b3220d\" y=\"146.267438\"/>\n     <use style=\"fill:#ff0000;stroke:#ff0000;\" x=\"263.791841\" xlink:href=\"#med85b3220d\" y=\"144.713257\"/>\n     <use style=\"fill:#ff0000;stroke:#ff0000;\" x=\"287.504673\" xlink:href=\"#med85b3220d\" y=\"146.514292\"/>\n     <use style=\"fill:#ff0000;stroke:#ff0000;\" x=\"245.656784\" xlink:href=\"#med85b3220d\" y=\"149.547736\"/>\n     <use style=\"fill:#ff0000;stroke:#ff0000;\" x=\"250.430664\" xlink:href=\"#med85b3220d\" y=\"147.577829\"/>\n     <use style=\"fill:#ff0000;stroke:#ff0000;\" x=\"271.834458\" xlink:href=\"#med85b3220d\" y=\"146.211247\"/>\n     <use style=\"fill:#ff0000;stroke:#ff0000;\" x=\"234.345243\" xlink:href=\"#med85b3220d\" y=\"152.038084\"/>\n    </g>\n   </g>\n   <g id=\"PathCollection_2\">\n    <defs>\n     <path d=\"M 0 2.236068 \nC 0.593012 2.236068 1.161816 2.000462 1.581139 1.581139 \nC 2.000462 1.161816 2.236068 0.593012 2.236068 0 \nC 2.236068 -0.593012 2.000462 -1.161816 1.581139 -1.581139 \nC 1.161816 -2.000462 0.593012 -2.236068 0 -2.236068 \nC -0.593012 -2.236068 -1.161816 -2.000462 -1.581139 -1.581139 \nC -2.000462 -1.161816 -2.236068 -0.593012 -2.236068 0 \nC -2.236068 0.593012 -2.000462 1.161816 -1.581139 1.581139 \nC -1.161816 2.000462 -0.593012 2.236068 0 2.236068 \nz\n\" id=\"m393f6c7566\" style=\"stroke:#0000ff;\"/>\n    </defs>\n    <g clip-path=\"url(#p5fbb0474f4)\">\n     <use style=\"fill:#0000ff;stroke:#0000ff;\" x=\"273.565022\" xlink:href=\"#m393f6c7566\" y=\"144.945464\"/>\n     <use style=\"fill:#0000ff;stroke:#0000ff;\" x=\"273.565022\" xlink:href=\"#m393f6c7566\" y=\"144.945464\"/>\n     <use style=\"fill:#0000ff;stroke:#0000ff;\" x=\"273.565022\" xlink:href=\"#m393f6c7566\" y=\"144.945464\"/>\n     <use style=\"fill:#0000ff;stroke:#0000ff;\" x=\"246.06055\" xlink:href=\"#m393f6c7566\" y=\"149.13588\"/>\n     <use style=\"fill:#0000ff;stroke:#0000ff;\" x=\"250.39636\" xlink:href=\"#m393f6c7566\" y=\"143.85719\"/>\n     <use style=\"fill:#0000ff;stroke:#0000ff;\" x=\"247.921881\" xlink:href=\"#m393f6c7566\" y=\"151.420557\"/>\n     <use style=\"fill:#0000ff;stroke:#0000ff;\" x=\"248.141517\" xlink:href=\"#m393f6c7566\" y=\"146.68599\"/>\n     <use style=\"fill:#0000ff;stroke:#0000ff;\" x=\"259.546075\" xlink:href=\"#m393f6c7566\" y=\"148.778089\"/>\n     <use style=\"fill:#0000ff;stroke:#0000ff;\" x=\"248.186627\" xlink:href=\"#m393f6c7566\" y=\"151.460173\"/>\n     <use style=\"fill:#0000ff;stroke:#0000ff;\" x=\"258.444793\" xlink:href=\"#m393f6c7566\" y=\"152.794456\"/>\n     <use style=\"fill:#0000ff;stroke:#0000ff;\" x=\"280.523518\" xlink:href=\"#m393f6c7566\" y=\"145.895779\"/>\n     <use style=\"fill:#0000ff;stroke:#0000ff;\" x=\"245.904468\" xlink:href=\"#m393f6c7566\" y=\"149.289243\"/>\n     <use style=\"fill:#0000ff;stroke:#0000ff;\" x=\"246.552544\" xlink:href=\"#m393f6c7566\" y=\"148.011266\"/>\n     <use style=\"fill:#0000ff;stroke:#0000ff;\" x=\"83.503825\" xlink:href=\"#m393f6c7566\" y=\"137.644858\"/>\n     <use style=\"fill:#0000ff;stroke:#0000ff;\" x=\"266.828886\" xlink:href=\"#m393f6c7566\" y=\"149.928696\"/>\n     <use style=\"fill:#0000ff;stroke:#0000ff;\" x=\"266.828886\" xlink:href=\"#m393f6c7566\" y=\"149.928696\"/>\n     <use style=\"fill:#0000ff;stroke:#0000ff;\" x=\"280.469677\" xlink:href=\"#m393f6c7566\" y=\"145.863492\"/>\n     <use style=\"fill:#0000ff;stroke:#0000ff;\" x=\"251.874754\" xlink:href=\"#m393f6c7566\" y=\"146.082175\"/>\n     <use style=\"fill:#0000ff;stroke:#0000ff;\" x=\"274.358503\" xlink:href=\"#m393f6c7566\" y=\"140.303259\"/>\n     <use style=\"fill:#0000ff;stroke:#0000ff;\" x=\"233.988105\" xlink:href=\"#m393f6c7566\" y=\"146.085801\"/>\n     <use style=\"fill:#0000ff;stroke:#0000ff;\" x=\"260.360712\" xlink:href=\"#m393f6c7566\" y=\"145.373406\"/>\n     <use style=\"fill:#0000ff;stroke:#0000ff;\" x=\"265.0733\" xlink:href=\"#m393f6c7566\" y=\"147.301789\"/>\n     <use style=\"fill:#0000ff;stroke:#0000ff;\" x=\"251.874754\" xlink:href=\"#m393f6c7566\" y=\"146.082175\"/>\n     <use style=\"fill:#0000ff;stroke:#0000ff;\" x=\"265.0733\" xlink:href=\"#m393f6c7566\" y=\"147.301789\"/>\n     <use style=\"fill:#0000ff;stroke:#0000ff;\" x=\"265.0733\" xlink:href=\"#m393f6c7566\" y=\"147.301789\"/>\n     <use style=\"fill:#0000ff;stroke:#0000ff;\" x=\"265.0733\" xlink:href=\"#m393f6c7566\" y=\"147.301789\"/>\n     <use style=\"fill:#0000ff;stroke:#0000ff;\" x=\"265.0733\" xlink:href=\"#m393f6c7566\" y=\"147.301789\"/>\n     <use style=\"fill:#0000ff;stroke:#0000ff;\" x=\"265.0733\" xlink:href=\"#m393f6c7566\" y=\"147.301789\"/>\n     <use style=\"fill:#0000ff;stroke:#0000ff;\" x=\"265.0733\" xlink:href=\"#m393f6c7566\" y=\"147.301789\"/>\n     <use style=\"fill:#0000ff;stroke:#0000ff;\" x=\"251.874754\" xlink:href=\"#m393f6c7566\" y=\"146.082175\"/>\n     <use style=\"fill:#0000ff;stroke:#0000ff;\" x=\"251.874754\" xlink:href=\"#m393f6c7566\" y=\"146.082175\"/>\n     <use style=\"fill:#0000ff;stroke:#0000ff;\" x=\"251.874754\" xlink:href=\"#m393f6c7566\" y=\"146.082175\"/>\n     <use style=\"fill:#0000ff;stroke:#0000ff;\" x=\"257.254884\" xlink:href=\"#m393f6c7566\" y=\"152.081616\"/>\n     <use style=\"fill:#0000ff;stroke:#0000ff;\" x=\"267.745078\" xlink:href=\"#m393f6c7566\" y=\"146.824538\"/>\n     <use style=\"fill:#0000ff;stroke:#0000ff;\" x=\"265.012309\" xlink:href=\"#m393f6c7566\" y=\"145.076404\"/>\n     <use style=\"fill:#0000ff;stroke:#0000ff;\" x=\"265.012309\" xlink:href=\"#m393f6c7566\" y=\"145.076404\"/>\n     <use style=\"fill:#0000ff;stroke:#0000ff;\" x=\"263.940666\" xlink:href=\"#m393f6c7566\" y=\"150.4068\"/>\n     <use style=\"fill:#0000ff;stroke:#0000ff;\" x=\"261.832153\" xlink:href=\"#m393f6c7566\" y=\"151.013671\"/>\n     <use style=\"fill:#0000ff;stroke:#0000ff;\" x=\"260.751832\" xlink:href=\"#m393f6c7566\" y=\"151.762383\"/>\n     <use style=\"fill:#0000ff;stroke:#0000ff;\" x=\"268.70428\" xlink:href=\"#m393f6c7566\" y=\"148.863572\"/>\n     <use style=\"fill:#0000ff;stroke:#0000ff;\" x=\"268.70428\" xlink:href=\"#m393f6c7566\" y=\"148.863572\"/>\n     <use style=\"fill:#0000ff;stroke:#0000ff;\" x=\"251.588218\" xlink:href=\"#m393f6c7566\" y=\"151.808743\"/>\n     <use style=\"fill:#0000ff;stroke:#0000ff;\" x=\"251.588218\" xlink:href=\"#m393f6c7566\" y=\"151.808743\"/>\n     <use style=\"fill:#0000ff;stroke:#0000ff;\" x=\"123.367289\" xlink:href=\"#m393f6c7566\" y=\"162.505796\"/>\n     <use style=\"fill:#0000ff;stroke:#0000ff;\" x=\"280.481789\" xlink:href=\"#m393f6c7566\" y=\"145.235637\"/>\n     <use style=\"fill:#0000ff;stroke:#0000ff;\" x=\"158.49962\" xlink:href=\"#m393f6c7566\" y=\"152.688676\"/>\n     <use style=\"fill:#0000ff;stroke:#0000ff;\" x=\"136.163042\" xlink:href=\"#m393f6c7566\" y=\"156.289415\"/>\n     <use style=\"fill:#0000ff;stroke:#0000ff;\" x=\"256.716374\" xlink:href=\"#m393f6c7566\" y=\"148.108334\"/>\n     <use style=\"fill:#0000ff;stroke:#0000ff;\" x=\"258.521823\" xlink:href=\"#m393f6c7566\" y=\"138.773055\"/>\n     <use style=\"fill:#0000ff;stroke:#0000ff;\" x=\"264.752613\" xlink:href=\"#m393f6c7566\" y=\"146.573128\"/>\n     <use style=\"fill:#0000ff;stroke:#0000ff;\" x=\"263.724268\" xlink:href=\"#m393f6c7566\" y=\"148.846206\"/>\n     <use style=\"fill:#0000ff;stroke:#0000ff;\" x=\"249.797528\" xlink:href=\"#m393f6c7566\" y=\"144.847341\"/>\n     <use style=\"fill:#0000ff;stroke:#0000ff;\" x=\"273.960291\" xlink:href=\"#m393f6c7566\" y=\"144.933806\"/>\n     <use style=\"fill:#0000ff;stroke:#0000ff;\" x=\"273.399607\" xlink:href=\"#m393f6c7566\" y=\"145.124524\"/>\n     <use style=\"fill:#0000ff;stroke:#0000ff;\" x=\"273.960291\" xlink:href=\"#m393f6c7566\" y=\"144.933806\"/>\n     <use style=\"fill:#0000ff;stroke:#0000ff;\" x=\"273.399607\" xlink:href=\"#m393f6c7566\" y=\"145.124524\"/>\n     <use style=\"fill:#0000ff;stroke:#0000ff;\" x=\"273.491702\" xlink:href=\"#m393f6c7566\" y=\"144.910297\"/>\n     <use style=\"fill:#0000ff;stroke:#0000ff;\" x=\"262.660036\" xlink:href=\"#m393f6c7566\" y=\"141.135604\"/>\n     <use style=\"fill:#0000ff;stroke:#0000ff;\" x=\"254.618436\" xlink:href=\"#m393f6c7566\" y=\"143.645865\"/>\n     <use style=\"fill:#0000ff;stroke:#0000ff;\" x=\"279.38678\" xlink:href=\"#m393f6c7566\" y=\"146.12627\"/>\n     <use style=\"fill:#0000ff;stroke:#0000ff;\" x=\"272.841929\" xlink:href=\"#m393f6c7566\" y=\"145.153584\"/>\n     <use style=\"fill:#0000ff;stroke:#0000ff;\" x=\"273.491702\" xlink:href=\"#m393f6c7566\" y=\"144.910297\"/>\n     <use style=\"fill:#0000ff;stroke:#0000ff;\" x=\"272.841929\" xlink:href=\"#m393f6c7566\" y=\"145.153584\"/>\n     <use style=\"fill:#0000ff;stroke:#0000ff;\" x=\"273.591438\" xlink:href=\"#m393f6c7566\" y=\"144.97925\"/>\n     <use style=\"fill:#0000ff;stroke:#0000ff;\" x=\"273.591438\" xlink:href=\"#m393f6c7566\" y=\"144.97925\"/>\n     <use style=\"fill:#0000ff;stroke:#0000ff;\" x=\"273.591438\" xlink:href=\"#m393f6c7566\" y=\"144.97925\"/>\n     <use style=\"fill:#0000ff;stroke:#0000ff;\" x=\"273.591438\" xlink:href=\"#m393f6c7566\" y=\"144.97925\"/>\n     <use style=\"fill:#0000ff;stroke:#0000ff;\" x=\"252.177682\" xlink:href=\"#m393f6c7566\" y=\"151.564596\"/>\n     <use style=\"fill:#0000ff;stroke:#0000ff;\" x=\"265.413047\" xlink:href=\"#m393f6c7566\" y=\"146.426702\"/>\n     <use style=\"fill:#0000ff;stroke:#0000ff;\" x=\"276.211034\" xlink:href=\"#m393f6c7566\" y=\"146.231128\"/>\n     <use style=\"fill:#0000ff;stroke:#0000ff;\" x=\"276.211034\" xlink:href=\"#m393f6c7566\" y=\"146.231128\"/>\n     <use style=\"fill:#0000ff;stroke:#0000ff;\" x=\"276.211034\" xlink:href=\"#m393f6c7566\" y=\"146.231128\"/>\n     <use style=\"fill:#0000ff;stroke:#0000ff;\" x=\"273.943542\" xlink:href=\"#m393f6c7566\" y=\"150.553383\"/>\n     <use style=\"fill:#0000ff;stroke:#0000ff;\" x=\"273.943542\" xlink:href=\"#m393f6c7566\" y=\"150.553383\"/>\n     <use style=\"fill:#0000ff;stroke:#0000ff;\" x=\"248.123508\" xlink:href=\"#m393f6c7566\" y=\"146.727411\"/>\n     <use style=\"fill:#0000ff;stroke:#0000ff;\" x=\"262.810218\" xlink:href=\"#m393f6c7566\" y=\"144.867659\"/>\n     <use style=\"fill:#0000ff;stroke:#0000ff;\" x=\"262.582684\" xlink:href=\"#m393f6c7566\" y=\"145.169918\"/>\n     <use style=\"fill:#0000ff;stroke:#0000ff;\" x=\"280.947691\" xlink:href=\"#m393f6c7566\" y=\"147.586861\"/>\n     <use style=\"fill:#0000ff;stroke:#0000ff;\" x=\"268.296794\" xlink:href=\"#m393f6c7566\" y=\"147.658795\"/>\n     <use style=\"fill:#0000ff;stroke:#0000ff;\" x=\"249.815957\" xlink:href=\"#m393f6c7566\" y=\"144.391459\"/>\n     <use style=\"fill:#0000ff;stroke:#0000ff;\" x=\"249.815957\" xlink:href=\"#m393f6c7566\" y=\"144.391459\"/>\n     <use style=\"fill:#0000ff;stroke:#0000ff;\" x=\"249.815957\" xlink:href=\"#m393f6c7566\" y=\"144.391459\"/>\n     <use style=\"fill:#0000ff;stroke:#0000ff;\" x=\"249.815957\" xlink:href=\"#m393f6c7566\" y=\"144.391459\"/>\n     <use style=\"fill:#0000ff;stroke:#0000ff;\" x=\"256.892357\" xlink:href=\"#m393f6c7566\" y=\"146.175974\"/>\n     <use style=\"fill:#0000ff;stroke:#0000ff;\" x=\"260.877535\" xlink:href=\"#m393f6c7566\" y=\"144.282242\"/>\n     <use style=\"fill:#0000ff;stroke:#0000ff;\" x=\"260.367034\" xlink:href=\"#m393f6c7566\" y=\"144.31384\"/>\n     <use style=\"fill:#0000ff;stroke:#0000ff;\" x=\"247.788016\" xlink:href=\"#m393f6c7566\" y=\"146.696417\"/>\n     <use style=\"fill:#0000ff;stroke:#0000ff;\" x=\"258.521823\" xlink:href=\"#m393f6c7566\" y=\"138.773055\"/>\n     <use style=\"fill:#0000ff;stroke:#0000ff;\" x=\"250.84997\" xlink:href=\"#m393f6c7566\" y=\"153.421437\"/>\n     <use style=\"fill:#0000ff;stroke:#0000ff;\" x=\"249.224596\" xlink:href=\"#m393f6c7566\" y=\"153.906706\"/>\n     <use style=\"fill:#0000ff;stroke:#0000ff;\" x=\"246.055725\" xlink:href=\"#m393f6c7566\" y=\"149.017749\"/>\n     <use style=\"fill:#0000ff;stroke:#0000ff;\" x=\"261.830819\" xlink:href=\"#m393f6c7566\" y=\"153.397567\"/>\n     <use style=\"fill:#0000ff;stroke:#0000ff;\" x=\"261.830819\" xlink:href=\"#m393f6c7566\" y=\"153.397567\"/>\n     <use style=\"fill:#0000ff;stroke:#0000ff;\" x=\"261.830819\" xlink:href=\"#m393f6c7566\" y=\"153.397567\"/>\n     <use style=\"fill:#0000ff;stroke:#0000ff;\" x=\"261.830819\" xlink:href=\"#m393f6c7566\" y=\"153.397567\"/>\n     <use style=\"fill:#0000ff;stroke:#0000ff;\" x=\"246.743185\" xlink:href=\"#m393f6c7566\" y=\"143.169865\"/>\n     <use style=\"fill:#0000ff;stroke:#0000ff;\" x=\"250.41576\" xlink:href=\"#m393f6c7566\" y=\"154.124752\"/>\n     <use style=\"fill:#0000ff;stroke:#0000ff;\" x=\"246.937398\" xlink:href=\"#m393f6c7566\" y=\"143.263018\"/>\n     <use style=\"fill:#0000ff;stroke:#0000ff;\" x=\"247.994095\" xlink:href=\"#m393f6c7566\" y=\"143.270138\"/>\n     <use style=\"fill:#0000ff;stroke:#0000ff;\" x=\"251.882686\" xlink:href=\"#m393f6c7566\" y=\"153.489245\"/>\n     <use style=\"fill:#0000ff;stroke:#0000ff;\" x=\"253.193639\" xlink:href=\"#m393f6c7566\" y=\"153.594332\"/>\n     <use style=\"fill:#0000ff;stroke:#0000ff;\" x=\"284.774013\" xlink:href=\"#m393f6c7566\" y=\"143.238871\"/>\n     <use style=\"fill:#0000ff;stroke:#0000ff;\" x=\"269.518198\" xlink:href=\"#m393f6c7566\" y=\"146.754508\"/>\n     <use style=\"fill:#0000ff;stroke:#0000ff;\" x=\"246.937398\" xlink:href=\"#m393f6c7566\" y=\"143.263018\"/>\n     <use style=\"fill:#0000ff;stroke:#0000ff;\" x=\"269.358783\" xlink:href=\"#m393f6c7566\" y=\"144.933217\"/>\n     <use style=\"fill:#0000ff;stroke:#0000ff;\" x=\"258.807781\" xlink:href=\"#m393f6c7566\" y=\"147.126625\"/>\n     <use style=\"fill:#0000ff;stroke:#0000ff;\" x=\"259.414816\" xlink:href=\"#m393f6c7566\" y=\"150.103971\"/>\n     <use style=\"fill:#0000ff;stroke:#0000ff;\" x=\"259.791446\" xlink:href=\"#m393f6c7566\" y=\"146.620474\"/>\n     <use style=\"fill:#0000ff;stroke:#0000ff;\" x=\"252.097527\" xlink:href=\"#m393f6c7566\" y=\"152.262365\"/>\n     <use style=\"fill:#0000ff;stroke:#0000ff;\" x=\"248.123508\" xlink:href=\"#m393f6c7566\" y=\"146.727411\"/>\n     <use style=\"fill:#0000ff;stroke:#0000ff;\" x=\"251.729738\" xlink:href=\"#m393f6c7566\" y=\"146.610906\"/>\n     <use style=\"fill:#0000ff;stroke:#0000ff;\" x=\"251.729738\" xlink:href=\"#m393f6c7566\" y=\"146.610906\"/>\n     <use style=\"fill:#0000ff;stroke:#0000ff;\" x=\"251.729738\" xlink:href=\"#m393f6c7566\" y=\"146.610906\"/>\n     <use style=\"fill:#0000ff;stroke:#0000ff;\" x=\"251.729738\" xlink:href=\"#m393f6c7566\" y=\"146.610906\"/>\n     <use style=\"fill:#0000ff;stroke:#0000ff;\" x=\"251.729738\" xlink:href=\"#m393f6c7566\" y=\"146.610906\"/>\n     <use style=\"fill:#0000ff;stroke:#0000ff;\" x=\"251.729738\" xlink:href=\"#m393f6c7566\" y=\"146.610906\"/>\n     <use style=\"fill:#0000ff;stroke:#0000ff;\" x=\"251.729738\" xlink:href=\"#m393f6c7566\" y=\"146.610906\"/>\n     <use style=\"fill:#0000ff;stroke:#0000ff;\" x=\"251.729738\" xlink:href=\"#m393f6c7566\" y=\"146.610906\"/>\n     <use style=\"fill:#0000ff;stroke:#0000ff;\" x=\"251.729738\" xlink:href=\"#m393f6c7566\" y=\"146.610906\"/>\n     <use style=\"fill:#0000ff;stroke:#0000ff;\" x=\"251.729738\" xlink:href=\"#m393f6c7566\" y=\"146.610906\"/>\n     <use style=\"fill:#0000ff;stroke:#0000ff;\" x=\"251.729738\" xlink:href=\"#m393f6c7566\" y=\"146.610906\"/>\n     <use style=\"fill:#0000ff;stroke:#0000ff;\" x=\"251.729738\" xlink:href=\"#m393f6c7566\" y=\"146.610906\"/>\n     <use style=\"fill:#0000ff;stroke:#0000ff;\" x=\"250.747433\" xlink:href=\"#m393f6c7566\" y=\"146.662094\"/>\n     <use style=\"fill:#0000ff;stroke:#0000ff;\" x=\"267.623475\" xlink:href=\"#m393f6c7566\" y=\"147.972989\"/>\n     <use style=\"fill:#0000ff;stroke:#0000ff;\" x=\"268.112197\" xlink:href=\"#m393f6c7566\" y=\"148.401068\"/>\n     <use style=\"fill:#0000ff;stroke:#0000ff;\" x=\"254.679024\" xlink:href=\"#m393f6c7566\" y=\"148.253828\"/>\n     <use style=\"fill:#0000ff;stroke:#0000ff;\" x=\"281.038543\" xlink:href=\"#m393f6c7566\" y=\"138.299198\"/>\n     <use style=\"fill:#0000ff;stroke:#0000ff;\" x=\"257.39402\" xlink:href=\"#m393f6c7566\" y=\"147.213422\"/>\n     <use style=\"fill:#0000ff;stroke:#0000ff;\" x=\"243.182844\" xlink:href=\"#m393f6c7566\" y=\"149.070264\"/>\n     <use style=\"fill:#0000ff;stroke:#0000ff;\" x=\"281.038543\" xlink:href=\"#m393f6c7566\" y=\"138.299198\"/>\n     <use style=\"fill:#0000ff;stroke:#0000ff;\" x=\"203.36922\" xlink:href=\"#m393f6c7566\" y=\"172.246773\"/>\n     <use style=\"fill:#0000ff;stroke:#0000ff;\" x=\"277.57748\" xlink:href=\"#m393f6c7566\" y=\"146.649315\"/>\n     <use style=\"fill:#0000ff;stroke:#0000ff;\" x=\"257.138717\" xlink:href=\"#m393f6c7566\" y=\"148.142189\"/>\n     <use style=\"fill:#0000ff;stroke:#0000ff;\" x=\"257.138717\" xlink:href=\"#m393f6c7566\" y=\"148.142189\"/>\n     <use style=\"fill:#0000ff;stroke:#0000ff;\" x=\"256.084899\" xlink:href=\"#m393f6c7566\" y=\"147.016341\"/>\n     <use style=\"fill:#0000ff;stroke:#0000ff;\" x=\"265.731872\" xlink:href=\"#m393f6c7566\" y=\"146.947715\"/>\n     <use style=\"fill:#0000ff;stroke:#0000ff;\" x=\"258.191362\" xlink:href=\"#m393f6c7566\" y=\"144.625907\"/>\n     <use style=\"fill:#0000ff;stroke:#0000ff;\" x=\"243.182844\" xlink:href=\"#m393f6c7566\" y=\"149.070264\"/>\n     <use style=\"fill:#0000ff;stroke:#0000ff;\" x=\"268.265821\" xlink:href=\"#m393f6c7566\" y=\"146.749427\"/>\n     <use style=\"fill:#0000ff;stroke:#0000ff;\" x=\"276.845643\" xlink:href=\"#m393f6c7566\" y=\"145.408957\"/>\n     <use style=\"fill:#0000ff;stroke:#0000ff;\" x=\"252.257468\" xlink:href=\"#m393f6c7566\" y=\"147.654875\"/>\n     <use style=\"fill:#0000ff;stroke:#0000ff;\" x=\"251.531612\" xlink:href=\"#m393f6c7566\" y=\"147.977507\"/>\n     <use style=\"fill:#0000ff;stroke:#0000ff;\" x=\"278.856813\" xlink:href=\"#m393f6c7566\" y=\"147.488232\"/>\n     <use style=\"fill:#0000ff;stroke:#0000ff;\" x=\"258.259785\" xlink:href=\"#m393f6c7566\" y=\"140.258909\"/>\n     <use style=\"fill:#0000ff;stroke:#0000ff;\" x=\"269.656952\" xlink:href=\"#m393f6c7566\" y=\"149.776001\"/>\n     <use style=\"fill:#0000ff;stroke:#0000ff;\" x=\"246.061164\" xlink:href=\"#m393f6c7566\" y=\"148.163511\"/>\n     <use style=\"fill:#0000ff;stroke:#0000ff;\" x=\"246.061164\" xlink:href=\"#m393f6c7566\" y=\"148.163511\"/>\n     <use style=\"fill:#0000ff;stroke:#0000ff;\" x=\"246.061164\" xlink:href=\"#m393f6c7566\" y=\"148.163511\"/>\n     <use style=\"fill:#0000ff;stroke:#0000ff;\" x=\"266.619789\" xlink:href=\"#m393f6c7566\" y=\"140.678868\"/>\n     <use style=\"fill:#0000ff;stroke:#0000ff;\" x=\"246.84668\" xlink:href=\"#m393f6c7566\" y=\"148.096817\"/>\n     <use style=\"fill:#0000ff;stroke:#0000ff;\" x=\"246.84668\" xlink:href=\"#m393f6c7566\" y=\"148.096817\"/>\n     <use style=\"fill:#0000ff;stroke:#0000ff;\" x=\"262.478527\" xlink:href=\"#m393f6c7566\" y=\"150.260478\"/>\n     <use style=\"fill:#0000ff;stroke:#0000ff;\" x=\"251.111259\" xlink:href=\"#m393f6c7566\" y=\"138.991704\"/>\n     <use style=\"fill:#0000ff;stroke:#0000ff;\" x=\"274.953017\" xlink:href=\"#m393f6c7566\" y=\"146.163478\"/>\n     <use style=\"fill:#0000ff;stroke:#0000ff;\" x=\"269.004596\" xlink:href=\"#m393f6c7566\" y=\"139.643386\"/>\n     <use style=\"fill:#0000ff;stroke:#0000ff;\" x=\"282.862433\" xlink:href=\"#m393f6c7566\" y=\"144.539718\"/>\n     <use style=\"fill:#0000ff;stroke:#0000ff;\" x=\"277.636913\" xlink:href=\"#m393f6c7566\" y=\"147.957007\"/>\n     <use style=\"fill:#0000ff;stroke:#0000ff;\" x=\"280.947691\" xlink:href=\"#m393f6c7566\" y=\"147.586861\"/>\n     <use style=\"fill:#0000ff;stroke:#0000ff;\" x=\"259.518196\" xlink:href=\"#m393f6c7566\" y=\"146.467439\"/>\n     <use style=\"fill:#0000ff;stroke:#0000ff;\" x=\"275.348749\" xlink:href=\"#m393f6c7566\" y=\"147.254093\"/>\n     <use style=\"fill:#0000ff;stroke:#0000ff;\" x=\"259.518196\" xlink:href=\"#m393f6c7566\" y=\"146.467439\"/>\n     <use style=\"fill:#0000ff;stroke:#0000ff;\" x=\"266.134209\" xlink:href=\"#m393f6c7566\" y=\"149.756102\"/>\n     <use style=\"fill:#0000ff;stroke:#0000ff;\" x=\"258.521823\" xlink:href=\"#m393f6c7566\" y=\"138.773055\"/>\n     <use style=\"fill:#0000ff;stroke:#0000ff;\" x=\"268.116452\" xlink:href=\"#m393f6c7566\" y=\"148.749311\"/>\n     <use style=\"fill:#0000ff;stroke:#0000ff;\" x=\"268.802687\" xlink:href=\"#m393f6c7566\" y=\"148.091063\"/>\n     <use style=\"fill:#0000ff;stroke:#0000ff;\" x=\"280.191043\" xlink:href=\"#m393f6c7566\" y=\"146.291179\"/>\n     <use style=\"fill:#0000ff;stroke:#0000ff;\" x=\"262.308083\" xlink:href=\"#m393f6c7566\" y=\"143.245301\"/>\n     <use style=\"fill:#0000ff;stroke:#0000ff;\" x=\"253.02508\" xlink:href=\"#m393f6c7566\" y=\"148.100043\"/>\n     <use style=\"fill:#0000ff;stroke:#0000ff;\" x=\"257.930945\" xlink:href=\"#m393f6c7566\" y=\"147.011085\"/>\n     <use style=\"fill:#0000ff;stroke:#0000ff;\" x=\"241.425995\" xlink:href=\"#m393f6c7566\" y=\"149.478311\"/>\n     <use style=\"fill:#0000ff;stroke:#0000ff;\" x=\"264.799505\" xlink:href=\"#m393f6c7566\" y=\"145.072975\"/>\n     <use style=\"fill:#0000ff;stroke:#0000ff;\" x=\"265.666\" xlink:href=\"#m393f6c7566\" y=\"145.953804\"/>\n     <use style=\"fill:#0000ff;stroke:#0000ff;\" x=\"273.943542\" xlink:href=\"#m393f6c7566\" y=\"150.553383\"/>\n     <use style=\"fill:#0000ff;stroke:#0000ff;\" x=\"273.943542\" xlink:href=\"#m393f6c7566\" y=\"150.553383\"/>\n     <use style=\"fill:#0000ff;stroke:#0000ff;\" x=\"281.342503\" xlink:href=\"#m393f6c7566\" y=\"145.92075\"/>\n     <use style=\"fill:#0000ff;stroke:#0000ff;\" x=\"281.342503\" xlink:href=\"#m393f6c7566\" y=\"145.92075\"/>\n     <use style=\"fill:#0000ff;stroke:#0000ff;\" x=\"281.342503\" xlink:href=\"#m393f6c7566\" y=\"145.92075\"/>\n     <use style=\"fill:#0000ff;stroke:#0000ff;\" x=\"281.342503\" xlink:href=\"#m393f6c7566\" y=\"145.92075\"/>\n     <use style=\"fill:#0000ff;stroke:#0000ff;\" x=\"291.169854\" xlink:href=\"#m393f6c7566\" y=\"140.697799\"/>\n     <use style=\"fill:#0000ff;stroke:#0000ff;\" x=\"262.310843\" xlink:href=\"#m393f6c7566\" y=\"147.090709\"/>\n     <use style=\"fill:#0000ff;stroke:#0000ff;\" x=\"265.667276\" xlink:href=\"#m393f6c7566\" y=\"150.819866\"/>\n     <use style=\"fill:#0000ff;stroke:#0000ff;\" x=\"257.416263\" xlink:href=\"#m393f6c7566\" y=\"147.616094\"/>\n     <use style=\"fill:#0000ff;stroke:#0000ff;\" x=\"264.732205\" xlink:href=\"#m393f6c7566\" y=\"147.354686\"/>\n     <use style=\"fill:#0000ff;stroke:#0000ff;\" x=\"263.830803\" xlink:href=\"#m393f6c7566\" y=\"146.009945\"/>\n     <use style=\"fill:#0000ff;stroke:#0000ff;\" x=\"267.698885\" xlink:href=\"#m393f6c7566\" y=\"143.244034\"/>\n     <use style=\"fill:#0000ff;stroke:#0000ff;\" x=\"82.806117\" xlink:href=\"#m393f6c7566\" y=\"117.206337\"/>\n     <use style=\"fill:#0000ff;stroke:#0000ff;\" x=\"267.299041\" xlink:href=\"#m393f6c7566\" y=\"143.359531\"/>\n     <use style=\"fill:#0000ff;stroke:#0000ff;\" x=\"256.572087\" xlink:href=\"#m393f6c7566\" y=\"146.51181\"/>\n     <use style=\"fill:#0000ff;stroke:#0000ff;\" x=\"266.810531\" xlink:href=\"#m393f6c7566\" y=\"146.412944\"/>\n     <use style=\"fill:#0000ff;stroke:#0000ff;\" x=\"266.810531\" xlink:href=\"#m393f6c7566\" y=\"146.412944\"/>\n     <use style=\"fill:#0000ff;stroke:#0000ff;\" x=\"273.485509\" xlink:href=\"#m393f6c7566\" y=\"147.141622\"/>\n     <use style=\"fill:#0000ff;stroke:#0000ff;\" x=\"265.878025\" xlink:href=\"#m393f6c7566\" y=\"142.210144\"/>\n     <use style=\"fill:#0000ff;stroke:#0000ff;\" x=\"258.521823\" xlink:href=\"#m393f6c7566\" y=\"138.773055\"/>\n     <use style=\"fill:#0000ff;stroke:#0000ff;\" x=\"257.593941\" xlink:href=\"#m393f6c7566\" y=\"100.093989\"/>\n     <use style=\"fill:#0000ff;stroke:#0000ff;\" x=\"89.073704\" xlink:href=\"#m393f6c7566\" y=\"119.79929\"/>\n     <use style=\"fill:#0000ff;stroke:#0000ff;\" x=\"255.940761\" xlink:href=\"#m393f6c7566\" y=\"145.49819\"/>\n     <use style=\"fill:#0000ff;stroke:#0000ff;\" x=\"268.53301\" xlink:href=\"#m393f6c7566\" y=\"137.945571\"/>\n     <use style=\"fill:#0000ff;stroke:#0000ff;\" x=\"273.943542\" xlink:href=\"#m393f6c7566\" y=\"150.553383\"/>\n     <use style=\"fill:#0000ff;stroke:#0000ff;\" x=\"259.32136\" xlink:href=\"#m393f6c7566\" y=\"147.417144\"/>\n     <use style=\"fill:#0000ff;stroke:#0000ff;\" x=\"269.312271\" xlink:href=\"#m393f6c7566\" y=\"146.117462\"/>\n     <use style=\"fill:#0000ff;stroke:#0000ff;\" x=\"262.549561\" xlink:href=\"#m393f6c7566\" y=\"147.847078\"/>\n     <use style=\"fill:#0000ff;stroke:#0000ff;\" x=\"263.550276\" xlink:href=\"#m393f6c7566\" y=\"148.079976\"/>\n     <use style=\"fill:#0000ff;stroke:#0000ff;\" x=\"263.761053\" xlink:href=\"#m393f6c7566\" y=\"147.363651\"/>\n     <use style=\"fill:#0000ff;stroke:#0000ff;\" x=\"284.448915\" xlink:href=\"#m393f6c7566\" y=\"144.575128\"/>\n     <use style=\"fill:#0000ff;stroke:#0000ff;\" x=\"284.448915\" xlink:href=\"#m393f6c7566\" y=\"144.575128\"/>\n     <use style=\"fill:#0000ff;stroke:#0000ff;\" x=\"248.672953\" xlink:href=\"#m393f6c7566\" y=\"150.739483\"/>\n     <use style=\"fill:#0000ff;stroke:#0000ff;\" x=\"96.262035\" xlink:href=\"#m393f6c7566\" y=\"117.955679\"/>\n     <use style=\"fill:#0000ff;stroke:#0000ff;\" x=\"256.279216\" xlink:href=\"#m393f6c7566\" y=\"148.643031\"/>\n     <use style=\"fill:#0000ff;stroke:#0000ff;\" x=\"248.801789\" xlink:href=\"#m393f6c7566\" y=\"153.045597\"/>\n     <use style=\"fill:#0000ff;stroke:#0000ff;\" x=\"271.932958\" xlink:href=\"#m393f6c7566\" y=\"147.180075\"/>\n     <use style=\"fill:#0000ff;stroke:#0000ff;\" x=\"269.746194\" xlink:href=\"#m393f6c7566\" y=\"142.906182\"/>\n     <use style=\"fill:#0000ff;stroke:#0000ff;\" x=\"265.550193\" xlink:href=\"#m393f6c7566\" y=\"144.771503\"/>\n     <use style=\"fill:#0000ff;stroke:#0000ff;\" x=\"231.392145\" xlink:href=\"#m393f6c7566\" y=\"149.111426\"/>\n     <use style=\"fill:#0000ff;stroke:#0000ff;\" x=\"267.39527\" xlink:href=\"#m393f6c7566\" y=\"145.010638\"/>\n     <use style=\"fill:#0000ff;stroke:#0000ff;\" x=\"92.367179\" xlink:href=\"#m393f6c7566\" y=\"130.305152\"/>\n     <use style=\"fill:#0000ff;stroke:#0000ff;\" x=\"269.549328\" xlink:href=\"#m393f6c7566\" y=\"146.631251\"/>\n     <use style=\"fill:#0000ff;stroke:#0000ff;\" x=\"257.580412\" xlink:href=\"#m393f6c7566\" y=\"152.65882\"/>\n     <use style=\"fill:#0000ff;stroke:#0000ff;\" x=\"267.332911\" xlink:href=\"#m393f6c7566\" y=\"146.556682\"/>\n    </g>\n   </g>\n   <g id=\"PathCollection_3\">\n    <defs>\n     <path d=\"M 0 2.236068 \nC 0.593012 2.236068 1.161816 2.000462 1.581139 1.581139 \nC 2.000462 1.161816 2.236068 0.593012 2.236068 0 \nC 2.236068 -0.593012 2.000462 -1.161816 1.581139 -1.581139 \nC 1.161816 -2.000462 0.593012 -2.236068 0 -2.236068 \nC -0.593012 -2.236068 -1.161816 -2.000462 -1.581139 -1.581139 \nC -2.000462 -1.161816 -2.236068 -0.593012 -2.236068 0 \nC -2.236068 0.593012 -2.000462 1.161816 -1.581139 1.581139 \nC -1.161816 2.000462 -0.593012 2.236068 0 2.236068 \nz\n\" id=\"m5a0ff1d22a\" style=\"stroke:#ffc0cb;\"/>\n    </defs>\n    <g clip-path=\"url(#p5fbb0474f4)\">\n     <use style=\"fill:#ffc0cb;stroke:#ffc0cb;\" x=\"267.575\" xlink:href=\"#m5a0ff1d22a\" y=\"149.765348\"/>\n     <use style=\"fill:#ffc0cb;stroke:#ffc0cb;\" x=\"267.575\" xlink:href=\"#m5a0ff1d22a\" y=\"149.765348\"/>\n     <use style=\"fill:#ffc0cb;stroke:#ffc0cb;\" x=\"278.781379\" xlink:href=\"#m5a0ff1d22a\" y=\"144.974031\"/>\n     <use style=\"fill:#ffc0cb;stroke:#ffc0cb;\" x=\"264.229612\" xlink:href=\"#m5a0ff1d22a\" y=\"154.396669\"/>\n     <use style=\"fill:#ffc0cb;stroke:#ffc0cb;\" x=\"279.944448\" xlink:href=\"#m5a0ff1d22a\" y=\"144.816473\"/>\n     <use style=\"fill:#ffc0cb;stroke:#ffc0cb;\" x=\"250.95093\" xlink:href=\"#m5a0ff1d22a\" y=\"152.344425\"/>\n     <use style=\"fill:#ffc0cb;stroke:#ffc0cb;\" x=\"243.750712\" xlink:href=\"#m5a0ff1d22a\" y=\"146.350771\"/>\n     <use style=\"fill:#ffc0cb;stroke:#ffc0cb;\" x=\"278.585646\" xlink:href=\"#m5a0ff1d22a\" y=\"147.338973\"/>\n     <use style=\"fill:#ffc0cb;stroke:#ffc0cb;\" x=\"250.855998\" xlink:href=\"#m5a0ff1d22a\" y=\"152.298891\"/>\n     <use style=\"fill:#ffc0cb;stroke:#ffc0cb;\" x=\"243.993547\" xlink:href=\"#m5a0ff1d22a\" y=\"146.354543\"/>\n     <use style=\"fill:#ffc0cb;stroke:#ffc0cb;\" x=\"250.855998\" xlink:href=\"#m5a0ff1d22a\" y=\"152.298891\"/>\n     <use style=\"fill:#ffc0cb;stroke:#ffc0cb;\" x=\"243.993547\" xlink:href=\"#m5a0ff1d22a\" y=\"146.354543\"/>\n     <use style=\"fill:#ffc0cb;stroke:#ffc0cb;\" x=\"248.603402\" xlink:href=\"#m5a0ff1d22a\" y=\"149.744659\"/>\n     <use style=\"fill:#ffc0cb;stroke:#ffc0cb;\" x=\"265.732894\" xlink:href=\"#m5a0ff1d22a\" y=\"155.735587\"/>\n     <use style=\"fill:#ffc0cb;stroke:#ffc0cb;\" x=\"262.54568\" xlink:href=\"#m5a0ff1d22a\" y=\"154.938889\"/>\n     <use style=\"fill:#ffc0cb;stroke:#ffc0cb;\" x=\"250.95093\" xlink:href=\"#m5a0ff1d22a\" y=\"152.344425\"/>\n     <use style=\"fill:#ffc0cb;stroke:#ffc0cb;\" x=\"243.779327\" xlink:href=\"#m5a0ff1d22a\" y=\"146.311238\"/>\n     <use style=\"fill:#ffc0cb;stroke:#ffc0cb;\" x=\"278.184194\" xlink:href=\"#m5a0ff1d22a\" y=\"144.942419\"/>\n     <use style=\"fill:#ffc0cb;stroke:#ffc0cb;\" x=\"247.243053\" xlink:href=\"#m5a0ff1d22a\" y=\"145.729947\"/>\n     <use style=\"fill:#ffc0cb;stroke:#ffc0cb;\" x=\"263.049029\" xlink:href=\"#m5a0ff1d22a\" y=\"143.605919\"/>\n     <use style=\"fill:#ffc0cb;stroke:#ffc0cb;\" x=\"266.274809\" xlink:href=\"#m5a0ff1d22a\" y=\"147.660045\"/>\n     <use style=\"fill:#ffc0cb;stroke:#ffc0cb;\" x=\"259.411887\" xlink:href=\"#m5a0ff1d22a\" y=\"144.696062\"/>\n     <use style=\"fill:#ffc0cb;stroke:#ffc0cb;\" x=\"249.731908\" xlink:href=\"#m5a0ff1d22a\" y=\"149.99864\"/>\n     <use style=\"fill:#ffc0cb;stroke:#ffc0cb;\" x=\"264.229612\" xlink:href=\"#m5a0ff1d22a\" y=\"154.396669\"/>\n     <use style=\"fill:#ffc0cb;stroke:#ffc0cb;\" x=\"264.229612\" xlink:href=\"#m5a0ff1d22a\" y=\"154.396669\"/>\n     <use style=\"fill:#ffc0cb;stroke:#ffc0cb;\" x=\"264.229612\" xlink:href=\"#m5a0ff1d22a\" y=\"154.396669\"/>\n     <use style=\"fill:#ffc0cb;stroke:#ffc0cb;\" x=\"243.952822\" xlink:href=\"#m5a0ff1d22a\" y=\"151.104066\"/>\n     <use style=\"fill:#ffc0cb;stroke:#ffc0cb;\" x=\"247.45562\" xlink:href=\"#m5a0ff1d22a\" y=\"144.397607\"/>\n     <use style=\"fill:#ffc0cb;stroke:#ffc0cb;\" x=\"257.807066\" xlink:href=\"#m5a0ff1d22a\" y=\"146.64993\"/>\n     <use style=\"fill:#ffc0cb;stroke:#ffc0cb;\" x=\"261.248748\" xlink:href=\"#m5a0ff1d22a\" y=\"144.830563\"/>\n     <use style=\"fill:#ffc0cb;stroke:#ffc0cb;\" x=\"264.22833\" xlink:href=\"#m5a0ff1d22a\" y=\"147.332539\"/>\n     <use style=\"fill:#ffc0cb;stroke:#ffc0cb;\" x=\"257.880288\" xlink:href=\"#m5a0ff1d22a\" y=\"149.032761\"/>\n     <use style=\"fill:#ffc0cb;stroke:#ffc0cb;\" x=\"249.373807\" xlink:href=\"#m5a0ff1d22a\" y=\"149.795083\"/>\n     <use style=\"fill:#ffc0cb;stroke:#ffc0cb;\" x=\"279.944448\" xlink:href=\"#m5a0ff1d22a\" y=\"144.816473\"/>\n     <use style=\"fill:#ffc0cb;stroke:#ffc0cb;\" x=\"265.56102\" xlink:href=\"#m5a0ff1d22a\" y=\"143.685639\"/>\n     <use style=\"fill:#ffc0cb;stroke:#ffc0cb;\" x=\"259.593794\" xlink:href=\"#m5a0ff1d22a\" y=\"144.690696\"/>\n     <use style=\"fill:#ffc0cb;stroke:#ffc0cb;\" x=\"259.593794\" xlink:href=\"#m5a0ff1d22a\" y=\"144.690696\"/>\n     <use style=\"fill:#ffc0cb;stroke:#ffc0cb;\" x=\"258.004862\" xlink:href=\"#m5a0ff1d22a\" y=\"148.767701\"/>\n     <use style=\"fill:#ffc0cb;stroke:#ffc0cb;\" x=\"282.479447\" xlink:href=\"#m5a0ff1d22a\" y=\"148.970279\"/>\n     <use style=\"fill:#ffc0cb;stroke:#ffc0cb;\" x=\"256.300094\" xlink:href=\"#m5a0ff1d22a\" y=\"150.771735\"/>\n     <use style=\"fill:#ffc0cb;stroke:#ffc0cb;\" x=\"258.478574\" xlink:href=\"#m5a0ff1d22a\" y=\"147.122161\"/>\n     <use style=\"fill:#ffc0cb;stroke:#ffc0cb;\" x=\"264.229612\" xlink:href=\"#m5a0ff1d22a\" y=\"154.396669\"/>\n     <use style=\"fill:#ffc0cb;stroke:#ffc0cb;\" x=\"247.243053\" xlink:href=\"#m5a0ff1d22a\" y=\"145.729947\"/>\n     <use style=\"fill:#ffc0cb;stroke:#ffc0cb;\" x=\"263.049029\" xlink:href=\"#m5a0ff1d22a\" y=\"143.605919\"/>\n     <use style=\"fill:#ffc0cb;stroke:#ffc0cb;\" x=\"272.052671\" xlink:href=\"#m5a0ff1d22a\" y=\"152.819541\"/>\n     <use style=\"fill:#ffc0cb;stroke:#ffc0cb;\" x=\"279.944448\" xlink:href=\"#m5a0ff1d22a\" y=\"144.816473\"/>\n     <use style=\"fill:#ffc0cb;stroke:#ffc0cb;\" x=\"255.113332\" xlink:href=\"#m5a0ff1d22a\" y=\"147.705887\"/>\n     <use style=\"fill:#ffc0cb;stroke:#ffc0cb;\" x=\"262.590322\" xlink:href=\"#m5a0ff1d22a\" y=\"139.554872\"/>\n     <use style=\"fill:#ffc0cb;stroke:#ffc0cb;\" x=\"248.500813\" xlink:href=\"#m5a0ff1d22a\" y=\"148.869786\"/>\n     <use style=\"fill:#ffc0cb;stroke:#ffc0cb;\" x=\"261.88966\" xlink:href=\"#m5a0ff1d22a\" y=\"146.472772\"/>\n     <use style=\"fill:#ffc0cb;stroke:#ffc0cb;\" x=\"240.537603\" xlink:href=\"#m5a0ff1d22a\" y=\"149.996346\"/>\n     <use style=\"fill:#ffc0cb;stroke:#ffc0cb;\" x=\"254.938396\" xlink:href=\"#m5a0ff1d22a\" y=\"149.293859\"/>\n     <use style=\"fill:#ffc0cb;stroke:#ffc0cb;\" x=\"258.668481\" xlink:href=\"#m5a0ff1d22a\" y=\"147.217333\"/>\n     <use style=\"fill:#ffc0cb;stroke:#ffc0cb;\" x=\"279.189055\" xlink:href=\"#m5a0ff1d22a\" y=\"150.638018\"/>\n     <use style=\"fill:#ffc0cb;stroke:#ffc0cb;\" x=\"252.247152\" xlink:href=\"#m5a0ff1d22a\" y=\"143.877459\"/>\n     <use style=\"fill:#ffc0cb;stroke:#ffc0cb;\" x=\"265.142487\" xlink:href=\"#m5a0ff1d22a\" y=\"146.105681\"/>\n     <use style=\"fill:#ffc0cb;stroke:#ffc0cb;\" x=\"272.069922\" xlink:href=\"#m5a0ff1d22a\" y=\"145.380044\"/>\n     <use style=\"fill:#ffc0cb;stroke:#ffc0cb;\" x=\"259.640861\" xlink:href=\"#m5a0ff1d22a\" y=\"144.431005\"/>\n     <use style=\"fill:#ffc0cb;stroke:#ffc0cb;\" x=\"259.594022\" xlink:href=\"#m5a0ff1d22a\" y=\"144.425499\"/>\n     <use style=\"fill:#ffc0cb;stroke:#ffc0cb;\" x=\"259.958528\" xlink:href=\"#m5a0ff1d22a\" y=\"144.446079\"/>\n     <use style=\"fill:#ffc0cb;stroke:#ffc0cb;\" x=\"145.533883\" xlink:href=\"#m5a0ff1d22a\" y=\"93.846349\"/>\n     <use style=\"fill:#ffc0cb;stroke:#ffc0cb;\" x=\"249.310856\" xlink:href=\"#m5a0ff1d22a\" y=\"147.48802\"/>\n     <use style=\"fill:#ffc0cb;stroke:#ffc0cb;\" x=\"254.369402\" xlink:href=\"#m5a0ff1d22a\" y=\"150.362423\"/>\n     <use style=\"fill:#ffc0cb;stroke:#ffc0cb;\" x=\"251.463832\" xlink:href=\"#m5a0ff1d22a\" y=\"147.784213\"/>\n     <use style=\"fill:#ffc0cb;stroke:#ffc0cb;\" x=\"252.163502\" xlink:href=\"#m5a0ff1d22a\" y=\"149.726323\"/>\n     <use style=\"fill:#ffc0cb;stroke:#ffc0cb;\" x=\"255.770107\" xlink:href=\"#m5a0ff1d22a\" y=\"147.11613\"/>\n     <use style=\"fill:#ffc0cb;stroke:#ffc0cb;\" x=\"255.770107\" xlink:href=\"#m5a0ff1d22a\" y=\"147.11613\"/>\n     <use style=\"fill:#ffc0cb;stroke:#ffc0cb;\" x=\"260.78714\" xlink:href=\"#m5a0ff1d22a\" y=\"161.583682\"/>\n     <use style=\"fill:#ffc0cb;stroke:#ffc0cb;\" x=\"264.367929\" xlink:href=\"#m5a0ff1d22a\" y=\"150.014135\"/>\n     <use style=\"fill:#ffc0cb;stroke:#ffc0cb;\" x=\"259.411887\" xlink:href=\"#m5a0ff1d22a\" y=\"144.696062\"/>\n     <use style=\"fill:#ffc0cb;stroke:#ffc0cb;\" x=\"249.434896\" xlink:href=\"#m5a0ff1d22a\" y=\"151.876457\"/>\n     <use style=\"fill:#ffc0cb;stroke:#ffc0cb;\" x=\"248.784298\" xlink:href=\"#m5a0ff1d22a\" y=\"151.947853\"/>\n     <use style=\"fill:#ffc0cb;stroke:#ffc0cb;\" x=\"266.597039\" xlink:href=\"#m5a0ff1d22a\" y=\"153.128366\"/>\n     <use style=\"fill:#ffc0cb;stroke:#ffc0cb;\" x=\"254.270013\" xlink:href=\"#m5a0ff1d22a\" y=\"150.029412\"/>\n     <use style=\"fill:#ffc0cb;stroke:#ffc0cb;\" x=\"270.499219\" xlink:href=\"#m5a0ff1d22a\" y=\"144.128189\"/>\n     <use style=\"fill:#ffc0cb;stroke:#ffc0cb;\" x=\"79.758133\" xlink:href=\"#m5a0ff1d22a\" y=\"140.405272\"/>\n     <use style=\"fill:#ffc0cb;stroke:#ffc0cb;\" x=\"70.265435\" xlink:href=\"#m5a0ff1d22a\" y=\"129.09233\"/>\n     <use style=\"fill:#ffc0cb;stroke:#ffc0cb;\" x=\"252.730226\" xlink:href=\"#m5a0ff1d22a\" y=\"150.593388\"/>\n     <use style=\"fill:#ffc0cb;stroke:#ffc0cb;\" x=\"243.125686\" xlink:href=\"#m5a0ff1d22a\" y=\"152.184347\"/>\n     <use style=\"fill:#ffc0cb;stroke:#ffc0cb;\" x=\"279.856622\" xlink:href=\"#m5a0ff1d22a\" y=\"144.890379\"/>\n     <use style=\"fill:#ffc0cb;stroke:#ffc0cb;\" x=\"279.58464\" xlink:href=\"#m5a0ff1d22a\" y=\"144.848217\"/>\n     <use style=\"fill:#ffc0cb;stroke:#ffc0cb;\" x=\"279.58464\" xlink:href=\"#m5a0ff1d22a\" y=\"144.848217\"/>\n     <use style=\"fill:#ffc0cb;stroke:#ffc0cb;\" x=\"279.58464\" xlink:href=\"#m5a0ff1d22a\" y=\"144.848217\"/>\n     <use style=\"fill:#ffc0cb;stroke:#ffc0cb;\" x=\"279.58464\" xlink:href=\"#m5a0ff1d22a\" y=\"144.848217\"/>\n     <use style=\"fill:#ffc0cb;stroke:#ffc0cb;\" x=\"279.215539\" xlink:href=\"#m5a0ff1d22a\" y=\"145.159605\"/>\n     <use style=\"fill:#ffc0cb;stroke:#ffc0cb;\" x=\"271.484732\" xlink:href=\"#m5a0ff1d22a\" y=\"146.388991\"/>\n     <use style=\"fill:#ffc0cb;stroke:#ffc0cb;\" x=\"264.229612\" xlink:href=\"#m5a0ff1d22a\" y=\"154.396669\"/>\n     <use style=\"fill:#ffc0cb;stroke:#ffc0cb;\" x=\"279.215539\" xlink:href=\"#m5a0ff1d22a\" y=\"145.159605\"/>\n     <use style=\"fill:#ffc0cb;stroke:#ffc0cb;\" x=\"279.215539\" xlink:href=\"#m5a0ff1d22a\" y=\"145.159605\"/>\n     <use style=\"fill:#ffc0cb;stroke:#ffc0cb;\" x=\"279.215539\" xlink:href=\"#m5a0ff1d22a\" y=\"145.159605\"/>\n     <use style=\"fill:#ffc0cb;stroke:#ffc0cb;\" x=\"247.686669\" xlink:href=\"#m5a0ff1d22a\" y=\"150.543483\"/>\n     <use style=\"fill:#ffc0cb;stroke:#ffc0cb;\" x=\"249.982962\" xlink:href=\"#m5a0ff1d22a\" y=\"151.488002\"/>\n     <use style=\"fill:#ffc0cb;stroke:#ffc0cb;\" x=\"250.689261\" xlink:href=\"#m5a0ff1d22a\" y=\"151.13974\"/>\n     <use style=\"fill:#ffc0cb;stroke:#ffc0cb;\" x=\"250.689261\" xlink:href=\"#m5a0ff1d22a\" y=\"151.13974\"/>\n     <use style=\"fill:#ffc0cb;stroke:#ffc0cb;\" x=\"250.00259\" xlink:href=\"#m5a0ff1d22a\" y=\"151.513107\"/>\n     <use style=\"fill:#ffc0cb;stroke:#ffc0cb;\" x=\"230.223243\" xlink:href=\"#m5a0ff1d22a\" y=\"147.519493\"/>\n     <use style=\"fill:#ffc0cb;stroke:#ffc0cb;\" x=\"230.223243\" xlink:href=\"#m5a0ff1d22a\" y=\"147.519493\"/>\n     <use style=\"fill:#ffc0cb;stroke:#ffc0cb;\" x=\"250.95093\" xlink:href=\"#m5a0ff1d22a\" y=\"152.344425\"/>\n     <use style=\"fill:#ffc0cb;stroke:#ffc0cb;\" x=\"244.89581\" xlink:href=\"#m5a0ff1d22a\" y=\"146.409123\"/>\n     <use style=\"fill:#ffc0cb;stroke:#ffc0cb;\" x=\"256.230091\" xlink:href=\"#m5a0ff1d22a\" y=\"150.827844\"/>\n     <use style=\"fill:#ffc0cb;stroke:#ffc0cb;\" x=\"265.527743\" xlink:href=\"#m5a0ff1d22a\" y=\"148.061555\"/>\n     <use style=\"fill:#ffc0cb;stroke:#ffc0cb;\" x=\"243.888681\" xlink:href=\"#m5a0ff1d22a\" y=\"152.005839\"/>\n     <use style=\"fill:#ffc0cb;stroke:#ffc0cb;\" x=\"265.527743\" xlink:href=\"#m5a0ff1d22a\" y=\"148.061555\"/>\n     <use style=\"fill:#ffc0cb;stroke:#ffc0cb;\" x=\"265.527743\" xlink:href=\"#m5a0ff1d22a\" y=\"148.061555\"/>\n     <use style=\"fill:#ffc0cb;stroke:#ffc0cb;\" x=\"265.527743\" xlink:href=\"#m5a0ff1d22a\" y=\"148.061555\"/>\n     <use style=\"fill:#ffc0cb;stroke:#ffc0cb;\" x=\"253.975821\" xlink:href=\"#m5a0ff1d22a\" y=\"150.134582\"/>\n     <use style=\"fill:#ffc0cb;stroke:#ffc0cb;\" x=\"246.187935\" xlink:href=\"#m5a0ff1d22a\" y=\"151.285491\"/>\n     <use style=\"fill:#ffc0cb;stroke:#ffc0cb;\" x=\"265.527743\" xlink:href=\"#m5a0ff1d22a\" y=\"148.061555\"/>\n     <use style=\"fill:#ffc0cb;stroke:#ffc0cb;\" x=\"265.527743\" xlink:href=\"#m5a0ff1d22a\" y=\"148.061555\"/>\n     <use style=\"fill:#ffc0cb;stroke:#ffc0cb;\" x=\"265.527743\" xlink:href=\"#m5a0ff1d22a\" y=\"148.061555\"/>\n     <use style=\"fill:#ffc0cb;stroke:#ffc0cb;\" x=\"265.527743\" xlink:href=\"#m5a0ff1d22a\" y=\"148.061555\"/>\n     <use style=\"fill:#ffc0cb;stroke:#ffc0cb;\" x=\"247.342422\" xlink:href=\"#m5a0ff1d22a\" y=\"147.011234\"/>\n     <use style=\"fill:#ffc0cb;stroke:#ffc0cb;\" x=\"248.238609\" xlink:href=\"#m5a0ff1d22a\" y=\"147.809435\"/>\n     <use style=\"fill:#ffc0cb;stroke:#ffc0cb;\" x=\"250.746935\" xlink:href=\"#m5a0ff1d22a\" y=\"147.654183\"/>\n     <use style=\"fill:#ffc0cb;stroke:#ffc0cb;\" x=\"279.016992\" xlink:href=\"#m5a0ff1d22a\" y=\"145.131797\"/>\n     <use style=\"fill:#ffc0cb;stroke:#ffc0cb;\" x=\"279.016992\" xlink:href=\"#m5a0ff1d22a\" y=\"145.131797\"/>\n    </g>\n   </g>\n   <g id=\"PathCollection_4\">\n    <defs>\n     <path d=\"M 0 2.236068 \nC 0.593012 2.236068 1.161816 2.000462 1.581139 1.581139 \nC 2.000462 1.161816 2.236068 0.593012 2.236068 0 \nC 2.236068 -0.593012 2.000462 -1.161816 1.581139 -1.581139 \nC 1.161816 -2.000462 0.593012 -2.236068 0 -2.236068 \nC -0.593012 -2.236068 -1.161816 -2.000462 -1.581139 -1.581139 \nC -2.000462 -1.161816 -2.236068 -0.593012 -2.236068 0 \nC -2.236068 0.593012 -2.000462 1.161816 -1.581139 1.581139 \nC -1.161816 2.000462 -0.593012 2.236068 0 2.236068 \nz\n\" id=\"m1eb0f689c3\" style=\"stroke:#008000;\"/>\n    </defs>\n    <g clip-path=\"url(#p5fbb0474f4)\">\n     <use style=\"fill:#008000;stroke:#008000;\" x=\"248.367226\" xlink:href=\"#m1eb0f689c3\" y=\"150.649681\"/>\n     <use style=\"fill:#008000;stroke:#008000;\" x=\"251.289045\" xlink:href=\"#m1eb0f689c3\" y=\"151.607205\"/>\n     <use style=\"fill:#008000;stroke:#008000;\" x=\"273.131198\" xlink:href=\"#m1eb0f689c3\" y=\"143.444676\"/>\n     <use style=\"fill:#008000;stroke:#008000;\" x=\"272.635311\" xlink:href=\"#m1eb0f689c3\" y=\"143.416267\"/>\n     <use style=\"fill:#008000;stroke:#008000;\" x=\"267.828873\" xlink:href=\"#m1eb0f689c3\" y=\"146.393317\"/>\n     <use style=\"fill:#008000;stroke:#008000;\" x=\"271.513063\" xlink:href=\"#m1eb0f689c3\" y=\"144.966101\"/>\n     <use style=\"fill:#008000;stroke:#008000;\" x=\"262.733431\" xlink:href=\"#m1eb0f689c3\" y=\"147.0664\"/>\n     <use style=\"fill:#008000;stroke:#008000;\" x=\"250.684626\" xlink:href=\"#m1eb0f689c3\" y=\"148.066147\"/>\n     <use style=\"fill:#008000;stroke:#008000;\" x=\"268.245654\" xlink:href=\"#m1eb0f689c3\" y=\"149.75366\"/>\n     <use style=\"fill:#008000;stroke:#008000;\" x=\"257.160846\" xlink:href=\"#m1eb0f689c3\" y=\"147.519287\"/>\n     <use style=\"fill:#008000;stroke:#008000;\" x=\"262.826262\" xlink:href=\"#m1eb0f689c3\" y=\"147.298444\"/>\n     <use style=\"fill:#008000;stroke:#008000;\" x=\"256.574871\" xlink:href=\"#m1eb0f689c3\" y=\"146.714451\"/>\n     <use style=\"fill:#008000;stroke:#008000;\" x=\"259.647726\" xlink:href=\"#m1eb0f689c3\" y=\"146.573523\"/>\n     <use style=\"fill:#008000;stroke:#008000;\" x=\"259.647726\" xlink:href=\"#m1eb0f689c3\" y=\"146.573523\"/>\n     <use style=\"fill:#008000;stroke:#008000;\" x=\"267.679738\" xlink:href=\"#m1eb0f689c3\" y=\"149.123511\"/>\n     <use style=\"fill:#008000;stroke:#008000;\" x=\"247.688589\" xlink:href=\"#m1eb0f689c3\" y=\"151.967392\"/>\n     <use style=\"fill:#008000;stroke:#008000;\" x=\"251.849776\" xlink:href=\"#m1eb0f689c3\" y=\"151.091749\"/>\n     <use style=\"fill:#008000;stroke:#008000;\" x=\"255.239496\" xlink:href=\"#m1eb0f689c3\" y=\"149.335453\"/>\n     <use style=\"fill:#008000;stroke:#008000;\" x=\"269.374953\" xlink:href=\"#m1eb0f689c3\" y=\"145.415049\"/>\n     <use style=\"fill:#008000;stroke:#008000;\" x=\"266.379615\" xlink:href=\"#m1eb0f689c3\" y=\"142.839569\"/>\n     <use style=\"fill:#008000;stroke:#008000;\" x=\"256.145735\" xlink:href=\"#m1eb0f689c3\" y=\"147.16854\"/>\n     <use style=\"fill:#008000;stroke:#008000;\" x=\"247.688589\" xlink:href=\"#m1eb0f689c3\" y=\"151.967392\"/>\n     <use style=\"fill:#008000;stroke:#008000;\" x=\"271.980048\" xlink:href=\"#m1eb0f689c3\" y=\"143.324899\"/>\n     <use style=\"fill:#008000;stroke:#008000;\" x=\"251.23152\" xlink:href=\"#m1eb0f689c3\" y=\"147.607141\"/>\n     <use style=\"fill:#008000;stroke:#008000;\" x=\"272.941661\" xlink:href=\"#m1eb0f689c3\" y=\"148.055825\"/>\n     <use style=\"fill:#008000;stroke:#008000;\" x=\"272.066585\" xlink:href=\"#m1eb0f689c3\" y=\"143.366406\"/>\n     <use style=\"fill:#008000;stroke:#008000;\" x=\"272.066585\" xlink:href=\"#m1eb0f689c3\" y=\"143.366406\"/>\n     <use style=\"fill:#008000;stroke:#008000;\" x=\"267.885181\" xlink:href=\"#m1eb0f689c3\" y=\"147.949876\"/>\n     <use style=\"fill:#008000;stroke:#008000;\" x=\"260.803062\" xlink:href=\"#m1eb0f689c3\" y=\"146.481421\"/>\n     <use style=\"fill:#008000;stroke:#008000;\" x=\"260.803062\" xlink:href=\"#m1eb0f689c3\" y=\"146.481421\"/>\n     <use style=\"fill:#008000;stroke:#008000;\" x=\"260.803062\" xlink:href=\"#m1eb0f689c3\" y=\"146.481421\"/>\n     <use style=\"fill:#008000;stroke:#008000;\" x=\"260.803062\" xlink:href=\"#m1eb0f689c3\" y=\"146.481421\"/>\n     <use style=\"fill:#008000;stroke:#008000;\" x=\"271.817631\" xlink:href=\"#m1eb0f689c3\" y=\"147.84355\"/>\n     <use style=\"fill:#008000;stroke:#008000;\" x=\"256.546889\" xlink:href=\"#m1eb0f689c3\" y=\"147.9806\"/>\n     <use style=\"fill:#008000;stroke:#008000;\" x=\"262.065688\" xlink:href=\"#m1eb0f689c3\" y=\"149.891966\"/>\n     <use style=\"fill:#008000;stroke:#008000;\" x=\"272.066585\" xlink:href=\"#m1eb0f689c3\" y=\"143.366406\"/>\n     <use style=\"fill:#008000;stroke:#008000;\" x=\"272.066585\" xlink:href=\"#m1eb0f689c3\" y=\"143.366406\"/>\n     <use style=\"fill:#008000;stroke:#008000;\" x=\"272.066585\" xlink:href=\"#m1eb0f689c3\" y=\"143.366406\"/>\n     <use style=\"fill:#008000;stroke:#008000;\" x=\"272.066585\" xlink:href=\"#m1eb0f689c3\" y=\"143.366406\"/>\n     <use style=\"fill:#008000;stroke:#008000;\" x=\"272.066585\" xlink:href=\"#m1eb0f689c3\" y=\"143.366406\"/>\n     <use style=\"fill:#008000;stroke:#008000;\" x=\"272.066585\" xlink:href=\"#m1eb0f689c3\" y=\"143.366406\"/>\n     <use style=\"fill:#008000;stroke:#008000;\" x=\"272.066585\" xlink:href=\"#m1eb0f689c3\" y=\"143.366406\"/>\n     <use style=\"fill:#008000;stroke:#008000;\" x=\"272.066585\" xlink:href=\"#m1eb0f689c3\" y=\"143.366406\"/>\n     <use style=\"fill:#008000;stroke:#008000;\" x=\"272.066585\" xlink:href=\"#m1eb0f689c3\" y=\"143.366406\"/>\n     <use style=\"fill:#008000;stroke:#008000;\" x=\"272.066585\" xlink:href=\"#m1eb0f689c3\" y=\"143.366406\"/>\n     <use style=\"fill:#008000;stroke:#008000;\" x=\"272.066585\" xlink:href=\"#m1eb0f689c3\" y=\"143.366406\"/>\n     <use style=\"fill:#008000;stroke:#008000;\" x=\"272.066585\" xlink:href=\"#m1eb0f689c3\" y=\"143.366406\"/>\n     <use style=\"fill:#008000;stroke:#008000;\" x=\"272.066585\" xlink:href=\"#m1eb0f689c3\" y=\"143.366406\"/>\n     <use style=\"fill:#008000;stroke:#008000;\" x=\"272.066585\" xlink:href=\"#m1eb0f689c3\" y=\"143.366406\"/>\n     <use style=\"fill:#008000;stroke:#008000;\" x=\"272.066585\" xlink:href=\"#m1eb0f689c3\" y=\"143.366406\"/>\n     <use style=\"fill:#008000;stroke:#008000;\" x=\"265.479921\" xlink:href=\"#m1eb0f689c3\" y=\"149.229126\"/>\n     <use style=\"fill:#008000;stroke:#008000;\" x=\"260.803062\" xlink:href=\"#m1eb0f689c3\" y=\"146.481421\"/>\n     <use style=\"fill:#008000;stroke:#008000;\" x=\"272.741482\" xlink:href=\"#m1eb0f689c3\" y=\"147.747491\"/>\n     <use style=\"fill:#008000;stroke:#008000;\" x=\"250.444686\" xlink:href=\"#m1eb0f689c3\" y=\"146.986869\"/>\n     <use style=\"fill:#008000;stroke:#008000;\" x=\"269.622432\" xlink:href=\"#m1eb0f689c3\" y=\"146.598422\"/>\n     <use style=\"fill:#008000;stroke:#008000;\" x=\"271.924261\" xlink:href=\"#m1eb0f689c3\" y=\"143.463681\"/>\n     <use style=\"fill:#008000;stroke:#008000;\" x=\"246.366386\" xlink:href=\"#m1eb0f689c3\" y=\"149.41481\"/>\n     <use style=\"fill:#008000;stroke:#008000;\" x=\"260.184804\" xlink:href=\"#m1eb0f689c3\" y=\"146.299089\"/>\n     <use style=\"fill:#008000;stroke:#008000;\" x=\"271.99262\" xlink:href=\"#m1eb0f689c3\" y=\"147.344081\"/>\n     <use style=\"fill:#008000;stroke:#008000;\" x=\"258.21066\" xlink:href=\"#m1eb0f689c3\" y=\"152.884893\"/>\n     <use style=\"fill:#008000;stroke:#008000;\" x=\"233.818641\" xlink:href=\"#m1eb0f689c3\" y=\"154.468371\"/>\n     <use style=\"fill:#008000;stroke:#008000;\" x=\"234.01198\" xlink:href=\"#m1eb0f689c3\" y=\"154.318119\"/>\n     <use style=\"fill:#008000;stroke:#008000;\" x=\"258.988884\" xlink:href=\"#m1eb0f689c3\" y=\"147.474202\"/>\n     <use style=\"fill:#008000;stroke:#008000;\" x=\"262.696765\" xlink:href=\"#m1eb0f689c3\" y=\"145.543344\"/>\n     <use style=\"fill:#008000;stroke:#008000;\" x=\"262.673791\" xlink:href=\"#m1eb0f689c3\" y=\"145.513961\"/>\n     <use style=\"fill:#008000;stroke:#008000;\" x=\"262.170467\" xlink:href=\"#m1eb0f689c3\" y=\"147.746777\"/>\n     <use style=\"fill:#008000;stroke:#008000;\" x=\"267.621939\" xlink:href=\"#m1eb0f689c3\" y=\"144.397964\"/>\n     <use style=\"fill:#008000;stroke:#008000;\" x=\"267.787906\" xlink:href=\"#m1eb0f689c3\" y=\"144.330328\"/>\n     <use style=\"fill:#008000;stroke:#008000;\" x=\"234.310035\" xlink:href=\"#m1eb0f689c3\" y=\"154.509001\"/>\n     <use style=\"fill:#008000;stroke:#008000;\" x=\"233.507325\" xlink:href=\"#m1eb0f689c3\" y=\"154.290184\"/>\n     <use style=\"fill:#008000;stroke:#008000;\" x=\"263.182386\" xlink:href=\"#m1eb0f689c3\" y=\"145.666599\"/>\n     <use style=\"fill:#008000;stroke:#008000;\" x=\"257.217842\" xlink:href=\"#m1eb0f689c3\" y=\"142.335224\"/>\n     <use style=\"fill:#008000;stroke:#008000;\" x=\"266.832039\" xlink:href=\"#m1eb0f689c3\" y=\"149.241952\"/>\n     <use style=\"fill:#008000;stroke:#008000;\" x=\"261.737429\" xlink:href=\"#m1eb0f689c3\" y=\"147.061435\"/>\n     <use style=\"fill:#008000;stroke:#008000;\" x=\"251.251806\" xlink:href=\"#m1eb0f689c3\" y=\"141.799139\"/>\n     <use style=\"fill:#008000;stroke:#008000;\" x=\"251.220227\" xlink:href=\"#m1eb0f689c3\" y=\"147.984062\"/>\n     <use style=\"fill:#008000;stroke:#008000;\" x=\"251.220227\" xlink:href=\"#m1eb0f689c3\" y=\"147.984062\"/>\n     <use style=\"fill:#008000;stroke:#008000;\" x=\"251.220227\" xlink:href=\"#m1eb0f689c3\" y=\"147.984062\"/>\n     <use style=\"fill:#008000;stroke:#008000;\" x=\"251.220227\" xlink:href=\"#m1eb0f689c3\" y=\"147.984062\"/>\n     <use style=\"fill:#008000;stroke:#008000;\" x=\"251.15004\" xlink:href=\"#m1eb0f689c3\" y=\"150.264178\"/>\n     <use style=\"fill:#008000;stroke:#008000;\" x=\"233.02383\" xlink:href=\"#m1eb0f689c3\" y=\"154.580929\"/>\n     <use style=\"fill:#008000;stroke:#008000;\" x=\"233.671583\" xlink:href=\"#m1eb0f689c3\" y=\"154.586832\"/>\n     <use style=\"fill:#008000;stroke:#008000;\" x=\"233.758664\" xlink:href=\"#m1eb0f689c3\" y=\"154.535447\"/>\n     <use style=\"fill:#008000;stroke:#008000;\" x=\"233.952547\" xlink:href=\"#m1eb0f689c3\" y=\"154.384772\"/>\n     <use style=\"fill:#008000;stroke:#008000;\" x=\"249.888146\" xlink:href=\"#m1eb0f689c3\" y=\"152.623703\"/>\n     <use style=\"fill:#008000;stroke:#008000;\" x=\"263.535128\" xlink:href=\"#m1eb0f689c3\" y=\"145.600701\"/>\n     <use style=\"fill:#008000;stroke:#008000;\" x=\"263.535128\" xlink:href=\"#m1eb0f689c3\" y=\"145.600701\"/>\n     <use style=\"fill:#008000;stroke:#008000;\" x=\"250.058872\" xlink:href=\"#m1eb0f689c3\" y=\"150.190446\"/>\n     <use style=\"fill:#008000;stroke:#008000;\" x=\"258.724935\" xlink:href=\"#m1eb0f689c3\" y=\"148.462532\"/>\n     <use style=\"fill:#008000;stroke:#008000;\" x=\"273.818477\" xlink:href=\"#m1eb0f689c3\" y=\"145.906943\"/>\n     <use style=\"fill:#008000;stroke:#008000;\" x=\"272.827916\" xlink:href=\"#m1eb0f689c3\" y=\"147.69438\"/>\n     <use style=\"fill:#008000;stroke:#008000;\" x=\"252.747379\" xlink:href=\"#m1eb0f689c3\" y=\"139.611341\"/>\n     <use style=\"fill:#008000;stroke:#008000;\" x=\"251.46583\" xlink:href=\"#m1eb0f689c3\" y=\"139.678122\"/>\n     <use style=\"fill:#008000;stroke:#008000;\" x=\"251.892941\" xlink:href=\"#m1eb0f689c3\" y=\"146.105437\"/>\n     <use style=\"fill:#008000;stroke:#008000;\" x=\"248.874097\" xlink:href=\"#m1eb0f689c3\" y=\"146.522086\"/>\n     <use style=\"fill:#008000;stroke:#008000;\" x=\"263.667951\" xlink:href=\"#m1eb0f689c3\" y=\"145.071704\"/>\n     <use style=\"fill:#008000;stroke:#008000;\" x=\"251.831604\" xlink:href=\"#m1eb0f689c3\" y=\"146.14163\"/>\n     <use style=\"fill:#008000;stroke:#008000;\" x=\"245.685255\" xlink:href=\"#m1eb0f689c3\" y=\"147.713414\"/>\n     <use style=\"fill:#008000;stroke:#008000;\" x=\"246.630286\" xlink:href=\"#m1eb0f689c3\" y=\"147.727919\"/>\n     <use style=\"fill:#008000;stroke:#008000;\" x=\"271.709553\" xlink:href=\"#m1eb0f689c3\" y=\"143.808191\"/>\n     <use style=\"fill:#008000;stroke:#008000;\" x=\"271.05799\" xlink:href=\"#m1eb0f689c3\" y=\"143.842144\"/>\n     <use style=\"fill:#008000;stroke:#008000;\" x=\"270.864727\" xlink:href=\"#m1eb0f689c3\" y=\"144.051348\"/>\n     <use style=\"fill:#008000;stroke:#008000;\" x=\"271.598837\" xlink:href=\"#m1eb0f689c3\" y=\"143.274535\"/>\n     <use style=\"fill:#008000;stroke:#008000;\" x=\"271.598837\" xlink:href=\"#m1eb0f689c3\" y=\"143.274535\"/>\n     <use style=\"fill:#008000;stroke:#008000;\" x=\"271.454431\" xlink:href=\"#m1eb0f689c3\" y=\"143.254562\"/>\n     <use style=\"fill:#008000;stroke:#008000;\" x=\"271.454431\" xlink:href=\"#m1eb0f689c3\" y=\"143.254562\"/>\n    </g>\n   </g>\n   <g id=\"matplotlib.axis_1\">\n    <g id=\"xtick_1\">\n     <g id=\"line2d_1\">\n      <defs>\n       <path d=\"M 0 0 \nL 0 3.5 \n\" id=\"mdcb52877c5\" style=\"stroke:#000000;stroke-width:0.8;\"/>\n      </defs>\n      <g>\n       <use style=\"stroke:#000000;stroke-width:0.8;\" x=\"67.742529\" xlink:href=\"#mdcb52877c5\" y=\"224.64\"/>\n      </g>\n     </g>\n     <g id=\"text_1\">\n      <!-- −0.6 -->\n      <defs>\n       <path d=\"M 10.59375 35.5 \nL 73.1875 35.5 \nL 73.1875 27.203125 \nL 10.59375 27.203125 \nz\n\" id=\"DejaVuSans-8722\"/>\n       <path d=\"M 31.78125 66.40625 \nQ 24.171875 66.40625 20.328125 58.90625 \nQ 16.5 51.421875 16.5 36.375 \nQ 16.5 21.390625 20.328125 13.890625 \nQ 24.171875 6.390625 31.78125 6.390625 \nQ 39.453125 6.390625 43.28125 13.890625 \nQ 47.125 21.390625 47.125 36.375 \nQ 47.125 51.421875 43.28125 58.90625 \nQ 39.453125 66.40625 31.78125 66.40625 \nz\nM 31.78125 74.21875 \nQ 44.046875 74.21875 50.515625 64.515625 \nQ 56.984375 54.828125 56.984375 36.375 \nQ 56.984375 17.96875 50.515625 8.265625 \nQ 44.046875 -1.421875 31.78125 -1.421875 \nQ 19.53125 -1.421875 13.0625 8.265625 \nQ 6.59375 17.96875 6.59375 36.375 \nQ 6.59375 54.828125 13.0625 64.515625 \nQ 19.53125 74.21875 31.78125 74.21875 \nz\n\" id=\"DejaVuSans-48\"/>\n       <path d=\"M 10.6875 12.40625 \nL 21 12.40625 \nL 21 0 \nL 10.6875 0 \nz\n\" id=\"DejaVuSans-46\"/>\n       <path d=\"M 33.015625 40.375 \nQ 26.375 40.375 22.484375 35.828125 \nQ 18.609375 31.296875 18.609375 23.390625 \nQ 18.609375 15.53125 22.484375 10.953125 \nQ 26.375 6.390625 33.015625 6.390625 \nQ 39.65625 6.390625 43.53125 10.953125 \nQ 47.40625 15.53125 47.40625 23.390625 \nQ 47.40625 31.296875 43.53125 35.828125 \nQ 39.65625 40.375 33.015625 40.375 \nz\nM 52.59375 71.296875 \nL 52.59375 62.3125 \nQ 48.875 64.0625 45.09375 64.984375 \nQ 41.3125 65.921875 37.59375 65.921875 \nQ 27.828125 65.921875 22.671875 59.328125 \nQ 17.53125 52.734375 16.796875 39.40625 \nQ 19.671875 43.65625 24.015625 45.921875 \nQ 28.375 48.1875 33.59375 48.1875 \nQ 44.578125 48.1875 50.953125 41.515625 \nQ 57.328125 34.859375 57.328125 23.390625 \nQ 57.328125 12.15625 50.6875 5.359375 \nQ 44.046875 -1.421875 33.015625 -1.421875 \nQ 20.359375 -1.421875 13.671875 8.265625 \nQ 6.984375 17.96875 6.984375 36.375 \nQ 6.984375 53.65625 15.1875 63.9375 \nQ 23.390625 74.21875 37.203125 74.21875 \nQ 40.921875 74.21875 44.703125 73.484375 \nQ 48.484375 72.75 52.59375 71.296875 \nz\n\" id=\"DejaVuSans-54\"/>\n      </defs>\n      <g transform=\"translate(55.601123 239.238437)scale(0.1 -0.1)\">\n       <use xlink:href=\"#DejaVuSans-8722\"/>\n       <use x=\"83.789062\" xlink:href=\"#DejaVuSans-48\"/>\n       <use x=\"147.412109\" xlink:href=\"#DejaVuSans-46\"/>\n       <use x=\"179.199219\" xlink:href=\"#DejaVuSans-54\"/>\n      </g>\n     </g>\n    </g>\n    <g id=\"xtick_2\">\n     <g id=\"line2d_2\">\n      <g>\n       <use style=\"stroke:#000000;stroke-width:0.8;\" x=\"128.684402\" xlink:href=\"#mdcb52877c5\" y=\"224.64\"/>\n      </g>\n     </g>\n     <g id=\"text_2\">\n      <!-- −0.4 -->\n      <defs>\n       <path d=\"M 37.796875 64.3125 \nL 12.890625 25.390625 \nL 37.796875 25.390625 \nz\nM 35.203125 72.90625 \nL 47.609375 72.90625 \nL 47.609375 25.390625 \nL 58.015625 25.390625 \nL 58.015625 17.1875 \nL 47.609375 17.1875 \nL 47.609375 0 \nL 37.796875 0 \nL 37.796875 17.1875 \nL 4.890625 17.1875 \nL 4.890625 26.703125 \nz\n\" id=\"DejaVuSans-52\"/>\n      </defs>\n      <g transform=\"translate(116.542996 239.238437)scale(0.1 -0.1)\">\n       <use xlink:href=\"#DejaVuSans-8722\"/>\n       <use x=\"83.789062\" xlink:href=\"#DejaVuSans-48\"/>\n       <use x=\"147.412109\" xlink:href=\"#DejaVuSans-46\"/>\n       <use x=\"179.199219\" xlink:href=\"#DejaVuSans-52\"/>\n      </g>\n     </g>\n    </g>\n    <g id=\"xtick_3\">\n     <g id=\"line2d_3\">\n      <g>\n       <use style=\"stroke:#000000;stroke-width:0.8;\" x=\"189.626275\" xlink:href=\"#mdcb52877c5\" y=\"224.64\"/>\n      </g>\n     </g>\n     <g id=\"text_3\">\n      <!-- −0.2 -->\n      <defs>\n       <path d=\"M 19.1875 8.296875 \nL 53.609375 8.296875 \nL 53.609375 0 \nL 7.328125 0 \nL 7.328125 8.296875 \nQ 12.9375 14.109375 22.625 23.890625 \nQ 32.328125 33.6875 34.8125 36.53125 \nQ 39.546875 41.84375 41.421875 45.53125 \nQ 43.3125 49.21875 43.3125 52.78125 \nQ 43.3125 58.59375 39.234375 62.25 \nQ 35.15625 65.921875 28.609375 65.921875 \nQ 23.96875 65.921875 18.8125 64.3125 \nQ 13.671875 62.703125 7.8125 59.421875 \nL 7.8125 69.390625 \nQ 13.765625 71.78125 18.9375 73 \nQ 24.125 74.21875 28.421875 74.21875 \nQ 39.75 74.21875 46.484375 68.546875 \nQ 53.21875 62.890625 53.21875 53.421875 \nQ 53.21875 48.921875 51.53125 44.890625 \nQ 49.859375 40.875 45.40625 35.40625 \nQ 44.1875 33.984375 37.640625 27.21875 \nQ 31.109375 20.453125 19.1875 8.296875 \nz\n\" id=\"DejaVuSans-50\"/>\n      </defs>\n      <g transform=\"translate(177.484868 239.238437)scale(0.1 -0.1)\">\n       <use xlink:href=\"#DejaVuSans-8722\"/>\n       <use x=\"83.789062\" xlink:href=\"#DejaVuSans-48\"/>\n       <use x=\"147.412109\" xlink:href=\"#DejaVuSans-46\"/>\n       <use x=\"179.199219\" xlink:href=\"#DejaVuSans-50\"/>\n      </g>\n     </g>\n    </g>\n    <g id=\"xtick_4\">\n     <g id=\"line2d_4\">\n      <g>\n       <use style=\"stroke:#000000;stroke-width:0.8;\" x=\"250.568147\" xlink:href=\"#mdcb52877c5\" y=\"224.64\"/>\n      </g>\n     </g>\n     <g id=\"text_4\">\n      <!-- 0.0 -->\n      <g transform=\"translate(242.616585 239.238437)scale(0.1 -0.1)\">\n       <use xlink:href=\"#DejaVuSans-48\"/>\n       <use x=\"63.623047\" xlink:href=\"#DejaVuSans-46\"/>\n       <use x=\"95.410156\" xlink:href=\"#DejaVuSans-48\"/>\n      </g>\n     </g>\n    </g>\n    <g id=\"xtick_5\">\n     <g id=\"line2d_5\">\n      <g>\n       <use style=\"stroke:#000000;stroke-width:0.8;\" x=\"311.51002\" xlink:href=\"#mdcb52877c5\" y=\"224.64\"/>\n      </g>\n     </g>\n     <g id=\"text_5\">\n      <!-- 0.2 -->\n      <g transform=\"translate(303.558457 239.238437)scale(0.1 -0.1)\">\n       <use xlink:href=\"#DejaVuSans-48\"/>\n       <use x=\"63.623047\" xlink:href=\"#DejaVuSans-46\"/>\n       <use x=\"95.410156\" xlink:href=\"#DejaVuSans-50\"/>\n      </g>\n     </g>\n    </g>\n    <g id=\"xtick_6\">\n     <g id=\"line2d_6\">\n      <g>\n       <use style=\"stroke:#000000;stroke-width:0.8;\" x=\"372.451893\" xlink:href=\"#mdcb52877c5\" y=\"224.64\"/>\n      </g>\n     </g>\n     <g id=\"text_6\">\n      <!-- 0.4 -->\n      <g transform=\"translate(364.50033 239.238437)scale(0.1 -0.1)\">\n       <use xlink:href=\"#DejaVuSans-48\"/>\n       <use x=\"63.623047\" xlink:href=\"#DejaVuSans-46\"/>\n       <use x=\"95.410156\" xlink:href=\"#DejaVuSans-52\"/>\n      </g>\n     </g>\n    </g>\n   </g>\n   <g id=\"matplotlib.axis_2\">\n    <g id=\"ytick_1\">\n     <g id=\"line2d_7\">\n      <defs>\n       <path d=\"M 0 0 \nL -3.5 0 \n\" id=\"m95f47a1057\" style=\"stroke:#000000;stroke-width:0.8;\"/>\n      </defs>\n      <g>\n       <use style=\"stroke:#000000;stroke-width:0.8;\" x=\"44.845313\" xlink:href=\"#m95f47a1057\" y=\"199.70432\"/>\n      </g>\n     </g>\n     <g id=\"text_7\">\n      <!-- −0.50 -->\n      <defs>\n       <path d=\"M 10.796875 72.90625 \nL 49.515625 72.90625 \nL 49.515625 64.59375 \nL 19.828125 64.59375 \nL 19.828125 46.734375 \nQ 21.96875 47.46875 24.109375 47.828125 \nQ 26.265625 48.1875 28.421875 48.1875 \nQ 40.625 48.1875 47.75 41.5 \nQ 54.890625 34.8125 54.890625 23.390625 \nQ 54.890625 11.625 47.5625 5.09375 \nQ 40.234375 -1.421875 26.90625 -1.421875 \nQ 22.3125 -1.421875 17.546875 -0.640625 \nQ 12.796875 0.140625 7.71875 1.703125 \nL 7.71875 11.625 \nQ 12.109375 9.234375 16.796875 8.0625 \nQ 21.484375 6.890625 26.703125 6.890625 \nQ 35.15625 6.890625 40.078125 11.328125 \nQ 45.015625 15.765625 45.015625 23.390625 \nQ 45.015625 31 40.078125 35.4375 \nQ 35.15625 39.890625 26.703125 39.890625 \nQ 22.75 39.890625 18.8125 39.015625 \nQ 14.890625 38.140625 10.796875 36.28125 \nz\n\" id=\"DejaVuSans-53\"/>\n      </defs>\n      <g transform=\"translate(7.2 203.503538)scale(0.1 -0.1)\">\n       <use xlink:href=\"#DejaVuSans-8722\"/>\n       <use x=\"83.789062\" xlink:href=\"#DejaVuSans-48\"/>\n       <use x=\"147.412109\" xlink:href=\"#DejaVuSans-46\"/>\n       <use x=\"179.199219\" xlink:href=\"#DejaVuSans-53\"/>\n       <use x=\"242.822266\" xlink:href=\"#DejaVuSans-48\"/>\n      </g>\n     </g>\n    </g>\n    <g id=\"ytick_2\">\n     <g id=\"line2d_8\">\n      <g>\n       <use style=\"stroke:#000000;stroke-width:0.8;\" x=\"44.845313\" xlink:href=\"#m95f47a1057\" y=\"173.172805\"/>\n      </g>\n     </g>\n     <g id=\"text_8\">\n      <!-- −0.25 -->\n      <g transform=\"translate(7.2 176.972024)scale(0.1 -0.1)\">\n       <use xlink:href=\"#DejaVuSans-8722\"/>\n       <use x=\"83.789062\" xlink:href=\"#DejaVuSans-48\"/>\n       <use x=\"147.412109\" xlink:href=\"#DejaVuSans-46\"/>\n       <use x=\"179.199219\" xlink:href=\"#DejaVuSans-50\"/>\n       <use x=\"242.822266\" xlink:href=\"#DejaVuSans-53\"/>\n      </g>\n     </g>\n    </g>\n    <g id=\"ytick_3\">\n     <g id=\"line2d_9\">\n      <g>\n       <use style=\"stroke:#000000;stroke-width:0.8;\" x=\"44.845313\" xlink:href=\"#m95f47a1057\" y=\"146.64129\"/>\n      </g>\n     </g>\n     <g id=\"text_9\">\n      <!-- 0.00 -->\n      <g transform=\"translate(15.579688 150.440509)scale(0.1 -0.1)\">\n       <use xlink:href=\"#DejaVuSans-48\"/>\n       <use x=\"63.623047\" xlink:href=\"#DejaVuSans-46\"/>\n       <use x=\"95.410156\" xlink:href=\"#DejaVuSans-48\"/>\n       <use x=\"159.033203\" xlink:href=\"#DejaVuSans-48\"/>\n      </g>\n     </g>\n    </g>\n    <g id=\"ytick_4\">\n     <g id=\"line2d_10\">\n      <g>\n       <use style=\"stroke:#000000;stroke-width:0.8;\" x=\"44.845313\" xlink:href=\"#m95f47a1057\" y=\"120.109775\"/>\n      </g>\n     </g>\n     <g id=\"text_10\">\n      <!-- 0.25 -->\n      <g transform=\"translate(15.579688 123.908994)scale(0.1 -0.1)\">\n       <use xlink:href=\"#DejaVuSans-48\"/>\n       <use x=\"63.623047\" xlink:href=\"#DejaVuSans-46\"/>\n       <use x=\"95.410156\" xlink:href=\"#DejaVuSans-50\"/>\n       <use x=\"159.033203\" xlink:href=\"#DejaVuSans-53\"/>\n      </g>\n     </g>\n    </g>\n    <g id=\"ytick_5\">\n     <g id=\"line2d_11\">\n      <g>\n       <use style=\"stroke:#000000;stroke-width:0.8;\" x=\"44.845313\" xlink:href=\"#m95f47a1057\" y=\"93.57826\"/>\n      </g>\n     </g>\n     <g id=\"text_11\">\n      <!-- 0.50 -->\n      <g transform=\"translate(15.579688 97.377479)scale(0.1 -0.1)\">\n       <use xlink:href=\"#DejaVuSans-48\"/>\n       <use x=\"63.623047\" xlink:href=\"#DejaVuSans-46\"/>\n       <use x=\"95.410156\" xlink:href=\"#DejaVuSans-53\"/>\n       <use x=\"159.033203\" xlink:href=\"#DejaVuSans-48\"/>\n      </g>\n     </g>\n    </g>\n    <g id=\"ytick_6\">\n     <g id=\"line2d_12\">\n      <g>\n       <use style=\"stroke:#000000;stroke-width:0.8;\" x=\"44.845313\" xlink:href=\"#m95f47a1057\" y=\"67.046745\"/>\n      </g>\n     </g>\n     <g id=\"text_12\">\n      <!-- 0.75 -->\n      <defs>\n       <path d=\"M 8.203125 72.90625 \nL 55.078125 72.90625 \nL 55.078125 68.703125 \nL 28.609375 0 \nL 18.3125 0 \nL 43.21875 64.59375 \nL 8.203125 64.59375 \nz\n\" id=\"DejaVuSans-55\"/>\n      </defs>\n      <g transform=\"translate(15.579688 70.845964)scale(0.1 -0.1)\">\n       <use xlink:href=\"#DejaVuSans-48\"/>\n       <use x=\"63.623047\" xlink:href=\"#DejaVuSans-46\"/>\n       <use x=\"95.410156\" xlink:href=\"#DejaVuSans-55\"/>\n       <use x=\"159.033203\" xlink:href=\"#DejaVuSans-53\"/>\n      </g>\n     </g>\n    </g>\n    <g id=\"ytick_7\">\n     <g id=\"line2d_13\">\n      <g>\n       <use style=\"stroke:#000000;stroke-width:0.8;\" x=\"44.845313\" xlink:href=\"#m95f47a1057\" y=\"40.515231\"/>\n      </g>\n     </g>\n     <g id=\"text_13\">\n      <!-- 1.00 -->\n      <defs>\n       <path d=\"M 12.40625 8.296875 \nL 28.515625 8.296875 \nL 28.515625 63.921875 \nL 10.984375 60.40625 \nL 10.984375 69.390625 \nL 28.421875 72.90625 \nL 38.28125 72.90625 \nL 38.28125 8.296875 \nL 54.390625 8.296875 \nL 54.390625 0 \nL 12.40625 0 \nz\n\" id=\"DejaVuSans-49\"/>\n      </defs>\n      <g transform=\"translate(15.579688 44.314449)scale(0.1 -0.1)\">\n       <use xlink:href=\"#DejaVuSans-49\"/>\n       <use x=\"63.623047\" xlink:href=\"#DejaVuSans-46\"/>\n       <use x=\"95.410156\" xlink:href=\"#DejaVuSans-48\"/>\n       <use x=\"159.033203\" xlink:href=\"#DejaVuSans-48\"/>\n      </g>\n     </g>\n    </g>\n    <g id=\"ytick_8\">\n     <g id=\"line2d_14\">\n      <g>\n       <use style=\"stroke:#000000;stroke-width:0.8;\" x=\"44.845313\" xlink:href=\"#m95f47a1057\" y=\"13.983716\"/>\n      </g>\n     </g>\n     <g id=\"text_14\">\n      <!-- 1.25 -->\n      <g transform=\"translate(15.579688 17.782935)scale(0.1 -0.1)\">\n       <use xlink:href=\"#DejaVuSans-49\"/>\n       <use x=\"63.623047\" xlink:href=\"#DejaVuSans-46\"/>\n       <use x=\"95.410156\" xlink:href=\"#DejaVuSans-50\"/>\n       <use x=\"159.033203\" xlink:href=\"#DejaVuSans-53\"/>\n      </g>\n     </g>\n    </g>\n   </g>\n   <g id=\"patch_3\">\n    <path d=\"M 44.845313 224.64 \nL 44.845313 7.2 \n\" style=\"fill:none;stroke:#000000;stroke-linecap:square;stroke-linejoin:miter;stroke-width:0.8;\"/>\n   </g>\n   <g id=\"patch_4\">\n    <path d=\"M 379.645313 224.64 \nL 379.645313 7.2 \n\" style=\"fill:none;stroke:#000000;stroke-linecap:square;stroke-linejoin:miter;stroke-width:0.8;\"/>\n   </g>\n   <g id=\"patch_5\">\n    <path d=\"M 44.845312 224.64 \nL 379.645313 224.64 \n\" style=\"fill:none;stroke:#000000;stroke-linecap:square;stroke-linejoin:miter;stroke-width:0.8;\"/>\n   </g>\n   <g id=\"patch_6\">\n    <path d=\"M 44.845312 7.2 \nL 379.645313 7.2 \n\" style=\"fill:none;stroke:#000000;stroke-linecap:square;stroke-linejoin:miter;stroke-width:0.8;\"/>\n   </g>\n   <g id=\"legend_1\">\n    <g id=\"patch_7\">\n     <path d=\"M 51.845313 73.9125 \nL 97.635938 73.9125 \nQ 99.635938 73.9125 99.635938 71.9125 \nL 99.635938 14.2 \nQ 99.635938 12.2 97.635938 12.2 \nL 51.845313 12.2 \nQ 49.845313 12.2 49.845313 14.2 \nL 49.845313 71.9125 \nQ 49.845313 73.9125 51.845313 73.9125 \nz\n\" style=\"fill:#ffffff;opacity:0.8;stroke:#cccccc;stroke-linejoin:miter;\"/>\n    </g>\n    <g id=\"PathCollection_5\">\n     <g>\n      <use style=\"fill:#ff0000;stroke:#ff0000;\" x=\"63.845313\" xlink:href=\"#med85b3220d\" y=\"21.173437\"/>\n     </g>\n    </g>\n    <g id=\"text_15\">\n     <!-- H -->\n     <defs>\n      <path d=\"M 9.8125 72.90625 \nL 19.671875 72.90625 \nL 19.671875 43.015625 \nL 55.515625 43.015625 \nL 55.515625 72.90625 \nL 65.375 72.90625 \nL 65.375 0 \nL 55.515625 0 \nL 55.515625 34.71875 \nL 19.671875 34.71875 \nL 19.671875 0 \nL 9.8125 0 \nz\n\" id=\"DejaVuSans-72\"/>\n     </defs>\n     <g transform=\"translate(81.845313 23.798437)scale(0.1 -0.1)\">\n      <use xlink:href=\"#DejaVuSans-72\"/>\n     </g>\n    </g>\n    <g id=\"PathCollection_6\">\n     <g>\n      <use style=\"fill:#0000ff;stroke:#0000ff;\" x=\"63.845313\" xlink:href=\"#m393f6c7566\" y=\"35.851562\"/>\n     </g>\n    </g>\n    <g id=\"text_16\">\n     <!-- I -->\n     <defs>\n      <path d=\"M 9.8125 72.90625 \nL 19.671875 72.90625 \nL 19.671875 0 \nL 9.8125 0 \nz\n\" id=\"DejaVuSans-73\"/>\n     </defs>\n     <g transform=\"translate(81.845313 38.476562)scale(0.1 -0.1)\">\n      <use xlink:href=\"#DejaVuSans-73\"/>\n     </g>\n    </g>\n    <g id=\"PathCollection_7\">\n     <g>\n      <use style=\"fill:#ffc0cb;stroke:#ffc0cb;\" x=\"63.845313\" xlink:href=\"#m5a0ff1d22a\" y=\"50.529687\"/>\n     </g>\n    </g>\n    <g id=\"text_17\">\n     <!-- L -->\n     <defs>\n      <path d=\"M 9.8125 72.90625 \nL 19.671875 72.90625 \nL 19.671875 8.296875 \nL 55.171875 8.296875 \nL 55.171875 0 \nL 9.8125 0 \nz\n\" id=\"DejaVuSans-76\"/>\n     </defs>\n     <g transform=\"translate(81.845313 53.154687)scale(0.1 -0.1)\">\n      <use xlink:href=\"#DejaVuSans-76\"/>\n     </g>\n    </g>\n    <g id=\"PathCollection_8\">\n     <g>\n      <use style=\"fill:#008000;stroke:#008000;\" x=\"63.845313\" xlink:href=\"#m1eb0f689c3\" y=\"65.207812\"/>\n     </g>\n    </g>\n    <g id=\"text_18\">\n     <!-- Ox -->\n     <defs>\n      <path d=\"M 39.40625 66.21875 \nQ 28.65625 66.21875 22.328125 58.203125 \nQ 16.015625 50.203125 16.015625 36.375 \nQ 16.015625 22.609375 22.328125 14.59375 \nQ 28.65625 6.59375 39.40625 6.59375 \nQ 50.140625 6.59375 56.421875 14.59375 \nQ 62.703125 22.609375 62.703125 36.375 \nQ 62.703125 50.203125 56.421875 58.203125 \nQ 50.140625 66.21875 39.40625 66.21875 \nz\nM 39.40625 74.21875 \nQ 54.734375 74.21875 63.90625 63.9375 \nQ 73.09375 53.65625 73.09375 36.375 \nQ 73.09375 19.140625 63.90625 8.859375 \nQ 54.734375 -1.421875 39.40625 -1.421875 \nQ 24.03125 -1.421875 14.8125 8.828125 \nQ 5.609375 19.09375 5.609375 36.375 \nQ 5.609375 53.65625 14.8125 63.9375 \nQ 24.03125 74.21875 39.40625 74.21875 \nz\n\" id=\"DejaVuSans-79\"/>\n      <path d=\"M 54.890625 54.6875 \nL 35.109375 28.078125 \nL 55.90625 0 \nL 45.3125 0 \nL 29.390625 21.484375 \nL 13.484375 0 \nL 2.875 0 \nL 24.125 28.609375 \nL 4.6875 54.6875 \nL 15.28125 54.6875 \nL 29.78125 35.203125 \nL 44.28125 54.6875 \nz\n\" id=\"DejaVuSans-120\"/>\n     </defs>\n     <g transform=\"translate(81.845313 67.832812)scale(0.1 -0.1)\">\n      <use xlink:href=\"#DejaVuSans-79\"/>\n      <use x=\"78.710938\" xlink:href=\"#DejaVuSans-120\"/>\n     </g>\n    </g>\n   </g>\n  </g>\n </g>\n <defs>\n  <clipPath id=\"p5fbb0474f4\">\n   <rect height=\"217.44\" width=\"334.8\" x=\"44.845313\" y=\"7.2\"/>\n  </clipPath>\n </defs>\n</svg>\n"
          },
          "metadata": {
            "needs_background": "light"
          }
        }
      ]
    },
    {
      "cell_type": "code",
      "source": [
        "resp = np.array(marca.Respuesta)"
      ],
      "metadata": {
        "id": "ZIrvrQFGfrtZ"
      },
      "id": "ZIrvrQFGfrtZ",
      "execution_count": 66,
      "outputs": []
    },
    {
      "cell_type": "code",
      "source": [
        "scatter_x = result[:, 0]\n",
        "scatter_y = result[:, 1]\n",
        "group = resp\n",
        "cdict = {0:'red', 1:'blue'}\n",
        "\n",
        "fig, ax = plt.subplots()\n",
        "for g in np.unique(group):\n",
        "    ix = np.where(group == g)\n",
        "    ax.scatter(scatter_x[ix], scatter_y[ix], c = cdict[g], label = g, s = 20)\n",
        "ax.legend()\n",
        "plt.show()"
      ],
      "metadata": {
        "colab": {
          "base_uri": "https://localhost:8080/",
          "height": 353
        },
        "id": "lk5BmaH_bV5U",
        "outputId": "4277734f-e8b6-4d5e-dae8-8215f63e4a01"
      },
      "id": "lk5BmaH_bV5U",
      "execution_count": 67,
      "outputs": [
        {
          "output_type": "display_data",
          "data": {
            "text/plain": [
              "<Figure size 432x288 with 1 Axes>"
            ],
            "image/svg+xml": "<?xml version=\"1.0\" encoding=\"utf-8\" standalone=\"no\"?>\n<!DOCTYPE svg PUBLIC \"-//W3C//DTD SVG 1.1//EN\"\n  \"http://www.w3.org/Graphics/SVG/1.1/DTD/svg11.dtd\">\n<!-- Created with matplotlib (https://matplotlib.org/) -->\n<svg height=\"248.518125pt\" version=\"1.1\" viewBox=\"0 0 387.603455 248.518125\" width=\"387.603455pt\" xmlns=\"http://www.w3.org/2000/svg\" xmlns:xlink=\"http://www.w3.org/1999/xlink\">\n <defs>\n  <style type=\"text/css\">\n*{stroke-linecap:butt;stroke-linejoin:round;}\n  </style>\n </defs>\n <g id=\"figure_1\">\n  <g id=\"patch_1\">\n   <path d=\"M 0 248.518125 \nL 387.603455 248.518125 \nL 387.603455 0 \nL 0 0 \nz\n\" style=\"fill:none;\"/>\n  </g>\n  <g id=\"axes_1\">\n   <g id=\"patch_2\">\n    <path d=\"M 44.845313 224.64 \nL 379.645313 224.64 \nL 379.645313 7.2 \nL 44.845313 7.2 \nz\n\" style=\"fill:#ffffff;\"/>\n   </g>\n   <g id=\"PathCollection_1\">\n    <defs>\n     <path d=\"M 0 2.236068 \nC 0.593012 2.236068 1.161816 2.000462 1.581139 1.581139 \nC 2.000462 1.161816 2.236068 0.593012 2.236068 0 \nC 2.236068 -0.593012 2.000462 -1.161816 1.581139 -1.581139 \nC 1.161816 -2.000462 0.593012 -2.236068 0 -2.236068 \nC -0.593012 -2.236068 -1.161816 -2.000462 -1.581139 -1.581139 \nC -2.000462 -1.161816 -2.236068 -0.593012 -2.236068 0 \nC -2.236068 0.593012 -2.000462 1.161816 -1.581139 1.581139 \nC -1.161816 2.000462 -0.593012 2.236068 0 2.236068 \nz\n\" id=\"mfb7a8fda70\" style=\"stroke:#ff0000;\"/>\n    </defs>\n    <g clip-path=\"url(#p9ffdf45dae)\">\n     <use style=\"fill:#ff0000;stroke:#ff0000;\" x=\"256.833993\" xlink:href=\"#mfb7a8fda70\" y=\"153.814478\"/>\n     <use style=\"fill:#ff0000;stroke:#ff0000;\" x=\"247.247016\" xlink:href=\"#mfb7a8fda70\" y=\"149.55241\"/>\n     <use style=\"fill:#ff0000;stroke:#ff0000;\" x=\"249.770942\" xlink:href=\"#mfb7a8fda70\" y=\"157.82703\"/>\n     <use style=\"fill:#ff0000;stroke:#ff0000;\" x=\"245.598439\" xlink:href=\"#mfb7a8fda70\" y=\"144.097227\"/>\n     <use style=\"fill:#ff0000;stroke:#ff0000;\" x=\"260.747377\" xlink:href=\"#mfb7a8fda70\" y=\"150.76294\"/>\n     <use style=\"fill:#ff0000;stroke:#ff0000;\" x=\"265.051103\" xlink:href=\"#mfb7a8fda70\" y=\"146.857149\"/>\n     <use style=\"fill:#ff0000;stroke:#ff0000;\" x=\"279.364783\" xlink:href=\"#mfb7a8fda70\" y=\"146.527196\"/>\n     <use style=\"fill:#ff0000;stroke:#ff0000;\" x=\"257.021954\" xlink:href=\"#mfb7a8fda70\" y=\"147.072483\"/>\n     <use style=\"fill:#ff0000;stroke:#ff0000;\" x=\"270.58012\" xlink:href=\"#mfb7a8fda70\" y=\"144.774558\"/>\n     <use style=\"fill:#ff0000;stroke:#ff0000;\" x=\"267.128144\" xlink:href=\"#mfb7a8fda70\" y=\"148.309922\"/>\n     <use style=\"fill:#ff0000;stroke:#ff0000;\" x=\"263.187432\" xlink:href=\"#mfb7a8fda70\" y=\"149.399846\"/>\n     <use style=\"fill:#ff0000;stroke:#ff0000;\" x=\"272.123995\" xlink:href=\"#mfb7a8fda70\" y=\"148.417932\"/>\n     <use style=\"fill:#ff0000;stroke:#ff0000;\" x=\"289.016289\" xlink:href=\"#mfb7a8fda70\" y=\"150.938821\"/>\n     <use style=\"fill:#ff0000;stroke:#ff0000;\" x=\"280.294755\" xlink:href=\"#mfb7a8fda70\" y=\"146.872514\"/>\n     <use style=\"fill:#ff0000;stroke:#ff0000;\" x=\"277.455839\" xlink:href=\"#mfb7a8fda70\" y=\"151.776571\"/>\n     <use style=\"fill:#ff0000;stroke:#ff0000;\" x=\"262.862615\" xlink:href=\"#mfb7a8fda70\" y=\"149.435244\"/>\n     <use style=\"fill:#ff0000;stroke:#ff0000;\" x=\"262.577677\" xlink:href=\"#mfb7a8fda70\" y=\"150.478807\"/>\n     <use style=\"fill:#ff0000;stroke:#ff0000;\" x=\"266.893317\" xlink:href=\"#mfb7a8fda70\" y=\"150.851315\"/>\n     <use style=\"fill:#ff0000;stroke:#ff0000;\" x=\"284.133862\" xlink:href=\"#mfb7a8fda70\" y=\"151.040381\"/>\n     <use style=\"fill:#ff0000;stroke:#ff0000;\" x=\"284.206322\" xlink:href=\"#mfb7a8fda70\" y=\"150.136266\"/>\n     <use style=\"fill:#ff0000;stroke:#ff0000;\" x=\"277.406191\" xlink:href=\"#mfb7a8fda70\" y=\"152.086834\"/>\n     <use style=\"fill:#ff0000;stroke:#ff0000;\" x=\"270.057779\" xlink:href=\"#mfb7a8fda70\" y=\"151.174382\"/>\n     <use style=\"fill:#ff0000;stroke:#ff0000;\" x=\"284.145219\" xlink:href=\"#mfb7a8fda70\" y=\"148.019192\"/>\n     <use style=\"fill:#ff0000;stroke:#ff0000;\" x=\"292.556027\" xlink:href=\"#mfb7a8fda70\" y=\"149.918302\"/>\n     <use style=\"fill:#ff0000;stroke:#ff0000;\" x=\"259.277224\" xlink:href=\"#mfb7a8fda70\" y=\"149.852284\"/>\n     <use style=\"fill:#ff0000;stroke:#ff0000;\" x=\"272.872903\" xlink:href=\"#mfb7a8fda70\" y=\"149.52643\"/>\n     <use style=\"fill:#ff0000;stroke:#ff0000;\" x=\"249.852076\" xlink:href=\"#mfb7a8fda70\" y=\"151.552715\"/>\n     <use style=\"fill:#ff0000;stroke:#ff0000;\" x=\"258.216581\" xlink:href=\"#mfb7a8fda70\" y=\"148.190652\"/>\n     <use style=\"fill:#ff0000;stroke:#ff0000;\" x=\"266.855386\" xlink:href=\"#mfb7a8fda70\" y=\"146.920298\"/>\n     <use style=\"fill:#ff0000;stroke:#ff0000;\" x=\"256.799912\" xlink:href=\"#mfb7a8fda70\" y=\"146.864913\"/>\n     <use style=\"fill:#ff0000;stroke:#ff0000;\" x=\"257.36278\" xlink:href=\"#mfb7a8fda70\" y=\"150.033173\"/>\n     <use style=\"fill:#ff0000;stroke:#ff0000;\" x=\"266.497013\" xlink:href=\"#mfb7a8fda70\" y=\"145.814541\"/>\n     <use style=\"fill:#ff0000;stroke:#ff0000;\" x=\"271.978468\" xlink:href=\"#mfb7a8fda70\" y=\"145.977415\"/>\n     <use style=\"fill:#ff0000;stroke:#ff0000;\" x=\"273.416781\" xlink:href=\"#mfb7a8fda70\" y=\"150.30893\"/>\n     <use style=\"fill:#ff0000;stroke:#ff0000;\" x=\"264.251286\" xlink:href=\"#mfb7a8fda70\" y=\"145.134302\"/>\n     <use style=\"fill:#ff0000;stroke:#ff0000;\" x=\"271.363307\" xlink:href=\"#mfb7a8fda70\" y=\"150.951577\"/>\n     <use style=\"fill:#ff0000;stroke:#ff0000;\" x=\"273.211488\" xlink:href=\"#mfb7a8fda70\" y=\"146.561605\"/>\n     <use style=\"fill:#ff0000;stroke:#ff0000;\" x=\"281.278574\" xlink:href=\"#mfb7a8fda70\" y=\"147.0909\"/>\n     <use style=\"fill:#ff0000;stroke:#ff0000;\" x=\"271.204567\" xlink:href=\"#mfb7a8fda70\" y=\"144.956733\"/>\n     <use style=\"fill:#ff0000;stroke:#ff0000;\" x=\"267.029461\" xlink:href=\"#mfb7a8fda70\" y=\"145.511765\"/>\n     <use style=\"fill:#ff0000;stroke:#ff0000;\" x=\"274.883251\" xlink:href=\"#mfb7a8fda70\" y=\"142.953681\"/>\n     <use style=\"fill:#ff0000;stroke:#ff0000;\" x=\"270.037474\" xlink:href=\"#mfb7a8fda70\" y=\"144.917954\"/>\n     <use style=\"fill:#ff0000;stroke:#ff0000;\" x=\"261.824973\" xlink:href=\"#mfb7a8fda70\" y=\"150.143997\"/>\n     <use style=\"fill:#ff0000;stroke:#ff0000;\" x=\"264.518626\" xlink:href=\"#mfb7a8fda70\" y=\"149.835267\"/>\n     <use style=\"fill:#ff0000;stroke:#ff0000;\" x=\"100.352633\" xlink:href=\"#mfb7a8fda70\" y=\"214.756364\"/>\n     <use style=\"fill:#ff0000;stroke:#ff0000;\" x=\"271.980002\" xlink:href=\"#mfb7a8fda70\" y=\"148.308107\"/>\n     <use style=\"fill:#ff0000;stroke:#ff0000;\" x=\"321.704752\" xlink:href=\"#mfb7a8fda70\" y=\"131.973593\"/>\n     <use style=\"fill:#ff0000;stroke:#ff0000;\" x=\"293.910812\" xlink:href=\"#mfb7a8fda70\" y=\"146.829319\"/>\n     <use style=\"fill:#ff0000;stroke:#ff0000;\" x=\"282.901905\" xlink:href=\"#mfb7a8fda70\" y=\"147.991362\"/>\n     <use style=\"fill:#ff0000;stroke:#ff0000;\" x=\"249.202092\" xlink:href=\"#mfb7a8fda70\" y=\"140.951184\"/>\n     <use style=\"fill:#ff0000;stroke:#ff0000;\" x=\"277.471076\" xlink:href=\"#mfb7a8fda70\" y=\"143.411317\"/>\n     <use style=\"fill:#ff0000;stroke:#ff0000;\" x=\"248.230634\" xlink:href=\"#mfb7a8fda70\" y=\"153.417202\"/>\n     <use style=\"fill:#ff0000;stroke:#ff0000;\" x=\"251.39614\" xlink:href=\"#mfb7a8fda70\" y=\"145.044109\"/>\n     <use style=\"fill:#ff0000;stroke:#ff0000;\" x=\"272.166287\" xlink:href=\"#mfb7a8fda70\" y=\"140.044068\"/>\n     <use style=\"fill:#ff0000;stroke:#ff0000;\" x=\"262.349054\" xlink:href=\"#mfb7a8fda70\" y=\"149.736648\"/>\n     <use style=\"fill:#ff0000;stroke:#ff0000;\" x=\"262.003722\" xlink:href=\"#mfb7a8fda70\" y=\"145.063351\"/>\n     <use style=\"fill:#ff0000;stroke:#ff0000;\" x=\"280.686738\" xlink:href=\"#mfb7a8fda70\" y=\"141.542986\"/>\n     <use style=\"fill:#ff0000;stroke:#ff0000;\" x=\"274.479305\" xlink:href=\"#mfb7a8fda70\" y=\"147.323536\"/>\n     <use style=\"fill:#ff0000;stroke:#ff0000;\" x=\"278.610876\" xlink:href=\"#mfb7a8fda70\" y=\"142.680593\"/>\n     <use style=\"fill:#ff0000;stroke:#ff0000;\" x=\"257.566651\" xlink:href=\"#mfb7a8fda70\" y=\"145.757255\"/>\n     <use style=\"fill:#ff0000;stroke:#ff0000;\" x=\"265.461177\" xlink:href=\"#mfb7a8fda70\" y=\"146.903\"/>\n     <use style=\"fill:#ff0000;stroke:#ff0000;\" x=\"277.547339\" xlink:href=\"#mfb7a8fda70\" y=\"143.116666\"/>\n     <use style=\"fill:#ff0000;stroke:#ff0000;\" x=\"274.892135\" xlink:href=\"#mfb7a8fda70\" y=\"137.540342\"/>\n     <use style=\"fill:#ff0000;stroke:#ff0000;\" x=\"264.4212\" xlink:href=\"#mfb7a8fda70\" y=\"145.856458\"/>\n     <use style=\"fill:#ff0000;stroke:#ff0000;\" x=\"82.464152\" xlink:href=\"#mfb7a8fda70\" y=\"131.029768\"/>\n     <use style=\"fill:#ff0000;stroke:#ff0000;\" x=\"268.990498\" xlink:href=\"#mfb7a8fda70\" y=\"147.592393\"/>\n     <use style=\"fill:#ff0000;stroke:#ff0000;\" x=\"282.96637\" xlink:href=\"#mfb7a8fda70\" y=\"140.534924\"/>\n     <use style=\"fill:#ff0000;stroke:#ff0000;\" x=\"273.551182\" xlink:href=\"#mfb7a8fda70\" y=\"141.18028\"/>\n     <use style=\"fill:#ff0000;stroke:#ff0000;\" x=\"276.097268\" xlink:href=\"#mfb7a8fda70\" y=\"141.003512\"/>\n     <use style=\"fill:#ff0000;stroke:#ff0000;\" x=\"275.345579\" xlink:href=\"#mfb7a8fda70\" y=\"141.190112\"/>\n     <use style=\"fill:#ff0000;stroke:#ff0000;\" x=\"295.124203\" xlink:href=\"#mfb7a8fda70\" y=\"139.543951\"/>\n     <use style=\"fill:#ff0000;stroke:#ff0000;\" x=\"267.603943\" xlink:href=\"#mfb7a8fda70\" y=\"146.057509\"/>\n     <use style=\"fill:#ff0000;stroke:#ff0000;\" x=\"279.221566\" xlink:href=\"#mfb7a8fda70\" y=\"140.619445\"/>\n     <use style=\"fill:#ff0000;stroke:#ff0000;\" x=\"270.55044\" xlink:href=\"#mfb7a8fda70\" y=\"145.313456\"/>\n     <use style=\"fill:#ff0000;stroke:#ff0000;\" x=\"282.986569\" xlink:href=\"#mfb7a8fda70\" y=\"143.246407\"/>\n     <use style=\"fill:#ff0000;stroke:#ff0000;\" x=\"278.249621\" xlink:href=\"#mfb7a8fda70\" y=\"146.317408\"/>\n     <use style=\"fill:#ff0000;stroke:#ff0000;\" x=\"279.91071\" xlink:href=\"#mfb7a8fda70\" y=\"145.251849\"/>\n     <use style=\"fill:#ff0000;stroke:#ff0000;\" x=\"281.299882\" xlink:href=\"#mfb7a8fda70\" y=\"140.190956\"/>\n     <use style=\"fill:#ff0000;stroke:#ff0000;\" x=\"255.824645\" xlink:href=\"#mfb7a8fda70\" y=\"156.26859\"/>\n     <use style=\"fill:#ff0000;stroke:#ff0000;\" x=\"269.621038\" xlink:href=\"#mfb7a8fda70\" y=\"143.496183\"/>\n     <use style=\"fill:#ff0000;stroke:#ff0000;\" x=\"260.232866\" xlink:href=\"#mfb7a8fda70\" y=\"142.347053\"/>\n     <use style=\"fill:#ff0000;stroke:#ff0000;\" x=\"261.790492\" xlink:href=\"#mfb7a8fda70\" y=\"147.39195\"/>\n     <use style=\"fill:#ff0000;stroke:#ff0000;\" x=\"266.219122\" xlink:href=\"#mfb7a8fda70\" y=\"145.091859\"/>\n     <use style=\"fill:#ff0000;stroke:#ff0000;\" x=\"292.201234\" xlink:href=\"#mfb7a8fda70\" y=\"146.837283\"/>\n     <use style=\"fill:#ff0000;stroke:#ff0000;\" x=\"277.768418\" xlink:href=\"#mfb7a8fda70\" y=\"140.362335\"/>\n     <use style=\"fill:#ff0000;stroke:#ff0000;\" x=\"265.41137\" xlink:href=\"#mfb7a8fda70\" y=\"132.881178\"/>\n     <use style=\"fill:#ff0000;stroke:#ff0000;\" x=\"279.116305\" xlink:href=\"#mfb7a8fda70\" y=\"147.218037\"/>\n     <use style=\"fill:#ff0000;stroke:#ff0000;\" x=\"265.730299\" xlink:href=\"#mfb7a8fda70\" y=\"146.375922\"/>\n     <use style=\"fill:#ff0000;stroke:#ff0000;\" x=\"266.690582\" xlink:href=\"#mfb7a8fda70\" y=\"148.347471\"/>\n     <use style=\"fill:#ff0000;stroke:#ff0000;\" x=\"283.860628\" xlink:href=\"#mfb7a8fda70\" y=\"146.060091\"/>\n     <use style=\"fill:#ff0000;stroke:#ff0000;\" x=\"269.932036\" xlink:href=\"#mfb7a8fda70\" y=\"144.322285\"/>\n     <use style=\"fill:#ff0000;stroke:#ff0000;\" x=\"274.699358\" xlink:href=\"#mfb7a8fda70\" y=\"151.961355\"/>\n     <use style=\"fill:#ff0000;stroke:#ff0000;\" x=\"274.349206\" xlink:href=\"#mfb7a8fda70\" y=\"149.709706\"/>\n     <use style=\"fill:#ff0000;stroke:#ff0000;\" x=\"273.402704\" xlink:href=\"#mfb7a8fda70\" y=\"146.357876\"/>\n     <use style=\"fill:#ff0000;stroke:#ff0000;\" x=\"267.663792\" xlink:href=\"#mfb7a8fda70\" y=\"147.466\"/>\n     <use style=\"fill:#ff0000;stroke:#ff0000;\" x=\"93.022708\" xlink:href=\"#mfb7a8fda70\" y=\"128.747208\"/>\n     <use style=\"fill:#ff0000;stroke:#ff0000;\" x=\"84.497204\" xlink:href=\"#mfb7a8fda70\" y=\"146.349441\"/>\n     <use style=\"fill:#ff0000;stroke:#ff0000;\" x=\"294.421407\" xlink:href=\"#mfb7a8fda70\" y=\"140.67574\"/>\n     <use style=\"fill:#ff0000;stroke:#ff0000;\" x=\"249.209287\" xlink:href=\"#mfb7a8fda70\" y=\"154.17467\"/>\n     <use style=\"fill:#ff0000;stroke:#ff0000;\" x=\"237.877391\" xlink:href=\"#mfb7a8fda70\" y=\"151.099331\"/>\n     <use style=\"fill:#ff0000;stroke:#ff0000;\" x=\"214.844694\" xlink:href=\"#mfb7a8fda70\" y=\"149.011045\"/>\n     <use style=\"fill:#ff0000;stroke:#ff0000;\" x=\"262.646646\" xlink:href=\"#mfb7a8fda70\" y=\"148.565662\"/>\n     <use style=\"fill:#ff0000;stroke:#ff0000;\" x=\"262.606643\" xlink:href=\"#mfb7a8fda70\" y=\"148.546474\"/>\n     <use style=\"fill:#ff0000;stroke:#ff0000;\" x=\"107.172132\" xlink:href=\"#mfb7a8fda70\" y=\"140.293444\"/>\n     <use style=\"fill:#ff0000;stroke:#ff0000;\" x=\"283.565942\" xlink:href=\"#mfb7a8fda70\" y=\"146.267936\"/>\n     <use style=\"fill:#ff0000;stroke:#ff0000;\" x=\"65.023587\" xlink:href=\"#mfb7a8fda70\" y=\"150.792669\"/>\n     <use style=\"fill:#ff0000;stroke:#ff0000;\" x=\"99.243814\" xlink:href=\"#mfb7a8fda70\" y=\"137.123855\"/>\n     <use style=\"fill:#ff0000;stroke:#ff0000;\" x=\"106.062567\" xlink:href=\"#mfb7a8fda70\" y=\"139.305195\"/>\n     <use style=\"fill:#ff0000;stroke:#ff0000;\" x=\"60.063494\" xlink:href=\"#mfb7a8fda70\" y=\"155.536925\"/>\n     <use style=\"fill:#ff0000;stroke:#ff0000;\" x=\"101.131597\" xlink:href=\"#mfb7a8fda70\" y=\"143.107187\"/>\n     <use style=\"fill:#ff0000;stroke:#ff0000;\" x=\"71.68098\" xlink:href=\"#mfb7a8fda70\" y=\"156.722164\"/>\n     <use style=\"fill:#ff0000;stroke:#ff0000;\" x=\"101.131597\" xlink:href=\"#mfb7a8fda70\" y=\"143.107187\"/>\n     <use style=\"fill:#ff0000;stroke:#ff0000;\" x=\"61.037739\" xlink:href=\"#mfb7a8fda70\" y=\"142.130127\"/>\n     <use style=\"fill:#ff0000;stroke:#ff0000;\" x=\"85.597679\" xlink:href=\"#mfb7a8fda70\" y=\"129.2717\"/>\n     <use style=\"fill:#ff0000;stroke:#ff0000;\" x=\"106.865542\" xlink:href=\"#mfb7a8fda70\" y=\"143.035536\"/>\n     <use style=\"fill:#ff0000;stroke:#ff0000;\" x=\"75.983921\" xlink:href=\"#mfb7a8fda70\" y=\"146.280114\"/>\n     <use style=\"fill:#ff0000;stroke:#ff0000;\" x=\"81.791089\" xlink:href=\"#mfb7a8fda70\" y=\"147.259372\"/>\n     <use style=\"fill:#ff0000;stroke:#ff0000;\" x=\"72.950847\" xlink:href=\"#mfb7a8fda70\" y=\"136.972888\"/>\n     <use style=\"fill:#ff0000;stroke:#ff0000;\" x=\"79.121118\" xlink:href=\"#mfb7a8fda70\" y=\"149.605781\"/>\n     <use style=\"fill:#ff0000;stroke:#ff0000;\" x=\"76.279544\" xlink:href=\"#mfb7a8fda70\" y=\"139.937635\"/>\n     <use style=\"fill:#ff0000;stroke:#ff0000;\" x=\"106.509365\" xlink:href=\"#mfb7a8fda70\" y=\"142.121281\"/>\n     <use style=\"fill:#ff0000;stroke:#ff0000;\" x=\"69.81365\" xlink:href=\"#mfb7a8fda70\" y=\"133.64722\"/>\n     <use style=\"fill:#ff0000;stroke:#ff0000;\" x=\"77.140934\" xlink:href=\"#mfb7a8fda70\" y=\"137.153073\"/>\n     <use style=\"fill:#ff0000;stroke:#ff0000;\" x=\"81.239636\" xlink:href=\"#mfb7a8fda70\" y=\"135.19338\"/>\n     <use style=\"fill:#ff0000;stroke:#ff0000;\" x=\"84.08121\" xlink:href=\"#mfb7a8fda70\" y=\"144.861526\"/>\n     <use style=\"fill:#ff0000;stroke:#ff0000;\" x=\"84.442738\" xlink:href=\"#mfb7a8fda70\" y=\"156.9018\"/>\n     <use style=\"fill:#ff0000;stroke:#ff0000;\" x=\"99.994978\" xlink:href=\"#mfb7a8fda70\" y=\"158.748451\"/>\n     <use style=\"fill:#ff0000;stroke:#ff0000;\" x=\"111.269983\" xlink:href=\"#mfb7a8fda70\" y=\"143.121474\"/>\n     <use style=\"fill:#ff0000;stroke:#ff0000;\" x=\"79.969768\" xlink:href=\"#mfb7a8fda70\" y=\"154.942656\"/>\n     <use style=\"fill:#ff0000;stroke:#ff0000;\" x=\"83.106966\" xlink:href=\"#mfb7a8fda70\" y=\"158.268323\"/>\n     <use style=\"fill:#ff0000;stroke:#ff0000;\" x=\"77.128194\" xlink:href=\"#mfb7a8fda70\" y=\"145.27451\"/>\n     <use style=\"fill:#ff0000;stroke:#ff0000;\" x=\"81.791089\" xlink:href=\"#mfb7a8fda70\" y=\"147.259372\"/>\n     <use style=\"fill:#ff0000;stroke:#ff0000;\" x=\"62.73504\" xlink:href=\"#mfb7a8fda70\" y=\"152.803877\"/>\n     <use style=\"fill:#ff0000;stroke:#ff0000;\" x=\"106.471539\" xlink:href=\"#mfb7a8fda70\" y=\"138.414369\"/>\n     <use style=\"fill:#ff0000;stroke:#ff0000;\" x=\"102.46972\" xlink:href=\"#mfb7a8fda70\" y=\"147.615949\"/>\n     <use style=\"fill:#ff0000;stroke:#ff0000;\" x=\"88.849803\" xlink:href=\"#mfb7a8fda70\" y=\"140.478191\"/>\n     <use style=\"fill:#ff0000;stroke:#ff0000;\" x=\"74.024131\" xlink:href=\"#mfb7a8fda70\" y=\"140.341629\"/>\n     <use style=\"fill:#ff0000;stroke:#ff0000;\" x=\"241.978593\" xlink:href=\"#mfb7a8fda70\" y=\"138.926491\"/>\n     <use style=\"fill:#ff0000;stroke:#ff0000;\" x=\"249.649931\" xlink:href=\"#mfb7a8fda70\" y=\"144.832593\"/>\n     <use style=\"fill:#ff0000;stroke:#ff0000;\" x=\"248.087317\" xlink:href=\"#mfb7a8fda70\" y=\"144.114682\"/>\n     <use style=\"fill:#ff0000;stroke:#ff0000;\" x=\"333.340193\" xlink:href=\"#mfb7a8fda70\" y=\"17.083636\"/>\n     <use style=\"fill:#ff0000;stroke:#ff0000;\" x=\"240.180332\" xlink:href=\"#mfb7a8fda70\" y=\"140.778597\"/>\n     <use style=\"fill:#ff0000;stroke:#ff0000;\" x=\"248.342434\" xlink:href=\"#mfb7a8fda70\" y=\"144.169811\"/>\n     <use style=\"fill:#ff0000;stroke:#ff0000;\" x=\"236.63841\" xlink:href=\"#mfb7a8fda70\" y=\"145.12827\"/>\n     <use style=\"fill:#ff0000;stroke:#ff0000;\" x=\"230.320552\" xlink:href=\"#mfb7a8fda70\" y=\"161.774413\"/>\n     <use style=\"fill:#ff0000;stroke:#ff0000;\" x=\"258.471603\" xlink:href=\"#mfb7a8fda70\" y=\"146.843251\"/>\n     <use style=\"fill:#ff0000;stroke:#ff0000;\" x=\"286.401921\" xlink:href=\"#mfb7a8fda70\" y=\"157.759155\"/>\n     <use style=\"fill:#ff0000;stroke:#ff0000;\" x=\"210.473177\" xlink:href=\"#mfb7a8fda70\" y=\"149.986557\"/>\n     <use style=\"fill:#ff0000;stroke:#ff0000;\" x=\"274.1339\" xlink:href=\"#mfb7a8fda70\" y=\"142.919173\"/>\n     <use style=\"fill:#ff0000;stroke:#ff0000;\" x=\"257.235275\" xlink:href=\"#mfb7a8fda70\" y=\"145.984262\"/>\n     <use style=\"fill:#ff0000;stroke:#ff0000;\" x=\"257.358395\" xlink:href=\"#mfb7a8fda70\" y=\"145.992736\"/>\n     <use style=\"fill:#ff0000;stroke:#ff0000;\" x=\"253.658663\" xlink:href=\"#mfb7a8fda70\" y=\"151.168507\"/>\n     <use style=\"fill:#ff0000;stroke:#ff0000;\" x=\"215.458307\" xlink:href=\"#mfb7a8fda70\" y=\"148.961761\"/>\n     <use style=\"fill:#ff0000;stroke:#ff0000;\" x=\"263.255699\" xlink:href=\"#mfb7a8fda70\" y=\"144.622576\"/>\n     <use style=\"fill:#ff0000;stroke:#ff0000;\" x=\"256.482006\" xlink:href=\"#mfb7a8fda70\" y=\"142.993455\"/>\n     <use style=\"fill:#ff0000;stroke:#ff0000;\" x=\"275.293824\" xlink:href=\"#mfb7a8fda70\" y=\"141.319693\"/>\n     <use style=\"fill:#ff0000;stroke:#ff0000;\" x=\"279.894032\" xlink:href=\"#mfb7a8fda70\" y=\"141.465262\"/>\n     <use style=\"fill:#ff0000;stroke:#ff0000;\" x=\"301.936037\" xlink:href=\"#mfb7a8fda70\" y=\"140.582831\"/>\n     <use style=\"fill:#ff0000;stroke:#ff0000;\" x=\"304.953412\" xlink:href=\"#mfb7a8fda70\" y=\"146.13935\"/>\n     <use style=\"fill:#ff0000;stroke:#ff0000;\" x=\"307.288894\" xlink:href=\"#mfb7a8fda70\" y=\"133.894098\"/>\n     <use style=\"fill:#ff0000;stroke:#ff0000;\" x=\"263.196914\" xlink:href=\"#mfb7a8fda70\" y=\"141.367132\"/>\n     <use style=\"fill:#ff0000;stroke:#ff0000;\" x=\"111.365199\" xlink:href=\"#mfb7a8fda70\" y=\"155.120731\"/>\n     <use style=\"fill:#ff0000;stroke:#ff0000;\" x=\"88.527927\" xlink:href=\"#mfb7a8fda70\" y=\"127.759254\"/>\n     <use style=\"fill:#ff0000;stroke:#ff0000;\" x=\"269.387323\" xlink:href=\"#mfb7a8fda70\" y=\"138.204363\"/>\n     <use style=\"fill:#ff0000;stroke:#ff0000;\" x=\"272.714635\" xlink:href=\"#mfb7a8fda70\" y=\"141.51816\"/>\n     <use style=\"fill:#ff0000;stroke:#ff0000;\" x=\"270.315357\" xlink:href=\"#mfb7a8fda70\" y=\"148.787625\"/>\n     <use style=\"fill:#ff0000;stroke:#ff0000;\" x=\"278.61073\" xlink:href=\"#mfb7a8fda70\" y=\"144.863303\"/>\n     <use style=\"fill:#ff0000;stroke:#ff0000;\" x=\"270.213531\" xlink:href=\"#mfb7a8fda70\" y=\"143.631103\"/>\n     <use style=\"fill:#ff0000;stroke:#ff0000;\" x=\"90.587222\" xlink:href=\"#mfb7a8fda70\" y=\"118.24273\"/>\n     <use style=\"fill:#ff0000;stroke:#ff0000;\" x=\"333.340193\" xlink:href=\"#mfb7a8fda70\" y=\"17.083636\"/>\n     <use style=\"fill:#ff0000;stroke:#ff0000;\" x=\"259.176319\" xlink:href=\"#mfb7a8fda70\" y=\"144.64597\"/>\n     <use style=\"fill:#ff0000;stroke:#ff0000;\" x=\"270.821155\" xlink:href=\"#mfb7a8fda70\" y=\"144.705796\"/>\n     <use style=\"fill:#ff0000;stroke:#ff0000;\" x=\"252.146482\" xlink:href=\"#mfb7a8fda70\" y=\"140.131646\"/>\n     <use style=\"fill:#ff0000;stroke:#ff0000;\" x=\"261.498751\" xlink:href=\"#mfb7a8fda70\" y=\"141.600547\"/>\n     <use style=\"fill:#ff0000;stroke:#ff0000;\" x=\"247.728695\" xlink:href=\"#mfb7a8fda70\" y=\"146.888406\"/>\n     <use style=\"fill:#ff0000;stroke:#ff0000;\" x=\"261.076191\" xlink:href=\"#mfb7a8fda70\" y=\"152.348645\"/>\n     <use style=\"fill:#ff0000;stroke:#ff0000;\" x=\"272.85639\" xlink:href=\"#mfb7a8fda70\" y=\"139.3892\"/>\n     <use style=\"fill:#ff0000;stroke:#ff0000;\" x=\"278.352194\" xlink:href=\"#mfb7a8fda70\" y=\"145.916349\"/>\n     <use style=\"fill:#ff0000;stroke:#ff0000;\" x=\"270.342432\" xlink:href=\"#mfb7a8fda70\" y=\"142.943129\"/>\n     <use style=\"fill:#ff0000;stroke:#ff0000;\" x=\"270.157375\" xlink:href=\"#mfb7a8fda70\" y=\"151.644004\"/>\n     <use style=\"fill:#ff0000;stroke:#ff0000;\" x=\"291.016231\" xlink:href=\"#mfb7a8fda70\" y=\"146.641844\"/>\n     <use style=\"fill:#ff0000;stroke:#ff0000;\" x=\"298.18287\" xlink:href=\"#mfb7a8fda70\" y=\"140.86869\"/>\n     <use style=\"fill:#ff0000;stroke:#ff0000;\" x=\"94.205035\" xlink:href=\"#mfb7a8fda70\" y=\"131.182508\"/>\n     <use style=\"fill:#ff0000;stroke:#ff0000;\" x=\"269.294864\" xlink:href=\"#mfb7a8fda70\" y=\"138.650322\"/>\n     <use style=\"fill:#ff0000;stroke:#ff0000;\" x=\"279.189262\" xlink:href=\"#mfb7a8fda70\" y=\"147.382373\"/>\n     <use style=\"fill:#ff0000;stroke:#ff0000;\" x=\"259.962158\" xlink:href=\"#mfb7a8fda70\" y=\"151.901719\"/>\n     <use style=\"fill:#ff0000;stroke:#ff0000;\" x=\"281.741395\" xlink:href=\"#mfb7a8fda70\" y=\"147.980269\"/>\n     <use style=\"fill:#ff0000;stroke:#ff0000;\" x=\"93.682012\" xlink:href=\"#mfb7a8fda70\" y=\"129.128066\"/>\n     <use style=\"fill:#ff0000;stroke:#ff0000;\" x=\"298.969829\" xlink:href=\"#mfb7a8fda70\" y=\"151.268881\"/>\n     <use style=\"fill:#ff0000;stroke:#ff0000;\" x=\"262.83409\" xlink:href=\"#mfb7a8fda70\" y=\"144.961268\"/>\n     <use style=\"fill:#ff0000;stroke:#ff0000;\" x=\"267.855637\" xlink:href=\"#mfb7a8fda70\" y=\"143.43128\"/>\n     <use style=\"fill:#ff0000;stroke:#ff0000;\" x=\"257.447846\" xlink:href=\"#mfb7a8fda70\" y=\"145.061646\"/>\n     <use style=\"fill:#ff0000;stroke:#ff0000;\" x=\"281.166722\" xlink:href=\"#mfb7a8fda70\" y=\"144.555582\"/>\n     <use style=\"fill:#ff0000;stroke:#ff0000;\" x=\"269.638979\" xlink:href=\"#mfb7a8fda70\" y=\"145.600709\"/>\n     <use style=\"fill:#ff0000;stroke:#ff0000;\" x=\"270.763369\" xlink:href=\"#mfb7a8fda70\" y=\"144.548333\"/>\n     <use style=\"fill:#ff0000;stroke:#ff0000;\" x=\"247.106832\" xlink:href=\"#mfb7a8fda70\" y=\"145.444073\"/>\n     <use style=\"fill:#ff0000;stroke:#ff0000;\" x=\"284.395208\" xlink:href=\"#mfb7a8fda70\" y=\"149.424262\"/>\n     <use style=\"fill:#ff0000;stroke:#ff0000;\" x=\"248.082671\" xlink:href=\"#mfb7a8fda70\" y=\"150.475425\"/>\n     <use style=\"fill:#ff0000;stroke:#ff0000;\" x=\"274.330499\" xlink:href=\"#mfb7a8fda70\" y=\"142.09077\"/>\n     <use style=\"fill:#ff0000;stroke:#ff0000;\" x=\"272.780773\" xlink:href=\"#mfb7a8fda70\" y=\"140.334884\"/>\n     <use style=\"fill:#ff0000;stroke:#ff0000;\" x=\"275.01998\" xlink:href=\"#mfb7a8fda70\" y=\"141.453659\"/>\n     <use style=\"fill:#ff0000;stroke:#ff0000;\" x=\"277.939065\" xlink:href=\"#mfb7a8fda70\" y=\"143.176894\"/>\n     <use style=\"fill:#ff0000;stroke:#ff0000;\" x=\"282.440731\" xlink:href=\"#mfb7a8fda70\" y=\"146.785912\"/>\n     <use style=\"fill:#ff0000;stroke:#ff0000;\" x=\"296.647603\" xlink:href=\"#mfb7a8fda70\" y=\"145.531219\"/>\n     <use style=\"fill:#ff0000;stroke:#ff0000;\" x=\"262.059974\" xlink:href=\"#mfb7a8fda70\" y=\"141.631725\"/>\n     <use style=\"fill:#ff0000;stroke:#ff0000;\" x=\"287.280782\" xlink:href=\"#mfb7a8fda70\" y=\"142.508811\"/>\n     <use style=\"fill:#ff0000;stroke:#ff0000;\" x=\"270.594164\" xlink:href=\"#mfb7a8fda70\" y=\"156.61596\"/>\n     <use style=\"fill:#ff0000;stroke:#ff0000;\" x=\"275.27997\" xlink:href=\"#mfb7a8fda70\" y=\"146.443895\"/>\n     <use style=\"fill:#ff0000;stroke:#ff0000;\" x=\"269.043191\" xlink:href=\"#mfb7a8fda70\" y=\"149.101238\"/>\n     <use style=\"fill:#ff0000;stroke:#ff0000;\" x=\"267.71708\" xlink:href=\"#mfb7a8fda70\" y=\"148.324256\"/>\n     <use style=\"fill:#ff0000;stroke:#ff0000;\" x=\"257.916908\" xlink:href=\"#mfb7a8fda70\" y=\"146.196757\"/>\n     <use style=\"fill:#ff0000;stroke:#ff0000;\" x=\"264.107831\" xlink:href=\"#mfb7a8fda70\" y=\"150.371255\"/>\n     <use style=\"fill:#ff0000;stroke:#ff0000;\" x=\"256.37033\" xlink:href=\"#mfb7a8fda70\" y=\"144.051934\"/>\n     <use style=\"fill:#ff0000;stroke:#ff0000;\" x=\"257.702646\" xlink:href=\"#mfb7a8fda70\" y=\"150.143825\"/>\n     <use style=\"fill:#ff0000;stroke:#ff0000;\" x=\"267.248081\" xlink:href=\"#mfb7a8fda70\" y=\"142.495433\"/>\n     <use style=\"fill:#ff0000;stroke:#ff0000;\" x=\"259.941464\" xlink:href=\"#mfb7a8fda70\" y=\"151.354123\"/>\n     <use style=\"fill:#ff0000;stroke:#ff0000;\" x=\"255.476253\" xlink:href=\"#mfb7a8fda70\" y=\"152.046342\"/>\n     <use style=\"fill:#ff0000;stroke:#ff0000;\" x=\"254.482873\" xlink:href=\"#mfb7a8fda70\" y=\"150.828428\"/>\n     <use style=\"fill:#ff0000;stroke:#ff0000;\" x=\"249.359422\" xlink:href=\"#mfb7a8fda70\" y=\"152.174804\"/>\n     <use style=\"fill:#ff0000;stroke:#ff0000;\" x=\"253.814412\" xlink:href=\"#mfb7a8fda70\" y=\"147.684379\"/>\n     <use style=\"fill:#ff0000;stroke:#ff0000;\" x=\"265.046023\" xlink:href=\"#mfb7a8fda70\" y=\"150.25437\"/>\n     <use style=\"fill:#ff0000;stroke:#ff0000;\" x=\"251.776344\" xlink:href=\"#mfb7a8fda70\" y=\"146.074249\"/>\n     <use style=\"fill:#ff0000;stroke:#ff0000;\" x=\"248.179489\" xlink:href=\"#mfb7a8fda70\" y=\"148.121768\"/>\n     <use style=\"fill:#ff0000;stroke:#ff0000;\" x=\"248.088624\" xlink:href=\"#mfb7a8fda70\" y=\"151.226403\"/>\n     <use style=\"fill:#ff0000;stroke:#ff0000;\" x=\"216.59766\" xlink:href=\"#mfb7a8fda70\" y=\"150.228335\"/>\n     <use style=\"fill:#ff0000;stroke:#ff0000;\" x=\"261.200059\" xlink:href=\"#mfb7a8fda70\" y=\"151.77181\"/>\n     <use style=\"fill:#ff0000;stroke:#ff0000;\" x=\"261.298412\" xlink:href=\"#mfb7a8fda70\" y=\"150.852487\"/>\n     <use style=\"fill:#ff0000;stroke:#ff0000;\" x=\"249.234249\" xlink:href=\"#mfb7a8fda70\" y=\"148.444156\"/>\n     <use style=\"fill:#ff0000;stroke:#ff0000;\" x=\"254.848927\" xlink:href=\"#mfb7a8fda70\" y=\"145.578996\"/>\n     <use style=\"fill:#ff0000;stroke:#ff0000;\" x=\"254.672988\" xlink:href=\"#mfb7a8fda70\" y=\"157.844027\"/>\n     <use style=\"fill:#ff0000;stroke:#ff0000;\" x=\"86.945525\" xlink:href=\"#mfb7a8fda70\" y=\"125.340361\"/>\n     <use style=\"fill:#ff0000;stroke:#ff0000;\" x=\"333.340193\" xlink:href=\"#mfb7a8fda70\" y=\"17.083636\"/>\n     <use style=\"fill:#ff0000;stroke:#ff0000;\" x=\"267.98659\" xlink:href=\"#mfb7a8fda70\" y=\"151.308628\"/>\n     <use style=\"fill:#ff0000;stroke:#ff0000;\" x=\"269.938025\" xlink:href=\"#mfb7a8fda70\" y=\"145.670394\"/>\n     <use style=\"fill:#ff0000;stroke:#ff0000;\" x=\"260.230854\" xlink:href=\"#mfb7a8fda70\" y=\"139.034125\"/>\n     <use style=\"fill:#ff0000;stroke:#ff0000;\" x=\"275.220065\" xlink:href=\"#mfb7a8fda70\" y=\"150.432827\"/>\n     <use style=\"fill:#ff0000;stroke:#ff0000;\" x=\"79.826722\" xlink:href=\"#mfb7a8fda70\" y=\"119.782436\"/>\n     <use style=\"fill:#ff0000;stroke:#ff0000;\" x=\"282.541979\" xlink:href=\"#mfb7a8fda70\" y=\"142.403916\"/>\n     <use style=\"fill:#ff0000;stroke:#ff0000;\" x=\"265.24792\" xlink:href=\"#mfb7a8fda70\" y=\"145.630769\"/>\n     <use style=\"fill:#ff0000;stroke:#ff0000;\" x=\"269.115283\" xlink:href=\"#mfb7a8fda70\" y=\"146.733122\"/>\n     <use style=\"fill:#ff0000;stroke:#ff0000;\" x=\"282.620546\" xlink:href=\"#mfb7a8fda70\" y=\"143.052414\"/>\n     <use style=\"fill:#ff0000;stroke:#ff0000;\" x=\"269.287372\" xlink:href=\"#mfb7a8fda70\" y=\"143.969771\"/>\n     <use style=\"fill:#ff0000;stroke:#ff0000;\" x=\"285.358629\" xlink:href=\"#mfb7a8fda70\" y=\"143.464564\"/>\n     <use style=\"fill:#ff0000;stroke:#ff0000;\" x=\"279.44136\" xlink:href=\"#mfb7a8fda70\" y=\"140.577069\"/>\n     <use style=\"fill:#ff0000;stroke:#ff0000;\" x=\"266.501926\" xlink:href=\"#mfb7a8fda70\" y=\"147.636638\"/>\n     <use style=\"fill:#ff0000;stroke:#ff0000;\" x=\"295.914653\" xlink:href=\"#mfb7a8fda70\" y=\"146.856498\"/>\n     <use style=\"fill:#ff0000;stroke:#ff0000;\" x=\"281.891235\" xlink:href=\"#mfb7a8fda70\" y=\"144.064859\"/>\n     <use style=\"fill:#ff0000;stroke:#ff0000;\" x=\"280.700245\" xlink:href=\"#mfb7a8fda70\" y=\"146.043307\"/>\n     <use style=\"fill:#ff0000;stroke:#ff0000;\" x=\"261.470514\" xlink:href=\"#mfb7a8fda70\" y=\"139.094426\"/>\n     <use style=\"fill:#ff0000;stroke:#ff0000;\" x=\"304.831769\" xlink:href=\"#mfb7a8fda70\" y=\"136.979031\"/>\n     <use style=\"fill:#ff0000;stroke:#ff0000;\" x=\"270.459346\" xlink:href=\"#mfb7a8fda70\" y=\"154.304769\"/>\n     <use style=\"fill:#ff0000;stroke:#ff0000;\" x=\"267.201722\" xlink:href=\"#mfb7a8fda70\" y=\"139.307538\"/>\n     <use style=\"fill:#ff0000;stroke:#ff0000;\" x=\"264.544225\" xlink:href=\"#mfb7a8fda70\" y=\"150.879975\"/>\n     <use style=\"fill:#ff0000;stroke:#ff0000;\" x=\"277.041629\" xlink:href=\"#mfb7a8fda70\" y=\"142.226602\"/>\n     <use style=\"fill:#ff0000;stroke:#ff0000;\" x=\"270.149119\" xlink:href=\"#mfb7a8fda70\" y=\"144.125178\"/>\n     <use style=\"fill:#ff0000;stroke:#ff0000;\" x=\"277.726525\" xlink:href=\"#mfb7a8fda70\" y=\"144.554457\"/>\n     <use style=\"fill:#ff0000;stroke:#ff0000;\" x=\"285.273484\" xlink:href=\"#mfb7a8fda70\" y=\"138.560536\"/>\n     <use style=\"fill:#ff0000;stroke:#ff0000;\" x=\"284.266501\" xlink:href=\"#mfb7a8fda70\" y=\"145.313677\"/>\n     <use style=\"fill:#ff0000;stroke:#ff0000;\" x=\"265.823338\" xlink:href=\"#mfb7a8fda70\" y=\"141.869733\"/>\n     <use style=\"fill:#ff0000;stroke:#ff0000;\" x=\"276.794726\" xlink:href=\"#mfb7a8fda70\" y=\"148.823448\"/>\n     <use style=\"fill:#ff0000;stroke:#ff0000;\" x=\"297.444258\" xlink:href=\"#mfb7a8fda70\" y=\"149.513508\"/>\n     <use style=\"fill:#ff0000;stroke:#ff0000;\" x=\"91.725972\" xlink:href=\"#mfb7a8fda70\" y=\"123.344949\"/>\n     <use style=\"fill:#ff0000;stroke:#ff0000;\" x=\"92.217427\" xlink:href=\"#mfb7a8fda70\" y=\"126.976828\"/>\n     <use style=\"fill:#ff0000;stroke:#ff0000;\" x=\"260.553932\" xlink:href=\"#mfb7a8fda70\" y=\"157.467963\"/>\n     <use style=\"fill:#ff0000;stroke:#ff0000;\" x=\"286.465443\" xlink:href=\"#mfb7a8fda70\" y=\"145.523864\"/>\n     <use style=\"fill:#ff0000;stroke:#ff0000;\" x=\"257.425617\" xlink:href=\"#mfb7a8fda70\" y=\"140.551575\"/>\n     <use style=\"fill:#ff0000;stroke:#ff0000;\" x=\"268.23716\" xlink:href=\"#mfb7a8fda70\" y=\"146.505245\"/>\n     <use style=\"fill:#ff0000;stroke:#ff0000;\" x=\"264.617458\" xlink:href=\"#mfb7a8fda70\" y=\"146.039655\"/>\n     <use style=\"fill:#ff0000;stroke:#ff0000;\" x=\"272.216922\" xlink:href=\"#mfb7a8fda70\" y=\"140.319091\"/>\n     <use style=\"fill:#ff0000;stroke:#ff0000;\" x=\"258.160921\" xlink:href=\"#mfb7a8fda70\" y=\"143.10266\"/>\n     <use style=\"fill:#ff0000;stroke:#ff0000;\" x=\"306.946809\" xlink:href=\"#mfb7a8fda70\" y=\"147.948659\"/>\n     <use style=\"fill:#ff0000;stroke:#ff0000;\" x=\"275.382148\" xlink:href=\"#mfb7a8fda70\" y=\"148.335559\"/>\n     <use style=\"fill:#ff0000;stroke:#ff0000;\" x=\"258.351434\" xlink:href=\"#mfb7a8fda70\" y=\"143.527607\"/>\n     <use style=\"fill:#ff0000;stroke:#ff0000;\" x=\"280.714887\" xlink:href=\"#mfb7a8fda70\" y=\"142.995132\"/>\n     <use style=\"fill:#ff0000;stroke:#ff0000;\" x=\"284.762638\" xlink:href=\"#mfb7a8fda70\" y=\"148.314286\"/>\n     <use style=\"fill:#ff0000;stroke:#ff0000;\" x=\"282.297311\" xlink:href=\"#mfb7a8fda70\" y=\"143.65867\"/>\n     <use style=\"fill:#ff0000;stroke:#ff0000;\" x=\"306.489643\" xlink:href=\"#mfb7a8fda70\" y=\"140.433079\"/>\n     <use style=\"fill:#ff0000;stroke:#ff0000;\" x=\"259.832937\" xlink:href=\"#mfb7a8fda70\" y=\"147.530678\"/>\n     <use style=\"fill:#ff0000;stroke:#ff0000;\" x=\"300.982198\" xlink:href=\"#mfb7a8fda70\" y=\"142.914907\"/>\n     <use style=\"fill:#ff0000;stroke:#ff0000;\" x=\"274.284442\" xlink:href=\"#mfb7a8fda70\" y=\"136.057548\"/>\n     <use style=\"fill:#ff0000;stroke:#ff0000;\" x=\"262.648102\" xlink:href=\"#mfb7a8fda70\" y=\"149.650142\"/>\n     <use style=\"fill:#ff0000;stroke:#ff0000;\" x=\"247.563012\" xlink:href=\"#mfb7a8fda70\" y=\"147.821856\"/>\n     <use style=\"fill:#ff0000;stroke:#ff0000;\" x=\"276.411685\" xlink:href=\"#mfb7a8fda70\" y=\"142.005883\"/>\n     <use style=\"fill:#ff0000;stroke:#ff0000;\" x=\"272.169995\" xlink:href=\"#mfb7a8fda70\" y=\"144.472218\"/>\n     <use style=\"fill:#ff0000;stroke:#ff0000;\" x=\"272.383739\" xlink:href=\"#mfb7a8fda70\" y=\"144.388586\"/>\n     <use style=\"fill:#ff0000;stroke:#ff0000;\" x=\"270.148374\" xlink:href=\"#mfb7a8fda70\" y=\"143.709411\"/>\n     <use style=\"fill:#ff0000;stroke:#ff0000;\" x=\"259.566271\" xlink:href=\"#mfb7a8fda70\" y=\"151.119439\"/>\n     <use style=\"fill:#ff0000;stroke:#ff0000;\" x=\"313.327129\" xlink:href=\"#mfb7a8fda70\" y=\"135.203048\"/>\n     <use style=\"fill:#ff0000;stroke:#ff0000;\" x=\"258.506641\" xlink:href=\"#mfb7a8fda70\" y=\"144.787412\"/>\n     <use style=\"fill:#ff0000;stroke:#ff0000;\" x=\"259.912954\" xlink:href=\"#mfb7a8fda70\" y=\"144.644187\"/>\n     <use style=\"fill:#ff0000;stroke:#ff0000;\" x=\"364.427131\" xlink:href=\"#mfb7a8fda70\" y=\"87.245294\"/>\n     <use style=\"fill:#ff0000;stroke:#ff0000;\" x=\"259.520486\" xlink:href=\"#mfb7a8fda70\" y=\"144.769016\"/>\n     <use style=\"fill:#ff0000;stroke:#ff0000;\" x=\"274.217762\" xlink:href=\"#mfb7a8fda70\" y=\"143.520673\"/>\n     <use style=\"fill:#ff0000;stroke:#ff0000;\" x=\"281.912903\" xlink:href=\"#mfb7a8fda70\" y=\"154.492278\"/>\n     <use style=\"fill:#ff0000;stroke:#ff0000;\" x=\"283.507326\" xlink:href=\"#mfb7a8fda70\" y=\"146.448539\"/>\n     <use style=\"fill:#ff0000;stroke:#ff0000;\" x=\"266.337941\" xlink:href=\"#mfb7a8fda70\" y=\"147.967699\"/>\n     <use style=\"fill:#ff0000;stroke:#ff0000;\" x=\"256.406082\" xlink:href=\"#mfb7a8fda70\" y=\"147.692805\"/>\n     <use style=\"fill:#ff0000;stroke:#ff0000;\" x=\"259.804535\" xlink:href=\"#mfb7a8fda70\" y=\"147.254661\"/>\n     <use style=\"fill:#ff0000;stroke:#ff0000;\" x=\"262.919862\" xlink:href=\"#mfb7a8fda70\" y=\"146.05354\"/>\n     <use style=\"fill:#ff0000;stroke:#ff0000;\" x=\"251.655058\" xlink:href=\"#mfb7a8fda70\" y=\"146.009544\"/>\n     <use style=\"fill:#ff0000;stroke:#ff0000;\" x=\"269.083778\" xlink:href=\"#mfb7a8fda70\" y=\"155.947795\"/>\n     <use style=\"fill:#ff0000;stroke:#ff0000;\" x=\"269.887769\" xlink:href=\"#mfb7a8fda70\" y=\"148.082237\"/>\n     <use style=\"fill:#ff0000;stroke:#ff0000;\" x=\"232.491655\" xlink:href=\"#mfb7a8fda70\" y=\"147.281123\"/>\n     <use style=\"fill:#ff0000;stroke:#ff0000;\" x=\"166.24363\" xlink:href=\"#mfb7a8fda70\" y=\"160.120965\"/>\n     <use style=\"fill:#ff0000;stroke:#ff0000;\" x=\"261.867289\" xlink:href=\"#mfb7a8fda70\" y=\"146.556578\"/>\n     <use style=\"fill:#ff0000;stroke:#ff0000;\" x=\"276.561661\" xlink:href=\"#mfb7a8fda70\" y=\"146.346367\"/>\n     <use style=\"fill:#ff0000;stroke:#ff0000;\" x=\"256.298434\" xlink:href=\"#mfb7a8fda70\" y=\"151.766046\"/>\n     <use style=\"fill:#ff0000;stroke:#ff0000;\" x=\"263.630551\" xlink:href=\"#mfb7a8fda70\" y=\"146.196344\"/>\n     <use style=\"fill:#ff0000;stroke:#ff0000;\" x=\"248.291344\" xlink:href=\"#mfb7a8fda70\" y=\"150.462399\"/>\n     <use style=\"fill:#ff0000;stroke:#ff0000;\" x=\"258.435081\" xlink:href=\"#mfb7a8fda70\" y=\"151.86527\"/>\n     <use style=\"fill:#ff0000;stroke:#ff0000;\" x=\"96.208629\" xlink:href=\"#mfb7a8fda70\" y=\"129.707959\"/>\n     <use style=\"fill:#ff0000;stroke:#ff0000;\" x=\"235.897809\" xlink:href=\"#mfb7a8fda70\" y=\"143.499515\"/>\n     <use style=\"fill:#ff0000;stroke:#ff0000;\" x=\"248.722902\" xlink:href=\"#mfb7a8fda70\" y=\"150.32635\"/>\n     <use style=\"fill:#ff0000;stroke:#ff0000;\" x=\"258.907031\" xlink:href=\"#mfb7a8fda70\" y=\"151.743392\"/>\n     <use style=\"fill:#ff0000;stroke:#ff0000;\" x=\"256.43069\" xlink:href=\"#mfb7a8fda70\" y=\"151.622881\"/>\n     <use style=\"fill:#ff0000;stroke:#ff0000;\" x=\"251.753145\" xlink:href=\"#mfb7a8fda70\" y=\"153.38211\"/>\n     <use style=\"fill:#ff0000;stroke:#ff0000;\" x=\"263.619499\" xlink:href=\"#mfb7a8fda70\" y=\"146.370958\"/>\n     <use style=\"fill:#ff0000;stroke:#ff0000;\" x=\"255.491722\" xlink:href=\"#mfb7a8fda70\" y=\"146.937364\"/>\n     <use style=\"fill:#ff0000;stroke:#ff0000;\" x=\"279.245277\" xlink:href=\"#mfb7a8fda70\" y=\"145.906125\"/>\n     <use style=\"fill:#ff0000;stroke:#ff0000;\" x=\"287.07504\" xlink:href=\"#mfb7a8fda70\" y=\"149.0011\"/>\n     <use style=\"fill:#ff0000;stroke:#ff0000;\" x=\"274.393566\" xlink:href=\"#mfb7a8fda70\" y=\"151.504135\"/>\n     <use style=\"fill:#ff0000;stroke:#ff0000;\" x=\"272.299555\" xlink:href=\"#mfb7a8fda70\" y=\"148.115762\"/>\n     <use style=\"fill:#ff0000;stroke:#ff0000;\" x=\"282.970055\" xlink:href=\"#mfb7a8fda70\" y=\"150.786823\"/>\n     <use style=\"fill:#ff0000;stroke:#ff0000;\" x=\"281.410717\" xlink:href=\"#mfb7a8fda70\" y=\"150.290877\"/>\n     <use style=\"fill:#ff0000;stroke:#ff0000;\" x=\"271.194545\" xlink:href=\"#mfb7a8fda70\" y=\"148.118247\"/>\n     <use style=\"fill:#ff0000;stroke:#ff0000;\" x=\"273.223948\" xlink:href=\"#mfb7a8fda70\" y=\"146.898756\"/>\n     <use style=\"fill:#ff0000;stroke:#ff0000;\" x=\"287.159229\" xlink:href=\"#mfb7a8fda70\" y=\"149.027369\"/>\n     <use style=\"fill:#ff0000;stroke:#ff0000;\" x=\"276.648467\" xlink:href=\"#mfb7a8fda70\" y=\"147.086869\"/>\n     <use style=\"fill:#ff0000;stroke:#ff0000;\" x=\"99.693187\" xlink:href=\"#mfb7a8fda70\" y=\"147.009546\"/>\n     <use style=\"fill:#ff0000;stroke:#ff0000;\" x=\"77.992669\" xlink:href=\"#mfb7a8fda70\" y=\"165.4193\"/>\n     <use style=\"fill:#ff0000;stroke:#ff0000;\" x=\"277.170039\" xlink:href=\"#mfb7a8fda70\" y=\"145.883414\"/>\n     <use style=\"fill:#ff0000;stroke:#ff0000;\" x=\"274.347618\" xlink:href=\"#mfb7a8fda70\" y=\"142.998198\"/>\n     <use style=\"fill:#ff0000;stroke:#ff0000;\" x=\"257.418952\" xlink:href=\"#mfb7a8fda70\" y=\"145.784151\"/>\n     <use style=\"fill:#ff0000;stroke:#ff0000;\" x=\"255.922811\" xlink:href=\"#mfb7a8fda70\" y=\"145.387633\"/>\n     <use style=\"fill:#ff0000;stroke:#ff0000;\" x=\"278.787545\" xlink:href=\"#mfb7a8fda70\" y=\"147.087534\"/>\n     <use style=\"fill:#ff0000;stroke:#ff0000;\" x=\"269.011621\" xlink:href=\"#mfb7a8fda70\" y=\"144.788963\"/>\n     <use style=\"fill:#ff0000;stroke:#ff0000;\" x=\"270.550526\" xlink:href=\"#mfb7a8fda70\" y=\"150.339607\"/>\n     <use style=\"fill:#ff0000;stroke:#ff0000;\" x=\"278.583984\" xlink:href=\"#mfb7a8fda70\" y=\"147.859413\"/>\n     <use style=\"fill:#ff0000;stroke:#ff0000;\" x=\"280.542649\" xlink:href=\"#mfb7a8fda70\" y=\"148.505123\"/>\n     <use style=\"fill:#ff0000;stroke:#ff0000;\" x=\"78.897702\" xlink:href=\"#mfb7a8fda70\" y=\"150.026854\"/>\n     <use style=\"fill:#ff0000;stroke:#ff0000;\" x=\"79.456242\" xlink:href=\"#mfb7a8fda70\" y=\"148.974171\"/>\n     <use style=\"fill:#ff0000;stroke:#ff0000;\" x=\"271.250478\" xlink:href=\"#mfb7a8fda70\" y=\"149.055012\"/>\n     <use style=\"fill:#ff0000;stroke:#ff0000;\" x=\"276.19034\" xlink:href=\"#mfb7a8fda70\" y=\"151.195879\"/>\n     <use style=\"fill:#ff0000;stroke:#ff0000;\" x=\"274.738368\" xlink:href=\"#mfb7a8fda70\" y=\"147.697697\"/>\n     <use style=\"fill:#ff0000;stroke:#ff0000;\" x=\"279.922395\" xlink:href=\"#mfb7a8fda70\" y=\"146.612773\"/>\n     <use style=\"fill:#ff0000;stroke:#ff0000;\" x=\"254.79642\" xlink:href=\"#mfb7a8fda70\" y=\"144.151284\"/>\n     <use style=\"fill:#ff0000;stroke:#ff0000;\" x=\"253.632452\" xlink:href=\"#mfb7a8fda70\" y=\"147.39339\"/>\n     <use style=\"fill:#ff0000;stroke:#ff0000;\" x=\"273.708825\" xlink:href=\"#mfb7a8fda70\" y=\"147.376061\"/>\n     <use style=\"fill:#ff0000;stroke:#ff0000;\" x=\"238.989988\" xlink:href=\"#mfb7a8fda70\" y=\"153.26031\"/>\n     <use style=\"fill:#ff0000;stroke:#ff0000;\" x=\"238.389305\" xlink:href=\"#mfb7a8fda70\" y=\"153.924386\"/>\n     <use style=\"fill:#ff0000;stroke:#ff0000;\" x=\"237.983186\" xlink:href=\"#mfb7a8fda70\" y=\"154.049577\"/>\n     <use style=\"fill:#ff0000;stroke:#ff0000;\" x=\"263.838571\" xlink:href=\"#mfb7a8fda70\" y=\"154.310347\"/>\n     <use style=\"fill:#ff0000;stroke:#ff0000;\" x=\"257.884377\" xlink:href=\"#mfb7a8fda70\" y=\"147.199532\"/>\n     <use style=\"fill:#ff0000;stroke:#ff0000;\" x=\"259.997197\" xlink:href=\"#mfb7a8fda70\" y=\"143.767256\"/>\n     <use style=\"fill:#ff0000;stroke:#ff0000;\" x=\"266.530152\" xlink:href=\"#mfb7a8fda70\" y=\"150.033597\"/>\n     <use style=\"fill:#ff0000;stroke:#ff0000;\" x=\"262.48414\" xlink:href=\"#mfb7a8fda70\" y=\"148.721143\"/>\n     <use style=\"fill:#ff0000;stroke:#ff0000;\" x=\"283.217603\" xlink:href=\"#mfb7a8fda70\" y=\"144.337391\"/>\n     <use style=\"fill:#ff0000;stroke:#ff0000;\" x=\"259.547526\" xlink:href=\"#mfb7a8fda70\" y=\"142.625055\"/>\n     <use style=\"fill:#ff0000;stroke:#ff0000;\" x=\"262.934117\" xlink:href=\"#mfb7a8fda70\" y=\"146.839483\"/>\n     <use style=\"fill:#ff0000;stroke:#ff0000;\" x=\"275.224419\" xlink:href=\"#mfb7a8fda70\" y=\"146.438657\"/>\n     <use style=\"fill:#ff0000;stroke:#ff0000;\" x=\"263.737424\" xlink:href=\"#mfb7a8fda70\" y=\"143.991521\"/>\n     <use style=\"fill:#ff0000;stroke:#ff0000;\" x=\"248.347417\" xlink:href=\"#mfb7a8fda70\" y=\"148.391753\"/>\n     <use style=\"fill:#ff0000;stroke:#ff0000;\" x=\"259.154754\" xlink:href=\"#mfb7a8fda70\" y=\"149.547582\"/>\n     <use style=\"fill:#ff0000;stroke:#ff0000;\" x=\"258.615629\" xlink:href=\"#mfb7a8fda70\" y=\"149.61803\"/>\n     <use style=\"fill:#ff0000;stroke:#ff0000;\" x=\"258.711539\" xlink:href=\"#mfb7a8fda70\" y=\"148.811307\"/>\n     <use style=\"fill:#ff0000;stroke:#ff0000;\" x=\"260.404829\" xlink:href=\"#mfb7a8fda70\" y=\"149.4304\"/>\n     <use style=\"fill:#ff0000;stroke:#ff0000;\" x=\"258.497406\" xlink:href=\"#mfb7a8fda70\" y=\"149.62142\"/>\n     <use style=\"fill:#ff0000;stroke:#ff0000;\" x=\"259.776537\" xlink:href=\"#mfb7a8fda70\" y=\"149.46314\"/>\n     <use style=\"fill:#ff0000;stroke:#ff0000;\" x=\"262.907514\" xlink:href=\"#mfb7a8fda70\" y=\"145.983973\"/>\n     <use style=\"fill:#ff0000;stroke:#ff0000;\" x=\"93.044225\" xlink:href=\"#mfb7a8fda70\" y=\"128.861157\"/>\n     <use style=\"fill:#ff0000;stroke:#ff0000;\" x=\"273.710283\" xlink:href=\"#mfb7a8fda70\" y=\"142.944189\"/>\n     <use style=\"fill:#ff0000;stroke:#ff0000;\" x=\"282.046292\" xlink:href=\"#mfb7a8fda70\" y=\"145.659929\"/>\n     <use style=\"fill:#ff0000;stroke:#ff0000;\" x=\"266.746105\" xlink:href=\"#mfb7a8fda70\" y=\"148.967862\"/>\n     <use style=\"fill:#ff0000;stroke:#ff0000;\" x=\"275.868652\" xlink:href=\"#mfb7a8fda70\" y=\"144.730112\"/>\n     <use style=\"fill:#ff0000;stroke:#ff0000;\" x=\"264.846725\" xlink:href=\"#mfb7a8fda70\" y=\"144.903331\"/>\n     <use style=\"fill:#ff0000;stroke:#ff0000;\" x=\"251.331591\" xlink:href=\"#mfb7a8fda70\" y=\"146.267438\"/>\n     <use style=\"fill:#ff0000;stroke:#ff0000;\" x=\"263.791841\" xlink:href=\"#mfb7a8fda70\" y=\"144.713257\"/>\n     <use style=\"fill:#ff0000;stroke:#ff0000;\" x=\"287.504673\" xlink:href=\"#mfb7a8fda70\" y=\"146.514292\"/>\n     <use style=\"fill:#ff0000;stroke:#ff0000;\" x=\"245.656784\" xlink:href=\"#mfb7a8fda70\" y=\"149.547736\"/>\n     <use style=\"fill:#ff0000;stroke:#ff0000;\" x=\"250.430664\" xlink:href=\"#mfb7a8fda70\" y=\"147.577829\"/>\n     <use style=\"fill:#ff0000;stroke:#ff0000;\" x=\"271.834458\" xlink:href=\"#mfb7a8fda70\" y=\"146.211247\"/>\n     <use style=\"fill:#ff0000;stroke:#ff0000;\" x=\"234.345243\" xlink:href=\"#mfb7a8fda70\" y=\"152.038084\"/>\n     <use style=\"fill:#ff0000;stroke:#ff0000;\" x=\"273.565022\" xlink:href=\"#mfb7a8fda70\" y=\"144.945464\"/>\n     <use style=\"fill:#ff0000;stroke:#ff0000;\" x=\"273.565022\" xlink:href=\"#mfb7a8fda70\" y=\"144.945464\"/>\n     <use style=\"fill:#ff0000;stroke:#ff0000;\" x=\"273.565022\" xlink:href=\"#mfb7a8fda70\" y=\"144.945464\"/>\n     <use style=\"fill:#ff0000;stroke:#ff0000;\" x=\"246.06055\" xlink:href=\"#mfb7a8fda70\" y=\"149.13588\"/>\n     <use style=\"fill:#ff0000;stroke:#ff0000;\" x=\"250.39636\" xlink:href=\"#mfb7a8fda70\" y=\"143.85719\"/>\n     <use style=\"fill:#ff0000;stroke:#ff0000;\" x=\"247.921881\" xlink:href=\"#mfb7a8fda70\" y=\"151.420557\"/>\n     <use style=\"fill:#ff0000;stroke:#ff0000;\" x=\"248.141517\" xlink:href=\"#mfb7a8fda70\" y=\"146.68599\"/>\n     <use style=\"fill:#ff0000;stroke:#ff0000;\" x=\"259.546075\" xlink:href=\"#mfb7a8fda70\" y=\"148.778089\"/>\n     <use style=\"fill:#ff0000;stroke:#ff0000;\" x=\"248.186627\" xlink:href=\"#mfb7a8fda70\" y=\"151.460173\"/>\n     <use style=\"fill:#ff0000;stroke:#ff0000;\" x=\"258.444793\" xlink:href=\"#mfb7a8fda70\" y=\"152.794456\"/>\n     <use style=\"fill:#ff0000;stroke:#ff0000;\" x=\"280.523518\" xlink:href=\"#mfb7a8fda70\" y=\"145.895779\"/>\n     <use style=\"fill:#ff0000;stroke:#ff0000;\" x=\"245.904468\" xlink:href=\"#mfb7a8fda70\" y=\"149.289243\"/>\n     <use style=\"fill:#ff0000;stroke:#ff0000;\" x=\"246.552544\" xlink:href=\"#mfb7a8fda70\" y=\"148.011266\"/>\n     <use style=\"fill:#ff0000;stroke:#ff0000;\" x=\"83.503825\" xlink:href=\"#mfb7a8fda70\" y=\"137.644858\"/>\n     <use style=\"fill:#ff0000;stroke:#ff0000;\" x=\"266.828886\" xlink:href=\"#mfb7a8fda70\" y=\"149.928696\"/>\n     <use style=\"fill:#ff0000;stroke:#ff0000;\" x=\"266.828886\" xlink:href=\"#mfb7a8fda70\" y=\"149.928696\"/>\n     <use style=\"fill:#ff0000;stroke:#ff0000;\" x=\"280.469677\" xlink:href=\"#mfb7a8fda70\" y=\"145.863492\"/>\n     <use style=\"fill:#ff0000;stroke:#ff0000;\" x=\"251.874754\" xlink:href=\"#mfb7a8fda70\" y=\"146.082175\"/>\n     <use style=\"fill:#ff0000;stroke:#ff0000;\" x=\"274.358503\" xlink:href=\"#mfb7a8fda70\" y=\"140.303259\"/>\n     <use style=\"fill:#ff0000;stroke:#ff0000;\" x=\"233.988105\" xlink:href=\"#mfb7a8fda70\" y=\"146.085801\"/>\n     <use style=\"fill:#ff0000;stroke:#ff0000;\" x=\"260.360712\" xlink:href=\"#mfb7a8fda70\" y=\"145.373406\"/>\n     <use style=\"fill:#ff0000;stroke:#ff0000;\" x=\"265.0733\" xlink:href=\"#mfb7a8fda70\" y=\"147.301789\"/>\n     <use style=\"fill:#ff0000;stroke:#ff0000;\" x=\"251.874754\" xlink:href=\"#mfb7a8fda70\" y=\"146.082175\"/>\n     <use style=\"fill:#ff0000;stroke:#ff0000;\" x=\"265.0733\" xlink:href=\"#mfb7a8fda70\" y=\"147.301789\"/>\n     <use style=\"fill:#ff0000;stroke:#ff0000;\" x=\"265.0733\" xlink:href=\"#mfb7a8fda70\" y=\"147.301789\"/>\n     <use style=\"fill:#ff0000;stroke:#ff0000;\" x=\"265.0733\" xlink:href=\"#mfb7a8fda70\" y=\"147.301789\"/>\n     <use style=\"fill:#ff0000;stroke:#ff0000;\" x=\"265.0733\" xlink:href=\"#mfb7a8fda70\" y=\"147.301789\"/>\n     <use style=\"fill:#ff0000;stroke:#ff0000;\" x=\"265.0733\" xlink:href=\"#mfb7a8fda70\" y=\"147.301789\"/>\n     <use style=\"fill:#ff0000;stroke:#ff0000;\" x=\"265.0733\" xlink:href=\"#mfb7a8fda70\" y=\"147.301789\"/>\n     <use style=\"fill:#ff0000;stroke:#ff0000;\" x=\"251.874754\" xlink:href=\"#mfb7a8fda70\" y=\"146.082175\"/>\n     <use style=\"fill:#ff0000;stroke:#ff0000;\" x=\"251.874754\" xlink:href=\"#mfb7a8fda70\" y=\"146.082175\"/>\n     <use style=\"fill:#ff0000;stroke:#ff0000;\" x=\"251.874754\" xlink:href=\"#mfb7a8fda70\" y=\"146.082175\"/>\n     <use style=\"fill:#ff0000;stroke:#ff0000;\" x=\"257.254884\" xlink:href=\"#mfb7a8fda70\" y=\"152.081616\"/>\n     <use style=\"fill:#ff0000;stroke:#ff0000;\" x=\"267.745078\" xlink:href=\"#mfb7a8fda70\" y=\"146.824538\"/>\n     <use style=\"fill:#ff0000;stroke:#ff0000;\" x=\"265.012309\" xlink:href=\"#mfb7a8fda70\" y=\"145.076404\"/>\n     <use style=\"fill:#ff0000;stroke:#ff0000;\" x=\"265.012309\" xlink:href=\"#mfb7a8fda70\" y=\"145.076404\"/>\n     <use style=\"fill:#ff0000;stroke:#ff0000;\" x=\"263.940666\" xlink:href=\"#mfb7a8fda70\" y=\"150.4068\"/>\n     <use style=\"fill:#ff0000;stroke:#ff0000;\" x=\"261.832153\" xlink:href=\"#mfb7a8fda70\" y=\"151.013671\"/>\n     <use style=\"fill:#ff0000;stroke:#ff0000;\" x=\"260.751832\" xlink:href=\"#mfb7a8fda70\" y=\"151.762383\"/>\n     <use style=\"fill:#ff0000;stroke:#ff0000;\" x=\"268.70428\" xlink:href=\"#mfb7a8fda70\" y=\"148.863572\"/>\n     <use style=\"fill:#ff0000;stroke:#ff0000;\" x=\"268.70428\" xlink:href=\"#mfb7a8fda70\" y=\"148.863572\"/>\n     <use style=\"fill:#ff0000;stroke:#ff0000;\" x=\"251.588218\" xlink:href=\"#mfb7a8fda70\" y=\"151.808743\"/>\n     <use style=\"fill:#ff0000;stroke:#ff0000;\" x=\"251.588218\" xlink:href=\"#mfb7a8fda70\" y=\"151.808743\"/>\n     <use style=\"fill:#ff0000;stroke:#ff0000;\" x=\"123.367289\" xlink:href=\"#mfb7a8fda70\" y=\"162.505796\"/>\n     <use style=\"fill:#ff0000;stroke:#ff0000;\" x=\"280.481789\" xlink:href=\"#mfb7a8fda70\" y=\"145.235637\"/>\n     <use style=\"fill:#ff0000;stroke:#ff0000;\" x=\"158.49962\" xlink:href=\"#mfb7a8fda70\" y=\"152.688676\"/>\n     <use style=\"fill:#ff0000;stroke:#ff0000;\" x=\"136.163042\" xlink:href=\"#mfb7a8fda70\" y=\"156.289415\"/>\n     <use style=\"fill:#ff0000;stroke:#ff0000;\" x=\"256.716374\" xlink:href=\"#mfb7a8fda70\" y=\"148.108334\"/>\n     <use style=\"fill:#ff0000;stroke:#ff0000;\" x=\"258.521823\" xlink:href=\"#mfb7a8fda70\" y=\"138.773055\"/>\n     <use style=\"fill:#ff0000;stroke:#ff0000;\" x=\"264.752613\" xlink:href=\"#mfb7a8fda70\" y=\"146.573128\"/>\n     <use style=\"fill:#ff0000;stroke:#ff0000;\" x=\"263.724268\" xlink:href=\"#mfb7a8fda70\" y=\"148.846206\"/>\n     <use style=\"fill:#ff0000;stroke:#ff0000;\" x=\"249.797528\" xlink:href=\"#mfb7a8fda70\" y=\"144.847341\"/>\n     <use style=\"fill:#ff0000;stroke:#ff0000;\" x=\"273.960291\" xlink:href=\"#mfb7a8fda70\" y=\"144.933806\"/>\n     <use style=\"fill:#ff0000;stroke:#ff0000;\" x=\"273.399607\" xlink:href=\"#mfb7a8fda70\" y=\"145.124524\"/>\n     <use style=\"fill:#ff0000;stroke:#ff0000;\" x=\"273.960291\" xlink:href=\"#mfb7a8fda70\" y=\"144.933806\"/>\n     <use style=\"fill:#ff0000;stroke:#ff0000;\" x=\"273.399607\" xlink:href=\"#mfb7a8fda70\" y=\"145.124524\"/>\n     <use style=\"fill:#ff0000;stroke:#ff0000;\" x=\"273.491702\" xlink:href=\"#mfb7a8fda70\" y=\"144.910297\"/>\n     <use style=\"fill:#ff0000;stroke:#ff0000;\" x=\"262.660036\" xlink:href=\"#mfb7a8fda70\" y=\"141.135604\"/>\n     <use style=\"fill:#ff0000;stroke:#ff0000;\" x=\"254.618436\" xlink:href=\"#mfb7a8fda70\" y=\"143.645865\"/>\n     <use style=\"fill:#ff0000;stroke:#ff0000;\" x=\"279.38678\" xlink:href=\"#mfb7a8fda70\" y=\"146.12627\"/>\n     <use style=\"fill:#ff0000;stroke:#ff0000;\" x=\"272.841929\" xlink:href=\"#mfb7a8fda70\" y=\"145.153584\"/>\n     <use style=\"fill:#ff0000;stroke:#ff0000;\" x=\"273.491702\" xlink:href=\"#mfb7a8fda70\" y=\"144.910297\"/>\n     <use style=\"fill:#ff0000;stroke:#ff0000;\" x=\"272.841929\" xlink:href=\"#mfb7a8fda70\" y=\"145.153584\"/>\n     <use style=\"fill:#ff0000;stroke:#ff0000;\" x=\"273.591438\" xlink:href=\"#mfb7a8fda70\" y=\"144.97925\"/>\n     <use style=\"fill:#ff0000;stroke:#ff0000;\" x=\"273.591438\" xlink:href=\"#mfb7a8fda70\" y=\"144.97925\"/>\n     <use style=\"fill:#ff0000;stroke:#ff0000;\" x=\"273.591438\" xlink:href=\"#mfb7a8fda70\" y=\"144.97925\"/>\n     <use style=\"fill:#ff0000;stroke:#ff0000;\" x=\"273.591438\" xlink:href=\"#mfb7a8fda70\" y=\"144.97925\"/>\n     <use style=\"fill:#ff0000;stroke:#ff0000;\" x=\"252.177682\" xlink:href=\"#mfb7a8fda70\" y=\"151.564596\"/>\n     <use style=\"fill:#ff0000;stroke:#ff0000;\" x=\"265.413047\" xlink:href=\"#mfb7a8fda70\" y=\"146.426702\"/>\n     <use style=\"fill:#ff0000;stroke:#ff0000;\" x=\"276.211034\" xlink:href=\"#mfb7a8fda70\" y=\"146.231128\"/>\n     <use style=\"fill:#ff0000;stroke:#ff0000;\" x=\"276.211034\" xlink:href=\"#mfb7a8fda70\" y=\"146.231128\"/>\n     <use style=\"fill:#ff0000;stroke:#ff0000;\" x=\"276.211034\" xlink:href=\"#mfb7a8fda70\" y=\"146.231128\"/>\n     <use style=\"fill:#ff0000;stroke:#ff0000;\" x=\"273.943542\" xlink:href=\"#mfb7a8fda70\" y=\"150.553383\"/>\n     <use style=\"fill:#ff0000;stroke:#ff0000;\" x=\"273.943542\" xlink:href=\"#mfb7a8fda70\" y=\"150.553383\"/>\n     <use style=\"fill:#ff0000;stroke:#ff0000;\" x=\"248.123508\" xlink:href=\"#mfb7a8fda70\" y=\"146.727411\"/>\n     <use style=\"fill:#ff0000;stroke:#ff0000;\" x=\"262.810218\" xlink:href=\"#mfb7a8fda70\" y=\"144.867659\"/>\n     <use style=\"fill:#ff0000;stroke:#ff0000;\" x=\"262.582684\" xlink:href=\"#mfb7a8fda70\" y=\"145.169918\"/>\n     <use style=\"fill:#ff0000;stroke:#ff0000;\" x=\"280.947691\" xlink:href=\"#mfb7a8fda70\" y=\"147.586861\"/>\n     <use style=\"fill:#ff0000;stroke:#ff0000;\" x=\"268.296794\" xlink:href=\"#mfb7a8fda70\" y=\"147.658795\"/>\n     <use style=\"fill:#ff0000;stroke:#ff0000;\" x=\"249.815957\" xlink:href=\"#mfb7a8fda70\" y=\"144.391459\"/>\n     <use style=\"fill:#ff0000;stroke:#ff0000;\" x=\"249.815957\" xlink:href=\"#mfb7a8fda70\" y=\"144.391459\"/>\n     <use style=\"fill:#ff0000;stroke:#ff0000;\" x=\"249.815957\" xlink:href=\"#mfb7a8fda70\" y=\"144.391459\"/>\n     <use style=\"fill:#ff0000;stroke:#ff0000;\" x=\"249.815957\" xlink:href=\"#mfb7a8fda70\" y=\"144.391459\"/>\n     <use style=\"fill:#ff0000;stroke:#ff0000;\" x=\"256.892357\" xlink:href=\"#mfb7a8fda70\" y=\"146.175974\"/>\n     <use style=\"fill:#ff0000;stroke:#ff0000;\" x=\"260.877535\" xlink:href=\"#mfb7a8fda70\" y=\"144.282242\"/>\n     <use style=\"fill:#ff0000;stroke:#ff0000;\" x=\"260.367034\" xlink:href=\"#mfb7a8fda70\" y=\"144.31384\"/>\n     <use style=\"fill:#ff0000;stroke:#ff0000;\" x=\"247.788016\" xlink:href=\"#mfb7a8fda70\" y=\"146.696417\"/>\n     <use style=\"fill:#ff0000;stroke:#ff0000;\" x=\"258.521823\" xlink:href=\"#mfb7a8fda70\" y=\"138.773055\"/>\n     <use style=\"fill:#ff0000;stroke:#ff0000;\" x=\"250.84997\" xlink:href=\"#mfb7a8fda70\" y=\"153.421437\"/>\n     <use style=\"fill:#ff0000;stroke:#ff0000;\" x=\"249.224596\" xlink:href=\"#mfb7a8fda70\" y=\"153.906706\"/>\n     <use style=\"fill:#ff0000;stroke:#ff0000;\" x=\"246.055725\" xlink:href=\"#mfb7a8fda70\" y=\"149.017749\"/>\n     <use style=\"fill:#ff0000;stroke:#ff0000;\" x=\"261.830819\" xlink:href=\"#mfb7a8fda70\" y=\"153.397567\"/>\n     <use style=\"fill:#ff0000;stroke:#ff0000;\" x=\"261.830819\" xlink:href=\"#mfb7a8fda70\" y=\"153.397567\"/>\n     <use style=\"fill:#ff0000;stroke:#ff0000;\" x=\"261.830819\" xlink:href=\"#mfb7a8fda70\" y=\"153.397567\"/>\n     <use style=\"fill:#ff0000;stroke:#ff0000;\" x=\"261.830819\" xlink:href=\"#mfb7a8fda70\" y=\"153.397567\"/>\n     <use style=\"fill:#ff0000;stroke:#ff0000;\" x=\"246.743185\" xlink:href=\"#mfb7a8fda70\" y=\"143.169865\"/>\n     <use style=\"fill:#ff0000;stroke:#ff0000;\" x=\"250.41576\" xlink:href=\"#mfb7a8fda70\" y=\"154.124752\"/>\n     <use style=\"fill:#ff0000;stroke:#ff0000;\" x=\"246.937398\" xlink:href=\"#mfb7a8fda70\" y=\"143.263018\"/>\n     <use style=\"fill:#ff0000;stroke:#ff0000;\" x=\"247.994095\" xlink:href=\"#mfb7a8fda70\" y=\"143.270138\"/>\n     <use style=\"fill:#ff0000;stroke:#ff0000;\" x=\"251.882686\" xlink:href=\"#mfb7a8fda70\" y=\"153.489245\"/>\n     <use style=\"fill:#ff0000;stroke:#ff0000;\" x=\"253.193639\" xlink:href=\"#mfb7a8fda70\" y=\"153.594332\"/>\n     <use style=\"fill:#ff0000;stroke:#ff0000;\" x=\"284.774013\" xlink:href=\"#mfb7a8fda70\" y=\"143.238871\"/>\n     <use style=\"fill:#ff0000;stroke:#ff0000;\" x=\"269.518198\" xlink:href=\"#mfb7a8fda70\" y=\"146.754508\"/>\n     <use style=\"fill:#ff0000;stroke:#ff0000;\" x=\"246.937398\" xlink:href=\"#mfb7a8fda70\" y=\"143.263018\"/>\n     <use style=\"fill:#ff0000;stroke:#ff0000;\" x=\"269.358783\" xlink:href=\"#mfb7a8fda70\" y=\"144.933217\"/>\n     <use style=\"fill:#ff0000;stroke:#ff0000;\" x=\"258.807781\" xlink:href=\"#mfb7a8fda70\" y=\"147.126625\"/>\n     <use style=\"fill:#ff0000;stroke:#ff0000;\" x=\"259.414816\" xlink:href=\"#mfb7a8fda70\" y=\"150.103971\"/>\n     <use style=\"fill:#ff0000;stroke:#ff0000;\" x=\"259.791446\" xlink:href=\"#mfb7a8fda70\" y=\"146.620474\"/>\n     <use style=\"fill:#ff0000;stroke:#ff0000;\" x=\"252.097527\" xlink:href=\"#mfb7a8fda70\" y=\"152.262365\"/>\n     <use style=\"fill:#ff0000;stroke:#ff0000;\" x=\"248.123508\" xlink:href=\"#mfb7a8fda70\" y=\"146.727411\"/>\n     <use style=\"fill:#ff0000;stroke:#ff0000;\" x=\"251.729738\" xlink:href=\"#mfb7a8fda70\" y=\"146.610906\"/>\n     <use style=\"fill:#ff0000;stroke:#ff0000;\" x=\"251.729738\" xlink:href=\"#mfb7a8fda70\" y=\"146.610906\"/>\n     <use style=\"fill:#ff0000;stroke:#ff0000;\" x=\"251.729738\" xlink:href=\"#mfb7a8fda70\" y=\"146.610906\"/>\n     <use style=\"fill:#ff0000;stroke:#ff0000;\" x=\"251.729738\" xlink:href=\"#mfb7a8fda70\" y=\"146.610906\"/>\n     <use style=\"fill:#ff0000;stroke:#ff0000;\" x=\"251.729738\" xlink:href=\"#mfb7a8fda70\" y=\"146.610906\"/>\n     <use style=\"fill:#ff0000;stroke:#ff0000;\" x=\"251.729738\" xlink:href=\"#mfb7a8fda70\" y=\"146.610906\"/>\n     <use style=\"fill:#ff0000;stroke:#ff0000;\" x=\"251.729738\" xlink:href=\"#mfb7a8fda70\" y=\"146.610906\"/>\n     <use style=\"fill:#ff0000;stroke:#ff0000;\" x=\"251.729738\" xlink:href=\"#mfb7a8fda70\" y=\"146.610906\"/>\n     <use style=\"fill:#ff0000;stroke:#ff0000;\" x=\"251.729738\" xlink:href=\"#mfb7a8fda70\" y=\"146.610906\"/>\n     <use style=\"fill:#ff0000;stroke:#ff0000;\" x=\"251.729738\" xlink:href=\"#mfb7a8fda70\" y=\"146.610906\"/>\n     <use style=\"fill:#ff0000;stroke:#ff0000;\" x=\"251.729738\" xlink:href=\"#mfb7a8fda70\" y=\"146.610906\"/>\n     <use style=\"fill:#ff0000;stroke:#ff0000;\" x=\"251.729738\" xlink:href=\"#mfb7a8fda70\" y=\"146.610906\"/>\n     <use style=\"fill:#ff0000;stroke:#ff0000;\" x=\"250.747433\" xlink:href=\"#mfb7a8fda70\" y=\"146.662094\"/>\n     <use style=\"fill:#ff0000;stroke:#ff0000;\" x=\"267.623475\" xlink:href=\"#mfb7a8fda70\" y=\"147.972989\"/>\n     <use style=\"fill:#ff0000;stroke:#ff0000;\" x=\"268.112197\" xlink:href=\"#mfb7a8fda70\" y=\"148.401068\"/>\n     <use style=\"fill:#ff0000;stroke:#ff0000;\" x=\"254.679024\" xlink:href=\"#mfb7a8fda70\" y=\"148.253828\"/>\n     <use style=\"fill:#ff0000;stroke:#ff0000;\" x=\"281.038543\" xlink:href=\"#mfb7a8fda70\" y=\"138.299198\"/>\n     <use style=\"fill:#ff0000;stroke:#ff0000;\" x=\"257.39402\" xlink:href=\"#mfb7a8fda70\" y=\"147.213422\"/>\n     <use style=\"fill:#ff0000;stroke:#ff0000;\" x=\"243.182844\" xlink:href=\"#mfb7a8fda70\" y=\"149.070264\"/>\n     <use style=\"fill:#ff0000;stroke:#ff0000;\" x=\"281.038543\" xlink:href=\"#mfb7a8fda70\" y=\"138.299198\"/>\n     <use style=\"fill:#ff0000;stroke:#ff0000;\" x=\"203.36922\" xlink:href=\"#mfb7a8fda70\" y=\"172.246773\"/>\n     <use style=\"fill:#ff0000;stroke:#ff0000;\" x=\"277.57748\" xlink:href=\"#mfb7a8fda70\" y=\"146.649315\"/>\n     <use style=\"fill:#ff0000;stroke:#ff0000;\" x=\"257.138717\" xlink:href=\"#mfb7a8fda70\" y=\"148.142189\"/>\n     <use style=\"fill:#ff0000;stroke:#ff0000;\" x=\"257.138717\" xlink:href=\"#mfb7a8fda70\" y=\"148.142189\"/>\n     <use style=\"fill:#ff0000;stroke:#ff0000;\" x=\"256.084899\" xlink:href=\"#mfb7a8fda70\" y=\"147.016341\"/>\n     <use style=\"fill:#ff0000;stroke:#ff0000;\" x=\"265.731872\" xlink:href=\"#mfb7a8fda70\" y=\"146.947715\"/>\n     <use style=\"fill:#ff0000;stroke:#ff0000;\" x=\"258.191362\" xlink:href=\"#mfb7a8fda70\" y=\"144.625907\"/>\n     <use style=\"fill:#ff0000;stroke:#ff0000;\" x=\"243.182844\" xlink:href=\"#mfb7a8fda70\" y=\"149.070264\"/>\n     <use style=\"fill:#ff0000;stroke:#ff0000;\" x=\"268.265821\" xlink:href=\"#mfb7a8fda70\" y=\"146.749427\"/>\n     <use style=\"fill:#ff0000;stroke:#ff0000;\" x=\"276.845643\" xlink:href=\"#mfb7a8fda70\" y=\"145.408957\"/>\n     <use style=\"fill:#ff0000;stroke:#ff0000;\" x=\"252.257468\" xlink:href=\"#mfb7a8fda70\" y=\"147.654875\"/>\n     <use style=\"fill:#ff0000;stroke:#ff0000;\" x=\"251.531612\" xlink:href=\"#mfb7a8fda70\" y=\"147.977507\"/>\n     <use style=\"fill:#ff0000;stroke:#ff0000;\" x=\"278.856813\" xlink:href=\"#mfb7a8fda70\" y=\"147.488232\"/>\n     <use style=\"fill:#ff0000;stroke:#ff0000;\" x=\"258.259785\" xlink:href=\"#mfb7a8fda70\" y=\"140.258909\"/>\n     <use style=\"fill:#ff0000;stroke:#ff0000;\" x=\"269.656952\" xlink:href=\"#mfb7a8fda70\" y=\"149.776001\"/>\n     <use style=\"fill:#ff0000;stroke:#ff0000;\" x=\"246.061164\" xlink:href=\"#mfb7a8fda70\" y=\"148.163511\"/>\n     <use style=\"fill:#ff0000;stroke:#ff0000;\" x=\"246.061164\" xlink:href=\"#mfb7a8fda70\" y=\"148.163511\"/>\n     <use style=\"fill:#ff0000;stroke:#ff0000;\" x=\"246.061164\" xlink:href=\"#mfb7a8fda70\" y=\"148.163511\"/>\n     <use style=\"fill:#ff0000;stroke:#ff0000;\" x=\"266.619789\" xlink:href=\"#mfb7a8fda70\" y=\"140.678868\"/>\n     <use style=\"fill:#ff0000;stroke:#ff0000;\" x=\"246.84668\" xlink:href=\"#mfb7a8fda70\" y=\"148.096817\"/>\n     <use style=\"fill:#ff0000;stroke:#ff0000;\" x=\"246.84668\" xlink:href=\"#mfb7a8fda70\" y=\"148.096817\"/>\n     <use style=\"fill:#ff0000;stroke:#ff0000;\" x=\"262.478527\" xlink:href=\"#mfb7a8fda70\" y=\"150.260478\"/>\n     <use style=\"fill:#ff0000;stroke:#ff0000;\" x=\"251.111259\" xlink:href=\"#mfb7a8fda70\" y=\"138.991704\"/>\n     <use style=\"fill:#ff0000;stroke:#ff0000;\" x=\"274.953017\" xlink:href=\"#mfb7a8fda70\" y=\"146.163478\"/>\n     <use style=\"fill:#ff0000;stroke:#ff0000;\" x=\"269.004596\" xlink:href=\"#mfb7a8fda70\" y=\"139.643386\"/>\n     <use style=\"fill:#ff0000;stroke:#ff0000;\" x=\"282.862433\" xlink:href=\"#mfb7a8fda70\" y=\"144.539718\"/>\n     <use style=\"fill:#ff0000;stroke:#ff0000;\" x=\"277.636913\" xlink:href=\"#mfb7a8fda70\" y=\"147.957007\"/>\n     <use style=\"fill:#ff0000;stroke:#ff0000;\" x=\"280.947691\" xlink:href=\"#mfb7a8fda70\" y=\"147.586861\"/>\n     <use style=\"fill:#ff0000;stroke:#ff0000;\" x=\"259.518196\" xlink:href=\"#mfb7a8fda70\" y=\"146.467439\"/>\n     <use style=\"fill:#ff0000;stroke:#ff0000;\" x=\"275.348749\" xlink:href=\"#mfb7a8fda70\" y=\"147.254093\"/>\n     <use style=\"fill:#ff0000;stroke:#ff0000;\" x=\"259.518196\" xlink:href=\"#mfb7a8fda70\" y=\"146.467439\"/>\n     <use style=\"fill:#ff0000;stroke:#ff0000;\" x=\"266.134209\" xlink:href=\"#mfb7a8fda70\" y=\"149.756102\"/>\n     <use style=\"fill:#ff0000;stroke:#ff0000;\" x=\"258.521823\" xlink:href=\"#mfb7a8fda70\" y=\"138.773055\"/>\n     <use style=\"fill:#ff0000;stroke:#ff0000;\" x=\"268.116452\" xlink:href=\"#mfb7a8fda70\" y=\"148.749311\"/>\n     <use style=\"fill:#ff0000;stroke:#ff0000;\" x=\"268.802687\" xlink:href=\"#mfb7a8fda70\" y=\"148.091063\"/>\n     <use style=\"fill:#ff0000;stroke:#ff0000;\" x=\"280.191043\" xlink:href=\"#mfb7a8fda70\" y=\"146.291179\"/>\n     <use style=\"fill:#ff0000;stroke:#ff0000;\" x=\"262.308083\" xlink:href=\"#mfb7a8fda70\" y=\"143.245301\"/>\n     <use style=\"fill:#ff0000;stroke:#ff0000;\" x=\"253.02508\" xlink:href=\"#mfb7a8fda70\" y=\"148.100043\"/>\n     <use style=\"fill:#ff0000;stroke:#ff0000;\" x=\"257.930945\" xlink:href=\"#mfb7a8fda70\" y=\"147.011085\"/>\n     <use style=\"fill:#ff0000;stroke:#ff0000;\" x=\"241.425995\" xlink:href=\"#mfb7a8fda70\" y=\"149.478311\"/>\n     <use style=\"fill:#ff0000;stroke:#ff0000;\" x=\"264.799505\" xlink:href=\"#mfb7a8fda70\" y=\"145.072975\"/>\n     <use style=\"fill:#ff0000;stroke:#ff0000;\" x=\"265.666\" xlink:href=\"#mfb7a8fda70\" y=\"145.953804\"/>\n     <use style=\"fill:#ff0000;stroke:#ff0000;\" x=\"273.943542\" xlink:href=\"#mfb7a8fda70\" y=\"150.553383\"/>\n     <use style=\"fill:#ff0000;stroke:#ff0000;\" x=\"273.943542\" xlink:href=\"#mfb7a8fda70\" y=\"150.553383\"/>\n     <use style=\"fill:#ff0000;stroke:#ff0000;\" x=\"281.342503\" xlink:href=\"#mfb7a8fda70\" y=\"145.92075\"/>\n     <use style=\"fill:#ff0000;stroke:#ff0000;\" x=\"281.342503\" xlink:href=\"#mfb7a8fda70\" y=\"145.92075\"/>\n     <use style=\"fill:#ff0000;stroke:#ff0000;\" x=\"281.342503\" xlink:href=\"#mfb7a8fda70\" y=\"145.92075\"/>\n     <use style=\"fill:#ff0000;stroke:#ff0000;\" x=\"281.342503\" xlink:href=\"#mfb7a8fda70\" y=\"145.92075\"/>\n     <use style=\"fill:#ff0000;stroke:#ff0000;\" x=\"291.169854\" xlink:href=\"#mfb7a8fda70\" y=\"140.697799\"/>\n     <use style=\"fill:#ff0000;stroke:#ff0000;\" x=\"262.310843\" xlink:href=\"#mfb7a8fda70\" y=\"147.090709\"/>\n     <use style=\"fill:#ff0000;stroke:#ff0000;\" x=\"265.667276\" xlink:href=\"#mfb7a8fda70\" y=\"150.819866\"/>\n     <use style=\"fill:#ff0000;stroke:#ff0000;\" x=\"257.416263\" xlink:href=\"#mfb7a8fda70\" y=\"147.616094\"/>\n     <use style=\"fill:#ff0000;stroke:#ff0000;\" x=\"264.732205\" xlink:href=\"#mfb7a8fda70\" y=\"147.354686\"/>\n     <use style=\"fill:#ff0000;stroke:#ff0000;\" x=\"263.830803\" xlink:href=\"#mfb7a8fda70\" y=\"146.009945\"/>\n     <use style=\"fill:#ff0000;stroke:#ff0000;\" x=\"267.698885\" xlink:href=\"#mfb7a8fda70\" y=\"143.244034\"/>\n     <use style=\"fill:#ff0000;stroke:#ff0000;\" x=\"82.806117\" xlink:href=\"#mfb7a8fda70\" y=\"117.206337\"/>\n     <use style=\"fill:#ff0000;stroke:#ff0000;\" x=\"267.299041\" xlink:href=\"#mfb7a8fda70\" y=\"143.359531\"/>\n     <use style=\"fill:#ff0000;stroke:#ff0000;\" x=\"256.572087\" xlink:href=\"#mfb7a8fda70\" y=\"146.51181\"/>\n     <use style=\"fill:#ff0000;stroke:#ff0000;\" x=\"266.810531\" xlink:href=\"#mfb7a8fda70\" y=\"146.412944\"/>\n     <use style=\"fill:#ff0000;stroke:#ff0000;\" x=\"266.810531\" xlink:href=\"#mfb7a8fda70\" y=\"146.412944\"/>\n     <use style=\"fill:#ff0000;stroke:#ff0000;\" x=\"273.485509\" xlink:href=\"#mfb7a8fda70\" y=\"147.141622\"/>\n     <use style=\"fill:#ff0000;stroke:#ff0000;\" x=\"265.878025\" xlink:href=\"#mfb7a8fda70\" y=\"142.210144\"/>\n     <use style=\"fill:#ff0000;stroke:#ff0000;\" x=\"258.521823\" xlink:href=\"#mfb7a8fda70\" y=\"138.773055\"/>\n     <use style=\"fill:#ff0000;stroke:#ff0000;\" x=\"257.593941\" xlink:href=\"#mfb7a8fda70\" y=\"100.093989\"/>\n     <use style=\"fill:#ff0000;stroke:#ff0000;\" x=\"89.073704\" xlink:href=\"#mfb7a8fda70\" y=\"119.79929\"/>\n     <use style=\"fill:#ff0000;stroke:#ff0000;\" x=\"255.940761\" xlink:href=\"#mfb7a8fda70\" y=\"145.49819\"/>\n     <use style=\"fill:#ff0000;stroke:#ff0000;\" x=\"268.53301\" xlink:href=\"#mfb7a8fda70\" y=\"137.945571\"/>\n     <use style=\"fill:#ff0000;stroke:#ff0000;\" x=\"273.943542\" xlink:href=\"#mfb7a8fda70\" y=\"150.553383\"/>\n     <use style=\"fill:#ff0000;stroke:#ff0000;\" x=\"259.32136\" xlink:href=\"#mfb7a8fda70\" y=\"147.417144\"/>\n     <use style=\"fill:#ff0000;stroke:#ff0000;\" x=\"269.312271\" xlink:href=\"#mfb7a8fda70\" y=\"146.117462\"/>\n     <use style=\"fill:#ff0000;stroke:#ff0000;\" x=\"262.549561\" xlink:href=\"#mfb7a8fda70\" y=\"147.847078\"/>\n     <use style=\"fill:#ff0000;stroke:#ff0000;\" x=\"263.550276\" xlink:href=\"#mfb7a8fda70\" y=\"148.079976\"/>\n     <use style=\"fill:#ff0000;stroke:#ff0000;\" x=\"263.761053\" xlink:href=\"#mfb7a8fda70\" y=\"147.363651\"/>\n     <use style=\"fill:#ff0000;stroke:#ff0000;\" x=\"284.448915\" xlink:href=\"#mfb7a8fda70\" y=\"144.575128\"/>\n     <use style=\"fill:#ff0000;stroke:#ff0000;\" x=\"284.448915\" xlink:href=\"#mfb7a8fda70\" y=\"144.575128\"/>\n     <use style=\"fill:#ff0000;stroke:#ff0000;\" x=\"248.672953\" xlink:href=\"#mfb7a8fda70\" y=\"150.739483\"/>\n     <use style=\"fill:#ff0000;stroke:#ff0000;\" x=\"96.262035\" xlink:href=\"#mfb7a8fda70\" y=\"117.955679\"/>\n     <use style=\"fill:#ff0000;stroke:#ff0000;\" x=\"256.279216\" xlink:href=\"#mfb7a8fda70\" y=\"148.643031\"/>\n     <use style=\"fill:#ff0000;stroke:#ff0000;\" x=\"248.801789\" xlink:href=\"#mfb7a8fda70\" y=\"153.045597\"/>\n     <use style=\"fill:#ff0000;stroke:#ff0000;\" x=\"271.932958\" xlink:href=\"#mfb7a8fda70\" y=\"147.180075\"/>\n     <use style=\"fill:#ff0000;stroke:#ff0000;\" x=\"269.746194\" xlink:href=\"#mfb7a8fda70\" y=\"142.906182\"/>\n     <use style=\"fill:#ff0000;stroke:#ff0000;\" x=\"265.550193\" xlink:href=\"#mfb7a8fda70\" y=\"144.771503\"/>\n     <use style=\"fill:#ff0000;stroke:#ff0000;\" x=\"231.392145\" xlink:href=\"#mfb7a8fda70\" y=\"149.111426\"/>\n     <use style=\"fill:#ff0000;stroke:#ff0000;\" x=\"267.39527\" xlink:href=\"#mfb7a8fda70\" y=\"145.010638\"/>\n     <use style=\"fill:#ff0000;stroke:#ff0000;\" x=\"92.367179\" xlink:href=\"#mfb7a8fda70\" y=\"130.305152\"/>\n     <use style=\"fill:#ff0000;stroke:#ff0000;\" x=\"269.549328\" xlink:href=\"#mfb7a8fda70\" y=\"146.631251\"/>\n     <use style=\"fill:#ff0000;stroke:#ff0000;\" x=\"257.580412\" xlink:href=\"#mfb7a8fda70\" y=\"152.65882\"/>\n     <use style=\"fill:#ff0000;stroke:#ff0000;\" x=\"267.332911\" xlink:href=\"#mfb7a8fda70\" y=\"146.556682\"/>\n     <use style=\"fill:#ff0000;stroke:#ff0000;\" x=\"267.575\" xlink:href=\"#mfb7a8fda70\" y=\"149.765348\"/>\n     <use style=\"fill:#ff0000;stroke:#ff0000;\" x=\"267.575\" xlink:href=\"#mfb7a8fda70\" y=\"149.765348\"/>\n     <use style=\"fill:#ff0000;stroke:#ff0000;\" x=\"278.781379\" xlink:href=\"#mfb7a8fda70\" y=\"144.974031\"/>\n     <use style=\"fill:#ff0000;stroke:#ff0000;\" x=\"264.229612\" xlink:href=\"#mfb7a8fda70\" y=\"154.396669\"/>\n     <use style=\"fill:#ff0000;stroke:#ff0000;\" x=\"279.944448\" xlink:href=\"#mfb7a8fda70\" y=\"144.816473\"/>\n     <use style=\"fill:#ff0000;stroke:#ff0000;\" x=\"250.95093\" xlink:href=\"#mfb7a8fda70\" y=\"152.344425\"/>\n     <use style=\"fill:#ff0000;stroke:#ff0000;\" x=\"243.750712\" xlink:href=\"#mfb7a8fda70\" y=\"146.350771\"/>\n     <use style=\"fill:#ff0000;stroke:#ff0000;\" x=\"278.585646\" xlink:href=\"#mfb7a8fda70\" y=\"147.338973\"/>\n     <use style=\"fill:#ff0000;stroke:#ff0000;\" x=\"250.855998\" xlink:href=\"#mfb7a8fda70\" y=\"152.298891\"/>\n     <use style=\"fill:#ff0000;stroke:#ff0000;\" x=\"243.993547\" xlink:href=\"#mfb7a8fda70\" y=\"146.354543\"/>\n     <use style=\"fill:#ff0000;stroke:#ff0000;\" x=\"250.855998\" xlink:href=\"#mfb7a8fda70\" y=\"152.298891\"/>\n     <use style=\"fill:#ff0000;stroke:#ff0000;\" x=\"243.993547\" xlink:href=\"#mfb7a8fda70\" y=\"146.354543\"/>\n     <use style=\"fill:#ff0000;stroke:#ff0000;\" x=\"248.603402\" xlink:href=\"#mfb7a8fda70\" y=\"149.744659\"/>\n     <use style=\"fill:#ff0000;stroke:#ff0000;\" x=\"265.732894\" xlink:href=\"#mfb7a8fda70\" y=\"155.735587\"/>\n     <use style=\"fill:#ff0000;stroke:#ff0000;\" x=\"262.54568\" xlink:href=\"#mfb7a8fda70\" y=\"154.938889\"/>\n     <use style=\"fill:#ff0000;stroke:#ff0000;\" x=\"250.95093\" xlink:href=\"#mfb7a8fda70\" y=\"152.344425\"/>\n     <use style=\"fill:#ff0000;stroke:#ff0000;\" x=\"243.779327\" xlink:href=\"#mfb7a8fda70\" y=\"146.311238\"/>\n     <use style=\"fill:#ff0000;stroke:#ff0000;\" x=\"278.184194\" xlink:href=\"#mfb7a8fda70\" y=\"144.942419\"/>\n     <use style=\"fill:#ff0000;stroke:#ff0000;\" x=\"247.243053\" xlink:href=\"#mfb7a8fda70\" y=\"145.729947\"/>\n     <use style=\"fill:#ff0000;stroke:#ff0000;\" x=\"263.049029\" xlink:href=\"#mfb7a8fda70\" y=\"143.605919\"/>\n     <use style=\"fill:#ff0000;stroke:#ff0000;\" x=\"266.274809\" xlink:href=\"#mfb7a8fda70\" y=\"147.660045\"/>\n     <use style=\"fill:#ff0000;stroke:#ff0000;\" x=\"259.411887\" xlink:href=\"#mfb7a8fda70\" y=\"144.696062\"/>\n     <use style=\"fill:#ff0000;stroke:#ff0000;\" x=\"249.731908\" xlink:href=\"#mfb7a8fda70\" y=\"149.99864\"/>\n     <use style=\"fill:#ff0000;stroke:#ff0000;\" x=\"264.229612\" xlink:href=\"#mfb7a8fda70\" y=\"154.396669\"/>\n     <use style=\"fill:#ff0000;stroke:#ff0000;\" x=\"264.229612\" xlink:href=\"#mfb7a8fda70\" y=\"154.396669\"/>\n     <use style=\"fill:#ff0000;stroke:#ff0000;\" x=\"264.229612\" xlink:href=\"#mfb7a8fda70\" y=\"154.396669\"/>\n     <use style=\"fill:#ff0000;stroke:#ff0000;\" x=\"243.952822\" xlink:href=\"#mfb7a8fda70\" y=\"151.104066\"/>\n     <use style=\"fill:#ff0000;stroke:#ff0000;\" x=\"247.45562\" xlink:href=\"#mfb7a8fda70\" y=\"144.397607\"/>\n     <use style=\"fill:#ff0000;stroke:#ff0000;\" x=\"257.807066\" xlink:href=\"#mfb7a8fda70\" y=\"146.64993\"/>\n     <use style=\"fill:#ff0000;stroke:#ff0000;\" x=\"261.248748\" xlink:href=\"#mfb7a8fda70\" y=\"144.830563\"/>\n     <use style=\"fill:#ff0000;stroke:#ff0000;\" x=\"264.22833\" xlink:href=\"#mfb7a8fda70\" y=\"147.332539\"/>\n     <use style=\"fill:#ff0000;stroke:#ff0000;\" x=\"257.880288\" xlink:href=\"#mfb7a8fda70\" y=\"149.032761\"/>\n     <use style=\"fill:#ff0000;stroke:#ff0000;\" x=\"249.373807\" xlink:href=\"#mfb7a8fda70\" y=\"149.795083\"/>\n     <use style=\"fill:#ff0000;stroke:#ff0000;\" x=\"279.944448\" xlink:href=\"#mfb7a8fda70\" y=\"144.816473\"/>\n     <use style=\"fill:#ff0000;stroke:#ff0000;\" x=\"265.56102\" xlink:href=\"#mfb7a8fda70\" y=\"143.685639\"/>\n     <use style=\"fill:#ff0000;stroke:#ff0000;\" x=\"259.593794\" xlink:href=\"#mfb7a8fda70\" y=\"144.690696\"/>\n     <use style=\"fill:#ff0000;stroke:#ff0000;\" x=\"259.593794\" xlink:href=\"#mfb7a8fda70\" y=\"144.690696\"/>\n     <use style=\"fill:#ff0000;stroke:#ff0000;\" x=\"258.004862\" xlink:href=\"#mfb7a8fda70\" y=\"148.767701\"/>\n     <use style=\"fill:#ff0000;stroke:#ff0000;\" x=\"282.479447\" xlink:href=\"#mfb7a8fda70\" y=\"148.970279\"/>\n     <use style=\"fill:#ff0000;stroke:#ff0000;\" x=\"256.300094\" xlink:href=\"#mfb7a8fda70\" y=\"150.771735\"/>\n     <use style=\"fill:#ff0000;stroke:#ff0000;\" x=\"258.478574\" xlink:href=\"#mfb7a8fda70\" y=\"147.122161\"/>\n     <use style=\"fill:#ff0000;stroke:#ff0000;\" x=\"264.229612\" xlink:href=\"#mfb7a8fda70\" y=\"154.396669\"/>\n     <use style=\"fill:#ff0000;stroke:#ff0000;\" x=\"247.243053\" xlink:href=\"#mfb7a8fda70\" y=\"145.729947\"/>\n     <use style=\"fill:#ff0000;stroke:#ff0000;\" x=\"263.049029\" xlink:href=\"#mfb7a8fda70\" y=\"143.605919\"/>\n     <use style=\"fill:#ff0000;stroke:#ff0000;\" x=\"272.052671\" xlink:href=\"#mfb7a8fda70\" y=\"152.819541\"/>\n     <use style=\"fill:#ff0000;stroke:#ff0000;\" x=\"279.944448\" xlink:href=\"#mfb7a8fda70\" y=\"144.816473\"/>\n     <use style=\"fill:#ff0000;stroke:#ff0000;\" x=\"255.113332\" xlink:href=\"#mfb7a8fda70\" y=\"147.705887\"/>\n     <use style=\"fill:#ff0000;stroke:#ff0000;\" x=\"262.590322\" xlink:href=\"#mfb7a8fda70\" y=\"139.554872\"/>\n     <use style=\"fill:#ff0000;stroke:#ff0000;\" x=\"248.500813\" xlink:href=\"#mfb7a8fda70\" y=\"148.869786\"/>\n     <use style=\"fill:#ff0000;stroke:#ff0000;\" x=\"261.88966\" xlink:href=\"#mfb7a8fda70\" y=\"146.472772\"/>\n     <use style=\"fill:#ff0000;stroke:#ff0000;\" x=\"240.537603\" xlink:href=\"#mfb7a8fda70\" y=\"149.996346\"/>\n     <use style=\"fill:#ff0000;stroke:#ff0000;\" x=\"254.938396\" xlink:href=\"#mfb7a8fda70\" y=\"149.293859\"/>\n     <use style=\"fill:#ff0000;stroke:#ff0000;\" x=\"258.668481\" xlink:href=\"#mfb7a8fda70\" y=\"147.217333\"/>\n     <use style=\"fill:#ff0000;stroke:#ff0000;\" x=\"279.189055\" xlink:href=\"#mfb7a8fda70\" y=\"150.638018\"/>\n     <use style=\"fill:#ff0000;stroke:#ff0000;\" x=\"252.247152\" xlink:href=\"#mfb7a8fda70\" y=\"143.877459\"/>\n     <use style=\"fill:#ff0000;stroke:#ff0000;\" x=\"265.142487\" xlink:href=\"#mfb7a8fda70\" y=\"146.105681\"/>\n     <use style=\"fill:#ff0000;stroke:#ff0000;\" x=\"272.069922\" xlink:href=\"#mfb7a8fda70\" y=\"145.380044\"/>\n     <use style=\"fill:#ff0000;stroke:#ff0000;\" x=\"259.640861\" xlink:href=\"#mfb7a8fda70\" y=\"144.431005\"/>\n     <use style=\"fill:#ff0000;stroke:#ff0000;\" x=\"259.594022\" xlink:href=\"#mfb7a8fda70\" y=\"144.425499\"/>\n     <use style=\"fill:#ff0000;stroke:#ff0000;\" x=\"259.958528\" xlink:href=\"#mfb7a8fda70\" y=\"144.446079\"/>\n     <use style=\"fill:#ff0000;stroke:#ff0000;\" x=\"145.533883\" xlink:href=\"#mfb7a8fda70\" y=\"93.846349\"/>\n     <use style=\"fill:#ff0000;stroke:#ff0000;\" x=\"249.310856\" xlink:href=\"#mfb7a8fda70\" y=\"147.48802\"/>\n     <use style=\"fill:#ff0000;stroke:#ff0000;\" x=\"254.369402\" xlink:href=\"#mfb7a8fda70\" y=\"150.362423\"/>\n     <use style=\"fill:#ff0000;stroke:#ff0000;\" x=\"251.463832\" xlink:href=\"#mfb7a8fda70\" y=\"147.784213\"/>\n     <use style=\"fill:#ff0000;stroke:#ff0000;\" x=\"252.163502\" xlink:href=\"#mfb7a8fda70\" y=\"149.726323\"/>\n     <use style=\"fill:#ff0000;stroke:#ff0000;\" x=\"255.770107\" xlink:href=\"#mfb7a8fda70\" y=\"147.11613\"/>\n     <use style=\"fill:#ff0000;stroke:#ff0000;\" x=\"255.770107\" xlink:href=\"#mfb7a8fda70\" y=\"147.11613\"/>\n     <use style=\"fill:#ff0000;stroke:#ff0000;\" x=\"260.78714\" xlink:href=\"#mfb7a8fda70\" y=\"161.583682\"/>\n     <use style=\"fill:#ff0000;stroke:#ff0000;\" x=\"264.367929\" xlink:href=\"#mfb7a8fda70\" y=\"150.014135\"/>\n     <use style=\"fill:#ff0000;stroke:#ff0000;\" x=\"259.411887\" xlink:href=\"#mfb7a8fda70\" y=\"144.696062\"/>\n     <use style=\"fill:#ff0000;stroke:#ff0000;\" x=\"249.434896\" xlink:href=\"#mfb7a8fda70\" y=\"151.876457\"/>\n     <use style=\"fill:#ff0000;stroke:#ff0000;\" x=\"248.784298\" xlink:href=\"#mfb7a8fda70\" y=\"151.947853\"/>\n     <use style=\"fill:#ff0000;stroke:#ff0000;\" x=\"266.597039\" xlink:href=\"#mfb7a8fda70\" y=\"153.128366\"/>\n     <use style=\"fill:#ff0000;stroke:#ff0000;\" x=\"254.270013\" xlink:href=\"#mfb7a8fda70\" y=\"150.029412\"/>\n     <use style=\"fill:#ff0000;stroke:#ff0000;\" x=\"270.499219\" xlink:href=\"#mfb7a8fda70\" y=\"144.128189\"/>\n     <use style=\"fill:#ff0000;stroke:#ff0000;\" x=\"79.758133\" xlink:href=\"#mfb7a8fda70\" y=\"140.405272\"/>\n     <use style=\"fill:#ff0000;stroke:#ff0000;\" x=\"70.265435\" xlink:href=\"#mfb7a8fda70\" y=\"129.09233\"/>\n     <use style=\"fill:#ff0000;stroke:#ff0000;\" x=\"252.730226\" xlink:href=\"#mfb7a8fda70\" y=\"150.593388\"/>\n     <use style=\"fill:#ff0000;stroke:#ff0000;\" x=\"243.125686\" xlink:href=\"#mfb7a8fda70\" y=\"152.184347\"/>\n     <use style=\"fill:#ff0000;stroke:#ff0000;\" x=\"279.856622\" xlink:href=\"#mfb7a8fda70\" y=\"144.890379\"/>\n     <use style=\"fill:#ff0000;stroke:#ff0000;\" x=\"279.58464\" xlink:href=\"#mfb7a8fda70\" y=\"144.848217\"/>\n     <use style=\"fill:#ff0000;stroke:#ff0000;\" x=\"279.58464\" xlink:href=\"#mfb7a8fda70\" y=\"144.848217\"/>\n     <use style=\"fill:#ff0000;stroke:#ff0000;\" x=\"279.58464\" xlink:href=\"#mfb7a8fda70\" y=\"144.848217\"/>\n     <use style=\"fill:#ff0000;stroke:#ff0000;\" x=\"279.58464\" xlink:href=\"#mfb7a8fda70\" y=\"144.848217\"/>\n     <use style=\"fill:#ff0000;stroke:#ff0000;\" x=\"279.215539\" xlink:href=\"#mfb7a8fda70\" y=\"145.159605\"/>\n     <use style=\"fill:#ff0000;stroke:#ff0000;\" x=\"271.484732\" xlink:href=\"#mfb7a8fda70\" y=\"146.388991\"/>\n     <use style=\"fill:#ff0000;stroke:#ff0000;\" x=\"264.229612\" xlink:href=\"#mfb7a8fda70\" y=\"154.396669\"/>\n     <use style=\"fill:#ff0000;stroke:#ff0000;\" x=\"279.215539\" xlink:href=\"#mfb7a8fda70\" y=\"145.159605\"/>\n     <use style=\"fill:#ff0000;stroke:#ff0000;\" x=\"279.215539\" xlink:href=\"#mfb7a8fda70\" y=\"145.159605\"/>\n     <use style=\"fill:#ff0000;stroke:#ff0000;\" x=\"279.215539\" xlink:href=\"#mfb7a8fda70\" y=\"145.159605\"/>\n     <use style=\"fill:#ff0000;stroke:#ff0000;\" x=\"247.686669\" xlink:href=\"#mfb7a8fda70\" y=\"150.543483\"/>\n     <use style=\"fill:#ff0000;stroke:#ff0000;\" x=\"249.982962\" xlink:href=\"#mfb7a8fda70\" y=\"151.488002\"/>\n     <use style=\"fill:#ff0000;stroke:#ff0000;\" x=\"250.689261\" xlink:href=\"#mfb7a8fda70\" y=\"151.13974\"/>\n     <use style=\"fill:#ff0000;stroke:#ff0000;\" x=\"250.689261\" xlink:href=\"#mfb7a8fda70\" y=\"151.13974\"/>\n     <use style=\"fill:#ff0000;stroke:#ff0000;\" x=\"250.00259\" xlink:href=\"#mfb7a8fda70\" y=\"151.513107\"/>\n     <use style=\"fill:#ff0000;stroke:#ff0000;\" x=\"230.223243\" xlink:href=\"#mfb7a8fda70\" y=\"147.519493\"/>\n     <use style=\"fill:#ff0000;stroke:#ff0000;\" x=\"230.223243\" xlink:href=\"#mfb7a8fda70\" y=\"147.519493\"/>\n     <use style=\"fill:#ff0000;stroke:#ff0000;\" x=\"250.95093\" xlink:href=\"#mfb7a8fda70\" y=\"152.344425\"/>\n     <use style=\"fill:#ff0000;stroke:#ff0000;\" x=\"244.89581\" xlink:href=\"#mfb7a8fda70\" y=\"146.409123\"/>\n     <use style=\"fill:#ff0000;stroke:#ff0000;\" x=\"256.230091\" xlink:href=\"#mfb7a8fda70\" y=\"150.827844\"/>\n     <use style=\"fill:#ff0000;stroke:#ff0000;\" x=\"265.527743\" xlink:href=\"#mfb7a8fda70\" y=\"148.061555\"/>\n     <use style=\"fill:#ff0000;stroke:#ff0000;\" x=\"243.888681\" xlink:href=\"#mfb7a8fda70\" y=\"152.005839\"/>\n     <use style=\"fill:#ff0000;stroke:#ff0000;\" x=\"265.527743\" xlink:href=\"#mfb7a8fda70\" y=\"148.061555\"/>\n     <use style=\"fill:#ff0000;stroke:#ff0000;\" x=\"265.527743\" xlink:href=\"#mfb7a8fda70\" y=\"148.061555\"/>\n     <use style=\"fill:#ff0000;stroke:#ff0000;\" x=\"265.527743\" xlink:href=\"#mfb7a8fda70\" y=\"148.061555\"/>\n     <use style=\"fill:#ff0000;stroke:#ff0000;\" x=\"253.975821\" xlink:href=\"#mfb7a8fda70\" y=\"150.134582\"/>\n     <use style=\"fill:#ff0000;stroke:#ff0000;\" x=\"246.187935\" xlink:href=\"#mfb7a8fda70\" y=\"151.285491\"/>\n     <use style=\"fill:#ff0000;stroke:#ff0000;\" x=\"265.527743\" xlink:href=\"#mfb7a8fda70\" y=\"148.061555\"/>\n     <use style=\"fill:#ff0000;stroke:#ff0000;\" x=\"265.527743\" xlink:href=\"#mfb7a8fda70\" y=\"148.061555\"/>\n     <use style=\"fill:#ff0000;stroke:#ff0000;\" x=\"265.527743\" xlink:href=\"#mfb7a8fda70\" y=\"148.061555\"/>\n     <use style=\"fill:#ff0000;stroke:#ff0000;\" x=\"265.527743\" xlink:href=\"#mfb7a8fda70\" y=\"148.061555\"/>\n     <use style=\"fill:#ff0000;stroke:#ff0000;\" x=\"247.342422\" xlink:href=\"#mfb7a8fda70\" y=\"147.011234\"/>\n     <use style=\"fill:#ff0000;stroke:#ff0000;\" x=\"248.238609\" xlink:href=\"#mfb7a8fda70\" y=\"147.809435\"/>\n     <use style=\"fill:#ff0000;stroke:#ff0000;\" x=\"250.746935\" xlink:href=\"#mfb7a8fda70\" y=\"147.654183\"/>\n     <use style=\"fill:#ff0000;stroke:#ff0000;\" x=\"279.016992\" xlink:href=\"#mfb7a8fda70\" y=\"145.131797\"/>\n     <use style=\"fill:#ff0000;stroke:#ff0000;\" x=\"279.016992\" xlink:href=\"#mfb7a8fda70\" y=\"145.131797\"/>\n     <use style=\"fill:#ff0000;stroke:#ff0000;\" x=\"248.367226\" xlink:href=\"#mfb7a8fda70\" y=\"150.649681\"/>\n     <use style=\"fill:#ff0000;stroke:#ff0000;\" x=\"251.289045\" xlink:href=\"#mfb7a8fda70\" y=\"151.607205\"/>\n     <use style=\"fill:#ff0000;stroke:#ff0000;\" x=\"273.131198\" xlink:href=\"#mfb7a8fda70\" y=\"143.444676\"/>\n     <use style=\"fill:#ff0000;stroke:#ff0000;\" x=\"272.635311\" xlink:href=\"#mfb7a8fda70\" y=\"143.416267\"/>\n     <use style=\"fill:#ff0000;stroke:#ff0000;\" x=\"267.828873\" xlink:href=\"#mfb7a8fda70\" y=\"146.393317\"/>\n     <use style=\"fill:#ff0000;stroke:#ff0000;\" x=\"271.513063\" xlink:href=\"#mfb7a8fda70\" y=\"144.966101\"/>\n     <use style=\"fill:#ff0000;stroke:#ff0000;\" x=\"262.733431\" xlink:href=\"#mfb7a8fda70\" y=\"147.0664\"/>\n     <use style=\"fill:#ff0000;stroke:#ff0000;\" x=\"250.684626\" xlink:href=\"#mfb7a8fda70\" y=\"148.066147\"/>\n     <use style=\"fill:#ff0000;stroke:#ff0000;\" x=\"268.245654\" xlink:href=\"#mfb7a8fda70\" y=\"149.75366\"/>\n     <use style=\"fill:#ff0000;stroke:#ff0000;\" x=\"257.160846\" xlink:href=\"#mfb7a8fda70\" y=\"147.519287\"/>\n     <use style=\"fill:#ff0000;stroke:#ff0000;\" x=\"262.826262\" xlink:href=\"#mfb7a8fda70\" y=\"147.298444\"/>\n     <use style=\"fill:#ff0000;stroke:#ff0000;\" x=\"256.574871\" xlink:href=\"#mfb7a8fda70\" y=\"146.714451\"/>\n     <use style=\"fill:#ff0000;stroke:#ff0000;\" x=\"259.647726\" xlink:href=\"#mfb7a8fda70\" y=\"146.573523\"/>\n     <use style=\"fill:#ff0000;stroke:#ff0000;\" x=\"259.647726\" xlink:href=\"#mfb7a8fda70\" y=\"146.573523\"/>\n     <use style=\"fill:#ff0000;stroke:#ff0000;\" x=\"267.679738\" xlink:href=\"#mfb7a8fda70\" y=\"149.123511\"/>\n     <use style=\"fill:#ff0000;stroke:#ff0000;\" x=\"247.688589\" xlink:href=\"#mfb7a8fda70\" y=\"151.967392\"/>\n     <use style=\"fill:#ff0000;stroke:#ff0000;\" x=\"251.849776\" xlink:href=\"#mfb7a8fda70\" y=\"151.091749\"/>\n     <use style=\"fill:#ff0000;stroke:#ff0000;\" x=\"255.239496\" xlink:href=\"#mfb7a8fda70\" y=\"149.335453\"/>\n     <use style=\"fill:#ff0000;stroke:#ff0000;\" x=\"269.374953\" xlink:href=\"#mfb7a8fda70\" y=\"145.415049\"/>\n     <use style=\"fill:#ff0000;stroke:#ff0000;\" x=\"266.379615\" xlink:href=\"#mfb7a8fda70\" y=\"142.839569\"/>\n     <use style=\"fill:#ff0000;stroke:#ff0000;\" x=\"256.145735\" xlink:href=\"#mfb7a8fda70\" y=\"147.16854\"/>\n     <use style=\"fill:#ff0000;stroke:#ff0000;\" x=\"247.688589\" xlink:href=\"#mfb7a8fda70\" y=\"151.967392\"/>\n     <use style=\"fill:#ff0000;stroke:#ff0000;\" x=\"271.980048\" xlink:href=\"#mfb7a8fda70\" y=\"143.324899\"/>\n     <use style=\"fill:#ff0000;stroke:#ff0000;\" x=\"251.23152\" xlink:href=\"#mfb7a8fda70\" y=\"147.607141\"/>\n     <use style=\"fill:#ff0000;stroke:#ff0000;\" x=\"272.941661\" xlink:href=\"#mfb7a8fda70\" y=\"148.055825\"/>\n     <use style=\"fill:#ff0000;stroke:#ff0000;\" x=\"272.066585\" xlink:href=\"#mfb7a8fda70\" y=\"143.366406\"/>\n     <use style=\"fill:#ff0000;stroke:#ff0000;\" x=\"272.066585\" xlink:href=\"#mfb7a8fda70\" y=\"143.366406\"/>\n     <use style=\"fill:#ff0000;stroke:#ff0000;\" x=\"267.885181\" xlink:href=\"#mfb7a8fda70\" y=\"147.949876\"/>\n     <use style=\"fill:#ff0000;stroke:#ff0000;\" x=\"260.803062\" xlink:href=\"#mfb7a8fda70\" y=\"146.481421\"/>\n     <use style=\"fill:#ff0000;stroke:#ff0000;\" x=\"260.803062\" xlink:href=\"#mfb7a8fda70\" y=\"146.481421\"/>\n     <use style=\"fill:#ff0000;stroke:#ff0000;\" x=\"260.803062\" xlink:href=\"#mfb7a8fda70\" y=\"146.481421\"/>\n     <use style=\"fill:#ff0000;stroke:#ff0000;\" x=\"260.803062\" xlink:href=\"#mfb7a8fda70\" y=\"146.481421\"/>\n     <use style=\"fill:#ff0000;stroke:#ff0000;\" x=\"271.817631\" xlink:href=\"#mfb7a8fda70\" y=\"147.84355\"/>\n     <use style=\"fill:#ff0000;stroke:#ff0000;\" x=\"256.546889\" xlink:href=\"#mfb7a8fda70\" y=\"147.9806\"/>\n     <use style=\"fill:#ff0000;stroke:#ff0000;\" x=\"262.065688\" xlink:href=\"#mfb7a8fda70\" y=\"149.891966\"/>\n     <use style=\"fill:#ff0000;stroke:#ff0000;\" x=\"272.066585\" xlink:href=\"#mfb7a8fda70\" y=\"143.366406\"/>\n     <use style=\"fill:#ff0000;stroke:#ff0000;\" x=\"272.066585\" xlink:href=\"#mfb7a8fda70\" y=\"143.366406\"/>\n     <use style=\"fill:#ff0000;stroke:#ff0000;\" x=\"272.066585\" xlink:href=\"#mfb7a8fda70\" y=\"143.366406\"/>\n     <use style=\"fill:#ff0000;stroke:#ff0000;\" x=\"272.066585\" xlink:href=\"#mfb7a8fda70\" y=\"143.366406\"/>\n     <use style=\"fill:#ff0000;stroke:#ff0000;\" x=\"272.066585\" xlink:href=\"#mfb7a8fda70\" y=\"143.366406\"/>\n     <use style=\"fill:#ff0000;stroke:#ff0000;\" x=\"272.066585\" xlink:href=\"#mfb7a8fda70\" y=\"143.366406\"/>\n     <use style=\"fill:#ff0000;stroke:#ff0000;\" x=\"272.066585\" xlink:href=\"#mfb7a8fda70\" y=\"143.366406\"/>\n     <use style=\"fill:#ff0000;stroke:#ff0000;\" x=\"272.066585\" xlink:href=\"#mfb7a8fda70\" y=\"143.366406\"/>\n     <use style=\"fill:#ff0000;stroke:#ff0000;\" x=\"272.066585\" xlink:href=\"#mfb7a8fda70\" y=\"143.366406\"/>\n     <use style=\"fill:#ff0000;stroke:#ff0000;\" x=\"272.066585\" xlink:href=\"#mfb7a8fda70\" y=\"143.366406\"/>\n     <use style=\"fill:#ff0000;stroke:#ff0000;\" x=\"272.066585\" xlink:href=\"#mfb7a8fda70\" y=\"143.366406\"/>\n     <use style=\"fill:#ff0000;stroke:#ff0000;\" x=\"272.066585\" xlink:href=\"#mfb7a8fda70\" y=\"143.366406\"/>\n     <use style=\"fill:#ff0000;stroke:#ff0000;\" x=\"272.066585\" xlink:href=\"#mfb7a8fda70\" y=\"143.366406\"/>\n     <use style=\"fill:#ff0000;stroke:#ff0000;\" x=\"272.066585\" xlink:href=\"#mfb7a8fda70\" y=\"143.366406\"/>\n     <use style=\"fill:#ff0000;stroke:#ff0000;\" x=\"272.066585\" xlink:href=\"#mfb7a8fda70\" y=\"143.366406\"/>\n     <use style=\"fill:#ff0000;stroke:#ff0000;\" x=\"265.479921\" xlink:href=\"#mfb7a8fda70\" y=\"149.229126\"/>\n     <use style=\"fill:#ff0000;stroke:#ff0000;\" x=\"260.803062\" xlink:href=\"#mfb7a8fda70\" y=\"146.481421\"/>\n     <use style=\"fill:#ff0000;stroke:#ff0000;\" x=\"272.741482\" xlink:href=\"#mfb7a8fda70\" y=\"147.747491\"/>\n     <use style=\"fill:#ff0000;stroke:#ff0000;\" x=\"250.444686\" xlink:href=\"#mfb7a8fda70\" y=\"146.986869\"/>\n     <use style=\"fill:#ff0000;stroke:#ff0000;\" x=\"269.622432\" xlink:href=\"#mfb7a8fda70\" y=\"146.598422\"/>\n     <use style=\"fill:#ff0000;stroke:#ff0000;\" x=\"271.924261\" xlink:href=\"#mfb7a8fda70\" y=\"143.463681\"/>\n     <use style=\"fill:#ff0000;stroke:#ff0000;\" x=\"246.366386\" xlink:href=\"#mfb7a8fda70\" y=\"149.41481\"/>\n     <use style=\"fill:#ff0000;stroke:#ff0000;\" x=\"260.184804\" xlink:href=\"#mfb7a8fda70\" y=\"146.299089\"/>\n     <use style=\"fill:#ff0000;stroke:#ff0000;\" x=\"271.99262\" xlink:href=\"#mfb7a8fda70\" y=\"147.344081\"/>\n     <use style=\"fill:#ff0000;stroke:#ff0000;\" x=\"258.21066\" xlink:href=\"#mfb7a8fda70\" y=\"152.884893\"/>\n     <use style=\"fill:#ff0000;stroke:#ff0000;\" x=\"233.818641\" xlink:href=\"#mfb7a8fda70\" y=\"154.468371\"/>\n     <use style=\"fill:#ff0000;stroke:#ff0000;\" x=\"234.01198\" xlink:href=\"#mfb7a8fda70\" y=\"154.318119\"/>\n     <use style=\"fill:#ff0000;stroke:#ff0000;\" x=\"258.988884\" xlink:href=\"#mfb7a8fda70\" y=\"147.474202\"/>\n     <use style=\"fill:#ff0000;stroke:#ff0000;\" x=\"262.696765\" xlink:href=\"#mfb7a8fda70\" y=\"145.543344\"/>\n     <use style=\"fill:#ff0000;stroke:#ff0000;\" x=\"262.673791\" xlink:href=\"#mfb7a8fda70\" y=\"145.513961\"/>\n     <use style=\"fill:#ff0000;stroke:#ff0000;\" x=\"262.170467\" xlink:href=\"#mfb7a8fda70\" y=\"147.746777\"/>\n     <use style=\"fill:#ff0000;stroke:#ff0000;\" x=\"267.621939\" xlink:href=\"#mfb7a8fda70\" y=\"144.397964\"/>\n     <use style=\"fill:#ff0000;stroke:#ff0000;\" x=\"267.787906\" xlink:href=\"#mfb7a8fda70\" y=\"144.330328\"/>\n     <use style=\"fill:#ff0000;stroke:#ff0000;\" x=\"234.310035\" xlink:href=\"#mfb7a8fda70\" y=\"154.509001\"/>\n     <use style=\"fill:#ff0000;stroke:#ff0000;\" x=\"233.507325\" xlink:href=\"#mfb7a8fda70\" y=\"154.290184\"/>\n     <use style=\"fill:#ff0000;stroke:#ff0000;\" x=\"263.182386\" xlink:href=\"#mfb7a8fda70\" y=\"145.666599\"/>\n     <use style=\"fill:#ff0000;stroke:#ff0000;\" x=\"257.217842\" xlink:href=\"#mfb7a8fda70\" y=\"142.335224\"/>\n     <use style=\"fill:#ff0000;stroke:#ff0000;\" x=\"266.832039\" xlink:href=\"#mfb7a8fda70\" y=\"149.241952\"/>\n     <use style=\"fill:#ff0000;stroke:#ff0000;\" x=\"261.737429\" xlink:href=\"#mfb7a8fda70\" y=\"147.061435\"/>\n     <use style=\"fill:#ff0000;stroke:#ff0000;\" x=\"251.251806\" xlink:href=\"#mfb7a8fda70\" y=\"141.799139\"/>\n     <use style=\"fill:#ff0000;stroke:#ff0000;\" x=\"251.220227\" xlink:href=\"#mfb7a8fda70\" y=\"147.984062\"/>\n     <use style=\"fill:#ff0000;stroke:#ff0000;\" x=\"251.220227\" xlink:href=\"#mfb7a8fda70\" y=\"147.984062\"/>\n     <use style=\"fill:#ff0000;stroke:#ff0000;\" x=\"251.220227\" xlink:href=\"#mfb7a8fda70\" y=\"147.984062\"/>\n     <use style=\"fill:#ff0000;stroke:#ff0000;\" x=\"251.220227\" xlink:href=\"#mfb7a8fda70\" y=\"147.984062\"/>\n     <use style=\"fill:#ff0000;stroke:#ff0000;\" x=\"251.15004\" xlink:href=\"#mfb7a8fda70\" y=\"150.264178\"/>\n     <use style=\"fill:#ff0000;stroke:#ff0000;\" x=\"233.02383\" xlink:href=\"#mfb7a8fda70\" y=\"154.580929\"/>\n     <use style=\"fill:#ff0000;stroke:#ff0000;\" x=\"233.671583\" xlink:href=\"#mfb7a8fda70\" y=\"154.586832\"/>\n     <use style=\"fill:#ff0000;stroke:#ff0000;\" x=\"233.758664\" xlink:href=\"#mfb7a8fda70\" y=\"154.535447\"/>\n     <use style=\"fill:#ff0000;stroke:#ff0000;\" x=\"233.952547\" xlink:href=\"#mfb7a8fda70\" y=\"154.384772\"/>\n     <use style=\"fill:#ff0000;stroke:#ff0000;\" x=\"249.888146\" xlink:href=\"#mfb7a8fda70\" y=\"152.623703\"/>\n     <use style=\"fill:#ff0000;stroke:#ff0000;\" x=\"263.535128\" xlink:href=\"#mfb7a8fda70\" y=\"145.600701\"/>\n     <use style=\"fill:#ff0000;stroke:#ff0000;\" x=\"263.535128\" xlink:href=\"#mfb7a8fda70\" y=\"145.600701\"/>\n     <use style=\"fill:#ff0000;stroke:#ff0000;\" x=\"250.058872\" xlink:href=\"#mfb7a8fda70\" y=\"150.190446\"/>\n     <use style=\"fill:#ff0000;stroke:#ff0000;\" x=\"258.724935\" xlink:href=\"#mfb7a8fda70\" y=\"148.462532\"/>\n     <use style=\"fill:#ff0000;stroke:#ff0000;\" x=\"273.818477\" xlink:href=\"#mfb7a8fda70\" y=\"145.906943\"/>\n     <use style=\"fill:#ff0000;stroke:#ff0000;\" x=\"272.827916\" xlink:href=\"#mfb7a8fda70\" y=\"147.69438\"/>\n     <use style=\"fill:#ff0000;stroke:#ff0000;\" x=\"252.747379\" xlink:href=\"#mfb7a8fda70\" y=\"139.611341\"/>\n     <use style=\"fill:#ff0000;stroke:#ff0000;\" x=\"251.46583\" xlink:href=\"#mfb7a8fda70\" y=\"139.678122\"/>\n     <use style=\"fill:#ff0000;stroke:#ff0000;\" x=\"251.892941\" xlink:href=\"#mfb7a8fda70\" y=\"146.105437\"/>\n     <use style=\"fill:#ff0000;stroke:#ff0000;\" x=\"248.874097\" xlink:href=\"#mfb7a8fda70\" y=\"146.522086\"/>\n     <use style=\"fill:#ff0000;stroke:#ff0000;\" x=\"263.667951\" xlink:href=\"#mfb7a8fda70\" y=\"145.071704\"/>\n     <use style=\"fill:#ff0000;stroke:#ff0000;\" x=\"251.831604\" xlink:href=\"#mfb7a8fda70\" y=\"146.14163\"/>\n     <use style=\"fill:#ff0000;stroke:#ff0000;\" x=\"245.685255\" xlink:href=\"#mfb7a8fda70\" y=\"147.713414\"/>\n     <use style=\"fill:#ff0000;stroke:#ff0000;\" x=\"246.630286\" xlink:href=\"#mfb7a8fda70\" y=\"147.727919\"/>\n     <use style=\"fill:#ff0000;stroke:#ff0000;\" x=\"271.709553\" xlink:href=\"#mfb7a8fda70\" y=\"143.808191\"/>\n     <use style=\"fill:#ff0000;stroke:#ff0000;\" x=\"271.05799\" xlink:href=\"#mfb7a8fda70\" y=\"143.842144\"/>\n     <use style=\"fill:#ff0000;stroke:#ff0000;\" x=\"270.864727\" xlink:href=\"#mfb7a8fda70\" y=\"144.051348\"/>\n     <use style=\"fill:#ff0000;stroke:#ff0000;\" x=\"271.598837\" xlink:href=\"#mfb7a8fda70\" y=\"143.274535\"/>\n     <use style=\"fill:#ff0000;stroke:#ff0000;\" x=\"271.598837\" xlink:href=\"#mfb7a8fda70\" y=\"143.274535\"/>\n     <use style=\"fill:#ff0000;stroke:#ff0000;\" x=\"271.454431\" xlink:href=\"#mfb7a8fda70\" y=\"143.254562\"/>\n     <use style=\"fill:#ff0000;stroke:#ff0000;\" x=\"271.454431\" xlink:href=\"#mfb7a8fda70\" y=\"143.254562\"/>\n    </g>\n   </g>\n   <g id=\"PathCollection_2\">\n    <defs>\n     <path d=\"M 0 2.236068 \nC 0.593012 2.236068 1.161816 2.000462 1.581139 1.581139 \nC 2.000462 1.161816 2.236068 0.593012 2.236068 0 \nC 2.236068 -0.593012 2.000462 -1.161816 1.581139 -1.581139 \nC 1.161816 -2.000462 0.593012 -2.236068 0 -2.236068 \nC -0.593012 -2.236068 -1.161816 -2.000462 -1.581139 -1.581139 \nC -2.000462 -1.161816 -2.236068 -0.593012 -2.236068 0 \nC -2.236068 0.593012 -2.000462 1.161816 -1.581139 1.581139 \nC -1.161816 2.000462 -0.593012 2.236068 0 2.236068 \nz\n\" id=\"md7eeaab2d2\" style=\"stroke:#0000ff;\"/>\n    </defs>\n    <g clip-path=\"url(#p9ffdf45dae)\">\n     <use style=\"fill:#0000ff;stroke:#0000ff;\" x=\"235.248621\" xlink:href=\"#md7eeaab2d2\" y=\"151.404967\"/>\n     <use style=\"fill:#0000ff;stroke:#0000ff;\" x=\"246.865973\" xlink:href=\"#md7eeaab2d2\" y=\"149.126092\"/>\n     <use style=\"fill:#0000ff;stroke:#0000ff;\" x=\"231.732491\" xlink:href=\"#md7eeaab2d2\" y=\"152.505738\"/>\n     <use style=\"fill:#0000ff;stroke:#0000ff;\" x=\"241.785931\" xlink:href=\"#md7eeaab2d2\" y=\"149.963436\"/>\n     <use style=\"fill:#0000ff;stroke:#0000ff;\" x=\"238.199636\" xlink:href=\"#md7eeaab2d2\" y=\"151.563066\"/>\n     <use style=\"fill:#0000ff;stroke:#0000ff;\" x=\"251.059678\" xlink:href=\"#md7eeaab2d2\" y=\"152.862211\"/>\n     <use style=\"fill:#0000ff;stroke:#0000ff;\" x=\"240.065473\" xlink:href=\"#md7eeaab2d2\" y=\"152.523675\"/>\n     <use style=\"fill:#0000ff;stroke:#0000ff;\" x=\"233.985579\" xlink:href=\"#md7eeaab2d2\" y=\"150.369487\"/>\n     <use style=\"fill:#0000ff;stroke:#0000ff;\" x=\"236.078579\" xlink:href=\"#md7eeaab2d2\" y=\"150.412689\"/>\n     <use style=\"fill:#0000ff;stroke:#0000ff;\" x=\"248.183636\" xlink:href=\"#md7eeaab2d2\" y=\"147.607765\"/>\n     <use style=\"fill:#0000ff;stroke:#0000ff;\" x=\"231.57257\" xlink:href=\"#md7eeaab2d2\" y=\"154.08902\"/>\n     <use style=\"fill:#0000ff;stroke:#0000ff;\" x=\"234.839485\" xlink:href=\"#md7eeaab2d2\" y=\"150.200439\"/>\n     <use style=\"fill:#0000ff;stroke:#0000ff;\" x=\"246.375459\" xlink:href=\"#md7eeaab2d2\" y=\"152.751936\"/>\n     <use style=\"fill:#0000ff;stroke:#0000ff;\" x=\"239.055289\" xlink:href=\"#md7eeaab2d2\" y=\"151.28321\"/>\n     <use style=\"fill:#0000ff;stroke:#0000ff;\" x=\"231.57257\" xlink:href=\"#md7eeaab2d2\" y=\"154.08902\"/>\n     <use style=\"fill:#0000ff;stroke:#0000ff;\" x=\"255.757611\" xlink:href=\"#md7eeaab2d2\" y=\"144.46451\"/>\n     <use style=\"fill:#0000ff;stroke:#0000ff;\" x=\"238.22146\" xlink:href=\"#md7eeaab2d2\" y=\"151.95937\"/>\n     <use style=\"fill:#0000ff;stroke:#0000ff;\" x=\"243.720926\" xlink:href=\"#md7eeaab2d2\" y=\"150.073361\"/>\n     <use style=\"fill:#0000ff;stroke:#0000ff;\" x=\"231.887232\" xlink:href=\"#md7eeaab2d2\" y=\"151.891491\"/>\n     <use style=\"fill:#0000ff;stroke:#0000ff;\" x=\"255.757611\" xlink:href=\"#md7eeaab2d2\" y=\"144.46451\"/>\n     <use style=\"fill:#0000ff;stroke:#0000ff;\" x=\"248.79321\" xlink:href=\"#md7eeaab2d2\" y=\"148.080172\"/>\n     <use style=\"fill:#0000ff;stroke:#0000ff;\" x=\"249.61218\" xlink:href=\"#md7eeaab2d2\" y=\"144.986081\"/>\n     <use style=\"fill:#0000ff;stroke:#0000ff;\" x=\"259.670081\" xlink:href=\"#md7eeaab2d2\" y=\"153.497852\"/>\n     <use style=\"fill:#0000ff;stroke:#0000ff;\" x=\"238.971376\" xlink:href=\"#md7eeaab2d2\" y=\"151.889422\"/>\n     <use style=\"fill:#0000ff;stroke:#0000ff;\" x=\"246.154422\" xlink:href=\"#md7eeaab2d2\" y=\"149.706682\"/>\n     <use style=\"fill:#0000ff;stroke:#0000ff;\" x=\"264.571329\" xlink:href=\"#md7eeaab2d2\" y=\"150.141427\"/>\n     <use style=\"fill:#0000ff;stroke:#0000ff;\" x=\"249.042498\" xlink:href=\"#md7eeaab2d2\" y=\"146.121325\"/>\n     <use style=\"fill:#0000ff;stroke:#0000ff;\" x=\"238.165469\" xlink:href=\"#md7eeaab2d2\" y=\"150.928286\"/>\n     <use style=\"fill:#0000ff;stroke:#0000ff;\" x=\"238.165469\" xlink:href=\"#md7eeaab2d2\" y=\"150.928286\"/>\n     <use style=\"fill:#0000ff;stroke:#0000ff;\" x=\"238.165469\" xlink:href=\"#md7eeaab2d2\" y=\"150.928286\"/>\n     <use style=\"fill:#0000ff;stroke:#0000ff;\" x=\"260.370838\" xlink:href=\"#md7eeaab2d2\" y=\"145.038732\"/>\n     <use style=\"fill:#0000ff;stroke:#0000ff;\" x=\"257.050877\" xlink:href=\"#md7eeaab2d2\" y=\"147.164409\"/>\n     <use style=\"fill:#0000ff;stroke:#0000ff;\" x=\"253.986945\" xlink:href=\"#md7eeaab2d2\" y=\"152.439353\"/>\n     <use style=\"fill:#0000ff;stroke:#0000ff;\" x=\"250.710219\" xlink:href=\"#md7eeaab2d2\" y=\"149.350195\"/>\n     <use style=\"fill:#0000ff;stroke:#0000ff;\" x=\"235.261818\" xlink:href=\"#md7eeaab2d2\" y=\"152.477941\"/>\n     <use style=\"fill:#0000ff;stroke:#0000ff;\" x=\"260.784837\" xlink:href=\"#md7eeaab2d2\" y=\"151.852872\"/>\n     <use style=\"fill:#0000ff;stroke:#0000ff;\" x=\"255.5593\" xlink:href=\"#md7eeaab2d2\" y=\"144.439889\"/>\n     <use style=\"fill:#0000ff;stroke:#0000ff;\" x=\"239.332421\" xlink:href=\"#md7eeaab2d2\" y=\"149.109711\"/>\n     <use style=\"fill:#0000ff;stroke:#0000ff;\" x=\"242.336559\" xlink:href=\"#md7eeaab2d2\" y=\"149.046027\"/>\n     <use style=\"fill:#0000ff;stroke:#0000ff;\" x=\"243.568596\" xlink:href=\"#md7eeaab2d2\" y=\"148.994991\"/>\n     <use style=\"fill:#0000ff;stroke:#0000ff;\" x=\"249.61218\" xlink:href=\"#md7eeaab2d2\" y=\"144.986081\"/>\n     <use style=\"fill:#0000ff;stroke:#0000ff;\" x=\"265.39431\" xlink:href=\"#md7eeaab2d2\" y=\"145.147288\"/>\n     <use style=\"fill:#0000ff;stroke:#0000ff;\" x=\"248.938888\" xlink:href=\"#md7eeaab2d2\" y=\"144.363509\"/>\n     <use style=\"fill:#0000ff;stroke:#0000ff;\" x=\"269.445316\" xlink:href=\"#md7eeaab2d2\" y=\"141.565439\"/>\n     <use style=\"fill:#0000ff;stroke:#0000ff;\" x=\"269.419968\" xlink:href=\"#md7eeaab2d2\" y=\"141.907323\"/>\n     <use style=\"fill:#0000ff;stroke:#0000ff;\" x=\"242.104988\" xlink:href=\"#md7eeaab2d2\" y=\"155.198781\"/>\n     <use style=\"fill:#0000ff;stroke:#0000ff;\" x=\"235.132449\" xlink:href=\"#md7eeaab2d2\" y=\"152.520725\"/>\n     <use style=\"fill:#0000ff;stroke:#0000ff;\" x=\"247.071843\" xlink:href=\"#md7eeaab2d2\" y=\"154.246193\"/>\n     <use style=\"fill:#0000ff;stroke:#0000ff;\" x=\"244.677964\" xlink:href=\"#md7eeaab2d2\" y=\"153.808186\"/>\n     <use style=\"fill:#0000ff;stroke:#0000ff;\" x=\"233.859403\" xlink:href=\"#md7eeaab2d2\" y=\"155.115385\"/>\n     <use style=\"fill:#0000ff;stroke:#0000ff;\" x=\"254.325884\" xlink:href=\"#md7eeaab2d2\" y=\"149.588394\"/>\n     <use style=\"fill:#0000ff;stroke:#0000ff;\" x=\"252.535431\" xlink:href=\"#md7eeaab2d2\" y=\"149.200156\"/>\n     <use style=\"fill:#0000ff;stroke:#0000ff;\" x=\"253.944573\" xlink:href=\"#md7eeaab2d2\" y=\"150.461892\"/>\n     <use style=\"fill:#0000ff;stroke:#0000ff;\" x=\"227.517658\" xlink:href=\"#md7eeaab2d2\" y=\"148.668385\"/>\n     <use style=\"fill:#0000ff;stroke:#0000ff;\" x=\"252.185365\" xlink:href=\"#md7eeaab2d2\" y=\"149.249429\"/>\n     <use style=\"fill:#0000ff;stroke:#0000ff;\" x=\"258.244608\" xlink:href=\"#md7eeaab2d2\" y=\"147.728205\"/>\n     <use style=\"fill:#0000ff;stroke:#0000ff;\" x=\"243.881036\" xlink:href=\"#md7eeaab2d2\" y=\"149.997686\"/>\n     <use style=\"fill:#0000ff;stroke:#0000ff;\" x=\"233.116372\" xlink:href=\"#md7eeaab2d2\" y=\"153.067339\"/>\n     <use style=\"fill:#0000ff;stroke:#0000ff;\" x=\"247.261456\" xlink:href=\"#md7eeaab2d2\" y=\"145.790372\"/>\n     <use style=\"fill:#0000ff;stroke:#0000ff;\" x=\"239.053435\" xlink:href=\"#md7eeaab2d2\" y=\"150.963168\"/>\n     <use style=\"fill:#0000ff;stroke:#0000ff;\" x=\"240.69866\" xlink:href=\"#md7eeaab2d2\" y=\"151.064755\"/>\n     <use style=\"fill:#0000ff;stroke:#0000ff;\" x=\"242.816174\" xlink:href=\"#md7eeaab2d2\" y=\"151.918097\"/>\n     <use style=\"fill:#0000ff;stroke:#0000ff;\" x=\"278.265397\" xlink:href=\"#md7eeaab2d2\" y=\"145.273878\"/>\n     <use style=\"fill:#0000ff;stroke:#0000ff;\" x=\"239.258465\" xlink:href=\"#md7eeaab2d2\" y=\"150.727232\"/>\n     <use style=\"fill:#0000ff;stroke:#0000ff;\" x=\"246.58546\" xlink:href=\"#md7eeaab2d2\" y=\"149.527881\"/>\n     <use style=\"fill:#0000ff;stroke:#0000ff;\" x=\"231.430446\" xlink:href=\"#md7eeaab2d2\" y=\"150.108699\"/>\n     <use style=\"fill:#0000ff;stroke:#0000ff;\" x=\"246.58546\" xlink:href=\"#md7eeaab2d2\" y=\"149.527881\"/>\n     <use style=\"fill:#0000ff;stroke:#0000ff;\" x=\"266.448351\" xlink:href=\"#md7eeaab2d2\" y=\"143.705005\"/>\n     <use style=\"fill:#0000ff;stroke:#0000ff;\" x=\"271.903118\" xlink:href=\"#md7eeaab2d2\" y=\"143.017388\"/>\n     <use style=\"fill:#0000ff;stroke:#0000ff;\" x=\"253.127676\" xlink:href=\"#md7eeaab2d2\" y=\"145.689066\"/>\n     <use style=\"fill:#0000ff;stroke:#0000ff;\" x=\"261.066637\" xlink:href=\"#md7eeaab2d2\" y=\"145.924776\"/>\n     <use style=\"fill:#0000ff;stroke:#0000ff;\" x=\"256.106778\" xlink:href=\"#md7eeaab2d2\" y=\"144.253153\"/>\n     <use style=\"fill:#0000ff;stroke:#0000ff;\" x=\"259.046\" xlink:href=\"#md7eeaab2d2\" y=\"146.34781\"/>\n     <use style=\"fill:#0000ff;stroke:#0000ff;\" x=\"252.257704\" xlink:href=\"#md7eeaab2d2\" y=\"154.087027\"/>\n     <use style=\"fill:#0000ff;stroke:#0000ff;\" x=\"235.656179\" xlink:href=\"#md7eeaab2d2\" y=\"151.052709\"/>\n     <use style=\"fill:#0000ff;stroke:#0000ff;\" x=\"238.26966\" xlink:href=\"#md7eeaab2d2\" y=\"152.034889\"/>\n     <use style=\"fill:#0000ff;stroke:#0000ff;\" x=\"239.482846\" xlink:href=\"#md7eeaab2d2\" y=\"150.931031\"/>\n     <use style=\"fill:#0000ff;stroke:#0000ff;\" x=\"249.664359\" xlink:href=\"#md7eeaab2d2\" y=\"150.304118\"/>\n     <use style=\"fill:#0000ff;stroke:#0000ff;\" x=\"266.184601\" xlink:href=\"#md7eeaab2d2\" y=\"152.667439\"/>\n     <use style=\"fill:#0000ff;stroke:#0000ff;\" x=\"234.38432\" xlink:href=\"#md7eeaab2d2\" y=\"150.690453\"/>\n     <use style=\"fill:#0000ff;stroke:#0000ff;\" x=\"252.196777\" xlink:href=\"#md7eeaab2d2\" y=\"148.940623\"/>\n     <use style=\"fill:#0000ff;stroke:#0000ff;\" x=\"255.777825\" xlink:href=\"#md7eeaab2d2\" y=\"148.701705\"/>\n     <use style=\"fill:#0000ff;stroke:#0000ff;\" x=\"235.408756\" xlink:href=\"#md7eeaab2d2\" y=\"148.302995\"/>\n     <use style=\"fill:#0000ff;stroke:#0000ff;\" x=\"258.805746\" xlink:href=\"#md7eeaab2d2\" y=\"152.661871\"/>\n     <use style=\"fill:#0000ff;stroke:#0000ff;\" x=\"257.929223\" xlink:href=\"#md7eeaab2d2\" y=\"145.483531\"/>\n     <use style=\"fill:#0000ff;stroke:#0000ff;\" x=\"262.757317\" xlink:href=\"#md7eeaab2d2\" y=\"145.701554\"/>\n     <use style=\"fill:#0000ff;stroke:#0000ff;\" x=\"252.257704\" xlink:href=\"#md7eeaab2d2\" y=\"154.087027\"/>\n     <use style=\"fill:#0000ff;stroke:#0000ff;\" x=\"256.803907\" xlink:href=\"#md7eeaab2d2\" y=\"148.298087\"/>\n     <use style=\"fill:#0000ff;stroke:#0000ff;\" x=\"244.977549\" xlink:href=\"#md7eeaab2d2\" y=\"148.915019\"/>\n     <use style=\"fill:#0000ff;stroke:#0000ff;\" x=\"254.226871\" xlink:href=\"#md7eeaab2d2\" y=\"153.79762\"/>\n     <use style=\"fill:#0000ff;stroke:#0000ff;\" x=\"239.258465\" xlink:href=\"#md7eeaab2d2\" y=\"150.727232\"/>\n     <use style=\"fill:#0000ff;stroke:#0000ff;\" x=\"249.554387\" xlink:href=\"#md7eeaab2d2\" y=\"151.413562\"/>\n     <use style=\"fill:#0000ff;stroke:#0000ff;\" x=\"252.258515\" xlink:href=\"#md7eeaab2d2\" y=\"150.191891\"/>\n     <use style=\"fill:#0000ff;stroke:#0000ff;\" x=\"238.843797\" xlink:href=\"#md7eeaab2d2\" y=\"148.840082\"/>\n     <use style=\"fill:#0000ff;stroke:#0000ff;\" x=\"258.353855\" xlink:href=\"#md7eeaab2d2\" y=\"145.373184\"/>\n     <use style=\"fill:#0000ff;stroke:#0000ff;\" x=\"259.837507\" xlink:href=\"#md7eeaab2d2\" y=\"147.469263\"/>\n     <use style=\"fill:#0000ff;stroke:#0000ff;\" x=\"254.771643\" xlink:href=\"#md7eeaab2d2\" y=\"150.184158\"/>\n     <use style=\"fill:#0000ff;stroke:#0000ff;\" x=\"253.266035\" xlink:href=\"#md7eeaab2d2\" y=\"150.009241\"/>\n     <use style=\"fill:#0000ff;stroke:#0000ff;\" x=\"253.982425\" xlink:href=\"#md7eeaab2d2\" y=\"149.61681\"/>\n     <use style=\"fill:#0000ff;stroke:#0000ff;\" x=\"254.226871\" xlink:href=\"#md7eeaab2d2\" y=\"153.79762\"/>\n     <use style=\"fill:#0000ff;stroke:#0000ff;\" x=\"252.436208\" xlink:href=\"#md7eeaab2d2\" y=\"152.825206\"/>\n     <use style=\"fill:#0000ff;stroke:#0000ff;\" x=\"271.539855\" xlink:href=\"#md7eeaab2d2\" y=\"148.228933\"/>\n     <use style=\"fill:#0000ff;stroke:#0000ff;\" x=\"259.595961\" xlink:href=\"#md7eeaab2d2\" y=\"150.953703\"/>\n     <use style=\"fill:#0000ff;stroke:#0000ff;\" x=\"246.444754\" xlink:href=\"#md7eeaab2d2\" y=\"150.356675\"/>\n     <use style=\"fill:#0000ff;stroke:#0000ff;\" x=\"252.575817\" xlink:href=\"#md7eeaab2d2\" y=\"148.42797\"/>\n     <use style=\"fill:#0000ff;stroke:#0000ff;\" x=\"247.651878\" xlink:href=\"#md7eeaab2d2\" y=\"148.444137\"/>\n     <use style=\"fill:#0000ff;stroke:#0000ff;\" x=\"247.940627\" xlink:href=\"#md7eeaab2d2\" y=\"147.869744\"/>\n     <use style=\"fill:#0000ff;stroke:#0000ff;\" x=\"253.163706\" xlink:href=\"#md7eeaab2d2\" y=\"147.845835\"/>\n     <use style=\"fill:#0000ff;stroke:#0000ff;\" x=\"253.949734\" xlink:href=\"#md7eeaab2d2\" y=\"148.839981\"/>\n     <use style=\"fill:#0000ff;stroke:#0000ff;\" x=\"237.292882\" xlink:href=\"#md7eeaab2d2\" y=\"144.458267\"/>\n     <use style=\"fill:#0000ff;stroke:#0000ff;\" x=\"232.7995\" xlink:href=\"#md7eeaab2d2\" y=\"147.307662\"/>\n     <use style=\"fill:#0000ff;stroke:#0000ff;\" x=\"232.698743\" xlink:href=\"#md7eeaab2d2\" y=\"152.313345\"/>\n     <use style=\"fill:#0000ff;stroke:#0000ff;\" x=\"250.301035\" xlink:href=\"#md7eeaab2d2\" y=\"155.357602\"/>\n     <use style=\"fill:#0000ff;stroke:#0000ff;\" x=\"255.038775\" xlink:href=\"#md7eeaab2d2\" y=\"155.10536\"/>\n     <use style=\"fill:#0000ff;stroke:#0000ff;\" x=\"250.079366\" xlink:href=\"#md7eeaab2d2\" y=\"153.877568\"/>\n     <use style=\"fill:#0000ff;stroke:#0000ff;\" x=\"250.629218\" xlink:href=\"#md7eeaab2d2\" y=\"152.563532\"/>\n     <use style=\"fill:#0000ff;stroke:#0000ff;\" x=\"250.079366\" xlink:href=\"#md7eeaab2d2\" y=\"153.877568\"/>\n     <use style=\"fill:#0000ff;stroke:#0000ff;\" x=\"247.909912\" xlink:href=\"#md7eeaab2d2\" y=\"152.06335\"/>\n     <use style=\"fill:#0000ff;stroke:#0000ff;\" x=\"250.079366\" xlink:href=\"#md7eeaab2d2\" y=\"153.877568\"/>\n     <use style=\"fill:#0000ff;stroke:#0000ff;\" x=\"254.204574\" xlink:href=\"#md7eeaab2d2\" y=\"150.375522\"/>\n     <use style=\"fill:#0000ff;stroke:#0000ff;\" x=\"252.80081\" xlink:href=\"#md7eeaab2d2\" y=\"149.118602\"/>\n     <use style=\"fill:#0000ff;stroke:#0000ff;\" x=\"256.244788\" xlink:href=\"#md7eeaab2d2\" y=\"151.715294\"/>\n     <use style=\"fill:#0000ff;stroke:#0000ff;\" x=\"244.986761\" xlink:href=\"#md7eeaab2d2\" y=\"155.177128\"/>\n     <use style=\"fill:#0000ff;stroke:#0000ff;\" x=\"251.959799\" xlink:href=\"#md7eeaab2d2\" y=\"152.023398\"/>\n     <use style=\"fill:#0000ff;stroke:#0000ff;\" x=\"253.038325\" xlink:href=\"#md7eeaab2d2\" y=\"151.261433\"/>\n     <use style=\"fill:#0000ff;stroke:#0000ff;\" x=\"258.129513\" xlink:href=\"#md7eeaab2d2\" y=\"150.003748\"/>\n     <use style=\"fill:#0000ff;stroke:#0000ff;\" x=\"258.159895\" xlink:href=\"#md7eeaab2d2\" y=\"151.705665\"/>\n     <use style=\"fill:#0000ff;stroke:#0000ff;\" x=\"251.667234\" xlink:href=\"#md7eeaab2d2\" y=\"151.596459\"/>\n     <use style=\"fill:#0000ff;stroke:#0000ff;\" x=\"254.224083\" xlink:href=\"#md7eeaab2d2\" y=\"149.73444\"/>\n     <use style=\"fill:#0000ff;stroke:#0000ff;\" x=\"255.692264\" xlink:href=\"#md7eeaab2d2\" y=\"149.641424\"/>\n     <use style=\"fill:#0000ff;stroke:#0000ff;\" x=\"255.804957\" xlink:href=\"#md7eeaab2d2\" y=\"149.685548\"/>\n     <use style=\"fill:#0000ff;stroke:#0000ff;\" x=\"259.124565\" xlink:href=\"#md7eeaab2d2\" y=\"152.071651\"/>\n     <use style=\"fill:#0000ff;stroke:#0000ff;\" x=\"260.224636\" xlink:href=\"#md7eeaab2d2\" y=\"152.206145\"/>\n     <use style=\"fill:#0000ff;stroke:#0000ff;\" x=\"261.334824\" xlink:href=\"#md7eeaab2d2\" y=\"151.333536\"/>\n     <use style=\"fill:#0000ff;stroke:#0000ff;\" x=\"254.569498\" xlink:href=\"#md7eeaab2d2\" y=\"151.417085\"/>\n     <use style=\"fill:#0000ff;stroke:#0000ff;\" x=\"231.431493\" xlink:href=\"#md7eeaab2d2\" y=\"149.147635\"/>\n     <use style=\"fill:#0000ff;stroke:#0000ff;\" x=\"234.288762\" xlink:href=\"#md7eeaab2d2\" y=\"144.153062\"/>\n     <use style=\"fill:#0000ff;stroke:#0000ff;\" x=\"255.267105\" xlink:href=\"#md7eeaab2d2\" y=\"148.256225\"/>\n     <use style=\"fill:#0000ff;stroke:#0000ff;\" x=\"252.341265\" xlink:href=\"#md7eeaab2d2\" y=\"150.651277\"/>\n     <use style=\"fill:#0000ff;stroke:#0000ff;\" x=\"255.037941\" xlink:href=\"#md7eeaab2d2\" y=\"155.43705\"/>\n     <use style=\"fill:#0000ff;stroke:#0000ff;\" x=\"247.675498\" xlink:href=\"#md7eeaab2d2\" y=\"150.11509\"/>\n     <use style=\"fill:#0000ff;stroke:#0000ff;\" x=\"249.016615\" xlink:href=\"#md7eeaab2d2\" y=\"148.746378\"/>\n     <use style=\"fill:#0000ff;stroke:#0000ff;\" x=\"248.601214\" xlink:href=\"#md7eeaab2d2\" y=\"147.972636\"/>\n     <use style=\"fill:#0000ff;stroke:#0000ff;\" x=\"254.765744\" xlink:href=\"#md7eeaab2d2\" y=\"146.805182\"/>\n     <use style=\"fill:#0000ff;stroke:#0000ff;\" x=\"239.716649\" xlink:href=\"#md7eeaab2d2\" y=\"149.03541\"/>\n     <use style=\"fill:#0000ff;stroke:#0000ff;\" x=\"250.038337\" xlink:href=\"#md7eeaab2d2\" y=\"152.105007\"/>\n     <use style=\"fill:#0000ff;stroke:#0000ff;\" x=\"235.166773\" xlink:href=\"#md7eeaab2d2\" y=\"147.693687\"/>\n     <use style=\"fill:#0000ff;stroke:#0000ff;\" x=\"231.33811\" xlink:href=\"#md7eeaab2d2\" y=\"153.319661\"/>\n     <use style=\"fill:#0000ff;stroke:#0000ff;\" x=\"242.851657\" xlink:href=\"#md7eeaab2d2\" y=\"151.084247\"/>\n     <use style=\"fill:#0000ff;stroke:#0000ff;\" x=\"243.523252\" xlink:href=\"#md7eeaab2d2\" y=\"153.233104\"/>\n     <use style=\"fill:#0000ff;stroke:#0000ff;\" x=\"243.069878\" xlink:href=\"#md7eeaab2d2\" y=\"153.158335\"/>\n     <use style=\"fill:#0000ff;stroke:#0000ff;\" x=\"259.042964\" xlink:href=\"#md7eeaab2d2\" y=\"152.856513\"/>\n     <use style=\"fill:#0000ff;stroke:#0000ff;\" x=\"255.128454\" xlink:href=\"#md7eeaab2d2\" y=\"151.106324\"/>\n     <use style=\"fill:#0000ff;stroke:#0000ff;\" x=\"263.421438\" xlink:href=\"#md7eeaab2d2\" y=\"150.084253\"/>\n     <use style=\"fill:#0000ff;stroke:#0000ff;\" x=\"246.809058\" xlink:href=\"#md7eeaab2d2\" y=\"150.116351\"/>\n     <use style=\"fill:#0000ff;stroke:#0000ff;\" x=\"255.059273\" xlink:href=\"#md7eeaab2d2\" y=\"147.411081\"/>\n     <use style=\"fill:#0000ff;stroke:#0000ff;\" x=\"242.24227\" xlink:href=\"#md7eeaab2d2\" y=\"148.549058\"/>\n     <use style=\"fill:#0000ff;stroke:#0000ff;\" x=\"262.678046\" xlink:href=\"#md7eeaab2d2\" y=\"149.967699\"/>\n     <use style=\"fill:#0000ff;stroke:#0000ff;\" x=\"259.161441\" xlink:href=\"#md7eeaab2d2\" y=\"149.192409\"/>\n     <use style=\"fill:#0000ff;stroke:#0000ff;\" x=\"242.760718\" xlink:href=\"#md7eeaab2d2\" y=\"150.264896\"/>\n     <use style=\"fill:#0000ff;stroke:#0000ff;\" x=\"237.402444\" xlink:href=\"#md7eeaab2d2\" y=\"151.621105\"/>\n     <use style=\"fill:#0000ff;stroke:#0000ff;\" x=\"246.605099\" xlink:href=\"#md7eeaab2d2\" y=\"150.043394\"/>\n     <use style=\"fill:#0000ff;stroke:#0000ff;\" x=\"245.025665\" xlink:href=\"#md7eeaab2d2\" y=\"149.104861\"/>\n     <use style=\"fill:#0000ff;stroke:#0000ff;\" x=\"233.309805\" xlink:href=\"#md7eeaab2d2\" y=\"151.155786\"/>\n     <use style=\"fill:#0000ff;stroke:#0000ff;\" x=\"240.525197\" xlink:href=\"#md7eeaab2d2\" y=\"154.6867\"/>\n     <use style=\"fill:#0000ff;stroke:#0000ff;\" x=\"248.2363\" xlink:href=\"#md7eeaab2d2\" y=\"148.973713\"/>\n     <use style=\"fill:#0000ff;stroke:#0000ff;\" x=\"241.445354\" xlink:href=\"#md7eeaab2d2\" y=\"150.131502\"/>\n     <use style=\"fill:#0000ff;stroke:#0000ff;\" x=\"243.738062\" xlink:href=\"#md7eeaab2d2\" y=\"151.169641\"/>\n     <use style=\"fill:#0000ff;stroke:#0000ff;\" x=\"242.336602\" xlink:href=\"#md7eeaab2d2\" y=\"149.063188\"/>\n     <use style=\"fill:#0000ff;stroke:#0000ff;\" x=\"240.68297\" xlink:href=\"#md7eeaab2d2\" y=\"148.812634\"/>\n     <use style=\"fill:#0000ff;stroke:#0000ff;\" x=\"240.096359\" xlink:href=\"#md7eeaab2d2\" y=\"149.292268\"/>\n     <use style=\"fill:#0000ff;stroke:#0000ff;\" x=\"230.455395\" xlink:href=\"#md7eeaab2d2\" y=\"154.322241\"/>\n     <use style=\"fill:#0000ff;stroke:#0000ff;\" x=\"252.436102\" xlink:href=\"#md7eeaab2d2\" y=\"151.003031\"/>\n     <use style=\"fill:#0000ff;stroke:#0000ff;\" x=\"242.930304\" xlink:href=\"#md7eeaab2d2\" y=\"143.634742\"/>\n     <use style=\"fill:#0000ff;stroke:#0000ff;\" x=\"253.967354\" xlink:href=\"#md7eeaab2d2\" y=\"146.111206\"/>\n     <use style=\"fill:#0000ff;stroke:#0000ff;\" x=\"257.450592\" xlink:href=\"#md7eeaab2d2\" y=\"152.523461\"/>\n     <use style=\"fill:#0000ff;stroke:#0000ff;\" x=\"260.471226\" xlink:href=\"#md7eeaab2d2\" y=\"144.899401\"/>\n     <use style=\"fill:#0000ff;stroke:#0000ff;\" x=\"243.609404\" xlink:href=\"#md7eeaab2d2\" y=\"155.481306\"/>\n     <use style=\"fill:#0000ff;stroke:#0000ff;\" x=\"274.030218\" xlink:href=\"#md7eeaab2d2\" y=\"143.158614\"/>\n     <use style=\"fill:#0000ff;stroke:#0000ff;\" x=\"269.815394\" xlink:href=\"#md7eeaab2d2\" y=\"147.217532\"/>\n     <use style=\"fill:#0000ff;stroke:#0000ff;\" x=\"248.057302\" xlink:href=\"#md7eeaab2d2\" y=\"154.41705\"/>\n     <use style=\"fill:#0000ff;stroke:#0000ff;\" x=\"245.860779\" xlink:href=\"#md7eeaab2d2\" y=\"150.726722\"/>\n    </g>\n   </g>\n   <g id=\"matplotlib.axis_1\">\n    <g id=\"xtick_1\">\n     <g id=\"line2d_1\">\n      <defs>\n       <path d=\"M 0 0 \nL 0 3.5 \n\" id=\"ma0c7273c46\" style=\"stroke:#000000;stroke-width:0.8;\"/>\n      </defs>\n      <g>\n       <use style=\"stroke:#000000;stroke-width:0.8;\" x=\"67.742529\" xlink:href=\"#ma0c7273c46\" y=\"224.64\"/>\n      </g>\n     </g>\n     <g id=\"text_1\">\n      <!-- −0.6 -->\n      <defs>\n       <path d=\"M 10.59375 35.5 \nL 73.1875 35.5 \nL 73.1875 27.203125 \nL 10.59375 27.203125 \nz\n\" id=\"DejaVuSans-8722\"/>\n       <path d=\"M 31.78125 66.40625 \nQ 24.171875 66.40625 20.328125 58.90625 \nQ 16.5 51.421875 16.5 36.375 \nQ 16.5 21.390625 20.328125 13.890625 \nQ 24.171875 6.390625 31.78125 6.390625 \nQ 39.453125 6.390625 43.28125 13.890625 \nQ 47.125 21.390625 47.125 36.375 \nQ 47.125 51.421875 43.28125 58.90625 \nQ 39.453125 66.40625 31.78125 66.40625 \nz\nM 31.78125 74.21875 \nQ 44.046875 74.21875 50.515625 64.515625 \nQ 56.984375 54.828125 56.984375 36.375 \nQ 56.984375 17.96875 50.515625 8.265625 \nQ 44.046875 -1.421875 31.78125 -1.421875 \nQ 19.53125 -1.421875 13.0625 8.265625 \nQ 6.59375 17.96875 6.59375 36.375 \nQ 6.59375 54.828125 13.0625 64.515625 \nQ 19.53125 74.21875 31.78125 74.21875 \nz\n\" id=\"DejaVuSans-48\"/>\n       <path d=\"M 10.6875 12.40625 \nL 21 12.40625 \nL 21 0 \nL 10.6875 0 \nz\n\" id=\"DejaVuSans-46\"/>\n       <path d=\"M 33.015625 40.375 \nQ 26.375 40.375 22.484375 35.828125 \nQ 18.609375 31.296875 18.609375 23.390625 \nQ 18.609375 15.53125 22.484375 10.953125 \nQ 26.375 6.390625 33.015625 6.390625 \nQ 39.65625 6.390625 43.53125 10.953125 \nQ 47.40625 15.53125 47.40625 23.390625 \nQ 47.40625 31.296875 43.53125 35.828125 \nQ 39.65625 40.375 33.015625 40.375 \nz\nM 52.59375 71.296875 \nL 52.59375 62.3125 \nQ 48.875 64.0625 45.09375 64.984375 \nQ 41.3125 65.921875 37.59375 65.921875 \nQ 27.828125 65.921875 22.671875 59.328125 \nQ 17.53125 52.734375 16.796875 39.40625 \nQ 19.671875 43.65625 24.015625 45.921875 \nQ 28.375 48.1875 33.59375 48.1875 \nQ 44.578125 48.1875 50.953125 41.515625 \nQ 57.328125 34.859375 57.328125 23.390625 \nQ 57.328125 12.15625 50.6875 5.359375 \nQ 44.046875 -1.421875 33.015625 -1.421875 \nQ 20.359375 -1.421875 13.671875 8.265625 \nQ 6.984375 17.96875 6.984375 36.375 \nQ 6.984375 53.65625 15.1875 63.9375 \nQ 23.390625 74.21875 37.203125 74.21875 \nQ 40.921875 74.21875 44.703125 73.484375 \nQ 48.484375 72.75 52.59375 71.296875 \nz\n\" id=\"DejaVuSans-54\"/>\n      </defs>\n      <g transform=\"translate(55.601123 239.238437)scale(0.1 -0.1)\">\n       <use xlink:href=\"#DejaVuSans-8722\"/>\n       <use x=\"83.789062\" xlink:href=\"#DejaVuSans-48\"/>\n       <use x=\"147.412109\" xlink:href=\"#DejaVuSans-46\"/>\n       <use x=\"179.199219\" xlink:href=\"#DejaVuSans-54\"/>\n      </g>\n     </g>\n    </g>\n    <g id=\"xtick_2\">\n     <g id=\"line2d_2\">\n      <g>\n       <use style=\"stroke:#000000;stroke-width:0.8;\" x=\"128.684402\" xlink:href=\"#ma0c7273c46\" y=\"224.64\"/>\n      </g>\n     </g>\n     <g id=\"text_2\">\n      <!-- −0.4 -->\n      <defs>\n       <path d=\"M 37.796875 64.3125 \nL 12.890625 25.390625 \nL 37.796875 25.390625 \nz\nM 35.203125 72.90625 \nL 47.609375 72.90625 \nL 47.609375 25.390625 \nL 58.015625 25.390625 \nL 58.015625 17.1875 \nL 47.609375 17.1875 \nL 47.609375 0 \nL 37.796875 0 \nL 37.796875 17.1875 \nL 4.890625 17.1875 \nL 4.890625 26.703125 \nz\n\" id=\"DejaVuSans-52\"/>\n      </defs>\n      <g transform=\"translate(116.542996 239.238437)scale(0.1 -0.1)\">\n       <use xlink:href=\"#DejaVuSans-8722\"/>\n       <use x=\"83.789062\" xlink:href=\"#DejaVuSans-48\"/>\n       <use x=\"147.412109\" xlink:href=\"#DejaVuSans-46\"/>\n       <use x=\"179.199219\" xlink:href=\"#DejaVuSans-52\"/>\n      </g>\n     </g>\n    </g>\n    <g id=\"xtick_3\">\n     <g id=\"line2d_3\">\n      <g>\n       <use style=\"stroke:#000000;stroke-width:0.8;\" x=\"189.626275\" xlink:href=\"#ma0c7273c46\" y=\"224.64\"/>\n      </g>\n     </g>\n     <g id=\"text_3\">\n      <!-- −0.2 -->\n      <defs>\n       <path d=\"M 19.1875 8.296875 \nL 53.609375 8.296875 \nL 53.609375 0 \nL 7.328125 0 \nL 7.328125 8.296875 \nQ 12.9375 14.109375 22.625 23.890625 \nQ 32.328125 33.6875 34.8125 36.53125 \nQ 39.546875 41.84375 41.421875 45.53125 \nQ 43.3125 49.21875 43.3125 52.78125 \nQ 43.3125 58.59375 39.234375 62.25 \nQ 35.15625 65.921875 28.609375 65.921875 \nQ 23.96875 65.921875 18.8125 64.3125 \nQ 13.671875 62.703125 7.8125 59.421875 \nL 7.8125 69.390625 \nQ 13.765625 71.78125 18.9375 73 \nQ 24.125 74.21875 28.421875 74.21875 \nQ 39.75 74.21875 46.484375 68.546875 \nQ 53.21875 62.890625 53.21875 53.421875 \nQ 53.21875 48.921875 51.53125 44.890625 \nQ 49.859375 40.875 45.40625 35.40625 \nQ 44.1875 33.984375 37.640625 27.21875 \nQ 31.109375 20.453125 19.1875 8.296875 \nz\n\" id=\"DejaVuSans-50\"/>\n      </defs>\n      <g transform=\"translate(177.484868 239.238437)scale(0.1 -0.1)\">\n       <use xlink:href=\"#DejaVuSans-8722\"/>\n       <use x=\"83.789062\" xlink:href=\"#DejaVuSans-48\"/>\n       <use x=\"147.412109\" xlink:href=\"#DejaVuSans-46\"/>\n       <use x=\"179.199219\" xlink:href=\"#DejaVuSans-50\"/>\n      </g>\n     </g>\n    </g>\n    <g id=\"xtick_4\">\n     <g id=\"line2d_4\">\n      <g>\n       <use style=\"stroke:#000000;stroke-width:0.8;\" x=\"250.568147\" xlink:href=\"#ma0c7273c46\" y=\"224.64\"/>\n      </g>\n     </g>\n     <g id=\"text_4\">\n      <!-- 0.0 -->\n      <g transform=\"translate(242.616585 239.238437)scale(0.1 -0.1)\">\n       <use xlink:href=\"#DejaVuSans-48\"/>\n       <use x=\"63.623047\" xlink:href=\"#DejaVuSans-46\"/>\n       <use x=\"95.410156\" xlink:href=\"#DejaVuSans-48\"/>\n      </g>\n     </g>\n    </g>\n    <g id=\"xtick_5\">\n     <g id=\"line2d_5\">\n      <g>\n       <use style=\"stroke:#000000;stroke-width:0.8;\" x=\"311.51002\" xlink:href=\"#ma0c7273c46\" y=\"224.64\"/>\n      </g>\n     </g>\n     <g id=\"text_5\">\n      <!-- 0.2 -->\n      <g transform=\"translate(303.558457 239.238437)scale(0.1 -0.1)\">\n       <use xlink:href=\"#DejaVuSans-48\"/>\n       <use x=\"63.623047\" xlink:href=\"#DejaVuSans-46\"/>\n       <use x=\"95.410156\" xlink:href=\"#DejaVuSans-50\"/>\n      </g>\n     </g>\n    </g>\n    <g id=\"xtick_6\">\n     <g id=\"line2d_6\">\n      <g>\n       <use style=\"stroke:#000000;stroke-width:0.8;\" x=\"372.451893\" xlink:href=\"#ma0c7273c46\" y=\"224.64\"/>\n      </g>\n     </g>\n     <g id=\"text_6\">\n      <!-- 0.4 -->\n      <g transform=\"translate(364.50033 239.238437)scale(0.1 -0.1)\">\n       <use xlink:href=\"#DejaVuSans-48\"/>\n       <use x=\"63.623047\" xlink:href=\"#DejaVuSans-46\"/>\n       <use x=\"95.410156\" xlink:href=\"#DejaVuSans-52\"/>\n      </g>\n     </g>\n    </g>\n   </g>\n   <g id=\"matplotlib.axis_2\">\n    <g id=\"ytick_1\">\n     <g id=\"line2d_7\">\n      <defs>\n       <path d=\"M 0 0 \nL -3.5 0 \n\" id=\"m80149a4cc3\" style=\"stroke:#000000;stroke-width:0.8;\"/>\n      </defs>\n      <g>\n       <use style=\"stroke:#000000;stroke-width:0.8;\" x=\"44.845313\" xlink:href=\"#m80149a4cc3\" y=\"199.70432\"/>\n      </g>\n     </g>\n     <g id=\"text_7\">\n      <!-- −0.50 -->\n      <defs>\n       <path d=\"M 10.796875 72.90625 \nL 49.515625 72.90625 \nL 49.515625 64.59375 \nL 19.828125 64.59375 \nL 19.828125 46.734375 \nQ 21.96875 47.46875 24.109375 47.828125 \nQ 26.265625 48.1875 28.421875 48.1875 \nQ 40.625 48.1875 47.75 41.5 \nQ 54.890625 34.8125 54.890625 23.390625 \nQ 54.890625 11.625 47.5625 5.09375 \nQ 40.234375 -1.421875 26.90625 -1.421875 \nQ 22.3125 -1.421875 17.546875 -0.640625 \nQ 12.796875 0.140625 7.71875 1.703125 \nL 7.71875 11.625 \nQ 12.109375 9.234375 16.796875 8.0625 \nQ 21.484375 6.890625 26.703125 6.890625 \nQ 35.15625 6.890625 40.078125 11.328125 \nQ 45.015625 15.765625 45.015625 23.390625 \nQ 45.015625 31 40.078125 35.4375 \nQ 35.15625 39.890625 26.703125 39.890625 \nQ 22.75 39.890625 18.8125 39.015625 \nQ 14.890625 38.140625 10.796875 36.28125 \nz\n\" id=\"DejaVuSans-53\"/>\n      </defs>\n      <g transform=\"translate(7.2 203.503538)scale(0.1 -0.1)\">\n       <use xlink:href=\"#DejaVuSans-8722\"/>\n       <use x=\"83.789062\" xlink:href=\"#DejaVuSans-48\"/>\n       <use x=\"147.412109\" xlink:href=\"#DejaVuSans-46\"/>\n       <use x=\"179.199219\" xlink:href=\"#DejaVuSans-53\"/>\n       <use x=\"242.822266\" xlink:href=\"#DejaVuSans-48\"/>\n      </g>\n     </g>\n    </g>\n    <g id=\"ytick_2\">\n     <g id=\"line2d_8\">\n      <g>\n       <use style=\"stroke:#000000;stroke-width:0.8;\" x=\"44.845313\" xlink:href=\"#m80149a4cc3\" y=\"173.172805\"/>\n      </g>\n     </g>\n     <g id=\"text_8\">\n      <!-- −0.25 -->\n      <g transform=\"translate(7.2 176.972024)scale(0.1 -0.1)\">\n       <use xlink:href=\"#DejaVuSans-8722\"/>\n       <use x=\"83.789062\" xlink:href=\"#DejaVuSans-48\"/>\n       <use x=\"147.412109\" xlink:href=\"#DejaVuSans-46\"/>\n       <use x=\"179.199219\" xlink:href=\"#DejaVuSans-50\"/>\n       <use x=\"242.822266\" xlink:href=\"#DejaVuSans-53\"/>\n      </g>\n     </g>\n    </g>\n    <g id=\"ytick_3\">\n     <g id=\"line2d_9\">\n      <g>\n       <use style=\"stroke:#000000;stroke-width:0.8;\" x=\"44.845313\" xlink:href=\"#m80149a4cc3\" y=\"146.64129\"/>\n      </g>\n     </g>\n     <g id=\"text_9\">\n      <!-- 0.00 -->\n      <g transform=\"translate(15.579688 150.440509)scale(0.1 -0.1)\">\n       <use xlink:href=\"#DejaVuSans-48\"/>\n       <use x=\"63.623047\" xlink:href=\"#DejaVuSans-46\"/>\n       <use x=\"95.410156\" xlink:href=\"#DejaVuSans-48\"/>\n       <use x=\"159.033203\" xlink:href=\"#DejaVuSans-48\"/>\n      </g>\n     </g>\n    </g>\n    <g id=\"ytick_4\">\n     <g id=\"line2d_10\">\n      <g>\n       <use style=\"stroke:#000000;stroke-width:0.8;\" x=\"44.845313\" xlink:href=\"#m80149a4cc3\" y=\"120.109775\"/>\n      </g>\n     </g>\n     <g id=\"text_10\">\n      <!-- 0.25 -->\n      <g transform=\"translate(15.579688 123.908994)scale(0.1 -0.1)\">\n       <use xlink:href=\"#DejaVuSans-48\"/>\n       <use x=\"63.623047\" xlink:href=\"#DejaVuSans-46\"/>\n       <use x=\"95.410156\" xlink:href=\"#DejaVuSans-50\"/>\n       <use x=\"159.033203\" xlink:href=\"#DejaVuSans-53\"/>\n      </g>\n     </g>\n    </g>\n    <g id=\"ytick_5\">\n     <g id=\"line2d_11\">\n      <g>\n       <use style=\"stroke:#000000;stroke-width:0.8;\" x=\"44.845313\" xlink:href=\"#m80149a4cc3\" y=\"93.57826\"/>\n      </g>\n     </g>\n     <g id=\"text_11\">\n      <!-- 0.50 -->\n      <g transform=\"translate(15.579688 97.377479)scale(0.1 -0.1)\">\n       <use xlink:href=\"#DejaVuSans-48\"/>\n       <use x=\"63.623047\" xlink:href=\"#DejaVuSans-46\"/>\n       <use x=\"95.410156\" xlink:href=\"#DejaVuSans-53\"/>\n       <use x=\"159.033203\" xlink:href=\"#DejaVuSans-48\"/>\n      </g>\n     </g>\n    </g>\n    <g id=\"ytick_6\">\n     <g id=\"line2d_12\">\n      <g>\n       <use style=\"stroke:#000000;stroke-width:0.8;\" x=\"44.845313\" xlink:href=\"#m80149a4cc3\" y=\"67.046745\"/>\n      </g>\n     </g>\n     <g id=\"text_12\">\n      <!-- 0.75 -->\n      <defs>\n       <path d=\"M 8.203125 72.90625 \nL 55.078125 72.90625 \nL 55.078125 68.703125 \nL 28.609375 0 \nL 18.3125 0 \nL 43.21875 64.59375 \nL 8.203125 64.59375 \nz\n\" id=\"DejaVuSans-55\"/>\n      </defs>\n      <g transform=\"translate(15.579688 70.845964)scale(0.1 -0.1)\">\n       <use xlink:href=\"#DejaVuSans-48\"/>\n       <use x=\"63.623047\" xlink:href=\"#DejaVuSans-46\"/>\n       <use x=\"95.410156\" xlink:href=\"#DejaVuSans-55\"/>\n       <use x=\"159.033203\" xlink:href=\"#DejaVuSans-53\"/>\n      </g>\n     </g>\n    </g>\n    <g id=\"ytick_7\">\n     <g id=\"line2d_13\">\n      <g>\n       <use style=\"stroke:#000000;stroke-width:0.8;\" x=\"44.845313\" xlink:href=\"#m80149a4cc3\" y=\"40.515231\"/>\n      </g>\n     </g>\n     <g id=\"text_13\">\n      <!-- 1.00 -->\n      <defs>\n       <path d=\"M 12.40625 8.296875 \nL 28.515625 8.296875 \nL 28.515625 63.921875 \nL 10.984375 60.40625 \nL 10.984375 69.390625 \nL 28.421875 72.90625 \nL 38.28125 72.90625 \nL 38.28125 8.296875 \nL 54.390625 8.296875 \nL 54.390625 0 \nL 12.40625 0 \nz\n\" id=\"DejaVuSans-49\"/>\n      </defs>\n      <g transform=\"translate(15.579688 44.314449)scale(0.1 -0.1)\">\n       <use xlink:href=\"#DejaVuSans-49\"/>\n       <use x=\"63.623047\" xlink:href=\"#DejaVuSans-46\"/>\n       <use x=\"95.410156\" xlink:href=\"#DejaVuSans-48\"/>\n       <use x=\"159.033203\" xlink:href=\"#DejaVuSans-48\"/>\n      </g>\n     </g>\n    </g>\n    <g id=\"ytick_8\">\n     <g id=\"line2d_14\">\n      <g>\n       <use style=\"stroke:#000000;stroke-width:0.8;\" x=\"44.845313\" xlink:href=\"#m80149a4cc3\" y=\"13.983716\"/>\n      </g>\n     </g>\n     <g id=\"text_14\">\n      <!-- 1.25 -->\n      <g transform=\"translate(15.579688 17.782935)scale(0.1 -0.1)\">\n       <use xlink:href=\"#DejaVuSans-49\"/>\n       <use x=\"63.623047\" xlink:href=\"#DejaVuSans-46\"/>\n       <use x=\"95.410156\" xlink:href=\"#DejaVuSans-50\"/>\n       <use x=\"159.033203\" xlink:href=\"#DejaVuSans-53\"/>\n      </g>\n     </g>\n    </g>\n   </g>\n   <g id=\"patch_3\">\n    <path d=\"M 44.845313 224.64 \nL 44.845313 7.2 \n\" style=\"fill:none;stroke:#000000;stroke-linecap:square;stroke-linejoin:miter;stroke-width:0.8;\"/>\n   </g>\n   <g id=\"patch_4\">\n    <path d=\"M 379.645313 224.64 \nL 379.645313 7.2 \n\" style=\"fill:none;stroke:#000000;stroke-linecap:square;stroke-linejoin:miter;stroke-width:0.8;\"/>\n   </g>\n   <g id=\"patch_5\">\n    <path d=\"M 44.845312 224.64 \nL 379.645313 224.64 \n\" style=\"fill:none;stroke:#000000;stroke-linecap:square;stroke-linejoin:miter;stroke-width:0.8;\"/>\n   </g>\n   <g id=\"patch_6\">\n    <path d=\"M 44.845312 7.2 \nL 379.645313 7.2 \n\" style=\"fill:none;stroke:#000000;stroke-linecap:square;stroke-linejoin:miter;stroke-width:0.8;\"/>\n   </g>\n   <g id=\"legend_1\">\n    <g id=\"patch_7\">\n     <path d=\"M 51.845313 44.55625 \nL 90.207813 44.55625 \nQ 92.207813 44.55625 92.207813 42.55625 \nL 92.207813 14.2 \nQ 92.207813 12.2 90.207813 12.2 \nL 51.845313 12.2 \nQ 49.845313 12.2 49.845313 14.2 \nL 49.845313 42.55625 \nQ 49.845313 44.55625 51.845313 44.55625 \nz\n\" style=\"fill:#ffffff;opacity:0.8;stroke:#cccccc;stroke-linejoin:miter;\"/>\n    </g>\n    <g id=\"PathCollection_3\">\n     <g>\n      <use style=\"fill:#ff0000;stroke:#ff0000;\" x=\"63.845313\" xlink:href=\"#mfb7a8fda70\" y=\"21.173437\"/>\n     </g>\n    </g>\n    <g id=\"text_15\">\n     <!-- 0 -->\n     <g transform=\"translate(81.845313 23.798437)scale(0.1 -0.1)\">\n      <use xlink:href=\"#DejaVuSans-48\"/>\n     </g>\n    </g>\n    <g id=\"PathCollection_4\">\n     <g>\n      <use style=\"fill:#0000ff;stroke:#0000ff;\" x=\"63.845313\" xlink:href=\"#md7eeaab2d2\" y=\"35.851562\"/>\n     </g>\n    </g>\n    <g id=\"text_16\">\n     <!-- 1 -->\n     <g transform=\"translate(81.845313 38.476562)scale(0.1 -0.1)\">\n      <use xlink:href=\"#DejaVuSans-49\"/>\n     </g>\n    </g>\n   </g>\n  </g>\n </g>\n <defs>\n  <clipPath id=\"p9ffdf45dae\">\n   <rect height=\"217.44\" width=\"334.8\" x=\"44.845313\" y=\"7.2\"/>\n  </clipPath>\n </defs>\n</svg>\n"
          },
          "metadata": {
            "needs_background": "light"
          }
        }
      ]
    },
    {
      "cell_type": "markdown",
      "source": [
        "# IMPLEMENTACIÓN DE MODELO DE CLASIFICACIÓN DE PROTEÍNAS A PARTIR DE EMBEDINGS PRE ENTRENADOS"
      ],
      "metadata": {
        "id": "smUY0BHZmgkb"
      },
      "id": "smUY0BHZmgkb"
    },
    {
      "cell_type": "code",
      "source": [
        "import tensorflow as tf\n",
        "from tensorflow.keras.layers import Dense, LSTM\n",
        "from tensorflow.keras.models import Model\n",
        "from tensorflow.keras.models import Sequential\n",
        "import numpy as np\n",
        "import pandas as pd\n",
        "\n",
        "import tensorflow_hub as hub\n",
        "import numpy as np"
      ],
      "metadata": {
        "id": "-0lmww70z2DA"
      },
      "id": "-0lmww70z2DA",
      "execution_count": 1,
      "outputs": []
    },
    {
      "cell_type": "code",
      "source": [
        "embed = hub.load(\"https://tfhub.dev/google/Wiki-words-250/2\")"
      ],
      "metadata": {
        "id": "Pslqrejqz2GX"
      },
      "id": "Pslqrejqz2GX",
      "execution_count": 145,
      "outputs": []
    },
    {
      "cell_type": "code",
      "source": [
        "embed(['hola','adios','hasta'])"
      ],
      "metadata": {
        "colab": {
          "base_uri": "https://localhost:8080/"
        },
        "id": "GhGGSB5ZPXpd",
        "outputId": "bed3d5fa-7ca7-4c4d-f0f3-b70353d583b5"
      },
      "id": "GhGGSB5ZPXpd",
      "execution_count": 147,
      "outputs": [
        {
          "output_type": "execute_result",
          "data": {
            "text/plain": [
              "<tf.Tensor: shape=(3, 250), dtype=float32, numpy=\n",
              "array([[-2.73333900e-02, -1.54957818e-02, -9.24940929e-02,\n",
              "         4.43051308e-02,  4.75522242e-02,  1.24300137e-01,\n",
              "         2.68439343e-03, -9.80850458e-02,  3.06426617e-03,\n",
              "         8.82446542e-02, -1.92723274e-02,  1.70212556e-02,\n",
              "        -1.11383200e-02,  1.70805492e-02,  5.88092171e-02,\n",
              "        -2.07868554e-02,  7.43056685e-02,  5.04972152e-02,\n",
              "        -3.43043059e-02, -4.97969985e-03,  1.15483686e-01,\n",
              "        -1.03998348e-01, -2.31708284e-03, -3.60034369e-02,\n",
              "        -6.51984438e-02,  4.59700115e-02,  7.99144804e-02,\n",
              "        -5.17302565e-03, -1.55900815e-03, -4.86366414e-02,\n",
              "        -9.84415598e-03,  4.25363816e-02, -7.56190484e-03,\n",
              "         5.67166507e-02,  1.13969602e-01,  1.83759347e-01,\n",
              "        -9.92460735e-03,  4.03639860e-03,  4.16251794e-02,\n",
              "         8.27532262e-02,  3.78634296e-02, -1.20819338e-01,\n",
              "         3.65787335e-02,  3.64213213e-02, -7.50078410e-02,\n",
              "        -9.74228326e-03,  4.27797027e-02,  4.81312163e-02,\n",
              "         1.78175364e-02, -6.05955441e-03, -3.60150337e-02,\n",
              "        -1.09572470e-01, -4.26707976e-03,  2.40679216e-02,\n",
              "         6.35975078e-02, -1.03896577e-02,  2.54190806e-02,\n",
              "         9.29431152e-03, -1.04617096e-01, -5.00289127e-02,\n",
              "        -1.71786901e-02, -2.56684255e-02, -1.63238216e-02,\n",
              "         9.81178414e-03,  1.55295832e-02,  1.02140687e-01,\n",
              "         7.48535991e-02,  1.85515340e-02,  2.06632074e-02,\n",
              "        -1.69714615e-02,  4.19480912e-02,  2.29647309e-02,\n",
              "        -2.39104056e-03,  3.80665176e-02, -4.71818214e-03,\n",
              "        -3.29516940e-02,  7.51041099e-02,  3.26775643e-03,\n",
              "        -1.11175671e-01,  1.22325895e-02,  1.21365031e-02,\n",
              "         5.12023605e-02,  8.38120934e-04,  4.18842072e-03,\n",
              "        -7.25851133e-02,  2.18219589e-02, -1.06716633e-01,\n",
              "        -3.20875905e-02,  7.40424395e-02, -1.78007446e-02,\n",
              "         2.74197459e-02, -6.00294955e-02, -7.20794797e-02,\n",
              "         6.18661530e-02,  9.57125127e-02, -1.14829168e-01,\n",
              "        -1.34100407e-01,  9.91735682e-02, -6.15889020e-02,\n",
              "        -2.22061966e-02, -2.64762640e-02,  2.32248362e-02,\n",
              "        -3.70945856e-02,  4.23594527e-02,  1.15277953e-01,\n",
              "        -1.19095400e-01, -5.34839891e-02,  7.03064427e-02,\n",
              "        -6.65129498e-02, -3.68887968e-02, -2.41723675e-02,\n",
              "         6.92632273e-02,  9.57766697e-02, -2.56328355e-03,\n",
              "         9.42108706e-02,  5.98323308e-02,  3.03031337e-02,\n",
              "         7.37966746e-02,  1.66794043e-02,  6.35032952e-02,\n",
              "         1.26064718e-02, -2.18073595e-02, -2.16280017e-02,\n",
              "         5.27339950e-02, -4.86200564e-02, -8.15788135e-02,\n",
              "         1.76281333e-02, -2.86393482e-02,  5.82366101e-02,\n",
              "         1.28961995e-01, -1.37046844e-01, -6.71542361e-02,\n",
              "         2.13318989e-02, -1.53117953e-03, -5.19771501e-02,\n",
              "         3.83852646e-02,  1.03639020e-02, -7.85285905e-02,\n",
              "         3.21920104e-02,  1.04890130e-01, -4.83574122e-02,\n",
              "        -1.31087760e-02,  3.68560329e-02,  1.35057673e-01,\n",
              "        -5.82144223e-02, -7.88052529e-02, -8.33472144e-03,\n",
              "        -2.03511901e-02, -1.47238761e-01, -4.17261198e-02,\n",
              "         4.14032862e-03, -6.29396811e-02, -3.81822065e-02,\n",
              "        -4.29743752e-02,  6.95331097e-02,  6.49942160e-02,\n",
              "         9.30989534e-02,  9.89389718e-02, -2.71154456e-02,\n",
              "        -9.54235271e-02,  7.85036683e-02,  3.14318342e-03,\n",
              "         2.70842086e-03,  8.86534899e-02,  3.49377729e-02,\n",
              "         9.40179359e-03, -6.18857332e-02,  5.99074140e-02,\n",
              "         9.14968550e-02, -3.25507969e-02, -4.85575758e-02,\n",
              "         2.36944836e-02, -5.30042537e-02, -6.02647476e-02,\n",
              "        -3.75810340e-02, -8.22713077e-02, -3.71671803e-02,\n",
              "        -1.76477879e-02, -9.45601910e-02, -4.30380553e-02,\n",
              "         5.34074195e-03, -1.50202021e-01, -2.61316001e-02,\n",
              "         3.30433846e-02,  5.05659170e-02, -3.53701599e-02,\n",
              "         7.07449242e-02,  7.05122994e-03, -2.36190553e-03,\n",
              "        -3.43492515e-02, -4.28920873e-02, -1.14544928e-01,\n",
              "         5.95228039e-02, -5.81523068e-02,  1.02271393e-01,\n",
              "         2.73990221e-02, -1.49288073e-01, -2.26011425e-02,\n",
              "         2.70902533e-02, -2.92803813e-02, -5.71636967e-02,\n",
              "        -5.88308610e-02, -3.01882699e-02, -4.60478216e-02,\n",
              "        -8.38816240e-02,  4.18226346e-02,  7.15292618e-02,\n",
              "         6.79993853e-02, -1.37856379e-01,  1.31591290e-01,\n",
              "         3.14771421e-02,  1.23048816e-02,  9.64814052e-02,\n",
              "        -8.76064971e-02,  1.01091741e-02,  3.89057174e-02,\n",
              "        -8.01075846e-02, -5.39085865e-02, -8.30037370e-02,\n",
              "         3.36757017e-04, -6.95291981e-02, -9.85780135e-02,\n",
              "        -3.75076346e-02,  3.98358330e-02,  3.07361409e-02,\n",
              "        -6.89453483e-02,  7.27063492e-02,  1.35804459e-01,\n",
              "         6.93674907e-02,  8.55205674e-03, -3.40694971e-02,\n",
              "        -5.83645850e-02, -2.89447475e-02, -7.94300884e-02,\n",
              "        -1.34020105e-01, -6.99922442e-02, -7.32565373e-02,\n",
              "         1.16446503e-02,  3.33179161e-02, -7.07193092e-02,\n",
              "         3.76230404e-02, -2.54509710e-02, -9.09379944e-02,\n",
              "         1.88723523e-02,  5.91844134e-02, -3.96578424e-02,\n",
              "        -6.17269762e-02,  3.30563597e-02,  7.58472225e-03,\n",
              "        -5.77124022e-02],\n",
              "       [-1.29550219e-01,  6.54603243e-02, -1.88779030e-02,\n",
              "         4.53580171e-02,  5.57820201e-02,  1.19454995e-01,\n",
              "         7.15294853e-02, -7.05549866e-02,  1.36354864e-02,\n",
              "        -3.54236998e-02,  1.65958162e-02,  2.71363351e-02,\n",
              "         1.03794008e-01, -1.53223425e-02,  1.87491011e-02,\n",
              "        -2.10369751e-02,  2.91909315e-02, -7.71170780e-02,\n",
              "        -3.57065909e-02, -6.61947876e-02,  1.80287622e-02,\n",
              "         2.56071351e-02,  5.66441119e-02, -8.08615685e-02,\n",
              "        -1.57893047e-01,  4.18630056e-02, -2.67914720e-02,\n",
              "        -1.90135147e-02, -1.68241339e-03,  5.45126237e-02,\n",
              "         4.73030768e-02,  6.59752637e-03, -1.00463405e-01,\n",
              "         2.15458944e-02, -1.19519480e-01, -1.17053399e-02,\n",
              "        -8.71959999e-02, -3.99588421e-02,  6.64169416e-02,\n",
              "         1.28286770e-02,  1.11911945e-01, -2.77114362e-02,\n",
              "         2.50494108e-03, -1.64804626e-02, -8.99614207e-03,\n",
              "        -4.70131896e-02, -1.26778170e-01,  1.11816339e-01,\n",
              "         7.40739927e-02, -5.49617410e-02, -1.25140809e-02,\n",
              "         6.39733300e-02, -1.98044982e-02,  3.39929014e-02,\n",
              "        -6.69857562e-02,  2.87378021e-03, -1.82189364e-02,\n",
              "        -1.42067280e-02,  6.21616505e-02, -1.82207972e-02,\n",
              "        -1.03429012e-01,  2.58933171e-03,  4.40484239e-03,\n",
              "         1.09146520e-01,  2.00865492e-02, -1.01009570e-03,\n",
              "        -2.83777807e-03, -2.55651250e-02,  2.11690385e-02,\n",
              "         1.38613507e-01,  4.25428189e-02,  1.72249433e-02,\n",
              "         8.59456062e-02, -5.25234900e-02, -3.40580264e-05,\n",
              "         8.43313057e-03, -5.55955432e-02,  1.08764507e-01,\n",
              "         6.55796379e-02,  3.96523066e-02, -1.36128813e-03,\n",
              "        -3.06809749e-02, -1.12729380e-02,  4.46556555e-03,\n",
              "        -1.70145114e-03,  1.15800500e-02, -1.35079190e-01,\n",
              "        -8.29404071e-02,  1.53910192e-02, -2.63658422e-03,\n",
              "         2.65601706e-02,  5.64087369e-02, -1.30135357e-01,\n",
              "         4.56750905e-03,  2.00328883e-02, -3.00847981e-02,\n",
              "        -7.91699365e-02,  8.85519385e-02, -1.87322032e-02,\n",
              "        -6.39011636e-02,  2.11109687e-02,  9.03495252e-02,\n",
              "         6.37864834e-03, -8.19328502e-02,  9.26792249e-02,\n",
              "        -1.01647370e-01, -1.46059498e-01,  4.93895859e-02,\n",
              "         9.07627940e-02, -6.31885454e-02, -1.35161221e-01,\n",
              "         3.34564373e-02,  6.21063774e-03, -1.12186134e-01,\n",
              "        -2.95241699e-02,  1.26665616e-02, -6.51517212e-02,\n",
              "        -3.66352014e-02,  2.78690290e-02,  3.49659808e-02,\n",
              "         2.57746708e-02, -8.55691507e-02, -7.23288506e-02,\n",
              "        -8.70038494e-02,  4.54456024e-02, -1.99723989e-02,\n",
              "        -4.61434126e-02,  3.10552530e-02, -1.19040243e-01,\n",
              "         3.00124548e-02, -7.05961883e-02,  2.82363687e-02,\n",
              "         3.54178227e-03, -1.46889523e-01, -3.31405401e-02,\n",
              "         5.67194633e-02, -9.56715345e-02,  4.33541201e-02,\n",
              "        -2.52315886e-02,  4.29530069e-03,  1.35575667e-01,\n",
              "        -6.84116185e-02, -2.04808339e-02, -6.97789490e-02,\n",
              "        -9.57943872e-03, -3.43032442e-02, -1.28084913e-01,\n",
              "        -3.38006066e-03, -1.45973777e-02, -4.86288816e-02,\n",
              "         7.69977923e-03, -6.41347468e-02, -1.27481651e-02,\n",
              "        -9.39538404e-02, -4.53378595e-02,  2.31145858e-03,\n",
              "        -1.51019907e-02,  1.52527541e-02,  1.59094073e-02,\n",
              "        -4.91316393e-02, -2.00231094e-02,  2.07988247e-02,\n",
              "        -1.47813680e-02, -7.28426129e-03,  6.72506541e-02,\n",
              "         2.30280552e-02,  3.44767347e-02, -8.57089646e-03,\n",
              "        -6.08696230e-02, -1.05330266e-01, -4.53464203e-02,\n",
              "        -6.71033412e-02, -3.17398533e-02, -4.83627282e-02,\n",
              "         9.33659524e-02, -6.95378184e-02,  6.68088719e-02,\n",
              "         1.21482927e-02,  3.56880501e-02,  1.02323838e-01,\n",
              "         9.60479826e-02, -6.38383776e-02,  1.08612649e-01,\n",
              "         8.99027959e-02, -9.99671593e-03,  8.20703153e-03,\n",
              "         1.81329378e-03, -1.79906131e-03, -9.70159322e-02,\n",
              "         6.25952706e-02,  8.53567943e-02,  4.34534578e-03,\n",
              "         6.75443262e-02, -1.24527529e-01,  2.55365409e-02,\n",
              "        -4.87905517e-02, -8.73672962e-02,  9.22418665e-03,\n",
              "         2.63058138e-03, -6.18112311e-02, -8.87024179e-02,\n",
              "        -7.12234229e-02,  9.78596695e-03,  3.22756581e-02,\n",
              "        -8.71794745e-02, -3.62875164e-02,  2.04977375e-02,\n",
              "        -9.29905325e-02,  4.12560627e-02,  1.94481537e-02,\n",
              "        -3.60631198e-02,  2.97631714e-02,  1.29965404e-02,\n",
              "        -2.14381190e-03,  9.29496214e-02,  8.42355844e-03,\n",
              "        -2.06487887e-02,  1.74082089e-02, -4.15263623e-02,\n",
              "         2.74119657e-02, -1.10358885e-02, -3.88973914e-02,\n",
              "        -3.04742977e-02,  9.05365050e-02,  1.02799505e-01,\n",
              "        -6.08409382e-02,  5.40042520e-02, -3.37639377e-02,\n",
              "        -7.97916055e-02, -3.82252224e-02,  7.86394104e-02,\n",
              "        -7.19434395e-02,  5.29393256e-02, -1.00165188e-01,\n",
              "        -4.37322967e-02, -4.80476394e-02,  1.18684351e-01,\n",
              "        -9.67149623e-03,  1.33555353e-01,  3.07273697e-02,\n",
              "        -9.74252746e-02, -1.22668184e-01, -5.96976280e-02,\n",
              "         1.15380570e-01,  6.79289130e-03,  1.35436133e-02,\n",
              "        -7.22860470e-02, -2.65076067e-02, -1.43046916e-01,\n",
              "         2.65951268e-03],\n",
              "       [ 5.58179580e-02, -9.01223645e-02, -5.57422033e-03,\n",
              "         3.28755379e-03,  1.24009065e-01,  8.32567662e-02,\n",
              "         5.28940279e-03, -6.77761286e-02, -2.85735074e-02,\n",
              "        -3.83898243e-02,  3.03706136e-02,  9.66574028e-02,\n",
              "         4.65963520e-02,  1.32336617e-02, -2.32849289e-02,\n",
              "        -3.28308530e-02, -6.16093911e-02, -1.07787056e-02,\n",
              "        -1.69141162e-02, -7.99089968e-02,  1.59072608e-01,\n",
              "         1.19587476e-03, -9.98912826e-02, -9.11385491e-02,\n",
              "        -8.74458775e-02,  2.82774083e-02,  4.14692648e-02,\n",
              "         4.08246331e-02, -1.37614816e-01,  5.19854315e-02,\n",
              "         3.57091427e-02, -5.69976047e-02, -1.16136717e-03,\n",
              "        -3.86146121e-02,  1.50011517e-02,  6.04976378e-02,\n",
              "        -1.37508363e-01, -1.48175150e-01,  2.27943412e-03,\n",
              "         2.45467853e-02,  6.41785413e-02,  5.39200567e-02,\n",
              "        -2.94446126e-02,  4.99117598e-02, -1.10935569e-01,\n",
              "        -2.36744564e-02, -8.38478133e-02,  5.97788654e-02,\n",
              "        -9.97439995e-02,  3.93780507e-02, -5.52140623e-02,\n",
              "         7.96137657e-03, -1.20559886e-01,  1.24617117e-02,\n",
              "         5.49727259e-03,  4.57083900e-03,  4.65946048e-02,\n",
              "        -5.25756702e-02, -1.71845441e-03, -1.27241099e-02,\n",
              "         1.41607141e-02,  4.21824530e-02, -1.24455327e-02,\n",
              "         4.07416523e-02, -1.60427857e-02,  4.65557128e-02,\n",
              "         1.93348676e-02, -3.96932848e-02, -5.39267622e-02,\n",
              "         3.57402638e-02, -2.89079323e-02, -6.11334713e-03,\n",
              "         7.53856599e-02,  9.97353643e-02, -6.25010505e-02,\n",
              "         1.84463300e-02,  9.28261727e-02, -6.64985552e-02,\n",
              "        -1.73103792e-04,  1.07728630e-01, -6.91323495e-03,\n",
              "         1.19364403e-01,  2.26376113e-02, -7.63916364e-03,\n",
              "         7.29721487e-02,  6.20751344e-02, -1.10161416e-01,\n",
              "         5.11520833e-04,  1.57889366e-01, -2.85256207e-02,\n",
              "        -2.09773928e-02, -2.87380628e-02, -6.37211129e-02,\n",
              "         4.35588881e-02,  1.20716117e-01, -1.35179967e-01,\n",
              "        -1.36999056e-01, -3.48157482e-03, -8.61911550e-02,\n",
              "         2.17742985e-04,  1.94811146e-03,  6.65119588e-02,\n",
              "        -1.25934303e-01,  1.15425298e-02, -4.88343695e-03,\n",
              "         1.62314117e-01, -2.70914175e-02,  1.19053517e-02,\n",
              "        -3.55114549e-04, -5.59575446e-02, -6.71612239e-03,\n",
              "        -2.25671101e-02, -2.69887913e-02, -5.93280569e-02,\n",
              "         7.16082156e-02, -7.47236842e-03, -5.45606688e-02,\n",
              "        -1.16056250e-02, -2.11354475e-02,  1.03497550e-01,\n",
              "         7.11720511e-02, -9.76582244e-02,  3.04073282e-03,\n",
              "         1.79397408e-02,  1.47766545e-02,  2.36806571e-02,\n",
              "        -1.56886220e-01,  3.05523407e-02, -2.00448260e-02,\n",
              "        -2.12678611e-02,  4.40532751e-02, -4.23851646e-02,\n",
              "         1.68423690e-02, -7.48224407e-02, -4.03493680e-02,\n",
              "         4.76110280e-02, -8.49275514e-02,  2.22383579e-03,\n",
              "         8.15424994e-02,  4.08281274e-02,  4.65998799e-02,\n",
              "        -7.35085607e-02,  4.44168337e-02, -5.59236528e-03,\n",
              "         1.17260288e-03, -6.58993348e-02, -4.51402105e-02,\n",
              "        -6.98967278e-02, -9.91535280e-03,  3.56205516e-02,\n",
              "         5.06658815e-02, -8.09107721e-03,  4.10350002e-02,\n",
              "        -5.79870194e-02, -7.79156981e-04,  5.89230359e-02,\n",
              "        -1.45274466e-02,  1.06534421e-01,  1.01244543e-02,\n",
              "         2.97832899e-02,  1.42703820e-02, -5.34481443e-02,\n",
              "        -3.72979268e-02,  1.74912028e-02,  4.25915197e-02,\n",
              "         5.13626728e-03, -5.88393211e-02, -8.91248416e-03,\n",
              "         2.10837070e-02, -2.05217302e-02, -6.31895438e-02,\n",
              "        -3.08924932e-02, -6.01164624e-02,  2.13424172e-02,\n",
              "        -3.99173424e-02, -4.98002134e-02, -2.14066226e-02,\n",
              "         2.42579710e-02,  6.86903447e-02, -2.14544274e-02,\n",
              "         1.06899880e-01, -4.70384285e-02, -6.10226505e-02,\n",
              "         1.23110861e-01, -3.07720099e-02,  9.48216999e-04,\n",
              "         3.56632471e-02, -3.38861011e-02,  3.76338363e-02,\n",
              "        -2.40559056e-02, -2.04217881e-02, -1.86300188e-01,\n",
              "         1.30170649e-02, -8.86941627e-02,  1.04087209e-02,\n",
              "        -1.91993429e-03, -8.69515911e-02,  7.48561025e-02,\n",
              "        -5.86676560e-02, -3.49779539e-02, -9.59384963e-02,\n",
              "         8.87913927e-02, -4.70841601e-02, -4.21307608e-02,\n",
              "        -5.78747839e-02,  7.70150870e-03,  9.45010558e-02,\n",
              "         4.35532182e-02, -1.08006209e-01,  6.65939301e-02,\n",
              "         6.17827512e-02, -1.05762601e-01,  2.52639670e-02,\n",
              "         2.64691133e-02, -4.86222915e-02, -2.77105924e-02,\n",
              "        -7.12920204e-02, -5.17230527e-03, -2.39354968e-02,\n",
              "         2.45296303e-02, -1.53477825e-02, -4.85943183e-02,\n",
              "        -1.68845560e-02, -2.66915821e-02,  1.43339127e-01,\n",
              "        -2.77159102e-02,  1.53734148e-01,  3.73413302e-02,\n",
              "        -7.73702338e-02, -2.17625201e-02,  3.35078388e-02,\n",
              "        -5.21966256e-02,  9.94008929e-02, -1.01352923e-01,\n",
              "        -1.00118846e-01, -6.10493273e-02,  1.02873981e-01,\n",
              "         1.12956464e-02,  7.14505240e-02,  5.53063937e-02,\n",
              "        -1.16956569e-02, -9.96084958e-02, -5.14366757e-03,\n",
              "         2.76387017e-02,  7.49916770e-03,  6.97629228e-02,\n",
              "         8.30541477e-02, -6.64320886e-02, -9.36643109e-02,\n",
              "         6.70733452e-02]], dtype=float32)>"
            ]
          },
          "metadata": {},
          "execution_count": 147
        }
      ]
    },
    {
      "cell_type": "code",
      "source": [
        "def get_max_length(df):\n",
        "    \"\"\"\n",
        "    get max token counts from train data, \n",
        "    so we use this number as fixed length input to RNN cell\n",
        "    \"\"\"\n",
        "    max_length = 0\n",
        "    for row in df['review']:\n",
        "        if len(row.split(\" \")) > max_length:\n",
        "            max_length = len(row.split(\" \"))\n",
        "    return max_length\n",
        "\n",
        "def get_word2vec_enc(reviews):\n",
        "    \"\"\"\n",
        "    get word2vec value for each word in sentence.\n",
        "    concatenate word in numpy array, so we can use it as RNN input\n",
        "    \"\"\"\n",
        "    encoded_reviews = []\n",
        "    for review in reviews:\n",
        "        tokens = review.split(\" \")\n",
        "        word2vec_embedding = embed(tokens)\n",
        "        encoded_reviews.append(word2vec_embedding)\n",
        "    return encoded_reviews\n",
        "        \n",
        "def get_padded_encoded_reviews(encoded_reviews):\n",
        "    \"\"\"\n",
        "    for short sentences, we prepend zero padding so all input to RNN has same length\n",
        "    \"\"\"\n",
        "    padded_reviews_encoding = []\n",
        "    for enc_review in encoded_reviews:\n",
        "        zero_padding_cnt = max_length - enc_review.shape[0]\n",
        "        pad = np.zeros((1, 250))\n",
        "        for i in range(zero_padding_cnt):\n",
        "            enc_review = np.concatenate((pad, enc_review), axis=0)\n",
        "        padded_reviews_encoding.append(enc_review)\n",
        "    return padded_reviews_encoding\n",
        "\n",
        "def sentiment_encode(sentiment):\n",
        "    \"\"\"\n",
        "    return one hot encoding for Y value\n",
        "    \"\"\"\n",
        "    if sentiment == 'positive':\n",
        "        return [1,0]\n",
        "    else:\n",
        "        return [0,1]\n",
        "    \n",
        "def preprocess(df):\n",
        "    \"\"\"\n",
        "    encode text value to numeric value\n",
        "    \"\"\"\n",
        "    # encode words into word2vec\n",
        "    reviews = df['review'].tolist()\n",
        "    \n",
        "    encoded_reviews = get_word2vec_enc(reviews)\n",
        "    padded_encoded_reviews = get_padded_encoded_reviews(encoded_reviews)\n",
        "    # encoded sentiment\n",
        "    sentiments = df['sentiment'].tolist()\n",
        "    encoded_sentiment = [sentiment_encode(sentiment) for sentiment in sentiments]\n",
        "    X = np.array(padded_encoded_reviews)\n",
        "    Y = np.array(encoded_sentiment)\n",
        "    return X, Y"
      ],
      "metadata": {
        "id": "-540MYP1z2JO"
      },
      "id": "-540MYP1z2JO",
      "execution_count": 4,
      "outputs": []
    },
    {
      "cell_type": "code",
      "source": [
        "movie_reviews_train = [\n",
        "         {'review': 'this is the best movie', 'sentiment': 'positive'},\n",
        "         {'review': 'i recommend you watch this movie', 'sentiment': 'positive'},\n",
        "         {'review': 'it was waste of money and time', 'sentiment': 'negative'},\n",
        "         {'review': 'the worst movie ever', 'sentiment': 'negative'}\n",
        "    ]\n",
        "df = pd.DataFrame(movie_reviews_train)\n",
        "\n",
        "# max_length is used for max sequence of input\n",
        "max_length = get_max_length(df)\n",
        "\n",
        "train_X, train_Y = preprocess(df)"
      ],
      "metadata": {
        "id": "YhQ-5ygdz2Mm"
      },
      "id": "YhQ-5ygdz2Mm",
      "execution_count": 5,
      "outputs": []
    },
    {
      "cell_type": "code",
      "source": [
        "# LSTM model\n",
        "model = Sequential()\n",
        "model.add(LSTM(32))\n",
        "model.add(Dense(2, activation='softmax'))"
      ],
      "metadata": {
        "id": "pMb6xJLOz2PP"
      },
      "id": "pMb6xJLOz2PP",
      "execution_count": 6,
      "outputs": []
    },
    {
      "cell_type": "code",
      "source": [
        "model.compile(loss='categorical_crossentropy',\n",
        "              optimizer='adam',\n",
        "              metrics=['accuracy'])"
      ],
      "metadata": {
        "id": "-tiOSN_nz2TP"
      },
      "id": "-tiOSN_nz2TP",
      "execution_count": 7,
      "outputs": []
    },
    {
      "cell_type": "code",
      "source": [
        "print('Train...')\n",
        "model.fit(train_X, train_Y,epochs=50)"
      ],
      "metadata": {
        "colab": {
          "base_uri": "https://localhost:8080/"
        },
        "id": "NLERs_y7z2WT",
        "outputId": "dde8f288-57d4-4f25-f6eb-595478cc0ac6"
      },
      "id": "NLERs_y7z2WT",
      "execution_count": 8,
      "outputs": [
        {
          "output_type": "stream",
          "name": "stdout",
          "text": [
            "Train...\n",
            "Epoch 1/50\n",
            "1/1 [==============================] - 3s 3s/step - loss: 0.7177 - accuracy: 0.2500\n",
            "Epoch 2/50\n",
            "1/1 [==============================] - 0s 20ms/step - loss: 0.7083 - accuracy: 0.2500\n",
            "Epoch 3/50\n",
            "1/1 [==============================] - 0s 14ms/step - loss: 0.6992 - accuracy: 0.5000\n",
            "Epoch 4/50\n",
            "1/1 [==============================] - 0s 17ms/step - loss: 0.6901 - accuracy: 0.5000\n",
            "Epoch 5/50\n",
            "1/1 [==============================] - 0s 15ms/step - loss: 0.6812 - accuracy: 0.5000\n",
            "Epoch 6/50\n",
            "1/1 [==============================] - 0s 16ms/step - loss: 0.6724 - accuracy: 0.7500\n",
            "Epoch 7/50\n",
            "1/1 [==============================] - 0s 16ms/step - loss: 0.6636 - accuracy: 1.0000\n",
            "Epoch 8/50\n",
            "1/1 [==============================] - 0s 15ms/step - loss: 0.6547 - accuracy: 1.0000\n",
            "Epoch 9/50\n",
            "1/1 [==============================] - 0s 13ms/step - loss: 0.6457 - accuracy: 1.0000\n",
            "Epoch 10/50\n",
            "1/1 [==============================] - 0s 14ms/step - loss: 0.6366 - accuracy: 1.0000\n",
            "Epoch 11/50\n",
            "1/1 [==============================] - 0s 14ms/step - loss: 0.6274 - accuracy: 1.0000\n",
            "Epoch 12/50\n",
            "1/1 [==============================] - 0s 14ms/step - loss: 0.6180 - accuracy: 1.0000\n",
            "Epoch 13/50\n",
            "1/1 [==============================] - 0s 19ms/step - loss: 0.6083 - accuracy: 1.0000\n",
            "Epoch 14/50\n",
            "1/1 [==============================] - 0s 19ms/step - loss: 0.5984 - accuracy: 1.0000\n",
            "Epoch 15/50\n",
            "1/1 [==============================] - 0s 13ms/step - loss: 0.5883 - accuracy: 1.0000\n",
            "Epoch 16/50\n",
            "1/1 [==============================] - 0s 27ms/step - loss: 0.5777 - accuracy: 1.0000\n",
            "Epoch 17/50\n",
            "1/1 [==============================] - 0s 17ms/step - loss: 0.5669 - accuracy: 1.0000\n",
            "Epoch 18/50\n",
            "1/1 [==============================] - 0s 14ms/step - loss: 0.5557 - accuracy: 1.0000\n",
            "Epoch 19/50\n",
            "1/1 [==============================] - 0s 21ms/step - loss: 0.5441 - accuracy: 1.0000\n",
            "Epoch 20/50\n",
            "1/1 [==============================] - 0s 13ms/step - loss: 0.5321 - accuracy: 1.0000\n",
            "Epoch 21/50\n",
            "1/1 [==============================] - 0s 15ms/step - loss: 0.5197 - accuracy: 1.0000\n",
            "Epoch 22/50\n",
            "1/1 [==============================] - 0s 18ms/step - loss: 0.5068 - accuracy: 1.0000\n",
            "Epoch 23/50\n",
            "1/1 [==============================] - 0s 15ms/step - loss: 0.4936 - accuracy: 1.0000\n",
            "Epoch 24/50\n",
            "1/1 [==============================] - 0s 20ms/step - loss: 0.4798 - accuracy: 1.0000\n",
            "Epoch 25/50\n",
            "1/1 [==============================] - 0s 16ms/step - loss: 0.4656 - accuracy: 1.0000\n",
            "Epoch 26/50\n",
            "1/1 [==============================] - 0s 17ms/step - loss: 0.4510 - accuracy: 1.0000\n",
            "Epoch 27/50\n",
            "1/1 [==============================] - 0s 18ms/step - loss: 0.4359 - accuracy: 1.0000\n",
            "Epoch 28/50\n",
            "1/1 [==============================] - 0s 16ms/step - loss: 0.4204 - accuracy: 1.0000\n",
            "Epoch 29/50\n",
            "1/1 [==============================] - 0s 14ms/step - loss: 0.4046 - accuracy: 1.0000\n",
            "Epoch 30/50\n",
            "1/1 [==============================] - 0s 17ms/step - loss: 0.3883 - accuracy: 1.0000\n",
            "Epoch 31/50\n",
            "1/1 [==============================] - 0s 15ms/step - loss: 0.3717 - accuracy: 1.0000\n",
            "Epoch 32/50\n",
            "1/1 [==============================] - 0s 16ms/step - loss: 0.3548 - accuracy: 1.0000\n",
            "Epoch 33/50\n",
            "1/1 [==============================] - 0s 16ms/step - loss: 0.3376 - accuracy: 1.0000\n",
            "Epoch 34/50\n",
            "1/1 [==============================] - 0s 14ms/step - loss: 0.3203 - accuracy: 1.0000\n",
            "Epoch 35/50\n",
            "1/1 [==============================] - 0s 16ms/step - loss: 0.3028 - accuracy: 1.0000\n",
            "Epoch 36/50\n",
            "1/1 [==============================] - 0s 18ms/step - loss: 0.2853 - accuracy: 1.0000\n",
            "Epoch 37/50\n",
            "1/1 [==============================] - 0s 13ms/step - loss: 0.2677 - accuracy: 1.0000\n",
            "Epoch 38/50\n",
            "1/1 [==============================] - 0s 21ms/step - loss: 0.2502 - accuracy: 1.0000\n",
            "Epoch 39/50\n",
            "1/1 [==============================] - 0s 15ms/step - loss: 0.2329 - accuracy: 1.0000\n",
            "Epoch 40/50\n",
            "1/1 [==============================] - 0s 20ms/step - loss: 0.2158 - accuracy: 1.0000\n",
            "Epoch 41/50\n",
            "1/1 [==============================] - 0s 16ms/step - loss: 0.1991 - accuracy: 1.0000\n",
            "Epoch 42/50\n",
            "1/1 [==============================] - 0s 15ms/step - loss: 0.1827 - accuracy: 1.0000\n",
            "Epoch 43/50\n",
            "1/1 [==============================] - 0s 15ms/step - loss: 0.1668 - accuracy: 1.0000\n",
            "Epoch 44/50\n",
            "1/1 [==============================] - 0s 14ms/step - loss: 0.1514 - accuracy: 1.0000\n",
            "Epoch 45/50\n",
            "1/1 [==============================] - 0s 15ms/step - loss: 0.1368 - accuracy: 1.0000\n",
            "Epoch 46/50\n",
            "1/1 [==============================] - 0s 15ms/step - loss: 0.1228 - accuracy: 1.0000\n",
            "Epoch 47/50\n",
            "1/1 [==============================] - 0s 12ms/step - loss: 0.1096 - accuracy: 1.0000\n",
            "Epoch 48/50\n",
            "1/1 [==============================] - 0s 13ms/step - loss: 0.0974 - accuracy: 1.0000\n",
            "Epoch 49/50\n",
            "1/1 [==============================] - 0s 15ms/step - loss: 0.0860 - accuracy: 1.0000\n",
            "Epoch 50/50\n",
            "1/1 [==============================] - 0s 21ms/step - loss: 0.0756 - accuracy: 1.0000\n"
          ]
        },
        {
          "output_type": "execute_result",
          "data": {
            "text/plain": [
              "<keras.callbacks.History at 0x7feef6c19210>"
            ]
          },
          "metadata": {},
          "execution_count": 8
        }
      ]
    },
    {
      "cell_type": "code",
      "source": [
        "model.summary()"
      ],
      "metadata": {
        "colab": {
          "base_uri": "https://localhost:8080/"
        },
        "id": "hczNTXThz2Yh",
        "outputId": "2dd71b38-73bd-466a-bbcf-1d007aa37384"
      },
      "id": "hczNTXThz2Yh",
      "execution_count": 9,
      "outputs": [
        {
          "output_type": "stream",
          "name": "stdout",
          "text": [
            "Model: \"sequential\"\n",
            "_________________________________________________________________\n",
            " Layer (type)                Output Shape              Param #   \n",
            "=================================================================\n",
            " lstm (LSTM)                 (None, 32)                36224     \n",
            "                                                                 \n",
            " dense (Dense)               (None, 2)                 66        \n",
            "                                                                 \n",
            "=================================================================\n",
            "Total params: 36,290\n",
            "Trainable params: 36,290\n",
            "Non-trainable params: 0\n",
            "_________________________________________________________________\n"
          ]
        }
      ]
    },
    {
      "cell_type": "code",
      "source": [
        "\"\"\"\n",
        "movie_reviews_train = [\n",
        "         {'review': 'this is the best movie', 'sentiment': 'positive'},\n",
        "         {'review': 'i recommend you watch this movie', 'sentiment': 'positive'},\n",
        "         {'review': 'it was waste of money and time', 'sentiment': 'negative'},\n",
        "         {'review': 'the worst movie ever', 'sentiment': 'negative'}\n",
        "    ]\n",
        "\"\"\"\n",
        "movie_reviews_test = [\n",
        "         {'review': 'it is better movie', 'sentiment': 'positive'},\n",
        "         {'review': 'i suggest you see this movie', 'sentiment': 'positive'},\n",
        "         {'review': 'it was just throwing 20 dollars away', 'sentiment': 'negative'},\n",
        "         {'review': 'worse than any show', 'sentiment': 'negative'},\n",
        "         {'review': 'nice movie, so love it', 'sentiment': 'positive'},\n",
        "         {'review': 'terrible', 'sentiment': 'negative'}\n",
        "    ]\n",
        "test_df = pd.DataFrame(movie_reviews_test)\n",
        "\n",
        "test_X, test_Y = preprocess(test_df)\n",
        "\n",
        "score, acc = model.evaluate(test_X, test_Y, verbose=2)\n",
        "print('Test score:', score)\n",
        "print('Test accuracy:', acc)"
      ],
      "metadata": {
        "colab": {
          "base_uri": "https://localhost:8080/"
        },
        "id": "VIPvM162z2lx",
        "outputId": "c9bc0bcd-fe1a-4900-f3d5-6da971aef3d1"
      },
      "id": "VIPvM162z2lx",
      "execution_count": 11,
      "outputs": [
        {
          "output_type": "stream",
          "name": "stdout",
          "text": [
            "1/1 - 0s - loss: 0.2940 - accuracy: 1.0000 - 25ms/epoch - 25ms/step\n",
            "Test score: 0.2940196990966797\n",
            "Test accuracy: 1.0\n"
          ]
        }
      ]
    },
    {
      "cell_type": "code",
      "source": [
        "#Uso del modelo\n",
        "model.predict(test_X)"
      ],
      "metadata": {
        "colab": {
          "base_uri": "https://localhost:8080/"
        },
        "id": "u-fNAFSY2GyG",
        "outputId": "70d61e2e-a34c-4a55-ae2b-7e405fa2327a"
      },
      "id": "u-fNAFSY2GyG",
      "execution_count": 14,
      "outputs": [
        {
          "output_type": "stream",
          "name": "stdout",
          "text": [
            "1/1 [==============================] - 1s 930ms/step\n"
          ]
        },
        {
          "output_type": "execute_result",
          "data": {
            "text/plain": [
              "array([[0.89246035, 0.10753962],\n",
              "       [0.98067904, 0.01932099],\n",
              "       [0.04087418, 0.95912576],\n",
              "       [0.47198537, 0.52801466],\n",
              "       [0.5862589 , 0.4137411 ],\n",
              "       [0.34063423, 0.6593658 ]], dtype=float32)"
            ]
          },
          "metadata": {},
          "execution_count": 14
        }
      ]
    },
    {
      "cell_type": "code",
      "source": [],
      "metadata": {
        "id": "PjMHmQ66z2qA"
      },
      "id": "PjMHmQ66z2qA",
      "execution_count": null,
      "outputs": []
    },
    {
      "cell_type": "code",
      "source": [],
      "metadata": {
        "id": "8XiB_wyLz2tB"
      },
      "id": "8XiB_wyLz2tB",
      "execution_count": null,
      "outputs": []
    },
    {
      "cell_type": "code",
      "source": [
        "import tensorflow as tf\n",
        "from tensorflow.keras.layers import Dense, LSTM\n",
        "from tensorflow.keras.models import Model\n",
        "from tensorflow.keras.models import Sequential\n",
        "import numpy as np\n",
        "import pandas as pd\n",
        "\n",
        "import tensorflow_hub as hub\n",
        "import numpy as np"
      ],
      "metadata": {
        "id": "3FRB_D7BuoUP"
      },
      "id": "3FRB_D7BuoUP",
      "execution_count": 199,
      "outputs": []
    },
    {
      "cell_type": "code",
      "source": [
        "#Embedings generados\n",
        "embs"
      ],
      "metadata": {
        "colab": {
          "base_uri": "https://localhost:8080/"
        },
        "id": "kzSk2IbM74aq",
        "outputId": "19a9d38a-5ece-4466-8f82-dbbe30e5c7ca"
      },
      "id": "kzSk2IbM74aq",
      "execution_count": 200,
      "outputs": [
        {
          "output_type": "execute_result",
          "data": {
            "text/plain": [
              "array([[0.51468455, 0.58436949, 0.21682587, ..., 0.34635573, 0.1666323 ,\n",
              "        0.30546636],\n",
              "       [0.51028654, 0.35353641, 0.33753583, ..., 0.32996691, 0.59280228,\n",
              "        0.73244585],\n",
              "       [0.41693649, 0.64227729, 0.85457464, ..., 0.69284827, 0.42509769,\n",
              "        0.60163922],\n",
              "       ...,\n",
              "       [0.56957183, 0.09786962, 0.6686673 , ..., 0.2089669 , 0.64605088,\n",
              "        0.10600271],\n",
              "       [0.73463378, 0.30999712, 0.32992138, ..., 0.48624789, 0.3998654 ,\n",
              "        0.75129771],\n",
              "       [0.13234601, 0.46703462, 0.38667039, ..., 0.7380757 , 0.86949884,\n",
              "        0.1347735 ]])"
            ]
          },
          "metadata": {},
          "execution_count": 200
        }
      ]
    },
    {
      "cell_type": "code",
      "source": [
        "embed = {}\n",
        "for k in range(0,embs.shape[0]):\n",
        "  embeding = embs[k]\n",
        "  embed[ list(word2Ind.keys())[k] ] = tf.constant(embeding.reshape((1,len(embeding))))\n"
      ],
      "metadata": {
        "id": "p5FT4V5y6Aui"
      },
      "id": "p5FT4V5y6Aui",
      "execution_count": 201,
      "outputs": []
    },
    {
      "cell_type": "code",
      "source": [
        "#embed"
      ],
      "metadata": {
        "id": "EjFKYYiX4bzF"
      },
      "id": "EjFKYYiX4bzF",
      "execution_count": 198,
      "outputs": []
    },
    {
      "cell_type": "code",
      "source": [
        "# Load Pretrained Word2Vec\n",
        "#embed = hub.load(\"https://tfhub.dev/google/Wiki-words-250/2\")"
      ],
      "metadata": {
        "id": "nZAVMPaDuoXm"
      },
      "id": "nZAVMPaDuoXm",
      "execution_count": 93,
      "outputs": []
    },
    {
      "cell_type": "code",
      "source": [
        "#embed(['Hola'])"
      ],
      "metadata": {
        "id": "b_K7AfZb3MM1"
      },
      "id": "b_K7AfZb3MM1",
      "execution_count": 94,
      "outputs": []
    },
    {
      "cell_type": "code",
      "source": [
        "data = []\n",
        "\n",
        "for secuencia in range(0,len(secuencias)):\n",
        "  a = ''\n",
        "  for lon in range(0,len(secuencias[secuencia])):\n",
        "    a = a + secuencias[secuencia][lon] + ' '\n",
        "  data.append(a.strip())"
      ],
      "metadata": {
        "id": "epMv9UW5GTx3"
      },
      "id": "epMv9UW5GTx3",
      "execution_count": 202,
      "outputs": []
    },
    {
      "cell_type": "code",
      "source": [
        "respuesta = np.where(marca.Respuesta == 1, 'positive','negative')"
      ],
      "metadata": {
        "id": "JE881FYzGUi0"
      },
      "id": "JE881FYzGUi0",
      "execution_count": 203,
      "outputs": []
    },
    {
      "cell_type": "code",
      "source": [
        "df = pd.DataFrame({'secuencia':data,\n",
        "                   'clasificacion':respuesta})\n",
        "df"
      ],
      "metadata": {
        "colab": {
          "base_uri": "https://localhost:8080/",
          "height": 424
        },
        "id": "W0eqTBdjGUmp",
        "outputId": "1c5bc793-0f61-45bc-8a1a-92eb209a846f"
      },
      "id": "W0eqTBdjGUmp",
      "execution_count": 204,
      "outputs": [
        {
          "output_type": "execute_result",
          "data": {
            "text/plain": [
              "                                              secuencia clasificacion\n",
              "0     M K H P Y G Y R W H W L Y A L V V T L M T A L ...      positive\n",
              "1     M P L R T L L C G L L L A V C L G Q H A L A A ...      positive\n",
              "2     M R N T L K A A F K L G V I S A A L L A P F A ...      positive\n",
              "3     M L A K Q I K K A N S R S T L L R K S L L F A ...      positive\n",
              "4     M M S S Q T T Q S S K F S L F L K R G L L L A ...      positive\n",
              "...                                                 ...           ...\n",
              "999   M K T T T P L V H V A S V E K G R S Y E D F Q ...      negative\n",
              "1000  L V H V A S V E K G R S Y E D F Q K V Y N A I ...      negative\n",
              "1001  L V H V A S V E K G R S Y E D F Q K V Y N A I ...      negative\n",
              "1002  M K T L V H V A S V E K G R S Y E D F Q K V Y ...      negative\n",
              "1003  M K T L V H V A S V E K G R S Y E D F Q K V Y ...      negative\n",
              "\n",
              "[1004 rows x 2 columns]"
            ],
            "text/html": [
              "\n",
              "  <div id=\"df-7128405c-0dd2-4ae1-8c7d-df310b39ce0f\">\n",
              "    <div class=\"colab-df-container\">\n",
              "      <div>\n",
              "<style scoped>\n",
              "    .dataframe tbody tr th:only-of-type {\n",
              "        vertical-align: middle;\n",
              "    }\n",
              "\n",
              "    .dataframe tbody tr th {\n",
              "        vertical-align: top;\n",
              "    }\n",
              "\n",
              "    .dataframe thead th {\n",
              "        text-align: right;\n",
              "    }\n",
              "</style>\n",
              "<table border=\"1\" class=\"dataframe\">\n",
              "  <thead>\n",
              "    <tr style=\"text-align: right;\">\n",
              "      <th></th>\n",
              "      <th>secuencia</th>\n",
              "      <th>clasificacion</th>\n",
              "    </tr>\n",
              "  </thead>\n",
              "  <tbody>\n",
              "    <tr>\n",
              "      <th>0</th>\n",
              "      <td>M K H P Y G Y R W H W L Y A L V V T L M T A L ...</td>\n",
              "      <td>positive</td>\n",
              "    </tr>\n",
              "    <tr>\n",
              "      <th>1</th>\n",
              "      <td>M P L R T L L C G L L L A V C L G Q H A L A A ...</td>\n",
              "      <td>positive</td>\n",
              "    </tr>\n",
              "    <tr>\n",
              "      <th>2</th>\n",
              "      <td>M R N T L K A A F K L G V I S A A L L A P F A ...</td>\n",
              "      <td>positive</td>\n",
              "    </tr>\n",
              "    <tr>\n",
              "      <th>3</th>\n",
              "      <td>M L A K Q I K K A N S R S T L L R K S L L F A ...</td>\n",
              "      <td>positive</td>\n",
              "    </tr>\n",
              "    <tr>\n",
              "      <th>4</th>\n",
              "      <td>M M S S Q T T Q S S K F S L F L K R G L L L A ...</td>\n",
              "      <td>positive</td>\n",
              "    </tr>\n",
              "    <tr>\n",
              "      <th>...</th>\n",
              "      <td>...</td>\n",
              "      <td>...</td>\n",
              "    </tr>\n",
              "    <tr>\n",
              "      <th>999</th>\n",
              "      <td>M K T T T P L V H V A S V E K G R S Y E D F Q ...</td>\n",
              "      <td>negative</td>\n",
              "    </tr>\n",
              "    <tr>\n",
              "      <th>1000</th>\n",
              "      <td>L V H V A S V E K G R S Y E D F Q K V Y N A I ...</td>\n",
              "      <td>negative</td>\n",
              "    </tr>\n",
              "    <tr>\n",
              "      <th>1001</th>\n",
              "      <td>L V H V A S V E K G R S Y E D F Q K V Y N A I ...</td>\n",
              "      <td>negative</td>\n",
              "    </tr>\n",
              "    <tr>\n",
              "      <th>1002</th>\n",
              "      <td>M K T L V H V A S V E K G R S Y E D F Q K V Y ...</td>\n",
              "      <td>negative</td>\n",
              "    </tr>\n",
              "    <tr>\n",
              "      <th>1003</th>\n",
              "      <td>M K T L V H V A S V E K G R S Y E D F Q K V Y ...</td>\n",
              "      <td>negative</td>\n",
              "    </tr>\n",
              "  </tbody>\n",
              "</table>\n",
              "<p>1004 rows × 2 columns</p>\n",
              "</div>\n",
              "      <button class=\"colab-df-convert\" onclick=\"convertToInteractive('df-7128405c-0dd2-4ae1-8c7d-df310b39ce0f')\"\n",
              "              title=\"Convert this dataframe to an interactive table.\"\n",
              "              style=\"display:none;\">\n",
              "        \n",
              "  <svg xmlns=\"http://www.w3.org/2000/svg\" height=\"24px\"viewBox=\"0 0 24 24\"\n",
              "       width=\"24px\">\n",
              "    <path d=\"M0 0h24v24H0V0z\" fill=\"none\"/>\n",
              "    <path d=\"M18.56 5.44l.94 2.06.94-2.06 2.06-.94-2.06-.94-.94-2.06-.94 2.06-2.06.94zm-11 1L8.5 8.5l.94-2.06 2.06-.94-2.06-.94L8.5 2.5l-.94 2.06-2.06.94zm10 10l.94 2.06.94-2.06 2.06-.94-2.06-.94-.94-2.06-.94 2.06-2.06.94z\"/><path d=\"M17.41 7.96l-1.37-1.37c-.4-.4-.92-.59-1.43-.59-.52 0-1.04.2-1.43.59L10.3 9.45l-7.72 7.72c-.78.78-.78 2.05 0 2.83L4 21.41c.39.39.9.59 1.41.59.51 0 1.02-.2 1.41-.59l7.78-7.78 2.81-2.81c.8-.78.8-2.07 0-2.86zM5.41 20L4 18.59l7.72-7.72 1.47 1.35L5.41 20z\"/>\n",
              "  </svg>\n",
              "      </button>\n",
              "      \n",
              "  <style>\n",
              "    .colab-df-container {\n",
              "      display:flex;\n",
              "      flex-wrap:wrap;\n",
              "      gap: 12px;\n",
              "    }\n",
              "\n",
              "    .colab-df-convert {\n",
              "      background-color: #E8F0FE;\n",
              "      border: none;\n",
              "      border-radius: 50%;\n",
              "      cursor: pointer;\n",
              "      display: none;\n",
              "      fill: #1967D2;\n",
              "      height: 32px;\n",
              "      padding: 0 0 0 0;\n",
              "      width: 32px;\n",
              "    }\n",
              "\n",
              "    .colab-df-convert:hover {\n",
              "      background-color: #E2EBFA;\n",
              "      box-shadow: 0px 1px 2px rgba(60, 64, 67, 0.3), 0px 1px 3px 1px rgba(60, 64, 67, 0.15);\n",
              "      fill: #174EA6;\n",
              "    }\n",
              "\n",
              "    [theme=dark] .colab-df-convert {\n",
              "      background-color: #3B4455;\n",
              "      fill: #D2E3FC;\n",
              "    }\n",
              "\n",
              "    [theme=dark] .colab-df-convert:hover {\n",
              "      background-color: #434B5C;\n",
              "      box-shadow: 0px 1px 3px 1px rgba(0, 0, 0, 0.15);\n",
              "      filter: drop-shadow(0px 1px 2px rgba(0, 0, 0, 0.3));\n",
              "      fill: #FFFFFF;\n",
              "    }\n",
              "  </style>\n",
              "\n",
              "      <script>\n",
              "        const buttonEl =\n",
              "          document.querySelector('#df-7128405c-0dd2-4ae1-8c7d-df310b39ce0f button.colab-df-convert');\n",
              "        buttonEl.style.display =\n",
              "          google.colab.kernel.accessAllowed ? 'block' : 'none';\n",
              "\n",
              "        async function convertToInteractive(key) {\n",
              "          const element = document.querySelector('#df-7128405c-0dd2-4ae1-8c7d-df310b39ce0f');\n",
              "          const dataTable =\n",
              "            await google.colab.kernel.invokeFunction('convertToInteractive',\n",
              "                                                     [key], {});\n",
              "          if (!dataTable) return;\n",
              "\n",
              "          const docLinkHtml = 'Like what you see? Visit the ' +\n",
              "            '<a target=\"_blank\" href=https://colab.research.google.com/notebooks/data_table.ipynb>data table notebook</a>'\n",
              "            + ' to learn more about interactive tables.';\n",
              "          element.innerHTML = '';\n",
              "          dataTable['output_type'] = 'display_data';\n",
              "          await google.colab.output.renderOutput(dataTable, element);\n",
              "          const docLink = document.createElement('div');\n",
              "          docLink.innerHTML = docLinkHtml;\n",
              "          element.appendChild(docLink);\n",
              "        }\n",
              "      </script>\n",
              "    </div>\n",
              "  </div>\n",
              "  "
            ]
          },
          "metadata": {},
          "execution_count": 204
        }
      ]
    },
    {
      "cell_type": "code",
      "source": [
        "def get_max_length(df):\n",
        "    \"\"\"\n",
        "    get max token counts from train data, \n",
        "    so we use this number as fixed length input to RNN cell\n",
        "    \"\"\"\n",
        "    max_length = 0\n",
        "    for row in df['secuencia']:\n",
        "        if len(row.split(\" \")) > max_length:\n",
        "            max_length = len(row.split(\" \"))\n",
        "    return max_length"
      ],
      "metadata": {
        "id": "sBXhiDfiGUp8"
      },
      "id": "sBXhiDfiGUp8",
      "execution_count": 205,
      "outputs": []
    },
    {
      "cell_type": "code",
      "source": [
        "get_max_length(df)"
      ],
      "metadata": {
        "colab": {
          "base_uri": "https://localhost:8080/"
        },
        "id": "0AM0tT1ITfeR",
        "outputId": "6bf62105-63c0-4488-d36e-18c4d9e03963"
      },
      "id": "0AM0tT1ITfeR",
      "execution_count": 206,
      "outputs": [
        {
          "output_type": "execute_result",
          "data": {
            "text/plain": [
              "4754"
            ]
          },
          "metadata": {},
          "execution_count": 206
        }
      ]
    },
    {
      "cell_type": "code",
      "source": [
        "def get_word2vec_enc(reviews):\n",
        "    \"\"\"\n",
        "    get word2vec value for each word in sentence.\n",
        "    concatenate word in numpy array, so we can use it as RNN input\n",
        "    \"\"\"\n",
        "    encoded_reviews = []\n",
        "    for review in reviews:\n",
        "        tokens = review.split(\" \")\n",
        "        \n",
        "        secu = []\n",
        "        for h in tokens:\n",
        "          amino = embed[h]\n",
        "          secu.append(amino)\n",
        "\n",
        "        word2vec_embedding = tf.reshape(secu, (len(secu),50))\n",
        "        encoded_reviews.append(word2vec_embedding)\n",
        "    return encoded_reviews"
      ],
      "metadata": {
        "id": "eYhrHD0wSZQS"
      },
      "id": "eYhrHD0wSZQS",
      "execution_count": 207,
      "outputs": []
    },
    {
      "cell_type": "code",
      "source": [
        "#proteina = df['secuencia'].tolist()[0].split(\" \")[0:3]\n",
        "#secu = []\n",
        "#for h in proteina:\n",
        "#  amino = embed[h]\n",
        "#  secu.append(amino)\n"
      ],
      "metadata": {
        "id": "RNXJptdRQH40"
      },
      "id": "RNXJptdRQH40",
      "execution_count": 171,
      "outputs": []
    },
    {
      "cell_type": "code",
      "source": [
        "def get_padded_encoded_reviews(encoded_reviews):\n",
        "    \"\"\"\n",
        "    for short sentences, we prepend zero padding so all input to RNN has same length\n",
        "    \"\"\"\n",
        "    padded_reviews_encoding = []\n",
        "    for enc_review in encoded_reviews:\n",
        "        zero_padding_cnt = max_length - enc_review.shape[0]\n",
        "        pad = np.zeros((1, 50))\n",
        "        for i in range(zero_padding_cnt):\n",
        "            enc_review = np.concatenate((pad, enc_review), axis=0)\n",
        "        padded_reviews_encoding.append(enc_review)\n",
        "    return padded_reviews_encoding"
      ],
      "metadata": {
        "id": "eLAMPt6dTz1G"
      },
      "id": "eLAMPt6dTz1G",
      "execution_count": 208,
      "outputs": []
    },
    {
      "cell_type": "code",
      "source": [
        "def clasifi_encode(clasificacion):\n",
        "    \"\"\"\n",
        "    return one hot encoding for Y value\n",
        "    \"\"\"\n",
        "    if clasificacion == 'positive':\n",
        "        return [1,0]\n",
        "    else:\n",
        "        return [0,1]"
      ],
      "metadata": {
        "id": "ey4KNMR2UqDt"
      },
      "id": "ey4KNMR2UqDt",
      "execution_count": 209,
      "outputs": []
    },
    {
      "cell_type": "code",
      "source": [
        "def preprocess(df):\n",
        "    \"\"\"\n",
        "    encode text value to numeric value\n",
        "    \"\"\"\n",
        "    # encode words into word2vec\n",
        "    reviews = df['secuencia'].tolist()\n",
        "    \n",
        "    encoded_reviews = get_word2vec_enc(reviews)\n",
        "    padded_encoded_reviews = get_padded_encoded_reviews(encoded_reviews)\n",
        "    # encoded clasificacion\n",
        "    clasificacion = df['clasificacion'].tolist()\n",
        "    encoded_clasifica = [clasifi_encode(clasifi) for clasifi in clasificacion]\n",
        "    X = np.array(padded_encoded_reviews)\n",
        "    Y = np.array(encoded_clasifica)\n",
        "    return X, Y "
      ],
      "metadata": {
        "id": "Nke4bbgPU6El"
      },
      "id": "Nke4bbgPU6El",
      "execution_count": 210,
      "outputs": []
    },
    {
      "cell_type": "code",
      "source": [
        "#data train y data test\n",
        "df_train = pd.concat([df[0:128],df[182:758]])\n",
        "df_test = pd.concat([df[128:182],df[758:]])"
      ],
      "metadata": {
        "id": "FstjWIAiWJnc"
      },
      "id": "FstjWIAiWJnc",
      "execution_count": 211,
      "outputs": []
    },
    {
      "cell_type": "code",
      "source": [
        "#Train model\n",
        "\n",
        "# max_length is used for max sequence of input\n",
        "max_length = get_max_length(df_train)\n",
        "\n",
        "train_X, train_Y = preprocess(df_train)\n",
        "\n",
        "test_X, test_Y = preprocess(df_test)"
      ],
      "metadata": {
        "id": "yzOv8gkeabTH"
      },
      "id": "yzOv8gkeabTH",
      "execution_count": 212,
      "outputs": []
    },
    {
      "cell_type": "code",
      "source": [
        "# LSTM model\n",
        "model = Sequential()\n",
        "model.add(LSTM(32))\n",
        "model.add(Dense(2, activation='softmax'))"
      ],
      "metadata": {
        "id": "ub6JHOkNabXm"
      },
      "id": "ub6JHOkNabXm",
      "execution_count": 229,
      "outputs": []
    },
    {
      "cell_type": "code",
      "source": [
        "model.compile(loss='categorical_crossentropy',\n",
        "              optimizer='adam',\n",
        "              metrics=['Recall','Precision'])"
      ],
      "metadata": {
        "id": "qfKartlPabbO"
      },
      "id": "qfKartlPabbO",
      "execution_count": 234,
      "outputs": []
    },
    {
      "cell_type": "code",
      "source": [
        "print('Train...')\n",
        "model.fit(train_X, train_Y,\n",
        "          epochs=50,\n",
        "          validation_data=(test_X, test_Y))"
      ],
      "metadata": {
        "colab": {
          "base_uri": "https://localhost:8080/"
        },
        "id": "e87jMnsswSNn",
        "outputId": "63df240e-b376-4cd1-9dbe-7afaa752b499"
      },
      "id": "e87jMnsswSNn",
      "execution_count": 235,
      "outputs": [
        {
          "output_type": "stream",
          "name": "stdout",
          "text": [
            "Train...\n",
            "Epoch 1/50\n",
            "22/22 [==============================] - 35s 1s/step - loss: 0.5110 - recall: 0.8011 - precision: 0.8011 - val_loss: 0.4795 - val_recall: 0.8200 - val_precision: 0.8200\n",
            "Epoch 2/50\n",
            "22/22 [==============================] - 30s 1s/step - loss: 0.4786 - recall: 0.8182 - precision: 0.8182 - val_loss: 0.4739 - val_recall: 0.8200 - val_precision: 0.8200\n",
            "Epoch 3/50\n",
            "22/22 [==============================] - 28s 1s/step - loss: 0.4714 - recall: 0.8182 - precision: 0.8182 - val_loss: 0.4726 - val_recall: 0.8200 - val_precision: 0.8200\n",
            "Epoch 4/50\n",
            "22/22 [==============================] - 29s 1s/step - loss: 0.4695 - recall: 0.8182 - precision: 0.8182 - val_loss: 0.4720 - val_recall: 0.8200 - val_precision: 0.8200\n",
            "Epoch 5/50\n",
            "22/22 [==============================] - 28s 1s/step - loss: 0.4654 - recall: 0.8182 - precision: 0.8182 - val_loss: 0.4708 - val_recall: 0.8200 - val_precision: 0.8200\n",
            "Epoch 6/50\n",
            "22/22 [==============================] - 28s 1s/step - loss: 0.4612 - recall: 0.8182 - precision: 0.8182 - val_loss: 0.4733 - val_recall: 0.8200 - val_precision: 0.8200\n",
            "Epoch 7/50\n",
            "22/22 [==============================] - 28s 1s/step - loss: 0.4603 - recall: 0.8182 - precision: 0.8182 - val_loss: 0.4684 - val_recall: 0.8200 - val_precision: 0.8200\n",
            "Epoch 8/50\n",
            "22/22 [==============================] - 28s 1s/step - loss: 0.4474 - recall: 0.8182 - precision: 0.8182 - val_loss: 0.4669 - val_recall: 0.8200 - val_precision: 0.8200\n",
            "Epoch 9/50\n",
            "22/22 [==============================] - 30s 1s/step - loss: 0.4362 - recall: 0.8182 - precision: 0.8182 - val_loss: 0.4689 - val_recall: 0.8200 - val_precision: 0.8200\n",
            "Epoch 10/50\n",
            "22/22 [==============================] - 28s 1s/step - loss: 0.4268 - recall: 0.8182 - precision: 0.8182 - val_loss: 0.4667 - val_recall: 0.8200 - val_precision: 0.8200\n",
            "Epoch 11/50\n",
            "22/22 [==============================] - 28s 1s/step - loss: 0.4113 - recall: 0.8224 - precision: 0.8224 - val_loss: 0.4702 - val_recall: 0.8233 - val_precision: 0.8233\n",
            "Epoch 12/50\n",
            "22/22 [==============================] - 28s 1s/step - loss: 0.4090 - recall: 0.8267 - precision: 0.8267 - val_loss: 0.4651 - val_recall: 0.8200 - val_precision: 0.8200\n",
            "Epoch 13/50\n",
            "22/22 [==============================] - 28s 1s/step - loss: 0.3839 - recall: 0.8509 - precision: 0.8509 - val_loss: 0.4910 - val_recall: 0.8233 - val_precision: 0.8233\n",
            "Epoch 14/50\n",
            "22/22 [==============================] - 28s 1s/step - loss: 0.3939 - recall: 0.8494 - precision: 0.8494 - val_loss: 0.4645 - val_recall: 0.8333 - val_precision: 0.8333\n",
            "Epoch 15/50\n",
            "22/22 [==============================] - 28s 1s/step - loss: 0.3804 - recall: 0.8509 - precision: 0.8509 - val_loss: 0.4680 - val_recall: 0.8300 - val_precision: 0.8300\n",
            "Epoch 16/50\n",
            "22/22 [==============================] - 30s 1s/step - loss: 0.3640 - recall: 0.8821 - precision: 0.8821 - val_loss: 0.4708 - val_recall: 0.8267 - val_precision: 0.8267\n",
            "Epoch 17/50\n",
            "22/22 [==============================] - 29s 1s/step - loss: 0.3428 - recall: 0.8764 - precision: 0.8764 - val_loss: 0.4771 - val_recall: 0.8000 - val_precision: 0.8000\n",
            "Epoch 18/50\n",
            "22/22 [==============================] - 28s 1s/step - loss: 0.3718 - recall: 0.8452 - precision: 0.8452 - val_loss: 0.4686 - val_recall: 0.8200 - val_precision: 0.8200\n",
            "Epoch 19/50\n",
            "22/22 [==============================] - 28s 1s/step - loss: 0.3911 - recall: 0.8452 - precision: 0.8452 - val_loss: 0.4726 - val_recall: 0.8367 - val_precision: 0.8367\n",
            "Epoch 20/50\n",
            "22/22 [==============================] - 28s 1s/step - loss: 0.3718 - recall: 0.8750 - precision: 0.8750 - val_loss: 0.4931 - val_recall: 0.8200 - val_precision: 0.8200\n",
            "Epoch 21/50\n",
            "22/22 [==============================] - 28s 1s/step - loss: 0.4001 - recall: 0.8338 - precision: 0.8338 - val_loss: 0.4639 - val_recall: 0.8233 - val_precision: 0.8233\n",
            "Epoch 22/50\n",
            "22/22 [==============================] - 30s 1s/step - loss: 0.4118 - recall: 0.8509 - precision: 0.8509 - val_loss: 0.4738 - val_recall: 0.8233 - val_precision: 0.8233\n",
            "Epoch 23/50\n",
            "22/22 [==============================] - 28s 1s/step - loss: 0.3860 - recall: 0.8736 - precision: 0.8736 - val_loss: 0.4666 - val_recall: 0.8367 - val_precision: 0.8367\n",
            "Epoch 24/50\n",
            "22/22 [==============================] - 28s 1s/step - loss: 0.3694 - recall: 0.8793 - precision: 0.8793 - val_loss: 0.4734 - val_recall: 0.8400 - val_precision: 0.8400\n",
            "Epoch 25/50\n",
            "22/22 [==============================] - 28s 1s/step - loss: 0.3937 - recall: 0.8523 - precision: 0.8523 - val_loss: 0.4715 - val_recall: 0.8367 - val_precision: 0.8367\n",
            "Epoch 26/50\n",
            "22/22 [==============================] - 32s 1s/step - loss: 0.3652 - recall: 0.8793 - precision: 0.8793 - val_loss: 0.4612 - val_recall: 0.8233 - val_precision: 0.8233\n",
            "Epoch 27/50\n",
            "22/22 [==============================] - 28s 1s/step - loss: 0.3212 - recall: 0.8892 - precision: 0.8892 - val_loss: 0.5327 - val_recall: 0.8233 - val_precision: 0.8233\n",
            "Epoch 28/50\n",
            "22/22 [==============================] - 28s 1s/step - loss: 0.4213 - recall: 0.8494 - precision: 0.8494 - val_loss: 0.4811 - val_recall: 0.8233 - val_precision: 0.8233\n",
            "Epoch 29/50\n",
            "22/22 [==============================] - 30s 1s/step - loss: 0.3828 - recall: 0.8778 - precision: 0.8778 - val_loss: 0.4788 - val_recall: 0.8400 - val_precision: 0.8400\n",
            "Epoch 30/50\n",
            "22/22 [==============================] - 28s 1s/step - loss: 0.3751 - recall: 0.8707 - precision: 0.8707 - val_loss: 0.4756 - val_recall: 0.8400 - val_precision: 0.8400\n",
            "Epoch 31/50\n",
            "22/22 [==============================] - 28s 1s/step - loss: 0.3697 - recall: 0.8750 - precision: 0.8750 - val_loss: 0.4726 - val_recall: 0.8400 - val_precision: 0.8400\n",
            "Epoch 32/50\n",
            "22/22 [==============================] - 28s 1s/step - loss: 0.3680 - recall: 0.8764 - precision: 0.8764 - val_loss: 0.4809 - val_recall: 0.8400 - val_precision: 0.8400\n",
            "Epoch 33/50\n",
            "22/22 [==============================] - 28s 1s/step - loss: 0.3629 - recall: 0.8807 - precision: 0.8807 - val_loss: 0.4698 - val_recall: 0.8300 - val_precision: 0.8300\n",
            "Epoch 34/50\n",
            "22/22 [==============================] - 28s 1s/step - loss: 0.3597 - recall: 0.8793 - precision: 0.8793 - val_loss: 0.4659 - val_recall: 0.8267 - val_precision: 0.8267\n",
            "Epoch 35/50\n",
            "22/22 [==============================] - 30s 1s/step - loss: 0.3488 - recall: 0.8892 - precision: 0.8892 - val_loss: 0.4667 - val_recall: 0.8267 - val_precision: 0.8267\n",
            "Epoch 36/50\n",
            "22/22 [==============================] - 28s 1s/step - loss: 0.3388 - recall: 0.8906 - precision: 0.8906 - val_loss: 0.4662 - val_recall: 0.8267 - val_precision: 0.8267\n",
            "Epoch 37/50\n",
            "22/22 [==============================] - 28s 1s/step - loss: 0.3363 - recall: 0.8906 - precision: 0.8906 - val_loss: 0.4872 - val_recall: 0.8300 - val_precision: 0.8300\n",
            "Epoch 38/50\n",
            "22/22 [==============================] - 28s 1s/step - loss: 0.3615 - recall: 0.8636 - precision: 0.8636 - val_loss: 0.4712 - val_recall: 0.8233 - val_precision: 0.8233\n",
            "Epoch 39/50\n",
            "22/22 [==============================] - 28s 1s/step - loss: 0.3533 - recall: 0.8807 - precision: 0.8807 - val_loss: 0.4757 - val_recall: 0.8200 - val_precision: 0.8200\n",
            "Epoch 40/50\n",
            "22/22 [==============================] - 28s 1s/step - loss: 0.3371 - recall: 0.8892 - precision: 0.8892 - val_loss: 0.4764 - val_recall: 0.8333 - val_precision: 0.8333\n",
            "Epoch 41/50\n",
            "22/22 [==============================] - 28s 1s/step - loss: 0.3416 - recall: 0.8821 - precision: 0.8821 - val_loss: 0.5048 - val_recall: 0.7933 - val_precision: 0.7933\n",
            "Epoch 42/50\n",
            "22/22 [==============================] - 30s 1s/step - loss: 0.3764 - recall: 0.8693 - precision: 0.8693 - val_loss: 0.4885 - val_recall: 0.8167 - val_precision: 0.8167\n",
            "Epoch 43/50\n",
            "22/22 [==============================] - 28s 1s/step - loss: 0.3591 - recall: 0.8736 - precision: 0.8736 - val_loss: 0.4764 - val_recall: 0.8200 - val_precision: 0.8200\n",
            "Epoch 44/50\n",
            "22/22 [==============================] - 28s 1s/step - loss: 0.3536 - recall: 0.8849 - precision: 0.8849 - val_loss: 0.4713 - val_recall: 0.8233 - val_precision: 0.8233\n",
            "Epoch 45/50\n",
            "22/22 [==============================] - 28s 1s/step - loss: 0.3428 - recall: 0.8807 - precision: 0.8807 - val_loss: 0.4719 - val_recall: 0.8167 - val_precision: 0.8167\n",
            "Epoch 46/50\n",
            "22/22 [==============================] - 28s 1s/step - loss: 0.3424 - recall: 0.8864 - precision: 0.8864 - val_loss: 0.4714 - val_recall: 0.8300 - val_precision: 0.8300\n",
            "Epoch 47/50\n",
            "22/22 [==============================] - 28s 1s/step - loss: 0.3395 - recall: 0.8821 - precision: 0.8821 - val_loss: 0.4735 - val_recall: 0.8300 - val_precision: 0.8300\n",
            "Epoch 48/50\n",
            "22/22 [==============================] - 28s 1s/step - loss: 0.3324 - recall: 0.8906 - precision: 0.8906 - val_loss: 0.4693 - val_recall: 0.8233 - val_precision: 0.8233\n",
            "Epoch 49/50\n",
            "22/22 [==============================] - 30s 1s/step - loss: 0.3323 - recall: 0.8849 - precision: 0.8849 - val_loss: 0.4729 - val_recall: 0.8300 - val_precision: 0.8300\n",
            "Epoch 50/50\n",
            "22/22 [==============================] - 28s 1s/step - loss: 0.3279 - recall: 0.8977 - precision: 0.8977 - val_loss: 0.4722 - val_recall: 0.8233 - val_precision: 0.8233\n"
          ]
        },
        {
          "output_type": "execute_result",
          "data": {
            "text/plain": [
              "<keras.callbacks.History at 0x7feedfeccf90>"
            ]
          },
          "metadata": {},
          "execution_count": 235
        }
      ]
    },
    {
      "cell_type": "code",
      "source": [
        "#Guardar modelo\n",
        "model.save('clasificacion_proteinas_degrada_plastico.h5')"
      ],
      "metadata": {
        "id": "9G8oUHR6seS4"
      },
      "id": "9G8oUHR6seS4",
      "execution_count": 236,
      "outputs": []
    },
    {
      "cell_type": "code",
      "source": [
        "model.summary()"
      ],
      "metadata": {
        "colab": {
          "base_uri": "https://localhost:8080/"
        },
        "id": "dncAGEoZabhC",
        "outputId": "13f7ddbd-1751-4098-9c49-5131f02057ae"
      },
      "id": "dncAGEoZabhC",
      "execution_count": 237,
      "outputs": [
        {
          "output_type": "stream",
          "name": "stdout",
          "text": [
            "Model: \"sequential_3\"\n",
            "_________________________________________________________________\n",
            " Layer (type)                Output Shape              Param #   \n",
            "=================================================================\n",
            " lstm_3 (LSTM)               (None, 32)                10624     \n",
            "                                                                 \n",
            " dense_3 (Dense)             (None, 2)                 66        \n",
            "                                                                 \n",
            "=================================================================\n",
            "Total params: 10,690\n",
            "Trainable params: 10,690\n",
            "Non-trainable params: 0\n",
            "_________________________________________________________________\n"
          ]
        }
      ]
    },
    {
      "cell_type": "code",
      "source": [
        "#metricas train\n",
        "model.evaluate(train_X, train_Y, verbose=2)\n"
      ],
      "metadata": {
        "colab": {
          "base_uri": "https://localhost:8080/"
        },
        "id": "Ha4WT70EtNqt",
        "outputId": "a16100dc-6148-488a-d65e-257c399de1a5"
      },
      "id": "Ha4WT70EtNqt",
      "execution_count": 238,
      "outputs": [
        {
          "output_type": "stream",
          "name": "stdout",
          "text": [
            "22/22 - 12s - loss: 0.3110 - recall: 0.8935 - precision: 0.8935 - 12s/epoch - 536ms/step\n"
          ]
        },
        {
          "output_type": "execute_result",
          "data": {
            "text/plain": [
              "[0.31098881363868713, 0.8934659361839294, 0.8934659361839294]"
            ]
          },
          "metadata": {},
          "execution_count": 238
        }
      ]
    },
    {
      "cell_type": "code",
      "source": [
        "model.evaluate(test_X, test_Y, verbose=2)\n"
      ],
      "metadata": {
        "colab": {
          "base_uri": "https://localhost:8080/"
        },
        "id": "ujkDf-i_abkJ",
        "outputId": "2079db85-fa14-4278-a321-a731f4b1c6af"
      },
      "id": "ujkDf-i_abkJ",
      "execution_count": 240,
      "outputs": [
        {
          "output_type": "stream",
          "name": "stdout",
          "text": [
            "10/10 - 4s - loss: 0.4722 - recall: 0.8233 - precision: 0.8233 - 4s/epoch - 386ms/step\n"
          ]
        },
        {
          "output_type": "execute_result",
          "data": {
            "text/plain": [
              "[0.47224000096321106, 0.8233333230018616, 0.8233333230018616]"
            ]
          },
          "metadata": {},
          "execution_count": 240
        }
      ]
    },
    {
      "cell_type": "code",
      "source": [
        "#Uso del modelo\n",
        "model.predict(test_X)"
      ],
      "metadata": {
        "id": "CD1YeXMvv03U",
        "colab": {
          "base_uri": "https://localhost:8080/"
        },
        "outputId": "f547d13b-1610-46d9-b960-2ea3c8fd8c28"
      },
      "id": "CD1YeXMvv03U",
      "execution_count": 241,
      "outputs": [
        {
          "output_type": "stream",
          "name": "stdout",
          "text": [
            "10/10 [==============================] - 5s 378ms/step\n"
          ]
        },
        {
          "output_type": "execute_result",
          "data": {
            "text/plain": [
              "array([[0.9402597 , 0.05974033],\n",
              "       [0.9224509 , 0.07754905],\n",
              "       [0.922451  , 0.07754898],\n",
              "       [0.0610667 , 0.9389333 ],\n",
              "       [0.04118874, 0.95881116],\n",
              "       [0.11935549, 0.88064444],\n",
              "       [0.05498336, 0.9450166 ],\n",
              "       [0.12692307, 0.8730769 ],\n",
              "       [0.2966096 , 0.7033904 ],\n",
              "       [0.09457639, 0.90542364],\n",
              "       [0.05928738, 0.9407126 ],\n",
              "       [0.1487014 , 0.85129863],\n",
              "       [0.18053721, 0.8194627 ],\n",
              "       [0.18053725, 0.8194627 ],\n",
              "       [0.13137501, 0.86862487],\n",
              "       [0.12480909, 0.8751908 ],\n",
              "       [0.10704549, 0.8929545 ],\n",
              "       [0.15367164, 0.8463284 ],\n",
              "       [0.14329939, 0.85670066],\n",
              "       [0.44602808, 0.55397195],\n",
              "       [0.10209469, 0.89790523],\n",
              "       [0.12907803, 0.87092197],\n",
              "       [0.12907803, 0.87092197],\n",
              "       [0.06942193, 0.930578  ],\n",
              "       [0.43854758, 0.5614523 ],\n",
              "       [0.28784573, 0.7121542 ],\n",
              "       [0.1942001 , 0.80579984],\n",
              "       [0.1821807 , 0.8178193 ],\n",
              "       [0.14560108, 0.85439885],\n",
              "       [0.8907885 , 0.1092115 ],\n",
              "       [0.16695437, 0.83304566],\n",
              "       [0.2938176 , 0.70618236],\n",
              "       [0.1605502 , 0.8394497 ],\n",
              "       [0.14553347, 0.85446656],\n",
              "       [0.27368376, 0.7263163 ],\n",
              "       [0.08985826, 0.9101418 ],\n",
              "       [0.5154272 , 0.48457286],\n",
              "       [0.15185823, 0.84814173],\n",
              "       [0.13699616, 0.8630039 ],\n",
              "       [0.10209479, 0.89790523],\n",
              "       [0.24143784, 0.75856215],\n",
              "       [0.10704549, 0.8929545 ],\n",
              "       [0.11931854, 0.88068146],\n",
              "       [0.05140272, 0.94859725],\n",
              "       [0.14532793, 0.85467213],\n",
              "       [0.09124658, 0.90875334],\n",
              "       [0.84591466, 0.15408541],\n",
              "       [0.7899556 , 0.21004441],\n",
              "       [0.04547432, 0.95452565],\n",
              "       [0.1977887 , 0.8022113 ],\n",
              "       [0.04510254, 0.9548974 ],\n",
              "       [0.08057392, 0.919426  ],\n",
              "       [0.26134026, 0.7386597 ],\n",
              "       [0.15417647, 0.8458235 ],\n",
              "       [0.10310172, 0.89689827],\n",
              "       [0.3475026 , 0.65249735],\n",
              "       [0.15478857, 0.84521145],\n",
              "       [0.03830237, 0.96169764],\n",
              "       [0.07745528, 0.9225447 ],\n",
              "       [0.19771601, 0.8022839 ],\n",
              "       [0.14502415, 0.8549759 ],\n",
              "       [0.69264066, 0.30735928],\n",
              "       [0.18657838, 0.8134216 ],\n",
              "       [0.1845108 , 0.8154892 ],\n",
              "       [0.1845108 , 0.8154892 ],\n",
              "       [0.11206458, 0.88793546],\n",
              "       [0.03032657, 0.96967334],\n",
              "       [0.15405905, 0.8459408 ],\n",
              "       [0.12152917, 0.8784707 ],\n",
              "       [0.10196321, 0.8980367 ],\n",
              "       [0.1422847 , 0.8577153 ],\n",
              "       [0.0345716 , 0.96542835],\n",
              "       [0.03837476, 0.9616252 ],\n",
              "       [0.06628272, 0.93371737],\n",
              "       [0.39566678, 0.6043332 ],\n",
              "       [0.10925601, 0.8907439 ],\n",
              "       [0.03662581, 0.9633742 ],\n",
              "       [0.1628956 , 0.83710444],\n",
              "       [0.10666645, 0.89333355],\n",
              "       [0.10666645, 0.89333355],\n",
              "       [0.08445397, 0.91554594],\n",
              "       [0.09712192, 0.9028781 ],\n",
              "       [0.08445399, 0.91554594],\n",
              "       [0.1778466 , 0.8221534 ],\n",
              "       [0.06437018, 0.93562984],\n",
              "       [0.0568184 , 0.9431816 ],\n",
              "       [0.17784657, 0.8221535 ],\n",
              "       [0.12528658, 0.8747134 ],\n",
              "       [0.17784657, 0.8221535 ],\n",
              "       [0.12528658, 0.8747134 ],\n",
              "       [0.2392576 , 0.7607424 ],\n",
              "       [0.09778702, 0.902213  ],\n",
              "       [0.09713706, 0.902863  ],\n",
              "       [0.1778466 , 0.8221534 ],\n",
              "       [0.06437016, 0.93562984],\n",
              "       [0.53665334, 0.46334663],\n",
              "       [0.11194117, 0.88805884],\n",
              "       [0.25560713, 0.7443929 ],\n",
              "       [0.34677315, 0.6532268 ],\n",
              "       [0.03425654, 0.9657434 ],\n",
              "       [0.40811935, 0.5918806 ],\n",
              "       [0.09712192, 0.9028781 ],\n",
              "       [0.09712192, 0.9028781 ],\n",
              "       [0.09712192, 0.9028781 ],\n",
              "       [0.13162875, 0.86837125],\n",
              "       [0.10494255, 0.8950574 ],\n",
              "       [0.50675154, 0.49324846],\n",
              "       [0.04865593, 0.95134413],\n",
              "       [0.09391855, 0.90608144],\n",
              "       [0.1305689 , 0.8694312 ],\n",
              "       [0.49555787, 0.5044421 ],\n",
              "       [0.08445399, 0.91554594],\n",
              "       [0.09336012, 0.90663993],\n",
              "       [0.03425652, 0.9657434 ],\n",
              "       [0.03425652, 0.9657434 ],\n",
              "       [0.13056892, 0.8694311 ],\n",
              "       [0.04471374, 0.95528615],\n",
              "       [0.09352824, 0.9064718 ],\n",
              "       [0.32934397, 0.67065597],\n",
              "       [0.09712192, 0.9028781 ],\n",
              "       [0.11194117, 0.88805884],\n",
              "       [0.25560713, 0.7443929 ],\n",
              "       [0.03537285, 0.96462715],\n",
              "       [0.08445399, 0.91554594],\n",
              "       [0.0833699 , 0.91662997],\n",
              "       [0.04383743, 0.9561625 ],\n",
              "       [0.06253242, 0.9374676 ],\n",
              "       [0.15940204, 0.840598  ],\n",
              "       [0.3838407 , 0.6161593 ],\n",
              "       [0.22173025, 0.77826977],\n",
              "       [0.18491141, 0.81508857],\n",
              "       [0.13532357, 0.86467636],\n",
              "       [0.03031839, 0.96968156],\n",
              "       [0.09833694, 0.9016631 ],\n",
              "       [0.06379002, 0.93621   ],\n",
              "       [0.03425261, 0.9657473 ],\n",
              "       [0.03425261, 0.9657473 ],\n",
              "       [0.03425261, 0.9657473 ],\n",
              "       [0.21893007, 0.7810699 ],\n",
              "       [0.33343127, 0.66656864],\n",
              "       [0.33598632, 0.6640136 ],\n",
              "       [0.03876168, 0.9612384 ],\n",
              "       [0.7582314 , 0.24176852],\n",
              "       [0.06857111, 0.93142897],\n",
              "       [0.06857111, 0.93142897],\n",
              "       [0.03659939, 0.9634006 ],\n",
              "       [0.09712173, 0.9028783 ],\n",
              "       [0.03425654, 0.9657434 ],\n",
              "       [0.2644014 , 0.7355987 ],\n",
              "       [0.26440144, 0.73559856],\n",
              "       [0.15407938, 0.8459205 ],\n",
              "       [0.1001352 , 0.8998648 ],\n",
              "       [0.08804584, 0.9119543 ],\n",
              "       [0.12444769, 0.8755523 ],\n",
              "       [0.07699446, 0.92300546],\n",
              "       [0.23578507, 0.7642149 ],\n",
              "       [0.08916537, 0.9108347 ],\n",
              "       [0.08445396, 0.91554594],\n",
              "       [0.08445397, 0.91554594],\n",
              "       [0.08445397, 0.91554594],\n",
              "       [0.08445397, 0.91554594],\n",
              "       [0.08445397, 0.91554594],\n",
              "       [0.08445396, 0.91554594],\n",
              "       [0.09812476, 0.90187526],\n",
              "       [0.09712192, 0.9028781 ],\n",
              "       [0.08445396, 0.91554594],\n",
              "       [0.08445396, 0.91554594],\n",
              "       [0.08445396, 0.91554594],\n",
              "       [0.07335842, 0.9266416 ],\n",
              "       [0.06280474, 0.93719524],\n",
              "       [0.09086771, 0.90913224],\n",
              "       [0.09086771, 0.90913224],\n",
              "       [0.06280476, 0.93719524],\n",
              "       [0.2097428 , 0.7902571 ],\n",
              "       [0.2097428 , 0.7902571 ],\n",
              "       [0.1778466 , 0.8221534 ],\n",
              "       [0.06437018, 0.93562984],\n",
              "       [0.6350954 , 0.36490464],\n",
              "       [0.17955159, 0.8204484 ],\n",
              "       [0.08915814, 0.9108419 ],\n",
              "       [0.17955159, 0.8204484 ],\n",
              "       [0.17955159, 0.8204484 ],\n",
              "       [0.17955159, 0.8204484 ],\n",
              "       [0.25614062, 0.74385935],\n",
              "       [0.19858415, 0.80141586],\n",
              "       [0.17955159, 0.8204484 ],\n",
              "       [0.17955159, 0.8204484 ],\n",
              "       [0.17955159, 0.8204484 ],\n",
              "       [0.17955159, 0.8204484 ],\n",
              "       [0.3334309 , 0.66656905],\n",
              "       [0.33385602, 0.6661441 ],\n",
              "       [0.3334311 , 0.6665689 ],\n",
              "       [0.08445399, 0.91554594],\n",
              "       [0.08445399, 0.91554594],\n",
              "       [0.22048989, 0.77951   ],\n",
              "       [0.26726973, 0.73273027],\n",
              "       [0.06110296, 0.9388972 ],\n",
              "       [0.06110269, 0.93889725],\n",
              "       [0.10224277, 0.8977573 ],\n",
              "       [0.05627771, 0.9437223 ],\n",
              "       [0.17789687, 0.8221031 ],\n",
              "       [0.3271953 , 0.6728047 ],\n",
              "       [0.12666959, 0.8733303 ],\n",
              "       [0.08688805, 0.913112  ],\n",
              "       [0.07032285, 0.9296771 ],\n",
              "       [0.08829179, 0.91170824],\n",
              "       [0.43428767, 0.5657123 ],\n",
              "       [0.43428767, 0.5657123 ],\n",
              "       [0.252118  , 0.747882  ],\n",
              "       [0.2513295 , 0.74867046],\n",
              "       [0.06439384, 0.93560606],\n",
              "       [0.11238392, 0.8876162 ],\n",
              "       [0.08304789, 0.9169521 ],\n",
              "       [0.10969476, 0.8903053 ],\n",
              "       [0.14116172, 0.8588382 ],\n",
              "       [0.2513295 , 0.74867046],\n",
              "       [0.06110296, 0.9388972 ],\n",
              "       [0.13561663, 0.8643833 ],\n",
              "       [0.04538079, 0.9546192 ],\n",
              "       [0.06166242, 0.9383375 ],\n",
              "       [0.06166242, 0.9383375 ],\n",
              "       [0.06416056, 0.9358394 ],\n",
              "       [0.4342878 , 0.5657123 ],\n",
              "       [0.4342878 , 0.5657123 ],\n",
              "       [0.4342876 , 0.5657124 ],\n",
              "       [0.4342876 , 0.5657124 ],\n",
              "       [0.04679301, 0.95320696],\n",
              "       [0.11430723, 0.8856928 ],\n",
              "       [0.31672052, 0.6832795 ],\n",
              "       [0.06166242, 0.9383375 ],\n",
              "       [0.06166242, 0.9383375 ],\n",
              "       [0.06166242, 0.9383375 ],\n",
              "       [0.06166242, 0.9383375 ],\n",
              "       [0.06166242, 0.9383375 ],\n",
              "       [0.06166242, 0.9383375 ],\n",
              "       [0.06166242, 0.9383375 ],\n",
              "       [0.06166242, 0.9383375 ],\n",
              "       [0.06166242, 0.9383375 ],\n",
              "       [0.06166242, 0.9383375 ],\n",
              "       [0.06166242, 0.9383375 ],\n",
              "       [0.06166242, 0.9383375 ],\n",
              "       [0.06166242, 0.9383375 ],\n",
              "       [0.06166242, 0.9383375 ],\n",
              "       [0.06166242, 0.9383375 ],\n",
              "       [0.11551408, 0.88448596],\n",
              "       [0.4342876 , 0.5657124 ],\n",
              "       [0.32547754, 0.6745224 ],\n",
              "       [0.1881788 , 0.8118212 ],\n",
              "       [0.22034736, 0.7796526 ],\n",
              "       [0.06110296, 0.9388972 ],\n",
              "       [0.14798182, 0.8520182 ],\n",
              "       [0.04728806, 0.952712  ],\n",
              "       [0.06932023, 0.9306798 ],\n",
              "       [0.2625073 , 0.7374926 ],\n",
              "       [0.28340378, 0.7165961 ],\n",
              "       [0.28340375, 0.7165962 ],\n",
              "       [0.13996431, 0.8600358 ],\n",
              "       [0.07916462, 0.9208354 ],\n",
              "       [0.07916462, 0.9208354 ],\n",
              "       [0.10698949, 0.89301044],\n",
              "       [0.16767663, 0.83232343],\n",
              "       [0.10142235, 0.8985776 ],\n",
              "       [0.2834038 , 0.7165961 ],\n",
              "       [0.28340378, 0.7165961 ],\n",
              "       [0.11072033, 0.8892796 ],\n",
              "       [0.08450551, 0.91549444],\n",
              "       [0.04793615, 0.95206386],\n",
              "       [0.15082905, 0.84917086],\n",
              "       [0.08084719, 0.9191528 ],\n",
              "       [0.3136416 , 0.68635833],\n",
              "       [0.3136416 , 0.68635833],\n",
              "       [0.3136416 , 0.68635833],\n",
              "       [0.3136416 , 0.68635833],\n",
              "       [0.08262145, 0.91737854],\n",
              "       [0.28340378, 0.7165961 ],\n",
              "       [0.28340378, 0.7165962 ],\n",
              "       [0.28340387, 0.7165961 ],\n",
              "       [0.28340378, 0.7165962 ],\n",
              "       [0.1854686 , 0.8145314 ],\n",
              "       [0.06808967, 0.9319104 ],\n",
              "       [0.06808967, 0.9319104 ],\n",
              "       [0.5231953 , 0.4768046 ],\n",
              "       [0.0743793 , 0.9256207 ],\n",
              "       [0.11858822, 0.88141173],\n",
              "       [0.23208141, 0.76791865],\n",
              "       [0.06603674, 0.93396336],\n",
              "       [0.06603681, 0.93396324],\n",
              "       [0.19595858, 0.8040413 ],\n",
              "       [0.08365104, 0.916349  ],\n",
              "       [0.06448857, 0.9355116 ],\n",
              "       [0.19595823, 0.80404174],\n",
              "       [0.04358202, 0.956418  ],\n",
              "       [0.04358201, 0.956418  ],\n",
              "       [0.06110296, 0.9388972 ],\n",
              "       [0.06110237, 0.9388976 ],\n",
              "       [0.06110291, 0.9388972 ],\n",
              "       [0.06110296, 0.9388971 ],\n",
              "       [0.06110296, 0.9388971 ],\n",
              "       [0.06110297, 0.938897  ],\n",
              "       [0.06110297, 0.938897  ]], dtype=float32)"
            ]
          },
          "metadata": {},
          "execution_count": 241
        }
      ]
    }
  ],
  "metadata": {
    "kernelspec": {
      "display_name": "Python 3 (ipykernel)",
      "language": "python",
      "name": "python3"
    },
    "language_info": {
      "codemirror_mode": {
        "name": "ipython",
        "version": 3
      },
      "file_extension": ".py",
      "mimetype": "text/x-python",
      "name": "python",
      "nbconvert_exporter": "python",
      "pygments_lexer": "ipython3",
      "version": "3.8.13"
    },
    "colab": {
      "provenance": []
    }
  },
  "nbformat": 4,
  "nbformat_minor": 5
}